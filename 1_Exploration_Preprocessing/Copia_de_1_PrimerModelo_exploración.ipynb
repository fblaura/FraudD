{
  "nbformat": 4,
  "nbformat_minor": 0,
  "metadata": {
    "colab": {
      "name": "Copia de 1.PrimerModelo_exploración.ipynb",
      "provenance": [],
      "collapsed_sections": [
        "XIWTeafZh-mM",
        "DM77omGraajy"
      ],
      "toc_visible": true
    },
    "kernelspec": {
      "name": "python3",
      "display_name": "Python 3"
    },
    "language_info": {
      "name": "python"
    }
  },
  "cells": [
    {
      "cell_type": "markdown",
      "metadata": {
        "id": "nXYS8PiXxYGZ"
      },
      "source": [
        "\n",
        "[![Open In Colab](https://colab.research.google.com/assets/colab-badge.svg)](https://colab.research.google.com/github/fblaura/FraudD/blob/main/4_Supervised_models/1_Model_training_for_dataset_with_StandardScaler_and_SMOTE0_1.ipynb)"
      ]
    },
    {
      "cell_type": "markdown",
      "metadata": {
        "id": "slYf1ggJVW9G"
      },
      "source": [
        "Throughout this notebook you will be working with the original Kaggle competition data, to ensure code execution, it is recommended that you obtain your own personal Kaggle key to download the datasets. You can find more information about the step-by-step for linking Kaggle with Colab at the following link: [Download Kaggle data in Google Colab](https://www.kaggle.com/general/74235)"
      ]
    },
    {
      "cell_type": "markdown",
      "metadata": {
        "id": "lmrGA6F5yXP7"
      },
      "source": [
        "**Please execute all instructions as indicated.** \n",
        "\n",
        "\n",
        "**Some functions and graphs are mentioned in Spanish, please translate them if required.**"
      ]
    },
    {
      "cell_type": "markdown",
      "metadata": {
        "id": "xumFjeUOj1NQ"
      },
      "source": [
        "# **1. Libraries installation** "
      ]
    },
    {
      "cell_type": "code",
      "metadata": {
        "id": "gw8PyQEitzup"
      },
      "source": [
        "import pandas as pd\n",
        "import seaborn as sns\n",
        "import matplotlib.pyplot as plt\n",
        "import numpy as np\n",
        "import math\n",
        "from pandas_profiling import ProfileReport\n",
        "from collections import Counter\n",
        "from imblearn.over_sampling import SMOTE\n",
        "from sklearn.preprocessing import Normalizer, StandardScaler"
      ],
      "execution_count": 2,
      "outputs": []
    },
    {
      "cell_type": "code",
      "metadata": {
        "id": "wrMNDFDmlFLk"
      },
      "source": [
        "import datetime\n"
      ],
      "execution_count": 36,
      "outputs": []
    },
    {
      "cell_type": "code",
      "metadata": {
        "id": "MTpB79uw6RRJ"
      },
      "source": [
        "from sklearn.preprocessing import LabelEncoder\n"
      ],
      "execution_count": 3,
      "outputs": []
    },
    {
      "cell_type": "code",
      "metadata": {
        "id": "EieqVgs2irYZ"
      },
      "source": [
        "from google.colab import files"
      ],
      "execution_count": 4,
      "outputs": []
    },
    {
      "cell_type": "markdown",
      "metadata": {
        "id": "SzCtHIx2kn66"
      },
      "source": [
        "# **2. Information on the subject of the project**"
      ]
    },
    {
      "cell_type": "markdown",
      "metadata": {
        "id": "tshxHPOxkrwZ"
      },
      "source": [
        "\n",
        "In order to solve a Machine Learning problem that could reflect what was learned during the specialization, a transaction fraud detection competition from the Kaggle site was chosen. \n",
        "\n",
        "\n",
        "> This competition provides us with 5 documents (training, test and example of presentation of results for the competition). Between the two training tables that the competition provides us with, there are more than 400 columns and more than 590000 rows of information; due to the volume of data, it is decided to work initially on 1/8 of the original dataset (i.e. 73817 rows). Once we have found relevant information about the models, we will work with all the information in the dataset. Initially, the total amount of data will be explored and analyzed. \n",
        "\n",
        "> The link to the competition can be found here: [IEEE-CIS Fraud Detection](https://www.kaggle.com/c/ieee-fraud-detection/overview) \n",
        "\n",
        "\n",
        "\n",
        "\n"
      ]
    },
    {
      "cell_type": "markdown",
      "metadata": {
        "id": "XIWTeafZh-mM"
      },
      "source": [
        "# **3. Installation requirements to enable Kaggle**"
      ]
    },
    {
      "cell_type": "markdown",
      "metadata": {
        "id": "UAoT9wwml9Nb"
      },
      "source": [
        "As explained above, the training dataset is larger than 600 Mb so it is not possible to call the dataset from GitHub (which would have facilitated the execution of the notebook); therefore, this dataset will be called from Kaggle. \n",
        "\n",
        "The above can be achieved by enabling an 'API token' from each person's personal Kaggle account (i.e., it is a unique key for each person that is downloaded as a .json file).\n",
        "\n",
        "**To run this notebook you need to enable your 'API token' in Kaggle, download the 'Kaggle.json' file and upload it in the section below. Without this it is impossible to run the notebook.**.\n"
      ]
    },
    {
      "cell_type": "markdown",
      "metadata": {
        "id": "R39spBgXiN5b"
      },
      "source": [
        "First, some packages are installed "
      ]
    },
    {
      "cell_type": "code",
      "metadata": {
        "id": "sQuoKOMGiGjY"
      },
      "source": [
        "! pip install -q kaggle"
      ],
      "execution_count": 5,
      "outputs": []
    },
    {
      "cell_type": "markdown",
      "metadata": {
        "id": "SegpPncIiU_k"
      },
      "source": [
        "In the next cell the ***kaggle.json*** (unique file for each Kaggle user) is uploaded."
      ]
    },
    {
      "cell_type": "code",
      "metadata": {
        "id": "O4MsvdtJiRdy",
        "colab": {
          "resources": {
            "http://localhost:8080/nbextensions/google.colab/files.js": {
              "data": "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",
              "ok": true,
              "headers": [
                [
                  "content-type",
                  "application/javascript"
                ]
              ],
              "status": 200,
              "status_text": ""
            }
          },
          "base_uri": "https://localhost:8080/",
          "height": 91
        },
        "outputId": "044a7acb-863e-4331-b973-3486b6fc573e"
      },
      "source": [
        "files.upload()"
      ],
      "execution_count": 6,
      "outputs": [
        {
          "output_type": "display_data",
          "data": {
            "text/html": [
              "\n",
              "     <input type=\"file\" id=\"files-36f0b0bd-7fe4-4e7d-8146-175d3e4b2be7\" name=\"files[]\" multiple disabled\n",
              "        style=\"border:none\" />\n",
              "     <output id=\"result-36f0b0bd-7fe4-4e7d-8146-175d3e4b2be7\">\n",
              "      Upload widget is only available when the cell has been executed in the\n",
              "      current browser session. Please rerun this cell to enable.\n",
              "      </output>\n",
              "      <script src=\"/nbextensions/google.colab/files.js\"></script> "
            ],
            "text/plain": [
              "<IPython.core.display.HTML object>"
            ]
          },
          "metadata": {}
        },
        {
          "output_type": "stream",
          "name": "stdout",
          "text": [
            "Saving kaggle.json to kaggle.json\n"
          ]
        },
        {
          "output_type": "execute_result",
          "data": {
            "text/plain": [
              "{'kaggle.json': b'{\"username\":\"lauraaflorez\",\"key\":\"80fc8a82244c3eba99ea434c6f38a175\"}'}"
            ]
          },
          "metadata": {},
          "execution_count": 6
        }
      ]
    },
    {
      "cell_type": "markdown",
      "metadata": {
        "id": "UrwQyXMUimqB"
      },
      "source": [
        "Directories are created in the colab"
      ]
    },
    {
      "cell_type": "code",
      "metadata": {
        "id": "Wzg8Jwkzif3Z"
      },
      "source": [
        "! mkdir ~/.kaggle\n",
        "! cp kaggle.json ~/.kaggle/"
      ],
      "execution_count": 7,
      "outputs": []
    },
    {
      "cell_type": "code",
      "metadata": {
        "id": "Gt2p6_Uqiqkv"
      },
      "source": [
        "! chmod 600 ~/.kaggle/kaggle.json"
      ],
      "execution_count": 8,
      "outputs": []
    },
    {
      "cell_type": "markdown",
      "metadata": {
        "id": "vRo2Bw9KixzD"
      },
      "source": [
        "We specify the name of the competition we want to download. The following line of code allows to link the colab with Kaggle downloading all the documents delivered by the competition. "
      ]
    },
    {
      "cell_type": "markdown",
      "metadata": {
        "id": "Af2_9BLPjKnl"
      },
      "source": [
        "**NOTE:** Remember to go to your Kaggle profile and accept the terms and conditions of the competition before executing this cell."
      ]
    },
    {
      "cell_type": "code",
      "metadata": {
        "id": "rPDIk_DzirDC",
        "colab": {
          "base_uri": "https://localhost:8080/"
        },
        "outputId": "264e0060-fc4f-4994-878b-02f705f25425"
      },
      "source": [
        "! kaggle competitions download -c 'ieee-fraud-detection'"
      ],
      "execution_count": 9,
      "outputs": [
        {
          "output_type": "stream",
          "name": "stdout",
          "text": [
            "Warning: Looks like you're using an outdated API Version, please consider updating (server 1.5.12 / client 1.5.4)\n",
            "Downloading sample_submission.csv.zip to /content\n",
            "  0% 0.00/1.14M [00:00<?, ?B/s]\n",
            "100% 1.14M/1.14M [00:00<00:00, 37.2MB/s]\n",
            "Downloading train_transaction.csv.zip to /content\n",
            " 84% 49.0M/58.3M [00:00<00:00, 90.8MB/s]\n",
            "100% 58.3M/58.3M [00:00<00:00, 118MB/s] \n",
            "Downloading train_identity.csv.zip to /content\n",
            "  0% 0.00/3.26M [00:00<?, ?B/s]\n",
            "100% 3.26M/3.26M [00:00<00:00, 103MB/s]\n",
            "Downloading test_identity.csv.zip to /content\n",
            "  0% 0.00/3.21M [00:00<?, ?B/s]\n",
            "100% 3.21M/3.21M [00:00<00:00, 101MB/s]\n",
            "Downloading test_transaction.csv.zip to /content\n",
            " 79% 41.0M/52.2M [00:00<00:00, 56.8MB/s]\n",
            "100% 52.2M/52.2M [00:00<00:00, 88.8MB/s]\n"
          ]
        }
      ]
    },
    {
      "cell_type": "markdown",
      "metadata": {
        "id": "p791lIHwjdq9"
      },
      "source": [
        "Training files are read: 'train_transaction' and 'train_identity'."
      ]
    },
    {
      "cell_type": "code",
      "metadata": {
        "id": "18g33v07jKG6",
        "colab": {
          "base_uri": "https://localhost:8080/"
        },
        "outputId": "75f05e79-2afb-4561-8546-d10d0dd76932"
      },
      "source": [
        "! unzip train_identity.csv.zip "
      ],
      "execution_count": 10,
      "outputs": [
        {
          "output_type": "stream",
          "name": "stdout",
          "text": [
            "Archive:  train_identity.csv.zip\n",
            "  inflating: train_identity.csv      \n"
          ]
        }
      ]
    },
    {
      "cell_type": "code",
      "metadata": {
        "id": "fBK4FJsHkGnX"
      },
      "source": [
        "train_ident = pd.read_csv('train_identity.csv')"
      ],
      "execution_count": 11,
      "outputs": []
    },
    {
      "cell_type": "code",
      "metadata": {
        "id": "PCDU27Vsjt7i",
        "colab": {
          "base_uri": "https://localhost:8080/"
        },
        "outputId": "2a86341b-2a97-4ec6-8621-b3e216ce62d9"
      },
      "source": [
        "! unzip train_transaction.csv.zip "
      ],
      "execution_count": 12,
      "outputs": [
        {
          "output_type": "stream",
          "name": "stdout",
          "text": [
            "Archive:  train_transaction.csv.zip\n",
            "  inflating: train_transaction.csv   \n"
          ]
        }
      ]
    },
    {
      "cell_type": "code",
      "metadata": {
        "id": "-kSZzJDNkRCW"
      },
      "source": [
        "train_trans = pd.read_csv('train_transaction.csv')"
      ],
      "execution_count": 13,
      "outputs": []
    },
    {
      "cell_type": "code",
      "metadata": {
        "colab": {
          "base_uri": "https://localhost:8080/"
        },
        "id": "4uV3sy24PM6M",
        "outputId": "786dc61a-7306-42c2-9975-0878e69e6a5c"
      },
      "source": [
        "! unzip test_transaction.csv.zip "
      ],
      "execution_count": 14,
      "outputs": [
        {
          "output_type": "stream",
          "name": "stdout",
          "text": [
            "Archive:  test_transaction.csv.zip\n",
            "  inflating: test_transaction.csv    \n"
          ]
        }
      ]
    },
    {
      "cell_type": "code",
      "metadata": {
        "id": "av0H1vs7PU6G"
      },
      "source": [
        "test_trans = pd.read_csv('test_transaction.csv')"
      ],
      "execution_count": 15,
      "outputs": []
    },
    {
      "cell_type": "code",
      "metadata": {
        "id": "7Q_o-3diPcj3",
        "colab": {
          "base_uri": "https://localhost:8080/"
        },
        "outputId": "21270bd2-6b8f-4ecf-c098-aa8ec13af836"
      },
      "source": [
        "! unzip test_identity.csv.zip "
      ],
      "execution_count": 16,
      "outputs": [
        {
          "output_type": "stream",
          "name": "stdout",
          "text": [
            "Archive:  test_identity.csv.zip\n",
            "  inflating: test_identity.csv       \n"
          ]
        }
      ]
    },
    {
      "cell_type": "code",
      "metadata": {
        "id": "xlwQWdp5Ph6k"
      },
      "source": [
        "test_ident = pd.read_csv('test_identity.csv')"
      ],
      "execution_count": 17,
      "outputs": []
    },
    {
      "cell_type": "code",
      "metadata": {
        "id": "DlkG1_LRPn6b"
      },
      "source": [
        "test = pd.merge(test_trans, test_ident, on=['TransactionID'],how='left')\n",
        "train = pd.merge(train_trans, train_ident, on='TransactionID', how='left')\n"
      ],
      "execution_count": 23,
      "outputs": []
    },
    {
      "cell_type": "code",
      "metadata": {
        "id": "mBmTKTlTXqOM"
      },
      "source": [
        "import gc"
      ],
      "execution_count": 19,
      "outputs": []
    },
    {
      "cell_type": "code",
      "metadata": {
        "id": "3c2CucQZXfTm",
        "colab": {
          "base_uri": "https://localhost:8080/"
        },
        "outputId": "5974fa65-95ed-428c-bd59-e462b0eb1232"
      },
      "source": [
        "#del test_trans, test_ident, train_trans, train_ident\n",
        "gc.collect()"
      ],
      "execution_count": 20,
      "outputs": [
        {
          "output_type": "execute_result",
          "data": {
            "text/plain": [
              "114"
            ]
          },
          "metadata": {},
          "execution_count": 20
        }
      ]
    },
    {
      "cell_type": "code",
      "metadata": {
        "id": "XmnZDP6kY1li",
        "colab": {
          "base_uri": "https://localhost:8080/"
        },
        "outputId": "9ce4af8f-93ee-492d-9296-4119fdbd1876"
      },
      "source": [
        "train.info()"
      ],
      "execution_count": 21,
      "outputs": [
        {
          "output_type": "stream",
          "name": "stdout",
          "text": [
            "<class 'pandas.core.frame.DataFrame'>\n",
            "Int64Index: 590540 entries, 0 to 590539\n",
            "Columns: 434 entries, TransactionID to DeviceInfo\n",
            "dtypes: float64(399), int64(4), object(31)\n",
            "memory usage: 1.9+ GB\n"
          ]
        }
      ]
    },
    {
      "cell_type": "code",
      "metadata": {
        "id": "tUF8m89RY4ND",
        "colab": {
          "base_uri": "https://localhost:8080/"
        },
        "outputId": "6875cf48-009e-4d52-a9f6-a240cc1a619d"
      },
      "source": [
        "test.info()"
      ],
      "execution_count": 24,
      "outputs": [
        {
          "output_type": "stream",
          "name": "stdout",
          "text": [
            "<class 'pandas.core.frame.DataFrame'>\n",
            "Int64Index: 506691 entries, 0 to 506690\n",
            "Columns: 433 entries, TransactionID to DeviceInfo\n",
            "dtypes: float64(399), int64(3), object(31)\n",
            "memory usage: 1.6+ GB\n"
          ]
        }
      ]
    },
    {
      "cell_type": "markdown",
      "metadata": {
        "id": "DM77omGraajy"
      },
      "source": [
        "# **4. Functions**"
      ]
    },
    {
      "cell_type": "markdown",
      "metadata": {
        "id": "XKenOzUya2dm"
      },
      "source": [
        "Due to the volume of the dataset it is necessary to reduce a little the memory of the dataset, converting some types of columns to types that consume less memory: like passing from `float64` to `float16`."
      ]
    },
    {
      "cell_type": "code",
      "metadata": {
        "id": "4nHEMVxrYmO6"
      },
      "source": [
        "# Memory Reduction\n",
        "def reduce_mem_usage(df, verbose=True):\n",
        "    numerics = ['int16', 'int32', 'int64', 'float16', 'float32', 'float64']\n",
        "    start_mem = df.memory_usage().sum() / 1024**2    \n",
        "    for col in df.columns:\n",
        "        col_type = df[col].dtypes\n",
        "        if col_type in numerics:\n",
        "            c_min = df[col].min()\n",
        "            c_max = df[col].max()\n",
        "            if str(col_type)[:3] == 'int':\n",
        "                if c_min > np.iinfo(np.int8).min and c_max < np.iinfo(np.int8).max:\n",
        "                    df[col] = df[col].astype(np.int8)\n",
        "                elif c_min > np.iinfo(np.int16).min and c_max < np.iinfo(np.int16).max:\n",
        "                    df[col] = df[col].astype(np.int16)\n",
        "                elif c_min > np.iinfo(np.int32).min and c_max < np.iinfo(np.int32).max:\n",
        "                    df[col] = df[col].astype(np.int32)\n",
        "                elif c_min > np.iinfo(np.int64).min and c_max < np.iinfo(np.int64).max:\n",
        "                    df[col] = df[col].astype(np.int64)  \n",
        "            else:\n",
        "                if c_min > np.finfo(np.float16).min and c_max < np.finfo(np.float16).max:\n",
        "                    df[col] = df[col].astype(np.float16)\n",
        "                elif c_min > np.finfo(np.float32).min and c_max < np.finfo(np.float32).max:\n",
        "                    df[col] = df[col].astype(np.float32)\n",
        "                else:\n",
        "                    df[col] = df[col].astype(np.float64)    \n",
        "    end_mem = df.memory_usage().sum() / 1024**2\n",
        "    if verbose: \n",
        "        print('Uso de memoria disminuyo a {:5.2f} Mb ({:.1f}% de reducción)'.format(end_mem, 100 * (start_mem - end_mem) / start_mem))\n",
        "    return df"
      ],
      "execution_count": 25,
      "outputs": []
    },
    {
      "cell_type": "markdown",
      "metadata": {
        "id": "Cxa9xe7GbM9N"
      },
      "source": [
        "Rename the datasets to save the conversion to smaller memory datasets"
      ]
    },
    {
      "cell_type": "code",
      "metadata": {
        "id": "Fx6URjx_aa9n",
        "colab": {
          "base_uri": "https://localhost:8080/"
        },
        "outputId": "6ca6ed35-7e13-4ed1-dd99-9f66f6ea3c9e"
      },
      "source": [
        "train=reduce_mem_usage(train)"
      ],
      "execution_count": 26,
      "outputs": [
        {
          "output_type": "stream",
          "name": "stdout",
          "text": [
            "Uso de memoria disminuyo a 650.48 Mb (66.8% de reducción)\n"
          ]
        }
      ]
    },
    {
      "cell_type": "code",
      "metadata": {
        "id": "TZueb663a7ag",
        "colab": {
          "base_uri": "https://localhost:8080/"
        },
        "outputId": "2486247b-233b-4ec3-8a7e-1b79adba8d49"
      },
      "source": [
        "test=reduce_mem_usage(test)"
      ],
      "execution_count": 27,
      "outputs": [
        {
          "output_type": "stream",
          "name": "stdout",
          "text": [
            "Uso de memoria disminuyo a 565.37 Mb (66.3% de reducción)\n"
          ]
        }
      ]
    },
    {
      "cell_type": "markdown",
      "metadata": {
        "id": "2ZqK0v_EgDZ2"
      },
      "source": [
        "We make use of gc.collect() that collects objects stored in memory, in order to reduce the memory and to be able to work better with the limited conditions that Colab has."
      ]
    },
    {
      "cell_type": "code",
      "metadata": {
        "id": "Es7KUu861mqm",
        "colab": {
          "base_uri": "https://localhost:8080/"
        },
        "outputId": "80f10e0d-e3b6-475f-c1e0-7fa7d345d0b3"
      },
      "source": [
        "del test_trans, test_ident, train_trans, train_ident\n",
        "gc.collect()"
      ],
      "execution_count": 28,
      "outputs": [
        {
          "output_type": "execute_result",
          "data": {
            "text/plain": [
              "50"
            ]
          },
          "metadata": {},
          "execution_count": 28
        }
      ]
    },
    {
      "cell_type": "markdown",
      "metadata": {
        "id": "zL5OQTcNvriG"
      },
      "source": [
        "# **5. Data description**"
      ]
    },
    {
      "cell_type": "markdown",
      "metadata": {
        "id": "qG0dZuO_o-6_"
      },
      "source": [
        "According to the competence, we have the following description of the training dataset columns. At first glance, since it is information related to banking transactions, most of the information is encoded. \n",
        "In the future it is necessary to do some Feature Engineering to be able to identify these columns."
      ]
    },
    {
      "cell_type": "markdown",
      "metadata": {
        "id": "YdgMnKn7vuAF"
      },
      "source": [
        "**Transaction Table**\n",
        "\n",
        "*   TransactionDT: timedelta from a given reference datetime (not an actual timestamp)\n",
        "*   TransactionAMT: transaction payment amount in USD\n",
        "*   ProductCD: product code, the product for each transaction\n",
        "*   card1 - card6: payment card information, such as card type, card category, issue bank, country, etc.\n",
        "*   addr: address\n",
        "*   dist: distance\n",
        "*   P_ and (R__) emaildomain: purchaser and recipient email domain\n",
        "*   C1-C14: counting, such as how many addresses are found to be associated with the payment card, etc. The actual meaning is masked.\n",
        "*   D1-D15: timedelta, such as days between previous transaction, etc.\n",
        "*   M1-M9: match, such as names on card and address, etc.\n",
        "*   Vxxx: Vesta engineered rich features, including ranking, counting, and other entity relations.\n",
        "\n",
        "Categorical Features:\n",
        "ProductCD, card1 - card6, addr1, addr2, P_emaildomain, R_emaildomain, M1 - M9"
      ]
    },
    {
      "cell_type": "markdown",
      "metadata": {
        "id": "ShyvzdHpxbZf"
      },
      "source": [
        "**Identity Table**\n",
        "\n",
        "Variables in this table are identity information – network connection information (IP, ISP, Proxy, etc) and digital signature (UA/browser/os/version, etc) associated with transactions.\n",
        "They're collected by Vesta’s fraud protection system and digital security partners.\n",
        "(The field names are masked and pairwise dictionary will not be provided for privacy protection and contract agreement)\n",
        "\n",
        "Categorical Features:DeviceType, DeviceInfo, id_12 - id_38"
      ]
    },
    {
      "cell_type": "code",
      "metadata": {
        "id": "Hz3fMVF-t-mp",
        "colab": {
          "base_uri": "https://localhost:8080/",
          "height": 284
        },
        "outputId": "20690c39-fbc1-43c4-dc1f-e55acbb540cf"
      },
      "source": [
        "train.head()"
      ],
      "execution_count": 29,
      "outputs": [
        {
          "output_type": "execute_result",
          "data": {
            "text/html": [
              "<div>\n",
              "<style scoped>\n",
              "    .dataframe tbody tr th:only-of-type {\n",
              "        vertical-align: middle;\n",
              "    }\n",
              "\n",
              "    .dataframe tbody tr th {\n",
              "        vertical-align: top;\n",
              "    }\n",
              "\n",
              "    .dataframe thead th {\n",
              "        text-align: right;\n",
              "    }\n",
              "</style>\n",
              "<table border=\"1\" class=\"dataframe\">\n",
              "  <thead>\n",
              "    <tr style=\"text-align: right;\">\n",
              "      <th></th>\n",
              "      <th>TransactionID</th>\n",
              "      <th>isFraud</th>\n",
              "      <th>TransactionDT</th>\n",
              "      <th>TransactionAmt</th>\n",
              "      <th>ProductCD</th>\n",
              "      <th>card1</th>\n",
              "      <th>card2</th>\n",
              "      <th>card3</th>\n",
              "      <th>card4</th>\n",
              "      <th>card5</th>\n",
              "      <th>card6</th>\n",
              "      <th>addr1</th>\n",
              "      <th>addr2</th>\n",
              "      <th>dist1</th>\n",
              "      <th>dist2</th>\n",
              "      <th>P_emaildomain</th>\n",
              "      <th>R_emaildomain</th>\n",
              "      <th>C1</th>\n",
              "      <th>C2</th>\n",
              "      <th>C3</th>\n",
              "      <th>C4</th>\n",
              "      <th>C5</th>\n",
              "      <th>C6</th>\n",
              "      <th>C7</th>\n",
              "      <th>C8</th>\n",
              "      <th>C9</th>\n",
              "      <th>C10</th>\n",
              "      <th>C11</th>\n",
              "      <th>C12</th>\n",
              "      <th>C13</th>\n",
              "      <th>C14</th>\n",
              "      <th>D1</th>\n",
              "      <th>D2</th>\n",
              "      <th>D3</th>\n",
              "      <th>D4</th>\n",
              "      <th>D5</th>\n",
              "      <th>D6</th>\n",
              "      <th>D7</th>\n",
              "      <th>D8</th>\n",
              "      <th>D9</th>\n",
              "      <th>...</th>\n",
              "      <th>id_01</th>\n",
              "      <th>id_02</th>\n",
              "      <th>id_03</th>\n",
              "      <th>id_04</th>\n",
              "      <th>id_05</th>\n",
              "      <th>id_06</th>\n",
              "      <th>id_07</th>\n",
              "      <th>id_08</th>\n",
              "      <th>id_09</th>\n",
              "      <th>id_10</th>\n",
              "      <th>id_11</th>\n",
              "      <th>id_12</th>\n",
              "      <th>id_13</th>\n",
              "      <th>id_14</th>\n",
              "      <th>id_15</th>\n",
              "      <th>id_16</th>\n",
              "      <th>id_17</th>\n",
              "      <th>id_18</th>\n",
              "      <th>id_19</th>\n",
              "      <th>id_20</th>\n",
              "      <th>id_21</th>\n",
              "      <th>id_22</th>\n",
              "      <th>id_23</th>\n",
              "      <th>id_24</th>\n",
              "      <th>id_25</th>\n",
              "      <th>id_26</th>\n",
              "      <th>id_27</th>\n",
              "      <th>id_28</th>\n",
              "      <th>id_29</th>\n",
              "      <th>id_30</th>\n",
              "      <th>id_31</th>\n",
              "      <th>id_32</th>\n",
              "      <th>id_33</th>\n",
              "      <th>id_34</th>\n",
              "      <th>id_35</th>\n",
              "      <th>id_36</th>\n",
              "      <th>id_37</th>\n",
              "      <th>id_38</th>\n",
              "      <th>DeviceType</th>\n",
              "      <th>DeviceInfo</th>\n",
              "    </tr>\n",
              "  </thead>\n",
              "  <tbody>\n",
              "    <tr>\n",
              "      <th>0</th>\n",
              "      <td>2987000</td>\n",
              "      <td>0</td>\n",
              "      <td>86400</td>\n",
              "      <td>68.5</td>\n",
              "      <td>W</td>\n",
              "      <td>13926</td>\n",
              "      <td>NaN</td>\n",
              "      <td>150.0</td>\n",
              "      <td>discover</td>\n",
              "      <td>142.0</td>\n",
              "      <td>credit</td>\n",
              "      <td>315.0</td>\n",
              "      <td>87.0</td>\n",
              "      <td>19.0</td>\n",
              "      <td>NaN</td>\n",
              "      <td>NaN</td>\n",
              "      <td>NaN</td>\n",
              "      <td>1.0</td>\n",
              "      <td>1.0</td>\n",
              "      <td>0.0</td>\n",
              "      <td>0.0</td>\n",
              "      <td>0.0</td>\n",
              "      <td>1.0</td>\n",
              "      <td>0.0</td>\n",
              "      <td>0.0</td>\n",
              "      <td>1.0</td>\n",
              "      <td>0.0</td>\n",
              "      <td>2.0</td>\n",
              "      <td>0.0</td>\n",
              "      <td>1.0</td>\n",
              "      <td>1.0</td>\n",
              "      <td>14.0</td>\n",
              "      <td>NaN</td>\n",
              "      <td>13.0</td>\n",
              "      <td>NaN</td>\n",
              "      <td>NaN</td>\n",
              "      <td>NaN</td>\n",
              "      <td>NaN</td>\n",
              "      <td>NaN</td>\n",
              "      <td>NaN</td>\n",
              "      <td>...</td>\n",
              "      <td>NaN</td>\n",
              "      <td>NaN</td>\n",
              "      <td>NaN</td>\n",
              "      <td>NaN</td>\n",
              "      <td>NaN</td>\n",
              "      <td>NaN</td>\n",
              "      <td>NaN</td>\n",
              "      <td>NaN</td>\n",
              "      <td>NaN</td>\n",
              "      <td>NaN</td>\n",
              "      <td>NaN</td>\n",
              "      <td>NaN</td>\n",
              "      <td>NaN</td>\n",
              "      <td>NaN</td>\n",
              "      <td>NaN</td>\n",
              "      <td>NaN</td>\n",
              "      <td>NaN</td>\n",
              "      <td>NaN</td>\n",
              "      <td>NaN</td>\n",
              "      <td>NaN</td>\n",
              "      <td>NaN</td>\n",
              "      <td>NaN</td>\n",
              "      <td>NaN</td>\n",
              "      <td>NaN</td>\n",
              "      <td>NaN</td>\n",
              "      <td>NaN</td>\n",
              "      <td>NaN</td>\n",
              "      <td>NaN</td>\n",
              "      <td>NaN</td>\n",
              "      <td>NaN</td>\n",
              "      <td>NaN</td>\n",
              "      <td>NaN</td>\n",
              "      <td>NaN</td>\n",
              "      <td>NaN</td>\n",
              "      <td>NaN</td>\n",
              "      <td>NaN</td>\n",
              "      <td>NaN</td>\n",
              "      <td>NaN</td>\n",
              "      <td>NaN</td>\n",
              "      <td>NaN</td>\n",
              "    </tr>\n",
              "    <tr>\n",
              "      <th>1</th>\n",
              "      <td>2987001</td>\n",
              "      <td>0</td>\n",
              "      <td>86401</td>\n",
              "      <td>29.0</td>\n",
              "      <td>W</td>\n",
              "      <td>2755</td>\n",
              "      <td>404.0</td>\n",
              "      <td>150.0</td>\n",
              "      <td>mastercard</td>\n",
              "      <td>102.0</td>\n",
              "      <td>credit</td>\n",
              "      <td>325.0</td>\n",
              "      <td>87.0</td>\n",
              "      <td>NaN</td>\n",
              "      <td>NaN</td>\n",
              "      <td>gmail.com</td>\n",
              "      <td>NaN</td>\n",
              "      <td>1.0</td>\n",
              "      <td>1.0</td>\n",
              "      <td>0.0</td>\n",
              "      <td>0.0</td>\n",
              "      <td>0.0</td>\n",
              "      <td>1.0</td>\n",
              "      <td>0.0</td>\n",
              "      <td>0.0</td>\n",
              "      <td>0.0</td>\n",
              "      <td>0.0</td>\n",
              "      <td>1.0</td>\n",
              "      <td>0.0</td>\n",
              "      <td>1.0</td>\n",
              "      <td>1.0</td>\n",
              "      <td>0.0</td>\n",
              "      <td>NaN</td>\n",
              "      <td>NaN</td>\n",
              "      <td>0.0</td>\n",
              "      <td>NaN</td>\n",
              "      <td>NaN</td>\n",
              "      <td>NaN</td>\n",
              "      <td>NaN</td>\n",
              "      <td>NaN</td>\n",
              "      <td>...</td>\n",
              "      <td>NaN</td>\n",
              "      <td>NaN</td>\n",
              "      <td>NaN</td>\n",
              "      <td>NaN</td>\n",
              "      <td>NaN</td>\n",
              "      <td>NaN</td>\n",
              "      <td>NaN</td>\n",
              "      <td>NaN</td>\n",
              "      <td>NaN</td>\n",
              "      <td>NaN</td>\n",
              "      <td>NaN</td>\n",
              "      <td>NaN</td>\n",
              "      <td>NaN</td>\n",
              "      <td>NaN</td>\n",
              "      <td>NaN</td>\n",
              "      <td>NaN</td>\n",
              "      <td>NaN</td>\n",
              "      <td>NaN</td>\n",
              "      <td>NaN</td>\n",
              "      <td>NaN</td>\n",
              "      <td>NaN</td>\n",
              "      <td>NaN</td>\n",
              "      <td>NaN</td>\n",
              "      <td>NaN</td>\n",
              "      <td>NaN</td>\n",
              "      <td>NaN</td>\n",
              "      <td>NaN</td>\n",
              "      <td>NaN</td>\n",
              "      <td>NaN</td>\n",
              "      <td>NaN</td>\n",
              "      <td>NaN</td>\n",
              "      <td>NaN</td>\n",
              "      <td>NaN</td>\n",
              "      <td>NaN</td>\n",
              "      <td>NaN</td>\n",
              "      <td>NaN</td>\n",
              "      <td>NaN</td>\n",
              "      <td>NaN</td>\n",
              "      <td>NaN</td>\n",
              "      <td>NaN</td>\n",
              "    </tr>\n",
              "    <tr>\n",
              "      <th>2</th>\n",
              "      <td>2987002</td>\n",
              "      <td>0</td>\n",
              "      <td>86469</td>\n",
              "      <td>59.0</td>\n",
              "      <td>W</td>\n",
              "      <td>4663</td>\n",
              "      <td>490.0</td>\n",
              "      <td>150.0</td>\n",
              "      <td>visa</td>\n",
              "      <td>166.0</td>\n",
              "      <td>debit</td>\n",
              "      <td>330.0</td>\n",
              "      <td>87.0</td>\n",
              "      <td>287.0</td>\n",
              "      <td>NaN</td>\n",
              "      <td>outlook.com</td>\n",
              "      <td>NaN</td>\n",
              "      <td>1.0</td>\n",
              "      <td>1.0</td>\n",
              "      <td>0.0</td>\n",
              "      <td>0.0</td>\n",
              "      <td>0.0</td>\n",
              "      <td>1.0</td>\n",
              "      <td>0.0</td>\n",
              "      <td>0.0</td>\n",
              "      <td>1.0</td>\n",
              "      <td>0.0</td>\n",
              "      <td>1.0</td>\n",
              "      <td>0.0</td>\n",
              "      <td>1.0</td>\n",
              "      <td>1.0</td>\n",
              "      <td>0.0</td>\n",
              "      <td>NaN</td>\n",
              "      <td>NaN</td>\n",
              "      <td>0.0</td>\n",
              "      <td>NaN</td>\n",
              "      <td>NaN</td>\n",
              "      <td>NaN</td>\n",
              "      <td>NaN</td>\n",
              "      <td>NaN</td>\n",
              "      <td>...</td>\n",
              "      <td>NaN</td>\n",
              "      <td>NaN</td>\n",
              "      <td>NaN</td>\n",
              "      <td>NaN</td>\n",
              "      <td>NaN</td>\n",
              "      <td>NaN</td>\n",
              "      <td>NaN</td>\n",
              "      <td>NaN</td>\n",
              "      <td>NaN</td>\n",
              "      <td>NaN</td>\n",
              "      <td>NaN</td>\n",
              "      <td>NaN</td>\n",
              "      <td>NaN</td>\n",
              "      <td>NaN</td>\n",
              "      <td>NaN</td>\n",
              "      <td>NaN</td>\n",
              "      <td>NaN</td>\n",
              "      <td>NaN</td>\n",
              "      <td>NaN</td>\n",
              "      <td>NaN</td>\n",
              "      <td>NaN</td>\n",
              "      <td>NaN</td>\n",
              "      <td>NaN</td>\n",
              "      <td>NaN</td>\n",
              "      <td>NaN</td>\n",
              "      <td>NaN</td>\n",
              "      <td>NaN</td>\n",
              "      <td>NaN</td>\n",
              "      <td>NaN</td>\n",
              "      <td>NaN</td>\n",
              "      <td>NaN</td>\n",
              "      <td>NaN</td>\n",
              "      <td>NaN</td>\n",
              "      <td>NaN</td>\n",
              "      <td>NaN</td>\n",
              "      <td>NaN</td>\n",
              "      <td>NaN</td>\n",
              "      <td>NaN</td>\n",
              "      <td>NaN</td>\n",
              "      <td>NaN</td>\n",
              "    </tr>\n",
              "    <tr>\n",
              "      <th>3</th>\n",
              "      <td>2987003</td>\n",
              "      <td>0</td>\n",
              "      <td>86499</td>\n",
              "      <td>50.0</td>\n",
              "      <td>W</td>\n",
              "      <td>18132</td>\n",
              "      <td>567.0</td>\n",
              "      <td>150.0</td>\n",
              "      <td>mastercard</td>\n",
              "      <td>117.0</td>\n",
              "      <td>debit</td>\n",
              "      <td>476.0</td>\n",
              "      <td>87.0</td>\n",
              "      <td>NaN</td>\n",
              "      <td>NaN</td>\n",
              "      <td>yahoo.com</td>\n",
              "      <td>NaN</td>\n",
              "      <td>2.0</td>\n",
              "      <td>5.0</td>\n",
              "      <td>0.0</td>\n",
              "      <td>0.0</td>\n",
              "      <td>0.0</td>\n",
              "      <td>4.0</td>\n",
              "      <td>0.0</td>\n",
              "      <td>0.0</td>\n",
              "      <td>1.0</td>\n",
              "      <td>0.0</td>\n",
              "      <td>1.0</td>\n",
              "      <td>0.0</td>\n",
              "      <td>25.0</td>\n",
              "      <td>1.0</td>\n",
              "      <td>112.0</td>\n",
              "      <td>112.0</td>\n",
              "      <td>0.0</td>\n",
              "      <td>94.0</td>\n",
              "      <td>0.0</td>\n",
              "      <td>NaN</td>\n",
              "      <td>NaN</td>\n",
              "      <td>NaN</td>\n",
              "      <td>NaN</td>\n",
              "      <td>...</td>\n",
              "      <td>NaN</td>\n",
              "      <td>NaN</td>\n",
              "      <td>NaN</td>\n",
              "      <td>NaN</td>\n",
              "      <td>NaN</td>\n",
              "      <td>NaN</td>\n",
              "      <td>NaN</td>\n",
              "      <td>NaN</td>\n",
              "      <td>NaN</td>\n",
              "      <td>NaN</td>\n",
              "      <td>NaN</td>\n",
              "      <td>NaN</td>\n",
              "      <td>NaN</td>\n",
              "      <td>NaN</td>\n",
              "      <td>NaN</td>\n",
              "      <td>NaN</td>\n",
              "      <td>NaN</td>\n",
              "      <td>NaN</td>\n",
              "      <td>NaN</td>\n",
              "      <td>NaN</td>\n",
              "      <td>NaN</td>\n",
              "      <td>NaN</td>\n",
              "      <td>NaN</td>\n",
              "      <td>NaN</td>\n",
              "      <td>NaN</td>\n",
              "      <td>NaN</td>\n",
              "      <td>NaN</td>\n",
              "      <td>NaN</td>\n",
              "      <td>NaN</td>\n",
              "      <td>NaN</td>\n",
              "      <td>NaN</td>\n",
              "      <td>NaN</td>\n",
              "      <td>NaN</td>\n",
              "      <td>NaN</td>\n",
              "      <td>NaN</td>\n",
              "      <td>NaN</td>\n",
              "      <td>NaN</td>\n",
              "      <td>NaN</td>\n",
              "      <td>NaN</td>\n",
              "      <td>NaN</td>\n",
              "    </tr>\n",
              "    <tr>\n",
              "      <th>4</th>\n",
              "      <td>2987004</td>\n",
              "      <td>0</td>\n",
              "      <td>86506</td>\n",
              "      <td>50.0</td>\n",
              "      <td>H</td>\n",
              "      <td>4497</td>\n",
              "      <td>514.0</td>\n",
              "      <td>150.0</td>\n",
              "      <td>mastercard</td>\n",
              "      <td>102.0</td>\n",
              "      <td>credit</td>\n",
              "      <td>420.0</td>\n",
              "      <td>87.0</td>\n",
              "      <td>NaN</td>\n",
              "      <td>NaN</td>\n",
              "      <td>gmail.com</td>\n",
              "      <td>NaN</td>\n",
              "      <td>1.0</td>\n",
              "      <td>1.0</td>\n",
              "      <td>0.0</td>\n",
              "      <td>0.0</td>\n",
              "      <td>0.0</td>\n",
              "      <td>1.0</td>\n",
              "      <td>0.0</td>\n",
              "      <td>1.0</td>\n",
              "      <td>0.0</td>\n",
              "      <td>1.0</td>\n",
              "      <td>1.0</td>\n",
              "      <td>0.0</td>\n",
              "      <td>1.0</td>\n",
              "      <td>1.0</td>\n",
              "      <td>0.0</td>\n",
              "      <td>NaN</td>\n",
              "      <td>NaN</td>\n",
              "      <td>NaN</td>\n",
              "      <td>NaN</td>\n",
              "      <td>NaN</td>\n",
              "      <td>NaN</td>\n",
              "      <td>NaN</td>\n",
              "      <td>NaN</td>\n",
              "      <td>...</td>\n",
              "      <td>0.0</td>\n",
              "      <td>70787.0</td>\n",
              "      <td>NaN</td>\n",
              "      <td>NaN</td>\n",
              "      <td>NaN</td>\n",
              "      <td>NaN</td>\n",
              "      <td>NaN</td>\n",
              "      <td>NaN</td>\n",
              "      <td>NaN</td>\n",
              "      <td>NaN</td>\n",
              "      <td>100.0</td>\n",
              "      <td>NotFound</td>\n",
              "      <td>NaN</td>\n",
              "      <td>-480.0</td>\n",
              "      <td>New</td>\n",
              "      <td>NotFound</td>\n",
              "      <td>166.0</td>\n",
              "      <td>NaN</td>\n",
              "      <td>542.0</td>\n",
              "      <td>144.0</td>\n",
              "      <td>NaN</td>\n",
              "      <td>NaN</td>\n",
              "      <td>NaN</td>\n",
              "      <td>NaN</td>\n",
              "      <td>NaN</td>\n",
              "      <td>NaN</td>\n",
              "      <td>NaN</td>\n",
              "      <td>New</td>\n",
              "      <td>NotFound</td>\n",
              "      <td>Android 7.0</td>\n",
              "      <td>samsung browser 6.2</td>\n",
              "      <td>32.0</td>\n",
              "      <td>2220x1080</td>\n",
              "      <td>match_status:2</td>\n",
              "      <td>T</td>\n",
              "      <td>F</td>\n",
              "      <td>T</td>\n",
              "      <td>T</td>\n",
              "      <td>mobile</td>\n",
              "      <td>SAMSUNG SM-G892A Build/NRD90M</td>\n",
              "    </tr>\n",
              "  </tbody>\n",
              "</table>\n",
              "<p>5 rows × 434 columns</p>\n",
              "</div>"
            ],
            "text/plain": [
              "   TransactionID  isFraud  ...  DeviceType                     DeviceInfo\n",
              "0        2987000        0  ...         NaN                            NaN\n",
              "1        2987001        0  ...         NaN                            NaN\n",
              "2        2987002        0  ...         NaN                            NaN\n",
              "3        2987003        0  ...         NaN                            NaN\n",
              "4        2987004        0  ...      mobile  SAMSUNG SM-G892A Build/NRD90M\n",
              "\n",
              "[5 rows x 434 columns]"
            ]
          },
          "metadata": {},
          "execution_count": 29
        }
      ]
    },
    {
      "cell_type": "markdown",
      "metadata": {
        "id": "485dC_wfjNvd"
      },
      "source": [
        "An initial analysis is performed on the columns between the training and test dataset. It can be observed that it seems that the columns are not all the same, so we will work on discovering which characteristics are not congruent. "
      ]
    },
    {
      "cell_type": "code",
      "metadata": {
        "colab": {
          "base_uri": "https://localhost:8080/"
        },
        "id": "5JgDuhN0Xv_c",
        "outputId": "eaf2587b-5652-4dbc-af6c-da30efcb960e"
      },
      "source": [
        "print(f'Tamaño de dataset de entrenamiento: {train.shape}')\n",
        "print(f'Tamaño de dataset de prueba: {test.shape}')\n",
        "common_cols=set(train.columns).intersection(set(test.columns))\n",
        "print(f'Número de variables en común, entre ambos datasets: {len(common_cols)}')\n",
        "print(f'Caracteristicas faltantes: {test.shape[1]-len(common_cols)}')"
      ],
      "execution_count": 30,
      "outputs": [
        {
          "output_type": "stream",
          "name": "stdout",
          "text": [
            "Tamaño de dataset de entrenamiento: (590540, 434)\n",
            "Tamaño de dataset de prueba: (506691, 433)\n",
            "Número de variables en común, entre ambos datasets: 395\n",
            "Caracteristicas faltantes: 38\n"
          ]
        }
      ]
    },
    {
      "cell_type": "markdown",
      "metadata": {
        "id": "Zy9umAmKjvHl"
      },
      "source": [
        "It seems that the characteristics that are different are related to the table of identities, which is curious since from the beginning the table of transactions and identities were concatenated for both testing and training. "
      ]
    },
    {
      "cell_type": "code",
      "metadata": {
        "colab": {
          "base_uri": "https://localhost:8080/"
        },
        "id": "ND6lc2PgaQw-",
        "outputId": "91b630c7-992f-4c14-a2aa-4732e36ef925"
      },
      "source": [
        "missing_cols=list(set(train.columns) - set(test.columns))\n",
        "missing_cols"
      ],
      "execution_count": 31,
      "outputs": [
        {
          "output_type": "execute_result",
          "data": {
            "text/plain": [
              "['id_11',\n",
              " 'id_01',\n",
              " 'id_26',\n",
              " 'id_08',\n",
              " 'id_17',\n",
              " 'id_29',\n",
              " 'id_10',\n",
              " 'id_07',\n",
              " 'id_27',\n",
              " 'isFraud',\n",
              " 'id_19',\n",
              " 'id_05',\n",
              " 'id_15',\n",
              " 'id_32',\n",
              " 'id_21',\n",
              " 'id_04',\n",
              " 'id_31',\n",
              " 'id_14',\n",
              " 'id_35',\n",
              " 'id_06',\n",
              " 'id_28',\n",
              " 'id_12',\n",
              " 'id_20',\n",
              " 'id_23',\n",
              " 'id_09',\n",
              " 'id_33',\n",
              " 'id_34',\n",
              " 'id_13',\n",
              " 'id_03',\n",
              " 'id_38',\n",
              " 'id_25',\n",
              " 'id_36',\n",
              " 'id_16',\n",
              " 'id_24',\n",
              " 'id_37',\n",
              " 'id_30',\n",
              " 'id_02',\n",
              " 'id_18',\n",
              " 'id_22']"
            ]
          },
          "metadata": {},
          "execution_count": 31
        }
      ]
    },
    {
      "cell_type": "markdown",
      "metadata": {
        "id": "yodMKD6YkG9F"
      },
      "source": [
        "It is clear from the next line of code that indeed the test dataset has the identity columns, apparently, the difference lies in the name of the columns. While the training dataset has '_' as the symbol to join the names, the test dataset has a different symbol as '-'. So a replacement of this character will be made. "
      ]
    },
    {
      "cell_type": "code",
      "metadata": {
        "colab": {
          "base_uri": "https://localhost:8080/",
          "height": 238
        },
        "id": "u7luF0yfbP8j",
        "outputId": "e92fe89f-2369-4726-cffc-74661baeb5b5"
      },
      "source": [
        "test.iloc[:, 393:431].head(5)"
      ],
      "execution_count": 32,
      "outputs": [
        {
          "output_type": "execute_result",
          "data": {
            "text/html": [
              "<div>\n",
              "<style scoped>\n",
              "    .dataframe tbody tr th:only-of-type {\n",
              "        vertical-align: middle;\n",
              "    }\n",
              "\n",
              "    .dataframe tbody tr th {\n",
              "        vertical-align: top;\n",
              "    }\n",
              "\n",
              "    .dataframe thead th {\n",
              "        text-align: right;\n",
              "    }\n",
              "</style>\n",
              "<table border=\"1\" class=\"dataframe\">\n",
              "  <thead>\n",
              "    <tr style=\"text-align: right;\">\n",
              "      <th></th>\n",
              "      <th>id-01</th>\n",
              "      <th>id-02</th>\n",
              "      <th>id-03</th>\n",
              "      <th>id-04</th>\n",
              "      <th>id-05</th>\n",
              "      <th>id-06</th>\n",
              "      <th>id-07</th>\n",
              "      <th>id-08</th>\n",
              "      <th>id-09</th>\n",
              "      <th>id-10</th>\n",
              "      <th>id-11</th>\n",
              "      <th>id-12</th>\n",
              "      <th>id-13</th>\n",
              "      <th>id-14</th>\n",
              "      <th>id-15</th>\n",
              "      <th>id-16</th>\n",
              "      <th>id-17</th>\n",
              "      <th>id-18</th>\n",
              "      <th>id-19</th>\n",
              "      <th>id-20</th>\n",
              "      <th>id-21</th>\n",
              "      <th>id-22</th>\n",
              "      <th>id-23</th>\n",
              "      <th>id-24</th>\n",
              "      <th>id-25</th>\n",
              "      <th>id-26</th>\n",
              "      <th>id-27</th>\n",
              "      <th>id-28</th>\n",
              "      <th>id-29</th>\n",
              "      <th>id-30</th>\n",
              "      <th>id-31</th>\n",
              "      <th>id-32</th>\n",
              "      <th>id-33</th>\n",
              "      <th>id-34</th>\n",
              "      <th>id-35</th>\n",
              "      <th>id-36</th>\n",
              "      <th>id-37</th>\n",
              "      <th>id-38</th>\n",
              "    </tr>\n",
              "  </thead>\n",
              "  <tbody>\n",
              "    <tr>\n",
              "      <th>0</th>\n",
              "      <td>NaN</td>\n",
              "      <td>NaN</td>\n",
              "      <td>NaN</td>\n",
              "      <td>NaN</td>\n",
              "      <td>NaN</td>\n",
              "      <td>NaN</td>\n",
              "      <td>NaN</td>\n",
              "      <td>NaN</td>\n",
              "      <td>NaN</td>\n",
              "      <td>NaN</td>\n",
              "      <td>NaN</td>\n",
              "      <td>NaN</td>\n",
              "      <td>NaN</td>\n",
              "      <td>NaN</td>\n",
              "      <td>NaN</td>\n",
              "      <td>NaN</td>\n",
              "      <td>NaN</td>\n",
              "      <td>NaN</td>\n",
              "      <td>NaN</td>\n",
              "      <td>NaN</td>\n",
              "      <td>NaN</td>\n",
              "      <td>NaN</td>\n",
              "      <td>NaN</td>\n",
              "      <td>NaN</td>\n",
              "      <td>NaN</td>\n",
              "      <td>NaN</td>\n",
              "      <td>NaN</td>\n",
              "      <td>NaN</td>\n",
              "      <td>NaN</td>\n",
              "      <td>NaN</td>\n",
              "      <td>NaN</td>\n",
              "      <td>NaN</td>\n",
              "      <td>NaN</td>\n",
              "      <td>NaN</td>\n",
              "      <td>NaN</td>\n",
              "      <td>NaN</td>\n",
              "      <td>NaN</td>\n",
              "      <td>NaN</td>\n",
              "    </tr>\n",
              "    <tr>\n",
              "      <th>1</th>\n",
              "      <td>NaN</td>\n",
              "      <td>NaN</td>\n",
              "      <td>NaN</td>\n",
              "      <td>NaN</td>\n",
              "      <td>NaN</td>\n",
              "      <td>NaN</td>\n",
              "      <td>NaN</td>\n",
              "      <td>NaN</td>\n",
              "      <td>NaN</td>\n",
              "      <td>NaN</td>\n",
              "      <td>NaN</td>\n",
              "      <td>NaN</td>\n",
              "      <td>NaN</td>\n",
              "      <td>NaN</td>\n",
              "      <td>NaN</td>\n",
              "      <td>NaN</td>\n",
              "      <td>NaN</td>\n",
              "      <td>NaN</td>\n",
              "      <td>NaN</td>\n",
              "      <td>NaN</td>\n",
              "      <td>NaN</td>\n",
              "      <td>NaN</td>\n",
              "      <td>NaN</td>\n",
              "      <td>NaN</td>\n",
              "      <td>NaN</td>\n",
              "      <td>NaN</td>\n",
              "      <td>NaN</td>\n",
              "      <td>NaN</td>\n",
              "      <td>NaN</td>\n",
              "      <td>NaN</td>\n",
              "      <td>NaN</td>\n",
              "      <td>NaN</td>\n",
              "      <td>NaN</td>\n",
              "      <td>NaN</td>\n",
              "      <td>NaN</td>\n",
              "      <td>NaN</td>\n",
              "      <td>NaN</td>\n",
              "      <td>NaN</td>\n",
              "    </tr>\n",
              "    <tr>\n",
              "      <th>2</th>\n",
              "      <td>NaN</td>\n",
              "      <td>NaN</td>\n",
              "      <td>NaN</td>\n",
              "      <td>NaN</td>\n",
              "      <td>NaN</td>\n",
              "      <td>NaN</td>\n",
              "      <td>NaN</td>\n",
              "      <td>NaN</td>\n",
              "      <td>NaN</td>\n",
              "      <td>NaN</td>\n",
              "      <td>NaN</td>\n",
              "      <td>NaN</td>\n",
              "      <td>NaN</td>\n",
              "      <td>NaN</td>\n",
              "      <td>NaN</td>\n",
              "      <td>NaN</td>\n",
              "      <td>NaN</td>\n",
              "      <td>NaN</td>\n",
              "      <td>NaN</td>\n",
              "      <td>NaN</td>\n",
              "      <td>NaN</td>\n",
              "      <td>NaN</td>\n",
              "      <td>NaN</td>\n",
              "      <td>NaN</td>\n",
              "      <td>NaN</td>\n",
              "      <td>NaN</td>\n",
              "      <td>NaN</td>\n",
              "      <td>NaN</td>\n",
              "      <td>NaN</td>\n",
              "      <td>NaN</td>\n",
              "      <td>NaN</td>\n",
              "      <td>NaN</td>\n",
              "      <td>NaN</td>\n",
              "      <td>NaN</td>\n",
              "      <td>NaN</td>\n",
              "      <td>NaN</td>\n",
              "      <td>NaN</td>\n",
              "      <td>NaN</td>\n",
              "    </tr>\n",
              "    <tr>\n",
              "      <th>3</th>\n",
              "      <td>NaN</td>\n",
              "      <td>NaN</td>\n",
              "      <td>NaN</td>\n",
              "      <td>NaN</td>\n",
              "      <td>NaN</td>\n",
              "      <td>NaN</td>\n",
              "      <td>NaN</td>\n",
              "      <td>NaN</td>\n",
              "      <td>NaN</td>\n",
              "      <td>NaN</td>\n",
              "      <td>NaN</td>\n",
              "      <td>NaN</td>\n",
              "      <td>NaN</td>\n",
              "      <td>NaN</td>\n",
              "      <td>NaN</td>\n",
              "      <td>NaN</td>\n",
              "      <td>NaN</td>\n",
              "      <td>NaN</td>\n",
              "      <td>NaN</td>\n",
              "      <td>NaN</td>\n",
              "      <td>NaN</td>\n",
              "      <td>NaN</td>\n",
              "      <td>NaN</td>\n",
              "      <td>NaN</td>\n",
              "      <td>NaN</td>\n",
              "      <td>NaN</td>\n",
              "      <td>NaN</td>\n",
              "      <td>NaN</td>\n",
              "      <td>NaN</td>\n",
              "      <td>NaN</td>\n",
              "      <td>NaN</td>\n",
              "      <td>NaN</td>\n",
              "      <td>NaN</td>\n",
              "      <td>NaN</td>\n",
              "      <td>NaN</td>\n",
              "      <td>NaN</td>\n",
              "      <td>NaN</td>\n",
              "      <td>NaN</td>\n",
              "    </tr>\n",
              "    <tr>\n",
              "      <th>4</th>\n",
              "      <td>NaN</td>\n",
              "      <td>NaN</td>\n",
              "      <td>NaN</td>\n",
              "      <td>NaN</td>\n",
              "      <td>NaN</td>\n",
              "      <td>NaN</td>\n",
              "      <td>NaN</td>\n",
              "      <td>NaN</td>\n",
              "      <td>NaN</td>\n",
              "      <td>NaN</td>\n",
              "      <td>NaN</td>\n",
              "      <td>NaN</td>\n",
              "      <td>NaN</td>\n",
              "      <td>NaN</td>\n",
              "      <td>NaN</td>\n",
              "      <td>NaN</td>\n",
              "      <td>NaN</td>\n",
              "      <td>NaN</td>\n",
              "      <td>NaN</td>\n",
              "      <td>NaN</td>\n",
              "      <td>NaN</td>\n",
              "      <td>NaN</td>\n",
              "      <td>NaN</td>\n",
              "      <td>NaN</td>\n",
              "      <td>NaN</td>\n",
              "      <td>NaN</td>\n",
              "      <td>NaN</td>\n",
              "      <td>NaN</td>\n",
              "      <td>NaN</td>\n",
              "      <td>NaN</td>\n",
              "      <td>NaN</td>\n",
              "      <td>NaN</td>\n",
              "      <td>NaN</td>\n",
              "      <td>NaN</td>\n",
              "      <td>NaN</td>\n",
              "      <td>NaN</td>\n",
              "      <td>NaN</td>\n",
              "      <td>NaN</td>\n",
              "    </tr>\n",
              "  </tbody>\n",
              "</table>\n",
              "</div>"
            ],
            "text/plain": [
              "   id-01  id-02  id-03  id-04  id-05  id-06  ...  id-33  id-34  id-35  id-36  id-37 id-38\n",
              "0    NaN    NaN    NaN    NaN    NaN    NaN  ...    NaN    NaN    NaN    NaN    NaN   NaN\n",
              "1    NaN    NaN    NaN    NaN    NaN    NaN  ...    NaN    NaN    NaN    NaN    NaN   NaN\n",
              "2    NaN    NaN    NaN    NaN    NaN    NaN  ...    NaN    NaN    NaN    NaN    NaN   NaN\n",
              "3    NaN    NaN    NaN    NaN    NaN    NaN  ...    NaN    NaN    NaN    NaN    NaN   NaN\n",
              "4    NaN    NaN    NaN    NaN    NaN    NaN  ...    NaN    NaN    NaN    NaN    NaN   NaN\n",
              "\n",
              "[5 rows x 38 columns]"
            ]
          },
          "metadata": {},
          "execution_count": 32
        }
      ]
    },
    {
      "cell_type": "code",
      "metadata": {
        "colab": {
          "base_uri": "https://localhost:8080/"
        },
        "id": "5L89N_YFZ3Zh",
        "outputId": "fc09aeb5-fa01-4150-81b7-6a8a0ad3de03"
      },
      "source": [
        "train.shape[1]"
      ],
      "execution_count": 33,
      "outputs": [
        {
          "output_type": "execute_result",
          "data": {
            "text/plain": [
              "434"
            ]
          },
          "metadata": {},
          "execution_count": 33
        }
      ]
    },
    {
      "cell_type": "code",
      "metadata": {
        "id": "eb2Y1_cjh_eA"
      },
      "source": [
        "test.columns = test.columns.str.replace(\"-\", \"_\")"
      ],
      "execution_count": 34,
      "outputs": []
    },
    {
      "cell_type": "code",
      "metadata": {
        "colab": {
          "base_uri": "https://localhost:8080/"
        },
        "id": "tRbm6YTbibrW",
        "outputId": "68e575c4-98a9-4c35-e286-20331a603d48"
      },
      "source": [
        "missing_cols=list(set(train.columns) - set(test.columns))\n",
        "missing_cols"
      ],
      "execution_count": 35,
      "outputs": [
        {
          "output_type": "execute_result",
          "data": {
            "text/plain": [
              "['isFraud']"
            ]
          },
          "metadata": {},
          "execution_count": 35
        }
      ]
    },
    {
      "cell_type": "markdown",
      "metadata": {
        "id": "0Tqf_sHjI-xS"
      },
      "source": [
        "# **6. Cleaning and Feature Engineering**"
      ]
    },
    {
      "cell_type": "markdown",
      "metadata": {
        "id": "MFaJHylOlqqS"
      },
      "source": [
        "## **A. Null values**"
      ]
    },
    {
      "cell_type": "markdown",
      "metadata": {
        "id": "wnO2EVPQlfvM"
      },
      "source": [
        "Due to the dimensionality of the dataset, an initial cleaning of columns with a large number of null values will be performed. In this case, columns with more than 85% of null values will be eliminated, i.e. columns with 501959 null data out of 590540 total values. "
      ]
    },
    {
      "cell_type": "code",
      "metadata": {
        "id": "Ju_NQNHwbuQ9"
      },
      "source": [
        "null_Values=(train.isnull().sum()/(len(train)))*100\n",
        "null_Values_but0=null_Values[null_Values > 85]"
      ],
      "execution_count": null,
      "outputs": []
    },
    {
      "cell_type": "code",
      "metadata": {
        "id": "jSpkMmSmmyxo"
      },
      "source": [
        "columns_to_drop=null_Values_but0.to_frame().T\n"
      ],
      "execution_count": null,
      "outputs": []
    },
    {
      "cell_type": "code",
      "metadata": {
        "colab": {
          "base_uri": "https://localhost:8080/"
        },
        "id": "6uYyAxvuoVwD",
        "outputId": "a451c7b0-2aad-4876-e3bc-a7453b014f9a"
      },
      "source": [
        "columns_to_drop.columns"
      ],
      "execution_count": null,
      "outputs": [
        {
          "output_type": "execute_result",
          "data": {
            "text/plain": [
              "Index(['dist2', 'D6', 'D7', 'D8', 'D9', 'D12', 'D13', 'D14', 'V138', 'V139',\n",
              "       'V140', 'V141', 'V142', 'V143', 'V144', 'V145', 'V146', 'V147', 'V148',\n",
              "       'V149', 'V150', 'V151', 'V152', 'V153', 'V154', 'V155', 'V156', 'V157',\n",
              "       'V158', 'V159', 'V160', 'V161', 'V162', 'V163', 'V164', 'V165', 'V166',\n",
              "       'V322', 'V323', 'V324', 'V325', 'V326', 'V327', 'V328', 'V329', 'V330',\n",
              "       'V331', 'V332', 'V333', 'V334', 'V335', 'V336', 'V337', 'V338', 'V339',\n",
              "       'id_03', 'id_04', 'id_07', 'id_08', 'id_09', 'id_10', 'id_14', 'id_18',\n",
              "       'id_21', 'id_22', 'id_23', 'id_24', 'id_25', 'id_26', 'id_27', 'id_30',\n",
              "       'id_32', 'id_33', 'id_34'],\n",
              "      dtype='object')"
            ]
          },
          "metadata": {},
          "execution_count": 37
        }
      ]
    },
    {
      "cell_type": "markdown",
      "metadata": {
        "id": "5vWDqu-bmK3D"
      },
      "source": [
        "Before proceeding with the elimination, it is decided to make a correlation matrix between the chosen characteristics and the fraud column to see if they are highly correlated. "
      ]
    },
    {
      "cell_type": "code",
      "metadata": {
        "id": "gPb9CmoTpTyq"
      },
      "source": [
        "corre_drop=train[columns_to_drop.columns]"
      ],
      "execution_count": null,
      "outputs": []
    },
    {
      "cell_type": "code",
      "metadata": {
        "id": "Z_Z56rxcpr_o"
      },
      "source": [
        "null_corr=pd.concat([corre_drop,train['isFraud']],axis=1) "
      ],
      "execution_count": null,
      "outputs": []
    },
    {
      "cell_type": "code",
      "metadata": {
        "colab": {
          "base_uri": "https://localhost:8080/"
        },
        "id": "m4-PCHx55r2G",
        "outputId": "5a574497-d11a-4926-c038-1c5f11b0be04"
      },
      "source": [
        "cat_columns = null_corr.select_dtypes(include=['object']).copy() \n",
        "le = LabelEncoder()\n",
        "for feat in cat_columns:\n",
        "    null_corr[feat] = le.fit_transform(null_corr[feat].astype(str))\n",
        "\n",
        "print (null_corr.info())"
      ],
      "execution_count": null,
      "outputs": [
        {
          "output_type": "stream",
          "name": "stdout",
          "text": [
            "<class 'pandas.core.frame.DataFrame'>\n",
            "Int64Index: 590540 entries, 0 to 590539\n",
            "Data columns (total 75 columns):\n",
            " #   Column   Non-Null Count   Dtype  \n",
            "---  ------   --------------   -----  \n",
            " 0   dist2    37627 non-null   float16\n",
            " 1   D6       73187 non-null   float16\n",
            " 2   D7       38917 non-null   float16\n",
            " 3   D8       74926 non-null   float16\n",
            " 4   D9       74926 non-null   float16\n",
            " 5   D12      64717 non-null   float16\n",
            " 6   D13      61952 non-null   float16\n",
            " 7   D14      62187 non-null   float16\n",
            " 8   V138     81945 non-null   float16\n",
            " 9   V139     81945 non-null   float16\n",
            " 10  V140     81945 non-null   float16\n",
            " 11  V141     81945 non-null   float16\n",
            " 12  V142     81945 non-null   float16\n",
            " 13  V143     81951 non-null   float16\n",
            " 14  V144     81951 non-null   float16\n",
            " 15  V145     81951 non-null   float16\n",
            " 16  V146     81945 non-null   float16\n",
            " 17  V147     81945 non-null   float16\n",
            " 18  V148     81945 non-null   float16\n",
            " 19  V149     81945 non-null   float16\n",
            " 20  V150     81951 non-null   float16\n",
            " 21  V151     81951 non-null   float16\n",
            " 22  V152     81951 non-null   float16\n",
            " 23  V153     81945 non-null   float16\n",
            " 24  V154     81945 non-null   float16\n",
            " 25  V155     81945 non-null   float16\n",
            " 26  V156     81945 non-null   float16\n",
            " 27  V157     81945 non-null   float16\n",
            " 28  V158     81945 non-null   float16\n",
            " 29  V159     81951 non-null   float16\n",
            " 30  V160     81951 non-null   float32\n",
            " 31  V161     81945 non-null   float16\n",
            " 32  V162     81945 non-null   float16\n",
            " 33  V163     81945 non-null   float16\n",
            " 34  V164     81951 non-null   float32\n",
            " 35  V165     81951 non-null   float32\n",
            " 36  V166     81951 non-null   float32\n",
            " 37  V322     82351 non-null   float16\n",
            " 38  V323     82351 non-null   float16\n",
            " 39  V324     82351 non-null   float16\n",
            " 40  V325     82351 non-null   float16\n",
            " 41  V326     82351 non-null   float16\n",
            " 42  V327     82351 non-null   float16\n",
            " 43  V328     82351 non-null   float16\n",
            " 44  V329     82351 non-null   float16\n",
            " 45  V330     82351 non-null   float16\n",
            " 46  V331     82351 non-null   float32\n",
            " 47  V332     82351 non-null   float32\n",
            " 48  V333     82351 non-null   float32\n",
            " 49  V334     82351 non-null   float16\n",
            " 50  V335     82351 non-null   float16\n",
            " 51  V336     82351 non-null   float16\n",
            " 52  V337     82351 non-null   float32\n",
            " 53  V338     82351 non-null   float32\n",
            " 54  V339     82351 non-null   float32\n",
            " 55  id_03    66324 non-null   float16\n",
            " 56  id_04    66324 non-null   float16\n",
            " 57  id_07    5155 non-null    float16\n",
            " 58  id_08    5155 non-null    float16\n",
            " 59  id_09    74926 non-null   float16\n",
            " 60  id_10    74926 non-null   float16\n",
            " 61  id_14    80044 non-null   float16\n",
            " 62  id_18    45113 non-null   float16\n",
            " 63  id_21    5159 non-null    float16\n",
            " 64  id_22    5169 non-null    float16\n",
            " 65  id_23    590540 non-null  int64  \n",
            " 66  id_24    4747 non-null    float16\n",
            " 67  id_25    5132 non-null    float16\n",
            " 68  id_26    5163 non-null    float16\n",
            " 69  id_27    590540 non-null  int64  \n",
            " 70  id_30    590540 non-null  int64  \n",
            " 71  id_32    77586 non-null   float16\n",
            " 72  id_33    590540 non-null  int64  \n",
            " 73  id_34    590540 non-null  int64  \n",
            " 74  isFraud  590540 non-null  int8   \n",
            "dtypes: float16(59), float32(10), int64(5), int8(1)\n",
            "memory usage: 116.6 MB\n",
            "None\n"
          ]
        }
      ]
    },
    {
      "cell_type": "code",
      "metadata": {
        "id": "VYt8lcgg-_6X"
      },
      "source": [
        "# Create correlation matrix\n",
        "corr_matrix = null_corr.corr().abs()\n",
        "\n",
        "# Select upper triangle of correlation matrix\n",
        "upper = corr_matrix.where(np.triu(np.ones(corr_matrix.shape), k=1).astype(np.bool))\n",
        "\n",
        "# Find features with correlation greater than 0.95\n",
        "to_drop = [column for column in upper.columns if any(upper[column] > 0.35)]"
      ],
      "execution_count": null,
      "outputs": []
    },
    {
      "cell_type": "code",
      "metadata": {
        "colab": {
          "base_uri": "https://localhost:8080/"
        },
        "id": "lf0Va1tBgxnD",
        "outputId": "c0561c94-19c8-4006-bd78-f977d837ac2c"
      },
      "source": [
        "len(to_drop)"
      ],
      "execution_count": null,
      "outputs": [
        {
          "output_type": "execute_result",
          "data": {
            "text/plain": [
              "51"
            ]
          },
          "metadata": {},
          "execution_count": 42
        }
      ]
    },
    {
      "cell_type": "code",
      "metadata": {
        "colab": {
          "base_uri": "https://localhost:8080/",
          "height": 784
        },
        "id": "f3l3aMA7_-ja",
        "outputId": "ddb48ad2-beab-44a2-9057-2cf4e33bbb5c"
      },
      "source": [
        "plt.rcParams[\"figure.figsize\"] = (20,13)\n",
        "#correlation_mat = null_corr.corr()\n",
        "\n",
        "sns.heatmap(corr_matrix)\n",
        "\n",
        "plt.show()"
      ],
      "execution_count": null,
      "outputs": [
        {
          "output_type": "display_data",
          "data": {
            "image/png": "[encoded data removed]",
            "text/plain": [
              "<Figure size 1440x936 with 2 Axes>"
            ]
          },
          "metadata": {
            "needs_background": "light"
          }
        }
      ]
    },
    {
      "cell_type": "code",
      "metadata": {
        "id": "_afZ_4TrohP6",
        "colab": {
          "base_uri": "https://localhost:8080/"
        },
        "outputId": "8c85d0e7-63e4-48e7-8f2d-0a89df4db972"
      },
      "source": [
        "print('Eliminación de variables con más del 85% de valores nulos')\n",
        "trainset=train.drop(to_drop, axis=1)\n",
        "print(f'TRAIN: Tamaño original de características {train.shape[1]} y tamaño resultante {trainset.shape[1]}')\n",
        "testset=test.drop(to_drop, axis=1)\n",
        "print(f'TEST: Tamaño original de características {test.shape[1]} y tamaño resultante {testset.shape[1]}')"
      ],
      "execution_count": null,
      "outputs": [
        {
          "output_type": "stream",
          "name": "stdout",
          "text": [
            "Eliminación de variables con más del 85% de valores nulos\n",
            "TRAIN: Tamaño original de características 434 y tamaño resultante 383\n",
            "TEST: Tamaño original de características 433 y tamaño resultante 382\n"
          ]
        }
      ]
    },
    {
      "cell_type": "markdown",
      "metadata": {
        "id": "wTC-7jCFnyUx"
      },
      "source": [
        "## **B. Exploration for dataset**"
      ]
    },
    {
      "cell_type": "markdown",
      "metadata": {
        "id": "eKKB7DBwnyRe"
      },
      "source": [
        "As can be seen in the graph, apart from the dimensionality of the dataset, there is also a large imbalance between the fraud and non-fraud label. Obtaining more than 96% in non-fraud cases, with respect to more than 3% of the cases considered as fraud. "
      ]
    },
    {
      "cell_type": "code",
      "metadata": {
        "colab": {
          "base_uri": "https://localhost:8080/",
          "height": 417
        },
        "id": "CwzWWP8tEBiU",
        "outputId": "9052bc03-753c-458b-9fd4-9062e4890b80"
      },
      "source": [
        "ax = trainset['isFraud'].value_counts().plot(kind='bar',\n",
        "                                    figsize=(10,6),\n",
        "                                    title=\"Número de casos de fraude/no fraude\", color=['blue','orange'])\n",
        "total=[]\n",
        "for p in ax.patches:\n",
        "    width = p.get_width()\n",
        "    height = p.get_height()\n",
        "    total.append(height)\n",
        "total_val=sum(total)  \n",
        "\n",
        "for p in ax.patches:\n",
        "    width = p.get_width()\n",
        "    height = p.get_height()\n",
        "    x, y = p.get_xy() \n",
        "    ax.annotate(f'{((height/total_val)):.2%}', (x + width/2, y + height*1.005), ha='center')\n",
        "ax.set_xlabel(\"Etiquetas de fraude\")\n",
        "ax.set_ylabel(\"Porcentaje de casos\")"
      ],
      "execution_count": null,
      "outputs": [
        {
          "output_type": "execute_result",
          "data": {
            "text/plain": [
              "Text(0, 0.5, 'Porcentaje de casos')"
            ]
          },
          "metadata": {},
          "execution_count": 45
        },
        {
          "output_type": "display_data",
          "data": {
            "image/png": "[encoded data removed]",
            "text/plain": [
              "<Figure size 720x432 with 1 Axes>"
            ]
          },
          "metadata": {
            "needs_background": "light"
          }
        }
      ]
    },
    {
      "cell_type": "markdown",
      "metadata": {
        "id": "0-DljiZNpvhV"
      },
      "source": [
        "It is also possible to see that the `TransactionDT` column is in fact a column measured in seconds, when converted into days, we can see that for both the training and test datasets a split in time (representing approximately one year of transactions) was performed for the competition. For the training dataset we observe that it contains information for six months, while for the test dataset it is approximately the same amount. Some feature engineering will be done to see if time affects the determination of the fraud category. "
      ]
    },
    {
      "cell_type": "code",
      "metadata": {
        "colab": {
          "base_uri": "https://localhost:8080/",
          "height": 337
        },
        "id": "Mtb4ctselzGp",
        "outputId": "c549cb19-eadb-4278-f3f8-c6b1441215a4"
      },
      "source": [
        "plt.rcParams[\"figure.figsize\"] = (15,5)\n",
        "plt.hist((trainset['TransactionDT']/86400),bins=70, label='Distribución train')\n",
        "plt.hist((test['TransactionDT']/86400),bins=70,label='Distribución test')\n",
        "plt.legend()"
      ],
      "execution_count": null,
      "outputs": [
        {
          "output_type": "execute_result",
          "data": {
            "text/plain": [
              "<matplotlib.legend.Legend at 0x7f41b046e910>"
            ]
          },
          "metadata": {},
          "execution_count": 47
        },
        {
          "output_type": "display_data",
          "data": {
            "image/png": "[encoded data removed]",
            "text/plain": [
              "<Figure size 1080x360 with 1 Axes>"
            ]
          },
          "metadata": {
            "needs_background": "light"
          }
        }
      ]
    },
    {
      "cell_type": "code",
      "metadata": {
        "colab": {
          "base_uri": "https://localhost:8080/"
        },
        "id": "Ymm2C61lrlxe",
        "outputId": "8af52a9d-1789-40c3-fc83-c331e8eb8810"
      },
      "source": [
        "trainset['TransactionDT'].head()"
      ],
      "execution_count": null,
      "outputs": [
        {
          "output_type": "execute_result",
          "data": {
            "text/plain": [
              "0    86400\n",
              "1    86401\n",
              "2    86469\n",
              "3    86499\n",
              "4    86506\n",
              "Name: TransactionDT, dtype: int32"
            ]
          },
          "metadata": {},
          "execution_count": 48
        }
      ]
    },
    {
      "cell_type": "code",
      "metadata": {
        "colab": {
          "base_uri": "https://localhost:8080/"
        },
        "id": "88KxegibiuTm",
        "outputId": "1275bab8-8d76-44e2-fe12-5c84ae74bb69"
      },
      "source": [
        "np.floor(trainset['TransactionDT']/86400).describe()\n"
      ],
      "execution_count": null,
      "outputs": [
        {
          "output_type": "execute_result",
          "data": {
            "text/plain": [
              "count    590540.000000\n",
              "mean         84.729199\n",
              "std          53.437277\n",
              "min           1.000000\n",
              "25%          35.000000\n",
              "50%          84.000000\n",
              "75%         130.000000\n",
              "max         182.000000\n",
              "Name: TransactionDT, dtype: float64"
            ]
          },
          "metadata": {},
          "execution_count": 49
        }
      ]
    },
    {
      "cell_type": "markdown",
      "metadata": {
        "id": "_oJ0GQII_7cP"
      },
      "source": [
        "### **B.1. Email exploring**"
      ]
    },
    {
      "cell_type": "code",
      "metadata": {
        "id": "MRBF-lJgpEzq"
      },
      "source": [
        "email_fraud=trainset['P_emaildomain'][trainset['isFraud']==1].to_frame()\n",
        "email_nofraud=trainset['P_emaildomain'][trainset['isFraud']==0].to_frame()"
      ],
      "execution_count": null,
      "outputs": []
    },
    {
      "cell_type": "code",
      "metadata": {
        "colab": {
          "base_uri": "https://localhost:8080/"
        },
        "id": "AojpCbPOpYrC",
        "outputId": "d5193270-d89b-4821-ac2f-a02834c194b3"
      },
      "source": [
        "df=email_fraud.value_counts()\n",
        "#df.groupby('Team').count()\n",
        "df"
      ],
      "execution_count": null,
      "outputs": [
        {
          "output_type": "execute_result",
          "data": {
            "text/plain": [
              "P_emaildomain  \n",
              "gmail.com          9943\n",
              "hotmail.com        2396\n",
              "yahoo.com          2297\n",
              "anonymous.com       859\n",
              "aol.com             617\n",
              "outlook.com         482\n",
              "comcast.net         246\n",
              "icloud.com          197\n",
              "mail.com            106\n",
              "msn.com              90\n",
              "live.com             84\n",
              "outlook.es           57\n",
              "bellsouth.net        53\n",
              "ymail.com            50\n",
              "live.com.mx          41\n",
              "aim.com              40\n",
              "protonmail.com       31\n",
              "att.net              30\n",
              "cox.net              29\n",
              "me.com               27\n",
              "charter.net          25\n",
              "verizon.net          22\n",
              "hotmail.es           20\n",
              "optonline.net        17\n",
              "yahoo.com.mx         16\n",
              "mac.com              14\n",
              "sbcglobal.net        12\n",
              "gmail                11\n",
              "earthlink.net        11\n",
              "embarqmail.com        9\n",
              "frontier.com          8\n",
              "juno.com              6\n",
              "frontiernet.net       5\n",
              "yahoo.fr              5\n",
              "suddenlink.net        4\n",
              "cableone.net          3\n",
              "roadrunner.com        3\n",
              "yahoo.es              2\n",
              "rocketmail.com        2\n",
              "netzero.net           1\n",
              "prodigy.net.mx        1\n",
              "sc.rr.com             1\n",
              "dtype: int64"
            ]
          },
          "metadata": {},
          "execution_count": 59
        }
      ]
    },
    {
      "cell_type": "code",
      "metadata": {
        "colab": {
          "base_uri": "https://localhost:8080/"
        },
        "id": "yAtcl6Qqtx_S",
        "outputId": "11ebf181-fb22-4293-892d-f438cb85ea5b"
      },
      "source": [
        "df2=email_nofraud.value_counts()\n",
        "df2"
      ],
      "execution_count": null,
      "outputs": [
        {
          "output_type": "execute_result",
          "data": {
            "text/plain": [
              "P_emaildomain   \n",
              "gmail.com           218412\n",
              "yahoo.com            98637\n",
              "hotmail.com          42854\n",
              "anonymous.com        36139\n",
              "aol.com              27672\n",
              "comcast.net           7642\n",
              "icloud.com            6070\n",
              "outlook.com           4614\n",
              "att.net               4003\n",
              "msn.com               4002\n",
              "sbcglobal.net         2958\n",
              "live.com              2957\n",
              "verizon.net           2683\n",
              "ymail.com             2346\n",
              "bellsouth.net         1856\n",
              "yahoo.com.mx          1527\n",
              "me.com                1495\n",
              "cox.net               1364\n",
              "optonline.net          994\n",
              "charter.net            791\n",
              "live.com.mx            708\n",
              "rocketmail.com         662\n",
              "earthlink.net          503\n",
              "gmail                  485\n",
              "mail.com               453\n",
              "mac.com                422\n",
              "outlook.es             381\n",
              "juno.com               316\n",
              "windstream.net         305\n",
              "roadrunner.com         302\n",
              "hotmail.fr             295\n",
              "hotmail.es             285\n",
              "aim.com                275\n",
              "frontier.com           272\n",
              "embarqmail.com         251\n",
              "web.de                 240\n",
              "netzero.com            230\n",
              "twc.com                230\n",
              "prodigy.net.mx         206\n",
              "centurylink.net        205\n",
              "netzero.net            195\n",
              "frontiernet.net        190\n",
              "q.com                  189\n",
              "cfl.rr.com             172\n",
              "suddenlink.net         171\n",
              "sc.rr.com              163\n",
              "cableone.net           156\n",
              "gmx.de                 149\n",
              "yahoo.fr               138\n",
              "yahoo.es               132\n",
              "hotmail.co.uk          112\n",
              "yahoo.de                74\n",
              "ptd.net                 68\n",
              "live.fr                 56\n",
              "yahoo.co.uk             49\n",
              "protonmail.com          45\n",
              "hotmail.de              43\n",
              "servicios-ta.com        35\n",
              "yahoo.co.jp             32\n",
              "dtype: int64"
            ]
          },
          "metadata": {},
          "execution_count": 60
        }
      ]
    },
    {
      "cell_type": "code",
      "metadata": {
        "colab": {
          "base_uri": "https://localhost:8080/"
        },
        "id": "BXT-wIWWvIHQ",
        "outputId": "d1333420-3eca-43e5-f473-b8226cdf0b5d"
      },
      "source": [
        "fraudster=trainset[trainset['isFraud']==1]\n",
        "fraudster.groupby(by='card4')['ProductCD'].value_counts()\n",
        "\n"
      ],
      "execution_count": null,
      "outputs": [
        {
          "output_type": "execute_result",
          "data": {
            "text/plain": [
              "card4             ProductCD\n",
              "american express  R             111\n",
              "                  H              91\n",
              "                  S              35\n",
              "                  C               2\n",
              "discover          W             336\n",
              "                  S              77\n",
              "                  R              56\n",
              "                  H              45\n",
              "mastercard        C            3072\n",
              "                  W            2438\n",
              "                  H             413\n",
              "                  R             373\n",
              "                  S             200\n",
              "visa              W            6174\n",
              "                  C            4916\n",
              "                  H            1024\n",
              "                  R             885\n",
              "                  S             374\n",
              "Name: ProductCD, dtype: int64"
            ]
          },
          "metadata": {},
          "execution_count": 61
        }
      ]
    },
    {
      "cell_type": "code",
      "metadata": {
        "id": "H_Fy2HAyoRl0"
      },
      "source": [
        "visas=fraudster[fraudster['card4']=='visa']\n",
        "visa_card=visas.groupby('P_emaildomain').count()['ProductCD'].to_frame()"
      ],
      "execution_count": null,
      "outputs": []
    },
    {
      "cell_type": "code",
      "metadata": {
        "id": "Qd5HDNKNvBqy"
      },
      "source": [
        "visa_card['P_emaildomain'] = visa_card.index"
      ],
      "execution_count": null,
      "outputs": []
    },
    {
      "cell_type": "code",
      "metadata": {
        "id": "4yC7IkYk8_ip"
      },
      "source": [
        "visa_card['hours'] = visas.groupby('P_emaildomain').mean()['T_hours'].to_frame()\n",
        "visa_card['months'] = visas.groupby('P_emaildomain').mean()['T_month'].to_frame()"
      ],
      "execution_count": null,
      "outputs": []
    },
    {
      "cell_type": "code",
      "metadata": {
        "colab": {
          "base_uri": "https://localhost:8080/",
          "height": 656
        },
        "id": "NFukaCjTu7as",
        "outputId": "c799ed93-f808-4666-f510-986435929e01"
      },
      "source": [
        "fig,(ax,ax2,ax3)=plt.subplots(3,1,figsize=(11,9))\n",
        "ax.plot(visa_card['P_emaildomain'],visa_card['ProductCD'], label='Producto compilado',color='red',marker='o')\n",
        "ax.tick_params(labelrotation=90)\n",
        "ax.set_ylabel('Número de casos')\n",
        "ax.set_title('Casos de fraude por dominio de correo electrónico', color='k')\n",
        "ax.legend()\n",
        "ax2.plot(visa_card['P_emaildomain'],visa_card['hours'], label='Horas',color='blue',marker='o')\n",
        "ax2.set_ylabel('Promedio de hora')\n",
        "ax2.tick_params(labelrotation=90)\n",
        "ax2.axhline(y=2, color='k', linestyle='-')\n",
        "ax2.axhline(y=10, color='k', linestyle='-')\n",
        "ax2.legend()\n",
        "ax3.plot(visa_card['P_emaildomain'],visa_card['months'], label='Meses',color='green',marker='o')\n",
        "ax3.set_ylabel('Promedio de mes')\n",
        "ax3.axhline(y=6, color='k', linestyle='-')\n",
        "ax3.tick_params(labelrotation=90)\n",
        "ax3.legend()\n",
        "plt.tight_layout()\n",
        "plt.show()"
      ],
      "execution_count": null,
      "outputs": [
        {
          "output_type": "display_data",
          "data": {
            "image/png": "[encoded data removed]",
            "text/plain": [
              "<Figure size 792x648 with 3 Axes>"
            ]
          },
          "metadata": {}
        }
      ]
    },
    {
      "cell_type": "code",
      "metadata": {
        "colab": {
          "base_uri": "https://localhost:8080/",
          "height": 1000
        },
        "id": "gNQpR0Qkv09O",
        "outputId": "54f2352f-07dc-48d1-d0e2-905d6aa5d676"
      },
      "source": [
        "visa_card"
      ],
      "execution_count": null,
      "outputs": [
        {
          "output_type": "execute_result",
          "data": {
            "text/html": [
              "<div>\n",
              "<style scoped>\n",
              "    .dataframe tbody tr th:only-of-type {\n",
              "        vertical-align: middle;\n",
              "    }\n",
              "\n",
              "    .dataframe tbody tr th {\n",
              "        vertical-align: top;\n",
              "    }\n",
              "\n",
              "    .dataframe thead th {\n",
              "        text-align: right;\n",
              "    }\n",
              "</style>\n",
              "<table border=\"1\" class=\"dataframe\">\n",
              "  <thead>\n",
              "    <tr style=\"text-align: right;\">\n",
              "      <th></th>\n",
              "      <th>ProductCD</th>\n",
              "      <th>P_emaildomain</th>\n",
              "      <th>hours</th>\n",
              "      <th>months</th>\n",
              "    </tr>\n",
              "    <tr>\n",
              "      <th>P_emaildomain</th>\n",
              "      <th></th>\n",
              "      <th></th>\n",
              "      <th></th>\n",
              "      <th></th>\n",
              "    </tr>\n",
              "  </thead>\n",
              "  <tbody>\n",
              "    <tr>\n",
              "      <th>aim.com</th>\n",
              "      <td>39</td>\n",
              "      <td>aim.com</td>\n",
              "      <td>15.128205</td>\n",
              "      <td>2.461538</td>\n",
              "    </tr>\n",
              "    <tr>\n",
              "      <th>anonymous.com</th>\n",
              "      <td>637</td>\n",
              "      <td>anonymous.com</td>\n",
              "      <td>12.901099</td>\n",
              "      <td>3.959184</td>\n",
              "    </tr>\n",
              "    <tr>\n",
              "      <th>aol.com</th>\n",
              "      <td>398</td>\n",
              "      <td>aol.com</td>\n",
              "      <td>14.185930</td>\n",
              "      <td>4.241206</td>\n",
              "    </tr>\n",
              "    <tr>\n",
              "      <th>att.net</th>\n",
              "      <td>20</td>\n",
              "      <td>att.net</td>\n",
              "      <td>14.200000</td>\n",
              "      <td>6.050000</td>\n",
              "    </tr>\n",
              "    <tr>\n",
              "      <th>bellsouth.net</th>\n",
              "      <td>20</td>\n",
              "      <td>bellsouth.net</td>\n",
              "      <td>15.200000</td>\n",
              "      <td>4.100000</td>\n",
              "    </tr>\n",
              "    <tr>\n",
              "      <th>cableone.net</th>\n",
              "      <td>3</td>\n",
              "      <td>cableone.net</td>\n",
              "      <td>20.000000</td>\n",
              "      <td>6.333333</td>\n",
              "    </tr>\n",
              "    <tr>\n",
              "      <th>charter.net</th>\n",
              "      <td>12</td>\n",
              "      <td>charter.net</td>\n",
              "      <td>10.666667</td>\n",
              "      <td>4.750000</td>\n",
              "    </tr>\n",
              "    <tr>\n",
              "      <th>comcast.net</th>\n",
              "      <td>182</td>\n",
              "      <td>comcast.net</td>\n",
              "      <td>14.510989</td>\n",
              "      <td>3.851648</td>\n",
              "    </tr>\n",
              "    <tr>\n",
              "      <th>cox.net</th>\n",
              "      <td>20</td>\n",
              "      <td>cox.net</td>\n",
              "      <td>11.950000</td>\n",
              "      <td>3.300000</td>\n",
              "    </tr>\n",
              "    <tr>\n",
              "      <th>earthlink.net</th>\n",
              "      <td>11</td>\n",
              "      <td>earthlink.net</td>\n",
              "      <td>17.454545</td>\n",
              "      <td>3.363636</td>\n",
              "    </tr>\n",
              "    <tr>\n",
              "      <th>frontier.com</th>\n",
              "      <td>8</td>\n",
              "      <td>frontier.com</td>\n",
              "      <td>18.000000</td>\n",
              "      <td>4.750000</td>\n",
              "    </tr>\n",
              "    <tr>\n",
              "      <th>gmail</th>\n",
              "      <td>8</td>\n",
              "      <td>gmail</td>\n",
              "      <td>20.750000</td>\n",
              "      <td>6.625000</td>\n",
              "    </tr>\n",
              "    <tr>\n",
              "      <th>gmail.com</th>\n",
              "      <td>6409</td>\n",
              "      <td>gmail.com</td>\n",
              "      <td>13.157903</td>\n",
              "      <td>4.410985</td>\n",
              "    </tr>\n",
              "    <tr>\n",
              "      <th>hotmail.com</th>\n",
              "      <td>1403</td>\n",
              "      <td>hotmail.com</td>\n",
              "      <td>12.682823</td>\n",
              "      <td>4.811119</td>\n",
              "    </tr>\n",
              "    <tr>\n",
              "      <th>hotmail.es</th>\n",
              "      <td>18</td>\n",
              "      <td>hotmail.es</td>\n",
              "      <td>10.666667</td>\n",
              "      <td>1.666667</td>\n",
              "    </tr>\n",
              "    <tr>\n",
              "      <th>icloud.com</th>\n",
              "      <td>127</td>\n",
              "      <td>icloud.com</td>\n",
              "      <td>13.228346</td>\n",
              "      <td>4.370079</td>\n",
              "    </tr>\n",
              "    <tr>\n",
              "      <th>juno.com</th>\n",
              "      <td>1</td>\n",
              "      <td>juno.com</td>\n",
              "      <td>0.000000</td>\n",
              "      <td>4.000000</td>\n",
              "    </tr>\n",
              "    <tr>\n",
              "      <th>live.com</th>\n",
              "      <td>36</td>\n",
              "      <td>live.com</td>\n",
              "      <td>11.527778</td>\n",
              "      <td>3.472222</td>\n",
              "    </tr>\n",
              "    <tr>\n",
              "      <th>live.com.mx</th>\n",
              "      <td>19</td>\n",
              "      <td>live.com.mx</td>\n",
              "      <td>7.684211</td>\n",
              "      <td>4.105263</td>\n",
              "    </tr>\n",
              "    <tr>\n",
              "      <th>mac.com</th>\n",
              "      <td>11</td>\n",
              "      <td>mac.com</td>\n",
              "      <td>4.818182</td>\n",
              "      <td>3.363636</td>\n",
              "    </tr>\n",
              "    <tr>\n",
              "      <th>mail.com</th>\n",
              "      <td>49</td>\n",
              "      <td>mail.com</td>\n",
              "      <td>14.346939</td>\n",
              "      <td>3.836735</td>\n",
              "    </tr>\n",
              "    <tr>\n",
              "      <th>me.com</th>\n",
              "      <td>19</td>\n",
              "      <td>me.com</td>\n",
              "      <td>9.315789</td>\n",
              "      <td>6.526316</td>\n",
              "    </tr>\n",
              "    <tr>\n",
              "      <th>msn.com</th>\n",
              "      <td>62</td>\n",
              "      <td>msn.com</td>\n",
              "      <td>15.903226</td>\n",
              "      <td>5.806452</td>\n",
              "    </tr>\n",
              "    <tr>\n",
              "      <th>netzero.net</th>\n",
              "      <td>1</td>\n",
              "      <td>netzero.net</td>\n",
              "      <td>19.000000</td>\n",
              "      <td>4.000000</td>\n",
              "    </tr>\n",
              "    <tr>\n",
              "      <th>outlook.com</th>\n",
              "      <td>283</td>\n",
              "      <td>outlook.com</td>\n",
              "      <td>12.780919</td>\n",
              "      <td>4.713781</td>\n",
              "    </tr>\n",
              "    <tr>\n",
              "      <th>outlook.es</th>\n",
              "      <td>30</td>\n",
              "      <td>outlook.es</td>\n",
              "      <td>8.600000</td>\n",
              "      <td>3.166667</td>\n",
              "    </tr>\n",
              "    <tr>\n",
              "      <th>prodigy.net.mx</th>\n",
              "      <td>1</td>\n",
              "      <td>prodigy.net.mx</td>\n",
              "      <td>20.000000</td>\n",
              "      <td>12.000000</td>\n",
              "    </tr>\n",
              "    <tr>\n",
              "      <th>protonmail.com</th>\n",
              "      <td>16</td>\n",
              "      <td>protonmail.com</td>\n",
              "      <td>8.250000</td>\n",
              "      <td>4.125000</td>\n",
              "    </tr>\n",
              "    <tr>\n",
              "      <th>roadrunner.com</th>\n",
              "      <td>3</td>\n",
              "      <td>roadrunner.com</td>\n",
              "      <td>10.000000</td>\n",
              "      <td>3.000000</td>\n",
              "    </tr>\n",
              "    <tr>\n",
              "      <th>sbcglobal.net</th>\n",
              "      <td>12</td>\n",
              "      <td>sbcglobal.net</td>\n",
              "      <td>14.250000</td>\n",
              "      <td>3.750000</td>\n",
              "    </tr>\n",
              "    <tr>\n",
              "      <th>sc.rr.com</th>\n",
              "      <td>1</td>\n",
              "      <td>sc.rr.com</td>\n",
              "      <td>19.000000</td>\n",
              "      <td>4.000000</td>\n",
              "    </tr>\n",
              "    <tr>\n",
              "      <th>suddenlink.net</th>\n",
              "      <td>3</td>\n",
              "      <td>suddenlink.net</td>\n",
              "      <td>21.000000</td>\n",
              "      <td>1.000000</td>\n",
              "    </tr>\n",
              "    <tr>\n",
              "      <th>verizon.net</th>\n",
              "      <td>14</td>\n",
              "      <td>verizon.net</td>\n",
              "      <td>14.571429</td>\n",
              "      <td>4.214286</td>\n",
              "    </tr>\n",
              "    <tr>\n",
              "      <th>yahoo.com</th>\n",
              "      <td>1578</td>\n",
              "      <td>yahoo.com</td>\n",
              "      <td>14.276299</td>\n",
              "      <td>4.065906</td>\n",
              "    </tr>\n",
              "    <tr>\n",
              "      <th>yahoo.com.mx</th>\n",
              "      <td>6</td>\n",
              "      <td>yahoo.com.mx</td>\n",
              "      <td>19.500000</td>\n",
              "      <td>4.166667</td>\n",
              "    </tr>\n",
              "    <tr>\n",
              "      <th>yahoo.es</th>\n",
              "      <td>2</td>\n",
              "      <td>yahoo.es</td>\n",
              "      <td>2.000000</td>\n",
              "      <td>3.500000</td>\n",
              "    </tr>\n",
              "    <tr>\n",
              "      <th>yahoo.fr</th>\n",
              "      <td>5</td>\n",
              "      <td>yahoo.fr</td>\n",
              "      <td>12.000000</td>\n",
              "      <td>2.000000</td>\n",
              "    </tr>\n",
              "    <tr>\n",
              "      <th>ymail.com</th>\n",
              "      <td>37</td>\n",
              "      <td>ymail.com</td>\n",
              "      <td>13.405405</td>\n",
              "      <td>4.702703</td>\n",
              "    </tr>\n",
              "  </tbody>\n",
              "</table>\n",
              "</div>"
            ],
            "text/plain": [
              "                ProductCD   P_emaildomain      hours     months\n",
              "P_emaildomain                                                  \n",
              "aim.com                39         aim.com  15.128205   2.461538\n",
              "anonymous.com         637   anonymous.com  12.901099   3.959184\n",
              "aol.com               398         aol.com  14.185930   4.241206\n",
              "att.net                20         att.net  14.200000   6.050000\n",
              "bellsouth.net          20   bellsouth.net  15.200000   4.100000\n",
              "cableone.net            3    cableone.net  20.000000   6.333333\n",
              "charter.net            12     charter.net  10.666667   4.750000\n",
              "comcast.net           182     comcast.net  14.510989   3.851648\n",
              "cox.net                20         cox.net  11.950000   3.300000\n",
              "earthlink.net          11   earthlink.net  17.454545   3.363636\n",
              "frontier.com            8    frontier.com  18.000000   4.750000\n",
              "gmail                   8           gmail  20.750000   6.625000\n",
              "gmail.com            6409       gmail.com  13.157903   4.410985\n",
              "hotmail.com          1403     hotmail.com  12.682823   4.811119\n",
              "hotmail.es             18      hotmail.es  10.666667   1.666667\n",
              "icloud.com            127      icloud.com  13.228346   4.370079\n",
              "juno.com                1        juno.com   0.000000   4.000000\n",
              "live.com               36        live.com  11.527778   3.472222\n",
              "live.com.mx            19     live.com.mx   7.684211   4.105263\n",
              "mac.com                11         mac.com   4.818182   3.363636\n",
              "mail.com               49        mail.com  14.346939   3.836735\n",
              "me.com                 19          me.com   9.315789   6.526316\n",
              "msn.com                62         msn.com  15.903226   5.806452\n",
              "netzero.net             1     netzero.net  19.000000   4.000000\n",
              "outlook.com           283     outlook.com  12.780919   4.713781\n",
              "outlook.es             30      outlook.es   8.600000   3.166667\n",
              "prodigy.net.mx          1  prodigy.net.mx  20.000000  12.000000\n",
              "protonmail.com         16  protonmail.com   8.250000   4.125000\n",
              "roadrunner.com          3  roadrunner.com  10.000000   3.000000\n",
              "sbcglobal.net          12   sbcglobal.net  14.250000   3.750000\n",
              "sc.rr.com               1       sc.rr.com  19.000000   4.000000\n",
              "suddenlink.net          3  suddenlink.net  21.000000   1.000000\n",
              "verizon.net            14     verizon.net  14.571429   4.214286\n",
              "yahoo.com            1578       yahoo.com  14.276299   4.065906\n",
              "yahoo.com.mx            6    yahoo.com.mx  19.500000   4.166667\n",
              "yahoo.es                2        yahoo.es   2.000000   3.500000\n",
              "yahoo.fr                5        yahoo.fr  12.000000   2.000000\n",
              "ymail.com              37       ymail.com  13.405405   4.702703"
            ]
          },
          "metadata": {},
          "execution_count": 66
        }
      ]
    },
    {
      "cell_type": "code",
      "metadata": {
        "colab": {
          "base_uri": "https://localhost:8080/"
        },
        "id": "bkol799BwV4U",
        "outputId": "26429224-432d-44b5-9bd5-dc41065afaa5"
      },
      "source": [
        "trainset['T_month'].unique()"
      ],
      "execution_count": null,
      "outputs": [
        {
          "output_type": "execute_result",
          "data": {
            "text/plain": [
              "array([12,  1,  2,  3,  4,  5,  6])"
            ]
          },
          "metadata": {},
          "execution_count": 57
        }
      ]
    },
    {
      "cell_type": "code",
      "metadata": {
        "colab": {
          "base_uri": "https://localhost:8080/"
        },
        "id": "adnDRonfnYx-",
        "outputId": "ba327c30-ca59-4644-c144-7be90e2b01c0"
      },
      "source": [
        "np.floor(test['TransactionDT']/86400).describe()\n"
      ],
      "execution_count": null,
      "outputs": [
        {
          "output_type": "execute_result",
          "data": {
            "text/plain": [
              "count    506691.000000\n",
              "mean        311.086427\n",
              "std          55.058802\n",
              "min         213.000000\n",
              "25%         263.000000\n",
              "50%         314.000000\n",
              "75%         362.000000\n",
              "max         395.000000\n",
              "Name: TransactionDT, dtype: float64"
            ]
          },
          "metadata": {},
          "execution_count": 50
        }
      ]
    },
    {
      "cell_type": "code",
      "metadata": {
        "colab": {
          "base_uri": "https://localhost:8080/",
          "height": 616
        },
        "id": "3JunCOZek5J0",
        "outputId": "bb391664-529d-422d-ebf8-b0a3b430ec10"
      },
      "source": [
        "#Se grafican los cada dominio de correo con respecto a la cantidad de transacciones que presentan\n",
        "correos=trainset.groupby(\"P_emaildomain\").count()[\"isFraud\"]\n",
        "etiqueta1=[ 'gmail.com', 'outlook.com', 'yahoo.com', 'mail.com',\n",
        "       'anonymous.com', 'hotmail.com', 'verizon.net', 'aol.com', 'me.com',\n",
        "       'comcast.net', 'optonline.net', 'cox.net', 'charter.net',\n",
        "       'rocketmail.com', 'prodigy.net.mx', 'embarqmail.com', 'icloud.com',\n",
        "       'live.com.mx', 'gmail', 'live.com', 'att.net', 'juno.com',\n",
        "       'ymail.com', 'sbcglobal.net', 'bellsouth.net', 'msn.com', 'q.com',\n",
        "       'yahoo.com.mx', 'centurylink.net', 'servicios-ta.com',\n",
        "       'earthlink.net', 'hotmail.es', 'cfl.rr.com', 'roadrunner.com',\n",
        "       'netzero.net', 'gmx.de', 'suddenlink.net', 'frontiernet.net',\n",
        "       'windstream.net', 'frontier.com', 'outlook.es', 'mac.com',\n",
        "       'netzero.com', 'aim.com', 'web.de', 'twc.com', 'cableone.net',\n",
        "       'yahoo.fr', 'yahoo.de', 'yahoo.es', 'sc.rr.com', 'ptd.net',\n",
        "       'live.fr', 'yahoo.co.uk', 'hotmail.fr', 'hotmail.de',\n",
        "       'hotmail.co.uk', 'protonmail.com', 'yahoo.co.jp']\n",
        "plot_bar_grouped(etiqueta1,correos,titles='Cantidad de transacciones (fraude o no) de acuerdo al correo electrónico',ancho_plot=19,largo_plot=9,mode='v',rotate_angle=90)"
      ],
      "execution_count": null,
      "outputs": [
        {
          "output_type": "display_data",
          "data": {
            "image/png": "[encoded data removed]",
            "text/plain": [
              "<Figure size 1368x648 with 1 Axes>"
            ]
          },
          "metadata": {}
        }
      ]
    },
    {
      "cell_type": "code",
      "metadata": {
        "colab": {
          "base_uri": "https://localhost:8080/",
          "height": 634
        },
        "id": "eeYkdUK3gxUv",
        "outputId": "722347fd-1163-4521-9c9b-2f232caa02d3"
      },
      "source": [
        "#Se grafica lo mismo de la línea de código anterior pero se separan las etiquetas\n",
        "trainset.groupby(['isFraud', 'P_emaildomain'])[\"P_emaildomain\"].count().unstack(level=0).plot(kind='bar',figsize=(19,9))\n"
      ],
      "execution_count": null,
      "outputs": [
        {
          "output_type": "execute_result",
          "data": {
            "text/plain": [
              "<matplotlib.axes._subplots.AxesSubplot at 0x7f41a4a88310>"
            ]
          },
          "metadata": {},
          "execution_count": 76
        },
        {
          "output_type": "display_data",
          "data": {
            "image/png": "[encoded data removed]",
            "text/plain": [
              "<Figure size 1368x648 with 1 Axes>"
            ]
          },
          "metadata": {}
        }
      ]
    },
    {
      "cell_type": "markdown",
      "metadata": {
        "id": "nnj0ljLFl_RW"
      },
      "source": [
        "### **B.2. Card identification**"
      ]
    },
    {
      "cell_type": "markdown",
      "metadata": {
        "id": "wYNtg5qqmC_3"
      },
      "source": [
        "According to the competition the columns card1,..., card6 represent:\n",
        "payment card information, such as card type, card category, issuing bank, country, etc.\n",
        "Looking at the 6 columns one could assume that column card1 (which apparently has 6mil unique values) would refer to the issuer/bank identification number, and was subsequently encoded.\n",
        "\n"
      ]
    },
    {
      "cell_type": "code",
      "metadata": {
        "colab": {
          "base_uri": "https://localhost:8080/"
        },
        "id": "rhHjXXXSfgkC",
        "outputId": "3cd5b38c-4928-42ba-ed22-5e33a2428fe6"
      },
      "source": [
        "trainset.groupby('card1')['card1'].count()"
      ],
      "execution_count": null,
      "outputs": [
        {
          "output_type": "execute_result",
          "data": {
            "text/plain": [
              "card1\n",
              "1000      1\n",
              "1001      3\n",
              "1004      5\n",
              "1005      1\n",
              "1006      3\n",
              "         ..\n",
              "18390    64\n",
              "18391     1\n",
              "18393     3\n",
              "18395    11\n",
              "18396     1\n",
              "Name: card1, Length: 13553, dtype: int64"
            ]
          },
          "metadata": {},
          "execution_count": 77
        }
      ]
    },
    {
      "cell_type": "markdown",
      "metadata": {
        "id": "PFUMzN1xoWin"
      },
      "source": [
        "También, card3 o card5 podría ser el país emisor de la tarjeta.\n"
      ]
    },
    {
      "cell_type": "code",
      "metadata": {
        "colab": {
          "base_uri": "https://localhost:8080/",
          "height": 414
        },
        "id": "XPf5e8m3oelK",
        "outputId": "45ae700a-4b7b-472e-931e-8aee1e6a0d3e"
      },
      "source": [
        "regions=trainset[['card3','card5','addr1','addr2','dist1','dist2']]\n",
        "regions"
      ],
      "execution_count": null,
      "outputs": [
        {
          "output_type": "execute_result",
          "data": {
            "text/html": [
              "<div>\n",
              "<style scoped>\n",
              "    .dataframe tbody tr th:only-of-type {\n",
              "        vertical-align: middle;\n",
              "    }\n",
              "\n",
              "    .dataframe tbody tr th {\n",
              "        vertical-align: top;\n",
              "    }\n",
              "\n",
              "    .dataframe thead th {\n",
              "        text-align: right;\n",
              "    }\n",
              "</style>\n",
              "<table border=\"1\" class=\"dataframe\">\n",
              "  <thead>\n",
              "    <tr style=\"text-align: right;\">\n",
              "      <th></th>\n",
              "      <th>card3</th>\n",
              "      <th>card5</th>\n",
              "      <th>addr1</th>\n",
              "      <th>addr2</th>\n",
              "      <th>dist1</th>\n",
              "      <th>dist2</th>\n",
              "    </tr>\n",
              "  </thead>\n",
              "  <tbody>\n",
              "    <tr>\n",
              "      <th>0</th>\n",
              "      <td>150.0</td>\n",
              "      <td>142.0</td>\n",
              "      <td>315.0</td>\n",
              "      <td>87.0</td>\n",
              "      <td>19.0</td>\n",
              "      <td>NaN</td>\n",
              "    </tr>\n",
              "    <tr>\n",
              "      <th>1</th>\n",
              "      <td>150.0</td>\n",
              "      <td>102.0</td>\n",
              "      <td>325.0</td>\n",
              "      <td>87.0</td>\n",
              "      <td>NaN</td>\n",
              "      <td>NaN</td>\n",
              "    </tr>\n",
              "    <tr>\n",
              "      <th>2</th>\n",
              "      <td>150.0</td>\n",
              "      <td>166.0</td>\n",
              "      <td>330.0</td>\n",
              "      <td>87.0</td>\n",
              "      <td>287.0</td>\n",
              "      <td>NaN</td>\n",
              "    </tr>\n",
              "    <tr>\n",
              "      <th>3</th>\n",
              "      <td>150.0</td>\n",
              "      <td>117.0</td>\n",
              "      <td>476.0</td>\n",
              "      <td>87.0</td>\n",
              "      <td>NaN</td>\n",
              "      <td>NaN</td>\n",
              "    </tr>\n",
              "    <tr>\n",
              "      <th>4</th>\n",
              "      <td>150.0</td>\n",
              "      <td>102.0</td>\n",
              "      <td>420.0</td>\n",
              "      <td>87.0</td>\n",
              "      <td>NaN</td>\n",
              "      <td>NaN</td>\n",
              "    </tr>\n",
              "    <tr>\n",
              "      <th>...</th>\n",
              "      <td>...</td>\n",
              "      <td>...</td>\n",
              "      <td>...</td>\n",
              "      <td>...</td>\n",
              "      <td>...</td>\n",
              "      <td>...</td>\n",
              "    </tr>\n",
              "    <tr>\n",
              "      <th>590535</th>\n",
              "      <td>150.0</td>\n",
              "      <td>226.0</td>\n",
              "      <td>272.0</td>\n",
              "      <td>87.0</td>\n",
              "      <td>48.0</td>\n",
              "      <td>NaN</td>\n",
              "    </tr>\n",
              "    <tr>\n",
              "      <th>590536</th>\n",
              "      <td>150.0</td>\n",
              "      <td>224.0</td>\n",
              "      <td>204.0</td>\n",
              "      <td>87.0</td>\n",
              "      <td>NaN</td>\n",
              "      <td>NaN</td>\n",
              "    </tr>\n",
              "    <tr>\n",
              "      <th>590537</th>\n",
              "      <td>150.0</td>\n",
              "      <td>224.0</td>\n",
              "      <td>231.0</td>\n",
              "      <td>87.0</td>\n",
              "      <td>NaN</td>\n",
              "      <td>NaN</td>\n",
              "    </tr>\n",
              "    <tr>\n",
              "      <th>590538</th>\n",
              "      <td>150.0</td>\n",
              "      <td>224.0</td>\n",
              "      <td>387.0</td>\n",
              "      <td>87.0</td>\n",
              "      <td>3.0</td>\n",
              "      <td>NaN</td>\n",
              "    </tr>\n",
              "    <tr>\n",
              "      <th>590539</th>\n",
              "      <td>150.0</td>\n",
              "      <td>102.0</td>\n",
              "      <td>299.0</td>\n",
              "      <td>87.0</td>\n",
              "      <td>NaN</td>\n",
              "      <td>NaN</td>\n",
              "    </tr>\n",
              "  </tbody>\n",
              "</table>\n",
              "<p>590540 rows × 6 columns</p>\n",
              "</div>"
            ],
            "text/plain": [
              "        card3  card5  addr1  addr2  dist1  dist2\n",
              "0       150.0  142.0  315.0   87.0   19.0    NaN\n",
              "1       150.0  102.0  325.0   87.0    NaN    NaN\n",
              "2       150.0  166.0  330.0   87.0  287.0    NaN\n",
              "3       150.0  117.0  476.0   87.0    NaN    NaN\n",
              "4       150.0  102.0  420.0   87.0    NaN    NaN\n",
              "...       ...    ...    ...    ...    ...    ...\n",
              "590535  150.0  226.0  272.0   87.0   48.0    NaN\n",
              "590536  150.0  224.0  204.0   87.0    NaN    NaN\n",
              "590537  150.0  224.0  231.0   87.0    NaN    NaN\n",
              "590538  150.0  224.0  387.0   87.0    3.0    NaN\n",
              "590539  150.0  102.0  299.0   87.0    NaN    NaN\n",
              "\n",
              "[590540 rows x 6 columns]"
            ]
          },
          "metadata": {},
          "execution_count": 78
        }
      ]
    },
    {
      "cell_type": "code",
      "metadata": {
        "colab": {
          "base_uri": "https://localhost:8080/"
        },
        "id": "9VKDimDb3-Dm",
        "outputId": "e9c3321b-f236-415b-a04f-8d9a2f1bb9fc"
      },
      "source": [
        "trainset.groupby(['addr2', 'addr1']).size()"
      ],
      "execution_count": null,
      "outputs": [
        {
          "output_type": "execute_result",
          "data": {
            "text/plain": [
              "addr2  addr1\n",
              "10.0   296.0    8\n",
              "13.0   312.0    1\n",
              "       430.0    5\n",
              "       451.0    1\n",
              "14.0   101.0    1\n",
              "               ..\n",
              "101.0  296.0    1\n",
              "102.0  296.0    5\n",
              "       323.0    1\n",
              "       474.0    4\n",
              "       531.0    1\n",
              "Length: 437, dtype: int64"
            ]
          },
          "metadata": {},
          "execution_count": 79
        }
      ]
    },
    {
      "cell_type": "code",
      "metadata": {
        "colab": {
          "base_uri": "https://localhost:8080/",
          "height": 342
        },
        "id": "MsT5uJw5s-2f",
        "outputId": "0f1f9258-e6f1-4cb5-d728-ca44c59feb97"
      },
      "source": [
        "corr = regions.corr()\n",
        "ax = sns.heatmap(\n",
        "    corr, \n",
        "    vmin=-1, vmax=1, center=0,\n",
        "    cmap=sns.diverging_palette(20, 220, n=200),\n",
        "    square=True\n",
        ")\n",
        "ax.set_xticklabels(\n",
        "    ax.get_xticklabels(),\n",
        "    rotation=45,\n",
        "    horizontalalignment='right'\n",
        ");"
      ],
      "execution_count": null,
      "outputs": [
        {
          "output_type": "display_data",
          "data": {
            "image/png": "[encoded data removed]",
            "text/plain": [
              "<Figure size 1080x360 with 2 Axes>"
            ]
          },
          "metadata": {}
        }
      ]
    },
    {
      "cell_type": "markdown",
      "metadata": {
        "id": "o9i1yVkPpnP4"
      },
      "source": [
        "We already know that card4 contains the card type (visa, mastercard, etc.) and card6 contains the card category (credit, debit, etc.).\n",
        "\n",
        "The other two variables could be:\n",
        "\n",
        "Individual account identifier.\n",
        "Some type of card identifier (Card Verification Value (CVV)).\n",
        "Based on the above, these columns could be concatenated to give rise to a card identifier."
      ]
    },
    {
      "cell_type": "markdown",
      "metadata": {
        "id": "fqN61z7Gynka"
      },
      "source": [
        "## **C. Development of some features**"
      ]
    },
    {
      "cell_type": "markdown",
      "metadata": {
        "id": "anF4W6JY_084"
      },
      "source": [
        "### **C.1. Time features**"
      ]
    },
    {
      "cell_type": "markdown",
      "metadata": {
        "id": "Drloxs_I7qYh"
      },
      "source": [
        "Due to the fact that the competition took place approximately three years ago, the starting point is considered to be the end of 2017 and the beginning of 2018 (the time in which the competition took place). Characteristics are generated for the time in terms of months and hours."
      ]
    },
    {
      "cell_type": "code",
      "metadata": {
        "id": "RIoh6KE3kkMb"
      },
      "source": [
        "START_DATE = '2017-12-01'\n",
        "startdate = datetime.datetime.strptime(START_DATE, '%Y-%m-%d')\n",
        "trainset['T_DT2'] = trainset['TransactionDT'].apply(lambda x: (startdate + datetime.timedelta(seconds = x)))\n",
        "testset['T_DT2'] = testset['TransactionDT'].apply(lambda x: (startdate + datetime.timedelta(seconds = x)))\n",
        "trainset['T_hours']=trainset['T_DT2'].dt.hour\n",
        "trainset['T_month']=trainset['T_DT2'].dt.month\n",
        "testset['T_hours']=testset['T_DT2'].dt.hour\n",
        "testset['T_month']=testset['T_DT2'].dt.month\n",
        "del trainset['T_DT2'],testset['T_DT2']"
      ],
      "execution_count": null,
      "outputs": []
    },
    {
      "cell_type": "markdown",
      "metadata": {
        "id": "VikjVgzI8sV3"
      },
      "source": [
        "We can observe that for the more than 590,000 transactions (distributed over 24 hours) there is an average number of hours for the occurrence of fraud, where the maximum peak occurs between 5 and 10 a.m., which is apparently the time slot where there are fewer transactions. "
      ]
    },
    {
      "cell_type": "code",
      "metadata": {
        "colab": {
          "base_uri": "https://localhost:8080/",
          "height": 336
        },
        "id": "n34HTpv4zTHh",
        "outputId": "8f6ae5ca-a9ee-4a04-98b4-7bd2fbb2d478"
      },
      "source": [
        "plt.style.use('ggplot')\n",
        "\n",
        "fig,ax=plt.subplots(figsize=(10,5))\n",
        "plt.plot(trainset.groupby('T_hours').mean()['isFraud'], color='k')\n",
        "ax = plt.gca()\n",
        "ax2 = ax.twinx()\n",
        "_ = ax2.hist(trainset['T_hours'], color='orange',alpha=0.5, bins=24)\n",
        "ax.set_xlabel('Horas agrupadas [0 a 23]',color='k')\n",
        "ax.set_ylabel('Promedio de transacciones fraudulentas',color='k')\n",
        "\n",
        "ax2.set_ylabel('Cantidad de transacciones',color='k')\n",
        "plt.grid(False)"
      ],
      "execution_count": null,
      "outputs": [
        {
          "output_type": "display_data",
          "data": {
            "image/png": "[encoded data removed]",
            "text/plain": [
              "<Figure size 720x360 with 2 Axes>"
            ]
          },
          "metadata": {}
        }
      ]
    },
    {
      "cell_type": "markdown",
      "metadata": {
        "id": "YfuTjcp3_rq4"
      },
      "source": [
        "On the other hand, it is observed in the time distribution (in months) of the training dataset that there is a high presence of fraud cases in the sixth month of the year, which also coincides with a low number of transactions for that period of time."
      ]
    },
    {
      "cell_type": "code",
      "metadata": {
        "colab": {
          "base_uri": "https://localhost:8080/",
          "height": 336
        },
        "id": "95Wa18I3BN_1",
        "outputId": "ed57d664-f9cd-420d-b52b-8ae79d0bbc9c"
      },
      "source": [
        "plt.style.use('ggplot')\n",
        "fig,ax=plt.subplots(figsize=(10,5))\n",
        "tmp = pd.crosstab(trainset['T_month'], trainset['isFraud'], normalize='index') * 100\n",
        "tmp = tmp.reset_index()\n",
        "tmp.rename(columns={0:'NoFraud', 1:'Fraud'}, inplace=True)\n",
        "sns.pointplot(x='T_month', y='Fraud', data=tmp, color='black', legend=True, linewidth=0.1)\n",
        "#plt.plot(trainset.groupby('T_month').mean()['isFraud'], color='k', marker='o')\n",
        "#ax = plt.gca()\n",
        "ax2 = ax.twinx()\n",
        "_ = sns.countplot(x='T_month', data=trainset, hue='isFraud', ax=ax2)\n",
        "ax.set_xlabel('Horas agrupadas [0 a 23]',color='k')\n",
        "ax.set_ylabel('Promedio de transacciones fraudulentas',color='k')\n",
        "\n",
        "ax2.set_ylabel('Cantidad de transacciones',color='k')\n",
        "plt.grid(False)"
      ],
      "execution_count": null,
      "outputs": [
        {
          "output_type": "display_data",
          "data": {
            "image/png": "[encoded data removed]",
            "text/plain": [
              "<Figure size 720x360 with 2 Axes>"
            ]
          },
          "metadata": {}
        }
      ]
    },
    {
      "cell_type": "code",
      "metadata": {
        "id": "JqqTQFB9FZR0"
      },
      "source": [
        "month6=trainset[trainset['T_month'] ==6]"
      ],
      "execution_count": null,
      "outputs": []
    },
    {
      "cell_type": "code",
      "metadata": {
        "colab": {
          "base_uri": "https://localhost:8080/",
          "height": 336
        },
        "id": "D0f_3ZJdIFL2",
        "outputId": "d5cc54f1-c271-41ee-812c-46d90cd9141a"
      },
      "source": [
        "plt.style.use('ggplot')\n",
        "fig,ax=plt.subplots(figsize=(10,5))\n",
        "plt.plot(month6.groupby('T_hours').mean()['isFraud'], color='k')\n",
        "ax = plt.gca()\n",
        "ax2 = ax.twinx()\n",
        "_ = ax2.hist(month6['T_hours'], color='blue',alpha=0.5, bins=24)\n",
        "ax.set_xlabel('Horas agrupadas [0 a 23]',color='k')\n",
        "ax.set_ylabel('Promedio de transacciones fraudulentas',color='k')\n",
        "\n",
        "ax2.set_ylabel('Cantidad de transacciones',color='k')\n",
        "plt.grid(False)"
      ],
      "execution_count": null,
      "outputs": [
        {
          "output_type": "display_data",
          "data": {
            "image/png": "[encoded data removed]",
            "text/plain": [
              "<Figure size 720x360 with 2 Axes>"
            ]
          },
          "metadata": {}
        }
      ]
    },
    {
      "cell_type": "code",
      "metadata": {
        "colab": {
          "base_uri": "https://localhost:8080/",
          "height": 300
        },
        "id": "6_Nvq_p1_So4",
        "outputId": "4b75cab7-d482-45f8-a575-c2db915952eb"
      },
      "source": [
        "plt.style.use('ggplot')\n",
        "fig,(ax,ax2)=plt.subplots(1,2,figsize=(13,4))\n",
        "ax.hist(testset['T_hours'], color='blue',alpha=0.8, bins=24)\n",
        "ax.set_xlabel('Horas agrupadas [0 a 23]',color='k')\n",
        "ax.set_ylabel('Cantidad de transacciones',color='k')\n",
        "ax2.hist(testset['T_month'], color='orange',alpha=0.8, bins=7)\n",
        "ax2.set_xlabel('Meses [0 a 6]',color='k')\n"
      ],
      "execution_count": null,
      "outputs": [
        {
          "output_type": "execute_result",
          "data": {
            "text/plain": [
              "Text(0.5, 0, 'Meses [0 a 6]')"
            ]
          },
          "metadata": {},
          "execution_count": 56
        },
        {
          "output_type": "display_data",
          "data": {
            "image/png": "[encoded data removed]",
            "text/plain": [
              "<Figure size 936x288 with 2 Axes>"
            ]
          },
          "metadata": {}
        }
      ]
    },
    {
      "cell_type": "markdown",
      "metadata": {
        "id": "0ZCI4A1CXCyK"
      },
      "source": [
        "### **C.2. Transaction digits (currency conversion)**"
      ]
    },
    {
      "cell_type": "markdown",
      "metadata": {
        "id": "zITSDlQTCZSC"
      },
      "source": [
        "Another hypothesis that can be handled has to do with the influence of the significant numbers of transactions with the fraud label, relating to the fact that the higher the number of significant numbers would imply transactions coming from foreign places outside the United States. "
      ]
    },
    {
      "cell_type": "code",
      "metadata": {
        "id": "EpMPm-bFYTrU"
      },
      "source": [
        "#extraer los centavos\n",
        "trainset['CurrencyCents']=trainset['TransactionAmt']%1\n",
        "testset['CurrencyCents']=testset['TransactionAmt']%1"
      ],
      "execution_count": null,
      "outputs": []
    },
    {
      "cell_type": "code",
      "metadata": {
        "id": "K43pqGnmb-yS"
      },
      "source": [
        "#extraer la parte entera del precio\n",
        "trainset['CurrencyDollar']=trainset['TransactionAmt']-trainset['CurrencyCents']\n",
        "testset['CurrencyDollar']=testset['TransactionAmt']-testset['CurrencyCents']"
      ],
      "execution_count": null,
      "outputs": []
    },
    {
      "cell_type": "code",
      "metadata": {
        "id": "ub4OI3A4-z0d"
      },
      "source": [
        "#contar para cada transacción cuantas cifras significativas posee\n",
        "trainset['CentsDigits']= trainset['CurrencyCents'].map(lambda a: len(str(round(a,3)).split(\".\")[1]))\n",
        "testset['CentsDigits']= testset['CurrencyCents'].map(lambda a: len(str(round(a,3)).split(\".\")[1]))\n"
      ],
      "execution_count": null,
      "outputs": []
    },
    {
      "cell_type": "code",
      "metadata": {
        "colab": {
          "base_uri": "https://localhost:8080/",
          "height": 284
        },
        "id": "-LqyWyTscMfc",
        "outputId": "8d98bd0a-47a7-4e1f-ede9-e8bb86a49168"
      },
      "source": [
        "trainset.head(5)"
      ],
      "execution_count": null,
      "outputs": [
        {
          "output_type": "execute_result",
          "data": {
            "text/html": [
              "<div>\n",
              "<style scoped>\n",
              "    .dataframe tbody tr th:only-of-type {\n",
              "        vertical-align: middle;\n",
              "    }\n",
              "\n",
              "    .dataframe tbody tr th {\n",
              "        vertical-align: top;\n",
              "    }\n",
              "\n",
              "    .dataframe thead th {\n",
              "        text-align: right;\n",
              "    }\n",
              "</style>\n",
              "<table border=\"1\" class=\"dataframe\">\n",
              "  <thead>\n",
              "    <tr style=\"text-align: right;\">\n",
              "      <th></th>\n",
              "      <th>TransactionID</th>\n",
              "      <th>isFraud</th>\n",
              "      <th>TransactionDT</th>\n",
              "      <th>TransactionAmt</th>\n",
              "      <th>ProductCD</th>\n",
              "      <th>card1</th>\n",
              "      <th>card2</th>\n",
              "      <th>card3</th>\n",
              "      <th>card4</th>\n",
              "      <th>card5</th>\n",
              "      <th>card6</th>\n",
              "      <th>addr1</th>\n",
              "      <th>addr2</th>\n",
              "      <th>dist1</th>\n",
              "      <th>dist2</th>\n",
              "      <th>P_emaildomain</th>\n",
              "      <th>R_emaildomain</th>\n",
              "      <th>C1</th>\n",
              "      <th>C2</th>\n",
              "      <th>C3</th>\n",
              "      <th>C4</th>\n",
              "      <th>C5</th>\n",
              "      <th>C6</th>\n",
              "      <th>C7</th>\n",
              "      <th>C8</th>\n",
              "      <th>C9</th>\n",
              "      <th>C10</th>\n",
              "      <th>C11</th>\n",
              "      <th>C12</th>\n",
              "      <th>C13</th>\n",
              "      <th>C14</th>\n",
              "      <th>D1</th>\n",
              "      <th>D2</th>\n",
              "      <th>D3</th>\n",
              "      <th>D4</th>\n",
              "      <th>D5</th>\n",
              "      <th>D6</th>\n",
              "      <th>D8</th>\n",
              "      <th>D9</th>\n",
              "      <th>D10</th>\n",
              "      <th>...</th>\n",
              "      <th>V334</th>\n",
              "      <th>id_01</th>\n",
              "      <th>id_02</th>\n",
              "      <th>id_03</th>\n",
              "      <th>id_04</th>\n",
              "      <th>id_05</th>\n",
              "      <th>id_06</th>\n",
              "      <th>id_07</th>\n",
              "      <th>id_08</th>\n",
              "      <th>id_10</th>\n",
              "      <th>id_11</th>\n",
              "      <th>id_12</th>\n",
              "      <th>id_13</th>\n",
              "      <th>id_14</th>\n",
              "      <th>id_15</th>\n",
              "      <th>id_16</th>\n",
              "      <th>id_17</th>\n",
              "      <th>id_18</th>\n",
              "      <th>id_19</th>\n",
              "      <th>id_20</th>\n",
              "      <th>id_21</th>\n",
              "      <th>id_22</th>\n",
              "      <th>id_24</th>\n",
              "      <th>id_25</th>\n",
              "      <th>id_26</th>\n",
              "      <th>id_28</th>\n",
              "      <th>id_29</th>\n",
              "      <th>id_30</th>\n",
              "      <th>id_31</th>\n",
              "      <th>id_35</th>\n",
              "      <th>id_36</th>\n",
              "      <th>id_37</th>\n",
              "      <th>id_38</th>\n",
              "      <th>DeviceType</th>\n",
              "      <th>DeviceInfo</th>\n",
              "      <th>T_hours</th>\n",
              "      <th>T_month</th>\n",
              "      <th>CurrencyCents</th>\n",
              "      <th>CurrencyDollar</th>\n",
              "      <th>CentsDigits</th>\n",
              "    </tr>\n",
              "  </thead>\n",
              "  <tbody>\n",
              "    <tr>\n",
              "      <th>0</th>\n",
              "      <td>2987000</td>\n",
              "      <td>0</td>\n",
              "      <td>86400</td>\n",
              "      <td>68.5</td>\n",
              "      <td>W</td>\n",
              "      <td>13926</td>\n",
              "      <td>NaN</td>\n",
              "      <td>150.0</td>\n",
              "      <td>discover</td>\n",
              "      <td>142.0</td>\n",
              "      <td>credit</td>\n",
              "      <td>315.0</td>\n",
              "      <td>87.0</td>\n",
              "      <td>19.0</td>\n",
              "      <td>NaN</td>\n",
              "      <td>NaN</td>\n",
              "      <td>NaN</td>\n",
              "      <td>1.0</td>\n",
              "      <td>1.0</td>\n",
              "      <td>0.0</td>\n",
              "      <td>0.0</td>\n",
              "      <td>0.0</td>\n",
              "      <td>1.0</td>\n",
              "      <td>0.0</td>\n",
              "      <td>0.0</td>\n",
              "      <td>1.0</td>\n",
              "      <td>0.0</td>\n",
              "      <td>2.0</td>\n",
              "      <td>0.0</td>\n",
              "      <td>1.0</td>\n",
              "      <td>1.0</td>\n",
              "      <td>14.0</td>\n",
              "      <td>NaN</td>\n",
              "      <td>13.0</td>\n",
              "      <td>NaN</td>\n",
              "      <td>NaN</td>\n",
              "      <td>NaN</td>\n",
              "      <td>NaN</td>\n",
              "      <td>NaN</td>\n",
              "      <td>13.0</td>\n",
              "      <td>...</td>\n",
              "      <td>NaN</td>\n",
              "      <td>NaN</td>\n",
              "      <td>NaN</td>\n",
              "      <td>NaN</td>\n",
              "      <td>NaN</td>\n",
              "      <td>NaN</td>\n",
              "      <td>NaN</td>\n",
              "      <td>NaN</td>\n",
              "      <td>NaN</td>\n",
              "      <td>NaN</td>\n",
              "      <td>NaN</td>\n",
              "      <td>NaN</td>\n",
              "      <td>NaN</td>\n",
              "      <td>NaN</td>\n",
              "      <td>NaN</td>\n",
              "      <td>NaN</td>\n",
              "      <td>NaN</td>\n",
              "      <td>NaN</td>\n",
              "      <td>NaN</td>\n",
              "      <td>NaN</td>\n",
              "      <td>NaN</td>\n",
              "      <td>NaN</td>\n",
              "      <td>NaN</td>\n",
              "      <td>NaN</td>\n",
              "      <td>NaN</td>\n",
              "      <td>NaN</td>\n",
              "      <td>NaN</td>\n",
              "      <td>NaN</td>\n",
              "      <td>NaN</td>\n",
              "      <td>NaN</td>\n",
              "      <td>NaN</td>\n",
              "      <td>NaN</td>\n",
              "      <td>NaN</td>\n",
              "      <td>NaN</td>\n",
              "      <td>NaN</td>\n",
              "      <td>0</td>\n",
              "      <td>12</td>\n",
              "      <td>0.5</td>\n",
              "      <td>68.0</td>\n",
              "      <td>1</td>\n",
              "    </tr>\n",
              "    <tr>\n",
              "      <th>1</th>\n",
              "      <td>2987001</td>\n",
              "      <td>0</td>\n",
              "      <td>86401</td>\n",
              "      <td>29.0</td>\n",
              "      <td>W</td>\n",
              "      <td>2755</td>\n",
              "      <td>404.0</td>\n",
              "      <td>150.0</td>\n",
              "      <td>mastercard</td>\n",
              "      <td>102.0</td>\n",
              "      <td>credit</td>\n",
              "      <td>325.0</td>\n",
              "      <td>87.0</td>\n",
              "      <td>NaN</td>\n",
              "      <td>NaN</td>\n",
              "      <td>gmail.com</td>\n",
              "      <td>NaN</td>\n",
              "      <td>1.0</td>\n",
              "      <td>1.0</td>\n",
              "      <td>0.0</td>\n",
              "      <td>0.0</td>\n",
              "      <td>0.0</td>\n",
              "      <td>1.0</td>\n",
              "      <td>0.0</td>\n",
              "      <td>0.0</td>\n",
              "      <td>0.0</td>\n",
              "      <td>0.0</td>\n",
              "      <td>1.0</td>\n",
              "      <td>0.0</td>\n",
              "      <td>1.0</td>\n",
              "      <td>1.0</td>\n",
              "      <td>0.0</td>\n",
              "      <td>NaN</td>\n",
              "      <td>NaN</td>\n",
              "      <td>0.0</td>\n",
              "      <td>NaN</td>\n",
              "      <td>NaN</td>\n",
              "      <td>NaN</td>\n",
              "      <td>NaN</td>\n",
              "      <td>0.0</td>\n",
              "      <td>...</td>\n",
              "      <td>NaN</td>\n",
              "      <td>NaN</td>\n",
              "      <td>NaN</td>\n",
              "      <td>NaN</td>\n",
              "      <td>NaN</td>\n",
              "      <td>NaN</td>\n",
              "      <td>NaN</td>\n",
              "      <td>NaN</td>\n",
              "      <td>NaN</td>\n",
              "      <td>NaN</td>\n",
              "      <td>NaN</td>\n",
              "      <td>NaN</td>\n",
              "      <td>NaN</td>\n",
              "      <td>NaN</td>\n",
              "      <td>NaN</td>\n",
              "      <td>NaN</td>\n",
              "      <td>NaN</td>\n",
              "      <td>NaN</td>\n",
              "      <td>NaN</td>\n",
              "      <td>NaN</td>\n",
              "      <td>NaN</td>\n",
              "      <td>NaN</td>\n",
              "      <td>NaN</td>\n",
              "      <td>NaN</td>\n",
              "      <td>NaN</td>\n",
              "      <td>NaN</td>\n",
              "      <td>NaN</td>\n",
              "      <td>NaN</td>\n",
              "      <td>NaN</td>\n",
              "      <td>NaN</td>\n",
              "      <td>NaN</td>\n",
              "      <td>NaN</td>\n",
              "      <td>NaN</td>\n",
              "      <td>NaN</td>\n",
              "      <td>NaN</td>\n",
              "      <td>0</td>\n",
              "      <td>12</td>\n",
              "      <td>0.0</td>\n",
              "      <td>29.0</td>\n",
              "      <td>1</td>\n",
              "    </tr>\n",
              "    <tr>\n",
              "      <th>2</th>\n",
              "      <td>2987002</td>\n",
              "      <td>0</td>\n",
              "      <td>86469</td>\n",
              "      <td>59.0</td>\n",
              "      <td>W</td>\n",
              "      <td>4663</td>\n",
              "      <td>490.0</td>\n",
              "      <td>150.0</td>\n",
              "      <td>visa</td>\n",
              "      <td>166.0</td>\n",
              "      <td>debit</td>\n",
              "      <td>330.0</td>\n",
              "      <td>87.0</td>\n",
              "      <td>287.0</td>\n",
              "      <td>NaN</td>\n",
              "      <td>outlook.com</td>\n",
              "      <td>NaN</td>\n",
              "      <td>1.0</td>\n",
              "      <td>1.0</td>\n",
              "      <td>0.0</td>\n",
              "      <td>0.0</td>\n",
              "      <td>0.0</td>\n",
              "      <td>1.0</td>\n",
              "      <td>0.0</td>\n",
              "      <td>0.0</td>\n",
              "      <td>1.0</td>\n",
              "      <td>0.0</td>\n",
              "      <td>1.0</td>\n",
              "      <td>0.0</td>\n",
              "      <td>1.0</td>\n",
              "      <td>1.0</td>\n",
              "      <td>0.0</td>\n",
              "      <td>NaN</td>\n",
              "      <td>NaN</td>\n",
              "      <td>0.0</td>\n",
              "      <td>NaN</td>\n",
              "      <td>NaN</td>\n",
              "      <td>NaN</td>\n",
              "      <td>NaN</td>\n",
              "      <td>0.0</td>\n",
              "      <td>...</td>\n",
              "      <td>NaN</td>\n",
              "      <td>NaN</td>\n",
              "      <td>NaN</td>\n",
              "      <td>NaN</td>\n",
              "      <td>NaN</td>\n",
              "      <td>NaN</td>\n",
              "      <td>NaN</td>\n",
              "      <td>NaN</td>\n",
              "      <td>NaN</td>\n",
              "      <td>NaN</td>\n",
              "      <td>NaN</td>\n",
              "      <td>NaN</td>\n",
              "      <td>NaN</td>\n",
              "      <td>NaN</td>\n",
              "      <td>NaN</td>\n",
              "      <td>NaN</td>\n",
              "      <td>NaN</td>\n",
              "      <td>NaN</td>\n",
              "      <td>NaN</td>\n",
              "      <td>NaN</td>\n",
              "      <td>NaN</td>\n",
              "      <td>NaN</td>\n",
              "      <td>NaN</td>\n",
              "      <td>NaN</td>\n",
              "      <td>NaN</td>\n",
              "      <td>NaN</td>\n",
              "      <td>NaN</td>\n",
              "      <td>NaN</td>\n",
              "      <td>NaN</td>\n",
              "      <td>NaN</td>\n",
              "      <td>NaN</td>\n",
              "      <td>NaN</td>\n",
              "      <td>NaN</td>\n",
              "      <td>NaN</td>\n",
              "      <td>NaN</td>\n",
              "      <td>0</td>\n",
              "      <td>12</td>\n",
              "      <td>0.0</td>\n",
              "      <td>59.0</td>\n",
              "      <td>1</td>\n",
              "    </tr>\n",
              "    <tr>\n",
              "      <th>3</th>\n",
              "      <td>2987003</td>\n",
              "      <td>0</td>\n",
              "      <td>86499</td>\n",
              "      <td>50.0</td>\n",
              "      <td>W</td>\n",
              "      <td>18132</td>\n",
              "      <td>567.0</td>\n",
              "      <td>150.0</td>\n",
              "      <td>mastercard</td>\n",
              "      <td>117.0</td>\n",
              "      <td>debit</td>\n",
              "      <td>476.0</td>\n",
              "      <td>87.0</td>\n",
              "      <td>NaN</td>\n",
              "      <td>NaN</td>\n",
              "      <td>yahoo.com</td>\n",
              "      <td>NaN</td>\n",
              "      <td>2.0</td>\n",
              "      <td>5.0</td>\n",
              "      <td>0.0</td>\n",
              "      <td>0.0</td>\n",
              "      <td>0.0</td>\n",
              "      <td>4.0</td>\n",
              "      <td>0.0</td>\n",
              "      <td>0.0</td>\n",
              "      <td>1.0</td>\n",
              "      <td>0.0</td>\n",
              "      <td>1.0</td>\n",
              "      <td>0.0</td>\n",
              "      <td>25.0</td>\n",
              "      <td>1.0</td>\n",
              "      <td>112.0</td>\n",
              "      <td>112.0</td>\n",
              "      <td>0.0</td>\n",
              "      <td>94.0</td>\n",
              "      <td>0.0</td>\n",
              "      <td>NaN</td>\n",
              "      <td>NaN</td>\n",
              "      <td>NaN</td>\n",
              "      <td>84.0</td>\n",
              "      <td>...</td>\n",
              "      <td>NaN</td>\n",
              "      <td>NaN</td>\n",
              "      <td>NaN</td>\n",
              "      <td>NaN</td>\n",
              "      <td>NaN</td>\n",
              "      <td>NaN</td>\n",
              "      <td>NaN</td>\n",
              "      <td>NaN</td>\n",
              "      <td>NaN</td>\n",
              "      <td>NaN</td>\n",
              "      <td>NaN</td>\n",
              "      <td>NaN</td>\n",
              "      <td>NaN</td>\n",
              "      <td>NaN</td>\n",
              "      <td>NaN</td>\n",
              "      <td>NaN</td>\n",
              "      <td>NaN</td>\n",
              "      <td>NaN</td>\n",
              "      <td>NaN</td>\n",
              "      <td>NaN</td>\n",
              "      <td>NaN</td>\n",
              "      <td>NaN</td>\n",
              "      <td>NaN</td>\n",
              "      <td>NaN</td>\n",
              "      <td>NaN</td>\n",
              "      <td>NaN</td>\n",
              "      <td>NaN</td>\n",
              "      <td>NaN</td>\n",
              "      <td>NaN</td>\n",
              "      <td>NaN</td>\n",
              "      <td>NaN</td>\n",
              "      <td>NaN</td>\n",
              "      <td>NaN</td>\n",
              "      <td>NaN</td>\n",
              "      <td>NaN</td>\n",
              "      <td>0</td>\n",
              "      <td>12</td>\n",
              "      <td>0.0</td>\n",
              "      <td>50.0</td>\n",
              "      <td>1</td>\n",
              "    </tr>\n",
              "    <tr>\n",
              "      <th>4</th>\n",
              "      <td>2987004</td>\n",
              "      <td>0</td>\n",
              "      <td>86506</td>\n",
              "      <td>50.0</td>\n",
              "      <td>H</td>\n",
              "      <td>4497</td>\n",
              "      <td>514.0</td>\n",
              "      <td>150.0</td>\n",
              "      <td>mastercard</td>\n",
              "      <td>102.0</td>\n",
              "      <td>credit</td>\n",
              "      <td>420.0</td>\n",
              "      <td>87.0</td>\n",
              "      <td>NaN</td>\n",
              "      <td>NaN</td>\n",
              "      <td>gmail.com</td>\n",
              "      <td>NaN</td>\n",
              "      <td>1.0</td>\n",
              "      <td>1.0</td>\n",
              "      <td>0.0</td>\n",
              "      <td>0.0</td>\n",
              "      <td>0.0</td>\n",
              "      <td>1.0</td>\n",
              "      <td>0.0</td>\n",
              "      <td>1.0</td>\n",
              "      <td>0.0</td>\n",
              "      <td>1.0</td>\n",
              "      <td>1.0</td>\n",
              "      <td>0.0</td>\n",
              "      <td>1.0</td>\n",
              "      <td>1.0</td>\n",
              "      <td>0.0</td>\n",
              "      <td>NaN</td>\n",
              "      <td>NaN</td>\n",
              "      <td>NaN</td>\n",
              "      <td>NaN</td>\n",
              "      <td>NaN</td>\n",
              "      <td>NaN</td>\n",
              "      <td>NaN</td>\n",
              "      <td>NaN</td>\n",
              "      <td>...</td>\n",
              "      <td>0.0</td>\n",
              "      <td>0.0</td>\n",
              "      <td>70787.0</td>\n",
              "      <td>NaN</td>\n",
              "      <td>NaN</td>\n",
              "      <td>NaN</td>\n",
              "      <td>NaN</td>\n",
              "      <td>NaN</td>\n",
              "      <td>NaN</td>\n",
              "      <td>NaN</td>\n",
              "      <td>100.0</td>\n",
              "      <td>NotFound</td>\n",
              "      <td>NaN</td>\n",
              "      <td>-480.0</td>\n",
              "      <td>New</td>\n",
              "      <td>NotFound</td>\n",
              "      <td>166.0</td>\n",
              "      <td>NaN</td>\n",
              "      <td>542.0</td>\n",
              "      <td>144.0</td>\n",
              "      <td>NaN</td>\n",
              "      <td>NaN</td>\n",
              "      <td>NaN</td>\n",
              "      <td>NaN</td>\n",
              "      <td>NaN</td>\n",
              "      <td>New</td>\n",
              "      <td>NotFound</td>\n",
              "      <td>Android 7.0</td>\n",
              "      <td>samsung browser 6.2</td>\n",
              "      <td>T</td>\n",
              "      <td>F</td>\n",
              "      <td>T</td>\n",
              "      <td>T</td>\n",
              "      <td>mobile</td>\n",
              "      <td>SAMSUNG SM-G892A Build/NRD90M</td>\n",
              "      <td>0</td>\n",
              "      <td>12</td>\n",
              "      <td>0.0</td>\n",
              "      <td>50.0</td>\n",
              "      <td>1</td>\n",
              "    </tr>\n",
              "  </tbody>\n",
              "</table>\n",
              "<p>5 rows × 388 columns</p>\n",
              "</div>"
            ],
            "text/plain": [
              "   TransactionID  isFraud  ...  CurrencyDollar  CentsDigits\n",
              "0        2987000        0  ...            68.0            1\n",
              "1        2987001        0  ...            29.0            1\n",
              "2        2987002        0  ...            59.0            1\n",
              "3        2987003        0  ...            50.0            1\n",
              "4        2987004        0  ...            50.0            1\n",
              "\n",
              "[5 rows x 388 columns]"
            ]
          },
          "metadata": {},
          "execution_count": 70
        }
      ]
    },
    {
      "cell_type": "code",
      "metadata": {
        "id": "shXUrCyyaTsB"
      },
      "source": [
        "def plot_bar_grouped(label,grouped_df,titles='default',ancho_plot=10,largo_plot=10, mode='h',rotate_angle=0):\n",
        "  \n",
        "  if mode=='h':\n",
        "    fig, ax = plt.subplots(figsize =(ancho_plot, largo_plot))\n",
        "    #horizontal\n",
        "    ax.barh(label,grouped_df)\n",
        "    ax.invert_yaxis()\n",
        "    # Add annotation to bars\n",
        "    for i in ax.patches:\n",
        "        plt.text(i.get_width()+0.1, i.get_y()+0.4,\n",
        "                 str(round((i.get_width()), 2)),\n",
        "                 fontsize = 10, fontweight ='bold',\n",
        "                 color ='black')\n",
        "    # Add Plot Title\n",
        "    ax.set_xticklabels(label, rotation = rotate_angle, ha=\"right\")\n",
        "    ax.set_title(titles,\n",
        "                 loc ='left', )    \n",
        "  elif mode=='v':\n",
        "    fig, ax = plt.subplots(figsize =(ancho_plot, largo_plot))\n",
        "    ax.bar(label,grouped_df)\n",
        "    \n",
        "    # Add annotation to bars\n",
        "    for i in ax.patches:\n",
        "        plt.text(i.get_width()+0.1, i.get_y()+0.4,\n",
        "                 str(round((i.get_width()), 2)),\n",
        "                 fontsize = 10, fontweight ='bold',\n",
        "                 color ='black')\n",
        "    # Add Plot Title\n",
        "    ax.set_xticklabels(label, rotation = rotate_angle, ha=\"right\")\n",
        "    ax.set_title(titles,\n",
        "                 loc ='left', )\n",
        "  else: \n",
        "    print('Sólo modo vertical y horizontal')      \n"
      ],
      "execution_count": null,
      "outputs": []
    },
    {
      "cell_type": "code",
      "metadata": {
        "colab": {
          "base_uri": "https://localhost:8080/",
          "height": 554
        },
        "id": "rhFj5pRzkrvX",
        "outputId": "f2be4076-d251-46f1-ffad-181aafb2b82e"
      },
      "source": [
        "#distribución de transacciones con respecto al número de cifras significativas\n",
        "digitos=trainset.groupby(\"CentsDigits\").count()[\"isFraud\"]\n",
        "labels=[1,2,3]\n",
        "plot_bar_grouped(labels,digitos,titles='Cantidad de transacciones (fraude o no) con el respectivo número de decimales para el valor de cada transacción',ancho_plot=13,largo_plot=9,mode='h',rotate_angle=0)"
      ],
      "execution_count": null,
      "outputs": [
        {
          "output_type": "display_data",
          "data": {
            "image/png": "[encoded data removed]",
            "text/plain": [
              "<Figure size 936x648 with 1 Axes>"
            ]
          },
          "metadata": {}
        }
      ]
    },
    {
      "cell_type": "markdown",
      "metadata": {
        "id": "PHDc1PDIDCjS"
      },
      "source": [
        "It can be observed that there are several cases of fraud with a significant number of 3 digits (possibly a foreign transaction), as well as a large number of fraudulent transactions possibly coming from the same country (USA) due to the number of significant digits. "
      ]
    },
    {
      "cell_type": "code",
      "metadata": {
        "colab": {
          "base_uri": "https://localhost:8080/",
          "height": 556
        },
        "id": "NbjbQwEOjJkz",
        "outputId": "f81e2c61-b742-40c0-84e5-949b19e45b57"
      },
      "source": [
        "ax=trainset.groupby(['isFraud', 'CentsDigits'])[\"CentsDigits\"].count().unstack(level=0).plot(kind='bar',figsize=(19,9), title='Distribución por etiquetas de fraude para las cifras significativas')\n",
        "for p in ax.patches:\n",
        "  ax.annotate(str(round(p.get_height(),2)), (p.get_x() * 1.005, p.get_height() * 1.005))"
      ],
      "execution_count": null,
      "outputs": [
        {
          "output_type": "display_data",
          "data": {
            "image/png": "[encoded data removed]",
            "text/plain": [
              "<Figure size 1368x648 with 1 Axes>"
            ]
          },
          "metadata": {}
        }
      ]
    },
    {
      "cell_type": "markdown",
      "metadata": {
        "id": "9CShGiqCXt7w"
      },
      "source": [
        "Approximately 34% of transactions with 3 significant figures are labeled as fraud, while 55% of transactions with 1 figure in the value are also labeled as fraud (could be considered as a fraudulent operation performed within the same country, since it did not resort to currency conversion)."
      ]
    },
    {
      "cell_type": "code",
      "metadata": {
        "colab": {
          "base_uri": "https://localhost:8080/",
          "height": 473
        },
        "id": "_OJKVey7B4f0",
        "outputId": "aac13742-b44a-4c7e-bd20-68ce766e1f1b"
      },
      "source": [
        "#de acuerdo a la competencia addr2 podría considerarse como el país de facturación, se hace una comparación entre los países y el número de cifras significativas. \n",
        "#Los casos de mayor fraude al parecer se concentran en cuatro regiones\n",
        "ax=trainset.groupby([\"isFraud\",\"addr2\"])[\"CentsDigits\"].mean().unstack(level=0).plot(kind='bar',figsize=(19,7),title='Promedio de cifras sig. con respecto al lugar')\n",
        "for p in ax.patches:\n",
        "  ax.annotate(str(round(p.get_height(),2)), (p.get_x() * 1.005, p.get_height() * 1.005))"
      ],
      "execution_count": null,
      "outputs": [
        {
          "output_type": "display_data",
          "data": {
            "image/png": "[encoded data removed]",
            "text/plain": [
              "<Figure size 1368x504 with 1 Axes>"
            ]
          },
          "metadata": {}
        }
      ]
    },
    {
      "cell_type": "markdown",
      "metadata": {
        "id": "MvLMwWG1uML-"
      },
      "source": [
        "### **C.3. Transaction Device Verifier**"
      ]
    },
    {
      "cell_type": "markdown",
      "metadata": {
        "id": "OfNXaR94E7Pf"
      },
      "source": [
        "Another indicator that may denote a case of fraud may be the information provided with respect to the device on which the transaction is made, whether it is a mobile or desktop device. To perform these characteristics, use is made of external information that denotes the different 'user agents' of some devices. "
      ]
    },
    {
      "cell_type": "code",
      "metadata": {
        "colab": {
          "base_uri": "https://localhost:8080/",
          "height": 414
        },
        "id": "hQY8tyxvu865",
        "outputId": "422e78cc-6de6-4620-e84b-58e4ee330560"
      },
      "source": [
        "trainset[[\"id_30\",\t\"id_31\",\t\"DeviceType\",\t\"DeviceInfo\"]]"
      ],
      "execution_count": null,
      "outputs": [
        {
          "output_type": "execute_result",
          "data": {
            "text/html": [
              "<div>\n",
              "<style scoped>\n",
              "    .dataframe tbody tr th:only-of-type {\n",
              "        vertical-align: middle;\n",
              "    }\n",
              "\n",
              "    .dataframe tbody tr th {\n",
              "        vertical-align: top;\n",
              "    }\n",
              "\n",
              "    .dataframe thead th {\n",
              "        text-align: right;\n",
              "    }\n",
              "</style>\n",
              "<table border=\"1\" class=\"dataframe\">\n",
              "  <thead>\n",
              "    <tr style=\"text-align: right;\">\n",
              "      <th></th>\n",
              "      <th>id_30</th>\n",
              "      <th>id_31</th>\n",
              "      <th>DeviceType</th>\n",
              "      <th>DeviceInfo</th>\n",
              "    </tr>\n",
              "  </thead>\n",
              "  <tbody>\n",
              "    <tr>\n",
              "      <th>0</th>\n",
              "      <td>NaN</td>\n",
              "      <td>NaN</td>\n",
              "      <td>NaN</td>\n",
              "      <td>NaN</td>\n",
              "    </tr>\n",
              "    <tr>\n",
              "      <th>1</th>\n",
              "      <td>NaN</td>\n",
              "      <td>NaN</td>\n",
              "      <td>NaN</td>\n",
              "      <td>NaN</td>\n",
              "    </tr>\n",
              "    <tr>\n",
              "      <th>2</th>\n",
              "      <td>NaN</td>\n",
              "      <td>NaN</td>\n",
              "      <td>NaN</td>\n",
              "      <td>NaN</td>\n",
              "    </tr>\n",
              "    <tr>\n",
              "      <th>3</th>\n",
              "      <td>NaN</td>\n",
              "      <td>NaN</td>\n",
              "      <td>NaN</td>\n",
              "      <td>NaN</td>\n",
              "    </tr>\n",
              "    <tr>\n",
              "      <th>4</th>\n",
              "      <td>Android 7.0</td>\n",
              "      <td>samsung browser 6.2</td>\n",
              "      <td>mobile</td>\n",
              "      <td>SAMSUNG SM-G892A Build/NRD90M</td>\n",
              "    </tr>\n",
              "    <tr>\n",
              "      <th>...</th>\n",
              "      <td>...</td>\n",
              "      <td>...</td>\n",
              "      <td>...</td>\n",
              "      <td>...</td>\n",
              "    </tr>\n",
              "    <tr>\n",
              "      <th>590535</th>\n",
              "      <td>NaN</td>\n",
              "      <td>NaN</td>\n",
              "      <td>NaN</td>\n",
              "      <td>NaN</td>\n",
              "    </tr>\n",
              "    <tr>\n",
              "      <th>590536</th>\n",
              "      <td>NaN</td>\n",
              "      <td>NaN</td>\n",
              "      <td>NaN</td>\n",
              "      <td>NaN</td>\n",
              "    </tr>\n",
              "    <tr>\n",
              "      <th>590537</th>\n",
              "      <td>NaN</td>\n",
              "      <td>NaN</td>\n",
              "      <td>NaN</td>\n",
              "      <td>NaN</td>\n",
              "    </tr>\n",
              "    <tr>\n",
              "      <th>590538</th>\n",
              "      <td>NaN</td>\n",
              "      <td>NaN</td>\n",
              "      <td>NaN</td>\n",
              "      <td>NaN</td>\n",
              "    </tr>\n",
              "    <tr>\n",
              "      <th>590539</th>\n",
              "      <td>NaN</td>\n",
              "      <td>NaN</td>\n",
              "      <td>NaN</td>\n",
              "      <td>NaN</td>\n",
              "    </tr>\n",
              "  </tbody>\n",
              "</table>\n",
              "<p>590540 rows × 4 columns</p>\n",
              "</div>"
            ],
            "text/plain": [
              "              id_30  ...                     DeviceInfo\n",
              "0               NaN  ...                            NaN\n",
              "1               NaN  ...                            NaN\n",
              "2               NaN  ...                            NaN\n",
              "3               NaN  ...                            NaN\n",
              "4       Android 7.0  ...  SAMSUNG SM-G892A Build/NRD90M\n",
              "...             ...  ...                            ...\n",
              "590535          NaN  ...                            NaN\n",
              "590536          NaN  ...                            NaN\n",
              "590537          NaN  ...                            NaN\n",
              "590538          NaN  ...                            NaN\n",
              "590539          NaN  ...                            NaN\n",
              "\n",
              "[590540 rows x 4 columns]"
            ]
          },
          "metadata": {},
          "execution_count": 81
        }
      ]
    },
    {
      "cell_type": "code",
      "metadata": {
        "colab": {
          "base_uri": "https://localhost:8080/"
        },
        "id": "XgqcD6lJw1ZX",
        "outputId": "647fb044-d3c9-4593-fb5e-03feee060d66"
      },
      "source": [
        "lista=trainset['DeviceInfo'].unique()\n",
        "print(lista.shape)"
      ],
      "execution_count": null,
      "outputs": [
        {
          "output_type": "stream",
          "name": "stdout",
          "text": [
            "(1787,)\n"
          ]
        }
      ]
    },
    {
      "cell_type": "code",
      "metadata": {
        "colab": {
          "base_uri": "https://localhost:8080/",
          "height": 334
        },
        "id": "hQ8OeHRvSkSZ",
        "outputId": "99cae541-1ea0-4d92-de0d-bf399d618dc1"
      },
      "source": [
        "trainset[trainset['DeviceInfo']=='Windows'].head(5)"
      ],
      "execution_count": null,
      "outputs": [
        {
          "output_type": "execute_result",
          "data": {
            "text/html": [
              "<div>\n",
              "<style scoped>\n",
              "    .dataframe tbody tr th:only-of-type {\n",
              "        vertical-align: middle;\n",
              "    }\n",
              "\n",
              "    .dataframe tbody tr th {\n",
              "        vertical-align: top;\n",
              "    }\n",
              "\n",
              "    .dataframe thead th {\n",
              "        text-align: right;\n",
              "    }\n",
              "</style>\n",
              "<table border=\"1\" class=\"dataframe\">\n",
              "  <thead>\n",
              "    <tr style=\"text-align: right;\">\n",
              "      <th></th>\n",
              "      <th>TransactionID</th>\n",
              "      <th>isFraud</th>\n",
              "      <th>TransactionDT</th>\n",
              "      <th>TransactionAmt</th>\n",
              "      <th>ProductCD</th>\n",
              "      <th>card1</th>\n",
              "      <th>card2</th>\n",
              "      <th>card3</th>\n",
              "      <th>card4</th>\n",
              "      <th>card5</th>\n",
              "      <th>card6</th>\n",
              "      <th>addr1</th>\n",
              "      <th>addr2</th>\n",
              "      <th>dist1</th>\n",
              "      <th>dist2</th>\n",
              "      <th>P_emaildomain</th>\n",
              "      <th>R_emaildomain</th>\n",
              "      <th>C1</th>\n",
              "      <th>C2</th>\n",
              "      <th>C3</th>\n",
              "      <th>C4</th>\n",
              "      <th>C5</th>\n",
              "      <th>C6</th>\n",
              "      <th>C7</th>\n",
              "      <th>C8</th>\n",
              "      <th>C9</th>\n",
              "      <th>C10</th>\n",
              "      <th>C11</th>\n",
              "      <th>C12</th>\n",
              "      <th>C13</th>\n",
              "      <th>C14</th>\n",
              "      <th>D1</th>\n",
              "      <th>D2</th>\n",
              "      <th>D3</th>\n",
              "      <th>D4</th>\n",
              "      <th>D5</th>\n",
              "      <th>D6</th>\n",
              "      <th>D8</th>\n",
              "      <th>D9</th>\n",
              "      <th>D10</th>\n",
              "      <th>...</th>\n",
              "      <th>V334</th>\n",
              "      <th>id_01</th>\n",
              "      <th>id_02</th>\n",
              "      <th>id_03</th>\n",
              "      <th>id_04</th>\n",
              "      <th>id_05</th>\n",
              "      <th>id_06</th>\n",
              "      <th>id_07</th>\n",
              "      <th>id_08</th>\n",
              "      <th>id_10</th>\n",
              "      <th>id_11</th>\n",
              "      <th>id_12</th>\n",
              "      <th>id_13</th>\n",
              "      <th>id_14</th>\n",
              "      <th>id_15</th>\n",
              "      <th>id_16</th>\n",
              "      <th>id_17</th>\n",
              "      <th>id_18</th>\n",
              "      <th>id_19</th>\n",
              "      <th>id_20</th>\n",
              "      <th>id_21</th>\n",
              "      <th>id_22</th>\n",
              "      <th>id_24</th>\n",
              "      <th>id_25</th>\n",
              "      <th>id_26</th>\n",
              "      <th>id_28</th>\n",
              "      <th>id_29</th>\n",
              "      <th>id_30</th>\n",
              "      <th>id_31</th>\n",
              "      <th>id_35</th>\n",
              "      <th>id_36</th>\n",
              "      <th>id_37</th>\n",
              "      <th>id_38</th>\n",
              "      <th>DeviceType</th>\n",
              "      <th>DeviceInfo</th>\n",
              "      <th>T_hours</th>\n",
              "      <th>T_month</th>\n",
              "      <th>CurrencyCents</th>\n",
              "      <th>CurrencyDollar</th>\n",
              "      <th>CentsDigits</th>\n",
              "    </tr>\n",
              "  </thead>\n",
              "  <tbody>\n",
              "    <tr>\n",
              "      <th>10</th>\n",
              "      <td>2987010</td>\n",
              "      <td>0</td>\n",
              "      <td>86549</td>\n",
              "      <td>75.875000</td>\n",
              "      <td>C</td>\n",
              "      <td>16496</td>\n",
              "      <td>352.0</td>\n",
              "      <td>117.0</td>\n",
              "      <td>mastercard</td>\n",
              "      <td>134.0</td>\n",
              "      <td>credit</td>\n",
              "      <td>NaN</td>\n",
              "      <td>NaN</td>\n",
              "      <td>NaN</td>\n",
              "      <td>NaN</td>\n",
              "      <td>gmail.com</td>\n",
              "      <td>gmail.com</td>\n",
              "      <td>1.0</td>\n",
              "      <td>4.0</td>\n",
              "      <td>0.0</td>\n",
              "      <td>1.0</td>\n",
              "      <td>0.0</td>\n",
              "      <td>1.0</td>\n",
              "      <td>1.0</td>\n",
              "      <td>1.0</td>\n",
              "      <td>0.0</td>\n",
              "      <td>1.0</td>\n",
              "      <td>2.0</td>\n",
              "      <td>2.0</td>\n",
              "      <td>2.0</td>\n",
              "      <td>1.0</td>\n",
              "      <td>1.0</td>\n",
              "      <td>1.0</td>\n",
              "      <td>0.0</td>\n",
              "      <td>0.0</td>\n",
              "      <td>0.0</td>\n",
              "      <td>0.0</td>\n",
              "      <td>83.0</td>\n",
              "      <td>0.0</td>\n",
              "      <td>0.0</td>\n",
              "      <td>...</td>\n",
              "      <td>NaN</td>\n",
              "      <td>-5.0</td>\n",
              "      <td>191631.0</td>\n",
              "      <td>0.0</td>\n",
              "      <td>0.0</td>\n",
              "      <td>0.0</td>\n",
              "      <td>0.0</td>\n",
              "      <td>NaN</td>\n",
              "      <td>NaN</td>\n",
              "      <td>0.0</td>\n",
              "      <td>100.0</td>\n",
              "      <td>NotFound</td>\n",
              "      <td>52.0</td>\n",
              "      <td>NaN</td>\n",
              "      <td>Found</td>\n",
              "      <td>Found</td>\n",
              "      <td>121.0</td>\n",
              "      <td>NaN</td>\n",
              "      <td>410.0</td>\n",
              "      <td>142.0</td>\n",
              "      <td>NaN</td>\n",
              "      <td>NaN</td>\n",
              "      <td>NaN</td>\n",
              "      <td>NaN</td>\n",
              "      <td>NaN</td>\n",
              "      <td>Found</td>\n",
              "      <td>Found</td>\n",
              "      <td>NaN</td>\n",
              "      <td>chrome 62.0</td>\n",
              "      <td>F</td>\n",
              "      <td>F</td>\n",
              "      <td>T</td>\n",
              "      <td>T</td>\n",
              "      <td>desktop</td>\n",
              "      <td>Windows</td>\n",
              "      <td>0</td>\n",
              "      <td>12</td>\n",
              "      <td>0.875000</td>\n",
              "      <td>75.0</td>\n",
              "      <td>3</td>\n",
              "    </tr>\n",
              "    <tr>\n",
              "      <th>17</th>\n",
              "      <td>2987017</td>\n",
              "      <td>0</td>\n",
              "      <td>86668</td>\n",
              "      <td>100.000000</td>\n",
              "      <td>H</td>\n",
              "      <td>11492</td>\n",
              "      <td>111.0</td>\n",
              "      <td>150.0</td>\n",
              "      <td>mastercard</td>\n",
              "      <td>219.0</td>\n",
              "      <td>credit</td>\n",
              "      <td>204.0</td>\n",
              "      <td>87.0</td>\n",
              "      <td>NaN</td>\n",
              "      <td>NaN</td>\n",
              "      <td>yahoo.com</td>\n",
              "      <td>NaN</td>\n",
              "      <td>1.0</td>\n",
              "      <td>1.0</td>\n",
              "      <td>0.0</td>\n",
              "      <td>0.0</td>\n",
              "      <td>0.0</td>\n",
              "      <td>1.0</td>\n",
              "      <td>0.0</td>\n",
              "      <td>1.0</td>\n",
              "      <td>0.0</td>\n",
              "      <td>1.0</td>\n",
              "      <td>1.0</td>\n",
              "      <td>0.0</td>\n",
              "      <td>1.0</td>\n",
              "      <td>1.0</td>\n",
              "      <td>0.0</td>\n",
              "      <td>NaN</td>\n",
              "      <td>NaN</td>\n",
              "      <td>NaN</td>\n",
              "      <td>NaN</td>\n",
              "      <td>NaN</td>\n",
              "      <td>21.0</td>\n",
              "      <td>0.0</td>\n",
              "      <td>NaN</td>\n",
              "      <td>...</td>\n",
              "      <td>0.0</td>\n",
              "      <td>-5.0</td>\n",
              "      <td>61141.0</td>\n",
              "      <td>3.0</td>\n",
              "      <td>0.0</td>\n",
              "      <td>3.0</td>\n",
              "      <td>0.0</td>\n",
              "      <td>NaN</td>\n",
              "      <td>NaN</td>\n",
              "      <td>0.0</td>\n",
              "      <td>100.0</td>\n",
              "      <td>NotFound</td>\n",
              "      <td>52.0</td>\n",
              "      <td>-300.0</td>\n",
              "      <td>Found</td>\n",
              "      <td>Found</td>\n",
              "      <td>166.0</td>\n",
              "      <td>18.0</td>\n",
              "      <td>529.0</td>\n",
              "      <td>600.0</td>\n",
              "      <td>NaN</td>\n",
              "      <td>NaN</td>\n",
              "      <td>NaN</td>\n",
              "      <td>NaN</td>\n",
              "      <td>NaN</td>\n",
              "      <td>Found</td>\n",
              "      <td>Found</td>\n",
              "      <td>Windows 10</td>\n",
              "      <td>chrome 62.0</td>\n",
              "      <td>T</td>\n",
              "      <td>F</td>\n",
              "      <td>T</td>\n",
              "      <td>T</td>\n",
              "      <td>desktop</td>\n",
              "      <td>Windows</td>\n",
              "      <td>0</td>\n",
              "      <td>12</td>\n",
              "      <td>0.000000</td>\n",
              "      <td>100.0</td>\n",
              "      <td>1</td>\n",
              "    </tr>\n",
              "    <tr>\n",
              "      <th>40</th>\n",
              "      <td>2987040</td>\n",
              "      <td>0</td>\n",
              "      <td>87209</td>\n",
              "      <td>75.875000</td>\n",
              "      <td>C</td>\n",
              "      <td>13329</td>\n",
              "      <td>569.0</td>\n",
              "      <td>117.0</td>\n",
              "      <td>visa</td>\n",
              "      <td>226.0</td>\n",
              "      <td>credit</td>\n",
              "      <td>NaN</td>\n",
              "      <td>NaN</td>\n",
              "      <td>NaN</td>\n",
              "      <td>NaN</td>\n",
              "      <td>gmail.com</td>\n",
              "      <td>gmail.com</td>\n",
              "      <td>2.0</td>\n",
              "      <td>5.0</td>\n",
              "      <td>0.0</td>\n",
              "      <td>1.0</td>\n",
              "      <td>0.0</td>\n",
              "      <td>1.0</td>\n",
              "      <td>1.0</td>\n",
              "      <td>1.0</td>\n",
              "      <td>0.0</td>\n",
              "      <td>1.0</td>\n",
              "      <td>2.0</td>\n",
              "      <td>2.0</td>\n",
              "      <td>3.0</td>\n",
              "      <td>2.0</td>\n",
              "      <td>0.0</td>\n",
              "      <td>NaN</td>\n",
              "      <td>NaN</td>\n",
              "      <td>0.0</td>\n",
              "      <td>0.0</td>\n",
              "      <td>0.0</td>\n",
              "      <td>83.0</td>\n",
              "      <td>0.0</td>\n",
              "      <td>0.0</td>\n",
              "      <td>...</td>\n",
              "      <td>NaN</td>\n",
              "      <td>-10.0</td>\n",
              "      <td>116098.0</td>\n",
              "      <td>0.0</td>\n",
              "      <td>0.0</td>\n",
              "      <td>0.0</td>\n",
              "      <td>0.0</td>\n",
              "      <td>NaN</td>\n",
              "      <td>NaN</td>\n",
              "      <td>0.0</td>\n",
              "      <td>100.0</td>\n",
              "      <td>NotFound</td>\n",
              "      <td>52.0</td>\n",
              "      <td>NaN</td>\n",
              "      <td>Found</td>\n",
              "      <td>Found</td>\n",
              "      <td>121.0</td>\n",
              "      <td>NaN</td>\n",
              "      <td>410.0</td>\n",
              "      <td>142.0</td>\n",
              "      <td>NaN</td>\n",
              "      <td>NaN</td>\n",
              "      <td>NaN</td>\n",
              "      <td>NaN</td>\n",
              "      <td>NaN</td>\n",
              "      <td>Found</td>\n",
              "      <td>Found</td>\n",
              "      <td>NaN</td>\n",
              "      <td>chrome 62.0</td>\n",
              "      <td>F</td>\n",
              "      <td>F</td>\n",
              "      <td>T</td>\n",
              "      <td>T</td>\n",
              "      <td>desktop</td>\n",
              "      <td>Windows</td>\n",
              "      <td>0</td>\n",
              "      <td>12</td>\n",
              "      <td>0.875000</td>\n",
              "      <td>75.0</td>\n",
              "      <td>3</td>\n",
              "    </tr>\n",
              "    <tr>\n",
              "      <th>48</th>\n",
              "      <td>2987048</td>\n",
              "      <td>0</td>\n",
              "      <td>87317</td>\n",
              "      <td>42.281250</td>\n",
              "      <td>C</td>\n",
              "      <td>15885</td>\n",
              "      <td>545.0</td>\n",
              "      <td>185.0</td>\n",
              "      <td>visa</td>\n",
              "      <td>138.0</td>\n",
              "      <td>debit</td>\n",
              "      <td>NaN</td>\n",
              "      <td>NaN</td>\n",
              "      <td>NaN</td>\n",
              "      <td>NaN</td>\n",
              "      <td>outlook.com</td>\n",
              "      <td>outlook.com</td>\n",
              "      <td>1.0</td>\n",
              "      <td>1.0</td>\n",
              "      <td>0.0</td>\n",
              "      <td>1.0</td>\n",
              "      <td>0.0</td>\n",
              "      <td>1.0</td>\n",
              "      <td>1.0</td>\n",
              "      <td>1.0</td>\n",
              "      <td>0.0</td>\n",
              "      <td>1.0</td>\n",
              "      <td>1.0</td>\n",
              "      <td>1.0</td>\n",
              "      <td>1.0</td>\n",
              "      <td>1.0</td>\n",
              "      <td>0.0</td>\n",
              "      <td>NaN</td>\n",
              "      <td>NaN</td>\n",
              "      <td>0.0</td>\n",
              "      <td>NaN</td>\n",
              "      <td>0.0</td>\n",
              "      <td>NaN</td>\n",
              "      <td>NaN</td>\n",
              "      <td>0.0</td>\n",
              "      <td>...</td>\n",
              "      <td>NaN</td>\n",
              "      <td>-5.0</td>\n",
              "      <td>257037.0</td>\n",
              "      <td>NaN</td>\n",
              "      <td>NaN</td>\n",
              "      <td>0.0</td>\n",
              "      <td>0.0</td>\n",
              "      <td>NaN</td>\n",
              "      <td>NaN</td>\n",
              "      <td>NaN</td>\n",
              "      <td>100.0</td>\n",
              "      <td>NotFound</td>\n",
              "      <td>52.0</td>\n",
              "      <td>NaN</td>\n",
              "      <td>New</td>\n",
              "      <td>NotFound</td>\n",
              "      <td>225.0</td>\n",
              "      <td>NaN</td>\n",
              "      <td>484.0</td>\n",
              "      <td>507.0</td>\n",
              "      <td>NaN</td>\n",
              "      <td>NaN</td>\n",
              "      <td>NaN</td>\n",
              "      <td>NaN</td>\n",
              "      <td>NaN</td>\n",
              "      <td>New</td>\n",
              "      <td>NotFound</td>\n",
              "      <td>NaN</td>\n",
              "      <td>chrome 62.0</td>\n",
              "      <td>F</td>\n",
              "      <td>F</td>\n",
              "      <td>T</td>\n",
              "      <td>T</td>\n",
              "      <td>desktop</td>\n",
              "      <td>Windows</td>\n",
              "      <td>0</td>\n",
              "      <td>12</td>\n",
              "      <td>0.281250</td>\n",
              "      <td>42.0</td>\n",
              "      <td>3</td>\n",
              "    </tr>\n",
              "    <tr>\n",
              "      <th>49</th>\n",
              "      <td>2987049</td>\n",
              "      <td>0</td>\n",
              "      <td>87317</td>\n",
              "      <td>3.595703</td>\n",
              "      <td>C</td>\n",
              "      <td>12730</td>\n",
              "      <td>266.0</td>\n",
              "      <td>185.0</td>\n",
              "      <td>mastercard</td>\n",
              "      <td>224.0</td>\n",
              "      <td>credit</td>\n",
              "      <td>NaN</td>\n",
              "      <td>NaN</td>\n",
              "      <td>NaN</td>\n",
              "      <td>149.0</td>\n",
              "      <td>anonymous.com</td>\n",
              "      <td>anonymous.com</td>\n",
              "      <td>1.0</td>\n",
              "      <td>2.0</td>\n",
              "      <td>0.0</td>\n",
              "      <td>2.0</td>\n",
              "      <td>0.0</td>\n",
              "      <td>2.0</td>\n",
              "      <td>2.0</td>\n",
              "      <td>2.0</td>\n",
              "      <td>0.0</td>\n",
              "      <td>2.0</td>\n",
              "      <td>1.0</td>\n",
              "      <td>1.0</td>\n",
              "      <td>2.0</td>\n",
              "      <td>1.0</td>\n",
              "      <td>66.0</td>\n",
              "      <td>66.0</td>\n",
              "      <td>65.0</td>\n",
              "      <td>0.0</td>\n",
              "      <td>NaN</td>\n",
              "      <td>0.0</td>\n",
              "      <td>NaN</td>\n",
              "      <td>NaN</td>\n",
              "      <td>0.0</td>\n",
              "      <td>...</td>\n",
              "      <td>NaN</td>\n",
              "      <td>-5.0</td>\n",
              "      <td>287959.0</td>\n",
              "      <td>NaN</td>\n",
              "      <td>NaN</td>\n",
              "      <td>1.0</td>\n",
              "      <td>-11.0</td>\n",
              "      <td>NaN</td>\n",
              "      <td>NaN</td>\n",
              "      <td>NaN</td>\n",
              "      <td>100.0</td>\n",
              "      <td>NotFound</td>\n",
              "      <td>52.0</td>\n",
              "      <td>NaN</td>\n",
              "      <td>New</td>\n",
              "      <td>NotFound</td>\n",
              "      <td>225.0</td>\n",
              "      <td>NaN</td>\n",
              "      <td>254.0</td>\n",
              "      <td>507.0</td>\n",
              "      <td>NaN</td>\n",
              "      <td>NaN</td>\n",
              "      <td>NaN</td>\n",
              "      <td>NaN</td>\n",
              "      <td>NaN</td>\n",
              "      <td>New</td>\n",
              "      <td>NotFound</td>\n",
              "      <td>NaN</td>\n",
              "      <td>chrome 62.0</td>\n",
              "      <td>F</td>\n",
              "      <td>F</td>\n",
              "      <td>T</td>\n",
              "      <td>T</td>\n",
              "      <td>desktop</td>\n",
              "      <td>Windows</td>\n",
              "      <td>0</td>\n",
              "      <td>12</td>\n",
              "      <td>0.595703</td>\n",
              "      <td>3.0</td>\n",
              "      <td>3</td>\n",
              "    </tr>\n",
              "  </tbody>\n",
              "</table>\n",
              "<p>5 rows × 388 columns</p>\n",
              "</div>"
            ],
            "text/plain": [
              "    TransactionID  isFraud  ...  CurrencyDollar  CentsDigits\n",
              "10        2987010        0  ...            75.0            3\n",
              "17        2987017        0  ...           100.0            1\n",
              "40        2987040        0  ...            75.0            3\n",
              "48        2987048        0  ...            42.0            3\n",
              "49        2987049        0  ...             3.0            3\n",
              "\n",
              "[5 rows x 388 columns]"
            ]
          },
          "metadata": {},
          "execution_count": 83
        }
      ]
    },
    {
      "cell_type": "code",
      "metadata": {
        "id": "C0cZFO3sNAvt"
      },
      "source": [
        "trainset['MobileDevice']= [v if v == 'mobile' else 0 for v in trainset['DeviceType']]\n",
        "testset['MobileDevice']= [v if v == 'mobile' else 0 for v in testset['DeviceType']]"
      ],
      "execution_count": null,
      "outputs": []
    },
    {
      "cell_type": "code",
      "metadata": {
        "id": "9iMAfmjVPHZI"
      },
      "source": [
        "trainset['DesktopDevice']= [v if v == 'desktop' else 0 for v in trainset['DeviceType']]\n",
        "testset['DesktopDevice']= [v if v == 'desktop' else 0 for v in testset['DeviceType']]"
      ],
      "execution_count": null,
      "outputs": []
    },
    {
      "cell_type": "code",
      "metadata": {
        "id": "WZM8hoERmh3_"
      },
      "source": [
        "trainset['NoDevice']= [v if pd.isna(v) == True else int(0) for v in trainset['DeviceType']]\n",
        "testset['NoDevice']= [v if pd.isna(v) == True else int(0) for v in testset['DeviceType']]"
      ],
      "execution_count": null,
      "outputs": []
    },
    {
      "cell_type": "code",
      "metadata": {
        "id": "5tIrkiefhahS"
      },
      "source": [
        "# new data frame with split value columns\n",
        "particion = trainset[\"DeviceInfo\"].str.split(\"/\", n = 1, expand = True)\n",
        "  \n",
        "# making separate first name column from new data frame\n",
        "trainset[\"device\"]= particion[0]\n",
        "  \n",
        "# making separate last name column from new data frame\n",
        "trainset[\"serial_device1\"]= particion[1]\n",
        "\n",
        "particion2=trainset[\"device\"].str.split(\"-\", n = 2, expand = True)\n",
        "trainset[\"serial_device2\"]= particion2[0]\n",
        "trainset[\"serial_device3\"]= particion2[1]\n",
        "trainset[\"serial_device4\"]= particion2[2]"
      ],
      "execution_count": null,
      "outputs": []
    },
    {
      "cell_type": "code",
      "metadata": {
        "id": "5Oxv-XWFQVaV"
      },
      "source": [
        "# new data frame with split value columns\n",
        "particion = testset[\"DeviceInfo\"].str.split(\"/\", n = 1, expand = True)\n",
        "  \n",
        "# making separate first name column from new data frame\n",
        "testset[\"device\"]= particion[0]\n",
        "  \n",
        "# making separate last name column from new data frame\n",
        "testset[\"serial_device1\"]= particion[1]\n",
        "\n",
        "particion2=testset[\"device\"].str.split(\"-\", n = 2, expand = True)\n",
        "testset[\"serial_device2\"]= particion2[0]\n",
        "testset[\"serial_device3\"]= particion2[1]\n",
        "testset[\"serial_device4\"]= particion2[2]"
      ],
      "execution_count": null,
      "outputs": []
    },
    {
      "cell_type": "code",
      "metadata": {
        "id": "AKLaou-WzOAq"
      },
      "source": [
        "particion = trainset[\"serial_device2\"].str.split(\" \", n = 1, expand = True)\n",
        "  \n",
        "# making separate first name column from new data frame\n",
        "trainset[\"serial_device2\"]= particion[0]\n",
        "  \n",
        "# making separate last name column from new data frame\n",
        "trainset[\"serial_device7\"]= particion[1]"
      ],
      "execution_count": null,
      "outputs": []
    },
    {
      "cell_type": "code",
      "metadata": {
        "id": "BsVjNhnEQvxZ"
      },
      "source": [
        "particion = testset[\"serial_device2\"].str.split(\" \", n = 1, expand = True)\n",
        "  \n",
        "# making separate first name column from new data frame\n",
        "testset[\"serial_device2\"]= particion[0]\n",
        "  \n",
        "# making separate last name column from new data frame\n",
        "testset[\"serial_device7\"]= particion[1]"
      ],
      "execution_count": null,
      "outputs": []
    },
    {
      "cell_type": "code",
      "metadata": {
        "id": "6UdvL65y91Pr"
      },
      "source": [
        "# new data frame with split value columns\n",
        "particion = trainset[\"serial_device3\"].str.split(\" \", n = 1, expand = True)\n",
        "  \n",
        "# making separate first name column from new data frame\n",
        "trainset[\"serial_device3\"]= particion[0]\n",
        "  \n",
        "# making separate last name column from new data frame\n",
        "trainset[\"serial_device6\"]= particion[1]"
      ],
      "execution_count": null,
      "outputs": []
    },
    {
      "cell_type": "code",
      "metadata": {
        "id": "TbQjzmYoQ7pB"
      },
      "source": [
        "# new data frame with split value columns\n",
        "particion = testset[\"serial_device3\"].str.split(\" \", n = 1, expand = True)\n",
        "  \n",
        "# making separate first name column from new data frame\n",
        "testset[\"serial_device3\"]= particion[0]\n",
        "  \n",
        "# making separate last name column from new data frame\n",
        "testset[\"serial_device6\"]= particion[1]"
      ],
      "execution_count": null,
      "outputs": []
    },
    {
      "cell_type": "code",
      "metadata": {
        "id": "jx57CrFO8m-j"
      },
      "source": [
        "# new data frame with split value columns\n",
        "particion = trainset[\"serial_device4\"].str.split(\" \", n = 1, expand = True)\n",
        "  \n",
        "# making separate first name column from new data frame\n",
        "trainset[\"serial_device4\"]= particion[0]\n",
        "  \n",
        "# making separate last name column from new data frame\n",
        "trainset[\"serial_device5\"]= particion[1]\n",
        "\n"
      ],
      "execution_count": null,
      "outputs": []
    },
    {
      "cell_type": "code",
      "metadata": {
        "id": "w0hoBkarRO67"
      },
      "source": [
        "# new data frame with split value columns\n",
        "particion = testset[\"serial_device4\"].str.split(\" \", n = 1, expand = True)\n",
        "  \n",
        "# making separate first name column from new data frame\n",
        "testset[\"serial_device4\"]= particion[0]\n",
        "  \n",
        "# making separate last name column from new data frame\n",
        "testset[\"serial_device5\"]= particion[1]"
      ],
      "execution_count": null,
      "outputs": []
    },
    {
      "cell_type": "code",
      "metadata": {
        "id": "kTokQaBRHzyB"
      },
      "source": [
        "def brand_device(dataset,columna1,columna2,name_list=' ',search_word=' '):\n",
        "  str=name_list\n",
        "  locals()[str] = []\n",
        "  for ind in dataset.index:\n",
        "    if columna1[ind]==search_word:\n",
        "      locals()[str].append(columna2[ind])\n",
        "    elif columna1[ind]!=search_word:\n",
        "      locals()[str].append(0)\n",
        "  return locals()[str]"
      ],
      "execution_count": null,
      "outputs": []
    },
    {
      "cell_type": "code",
      "metadata": {
        "id": "upiHDMxGIvoC"
      },
      "source": [
        "trainset['DesktopBrand']=pd.Series(brand_device(trainset,trainset['DeviceType'],trainset['serial_device2'],name_list='desktop_serial',search_word='desktop'))\n",
        "testset['DesktopBrand']=pd.Series(brand_device(testset,testset['DeviceType'],testset['serial_device2'],name_list='desktop_serial',search_word='desktop'))"
      ],
      "execution_count": null,
      "outputs": []
    },
    {
      "cell_type": "code",
      "metadata": {
        "id": "sZEkVf7bK5ta"
      },
      "source": [
        "trainset['MobileBrand']=pd.Series(brand_device(trainset,trainset['DeviceType'],trainset['serial_device2'],name_list='mobile_serial',search_word='mobile'))\n",
        "testset['MobileBrand']=pd.Series(brand_device(testset,testset['DeviceType'],testset['serial_device2'],name_list='mobile_serial',search_word='mobile'))"
      ],
      "execution_count": null,
      "outputs": []
    },
    {
      "cell_type": "code",
      "metadata": {
        "id": "FxNNu8TzYbME"
      },
      "source": [
        "def mob_serial_device(dataset,columna1):\n",
        "  samsung=['SAMSUNG','SPH', 'SCH' ,'SGH','REX']\n",
        "  generica_americana=['SKY_5.0LM', 'PH','REVVLPLUS','Venue']\n",
        "  generica_asiatica=['U','F80', 'FTJ152D','Robin','Mobiistar_LAI_Yuna_X','Linux','Le','AX920','AX820','SH','A50C+']\n",
        "  generica_europea=['FP2','VFD','ZEIA8','Edison','en']   \n",
        "  cat=[ 'S60']\n",
        "  verykool=[ 'verykools5035','verykools4009', 'verykools5034','VerykoolS5030','verykoolS5019', 'verykools5004','verykoolS5525','ASUS']\n",
        "  blu=['Joy','BLU','Studio']\n",
        "  asus=['ASUS_X00DD','ASUS_Z00AD','ASUS_X015D','ASUS_X008DC','ASUS_Z01BDA','ASUS_Z00UD','ASUS_Z01KD','ASUS_Z00ED']\n",
        "  motorola=['XT1635','XT1032','MotoG3','XT1254', 'XT1565','XT1585','XT1063','MOT','XT1710','XT1680','XT1092','XT1023','XT1650','XT1064','XT1003','XT1080','XT1058',\n",
        "            'MotoE2','XT1563','XT1008', 'XT1040','XT1580','XT1053','moto','MotoE2(4G','XT1030','XT1031','XT1055','XT1575','XT1528','XT1021','XT1609','XT1060',\n",
        "            'V.40R','Turbo','XT1033','XT1096','XT1094','XT1097']\n",
        "  sony=['LT22i','F3113','D5306','M4', 'E2306','F5121','E5606','F3213', 'E6603', 'E5823','E6633','F5321','D5803','G3313','E5506','G3123', 'E6553','F8331','D6603',\n",
        "        'E6853','LT30p','F3313','E6833','D6708', 'C2104', 'SGP621','E2104','C6906','D5106','D5316','E2006','G3423','E5803','R1','D6503','G3223','D2306', 'G8141']\n",
        "  alcatel=['7055A','5012G','5080A','5011A','Alcatel_4060A','5085B', '5010S','5051A','5054N','5025G','8050G', '4027A','5010G','5056A','4047G','4047A','A466BG','Alcatel_5098O',\n",
        "           '6039A','Alcatel_5044R','6045I','Alcatel_5054O','7048A','4013M','5054S','ALCATEL','5049W','5057M','5095I','A621R','5015A']\n",
        "  zte=['Z970','Blade','Z836BL','Z981', 'Z839','N817','Z983', 'Z971','K88','Z837VL','Z835','Z798BL','Z982','ZTE','N9136','Z799VL','Z831','Z963VL','Z956','Z959','Z833']\n",
        "  huawei=['BLL','TRT','ALE','Y635','VKY', 'gxq6580_weg_l','SLA','hi6210sft','BLN','MHA','H1711','CRO','G620S','VTR','KIW', 'H1611','BLA','PRA','MYA','HUAWEI','BAC','CHC','EVA','CAM','WAS']\n",
        "  lg=['VS500','LGMP260','Nexus','VS988','LGLS676', 'LGLS775','VS995','VS835','LGMS631','EGO','LM','LGLS675','LGL57BL','LGLS991','VS987','VS501','LGMS550','LGL33L','LGMS330',\n",
        "      'VS820','LGLS751','LGLS770','LGMS210','LGMP450', 'VS996','VS425PP','LGUS215','LGLS990','LGL62VL','VS990','LGMS323','LGL83BL','K92','LGUS990','RS988','VS985', 'LGL84VL',\n",
        "      'VS986','VS880','VS880PP','LGL58VL','LGLS665', 'LGUS991','LGL52VL','Beat']\n",
        "  tablet=['RCT6303W87M7', 'KFFOWI','SGP521','VK810','KFASWI', 'KFGIWI','KFAUWI','QTASUN1','KFDOWI','KFSAWI','BNTV400','PLAYTAB','Tab2A7','IdeaTabA1000','TAB7','RCT6203W46', 'VK700','QTAQZ3'\n",
        "  ,'KFAPWI', 'KFTBWI','NX785QC8G','KFTHWI','QTAIR7','KFTT','QMV7A','KFJWI','1016S','RCT6773W22B','DT0704K08','IdeaTab','K90U','RCT6S03W12','P008','YOGA','RCT6513W87', 'BG2',\n",
        "  'KFSUWI','LenovoA3300','P027','P00C','KFMEWI','ME173X','NXA116QC164','Coolpad','KFSOWI','ASUS_P00J','S6000','9003A']\n",
        "  blackberry=[ 'STV100','BBB100','BBA100']\n",
        "  wiko=['TOMMY2','HIGHWAY']\n",
        "  honor=['X10','NEM','BND','FRD']\n",
        "  blackview=['BV6000','Max']\n",
        "  redmi=[ 'Mi','MI', 'A9','m3']\n",
        "  kyocera=[ 'C6743','E6810']\n",
        "  lanix=['Ilium','ILIUM']\n",
        "  htc=['Hisense', 'HT0701A16','Tornado','2PS64','2PQ93','HTC6545LVW','HTC6500LVW','831C','0PAJ5','2PYB2', '2PZC5','HTC6535LVW','HTC6525LVW','0PJA2','HTC_D10i','0PM92']\n",
        "  acer=['Z410','S57']\n",
        "  polaroid=['P4526A','P5526A','P5006A','PSPC550','P5026A']\n",
        "  lava=['A3_mini','LAVA_A3', 'iris','Grand2c','iris80']\n",
        "  oppo=['R8106','A37f', 'A96','F1f','A1601']\n",
        "  one=['ONE','ONEPLUS','A0001']\n",
        "  nokia=['TA']\n",
        "  iphone=['iOS','iPhone']\n",
        "  mobile=[]\n",
        "  for ind in dataset.index:\n",
        "    if columna1[ind] in samsung:\n",
        "      mobile.append('SAMSUNG')\n",
        "    elif columna1[ind] in generica_americana:\n",
        "      mobile.append('GENERICA_US')\n",
        "    elif columna1[ind] in generica_asiatica:\n",
        "      mobile.append('GENERICA_AS')\n",
        "    elif columna1[ind] in generica_europea:\n",
        "      mobile.append('GENERICA_EU')\n",
        "    elif columna1[ind] in cat:\n",
        "      mobile.append('CAT')\n",
        "    elif columna1[ind] in verykool:\n",
        "      mobile.append('VERYKOOL')\n",
        "    elif columna1[ind] in blu:\n",
        "      mobile.append('BLU')\n",
        "    elif columna1[ind] in asus:\n",
        "      mobile.append('ASUS')\n",
        "    elif columna1[ind] in motorola:\n",
        "      mobile.append('MOTOROLA')\n",
        "    elif columna1[ind] in sony:\n",
        "      mobile.append('SONY')\n",
        "    elif columna1[ind] in alcatel:\n",
        "      mobile.append('ALCATEL')\n",
        "    elif columna1[ind] in zte:\n",
        "      mobile.append('ZTE')\n",
        "    elif columna1[ind] in huawei:\n",
        "      mobile.append('HUAWEI')\n",
        "    elif columna1[ind] in lg:\n",
        "      mobile.append('LG')\n",
        "    elif columna1[ind] in blackberry:\n",
        "      mobile.append('BLACKBERRY')\n",
        "    elif columna1[ind] in wiko:\n",
        "      mobile.append('WIKO')\n",
        "    elif columna1[ind] in honor:\n",
        "      mobile.append('HONOR')\n",
        "    elif columna1[ind] in blackview:\n",
        "      mobile.append('BLACKVIEW')\n",
        "    elif columna1[ind] in redmi:\n",
        "      mobile.append('XIAOMI')\n",
        "    elif columna1[ind] in kyocera:\n",
        "      mobile.append('KYOCERA')\n",
        "    elif columna1[ind] in lanix:\n",
        "      mobile.append('LANIX')\n",
        "    elif columna1[ind] in htc:\n",
        "      mobile.append('HTC')\n",
        "    elif columna1[ind] in acer:\n",
        "      mobile.append('ACER')\n",
        "    elif columna1[ind] in polaroid:\n",
        "      mobile.append('POLAROID')\n",
        "    elif columna1[ind] in lava:\n",
        "      mobile.append('LAVA')\n",
        "    elif columna1[ind] in oppo:\n",
        "      mobile.append('OPPO')\n",
        "    elif columna1[ind] in one:\n",
        "      mobile.append('ONEPLUS')\n",
        "    elif columna1[ind] in kyocera:\n",
        "      mobile.append('KYOCERA')\n",
        "    elif columna1[ind] in nokia:\n",
        "      mobile.append('NOKIA')\n",
        "    elif columna1[ind] in iphone:\n",
        "      mobile.append('IPHONE')\n",
        "    elif columna1[ind] in tablet:\n",
        "      mobile.append(0)\n",
        "    else: \n",
        "      mobile.append(columna1[ind])\n",
        "  return mobile"
      ],
      "execution_count": null,
      "outputs": []
    },
    {
      "cell_type": "code",
      "metadata": {
        "id": "uzeL5XrbWXQB"
      },
      "source": [
        "trainset['MobileSerial'] = pd.Series(mob_serial_device(trainset,trainset['MobileBrand']))\n",
        "testset['MobileSerial'] = pd.Series(mob_serial_device(testset,testset['MobileBrand']))\n",
        "#df_ident.loc[:, 'MobileBrand']"
      ],
      "execution_count": null,
      "outputs": []
    },
    {
      "cell_type": "code",
      "metadata": {
        "id": "6fB6Wu3LZDcT"
      },
      "source": [
        "trainset['MobileSerial2'] = trainset.loc[:, 'MobileSerial']\n",
        "testset['MobileSerial2'] = testset.loc[:, 'MobileSerial']\n"
      ],
      "execution_count": null,
      "outputs": []
    },
    {
      "cell_type": "code",
      "metadata": {
        "id": "DRiCStIiZWQC"
      },
      "source": [
        "def compare_device(dataset,columna1,columna2):\n",
        "  comparacion=[]\n",
        "  for ind in dataset.index:\n",
        "    if columna1[ind]!= 0 and columna2[ind]!=0:\n",
        "      if columna1[ind]==columna2[ind]:\n",
        "        comparacion.append(1)\n",
        "      else: \n",
        "        comparacion.append(-1)\n",
        "    else:\n",
        "      comparacion.append(0)\n",
        "  return comparacion"
      ],
      "execution_count": null,
      "outputs": []
    },
    {
      "cell_type": "code",
      "metadata": {
        "id": "WYGHqUW2ahBn"
      },
      "source": [
        "trainset['MobileCompareSerial'] = pd.Series(compare_device(trainset,trainset['MobileSerial'],trainset['MobileSerial2']))\n",
        "testset['MobileCompareSerial'] = pd.Series(compare_device(testset,testset['MobileSerial'],testset['MobileSerial2']))\n"
      ],
      "execution_count": null,
      "outputs": []
    },
    {
      "cell_type": "code",
      "metadata": {
        "colab": {
          "base_uri": "https://localhost:8080/",
          "height": 284
        },
        "id": "p3xZXh5viLdz",
        "outputId": "029c31b4-4d65-4a7c-b2b1-ee38f4624bc7"
      },
      "source": [
        "trainset.head(5)"
      ],
      "execution_count": null,
      "outputs": [
        {
          "output_type": "execute_result",
          "data": {
            "text/html": [
              "<div>\n",
              "<style scoped>\n",
              "    .dataframe tbody tr th:only-of-type {\n",
              "        vertical-align: middle;\n",
              "    }\n",
              "\n",
              "    .dataframe tbody tr th {\n",
              "        vertical-align: top;\n",
              "    }\n",
              "\n",
              "    .dataframe thead th {\n",
              "        text-align: right;\n",
              "    }\n",
              "</style>\n",
              "<table border=\"1\" class=\"dataframe\">\n",
              "  <thead>\n",
              "    <tr style=\"text-align: right;\">\n",
              "      <th></th>\n",
              "      <th>TransactionID</th>\n",
              "      <th>isFraud</th>\n",
              "      <th>TransactionDT</th>\n",
              "      <th>TransactionAmt</th>\n",
              "      <th>ProductCD</th>\n",
              "      <th>card1</th>\n",
              "      <th>card2</th>\n",
              "      <th>card3</th>\n",
              "      <th>card4</th>\n",
              "      <th>card5</th>\n",
              "      <th>card6</th>\n",
              "      <th>addr1</th>\n",
              "      <th>addr2</th>\n",
              "      <th>dist1</th>\n",
              "      <th>dist2</th>\n",
              "      <th>P_emaildomain</th>\n",
              "      <th>R_emaildomain</th>\n",
              "      <th>C1</th>\n",
              "      <th>C2</th>\n",
              "      <th>C3</th>\n",
              "      <th>C4</th>\n",
              "      <th>C5</th>\n",
              "      <th>C6</th>\n",
              "      <th>C7</th>\n",
              "      <th>C8</th>\n",
              "      <th>C9</th>\n",
              "      <th>C10</th>\n",
              "      <th>C11</th>\n",
              "      <th>C12</th>\n",
              "      <th>C13</th>\n",
              "      <th>C14</th>\n",
              "      <th>D1</th>\n",
              "      <th>D2</th>\n",
              "      <th>D3</th>\n",
              "      <th>D4</th>\n",
              "      <th>D5</th>\n",
              "      <th>D6</th>\n",
              "      <th>D8</th>\n",
              "      <th>D9</th>\n",
              "      <th>D10</th>\n",
              "      <th>...</th>\n",
              "      <th>id_17</th>\n",
              "      <th>id_18</th>\n",
              "      <th>id_19</th>\n",
              "      <th>id_20</th>\n",
              "      <th>id_21</th>\n",
              "      <th>id_22</th>\n",
              "      <th>id_24</th>\n",
              "      <th>id_25</th>\n",
              "      <th>id_26</th>\n",
              "      <th>id_28</th>\n",
              "      <th>id_29</th>\n",
              "      <th>id_30</th>\n",
              "      <th>id_31</th>\n",
              "      <th>id_35</th>\n",
              "      <th>id_36</th>\n",
              "      <th>id_37</th>\n",
              "      <th>id_38</th>\n",
              "      <th>DeviceType</th>\n",
              "      <th>DeviceInfo</th>\n",
              "      <th>T_hours</th>\n",
              "      <th>T_month</th>\n",
              "      <th>CurrencyCents</th>\n",
              "      <th>CurrencyDollar</th>\n",
              "      <th>CentsDigits</th>\n",
              "      <th>MobileDevice</th>\n",
              "      <th>DesktopDevice</th>\n",
              "      <th>NoDevice</th>\n",
              "      <th>device</th>\n",
              "      <th>serial_device1</th>\n",
              "      <th>serial_device2</th>\n",
              "      <th>serial_device3</th>\n",
              "      <th>serial_device4</th>\n",
              "      <th>serial_device7</th>\n",
              "      <th>serial_device6</th>\n",
              "      <th>serial_device5</th>\n",
              "      <th>DesktopBrand</th>\n",
              "      <th>MobileBrand</th>\n",
              "      <th>MobileSerial</th>\n",
              "      <th>MobileSerial2</th>\n",
              "      <th>MobileCompareSerial</th>\n",
              "    </tr>\n",
              "  </thead>\n",
              "  <tbody>\n",
              "    <tr>\n",
              "      <th>0</th>\n",
              "      <td>2987000</td>\n",
              "      <td>0</td>\n",
              "      <td>86400</td>\n",
              "      <td>68.5</td>\n",
              "      <td>W</td>\n",
              "      <td>13926</td>\n",
              "      <td>NaN</td>\n",
              "      <td>150.0</td>\n",
              "      <td>discover</td>\n",
              "      <td>142.0</td>\n",
              "      <td>credit</td>\n",
              "      <td>315.0</td>\n",
              "      <td>87.0</td>\n",
              "      <td>19.0</td>\n",
              "      <td>NaN</td>\n",
              "      <td>NaN</td>\n",
              "      <td>NaN</td>\n",
              "      <td>1.0</td>\n",
              "      <td>1.0</td>\n",
              "      <td>0.0</td>\n",
              "      <td>0.0</td>\n",
              "      <td>0.0</td>\n",
              "      <td>1.0</td>\n",
              "      <td>0.0</td>\n",
              "      <td>0.0</td>\n",
              "      <td>1.0</td>\n",
              "      <td>0.0</td>\n",
              "      <td>2.0</td>\n",
              "      <td>0.0</td>\n",
              "      <td>1.0</td>\n",
              "      <td>1.0</td>\n",
              "      <td>14.0</td>\n",
              "      <td>NaN</td>\n",
              "      <td>13.0</td>\n",
              "      <td>NaN</td>\n",
              "      <td>NaN</td>\n",
              "      <td>NaN</td>\n",
              "      <td>NaN</td>\n",
              "      <td>NaN</td>\n",
              "      <td>13.0</td>\n",
              "      <td>...</td>\n",
              "      <td>NaN</td>\n",
              "      <td>NaN</td>\n",
              "      <td>NaN</td>\n",
              "      <td>NaN</td>\n",
              "      <td>NaN</td>\n",
              "      <td>NaN</td>\n",
              "      <td>NaN</td>\n",
              "      <td>NaN</td>\n",
              "      <td>NaN</td>\n",
              "      <td>NaN</td>\n",
              "      <td>NaN</td>\n",
              "      <td>NaN</td>\n",
              "      <td>NaN</td>\n",
              "      <td>NaN</td>\n",
              "      <td>NaN</td>\n",
              "      <td>NaN</td>\n",
              "      <td>NaN</td>\n",
              "      <td>NaN</td>\n",
              "      <td>NaN</td>\n",
              "      <td>0</td>\n",
              "      <td>12</td>\n",
              "      <td>0.5</td>\n",
              "      <td>68.0</td>\n",
              "      <td>1</td>\n",
              "      <td>0</td>\n",
              "      <td>0</td>\n",
              "      <td>NaN</td>\n",
              "      <td>NaN</td>\n",
              "      <td>NaN</td>\n",
              "      <td>NaN</td>\n",
              "      <td>NaN</td>\n",
              "      <td>NaN</td>\n",
              "      <td>NaN</td>\n",
              "      <td>NaN</td>\n",
              "      <td>NaN</td>\n",
              "      <td>0</td>\n",
              "      <td>0</td>\n",
              "      <td>0</td>\n",
              "      <td>0</td>\n",
              "      <td>0</td>\n",
              "    </tr>\n",
              "    <tr>\n",
              "      <th>1</th>\n",
              "      <td>2987001</td>\n",
              "      <td>0</td>\n",
              "      <td>86401</td>\n",
              "      <td>29.0</td>\n",
              "      <td>W</td>\n",
              "      <td>2755</td>\n",
              "      <td>404.0</td>\n",
              "      <td>150.0</td>\n",
              "      <td>mastercard</td>\n",
              "      <td>102.0</td>\n",
              "      <td>credit</td>\n",
              "      <td>325.0</td>\n",
              "      <td>87.0</td>\n",
              "      <td>NaN</td>\n",
              "      <td>NaN</td>\n",
              "      <td>gmail.com</td>\n",
              "      <td>NaN</td>\n",
              "      <td>1.0</td>\n",
              "      <td>1.0</td>\n",
              "      <td>0.0</td>\n",
              "      <td>0.0</td>\n",
              "      <td>0.0</td>\n",
              "      <td>1.0</td>\n",
              "      <td>0.0</td>\n",
              "      <td>0.0</td>\n",
              "      <td>0.0</td>\n",
              "      <td>0.0</td>\n",
              "      <td>1.0</td>\n",
              "      <td>0.0</td>\n",
              "      <td>1.0</td>\n",
              "      <td>1.0</td>\n",
              "      <td>0.0</td>\n",
              "      <td>NaN</td>\n",
              "      <td>NaN</td>\n",
              "      <td>0.0</td>\n",
              "      <td>NaN</td>\n",
              "      <td>NaN</td>\n",
              "      <td>NaN</td>\n",
              "      <td>NaN</td>\n",
              "      <td>0.0</td>\n",
              "      <td>...</td>\n",
              "      <td>NaN</td>\n",
              "      <td>NaN</td>\n",
              "      <td>NaN</td>\n",
              "      <td>NaN</td>\n",
              "      <td>NaN</td>\n",
              "      <td>NaN</td>\n",
              "      <td>NaN</td>\n",
              "      <td>NaN</td>\n",
              "      <td>NaN</td>\n",
              "      <td>NaN</td>\n",
              "      <td>NaN</td>\n",
              "      <td>NaN</td>\n",
              "      <td>NaN</td>\n",
              "      <td>NaN</td>\n",
              "      <td>NaN</td>\n",
              "      <td>NaN</td>\n",
              "      <td>NaN</td>\n",
              "      <td>NaN</td>\n",
              "      <td>NaN</td>\n",
              "      <td>0</td>\n",
              "      <td>12</td>\n",
              "      <td>0.0</td>\n",
              "      <td>29.0</td>\n",
              "      <td>1</td>\n",
              "      <td>0</td>\n",
              "      <td>0</td>\n",
              "      <td>NaN</td>\n",
              "      <td>NaN</td>\n",
              "      <td>NaN</td>\n",
              "      <td>NaN</td>\n",
              "      <td>NaN</td>\n",
              "      <td>NaN</td>\n",
              "      <td>NaN</td>\n",
              "      <td>NaN</td>\n",
              "      <td>NaN</td>\n",
              "      <td>0</td>\n",
              "      <td>0</td>\n",
              "      <td>0</td>\n",
              "      <td>0</td>\n",
              "      <td>0</td>\n",
              "    </tr>\n",
              "    <tr>\n",
              "      <th>2</th>\n",
              "      <td>2987002</td>\n",
              "      <td>0</td>\n",
              "      <td>86469</td>\n",
              "      <td>59.0</td>\n",
              "      <td>W</td>\n",
              "      <td>4663</td>\n",
              "      <td>490.0</td>\n",
              "      <td>150.0</td>\n",
              "      <td>visa</td>\n",
              "      <td>166.0</td>\n",
              "      <td>debit</td>\n",
              "      <td>330.0</td>\n",
              "      <td>87.0</td>\n",
              "      <td>287.0</td>\n",
              "      <td>NaN</td>\n",
              "      <td>outlook.com</td>\n",
              "      <td>NaN</td>\n",
              "      <td>1.0</td>\n",
              "      <td>1.0</td>\n",
              "      <td>0.0</td>\n",
              "      <td>0.0</td>\n",
              "      <td>0.0</td>\n",
              "      <td>1.0</td>\n",
              "      <td>0.0</td>\n",
              "      <td>0.0</td>\n",
              "      <td>1.0</td>\n",
              "      <td>0.0</td>\n",
              "      <td>1.0</td>\n",
              "      <td>0.0</td>\n",
              "      <td>1.0</td>\n",
              "      <td>1.0</td>\n",
              "      <td>0.0</td>\n",
              "      <td>NaN</td>\n",
              "      <td>NaN</td>\n",
              "      <td>0.0</td>\n",
              "      <td>NaN</td>\n",
              "      <td>NaN</td>\n",
              "      <td>NaN</td>\n",
              "      <td>NaN</td>\n",
              "      <td>0.0</td>\n",
              "      <td>...</td>\n",
              "      <td>NaN</td>\n",
              "      <td>NaN</td>\n",
              "      <td>NaN</td>\n",
              "      <td>NaN</td>\n",
              "      <td>NaN</td>\n",
              "      <td>NaN</td>\n",
              "      <td>NaN</td>\n",
              "      <td>NaN</td>\n",
              "      <td>NaN</td>\n",
              "      <td>NaN</td>\n",
              "      <td>NaN</td>\n",
              "      <td>NaN</td>\n",
              "      <td>NaN</td>\n",
              "      <td>NaN</td>\n",
              "      <td>NaN</td>\n",
              "      <td>NaN</td>\n",
              "      <td>NaN</td>\n",
              "      <td>NaN</td>\n",
              "      <td>NaN</td>\n",
              "      <td>0</td>\n",
              "      <td>12</td>\n",
              "      <td>0.0</td>\n",
              "      <td>59.0</td>\n",
              "      <td>1</td>\n",
              "      <td>0</td>\n",
              "      <td>0</td>\n",
              "      <td>NaN</td>\n",
              "      <td>NaN</td>\n",
              "      <td>NaN</td>\n",
              "      <td>NaN</td>\n",
              "      <td>NaN</td>\n",
              "      <td>NaN</td>\n",
              "      <td>NaN</td>\n",
              "      <td>NaN</td>\n",
              "      <td>NaN</td>\n",
              "      <td>0</td>\n",
              "      <td>0</td>\n",
              "      <td>0</td>\n",
              "      <td>0</td>\n",
              "      <td>0</td>\n",
              "    </tr>\n",
              "    <tr>\n",
              "      <th>3</th>\n",
              "      <td>2987003</td>\n",
              "      <td>0</td>\n",
              "      <td>86499</td>\n",
              "      <td>50.0</td>\n",
              "      <td>W</td>\n",
              "      <td>18132</td>\n",
              "      <td>567.0</td>\n",
              "      <td>150.0</td>\n",
              "      <td>mastercard</td>\n",
              "      <td>117.0</td>\n",
              "      <td>debit</td>\n",
              "      <td>476.0</td>\n",
              "      <td>87.0</td>\n",
              "      <td>NaN</td>\n",
              "      <td>NaN</td>\n",
              "      <td>yahoo.com</td>\n",
              "      <td>NaN</td>\n",
              "      <td>2.0</td>\n",
              "      <td>5.0</td>\n",
              "      <td>0.0</td>\n",
              "      <td>0.0</td>\n",
              "      <td>0.0</td>\n",
              "      <td>4.0</td>\n",
              "      <td>0.0</td>\n",
              "      <td>0.0</td>\n",
              "      <td>1.0</td>\n",
              "      <td>0.0</td>\n",
              "      <td>1.0</td>\n",
              "      <td>0.0</td>\n",
              "      <td>25.0</td>\n",
              "      <td>1.0</td>\n",
              "      <td>112.0</td>\n",
              "      <td>112.0</td>\n",
              "      <td>0.0</td>\n",
              "      <td>94.0</td>\n",
              "      <td>0.0</td>\n",
              "      <td>NaN</td>\n",
              "      <td>NaN</td>\n",
              "      <td>NaN</td>\n",
              "      <td>84.0</td>\n",
              "      <td>...</td>\n",
              "      <td>NaN</td>\n",
              "      <td>NaN</td>\n",
              "      <td>NaN</td>\n",
              "      <td>NaN</td>\n",
              "      <td>NaN</td>\n",
              "      <td>NaN</td>\n",
              "      <td>NaN</td>\n",
              "      <td>NaN</td>\n",
              "      <td>NaN</td>\n",
              "      <td>NaN</td>\n",
              "      <td>NaN</td>\n",
              "      <td>NaN</td>\n",
              "      <td>NaN</td>\n",
              "      <td>NaN</td>\n",
              "      <td>NaN</td>\n",
              "      <td>NaN</td>\n",
              "      <td>NaN</td>\n",
              "      <td>NaN</td>\n",
              "      <td>NaN</td>\n",
              "      <td>0</td>\n",
              "      <td>12</td>\n",
              "      <td>0.0</td>\n",
              "      <td>50.0</td>\n",
              "      <td>1</td>\n",
              "      <td>0</td>\n",
              "      <td>0</td>\n",
              "      <td>NaN</td>\n",
              "      <td>NaN</td>\n",
              "      <td>NaN</td>\n",
              "      <td>NaN</td>\n",
              "      <td>NaN</td>\n",
              "      <td>NaN</td>\n",
              "      <td>NaN</td>\n",
              "      <td>NaN</td>\n",
              "      <td>NaN</td>\n",
              "      <td>0</td>\n",
              "      <td>0</td>\n",
              "      <td>0</td>\n",
              "      <td>0</td>\n",
              "      <td>0</td>\n",
              "    </tr>\n",
              "    <tr>\n",
              "      <th>4</th>\n",
              "      <td>2987004</td>\n",
              "      <td>0</td>\n",
              "      <td>86506</td>\n",
              "      <td>50.0</td>\n",
              "      <td>H</td>\n",
              "      <td>4497</td>\n",
              "      <td>514.0</td>\n",
              "      <td>150.0</td>\n",
              "      <td>mastercard</td>\n",
              "      <td>102.0</td>\n",
              "      <td>credit</td>\n",
              "      <td>420.0</td>\n",
              "      <td>87.0</td>\n",
              "      <td>NaN</td>\n",
              "      <td>NaN</td>\n",
              "      <td>gmail.com</td>\n",
              "      <td>NaN</td>\n",
              "      <td>1.0</td>\n",
              "      <td>1.0</td>\n",
              "      <td>0.0</td>\n",
              "      <td>0.0</td>\n",
              "      <td>0.0</td>\n",
              "      <td>1.0</td>\n",
              "      <td>0.0</td>\n",
              "      <td>1.0</td>\n",
              "      <td>0.0</td>\n",
              "      <td>1.0</td>\n",
              "      <td>1.0</td>\n",
              "      <td>0.0</td>\n",
              "      <td>1.0</td>\n",
              "      <td>1.0</td>\n",
              "      <td>0.0</td>\n",
              "      <td>NaN</td>\n",
              "      <td>NaN</td>\n",
              "      <td>NaN</td>\n",
              "      <td>NaN</td>\n",
              "      <td>NaN</td>\n",
              "      <td>NaN</td>\n",
              "      <td>NaN</td>\n",
              "      <td>NaN</td>\n",
              "      <td>...</td>\n",
              "      <td>166.0</td>\n",
              "      <td>NaN</td>\n",
              "      <td>542.0</td>\n",
              "      <td>144.0</td>\n",
              "      <td>NaN</td>\n",
              "      <td>NaN</td>\n",
              "      <td>NaN</td>\n",
              "      <td>NaN</td>\n",
              "      <td>NaN</td>\n",
              "      <td>New</td>\n",
              "      <td>NotFound</td>\n",
              "      <td>Android 7.0</td>\n",
              "      <td>samsung browser 6.2</td>\n",
              "      <td>T</td>\n",
              "      <td>F</td>\n",
              "      <td>T</td>\n",
              "      <td>T</td>\n",
              "      <td>mobile</td>\n",
              "      <td>SAMSUNG SM-G892A Build/NRD90M</td>\n",
              "      <td>0</td>\n",
              "      <td>12</td>\n",
              "      <td>0.0</td>\n",
              "      <td>50.0</td>\n",
              "      <td>1</td>\n",
              "      <td>mobile</td>\n",
              "      <td>0</td>\n",
              "      <td>0.0</td>\n",
              "      <td>SAMSUNG SM-G892A Build</td>\n",
              "      <td>NRD90M</td>\n",
              "      <td>SAMSUNG</td>\n",
              "      <td>G892A</td>\n",
              "      <td>None</td>\n",
              "      <td>SM</td>\n",
              "      <td>Build</td>\n",
              "      <td>None</td>\n",
              "      <td>0</td>\n",
              "      <td>SAMSUNG</td>\n",
              "      <td>SAMSUNG</td>\n",
              "      <td>SAMSUNG</td>\n",
              "      <td>1</td>\n",
              "    </tr>\n",
              "  </tbody>\n",
              "</table>\n",
              "<p>5 rows × 404 columns</p>\n",
              "</div>"
            ],
            "text/plain": [
              "   TransactionID  isFraud  ...  MobileSerial2  MobileCompareSerial\n",
              "0        2987000        0  ...              0                    0\n",
              "1        2987001        0  ...              0                    0\n",
              "2        2987002        0  ...              0                    0\n",
              "3        2987003        0  ...              0                    0\n",
              "4        2987004        0  ...        SAMSUNG                    1\n",
              "\n",
              "[5 rows x 404 columns]"
            ]
          },
          "metadata": {},
          "execution_count": 103
        }
      ]
    },
    {
      "cell_type": "code",
      "metadata": {
        "colab": {
          "base_uri": "https://localhost:8080/"
        },
        "id": "KTP595henUzK",
        "outputId": "e6dccd39-cf7f-45af-9e60-2e3b10d02794"
      },
      "source": [
        "trainset['MobileCompareSerial'].value_counts()\n"
      ],
      "execution_count": null,
      "outputs": [
        {
          "output_type": "execute_result",
          "data": {
            "text/plain": [
              " 0    535196\n",
              " 1     44870\n",
              "-1     10474\n",
              "Name: MobileCompareSerial, dtype: int64"
            ]
          },
          "metadata": {},
          "execution_count": 104
        }
      ]
    },
    {
      "cell_type": "code",
      "metadata": {
        "id": "wQzz3QyP_7Vc"
      },
      "source": [
        "Eliminar=['DeviceInfo',\t'MobileDevice',\t'DesktopDevice',\t'NoDevice',\t'device',\t'serial_device1',\t'serial_device2',\t'serial_device3',\t'serial_device4',\t'serial_device7',\t'serial_device6',\t'serial_device5',\t'DesktopBrand',\t'MobileBrand',\t'MobileSerial',\t'MobileSerial2','id_30',\t'id_31','DeviceType'\t\t]\n",
        "train_df=trainset.drop(Eliminar, axis = 1)\n",
        "test_df=testset.drop(Eliminar, axis = 1)\n"
      ],
      "execution_count": null,
      "outputs": []
    },
    {
      "cell_type": "markdown",
      "metadata": {
        "id": "BW5nxkzO8xon"
      },
      "source": [
        "# **7. Data imputation**\n",
        "\n"
      ]
    },
    {
      "cell_type": "markdown",
      "metadata": {
        "id": "s6sHbCBwFqEu"
      },
      "source": [
        "Due to the presence of so many null values, it is necessary to impute data according to the type of values that make up each column. In this case, the following strategy is used: \n",
        "\n",
        "\n",
        "1.   For **real values**, the ***median*** will be used to eliminate null values.\n",
        "2.   For **integer values**, the ***mean*** will be used to eliminate null values.\n",
        "3.   For **categorical values**, the ***mode*** will be used to eliminate null values.\n",
        "\n",
        "\n",
        "\n",
        "\n",
        "\n",
        "\n",
        "\n"
      ]
    },
    {
      "cell_type": "code",
      "metadata": {
        "colab": {
          "base_uri": "https://localhost:8080/"
        },
        "id": "zusu42JzthnU",
        "outputId": "4b9b148a-8d0a-4f51-a3e6-8668cc776429"
      },
      "source": [
        "train_df.info()"
      ],
      "execution_count": null,
      "outputs": [
        {
          "output_type": "stream",
          "name": "stdout",
          "text": [
            "<class 'pandas.core.frame.DataFrame'>\n",
            "Int64Index: 590540 entries, 0 to 590539\n",
            "Columns: 385 entries, TransactionID to MobileCompareSerial\n",
            "dtypes: float16(319), float32(35), int16(1), int32(2), int64(4), int8(1), object(23)\n",
            "memory usage: 590.5+ MB\n"
          ]
        }
      ]
    },
    {
      "cell_type": "code",
      "metadata": {
        "colab": {
          "base_uri": "https://localhost:8080/"
        },
        "id": "dPTDb_NSUNm8",
        "outputId": "ec3ccbfc-0d9b-48f4-f486-0d14b7ab43bf"
      },
      "source": [
        "test_df.info()"
      ],
      "execution_count": null,
      "outputs": [
        {
          "output_type": "stream",
          "name": "stdout",
          "text": [
            "<class 'pandas.core.frame.DataFrame'>\n",
            "Int64Index: 506691 entries, 0 to 506690\n",
            "Columns: 384 entries, TransactionID to MobileCompareSerial\n",
            "dtypes: float16(312), float32(42), int16(1), int32(2), int64(4), object(23)\n",
            "memory usage: 515.8+ MB\n"
          ]
        }
      ]
    },
    {
      "cell_type": "code",
      "metadata": {
        "id": "n7UCvscBtsEy"
      },
      "source": [
        "dtipos=['float16', 'float32']\n",
        "floats=train_df.select_dtypes(include=dtipos)\n",
        "floats=floats.fillna(floats.median())\n",
        "dtipos=['int16', 'int32', 'int64']\n",
        "enteros=train_df.select_dtypes(include=dtipos)\n",
        "enteros=enteros.fillna(enteros.mean())\n",
        "categoric=train_df.select_dtypes(include='object')\n",
        "categoric=categoric.fillna(categoric.mode().iloc[0])"
      ],
      "execution_count": null,
      "outputs": []
    },
    {
      "cell_type": "code",
      "metadata": {
        "colab": {
          "base_uri": "https://localhost:8080/"
        },
        "id": "_Y2fxOXiW8KO",
        "outputId": "238c6a51-aa24-4c5a-e4f9-de3761bfc771"
      },
      "source": [
        "gc.collect()"
      ],
      "execution_count": null,
      "outputs": [
        {
          "output_type": "execute_result",
          "data": {
            "text/plain": [
              "62"
            ]
          },
          "metadata": {},
          "execution_count": 109
        }
      ]
    },
    {
      "cell_type": "code",
      "metadata": {
        "id": "kcAkvk7ARTf3"
      },
      "source": [
        "df_list=[floats,enteros,categoric]\n",
        "trains=pd.concat(df_list, axis=1)"
      ],
      "execution_count": null,
      "outputs": []
    },
    {
      "cell_type": "code",
      "metadata": {
        "id": "C0IUBZ5TYrK7"
      },
      "source": [
        "trains['isFraud']=train_df['isFraud']"
      ],
      "execution_count": null,
      "outputs": []
    },
    {
      "cell_type": "code",
      "metadata": {
        "colab": {
          "base_uri": "https://localhost:8080/",
          "height": 251
        },
        "id": "90blnY1c-T23",
        "outputId": "b40bc7ce-06e0-4ca4-e6f6-a9b17fd8f682"
      },
      "source": [
        "trains.head(5)"
      ],
      "execution_count": null,
      "outputs": [
        {
          "output_type": "execute_result",
          "data": {
            "text/html": [
              "<div>\n",
              "<style scoped>\n",
              "    .dataframe tbody tr th:only-of-type {\n",
              "        vertical-align: middle;\n",
              "    }\n",
              "\n",
              "    .dataframe tbody tr th {\n",
              "        vertical-align: top;\n",
              "    }\n",
              "\n",
              "    .dataframe thead th {\n",
              "        text-align: right;\n",
              "    }\n",
              "</style>\n",
              "<table border=\"1\" class=\"dataframe\">\n",
              "  <thead>\n",
              "    <tr style=\"text-align: right;\">\n",
              "      <th></th>\n",
              "      <th>TransactionAmt</th>\n",
              "      <th>card2</th>\n",
              "      <th>card3</th>\n",
              "      <th>card5</th>\n",
              "      <th>addr1</th>\n",
              "      <th>addr2</th>\n",
              "      <th>dist1</th>\n",
              "      <th>dist2</th>\n",
              "      <th>C1</th>\n",
              "      <th>C2</th>\n",
              "      <th>C3</th>\n",
              "      <th>C4</th>\n",
              "      <th>C5</th>\n",
              "      <th>C6</th>\n",
              "      <th>C7</th>\n",
              "      <th>C8</th>\n",
              "      <th>C9</th>\n",
              "      <th>C10</th>\n",
              "      <th>C11</th>\n",
              "      <th>C12</th>\n",
              "      <th>C13</th>\n",
              "      <th>C14</th>\n",
              "      <th>D1</th>\n",
              "      <th>D2</th>\n",
              "      <th>D3</th>\n",
              "      <th>D4</th>\n",
              "      <th>D5</th>\n",
              "      <th>D6</th>\n",
              "      <th>D8</th>\n",
              "      <th>D9</th>\n",
              "      <th>D10</th>\n",
              "      <th>D11</th>\n",
              "      <th>D14</th>\n",
              "      <th>D15</th>\n",
              "      <th>V1</th>\n",
              "      <th>V2</th>\n",
              "      <th>V3</th>\n",
              "      <th>V4</th>\n",
              "      <th>V5</th>\n",
              "      <th>V6</th>\n",
              "      <th>...</th>\n",
              "      <th>id_19</th>\n",
              "      <th>id_20</th>\n",
              "      <th>id_21</th>\n",
              "      <th>id_22</th>\n",
              "      <th>id_24</th>\n",
              "      <th>id_25</th>\n",
              "      <th>id_26</th>\n",
              "      <th>CurrencyCents</th>\n",
              "      <th>CurrencyDollar</th>\n",
              "      <th>TransactionID</th>\n",
              "      <th>TransactionDT</th>\n",
              "      <th>card1</th>\n",
              "      <th>T_hours</th>\n",
              "      <th>T_month</th>\n",
              "      <th>CentsDigits</th>\n",
              "      <th>MobileCompareSerial</th>\n",
              "      <th>ProductCD</th>\n",
              "      <th>card4</th>\n",
              "      <th>card6</th>\n",
              "      <th>P_emaildomain</th>\n",
              "      <th>R_emaildomain</th>\n",
              "      <th>M1</th>\n",
              "      <th>M2</th>\n",
              "      <th>M3</th>\n",
              "      <th>M4</th>\n",
              "      <th>M5</th>\n",
              "      <th>M6</th>\n",
              "      <th>M7</th>\n",
              "      <th>M8</th>\n",
              "      <th>M9</th>\n",
              "      <th>id_12</th>\n",
              "      <th>id_15</th>\n",
              "      <th>id_16</th>\n",
              "      <th>id_28</th>\n",
              "      <th>id_29</th>\n",
              "      <th>id_35</th>\n",
              "      <th>id_36</th>\n",
              "      <th>id_37</th>\n",
              "      <th>id_38</th>\n",
              "      <th>isFraud</th>\n",
              "    </tr>\n",
              "  </thead>\n",
              "  <tbody>\n",
              "    <tr>\n",
              "      <th>0</th>\n",
              "      <td>68.5</td>\n",
              "      <td>361.0</td>\n",
              "      <td>150.0</td>\n",
              "      <td>142.0</td>\n",
              "      <td>315.0</td>\n",
              "      <td>87.0</td>\n",
              "      <td>19.0</td>\n",
              "      <td>37.0</td>\n",
              "      <td>1.0</td>\n",
              "      <td>1.0</td>\n",
              "      <td>0.0</td>\n",
              "      <td>0.0</td>\n",
              "      <td>0.0</td>\n",
              "      <td>1.0</td>\n",
              "      <td>0.0</td>\n",
              "      <td>0.0</td>\n",
              "      <td>1.0</td>\n",
              "      <td>0.0</td>\n",
              "      <td>2.0</td>\n",
              "      <td>0.0</td>\n",
              "      <td>1.0</td>\n",
              "      <td>1.0</td>\n",
              "      <td>14.0</td>\n",
              "      <td>97.0</td>\n",
              "      <td>13.0</td>\n",
              "      <td>26.0</td>\n",
              "      <td>10.0</td>\n",
              "      <td>0.0</td>\n",
              "      <td>37.875</td>\n",
              "      <td>0.666504</td>\n",
              "      <td>13.0</td>\n",
              "      <td>13.0</td>\n",
              "      <td>0.0</td>\n",
              "      <td>0.0</td>\n",
              "      <td>1.0</td>\n",
              "      <td>1.0</td>\n",
              "      <td>1.0</td>\n",
              "      <td>1.0</td>\n",
              "      <td>1.0</td>\n",
              "      <td>1.0</td>\n",
              "      <td>...</td>\n",
              "      <td>341.0</td>\n",
              "      <td>472.0</td>\n",
              "      <td>252.0</td>\n",
              "      <td>14.0</td>\n",
              "      <td>11.0</td>\n",
              "      <td>321.0</td>\n",
              "      <td>149.0</td>\n",
              "      <td>0.5</td>\n",
              "      <td>68.0</td>\n",
              "      <td>2987000</td>\n",
              "      <td>86400</td>\n",
              "      <td>13926</td>\n",
              "      <td>0</td>\n",
              "      <td>12</td>\n",
              "      <td>1</td>\n",
              "      <td>0</td>\n",
              "      <td>W</td>\n",
              "      <td>discover</td>\n",
              "      <td>credit</td>\n",
              "      <td>gmail.com</td>\n",
              "      <td>gmail.com</td>\n",
              "      <td>T</td>\n",
              "      <td>T</td>\n",
              "      <td>T</td>\n",
              "      <td>M2</td>\n",
              "      <td>F</td>\n",
              "      <td>T</td>\n",
              "      <td>F</td>\n",
              "      <td>F</td>\n",
              "      <td>T</td>\n",
              "      <td>NotFound</td>\n",
              "      <td>Found</td>\n",
              "      <td>Found</td>\n",
              "      <td>Found</td>\n",
              "      <td>Found</td>\n",
              "      <td>T</td>\n",
              "      <td>F</td>\n",
              "      <td>T</td>\n",
              "      <td>F</td>\n",
              "      <td>0</td>\n",
              "    </tr>\n",
              "    <tr>\n",
              "      <th>1</th>\n",
              "      <td>29.0</td>\n",
              "      <td>404.0</td>\n",
              "      <td>150.0</td>\n",
              "      <td>102.0</td>\n",
              "      <td>325.0</td>\n",
              "      <td>87.0</td>\n",
              "      <td>8.0</td>\n",
              "      <td>37.0</td>\n",
              "      <td>1.0</td>\n",
              "      <td>1.0</td>\n",
              "      <td>0.0</td>\n",
              "      <td>0.0</td>\n",
              "      <td>0.0</td>\n",
              "      <td>1.0</td>\n",
              "      <td>0.0</td>\n",
              "      <td>0.0</td>\n",
              "      <td>0.0</td>\n",
              "      <td>0.0</td>\n",
              "      <td>1.0</td>\n",
              "      <td>0.0</td>\n",
              "      <td>1.0</td>\n",
              "      <td>1.0</td>\n",
              "      <td>0.0</td>\n",
              "      <td>97.0</td>\n",
              "      <td>8.0</td>\n",
              "      <td>0.0</td>\n",
              "      <td>10.0</td>\n",
              "      <td>0.0</td>\n",
              "      <td>37.875</td>\n",
              "      <td>0.666504</td>\n",
              "      <td>0.0</td>\n",
              "      <td>43.0</td>\n",
              "      <td>0.0</td>\n",
              "      <td>0.0</td>\n",
              "      <td>1.0</td>\n",
              "      <td>1.0</td>\n",
              "      <td>1.0</td>\n",
              "      <td>1.0</td>\n",
              "      <td>1.0</td>\n",
              "      <td>1.0</td>\n",
              "      <td>...</td>\n",
              "      <td>341.0</td>\n",
              "      <td>472.0</td>\n",
              "      <td>252.0</td>\n",
              "      <td>14.0</td>\n",
              "      <td>11.0</td>\n",
              "      <td>321.0</td>\n",
              "      <td>149.0</td>\n",
              "      <td>0.0</td>\n",
              "      <td>29.0</td>\n",
              "      <td>2987001</td>\n",
              "      <td>86401</td>\n",
              "      <td>2755</td>\n",
              "      <td>0</td>\n",
              "      <td>12</td>\n",
              "      <td>1</td>\n",
              "      <td>0</td>\n",
              "      <td>W</td>\n",
              "      <td>mastercard</td>\n",
              "      <td>credit</td>\n",
              "      <td>gmail.com</td>\n",
              "      <td>gmail.com</td>\n",
              "      <td>T</td>\n",
              "      <td>T</td>\n",
              "      <td>T</td>\n",
              "      <td>M0</td>\n",
              "      <td>T</td>\n",
              "      <td>T</td>\n",
              "      <td>F</td>\n",
              "      <td>F</td>\n",
              "      <td>T</td>\n",
              "      <td>NotFound</td>\n",
              "      <td>Found</td>\n",
              "      <td>Found</td>\n",
              "      <td>Found</td>\n",
              "      <td>Found</td>\n",
              "      <td>T</td>\n",
              "      <td>F</td>\n",
              "      <td>T</td>\n",
              "      <td>F</td>\n",
              "      <td>0</td>\n",
              "    </tr>\n",
              "    <tr>\n",
              "      <th>2</th>\n",
              "      <td>59.0</td>\n",
              "      <td>490.0</td>\n",
              "      <td>150.0</td>\n",
              "      <td>166.0</td>\n",
              "      <td>330.0</td>\n",
              "      <td>87.0</td>\n",
              "      <td>287.0</td>\n",
              "      <td>37.0</td>\n",
              "      <td>1.0</td>\n",
              "      <td>1.0</td>\n",
              "      <td>0.0</td>\n",
              "      <td>0.0</td>\n",
              "      <td>0.0</td>\n",
              "      <td>1.0</td>\n",
              "      <td>0.0</td>\n",
              "      <td>0.0</td>\n",
              "      <td>1.0</td>\n",
              "      <td>0.0</td>\n",
              "      <td>1.0</td>\n",
              "      <td>0.0</td>\n",
              "      <td>1.0</td>\n",
              "      <td>1.0</td>\n",
              "      <td>0.0</td>\n",
              "      <td>97.0</td>\n",
              "      <td>8.0</td>\n",
              "      <td>0.0</td>\n",
              "      <td>10.0</td>\n",
              "      <td>0.0</td>\n",
              "      <td>37.875</td>\n",
              "      <td>0.666504</td>\n",
              "      <td>0.0</td>\n",
              "      <td>315.0</td>\n",
              "      <td>0.0</td>\n",
              "      <td>315.0</td>\n",
              "      <td>1.0</td>\n",
              "      <td>1.0</td>\n",
              "      <td>1.0</td>\n",
              "      <td>1.0</td>\n",
              "      <td>1.0</td>\n",
              "      <td>1.0</td>\n",
              "      <td>...</td>\n",
              "      <td>341.0</td>\n",
              "      <td>472.0</td>\n",
              "      <td>252.0</td>\n",
              "      <td>14.0</td>\n",
              "      <td>11.0</td>\n",
              "      <td>321.0</td>\n",
              "      <td>149.0</td>\n",
              "      <td>0.0</td>\n",
              "      <td>59.0</td>\n",
              "      <td>2987002</td>\n",
              "      <td>86469</td>\n",
              "      <td>4663</td>\n",
              "      <td>0</td>\n",
              "      <td>12</td>\n",
              "      <td>1</td>\n",
              "      <td>0</td>\n",
              "      <td>W</td>\n",
              "      <td>visa</td>\n",
              "      <td>debit</td>\n",
              "      <td>outlook.com</td>\n",
              "      <td>gmail.com</td>\n",
              "      <td>T</td>\n",
              "      <td>T</td>\n",
              "      <td>T</td>\n",
              "      <td>M0</td>\n",
              "      <td>F</td>\n",
              "      <td>F</td>\n",
              "      <td>F</td>\n",
              "      <td>F</td>\n",
              "      <td>F</td>\n",
              "      <td>NotFound</td>\n",
              "      <td>Found</td>\n",
              "      <td>Found</td>\n",
              "      <td>Found</td>\n",
              "      <td>Found</td>\n",
              "      <td>T</td>\n",
              "      <td>F</td>\n",
              "      <td>T</td>\n",
              "      <td>F</td>\n",
              "      <td>0</td>\n",
              "    </tr>\n",
              "    <tr>\n",
              "      <th>3</th>\n",
              "      <td>50.0</td>\n",
              "      <td>567.0</td>\n",
              "      <td>150.0</td>\n",
              "      <td>117.0</td>\n",
              "      <td>476.0</td>\n",
              "      <td>87.0</td>\n",
              "      <td>8.0</td>\n",
              "      <td>37.0</td>\n",
              "      <td>2.0</td>\n",
              "      <td>5.0</td>\n",
              "      <td>0.0</td>\n",
              "      <td>0.0</td>\n",
              "      <td>0.0</td>\n",
              "      <td>4.0</td>\n",
              "      <td>0.0</td>\n",
              "      <td>0.0</td>\n",
              "      <td>1.0</td>\n",
              "      <td>0.0</td>\n",
              "      <td>1.0</td>\n",
              "      <td>0.0</td>\n",
              "      <td>25.0</td>\n",
              "      <td>1.0</td>\n",
              "      <td>112.0</td>\n",
              "      <td>112.0</td>\n",
              "      <td>0.0</td>\n",
              "      <td>94.0</td>\n",
              "      <td>0.0</td>\n",
              "      <td>0.0</td>\n",
              "      <td>37.875</td>\n",
              "      <td>0.666504</td>\n",
              "      <td>84.0</td>\n",
              "      <td>43.0</td>\n",
              "      <td>0.0</td>\n",
              "      <td>111.0</td>\n",
              "      <td>1.0</td>\n",
              "      <td>1.0</td>\n",
              "      <td>1.0</td>\n",
              "      <td>1.0</td>\n",
              "      <td>1.0</td>\n",
              "      <td>1.0</td>\n",
              "      <td>...</td>\n",
              "      <td>341.0</td>\n",
              "      <td>472.0</td>\n",
              "      <td>252.0</td>\n",
              "      <td>14.0</td>\n",
              "      <td>11.0</td>\n",
              "      <td>321.0</td>\n",
              "      <td>149.0</td>\n",
              "      <td>0.0</td>\n",
              "      <td>50.0</td>\n",
              "      <td>2987003</td>\n",
              "      <td>86499</td>\n",
              "      <td>18132</td>\n",
              "      <td>0</td>\n",
              "      <td>12</td>\n",
              "      <td>1</td>\n",
              "      <td>0</td>\n",
              "      <td>W</td>\n",
              "      <td>mastercard</td>\n",
              "      <td>debit</td>\n",
              "      <td>yahoo.com</td>\n",
              "      <td>gmail.com</td>\n",
              "      <td>T</td>\n",
              "      <td>T</td>\n",
              "      <td>T</td>\n",
              "      <td>M0</td>\n",
              "      <td>T</td>\n",
              "      <td>F</td>\n",
              "      <td>F</td>\n",
              "      <td>F</td>\n",
              "      <td>T</td>\n",
              "      <td>NotFound</td>\n",
              "      <td>Found</td>\n",
              "      <td>Found</td>\n",
              "      <td>Found</td>\n",
              "      <td>Found</td>\n",
              "      <td>T</td>\n",
              "      <td>F</td>\n",
              "      <td>T</td>\n",
              "      <td>F</td>\n",
              "      <td>0</td>\n",
              "    </tr>\n",
              "    <tr>\n",
              "      <th>4</th>\n",
              "      <td>50.0</td>\n",
              "      <td>514.0</td>\n",
              "      <td>150.0</td>\n",
              "      <td>102.0</td>\n",
              "      <td>420.0</td>\n",
              "      <td>87.0</td>\n",
              "      <td>8.0</td>\n",
              "      <td>37.0</td>\n",
              "      <td>1.0</td>\n",
              "      <td>1.0</td>\n",
              "      <td>0.0</td>\n",
              "      <td>0.0</td>\n",
              "      <td>0.0</td>\n",
              "      <td>1.0</td>\n",
              "      <td>0.0</td>\n",
              "      <td>1.0</td>\n",
              "      <td>0.0</td>\n",
              "      <td>1.0</td>\n",
              "      <td>1.0</td>\n",
              "      <td>0.0</td>\n",
              "      <td>1.0</td>\n",
              "      <td>1.0</td>\n",
              "      <td>0.0</td>\n",
              "      <td>97.0</td>\n",
              "      <td>8.0</td>\n",
              "      <td>26.0</td>\n",
              "      <td>10.0</td>\n",
              "      <td>0.0</td>\n",
              "      <td>37.875</td>\n",
              "      <td>0.666504</td>\n",
              "      <td>15.0</td>\n",
              "      <td>43.0</td>\n",
              "      <td>0.0</td>\n",
              "      <td>52.0</td>\n",
              "      <td>1.0</td>\n",
              "      <td>1.0</td>\n",
              "      <td>1.0</td>\n",
              "      <td>1.0</td>\n",
              "      <td>1.0</td>\n",
              "      <td>1.0</td>\n",
              "      <td>...</td>\n",
              "      <td>542.0</td>\n",
              "      <td>144.0</td>\n",
              "      <td>252.0</td>\n",
              "      <td>14.0</td>\n",
              "      <td>11.0</td>\n",
              "      <td>321.0</td>\n",
              "      <td>149.0</td>\n",
              "      <td>0.0</td>\n",
              "      <td>50.0</td>\n",
              "      <td>2987004</td>\n",
              "      <td>86506</td>\n",
              "      <td>4497</td>\n",
              "      <td>0</td>\n",
              "      <td>12</td>\n",
              "      <td>1</td>\n",
              "      <td>1</td>\n",
              "      <td>H</td>\n",
              "      <td>mastercard</td>\n",
              "      <td>credit</td>\n",
              "      <td>gmail.com</td>\n",
              "      <td>gmail.com</td>\n",
              "      <td>T</td>\n",
              "      <td>T</td>\n",
              "      <td>T</td>\n",
              "      <td>M0</td>\n",
              "      <td>F</td>\n",
              "      <td>F</td>\n",
              "      <td>F</td>\n",
              "      <td>F</td>\n",
              "      <td>T</td>\n",
              "      <td>NotFound</td>\n",
              "      <td>New</td>\n",
              "      <td>NotFound</td>\n",
              "      <td>New</td>\n",
              "      <td>NotFound</td>\n",
              "      <td>T</td>\n",
              "      <td>F</td>\n",
              "      <td>T</td>\n",
              "      <td>T</td>\n",
              "      <td>0</td>\n",
              "    </tr>\n",
              "  </tbody>\n",
              "</table>\n",
              "<p>5 rows × 385 columns</p>\n",
              "</div>"
            ],
            "text/plain": [
              "   TransactionAmt  card2  card3  card5  ...  id_36  id_37  id_38  isFraud\n",
              "0            68.5  361.0  150.0  142.0  ...      F      T      F        0\n",
              "1            29.0  404.0  150.0  102.0  ...      F      T      F        0\n",
              "2            59.0  490.0  150.0  166.0  ...      F      T      F        0\n",
              "3            50.0  567.0  150.0  117.0  ...      F      T      F        0\n",
              "4            50.0  514.0  150.0  102.0  ...      F      T      T        0\n",
              "\n",
              "[5 rows x 385 columns]"
            ]
          },
          "metadata": {},
          "execution_count": 112
        }
      ]
    },
    {
      "cell_type": "code",
      "metadata": {
        "id": "5YqWSg4_XZm1"
      },
      "source": [
        "dtipos=['float16', 'float32']\n",
        "floats=test_df.select_dtypes(include=dtipos)\n",
        "floats=floats.fillna(floats.median())\n",
        "dtipos=['int16', 'int32', 'int64']\n",
        "enteros=test_df.select_dtypes(include=dtipos)\n",
        "enteros=enteros.fillna(enteros.mean())\n",
        "categoric=test_df.select_dtypes(include='object')\n",
        "categoric=categoric.fillna(categoric.mode().iloc[0])"
      ],
      "execution_count": null,
      "outputs": []
    },
    {
      "cell_type": "code",
      "metadata": {
        "colab": {
          "base_uri": "https://localhost:8080/"
        },
        "id": "z604fXWKXbZl",
        "outputId": "9e17612b-e036-473e-9deb-78752231b873"
      },
      "source": [
        "gc.collect()"
      ],
      "execution_count": null,
      "outputs": [
        {
          "output_type": "execute_result",
          "data": {
            "text/plain": [
              "50"
            ]
          },
          "metadata": {},
          "execution_count": 114
        }
      ]
    },
    {
      "cell_type": "code",
      "metadata": {
        "id": "_i1ynVufXdf8"
      },
      "source": [
        "df_list=[floats,enteros,categoric]\n",
        "tests=pd.concat(df_list, axis=1)"
      ],
      "execution_count": null,
      "outputs": []
    },
    {
      "cell_type": "code",
      "metadata": {
        "colab": {
          "base_uri": "https://localhost:8080/",
          "height": 251
        },
        "id": "dqzMhrE2XqA0",
        "outputId": "f2232224-4de7-45fc-e9d2-f6c5127f99d2"
      },
      "source": [
        "tests.head(5)"
      ],
      "execution_count": null,
      "outputs": [
        {
          "output_type": "execute_result",
          "data": {
            "text/html": [
              "<div>\n",
              "<style scoped>\n",
              "    .dataframe tbody tr th:only-of-type {\n",
              "        vertical-align: middle;\n",
              "    }\n",
              "\n",
              "    .dataframe tbody tr th {\n",
              "        vertical-align: top;\n",
              "    }\n",
              "\n",
              "    .dataframe thead th {\n",
              "        text-align: right;\n",
              "    }\n",
              "</style>\n",
              "<table border=\"1\" class=\"dataframe\">\n",
              "  <thead>\n",
              "    <tr style=\"text-align: right;\">\n",
              "      <th></th>\n",
              "      <th>TransactionAmt</th>\n",
              "      <th>card2</th>\n",
              "      <th>card3</th>\n",
              "      <th>card5</th>\n",
              "      <th>addr1</th>\n",
              "      <th>addr2</th>\n",
              "      <th>dist1</th>\n",
              "      <th>dist2</th>\n",
              "      <th>C1</th>\n",
              "      <th>C2</th>\n",
              "      <th>C3</th>\n",
              "      <th>C4</th>\n",
              "      <th>C5</th>\n",
              "      <th>C6</th>\n",
              "      <th>C7</th>\n",
              "      <th>C8</th>\n",
              "      <th>C9</th>\n",
              "      <th>C10</th>\n",
              "      <th>C11</th>\n",
              "      <th>C12</th>\n",
              "      <th>C13</th>\n",
              "      <th>C14</th>\n",
              "      <th>D1</th>\n",
              "      <th>D2</th>\n",
              "      <th>D3</th>\n",
              "      <th>D4</th>\n",
              "      <th>D5</th>\n",
              "      <th>D6</th>\n",
              "      <th>D8</th>\n",
              "      <th>D9</th>\n",
              "      <th>D10</th>\n",
              "      <th>D11</th>\n",
              "      <th>D14</th>\n",
              "      <th>D15</th>\n",
              "      <th>V1</th>\n",
              "      <th>V2</th>\n",
              "      <th>V3</th>\n",
              "      <th>V4</th>\n",
              "      <th>V5</th>\n",
              "      <th>V6</th>\n",
              "      <th>...</th>\n",
              "      <th>id_18</th>\n",
              "      <th>id_19</th>\n",
              "      <th>id_20</th>\n",
              "      <th>id_21</th>\n",
              "      <th>id_22</th>\n",
              "      <th>id_24</th>\n",
              "      <th>id_25</th>\n",
              "      <th>id_26</th>\n",
              "      <th>CurrencyCents</th>\n",
              "      <th>CurrencyDollar</th>\n",
              "      <th>TransactionID</th>\n",
              "      <th>TransactionDT</th>\n",
              "      <th>card1</th>\n",
              "      <th>T_hours</th>\n",
              "      <th>T_month</th>\n",
              "      <th>CentsDigits</th>\n",
              "      <th>MobileCompareSerial</th>\n",
              "      <th>ProductCD</th>\n",
              "      <th>card4</th>\n",
              "      <th>card6</th>\n",
              "      <th>P_emaildomain</th>\n",
              "      <th>R_emaildomain</th>\n",
              "      <th>M1</th>\n",
              "      <th>M2</th>\n",
              "      <th>M3</th>\n",
              "      <th>M4</th>\n",
              "      <th>M5</th>\n",
              "      <th>M6</th>\n",
              "      <th>M7</th>\n",
              "      <th>M8</th>\n",
              "      <th>M9</th>\n",
              "      <th>id_12</th>\n",
              "      <th>id_15</th>\n",
              "      <th>id_16</th>\n",
              "      <th>id_28</th>\n",
              "      <th>id_29</th>\n",
              "      <th>id_35</th>\n",
              "      <th>id_36</th>\n",
              "      <th>id_37</th>\n",
              "      <th>id_38</th>\n",
              "    </tr>\n",
              "  </thead>\n",
              "  <tbody>\n",
              "    <tr>\n",
              "      <th>0</th>\n",
              "      <td>31.953125</td>\n",
              "      <td>111.0</td>\n",
              "      <td>150.0</td>\n",
              "      <td>226.0</td>\n",
              "      <td>170.0</td>\n",
              "      <td>87.0</td>\n",
              "      <td>1.0</td>\n",
              "      <td>44.0</td>\n",
              "      <td>6.0</td>\n",
              "      <td>6.0</td>\n",
              "      <td>0.0</td>\n",
              "      <td>0.0</td>\n",
              "      <td>3.0</td>\n",
              "      <td>4.0</td>\n",
              "      <td>0.0</td>\n",
              "      <td>0.0</td>\n",
              "      <td>6.0</td>\n",
              "      <td>0.0</td>\n",
              "      <td>5.0</td>\n",
              "      <td>1.0</td>\n",
              "      <td>115.0</td>\n",
              "      <td>6.0</td>\n",
              "      <td>419.0</td>\n",
              "      <td>419.0</td>\n",
              "      <td>27.0</td>\n",
              "      <td>398.0</td>\n",
              "      <td>27.0</td>\n",
              "      <td>0.0</td>\n",
              "      <td>37.71875</td>\n",
              "      <td>0.666504</td>\n",
              "      <td>418.0</td>\n",
              "      <td>203.0</td>\n",
              "      <td>0.0</td>\n",
              "      <td>409.0</td>\n",
              "      <td>1.0</td>\n",
              "      <td>1.0</td>\n",
              "      <td>1.0</td>\n",
              "      <td>1.0</td>\n",
              "      <td>1.0</td>\n",
              "      <td>1.0</td>\n",
              "      <td>...</td>\n",
              "      <td>15.0</td>\n",
              "      <td>321.0</td>\n",
              "      <td>484.0</td>\n",
              "      <td>576.0</td>\n",
              "      <td>14.0</td>\n",
              "      <td>11.0</td>\n",
              "      <td>321.0</td>\n",
              "      <td>147.0</td>\n",
              "      <td>0.953125</td>\n",
              "      <td>31.0</td>\n",
              "      <td>3663549</td>\n",
              "      <td>18403224</td>\n",
              "      <td>10409</td>\n",
              "      <td>0</td>\n",
              "      <td>7</td>\n",
              "      <td>3</td>\n",
              "      <td>0</td>\n",
              "      <td>W</td>\n",
              "      <td>visa</td>\n",
              "      <td>debit</td>\n",
              "      <td>gmail.com</td>\n",
              "      <td>gmail.com</td>\n",
              "      <td>T</td>\n",
              "      <td>T</td>\n",
              "      <td>F</td>\n",
              "      <td>M0</td>\n",
              "      <td>F</td>\n",
              "      <td>F</td>\n",
              "      <td>T</td>\n",
              "      <td>T</td>\n",
              "      <td>T</td>\n",
              "      <td>NotFound</td>\n",
              "      <td>Found</td>\n",
              "      <td>Found</td>\n",
              "      <td>Found</td>\n",
              "      <td>Found</td>\n",
              "      <td>T</td>\n",
              "      <td>F</td>\n",
              "      <td>T</td>\n",
              "      <td>F</td>\n",
              "    </tr>\n",
              "    <tr>\n",
              "      <th>1</th>\n",
              "      <td>49.000000</td>\n",
              "      <td>111.0</td>\n",
              "      <td>150.0</td>\n",
              "      <td>226.0</td>\n",
              "      <td>299.0</td>\n",
              "      <td>87.0</td>\n",
              "      <td>4.0</td>\n",
              "      <td>44.0</td>\n",
              "      <td>3.0</td>\n",
              "      <td>2.0</td>\n",
              "      <td>0.0</td>\n",
              "      <td>0.0</td>\n",
              "      <td>0.0</td>\n",
              "      <td>1.0</td>\n",
              "      <td>0.0</td>\n",
              "      <td>0.0</td>\n",
              "      <td>2.0</td>\n",
              "      <td>0.0</td>\n",
              "      <td>1.0</td>\n",
              "      <td>1.0</td>\n",
              "      <td>12.0</td>\n",
              "      <td>2.0</td>\n",
              "      <td>149.0</td>\n",
              "      <td>149.0</td>\n",
              "      <td>7.0</td>\n",
              "      <td>634.0</td>\n",
              "      <td>7.0</td>\n",
              "      <td>0.0</td>\n",
              "      <td>37.71875</td>\n",
              "      <td>0.666504</td>\n",
              "      <td>231.0</td>\n",
              "      <td>634.0</td>\n",
              "      <td>0.0</td>\n",
              "      <td>634.0</td>\n",
              "      <td>1.0</td>\n",
              "      <td>1.0</td>\n",
              "      <td>1.0</td>\n",
              "      <td>1.0</td>\n",
              "      <td>1.0</td>\n",
              "      <td>1.0</td>\n",
              "      <td>...</td>\n",
              "      <td>15.0</td>\n",
              "      <td>321.0</td>\n",
              "      <td>484.0</td>\n",
              "      <td>576.0</td>\n",
              "      <td>14.0</td>\n",
              "      <td>11.0</td>\n",
              "      <td>321.0</td>\n",
              "      <td>147.0</td>\n",
              "      <td>0.000000</td>\n",
              "      <td>49.0</td>\n",
              "      <td>3663550</td>\n",
              "      <td>18403263</td>\n",
              "      <td>4272</td>\n",
              "      <td>0</td>\n",
              "      <td>7</td>\n",
              "      <td>1</td>\n",
              "      <td>0</td>\n",
              "      <td>W</td>\n",
              "      <td>visa</td>\n",
              "      <td>debit</td>\n",
              "      <td>aol.com</td>\n",
              "      <td>gmail.com</td>\n",
              "      <td>T</td>\n",
              "      <td>F</td>\n",
              "      <td>F</td>\n",
              "      <td>M0</td>\n",
              "      <td>F</td>\n",
              "      <td>F</td>\n",
              "      <td>F</td>\n",
              "      <td>F</td>\n",
              "      <td>T</td>\n",
              "      <td>NotFound</td>\n",
              "      <td>Found</td>\n",
              "      <td>Found</td>\n",
              "      <td>Found</td>\n",
              "      <td>Found</td>\n",
              "      <td>T</td>\n",
              "      <td>F</td>\n",
              "      <td>T</td>\n",
              "      <td>F</td>\n",
              "    </tr>\n",
              "    <tr>\n",
              "      <th>2</th>\n",
              "      <td>171.000000</td>\n",
              "      <td>574.0</td>\n",
              "      <td>150.0</td>\n",
              "      <td>226.0</td>\n",
              "      <td>472.0</td>\n",
              "      <td>87.0</td>\n",
              "      <td>2636.0</td>\n",
              "      <td>44.0</td>\n",
              "      <td>2.0</td>\n",
              "      <td>2.0</td>\n",
              "      <td>0.0</td>\n",
              "      <td>0.0</td>\n",
              "      <td>0.0</td>\n",
              "      <td>5.0</td>\n",
              "      <td>0.0</td>\n",
              "      <td>0.0</td>\n",
              "      <td>4.0</td>\n",
              "      <td>0.0</td>\n",
              "      <td>2.0</td>\n",
              "      <td>0.0</td>\n",
              "      <td>22.0</td>\n",
              "      <td>2.0</td>\n",
              "      <td>137.0</td>\n",
              "      <td>137.0</td>\n",
              "      <td>10.0</td>\n",
              "      <td>97.0</td>\n",
              "      <td>10.0</td>\n",
              "      <td>0.0</td>\n",
              "      <td>37.71875</td>\n",
              "      <td>0.666504</td>\n",
              "      <td>136.0</td>\n",
              "      <td>136.0</td>\n",
              "      <td>0.0</td>\n",
              "      <td>97.0</td>\n",
              "      <td>1.0</td>\n",
              "      <td>1.0</td>\n",
              "      <td>1.0</td>\n",
              "      <td>1.0</td>\n",
              "      <td>1.0</td>\n",
              "      <td>1.0</td>\n",
              "      <td>...</td>\n",
              "      <td>15.0</td>\n",
              "      <td>321.0</td>\n",
              "      <td>484.0</td>\n",
              "      <td>576.0</td>\n",
              "      <td>14.0</td>\n",
              "      <td>11.0</td>\n",
              "      <td>321.0</td>\n",
              "      <td>147.0</td>\n",
              "      <td>0.000000</td>\n",
              "      <td>171.0</td>\n",
              "      <td>3663551</td>\n",
              "      <td>18403310</td>\n",
              "      <td>4476</td>\n",
              "      <td>0</td>\n",
              "      <td>7</td>\n",
              "      <td>1</td>\n",
              "      <td>0</td>\n",
              "      <td>W</td>\n",
              "      <td>visa</td>\n",
              "      <td>debit</td>\n",
              "      <td>hotmail.com</td>\n",
              "      <td>gmail.com</td>\n",
              "      <td>T</td>\n",
              "      <td>T</td>\n",
              "      <td>F</td>\n",
              "      <td>M0</td>\n",
              "      <td>F</td>\n",
              "      <td>F</td>\n",
              "      <td>F</td>\n",
              "      <td>F</td>\n",
              "      <td>F</td>\n",
              "      <td>NotFound</td>\n",
              "      <td>Found</td>\n",
              "      <td>Found</td>\n",
              "      <td>Found</td>\n",
              "      <td>Found</td>\n",
              "      <td>T</td>\n",
              "      <td>F</td>\n",
              "      <td>T</td>\n",
              "      <td>F</td>\n",
              "    </tr>\n",
              "    <tr>\n",
              "      <th>3</th>\n",
              "      <td>285.000000</td>\n",
              "      <td>360.0</td>\n",
              "      <td>150.0</td>\n",
              "      <td>166.0</td>\n",
              "      <td>205.0</td>\n",
              "      <td>87.0</td>\n",
              "      <td>17.0</td>\n",
              "      <td>44.0</td>\n",
              "      <td>5.0</td>\n",
              "      <td>2.0</td>\n",
              "      <td>0.0</td>\n",
              "      <td>0.0</td>\n",
              "      <td>1.0</td>\n",
              "      <td>1.0</td>\n",
              "      <td>0.0</td>\n",
              "      <td>0.0</td>\n",
              "      <td>2.0</td>\n",
              "      <td>0.0</td>\n",
              "      <td>2.0</td>\n",
              "      <td>0.0</td>\n",
              "      <td>7.0</td>\n",
              "      <td>4.0</td>\n",
              "      <td>42.0</td>\n",
              "      <td>42.0</td>\n",
              "      <td>41.0</td>\n",
              "      <td>242.0</td>\n",
              "      <td>41.0</td>\n",
              "      <td>0.0</td>\n",
              "      <td>37.71875</td>\n",
              "      <td>0.666504</td>\n",
              "      <td>242.0</td>\n",
              "      <td>242.0</td>\n",
              "      <td>0.0</td>\n",
              "      <td>242.0</td>\n",
              "      <td>1.0</td>\n",
              "      <td>1.0</td>\n",
              "      <td>1.0</td>\n",
              "      <td>1.0</td>\n",
              "      <td>1.0</td>\n",
              "      <td>1.0</td>\n",
              "      <td>...</td>\n",
              "      <td>15.0</td>\n",
              "      <td>321.0</td>\n",
              "      <td>484.0</td>\n",
              "      <td>576.0</td>\n",
              "      <td>14.0</td>\n",
              "      <td>11.0</td>\n",
              "      <td>321.0</td>\n",
              "      <td>147.0</td>\n",
              "      <td>0.000000</td>\n",
              "      <td>285.0</td>\n",
              "      <td>3663552</td>\n",
              "      <td>18403310</td>\n",
              "      <td>10989</td>\n",
              "      <td>0</td>\n",
              "      <td>7</td>\n",
              "      <td>1</td>\n",
              "      <td>0</td>\n",
              "      <td>W</td>\n",
              "      <td>visa</td>\n",
              "      <td>debit</td>\n",
              "      <td>gmail.com</td>\n",
              "      <td>gmail.com</td>\n",
              "      <td>T</td>\n",
              "      <td>T</td>\n",
              "      <td>T</td>\n",
              "      <td>M0</td>\n",
              "      <td>F</td>\n",
              "      <td>T</td>\n",
              "      <td>F</td>\n",
              "      <td>F</td>\n",
              "      <td>T</td>\n",
              "      <td>NotFound</td>\n",
              "      <td>Found</td>\n",
              "      <td>Found</td>\n",
              "      <td>Found</td>\n",
              "      <td>Found</td>\n",
              "      <td>T</td>\n",
              "      <td>F</td>\n",
              "      <td>T</td>\n",
              "      <td>F</td>\n",
              "    </tr>\n",
              "    <tr>\n",
              "      <th>4</th>\n",
              "      <td>67.937500</td>\n",
              "      <td>452.0</td>\n",
              "      <td>150.0</td>\n",
              "      <td>117.0</td>\n",
              "      <td>264.0</td>\n",
              "      <td>87.0</td>\n",
              "      <td>6.0</td>\n",
              "      <td>44.0</td>\n",
              "      <td>6.0</td>\n",
              "      <td>6.0</td>\n",
              "      <td>0.0</td>\n",
              "      <td>0.0</td>\n",
              "      <td>2.0</td>\n",
              "      <td>5.0</td>\n",
              "      <td>0.0</td>\n",
              "      <td>0.0</td>\n",
              "      <td>5.0</td>\n",
              "      <td>0.0</td>\n",
              "      <td>6.0</td>\n",
              "      <td>0.0</td>\n",
              "      <td>14.0</td>\n",
              "      <td>6.0</td>\n",
              "      <td>22.0</td>\n",
              "      <td>22.0</td>\n",
              "      <td>0.0</td>\n",
              "      <td>22.0</td>\n",
              "      <td>0.0</td>\n",
              "      <td>0.0</td>\n",
              "      <td>37.71875</td>\n",
              "      <td>0.666504</td>\n",
              "      <td>22.0</td>\n",
              "      <td>22.0</td>\n",
              "      <td>0.0</td>\n",
              "      <td>22.0</td>\n",
              "      <td>1.0</td>\n",
              "      <td>1.0</td>\n",
              "      <td>1.0</td>\n",
              "      <td>1.0</td>\n",
              "      <td>1.0</td>\n",
              "      <td>1.0</td>\n",
              "      <td>...</td>\n",
              "      <td>15.0</td>\n",
              "      <td>321.0</td>\n",
              "      <td>484.0</td>\n",
              "      <td>576.0</td>\n",
              "      <td>14.0</td>\n",
              "      <td>11.0</td>\n",
              "      <td>321.0</td>\n",
              "      <td>147.0</td>\n",
              "      <td>0.937500</td>\n",
              "      <td>67.0</td>\n",
              "      <td>3663553</td>\n",
              "      <td>18403317</td>\n",
              "      <td>18018</td>\n",
              "      <td>0</td>\n",
              "      <td>7</td>\n",
              "      <td>3</td>\n",
              "      <td>0</td>\n",
              "      <td>W</td>\n",
              "      <td>mastercard</td>\n",
              "      <td>debit</td>\n",
              "      <td>gmail.com</td>\n",
              "      <td>gmail.com</td>\n",
              "      <td>T</td>\n",
              "      <td>T</td>\n",
              "      <td>T</td>\n",
              "      <td>M0</td>\n",
              "      <td>F</td>\n",
              "      <td>F</td>\n",
              "      <td>F</td>\n",
              "      <td>T</td>\n",
              "      <td>T</td>\n",
              "      <td>NotFound</td>\n",
              "      <td>Found</td>\n",
              "      <td>Found</td>\n",
              "      <td>Found</td>\n",
              "      <td>Found</td>\n",
              "      <td>T</td>\n",
              "      <td>F</td>\n",
              "      <td>T</td>\n",
              "      <td>F</td>\n",
              "    </tr>\n",
              "  </tbody>\n",
              "</table>\n",
              "<p>5 rows × 384 columns</p>\n",
              "</div>"
            ],
            "text/plain": [
              "   TransactionAmt  card2  card3  card5  ...  id_35  id_36  id_37  id_38\n",
              "0       31.953125  111.0  150.0  226.0  ...      T      F      T      F\n",
              "1       49.000000  111.0  150.0  226.0  ...      T      F      T      F\n",
              "2      171.000000  574.0  150.0  226.0  ...      T      F      T      F\n",
              "3      285.000000  360.0  150.0  166.0  ...      T      F      T      F\n",
              "4       67.937500  452.0  150.0  117.0  ...      T      F      T      F\n",
              "\n",
              "[5 rows x 384 columns]"
            ]
          },
          "metadata": {},
          "execution_count": 116
        }
      ]
    },
    {
      "cell_type": "markdown",
      "metadata": {
        "id": "qYIm06RnI_YN"
      },
      "source": [
        "Finally, the dataset is saved in pickle format to reduce the size and make it easier to work with. "
      ]
    },
    {
      "cell_type": "code",
      "metadata": {
        "id": "qiDNx1NMbk9l"
      },
      "source": [
        "trains.to_csv('trainset.csv',index = False)\n",
        "\n"
      ],
      "execution_count": null,
      "outputs": []
    },
    {
      "cell_type": "code",
      "metadata": {
        "id": "NW0uwGjc_yRI"
      },
      "source": [
        "import pickle\n",
        "with open('trainset.pickle', 'wb') as output:\n",
        "    pickle.dump(trains, output)"
      ],
      "execution_count": null,
      "outputs": []
    },
    {
      "cell_type": "code",
      "metadata": {
        "colab": {
          "base_uri": "https://localhost:8080/"
        },
        "id": "OiVreCgrbBe3",
        "outputId": "518d0963-58ae-4bf0-dfaa-5b30cf1e2724"
      },
      "source": [
        "gc.collect()"
      ],
      "execution_count": null,
      "outputs": [
        {
          "output_type": "execute_result",
          "data": {
            "text/plain": [
              "302"
            ]
          },
          "metadata": {},
          "execution_count": 120
        }
      ]
    },
    {
      "cell_type": "code",
      "metadata": {
        "id": "7s8PKixVb-zj"
      },
      "source": [
        "tests.to_csv('testset.csv',index = False)\n"
      ],
      "execution_count": null,
      "outputs": []
    },
    {
      "cell_type": "code",
      "metadata": {
        "id": "p1BHwAK4Cv2c"
      },
      "source": [
        "with open('testset.pickle', 'wb') as output:\n",
        "    pickle.dump(tests, output)"
      ],
      "execution_count": null,
      "outputs": []
    }
  ]
}