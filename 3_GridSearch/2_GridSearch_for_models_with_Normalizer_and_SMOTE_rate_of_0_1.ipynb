{
  "nbformat": 4,
  "nbformat_minor": 0,
  "metadata": {
    "colab": {
      "name": "2. GridSearch for models with  Normalizer and SMOTE rate of 0.1.ipynb",
      "provenance": [],
      "collapsed_sections": [
        "gPjV_WARNSCJ",
        "g035ivnqN1mD",
        "Q59K446EOm7O",
        "wR-tzbHsffby",
        "GDokRca0f97h",
        "1E-jErbOfyfY",
        "Y6eGLKQbgLju",
        "mtRedMj2gR0_",
        "YSh_tV1ag3Qf",
        "sYerOEXlDVhI",
        "SfRO40MuDVhM"
      ],
      "toc_visible": true
    },
    "kernelspec": {
      "display_name": "Python 3",
      "name": "python3"
    },
    "language_info": {
      "name": "python"
    }
  },
  "cells": [
    {
      "cell_type": "markdown",
      "metadata": {
        "id": "nXYS8PiXxYGZ"
      },
      "source": [
        "\n",
        "[![Open In Colab](https://colab.research.google.com/assets/colab-badge.svg)](https://colab.research.google.com/github/fblaura/FraudD/blob/main/2_AutoML/4_AutoML_for_dataset_passed_through_StandardScaler_and_SMOTE_imbalance_of_0_1.ipynb)"
      ]
    },
    {
      "cell_type": "markdown",
      "metadata": {
        "id": "lmrGA6F5yXP7"
      },
      "source": [
        "**Please execute all instructions as indicated.** \n",
        "\n",
        "The dataset is downloaded directly from a Drive link, this dataset already went through a previous preprocessing.We will work on hyperparameter tuning for the GradientBoosting and XGBoost models, as well as use some plots and metrics to evaluate training and prediction behavior.\n",
        "\n",
        "**Some functions and graphs are mentioned in Spanish, please translate them if required.**"
      ]
    },
    {
      "cell_type": "markdown",
      "metadata": {
        "id": "gPjV_WARNSCJ"
      },
      "source": [
        "# **1. General libraries** "
      ]
    },
    {
      "cell_type": "code",
      "metadata": {
        "colab": {
          "base_uri": "https://localhost:8080/"
        },
        "id": "gw8PyQEitzup",
        "outputId": "d69b4c56-e1d6-4b15-91fd-4df5d905b331"
      },
      "source": [
        "import pandas as pd\n",
        "import seaborn as sns\n",
        "import matplotlib.pyplot as plt\n",
        "import numpy as np\n",
        "import math\n",
        "\n",
        "from collections import Counter\n",
        "from imblearn.over_sampling import SMOTE\n",
        "from sklearn.preprocessing import Normalizer, StandardScaler"
      ],
      "execution_count": 1,
      "outputs": [
        {
          "output_type": "stream",
          "name": "stderr",
          "text": [
            "/usr/local/lib/python3.7/dist-packages/sklearn/externals/six.py:31: FutureWarning: The module is deprecated in version 0.21 and will be removed in version 0.23 since we've dropped support for Python 2.7. Please rely on the official version of six (https://pypi.org/project/six/).\n",
            "  \"(https://pypi.org/project/six/).\", FutureWarning)\n",
            "/usr/local/lib/python3.7/dist-packages/sklearn/utils/deprecation.py:144: FutureWarning: The sklearn.neighbors.base module is  deprecated in version 0.22 and will be removed in version 0.24. The corresponding classes / functions should instead be imported from sklearn.neighbors. Anything that cannot be imported from sklearn.neighbors is now part of the private API.\n",
            "  warnings.warn(message, FutureWarning)\n"
          ]
        }
      ]
    },
    {
      "cell_type": "code",
      "metadata": {
        "id": "FsVawPq-syJh"
      },
      "source": [
        "from sklearn.feature_selection import SelectFromModel, RFECV, RFE\n",
        "from sklearn.ensemble import RandomForestClassifier\n",
        "from sklearn.linear_model import LogisticRegression, SGDClassifier\n",
        "from sklearn.naive_bayes import GaussianNB\n",
        "from sklearn.svm import SVC, LinearSVC\n",
        "from xgboost import XGBClassifier\n",
        "from sklearn.tree import DecisionTreeClassifier\n",
        "from sklearn.naive_bayes import GaussianNB"
      ],
      "execution_count": 2,
      "outputs": []
    },
    {
      "cell_type": "code",
      "metadata": {
        "id": "0Yp_9nKzDDUi"
      },
      "source": [
        "from keras.layers import Input, Dense\n",
        "from keras.models import Model, Sequential\n",
        "from keras import regularizers\n",
        "from sklearn.model_selection import train_test_split \n",
        "from sklearn.linear_model import LogisticRegression\n",
        "from sklearn.metrics import classification_report, accuracy_score\n",
        "from sklearn.manifold import TSNE\n",
        "from sklearn import preprocessing \n",
        "import matplotlib.pyplot as plt\n",
        "import pandas as pd \n",
        "import numpy as np\n",
        "import seaborn as sns\n",
        "sns.set(style=\"whitegrid\")\n",
        "np.random.seed(203)"
      ],
      "execution_count": 3,
      "outputs": []
    },
    {
      "cell_type": "code",
      "metadata": {
        "id": "dz1Rpu582QaQ"
      },
      "source": [
        "from sklearn.ensemble import GradientBoostingClassifier, GradientBoostingRegressor\n",
        "from sklearn.model_selection import GridSearchCV, cross_val_score, cross_validate, cross_val_predict, validation_curve\n",
        "from datetime import datetime\n",
        "from sklearn.metrics import roc_auc_score, make_scorer, accuracy_score, f1_score,plot_roc_curve, classification_report,log_loss,recall_score,adjusted_rand_score\n",
        "import pickle"
      ],
      "execution_count": 4,
      "outputs": []
    },
    {
      "cell_type": "code",
      "metadata": {
        "id": "jm30hEPHuA7t"
      },
      "source": [
        "from sklearn.model_selection import train_test_split, GridSearchCV, ShuffleSplit, learning_curve, StratifiedKFold\n",
        "from sklearn.metrics import f1_score, confusion_matrix, plot_confusion_matrix, roc_curve,precision_score,roc_auc_score"
      ],
      "execution_count": 5,
      "outputs": []
    },
    {
      "cell_type": "markdown",
      "metadata": {
        "id": "g035ivnqN1mD"
      },
      "source": [
        "# **2. Defining different functions**"
      ]
    },
    {
      "cell_type": "code",
      "metadata": {
        "id": "1Y59uKJnygfZ"
      },
      "source": [
        "def roc_curve_plot(model,model_name,ytest,xtest):\n",
        "  pred_prob = model.predict_proba(xtest)\n",
        "  fpr, tpr, thresh = roc_curve(ytest, pred_prob[:,1], pos_label=1)\n",
        "  # roc curve for tpr = fpr \n",
        "  random_probs = [0 for i in range(len(ytest))]\n",
        "  p_fpr, p_tpr, _ = roc_curve(ytest, random_probs, pos_label=1)\n",
        "  #plot\n",
        "  plt.style.use('seaborn')\n",
        "  auc=roc_auc_score(ytest, pred_prob[:,1])\n",
        "  # plot roc curves\n",
        "  plt.plot(fpr, tpr,linewidth=3, linestyle='--',color='orange', label=\"AUC=\"+str(auc))\n",
        "  plt.plot(p_fpr, p_tpr, linewidth=3, linestyle='--', color='blue')\n",
        "  # title\n",
        "  plt.title('ROC curve')\n",
        "  # x label\n",
        "  plt.xlabel('False Positive Rate')\n",
        "  # y label\n",
        "  plt.ylabel('True Positive rate')\n",
        "  plt.legend(loc='best')\n",
        "  plt.show()\n",
        "  return plt"
      ],
      "execution_count": 6,
      "outputs": []
    },
    {
      "cell_type": "code",
      "metadata": {
        "id": "d9efda05"
      },
      "source": [
        "#Función definida para gráficar el análisis de silueta \n",
        "# ==============================================================================\n",
        "\n",
        "def silhouette_analysis(X, range_n_clusters):\n",
        "    #range_n_clusters = [10, 11, 12, 13, 14, 15, 16, 17, 18, 20, 21]\n",
        "\n",
        "    \n",
        "    for n_clusters in range_n_clusters:\n",
        "        # Create a subplot with 1 row and 1 columns\n",
        "        fig, (ax1) = plt.subplots(1, 1)\n",
        "        fig.set_size_inches(19, 4)\n",
        "\n",
        "        # The 1st subplot is the silhouette plot\n",
        "        # The silhouette coefficient can range from -1, 1 but in this example all\n",
        "        # lie within [-0.1, 1]\n",
        "        ax1.set_xlim([-0.1, 1])\n",
        "        # The (n_clusters+1)*10 is for inserting blank space between silhouette\n",
        "        # plots of individual clusters, to demarcate them clearly.\n",
        "        ax1.set_ylim([0, len(X) + (n_clusters + 1) * 10])\n",
        "\n",
        "        # Initialize the clusterer with n_clusters value and a random generator\n",
        "        # seed of 10 for reproducibility.\n",
        "        clusterer = KMeans(n_clusters=n_clusters,  max_iter = 300, n_init = 10, random_state=10)\n",
        "        cluster_labels = clusterer.fit_predict(X)\n",
        "\n",
        "        # The silhouette_score gives the average value for all the samples.\n",
        "        # This gives a perspective into the density and separation of the formed\n",
        "        # clusters\n",
        "        silhouette_avg = silhouette_score(X, cluster_labels)\n",
        "\n",
        "        # Compute the silhouette scores for each sample\n",
        "        sample_silhouette_values = silhouette_samples(X, cluster_labels)\n",
        "\n",
        "        y_lower = 10\n",
        "        for i in range(n_clusters):\n",
        "            # Aggregate the silhouette scores for samples belonging to\n",
        "            # cluster i, and sort them\n",
        "            ith_cluster_silhouette_values = \\\n",
        "                sample_silhouette_values[cluster_labels == i]\n",
        "\n",
        "            ith_cluster_silhouette_values.sort()\n",
        "\n",
        "            size_cluster_i = ith_cluster_silhouette_values.shape[0]\n",
        "            y_upper = y_lower + size_cluster_i\n",
        "\n",
        "            color = plt.cm.nipy_spectral(float(i) / n_clusters)\n",
        "            ax1.fill_betweenx(np.arange(y_lower, y_upper),\n",
        "                              0, ith_cluster_silhouette_values,\n",
        "                              facecolor=color, edgecolor=color, alpha=0.7)\n",
        "\n",
        "            # Label the silhouette plots with their cluster numbers at the middle\n",
        "            ax1.text(-0.05, y_lower + 0.5 * size_cluster_i, str(i))\n",
        "\n",
        "            # Compute the new y_lower for next plot\n",
        "            y_lower = y_upper + 10  # 10 for the 0 samples\n",
        "\n",
        "        ax1.set_title(\"The silhouette plot for the various clusters.\")\n",
        "        ax1.set_xlabel(\"The silhouette coefficient values\")\n",
        "        ax1.set_ylabel(\"Cluster label\")\n",
        "\n",
        "        # The vertical line for average silhouette score of all the values\n",
        "        ax1.axvline(x=silhouette_avg, color=\"red\", linestyle=\"--\")\n",
        "\n",
        "        ax1.set_yticks([])  # Clear the yaxis labels / ticks\n",
        "        ax1.set_xticks([-0.1, 0, 0.2, 0.4, 0.6, 0.8, 1])\n",
        "\n",
        "\n",
        "        plt.suptitle((\"Silhouette analysis for %s clustering on sample data \"\n",
        "                      \"with n_clusters = %d, score = %.3f\" % (clusterer.__class__.__name__, n_clusters,silhouette_avg)),\n",
        "                     fontsize=14, fontweight='bold')"
      ],
      "execution_count": 7,
      "outputs": []
    },
    {
      "cell_type": "code",
      "metadata": {
        "id": "WrkON4_ZMOHs"
      },
      "source": [
        "def plot_learning_curve(estimator, title, X, y, ylim=None, cv=None,\n",
        "                        train_sizes=np.linspace(.1, 1.0, 5)):\n",
        "    \"\"\"\n",
        "    Generate a simple plot of the test and traning learning curve.\n",
        "\n",
        "    Parameters\n",
        "    ----------\n",
        "    estimator : object type that implements the \"fit\" and \"predict\" methods\n",
        "        An object of that type which is cloned for each validation.\n",
        "\n",
        "    title : string\n",
        "        Title for the chart.\n",
        "\n",
        "    X : array-like, shape (n_samples, n_features)\n",
        "        Training vector, where n_samples is the number of samples and\n",
        "        n_features is the number of features.\n",
        "\n",
        "    y : array-like, shape (n_samples) or (n_samples, n_features), optional\n",
        "        Target relative to X for classification or regression;\n",
        "        None for unsupervised learning.\n",
        "\n",
        "    ylim : tuple, shape (ymin, ymax), optional\n",
        "        Defines minimum and maximum yvalues plotted.\n",
        "\n",
        "    cv : integer, cross-validation generator, optional\n",
        "        If an integer is passed, it is the number of folds (defaults to 3).\n",
        "        Specific cross-validation objects can be passed, see\n",
        "        sklearn.cross_validation module for the list of possible objects\n",
        "\n",
        "    n_jobs : integer, optional\n",
        "        Number of jobs to run in parallel (default 1).\n",
        "        \n",
        "    x1 = np.linspace(0, 10, 8, endpoint=True) produces\n",
        "        8 evenly spaced points in the range 0 to 10\n",
        "    \"\"\"\n",
        "    \n",
        "    plt.style.use('seaborn')\n",
        "    plt.figure()\n",
        "    plt.title(title)\n",
        "    if ylim is not None:\n",
        "        plt.ylim(*ylim)\n",
        "        \n",
        "    plt.xlabel(\"Training examples\")\n",
        "    plt.ylabel(\"Score\")\n",
        "    train_sizes, train_scores, test_scores = learning_curve(\n",
        "        estimator, X, y, cv=cv, train_sizes=train_sizes)\n",
        "    train_scores_mean = np.mean(train_scores, axis=1)\n",
        "    train_scores_std = np.std(train_scores, axis=1)\n",
        "    test_scores_mean = np.mean(test_scores, axis=1)\n",
        "    test_scores_std = np.std(test_scores, axis=1)\n",
        "    plt.grid()\n",
        "\n",
        "    plt.fill_between(train_sizes, train_scores_mean - train_scores_std,\n",
        "                     train_scores_mean + train_scores_std, alpha=0.1,\n",
        "                     color=\"r\")\n",
        "    plt.fill_between(train_sizes, test_scores_mean - test_scores_std,\n",
        "                     test_scores_mean + test_scores_std, alpha=0.1, color=\"g\")\n",
        "    plt.plot(train_sizes, train_scores_mean, 'o-', color=\"r\",\n",
        "             label=\"Training score\")\n",
        "    plt.plot(train_sizes, test_scores_mean, 'o-', color=\"g\",\n",
        "             label=\"Cross-validation score\")\n",
        "\n",
        "    plt.legend(loc=\"best\")\n",
        "    return plt"
      ],
      "execution_count": 8,
      "outputs": []
    },
    {
      "cell_type": "code",
      "metadata": {
        "id": "hifrNK2FRGy5"
      },
      "source": [
        "def impresión_reporte(nclusters,Y,labels):\n",
        "  \n",
        "  print(f'Reporte de métricas para KMeans con clusters = {nclusters}')\n",
        "  print('-'*80)\n",
        "  print(f'Log_loss = {log_loss(Y, labels)}')\n",
        "  print(f'Puntuación de exactitud = {accuracy_score(Y, labels)}')\n",
        "  print(f'Puntuación de sensibilidad = {recall_score(Y, labels)}')\n",
        "  print(f'Puntuación de precisión = {precision_score(Y, labels)}')\n",
        "  print(f'Puntuación de Rand ajustado = {adjusted_rand_score(Y, labels)}')\n",
        "  print(f'Puntuación de Jaccard = {jaccard_score(Y, labels)}')\n",
        "  cmtx = pd.DataFrame(\n",
        "      confusion_matrix(Y, labels, labels=[1, 0]), \n",
        "      index=['Fraude:1', 'NoFraude:0'], \n",
        "      columns=['Fraude:1', 'NoFraude:0']\n",
        "  )\n",
        "  print('Matriz de confusión = ')\n",
        "  print(cmtx)"
      ],
      "execution_count": 9,
      "outputs": []
    },
    {
      "cell_type": "code",
      "metadata": {
        "id": "xoUxtmOYtbuU"
      },
      "source": [
        "def classifier_model(X_train, X_test, y_train, y_test, method, data):\n",
        "    accuracies, roc_auc,f1=[],[],[]\n",
        "    modelos=['Random Forest','Gradient Boosting','XGBoost','Regresión logística','Naive Bayes','SVM']\n",
        "    rf_clf=RandomForestClassifier(n_estimators=700, random_state=1)\n",
        "    rf_clf.fit(X_train, y_train)\n",
        "    y_pred_rf=rf_clf.predict(X_test)\n",
        "    score_rlf=accuracy_score(y_test, y_pred_rf)\n",
        "    roc_auc_rlf=roc_auc_score(y_test, y_pred_rf)\n",
        "    f1_sco=f1_score(y_test, y_pred_rf,average='macro')\n",
        "    accuracies.append(score_rlf)\n",
        "    roc_auc.append(roc_auc_rlf)\n",
        "    f1.append(f1_sco)\n",
        "    print(\"---Método de trabajo: {}---\". format(method))\n",
        "    print(\"---Observando comportamiendo de métricas para {}---\".format(data))\n",
        "    print(\"The accuracy score of Random Forest:\", score_rlf)\n",
        "    print(\"The ROC_AUC score of Random Forest:\", roc_auc_rlf)\n",
        "    print(\"The F1 score of Random Forest:\", f1_sco)\n",
        "    print('---------------------------------------------------')\n",
        "    \n",
        "    gb_clf= GradientBoostingClassifier(learning_rate=0.1, n_estimators=700,  max_depth=20, max_features=15, subsample=0.7, min_samples_leaf= 3, min_samples_split= 2)\n",
        "    gb_clf.fit(X_train, y_train)\n",
        "    y_pred_gb=gb_clf.predict(X_test)\n",
        "    score_gb=accuracy_score(y_test, y_pred_gb)\n",
        "    roc_auc_gb=roc_auc_score(y_test,  y_pred_gb)\n",
        "    f1_sco_gb=f1_score(y_test, y_pred_gb,average='micro')\n",
        "    accuracies.append(score_gb)\n",
        "    roc_auc.append(roc_auc_gb)\n",
        "    f1.append(f1_sco_gb)\n",
        "    print(\"The accuracy score of Gradient Boosting:\", score_gb)\n",
        "    print(\"The ROC_AUC score of Gradient Boosting:\", roc_auc_gb)\n",
        "    print(\"The F1 score of Gradient Boosting:\", f1_sco_gb)\n",
        "\n",
        "    print('---------------------------------------------------')\n",
        "    xg_clf=XGBClassifier()\n",
        "    xg_clf.fit(X_train, y_train)\n",
        "    y_pred_xg=xg_clf.predict(X_test)\n",
        "    score_xg=accuracy_score(y_test, y_pred_xg)\n",
        "    roc_auc_xg=roc_auc_score(y_test, y_pred_xg)\n",
        "    f1_sco_xg=f1_score(y_test, y_pred_xg,average='micro')\n",
        "    accuracies.append(score_xg)\n",
        "    roc_auc.append(roc_auc_xg)\n",
        "    f1.append(f1_sco_xg)\n",
        "    print(\"The accuracy score of XGBoost:\", score_xg)\n",
        "    print(\"The ROC_AUC score of XGBoost:\", roc_auc_xg)\n",
        "    print(\"The F1 score of XGBoost:\", f1_sco_xg)\n",
        "    print('---------------------------------------------------')\n",
        "    clf = LogisticRegression(random_state=0, max_iter=5000)\n",
        "    clf.fit(X_train, y_train)\n",
        "    y_pred_l=clf.predict(X_test)\n",
        "    score_l=accuracy_score(y_test, y_pred_l)\n",
        "    roc_auc_l=roc_auc_score(y_test, y_pred_l)\n",
        "    f1_sco_l=f1_score(y_test, y_pred_l,average='micro')\n",
        "    accuracies.append(score_l)\n",
        "    roc_auc.append(roc_auc_l)\n",
        "    f1.append(f1_sco_l)\n",
        "    print(\"The accuracy score of Regresión logística:\", score_l)\n",
        "    print(\"The ROC_AUC score of Regresión logística:\", roc_auc_l)  \n",
        "    print(\"The F1 score of Regresión logística:\", f1_sco_l)\n",
        "    print('---------------------------------------------------')\n",
        "    gnb = GaussianNB()\n",
        "    gnb.fit(X_train, y_train)\n",
        "    y_pred_gnb=gnb.predict(X_test)\n",
        "    score_gnb=accuracy_score(y_test, y_pred_gnb)\n",
        "    roc_auc_gnb=roc_auc_score(y_test, y_pred_gnb)\n",
        "    f1_sco_gnb=f1_score(y_test, y_pred_gnb,average='micro')\n",
        "    accuracies.append(score_gnb)\n",
        "    roc_auc.append(roc_auc_gnb)\n",
        "    f1.append(f1_sco_gnb)\n",
        "    print(\"The accuracy score of Naive Bayes:\", score_gnb)\n",
        "    print(\"The ROC_AUC score of Naive Bayes:\", roc_auc_gnb)   \n",
        "    print(\"The F1 score of Naive Bayes:\", f1_sco_gnb)\n",
        "    print('---------------------------------------------------')\n",
        "    svc=LinearSVC()\n",
        "    svc.fit(X_train, y_train)\n",
        "    y_pred_svc=svc.predict(X_test)\n",
        "    score_svc=accuracy_score(y_test, y_pred_svc)\n",
        "    roc_auc_svc=roc_auc_score(y_test, y_pred_svc)\n",
        "    f1_sco_svc=f1_score(y_test, y_pred_svc,average='micro')\n",
        "    accuracies.append(score_svc)\n",
        "    roc_auc.append(roc_auc_svc)\n",
        "    f1.append(f1_sco_svc)\n",
        "    print(\"The accuracy score of SVM:\", score_svc)\n",
        "    print(\"The ROC_AUC score of SVM:\", roc_auc_svc)  \n",
        "    print(\"The F1 score of Naive Bayes:\", f1_sco_svc)\n",
        "    return  accuracies, roc_auc,f1, modelos"
      ],
      "execution_count": 10,
      "outputs": []
    },
    {
      "cell_type": "code",
      "metadata": {
        "id": "IvTJ0INyXnSC"
      },
      "source": [
        "def autolabel(rects):\n",
        "    for rect in rects:\n",
        "        \n",
        "        width = rect.get_width()\n",
        "        plt.text(1.05*rect.get_width(), rect.get_y()+0.5*rect.get_height(),\n",
        "                 '%.2f' % float(width),\n",
        "                 ha='center', va='center')"
      ],
      "execution_count": 11,
      "outputs": []
    },
    {
      "cell_type": "code",
      "metadata": {
        "id": "kVH1E6jF0jln"
      },
      "source": [
        "def labels(rects):\n",
        "  for p in rects.patches:\n",
        "    ax.annotate(np.round(p.get_height(),decimals=2),((p.get_x()-0.15)+p.get_width(), p.get_height()+2),ha='center',va='center')"
      ],
      "execution_count": 12,
      "outputs": []
    },
    {
      "cell_type": "markdown",
      "metadata": {
        "id": "Q59K446EOm7O"
      },
      "source": [
        "# **3. Dataset definition**"
      ]
    },
    {
      "cell_type": "markdown",
      "metadata": {
        "id": "hM9B6XGI30nH"
      },
      "source": [
        "The following code will be used to download the dataset from a Drive storage, this is because the volume of the dataset being handled is very large and it is not possible to upload it directly to GitHub"
      ]
    },
    {
      "cell_type": "code",
      "metadata": {
        "id": "EieqVgs2irYZ"
      },
      "source": [
        "from google.colab import files"
      ],
      "execution_count": 13,
      "outputs": []
    },
    {
      "cell_type": "code",
      "metadata": {
        "colab": {
          "base_uri": "https://localhost:8080/"
        },
        "id": "YrpI6bMAWBC7",
        "outputId": "9476f318-60a1-41aa-ed2e-c4d557cb5b79"
      },
      "source": [
        "#train_fill\n",
        "!gdown --id 1JPoAQMBKVeVOhmerYESaKXjVbGaz8zki"
      ],
      "execution_count": 14,
      "outputs": [
        {
          "output_type": "stream",
          "name": "stdout",
          "text": [
            "Downloading...\n",
            "From: https://drive.google.com/uc?id=1JPoAQMBKVeVOhmerYESaKXjVbGaz8zki\n",
            "To: /content/X_trainn_01.csv\n",
            "100% 426M/426M [00:02<00:00, 181MB/s]\n"
          ]
        }
      ]
    },
    {
      "cell_type": "code",
      "metadata": {
        "id": "KaALST2CWBC8"
      },
      "source": [
        "X_trainn_01 = pd.read_csv('/content/X_trainn_01.csv')"
      ],
      "execution_count": 15,
      "outputs": []
    },
    {
      "cell_type": "code",
      "metadata": {
        "colab": {
          "base_uri": "https://localhost:8080/",
          "height": 0
        },
        "id": "zLQ6QqGpw8fA",
        "outputId": "1af493c7-e2a9-4f28-8255-aeae27d0c052"
      },
      "source": [
        "X_trainn_01"
      ],
      "execution_count": 16,
      "outputs": [
        {
          "output_type": "execute_result",
          "data": {
            "text/html": [
              "<div>\n",
              "<style scoped>\n",
              "    .dataframe tbody tr th:only-of-type {\n",
              "        vertical-align: middle;\n",
              "    }\n",
              "\n",
              "    .dataframe tbody tr th {\n",
              "        vertical-align: top;\n",
              "    }\n",
              "\n",
              "    .dataframe thead th {\n",
              "        text-align: right;\n",
              "    }\n",
              "</style>\n",
              "<table border=\"1\" class=\"dataframe\">\n",
              "  <thead>\n",
              "    <tr style=\"text-align: right;\">\n",
              "      <th></th>\n",
              "      <th>ProductCD</th>\n",
              "      <th>card4</th>\n",
              "      <th>card6</th>\n",
              "      <th>P_emaildomain</th>\n",
              "      <th>R_emaildomain</th>\n",
              "      <th>M1</th>\n",
              "      <th>M2</th>\n",
              "      <th>M3</th>\n",
              "      <th>M4</th>\n",
              "      <th>M5</th>\n",
              "      <th>M6</th>\n",
              "      <th>M7</th>\n",
              "      <th>M8</th>\n",
              "      <th>M9</th>\n",
              "      <th>id_12</th>\n",
              "      <th>id_15</th>\n",
              "      <th>id_16</th>\n",
              "      <th>id_23</th>\n",
              "      <th>id_27</th>\n",
              "      <th>id_28</th>\n",
              "      <th>id_29</th>\n",
              "      <th>id_35</th>\n",
              "      <th>id_36</th>\n",
              "      <th>id_37</th>\n",
              "      <th>id_38</th>\n",
              "      <th>TransactionAmt</th>\n",
              "      <th>card2</th>\n",
              "      <th>card3</th>\n",
              "      <th>card5</th>\n",
              "      <th>addr1</th>\n",
              "      <th>addr2</th>\n",
              "      <th>dist1</th>\n",
              "      <th>dist2</th>\n",
              "      <th>C1</th>\n",
              "      <th>C2</th>\n",
              "      <th>C3</th>\n",
              "      <th>C4</th>\n",
              "      <th>C5</th>\n",
              "      <th>C6</th>\n",
              "      <th>C7</th>\n",
              "      <th>...</th>\n",
              "      <th>V331</th>\n",
              "      <th>V332</th>\n",
              "      <th>V333</th>\n",
              "      <th>V334</th>\n",
              "      <th>V335</th>\n",
              "      <th>V336</th>\n",
              "      <th>V337</th>\n",
              "      <th>V338</th>\n",
              "      <th>V339</th>\n",
              "      <th>CurrencyCents</th>\n",
              "      <th>CurrencyDollar</th>\n",
              "      <th>id_01</th>\n",
              "      <th>id_02</th>\n",
              "      <th>id_03</th>\n",
              "      <th>id_04</th>\n",
              "      <th>id_05</th>\n",
              "      <th>id_06</th>\n",
              "      <th>id_07</th>\n",
              "      <th>id_08</th>\n",
              "      <th>id_09</th>\n",
              "      <th>id_10</th>\n",
              "      <th>id_11</th>\n",
              "      <th>id_13</th>\n",
              "      <th>id_14</th>\n",
              "      <th>id_17</th>\n",
              "      <th>id_18</th>\n",
              "      <th>id_19</th>\n",
              "      <th>id_20</th>\n",
              "      <th>id_21</th>\n",
              "      <th>id_22</th>\n",
              "      <th>id_24</th>\n",
              "      <th>id_25</th>\n",
              "      <th>id_26</th>\n",
              "      <th>id_32</th>\n",
              "      <th>MobileCompareSerial</th>\n",
              "      <th>TransactionID</th>\n",
              "      <th>TransactionDT</th>\n",
              "      <th>card1</th>\n",
              "      <th>CentsDigits</th>\n",
              "      <th>isFraud</th>\n",
              "    </tr>\n",
              "  </thead>\n",
              "  <tbody>\n",
              "    <tr>\n",
              "      <th>0</th>\n",
              "      <td>1.337826e-06</td>\n",
              "      <td>3.344566e-07</td>\n",
              "      <td>3.344566e-07</td>\n",
              "      <td>0.000005</td>\n",
              "      <td>0.000005</td>\n",
              "      <td>0.0</td>\n",
              "      <td>3.344566e-07</td>\n",
              "      <td>3.344566e-07</td>\n",
              "      <td>6.689131e-07</td>\n",
              "      <td>0.000000e+00</td>\n",
              "      <td>3.344566e-07</td>\n",
              "      <td>0.0</td>\n",
              "      <td>0.0</td>\n",
              "      <td>3.344566e-07</td>\n",
              "      <td>3.344566e-07</td>\n",
              "      <td>0.000000e+00</td>\n",
              "      <td>3.344566e-07</td>\n",
              "      <td>6.689131e-07</td>\n",
              "      <td>0.0</td>\n",
              "      <td>0.000000e+00</td>\n",
              "      <td>0.000000e+00</td>\n",
              "      <td>3.344566e-07</td>\n",
              "      <td>0.0</td>\n",
              "      <td>3.344566e-07</td>\n",
              "      <td>3.344566e-07</td>\n",
              "      <td>0.000023</td>\n",
              "      <td>0.000125</td>\n",
              "      <td>0.000050</td>\n",
              "      <td>0.000047</td>\n",
              "      <td>0.000105</td>\n",
              "      <td>0.000029</td>\n",
              "      <td>0.000006</td>\n",
              "      <td>0.000010</td>\n",
              "      <td>3.344566e-07</td>\n",
              "      <td>3.344566e-07</td>\n",
              "      <td>0.0</td>\n",
              "      <td>0.000000e+00</td>\n",
              "      <td>0.0</td>\n",
              "      <td>3.344566e-07</td>\n",
              "      <td>0.000000e+00</td>\n",
              "      <td>...</td>\n",
              "      <td>0.0</td>\n",
              "      <td>0.0</td>\n",
              "      <td>0.0</td>\n",
              "      <td>0.0</td>\n",
              "      <td>0.0</td>\n",
              "      <td>0.0</td>\n",
              "      <td>0.0</td>\n",
              "      <td>0.0</td>\n",
              "      <td>0.0</td>\n",
              "      <td>1.672283e-07</td>\n",
              "      <td>0.000023</td>\n",
              "      <td>-0.000002</td>\n",
              "      <td>0.033146</td>\n",
              "      <td>0.0</td>\n",
              "      <td>0.0</td>\n",
              "      <td>0.000000</td>\n",
              "      <td>0.000000</td>\n",
              "      <td>0.000005</td>\n",
              "      <td>-0.000011</td>\n",
              "      <td>0.0</td>\n",
              "      <td>0.0</td>\n",
              "      <td>0.000033</td>\n",
              "      <td>0.000017</td>\n",
              "      <td>-0.000100</td>\n",
              "      <td>0.000056</td>\n",
              "      <td>0.000005</td>\n",
              "      <td>0.000118</td>\n",
              "      <td>0.000131</td>\n",
              "      <td>0.000084</td>\n",
              "      <td>0.000005</td>\n",
              "      <td>0.000005</td>\n",
              "      <td>0.000107</td>\n",
              "      <td>0.000050</td>\n",
              "      <td>0.000008</td>\n",
              "      <td>0.000000e+00</td>\n",
              "      <td>0.999022</td>\n",
              "      <td>0.028897</td>\n",
              "      <td>0.004658</td>\n",
              "      <td>3.344566e-07</td>\n",
              "      <td>0</td>\n",
              "    </tr>\n",
              "    <tr>\n",
              "      <th>1</th>\n",
              "      <td>1.337840e-06</td>\n",
              "      <td>6.689199e-07</td>\n",
              "      <td>3.344599e-07</td>\n",
              "      <td>0.000005</td>\n",
              "      <td>0.000005</td>\n",
              "      <td>0.0</td>\n",
              "      <td>3.344599e-07</td>\n",
              "      <td>3.344599e-07</td>\n",
              "      <td>0.000000e+00</td>\n",
              "      <td>3.344599e-07</td>\n",
              "      <td>3.344599e-07</td>\n",
              "      <td>0.0</td>\n",
              "      <td>0.0</td>\n",
              "      <td>3.344599e-07</td>\n",
              "      <td>3.344599e-07</td>\n",
              "      <td>0.000000e+00</td>\n",
              "      <td>3.344599e-07</td>\n",
              "      <td>6.689199e-07</td>\n",
              "      <td>0.0</td>\n",
              "      <td>0.000000e+00</td>\n",
              "      <td>0.000000e+00</td>\n",
              "      <td>3.344599e-07</td>\n",
              "      <td>0.0</td>\n",
              "      <td>3.344599e-07</td>\n",
              "      <td>3.344599e-07</td>\n",
              "      <td>0.000010</td>\n",
              "      <td>0.000135</td>\n",
              "      <td>0.000050</td>\n",
              "      <td>0.000034</td>\n",
              "      <td>0.000109</td>\n",
              "      <td>0.000029</td>\n",
              "      <td>0.000003</td>\n",
              "      <td>0.000010</td>\n",
              "      <td>3.344599e-07</td>\n",
              "      <td>3.344599e-07</td>\n",
              "      <td>0.0</td>\n",
              "      <td>0.000000e+00</td>\n",
              "      <td>0.0</td>\n",
              "      <td>3.344599e-07</td>\n",
              "      <td>0.000000e+00</td>\n",
              "      <td>...</td>\n",
              "      <td>0.0</td>\n",
              "      <td>0.0</td>\n",
              "      <td>0.0</td>\n",
              "      <td>0.0</td>\n",
              "      <td>0.0</td>\n",
              "      <td>0.0</td>\n",
              "      <td>0.0</td>\n",
              "      <td>0.0</td>\n",
              "      <td>0.0</td>\n",
              "      <td>0.000000e+00</td>\n",
              "      <td>0.000010</td>\n",
              "      <td>-0.000002</td>\n",
              "      <td>0.033147</td>\n",
              "      <td>0.0</td>\n",
              "      <td>0.0</td>\n",
              "      <td>0.000000</td>\n",
              "      <td>0.000000</td>\n",
              "      <td>0.000005</td>\n",
              "      <td>-0.000011</td>\n",
              "      <td>0.0</td>\n",
              "      <td>0.0</td>\n",
              "      <td>0.000033</td>\n",
              "      <td>0.000017</td>\n",
              "      <td>-0.000100</td>\n",
              "      <td>0.000056</td>\n",
              "      <td>0.000005</td>\n",
              "      <td>0.000118</td>\n",
              "      <td>0.000131</td>\n",
              "      <td>0.000084</td>\n",
              "      <td>0.000005</td>\n",
              "      <td>0.000005</td>\n",
              "      <td>0.000107</td>\n",
              "      <td>0.000050</td>\n",
              "      <td>0.000008</td>\n",
              "      <td>0.000000e+00</td>\n",
              "      <td>0.999032</td>\n",
              "      <td>0.028898</td>\n",
              "      <td>0.000921</td>\n",
              "      <td>3.344599e-07</td>\n",
              "      <td>0</td>\n",
              "    </tr>\n",
              "    <tr>\n",
              "      <th>2</th>\n",
              "      <td>1.337837e-06</td>\n",
              "      <td>1.003378e-06</td>\n",
              "      <td>6.689187e-07</td>\n",
              "      <td>0.000012</td>\n",
              "      <td>0.000005</td>\n",
              "      <td>0.0</td>\n",
              "      <td>3.344593e-07</td>\n",
              "      <td>3.344593e-07</td>\n",
              "      <td>0.000000e+00</td>\n",
              "      <td>0.000000e+00</td>\n",
              "      <td>0.000000e+00</td>\n",
              "      <td>0.0</td>\n",
              "      <td>0.0</td>\n",
              "      <td>0.000000e+00</td>\n",
              "      <td>3.344593e-07</td>\n",
              "      <td>0.000000e+00</td>\n",
              "      <td>3.344593e-07</td>\n",
              "      <td>6.689187e-07</td>\n",
              "      <td>0.0</td>\n",
              "      <td>0.000000e+00</td>\n",
              "      <td>0.000000e+00</td>\n",
              "      <td>3.344593e-07</td>\n",
              "      <td>0.0</td>\n",
              "      <td>3.344593e-07</td>\n",
              "      <td>3.344593e-07</td>\n",
              "      <td>0.000020</td>\n",
              "      <td>0.000164</td>\n",
              "      <td>0.000050</td>\n",
              "      <td>0.000056</td>\n",
              "      <td>0.000110</td>\n",
              "      <td>0.000029</td>\n",
              "      <td>0.000096</td>\n",
              "      <td>0.000010</td>\n",
              "      <td>3.344593e-07</td>\n",
              "      <td>3.344593e-07</td>\n",
              "      <td>0.0</td>\n",
              "      <td>0.000000e+00</td>\n",
              "      <td>0.0</td>\n",
              "      <td>3.344593e-07</td>\n",
              "      <td>0.000000e+00</td>\n",
              "      <td>...</td>\n",
              "      <td>0.0</td>\n",
              "      <td>0.0</td>\n",
              "      <td>0.0</td>\n",
              "      <td>0.0</td>\n",
              "      <td>0.0</td>\n",
              "      <td>0.0</td>\n",
              "      <td>0.0</td>\n",
              "      <td>0.0</td>\n",
              "      <td>0.0</td>\n",
              "      <td>0.000000e+00</td>\n",
              "      <td>0.000020</td>\n",
              "      <td>-0.000002</td>\n",
              "      <td>0.033147</td>\n",
              "      <td>0.0</td>\n",
              "      <td>0.0</td>\n",
              "      <td>0.000000</td>\n",
              "      <td>0.000000</td>\n",
              "      <td>0.000005</td>\n",
              "      <td>-0.000011</td>\n",
              "      <td>0.0</td>\n",
              "      <td>0.0</td>\n",
              "      <td>0.000033</td>\n",
              "      <td>0.000017</td>\n",
              "      <td>-0.000100</td>\n",
              "      <td>0.000056</td>\n",
              "      <td>0.000005</td>\n",
              "      <td>0.000118</td>\n",
              "      <td>0.000131</td>\n",
              "      <td>0.000084</td>\n",
              "      <td>0.000005</td>\n",
              "      <td>0.000005</td>\n",
              "      <td>0.000107</td>\n",
              "      <td>0.000050</td>\n",
              "      <td>0.000008</td>\n",
              "      <td>0.000000e+00</td>\n",
              "      <td>0.999031</td>\n",
              "      <td>0.028920</td>\n",
              "      <td>0.001560</td>\n",
              "      <td>3.344593e-07</td>\n",
              "      <td>0</td>\n",
              "    </tr>\n",
              "    <tr>\n",
              "      <th>3</th>\n",
              "      <td>1.337813e-06</td>\n",
              "      <td>6.689063e-07</td>\n",
              "      <td>6.689063e-07</td>\n",
              "      <td>0.000018</td>\n",
              "      <td>0.000005</td>\n",
              "      <td>0.0</td>\n",
              "      <td>3.344531e-07</td>\n",
              "      <td>3.344531e-07</td>\n",
              "      <td>0.000000e+00</td>\n",
              "      <td>3.344531e-07</td>\n",
              "      <td>0.000000e+00</td>\n",
              "      <td>0.0</td>\n",
              "      <td>0.0</td>\n",
              "      <td>3.344531e-07</td>\n",
              "      <td>3.344531e-07</td>\n",
              "      <td>0.000000e+00</td>\n",
              "      <td>3.344531e-07</td>\n",
              "      <td>6.689063e-07</td>\n",
              "      <td>0.0</td>\n",
              "      <td>0.000000e+00</td>\n",
              "      <td>0.000000e+00</td>\n",
              "      <td>3.344531e-07</td>\n",
              "      <td>0.0</td>\n",
              "      <td>3.344531e-07</td>\n",
              "      <td>3.344531e-07</td>\n",
              "      <td>0.000017</td>\n",
              "      <td>0.000190</td>\n",
              "      <td>0.000050</td>\n",
              "      <td>0.000039</td>\n",
              "      <td>0.000159</td>\n",
              "      <td>0.000029</td>\n",
              "      <td>0.000003</td>\n",
              "      <td>0.000010</td>\n",
              "      <td>6.689063e-07</td>\n",
              "      <td>1.672266e-06</td>\n",
              "      <td>0.0</td>\n",
              "      <td>0.000000e+00</td>\n",
              "      <td>0.0</td>\n",
              "      <td>1.337813e-06</td>\n",
              "      <td>0.000000e+00</td>\n",
              "      <td>...</td>\n",
              "      <td>0.0</td>\n",
              "      <td>0.0</td>\n",
              "      <td>0.0</td>\n",
              "      <td>0.0</td>\n",
              "      <td>0.0</td>\n",
              "      <td>0.0</td>\n",
              "      <td>0.0</td>\n",
              "      <td>0.0</td>\n",
              "      <td>0.0</td>\n",
              "      <td>0.000000e+00</td>\n",
              "      <td>0.000017</td>\n",
              "      <td>-0.000002</td>\n",
              "      <td>0.033146</td>\n",
              "      <td>0.0</td>\n",
              "      <td>0.0</td>\n",
              "      <td>0.000000</td>\n",
              "      <td>0.000000</td>\n",
              "      <td>0.000005</td>\n",
              "      <td>-0.000011</td>\n",
              "      <td>0.0</td>\n",
              "      <td>0.0</td>\n",
              "      <td>0.000033</td>\n",
              "      <td>0.000017</td>\n",
              "      <td>-0.000100</td>\n",
              "      <td>0.000056</td>\n",
              "      <td>0.000005</td>\n",
              "      <td>0.000118</td>\n",
              "      <td>0.000131</td>\n",
              "      <td>0.000084</td>\n",
              "      <td>0.000005</td>\n",
              "      <td>0.000005</td>\n",
              "      <td>0.000107</td>\n",
              "      <td>0.000050</td>\n",
              "      <td>0.000008</td>\n",
              "      <td>0.000000e+00</td>\n",
              "      <td>0.999013</td>\n",
              "      <td>0.028930</td>\n",
              "      <td>0.006064</td>\n",
              "      <td>3.344531e-07</td>\n",
              "      <td>0</td>\n",
              "    </tr>\n",
              "    <tr>\n",
              "      <th>4</th>\n",
              "      <td>3.340060e-07</td>\n",
              "      <td>6.680121e-07</td>\n",
              "      <td>3.340060e-07</td>\n",
              "      <td>0.000005</td>\n",
              "      <td>0.000005</td>\n",
              "      <td>0.0</td>\n",
              "      <td>3.340060e-07</td>\n",
              "      <td>3.340060e-07</td>\n",
              "      <td>0.000000e+00</td>\n",
              "      <td>0.000000e+00</td>\n",
              "      <td>0.000000e+00</td>\n",
              "      <td>0.0</td>\n",
              "      <td>0.0</td>\n",
              "      <td>3.340060e-07</td>\n",
              "      <td>3.340060e-07</td>\n",
              "      <td>3.340060e-07</td>\n",
              "      <td>3.340060e-07</td>\n",
              "      <td>6.680121e-07</td>\n",
              "      <td>0.0</td>\n",
              "      <td>3.340060e-07</td>\n",
              "      <td>3.340060e-07</td>\n",
              "      <td>3.340060e-07</td>\n",
              "      <td>0.0</td>\n",
              "      <td>3.340060e-07</td>\n",
              "      <td>3.340060e-07</td>\n",
              "      <td>0.000017</td>\n",
              "      <td>0.000172</td>\n",
              "      <td>0.000050</td>\n",
              "      <td>0.000034</td>\n",
              "      <td>0.000140</td>\n",
              "      <td>0.000029</td>\n",
              "      <td>0.000003</td>\n",
              "      <td>0.000010</td>\n",
              "      <td>3.340060e-07</td>\n",
              "      <td>3.340060e-07</td>\n",
              "      <td>0.0</td>\n",
              "      <td>0.000000e+00</td>\n",
              "      <td>0.0</td>\n",
              "      <td>3.340060e-07</td>\n",
              "      <td>0.000000e+00</td>\n",
              "      <td>...</td>\n",
              "      <td>0.0</td>\n",
              "      <td>0.0</td>\n",
              "      <td>0.0</td>\n",
              "      <td>0.0</td>\n",
              "      <td>0.0</td>\n",
              "      <td>0.0</td>\n",
              "      <td>0.0</td>\n",
              "      <td>0.0</td>\n",
              "      <td>0.0</td>\n",
              "      <td>0.000000e+00</td>\n",
              "      <td>0.000017</td>\n",
              "      <td>0.000000</td>\n",
              "      <td>0.023643</td>\n",
              "      <td>0.0</td>\n",
              "      <td>0.0</td>\n",
              "      <td>0.000000</td>\n",
              "      <td>0.000000</td>\n",
              "      <td>0.000005</td>\n",
              "      <td>-0.000011</td>\n",
              "      <td>0.0</td>\n",
              "      <td>0.0</td>\n",
              "      <td>0.000033</td>\n",
              "      <td>0.000017</td>\n",
              "      <td>-0.000160</td>\n",
              "      <td>0.000055</td>\n",
              "      <td>0.000005</td>\n",
              "      <td>0.000181</td>\n",
              "      <td>0.000048</td>\n",
              "      <td>0.000084</td>\n",
              "      <td>0.000005</td>\n",
              "      <td>0.000005</td>\n",
              "      <td>0.000107</td>\n",
              "      <td>0.000050</td>\n",
              "      <td>0.000011</td>\n",
              "      <td>3.340060e-07</td>\n",
              "      <td>0.997677</td>\n",
              "      <td>0.028894</td>\n",
              "      <td>0.001502</td>\n",
              "      <td>3.340060e-07</td>\n",
              "      <td>0</td>\n",
              "    </tr>\n",
              "    <tr>\n",
              "      <th>...</th>\n",
              "      <td>...</td>\n",
              "      <td>...</td>\n",
              "      <td>...</td>\n",
              "      <td>...</td>\n",
              "      <td>...</td>\n",
              "      <td>...</td>\n",
              "      <td>...</td>\n",
              "      <td>...</td>\n",
              "      <td>...</td>\n",
              "      <td>...</td>\n",
              "      <td>...</td>\n",
              "      <td>...</td>\n",
              "      <td>...</td>\n",
              "      <td>...</td>\n",
              "      <td>...</td>\n",
              "      <td>...</td>\n",
              "      <td>...</td>\n",
              "      <td>...</td>\n",
              "      <td>...</td>\n",
              "      <td>...</td>\n",
              "      <td>...</td>\n",
              "      <td>...</td>\n",
              "      <td>...</td>\n",
              "      <td>...</td>\n",
              "      <td>...</td>\n",
              "      <td>...</td>\n",
              "      <td>...</td>\n",
              "      <td>...</td>\n",
              "      <td>...</td>\n",
              "      <td>...</td>\n",
              "      <td>...</td>\n",
              "      <td>...</td>\n",
              "      <td>...</td>\n",
              "      <td>...</td>\n",
              "      <td>...</td>\n",
              "      <td>...</td>\n",
              "      <td>...</td>\n",
              "      <td>...</td>\n",
              "      <td>...</td>\n",
              "      <td>...</td>\n",
              "      <td>...</td>\n",
              "      <td>...</td>\n",
              "      <td>...</td>\n",
              "      <td>...</td>\n",
              "      <td>...</td>\n",
              "      <td>...</td>\n",
              "      <td>...</td>\n",
              "      <td>...</td>\n",
              "      <td>...</td>\n",
              "      <td>...</td>\n",
              "      <td>...</td>\n",
              "      <td>...</td>\n",
              "      <td>...</td>\n",
              "      <td>...</td>\n",
              "      <td>...</td>\n",
              "      <td>...</td>\n",
              "      <td>...</td>\n",
              "      <td>...</td>\n",
              "      <td>...</td>\n",
              "      <td>...</td>\n",
              "      <td>...</td>\n",
              "      <td>...</td>\n",
              "      <td>...</td>\n",
              "      <td>...</td>\n",
              "      <td>...</td>\n",
              "      <td>...</td>\n",
              "      <td>...</td>\n",
              "      <td>...</td>\n",
              "      <td>...</td>\n",
              "      <td>...</td>\n",
              "      <td>...</td>\n",
              "      <td>...</td>\n",
              "      <td>...</td>\n",
              "      <td>...</td>\n",
              "      <td>...</td>\n",
              "      <td>...</td>\n",
              "      <td>...</td>\n",
              "      <td>...</td>\n",
              "      <td>...</td>\n",
              "      <td>...</td>\n",
              "      <td>...</td>\n",
              "    </tr>\n",
              "    <tr>\n",
              "      <th>78139</th>\n",
              "      <td>1.036550e-06</td>\n",
              "      <td>9.060658e-07</td>\n",
              "      <td>5.826016e-07</td>\n",
              "      <td>0.000005</td>\n",
              "      <td>0.000005</td>\n",
              "      <td>0.0</td>\n",
              "      <td>3.234642e-07</td>\n",
              "      <td>3.234642e-07</td>\n",
              "      <td>1.286535e-07</td>\n",
              "      <td>2.591374e-07</td>\n",
              "      <td>0.000000e+00</td>\n",
              "      <td>0.0</td>\n",
              "      <td>0.0</td>\n",
              "      <td>3.234642e-07</td>\n",
              "      <td>3.234642e-07</td>\n",
              "      <td>0.000000e+00</td>\n",
              "      <td>3.234642e-07</td>\n",
              "      <td>6.469283e-07</td>\n",
              "      <td>0.0</td>\n",
              "      <td>0.000000e+00</td>\n",
              "      <td>0.000000e+00</td>\n",
              "      <td>3.234642e-07</td>\n",
              "      <td>0.0</td>\n",
              "      <td>3.234642e-07</td>\n",
              "      <td>3.234642e-07</td>\n",
              "      <td>0.000147</td>\n",
              "      <td>0.000115</td>\n",
              "      <td>0.000051</td>\n",
              "      <td>0.000073</td>\n",
              "      <td>0.000061</td>\n",
              "      <td>0.000026</td>\n",
              "      <td>0.000002</td>\n",
              "      <td>0.000009</td>\n",
              "      <td>3.234642e-07</td>\n",
              "      <td>3.234642e-07</td>\n",
              "      <td>0.0</td>\n",
              "      <td>1.286535e-07</td>\n",
              "      <td>0.0</td>\n",
              "      <td>3.877909e-07</td>\n",
              "      <td>1.286535e-07</td>\n",
              "      <td>...</td>\n",
              "      <td>0.0</td>\n",
              "      <td>0.0</td>\n",
              "      <td>0.0</td>\n",
              "      <td>0.0</td>\n",
              "      <td>0.0</td>\n",
              "      <td>0.0</td>\n",
              "      <td>0.0</td>\n",
              "      <td>0.0</td>\n",
              "      <td>0.0</td>\n",
              "      <td>2.161378e-08</td>\n",
              "      <td>0.000147</td>\n",
              "      <td>-0.000002</td>\n",
              "      <td>0.032057</td>\n",
              "      <td>0.0</td>\n",
              "      <td>0.0</td>\n",
              "      <td>0.000000</td>\n",
              "      <td>0.000000</td>\n",
              "      <td>0.000005</td>\n",
              "      <td>-0.000011</td>\n",
              "      <td>0.0</td>\n",
              "      <td>0.0</td>\n",
              "      <td>0.000032</td>\n",
              "      <td>0.000017</td>\n",
              "      <td>-0.000097</td>\n",
              "      <td>0.000054</td>\n",
              "      <td>0.000005</td>\n",
              "      <td>0.000114</td>\n",
              "      <td>0.000126</td>\n",
              "      <td>0.000082</td>\n",
              "      <td>0.000005</td>\n",
              "      <td>0.000005</td>\n",
              "      <td>0.000104</td>\n",
              "      <td>0.000048</td>\n",
              "      <td>0.000008</td>\n",
              "      <td>0.000000e+00</td>\n",
              "      <td>0.974888</td>\n",
              "      <td>0.220354</td>\n",
              "      <td>0.003025</td>\n",
              "      <td>4.521176e-07</td>\n",
              "      <td>1</td>\n",
              "    </tr>\n",
              "    <tr>\n",
              "      <th>78140</th>\n",
              "      <td>1.239151e-06</td>\n",
              "      <td>9.082538e-07</td>\n",
              "      <td>6.195756e-07</td>\n",
              "      <td>0.000005</td>\n",
              "      <td>0.000005</td>\n",
              "      <td>0.0</td>\n",
              "      <td>3.097878e-07</td>\n",
              "      <td>3.097878e-07</td>\n",
              "      <td>0.000000e+00</td>\n",
              "      <td>2.886782e-07</td>\n",
              "      <td>0.000000e+00</td>\n",
              "      <td>0.0</td>\n",
              "      <td>0.0</td>\n",
              "      <td>3.097878e-07</td>\n",
              "      <td>3.097878e-07</td>\n",
              "      <td>0.000000e+00</td>\n",
              "      <td>3.097878e-07</td>\n",
              "      <td>6.195756e-07</td>\n",
              "      <td>0.0</td>\n",
              "      <td>0.000000e+00</td>\n",
              "      <td>0.000000e+00</td>\n",
              "      <td>3.097878e-07</td>\n",
              "      <td>0.0</td>\n",
              "      <td>3.097878e-07</td>\n",
              "      <td>3.097878e-07</td>\n",
              "      <td>0.000039</td>\n",
              "      <td>0.000099</td>\n",
              "      <td>0.000046</td>\n",
              "      <td>0.000070</td>\n",
              "      <td>0.000040</td>\n",
              "      <td>0.000027</td>\n",
              "      <td>0.000003</td>\n",
              "      <td>0.000009</td>\n",
              "      <td>1.506720e-06</td>\n",
              "      <td>9.082538e-07</td>\n",
              "      <td>0.0</td>\n",
              "      <td>0.000000e+00</td>\n",
              "      <td>0.0</td>\n",
              "      <td>5.984660e-07</td>\n",
              "      <td>0.000000e+00</td>\n",
              "      <td>...</td>\n",
              "      <td>0.0</td>\n",
              "      <td>0.0</td>\n",
              "      <td>0.0</td>\n",
              "      <td>0.0</td>\n",
              "      <td>0.0</td>\n",
              "      <td>0.0</td>\n",
              "      <td>0.0</td>\n",
              "      <td>0.0</td>\n",
              "      <td>0.0</td>\n",
              "      <td>0.000000e+00</td>\n",
              "      <td>0.000039</td>\n",
              "      <td>-0.000002</td>\n",
              "      <td>0.030702</td>\n",
              "      <td>0.0</td>\n",
              "      <td>0.0</td>\n",
              "      <td>0.000000</td>\n",
              "      <td>0.000000</td>\n",
              "      <td>0.000004</td>\n",
              "      <td>-0.000011</td>\n",
              "      <td>0.0</td>\n",
              "      <td>0.0</td>\n",
              "      <td>0.000031</td>\n",
              "      <td>0.000016</td>\n",
              "      <td>-0.000093</td>\n",
              "      <td>0.000051</td>\n",
              "      <td>0.000005</td>\n",
              "      <td>0.000109</td>\n",
              "      <td>0.000121</td>\n",
              "      <td>0.000078</td>\n",
              "      <td>0.000004</td>\n",
              "      <td>0.000005</td>\n",
              "      <td>0.000099</td>\n",
              "      <td>0.000046</td>\n",
              "      <td>0.000007</td>\n",
              "      <td>0.000000e+00</td>\n",
              "      <td>0.939500</td>\n",
              "      <td>0.341114</td>\n",
              "      <td>0.005319</td>\n",
              "      <td>3.097878e-07</td>\n",
              "      <td>1</td>\n",
              "    </tr>\n",
              "    <tr>\n",
              "      <th>78141</th>\n",
              "      <td>1.307979e-06</td>\n",
              "      <td>9.809843e-07</td>\n",
              "      <td>3.595694e-07</td>\n",
              "      <td>0.000011</td>\n",
              "      <td>0.000005</td>\n",
              "      <td>0.0</td>\n",
              "      <td>3.269948e-07</td>\n",
              "      <td>3.257465e-08</td>\n",
              "      <td>0.000000e+00</td>\n",
              "      <td>0.000000e+00</td>\n",
              "      <td>3.269948e-07</td>\n",
              "      <td>0.0</td>\n",
              "      <td>0.0</td>\n",
              "      <td>3.269948e-07</td>\n",
              "      <td>3.269948e-07</td>\n",
              "      <td>0.000000e+00</td>\n",
              "      <td>3.269948e-07</td>\n",
              "      <td>6.539895e-07</td>\n",
              "      <td>0.0</td>\n",
              "      <td>0.000000e+00</td>\n",
              "      <td>0.000000e+00</td>\n",
              "      <td>3.269948e-07</td>\n",
              "      <td>0.0</td>\n",
              "      <td>3.269948e-07</td>\n",
              "      <td>3.269948e-07</td>\n",
              "      <td>0.000142</td>\n",
              "      <td>0.000176</td>\n",
              "      <td>0.000049</td>\n",
              "      <td>0.000074</td>\n",
              "      <td>0.000102</td>\n",
              "      <td>0.000028</td>\n",
              "      <td>0.000003</td>\n",
              "      <td>0.000009</td>\n",
              "      <td>3.595694e-07</td>\n",
              "      <td>4.247187e-07</td>\n",
              "      <td>0.0</td>\n",
              "      <td>0.000000e+00</td>\n",
              "      <td>0.0</td>\n",
              "      <td>3.921441e-07</td>\n",
              "      <td>0.000000e+00</td>\n",
              "      <td>...</td>\n",
              "      <td>0.0</td>\n",
              "      <td>0.0</td>\n",
              "      <td>0.0</td>\n",
              "      <td>0.0</td>\n",
              "      <td>0.0</td>\n",
              "      <td>0.0</td>\n",
              "      <td>0.0</td>\n",
              "      <td>0.0</td>\n",
              "      <td>0.0</td>\n",
              "      <td>1.628733e-08</td>\n",
              "      <td>0.000142</td>\n",
              "      <td>-0.000002</td>\n",
              "      <td>0.032407</td>\n",
              "      <td>0.0</td>\n",
              "      <td>0.0</td>\n",
              "      <td>0.000000</td>\n",
              "      <td>0.000000</td>\n",
              "      <td>0.000005</td>\n",
              "      <td>-0.000011</td>\n",
              "      <td>0.0</td>\n",
              "      <td>0.0</td>\n",
              "      <td>0.000033</td>\n",
              "      <td>0.000017</td>\n",
              "      <td>-0.000098</td>\n",
              "      <td>0.000054</td>\n",
              "      <td>0.000005</td>\n",
              "      <td>0.000115</td>\n",
              "      <td>0.000128</td>\n",
              "      <td>0.000082</td>\n",
              "      <td>0.000005</td>\n",
              "      <td>0.000005</td>\n",
              "      <td>0.000105</td>\n",
              "      <td>0.000049</td>\n",
              "      <td>0.000008</td>\n",
              "      <td>0.000000e+00</td>\n",
              "      <td>0.983644</td>\n",
              "      <td>0.177135</td>\n",
              "      <td>0.003802</td>\n",
              "      <td>3.269948e-07</td>\n",
              "      <td>1</td>\n",
              "    </tr>\n",
              "    <tr>\n",
              "      <th>78142</th>\n",
              "      <td>1.330286e-06</td>\n",
              "      <td>6.651432e-07</td>\n",
              "      <td>3.865651e-07</td>\n",
              "      <td>0.000004</td>\n",
              "      <td>0.000005</td>\n",
              "      <td>0.0</td>\n",
              "      <td>3.325716e-07</td>\n",
              "      <td>3.325716e-07</td>\n",
              "      <td>5.399346e-08</td>\n",
              "      <td>5.399346e-08</td>\n",
              "      <td>2.785781e-07</td>\n",
              "      <td>0.0</td>\n",
              "      <td>0.0</td>\n",
              "      <td>3.325716e-07</td>\n",
              "      <td>3.325716e-07</td>\n",
              "      <td>0.000000e+00</td>\n",
              "      <td>3.325716e-07</td>\n",
              "      <td>6.651432e-07</td>\n",
              "      <td>0.0</td>\n",
              "      <td>0.000000e+00</td>\n",
              "      <td>0.000000e+00</td>\n",
              "      <td>3.325716e-07</td>\n",
              "      <td>0.0</td>\n",
              "      <td>3.325716e-07</td>\n",
              "      <td>3.325716e-07</td>\n",
              "      <td>0.000113</td>\n",
              "      <td>0.000171</td>\n",
              "      <td>0.000050</td>\n",
              "      <td>0.000074</td>\n",
              "      <td>0.000105</td>\n",
              "      <td>0.000029</td>\n",
              "      <td>0.000001</td>\n",
              "      <td>0.000010</td>\n",
              "      <td>6.651432e-07</td>\n",
              "      <td>6.651432e-07</td>\n",
              "      <td>0.0</td>\n",
              "      <td>0.000000e+00</td>\n",
              "      <td>0.0</td>\n",
              "      <td>6.651432e-07</td>\n",
              "      <td>0.000000e+00</td>\n",
              "      <td>...</td>\n",
              "      <td>0.0</td>\n",
              "      <td>0.0</td>\n",
              "      <td>0.0</td>\n",
              "      <td>0.0</td>\n",
              "      <td>0.0</td>\n",
              "      <td>0.0</td>\n",
              "      <td>0.0</td>\n",
              "      <td>0.0</td>\n",
              "      <td>0.0</td>\n",
              "      <td>0.000000e+00</td>\n",
              "      <td>0.000113</td>\n",
              "      <td>-0.000002</td>\n",
              "      <td>0.032960</td>\n",
              "      <td>0.0</td>\n",
              "      <td>0.0</td>\n",
              "      <td>0.000000</td>\n",
              "      <td>0.000000</td>\n",
              "      <td>0.000005</td>\n",
              "      <td>-0.000011</td>\n",
              "      <td>0.0</td>\n",
              "      <td>0.0</td>\n",
              "      <td>0.000033</td>\n",
              "      <td>0.000017</td>\n",
              "      <td>-0.000100</td>\n",
              "      <td>0.000055</td>\n",
              "      <td>0.000005</td>\n",
              "      <td>0.000117</td>\n",
              "      <td>0.000130</td>\n",
              "      <td>0.000084</td>\n",
              "      <td>0.000005</td>\n",
              "      <td>0.000005</td>\n",
              "      <td>0.000107</td>\n",
              "      <td>0.000050</td>\n",
              "      <td>0.000008</td>\n",
              "      <td>0.000000e+00</td>\n",
              "      <td>0.996069</td>\n",
              "      <td>0.082221</td>\n",
              "      <td>0.000600</td>\n",
              "      <td>3.325716e-07</td>\n",
              "      <td>1</td>\n",
              "    </tr>\n",
              "    <tr>\n",
              "      <th>78143</th>\n",
              "      <td>0.000000e+00</td>\n",
              "      <td>5.920627e-07</td>\n",
              "      <td>4.513641e-07</td>\n",
              "      <td>0.000005</td>\n",
              "      <td>0.000005</td>\n",
              "      <td>0.0</td>\n",
              "      <td>2.960313e-07</td>\n",
              "      <td>2.960313e-07</td>\n",
              "      <td>3.106655e-07</td>\n",
              "      <td>0.000000e+00</td>\n",
              "      <td>0.000000e+00</td>\n",
              "      <td>0.0</td>\n",
              "      <td>0.0</td>\n",
              "      <td>2.960313e-07</td>\n",
              "      <td>2.960313e-07</td>\n",
              "      <td>3.106655e-07</td>\n",
              "      <td>1.553328e-07</td>\n",
              "      <td>5.920627e-07</td>\n",
              "      <td>0.0</td>\n",
              "      <td>1.553328e-07</td>\n",
              "      <td>1.553328e-07</td>\n",
              "      <td>0.000000e+00</td>\n",
              "      <td>0.0</td>\n",
              "      <td>1.406986e-07</td>\n",
              "      <td>2.960313e-07</td>\n",
              "      <td>0.000004</td>\n",
              "      <td>0.000083</td>\n",
              "      <td>0.000055</td>\n",
              "      <td>0.000054</td>\n",
              "      <td>0.000089</td>\n",
              "      <td>0.000026</td>\n",
              "      <td>0.000003</td>\n",
              "      <td>0.000016</td>\n",
              "      <td>2.649648e-06</td>\n",
              "      <td>2.775712e-06</td>\n",
              "      <td>0.0</td>\n",
              "      <td>1.169491e-06</td>\n",
              "      <td>0.0</td>\n",
              "      <td>1.169491e-06</td>\n",
              "      <td>1.169491e-06</td>\n",
              "      <td>...</td>\n",
              "      <td>0.0</td>\n",
              "      <td>0.0</td>\n",
              "      <td>0.0</td>\n",
              "      <td>0.0</td>\n",
              "      <td>0.0</td>\n",
              "      <td>0.0</td>\n",
              "      <td>0.0</td>\n",
              "      <td>0.0</td>\n",
              "      <td>0.0</td>\n",
              "      <td>2.795291e-07</td>\n",
              "      <td>0.000003</td>\n",
              "      <td>-0.000017</td>\n",
              "      <td>0.020704</td>\n",
              "      <td>0.0</td>\n",
              "      <td>0.0</td>\n",
              "      <td>-0.000001</td>\n",
              "      <td>-0.000005</td>\n",
              "      <td>0.000004</td>\n",
              "      <td>-0.000010</td>\n",
              "      <td>0.0</td>\n",
              "      <td>0.0</td>\n",
              "      <td>0.000030</td>\n",
              "      <td>0.000015</td>\n",
              "      <td>-0.000089</td>\n",
              "      <td>0.000067</td>\n",
              "      <td>0.000004</td>\n",
              "      <td>0.000091</td>\n",
              "      <td>0.000150</td>\n",
              "      <td>0.000075</td>\n",
              "      <td>0.000004</td>\n",
              "      <td>0.000004</td>\n",
              "      <td>0.000095</td>\n",
              "      <td>0.000044</td>\n",
              "      <td>0.000007</td>\n",
              "      <td>-1.553328e-07</td>\n",
              "      <td>0.903109</td>\n",
              "      <td>0.428892</td>\n",
              "      <td>0.004157</td>\n",
              "      <td>8.880940e-07</td>\n",
              "      <td>1</td>\n",
              "    </tr>\n",
              "  </tbody>\n",
              "</table>\n",
              "<p>78144 rows × 432 columns</p>\n",
              "</div>"
            ],
            "text/plain": [
              "          ProductCD         card4  ...   CentsDigits  isFraud\n",
              "0      1.337826e-06  3.344566e-07  ...  3.344566e-07        0\n",
              "1      1.337840e-06  6.689199e-07  ...  3.344599e-07        0\n",
              "2      1.337837e-06  1.003378e-06  ...  3.344593e-07        0\n",
              "3      1.337813e-06  6.689063e-07  ...  3.344531e-07        0\n",
              "4      3.340060e-07  6.680121e-07  ...  3.340060e-07        0\n",
              "...             ...           ...  ...           ...      ...\n",
              "78139  1.036550e-06  9.060658e-07  ...  4.521176e-07        1\n",
              "78140  1.239151e-06  9.082538e-07  ...  3.097878e-07        1\n",
              "78141  1.307979e-06  9.809843e-07  ...  3.269948e-07        1\n",
              "78142  1.330286e-06  6.651432e-07  ...  3.325716e-07        1\n",
              "78143  0.000000e+00  5.920627e-07  ...  8.880940e-07        1\n",
              "\n",
              "[78144 rows x 432 columns]"
            ]
          },
          "metadata": {},
          "execution_count": 16
        }
      ]
    },
    {
      "cell_type": "code",
      "metadata": {
        "id": "MIk9Wcxh2pRV"
      },
      "source": [
        "def timer(start_time=None):\n",
        "    if not start_time:\n",
        "        start_time = datetime.now()\n",
        "        return start_time\n",
        "    elif start_time:\n",
        "        thour, temp_sec = divmod((datetime.now() - start_time).total_seconds(), 3600)\n",
        "        tmin, tsec = divmod(temp_sec, 60)\n",
        "        print('\\n Time taken: %i hours %i minutes and %s seconds.' % (thour, tmin, round(tsec, 2)))\n",
        "    return thour,tmin,tsec"
      ],
      "execution_count": 17,
      "outputs": []
    },
    {
      "cell_type": "code",
      "metadata": {
        "id": "pVB_ciDl2yE-"
      },
      "source": [
        "Y = X_trainn_01['isFraud']\n",
        "X = X_trainn_01.drop(['isFraud', 'TransactionID'], axis=1)"
      ],
      "execution_count": 18,
      "outputs": []
    },
    {
      "cell_type": "markdown",
      "metadata": {
        "id": "csGT9qyk2Ryv"
      },
      "source": [
        "# **4. GridSearch for GradientBoostingClassifier with Normalizer and SMOTE 0.1**"
      ]
    },
    {
      "cell_type": "markdown",
      "metadata": {
        "id": "wR-tzbHsffby"
      },
      "source": [
        "## **A. Learning_rate y n_estimators**"
      ]
    },
    {
      "cell_type": "markdown",
      "metadata": {
        "id": "Em4GUXC1LVtC"
      },
      "source": [
        "In this situation it is possible to observe that by specifying two parameters the training takes less than 1 minute, which facilitates the training and the adjustment of these parameters. And also when using scaling with normalization the training time increased a little bit compared to StandardScaler. "
      ]
    },
    {
      "cell_type": "code",
      "metadata": {
        "id": "j2hMAHMOoY33"
      },
      "source": [
        "gbc1 = GradientBoostingClassifier(max_features = 'sqrt')\n",
        "parameters1 = {\n",
        "    'learning_rate':[0.01,0.1,1,1.5],\n",
        "    'n_estimators':[100,200,500,700]\n",
        "}\n",
        "scoring1 = {'AUC': 'roc_auc', 'Accuracy': make_scorer(accuracy_score), 'F1':make_scorer(f1_score, average='micro')}"
      ],
      "execution_count": null,
      "outputs": []
    },
    {
      "cell_type": "code",
      "metadata": {
        "colab": {
          "base_uri": "https://localhost:8080/"
        },
        "id": "dqiRhzLKoY39",
        "outputId": "11205b1c-33bd-465a-a0fa-b69872cd626e"
      },
      "source": [
        "start_time = timer(None) # timing starts from this point for \"start_time\" variable\n",
        "gsearch1 = GridSearchCV(estimator=gbc1,param_grid=parameters1,scoring=scoring1, cv=10, verbose=3, refit='AUC', return_train_score=True)\n",
        "gsearch1.fit(X,Y)\n",
        "timer(start_time) # timing ends here for \"start_time\" variable"
      ],
      "execution_count": null,
      "outputs": [
        {
          "name": "stdout",
          "output_type": "stream",
          "text": [
            "Fitting 10 folds for each of 16 candidates, totalling 160 fits\n",
            "[CV] learning_rate=0.01, n_estimators=100 ............................\n"
          ]
        },
        {
          "name": "stderr",
          "output_type": "stream",
          "text": [
            "[Parallel(n_jobs=1)]: Using backend SequentialBackend with 1 concurrent workers.\n"
          ]
        },
        {
          "name": "stdout",
          "output_type": "stream",
          "text": [
            "[CV]  learning_rate=0.01, n_estimators=100, AUC=(train=0.883, test=0.472), Accuracy=(train=0.916, test=0.911), F1=(train=0.916, test=0.911), total=  23.5s\n",
            "[CV] learning_rate=0.01, n_estimators=100 ............................\n"
          ]
        },
        {
          "name": "stderr",
          "output_type": "stream",
          "text": [
            "[Parallel(n_jobs=1)]: Done   1 out of   1 | elapsed:   24.5s remaining:    0.0s\n"
          ]
        },
        {
          "name": "stdout",
          "output_type": "stream",
          "text": [
            "[CV]  learning_rate=0.01, n_estimators=100, AUC=(train=0.870, test=0.779), Accuracy=(train=0.913, test=0.912), F1=(train=0.913, test=0.912), total=  23.2s\n",
            "[CV] learning_rate=0.01, n_estimators=100 ............................\n"
          ]
        },
        {
          "name": "stderr",
          "output_type": "stream",
          "text": [
            "[Parallel(n_jobs=1)]: Done   2 out of   2 | elapsed:   48.7s remaining:    0.0s\n"
          ]
        },
        {
          "name": "stdout",
          "output_type": "stream",
          "text": [
            "[CV]  learning_rate=0.01, n_estimators=100, AUC=(train=0.876, test=0.793), Accuracy=(train=0.914, test=0.913), F1=(train=0.914, test=0.913), total=  22.6s\n",
            "[CV] learning_rate=0.01, n_estimators=100 ............................\n",
            "[CV]  learning_rate=0.01, n_estimators=100, AUC=(train=0.866, test=0.880), Accuracy=(train=0.915, test=0.916), F1=(train=0.915, test=0.916), total=  23.1s\n",
            "[CV] learning_rate=0.01, n_estimators=100 ............................\n",
            "[CV]  learning_rate=0.01, n_estimators=100, AUC=(train=0.865, test=0.889), Accuracy=(train=0.915, test=0.915), F1=(train=0.915, test=0.915), total=  22.9s\n",
            "[CV] learning_rate=0.01, n_estimators=100 ............................\n",
            "[CV]  learning_rate=0.01, n_estimators=100, AUC=(train=0.863, test=0.885), Accuracy=(train=0.916, test=0.915), F1=(train=0.916, test=0.915), total=  22.7s\n",
            "[CV] learning_rate=0.01, n_estimators=100 ............................\n",
            "[CV]  learning_rate=0.01, n_estimators=100, AUC=(train=0.865, test=0.897), Accuracy=(train=0.916, test=0.917), F1=(train=0.916, test=0.917), total=  22.6s\n",
            "[CV] learning_rate=0.01, n_estimators=100 ............................\n",
            "[CV]  learning_rate=0.01, n_estimators=100, AUC=(train=0.863, test=0.848), Accuracy=(train=0.915, test=0.911), F1=(train=0.915, test=0.911), total=  22.9s\n",
            "[CV] learning_rate=0.01, n_estimators=100 ............................\n",
            "[CV]  learning_rate=0.01, n_estimators=100, AUC=(train=0.863, test=0.903), Accuracy=(train=0.915, test=0.917), F1=(train=0.915, test=0.917), total=  23.2s\n",
            "[CV] learning_rate=0.01, n_estimators=100 ............................\n",
            "[CV]  learning_rate=0.01, n_estimators=100, AUC=(train=0.879, test=0.573), Accuracy=(train=0.915, test=0.914), F1=(train=0.915, test=0.914), total=  23.2s\n",
            "[CV] learning_rate=0.01, n_estimators=200 ............................\n",
            "[CV]  learning_rate=0.01, n_estimators=200, AUC=(train=0.891, test=0.371), Accuracy=(train=0.928, test=0.883), F1=(train=0.928, test=0.883), total=  45.5s\n",
            "[CV] learning_rate=0.01, n_estimators=200 ............................\n",
            "[CV]  learning_rate=0.01, n_estimators=200, AUC=(train=0.886, test=0.696), Accuracy=(train=0.927, test=0.923), F1=(train=0.927, test=0.923), total=  45.7s\n",
            "[CV] learning_rate=0.01, n_estimators=200 ............................\n",
            "[CV]  learning_rate=0.01, n_estimators=200, AUC=(train=0.885, test=0.788), Accuracy=(train=0.926, test=0.925), F1=(train=0.926, test=0.925), total=  45.3s\n",
            "[CV] learning_rate=0.01, n_estimators=200 ............................\n",
            "[CV]  learning_rate=0.01, n_estimators=200, AUC=(train=0.872, test=0.886), Accuracy=(train=0.926, test=0.926), F1=(train=0.926, test=0.926), total=  45.1s\n",
            "[CV] learning_rate=0.01, n_estimators=200 ............................\n",
            "[CV]  learning_rate=0.01, n_estimators=200, AUC=(train=0.872, test=0.890), Accuracy=(train=0.927, test=0.928), F1=(train=0.927, test=0.928), total=  45.5s\n",
            "[CV] learning_rate=0.01, n_estimators=200 ............................\n",
            "[CV]  learning_rate=0.01, n_estimators=200, AUC=(train=0.874, test=0.890), Accuracy=(train=0.927, test=0.924), F1=(train=0.927, test=0.924), total=  45.9s\n",
            "[CV] learning_rate=0.01, n_estimators=200 ............................\n",
            "[CV]  learning_rate=0.01, n_estimators=200, AUC=(train=0.872, test=0.906), Accuracy=(train=0.927, test=0.928), F1=(train=0.927, test=0.928), total=  45.1s\n",
            "[CV] learning_rate=0.01, n_estimators=200 ............................\n",
            "[CV]  learning_rate=0.01, n_estimators=200, AUC=(train=0.872, test=0.860), Accuracy=(train=0.926, test=0.917), F1=(train=0.926, test=0.917), total=  45.5s\n",
            "[CV] learning_rate=0.01, n_estimators=200 ............................\n",
            "[CV]  learning_rate=0.01, n_estimators=200, AUC=(train=0.867, test=0.899), Accuracy=(train=0.926, test=0.932), F1=(train=0.926, test=0.932), total=  46.1s\n",
            "[CV] learning_rate=0.01, n_estimators=200 ............................\n",
            "[CV]  learning_rate=0.01, n_estimators=200, AUC=(train=0.886, test=0.489), Accuracy=(train=0.928, test=0.901), F1=(train=0.928, test=0.901), total=  45.3s\n",
            "[CV] learning_rate=0.01, n_estimators=500 ............................\n",
            "[CV]  learning_rate=0.01, n_estimators=500, AUC=(train=0.907, test=0.345), Accuracy=(train=0.937, test=0.810), F1=(train=0.937, test=0.810), total= 1.9min\n",
            "[CV] learning_rate=0.01, n_estimators=500 ............................\n",
            "[CV]  learning_rate=0.01, n_estimators=500, AUC=(train=0.907, test=0.647), Accuracy=(train=0.934, test=0.923), F1=(train=0.934, test=0.923), total= 1.9min\n",
            "[CV] learning_rate=0.01, n_estimators=500 ............................\n",
            "[CV]  learning_rate=0.01, n_estimators=500, AUC=(train=0.905, test=0.733), Accuracy=(train=0.934, test=0.927), F1=(train=0.934, test=0.927), total= 1.9min\n",
            "[CV] learning_rate=0.01, n_estimators=500 ............................\n",
            "[CV]  learning_rate=0.01, n_estimators=500, AUC=(train=0.893, test=0.880), Accuracy=(train=0.933, test=0.935), F1=(train=0.933, test=0.935), total= 1.9min\n",
            "[CV] learning_rate=0.01, n_estimators=500 ............................\n",
            "[CV]  learning_rate=0.01, n_estimators=500, AUC=(train=0.892, test=0.896), Accuracy=(train=0.933, test=0.931), F1=(train=0.933, test=0.931), total= 1.9min\n",
            "[CV] learning_rate=0.01, n_estimators=500 ............................\n",
            "[CV]  learning_rate=0.01, n_estimators=500, AUC=(train=0.893, test=0.892), Accuracy=(train=0.933, test=0.930), F1=(train=0.933, test=0.930), total= 1.9min\n",
            "[CV] learning_rate=0.01, n_estimators=500 ............................\n",
            "[CV]  learning_rate=0.01, n_estimators=500, AUC=(train=0.889, test=0.921), Accuracy=(train=0.933, test=0.931), F1=(train=0.933, test=0.931), total= 1.9min\n",
            "[CV] learning_rate=0.01, n_estimators=500 ............................\n",
            "[CV]  learning_rate=0.01, n_estimators=500, AUC=(train=0.891, test=0.877), Accuracy=(train=0.934, test=0.884), F1=(train=0.934, test=0.884), total= 1.9min\n",
            "[CV] learning_rate=0.01, n_estimators=500 ............................\n",
            "[CV]  learning_rate=0.01, n_estimators=500, AUC=(train=0.891, test=0.900), Accuracy=(train=0.932, test=0.938), F1=(train=0.932, test=0.938), total= 1.9min\n",
            "[CV] learning_rate=0.01, n_estimators=500 ............................\n",
            "[CV]  learning_rate=0.01, n_estimators=500, AUC=(train=0.902, test=0.389), Accuracy=(train=0.936, test=0.775), F1=(train=0.936, test=0.775), total= 1.9min\n",
            "[CV] learning_rate=0.01, n_estimators=700 ............................\n",
            "[CV]  learning_rate=0.01, n_estimators=700, AUC=(train=0.915, test=0.305), Accuracy=(train=0.941, test=0.335), F1=(train=0.941, test=0.335), total= 2.7min\n",
            "[CV] learning_rate=0.01, n_estimators=700 ............................\n",
            "[CV]  learning_rate=0.01, n_estimators=700, AUC=(train=0.913, test=0.641), Accuracy=(train=0.936, test=0.921), F1=(train=0.936, test=0.921), total= 2.7min\n",
            "[CV] learning_rate=0.01, n_estimators=700 ............................\n",
            "[CV]  learning_rate=0.01, n_estimators=700, AUC=(train=0.914, test=0.707), Accuracy=(train=0.937, test=0.919), F1=(train=0.937, test=0.919), total= 2.7min\n",
            "[CV] learning_rate=0.01, n_estimators=700 ............................\n",
            "[CV]  learning_rate=0.01, n_estimators=700, AUC=(train=0.901, test=0.882), Accuracy=(train=0.935, test=0.935), F1=(train=0.935, test=0.935), total= 2.6min\n",
            "[CV] learning_rate=0.01, n_estimators=700 ............................\n",
            "[CV]  learning_rate=0.01, n_estimators=700, AUC=(train=0.901, test=0.894), Accuracy=(train=0.935, test=0.934), F1=(train=0.935, test=0.934), total= 2.6min\n",
            "[CV] learning_rate=0.01, n_estimators=700 ............................\n",
            "[CV]  learning_rate=0.01, n_estimators=700, AUC=(train=0.900, test=0.892), Accuracy=(train=0.936, test=0.931), F1=(train=0.936, test=0.931), total= 2.6min\n",
            "[CV] learning_rate=0.01, n_estimators=700 ............................\n",
            "[CV]  learning_rate=0.01, n_estimators=700, AUC=(train=0.897, test=0.922), Accuracy=(train=0.935, test=0.933), F1=(train=0.935, test=0.933), total= 2.6min\n",
            "[CV] learning_rate=0.01, n_estimators=700 ............................\n",
            "[CV]  learning_rate=0.01, n_estimators=700, AUC=(train=0.900, test=0.886), Accuracy=(train=0.936, test=0.886), F1=(train=0.936, test=0.886), total= 2.6min\n",
            "[CV] learning_rate=0.01, n_estimators=700 ............................\n",
            "[CV]  learning_rate=0.01, n_estimators=700, AUC=(train=0.898, test=0.904), Accuracy=(train=0.934, test=0.940), F1=(train=0.934, test=0.940), total= 2.6min\n",
            "[CV] learning_rate=0.01, n_estimators=700 ............................\n",
            "[CV]  learning_rate=0.01, n_estimators=700, AUC=(train=0.908, test=0.382), Accuracy=(train=0.939, test=0.642), F1=(train=0.939, test=0.642), total= 2.6min\n",
            "[CV] learning_rate=0.1, n_estimators=100 .............................\n",
            "[CV]  learning_rate=0.1, n_estimators=100, AUC=(train=0.921, test=0.337), Accuracy=(train=0.944, test=0.611), F1=(train=0.944, test=0.611), total=  23.2s\n",
            "[CV] learning_rate=0.1, n_estimators=100 .............................\n",
            "[CV]  learning_rate=0.1, n_estimators=100, AUC=(train=0.922, test=0.611), Accuracy=(train=0.941, test=0.908), F1=(train=0.941, test=0.908), total=  23.3s\n",
            "[CV] learning_rate=0.1, n_estimators=100 .............................\n",
            "[CV]  learning_rate=0.1, n_estimators=100, AUC=(train=0.922, test=0.730), Accuracy=(train=0.941, test=0.913), F1=(train=0.941, test=0.913), total=  23.2s\n",
            "[CV] learning_rate=0.1, n_estimators=100 .............................\n",
            "[CV]  learning_rate=0.1, n_estimators=100, AUC=(train=0.909, test=0.869), Accuracy=(train=0.940, test=0.934), F1=(train=0.940, test=0.934), total=  23.5s\n",
            "[CV] learning_rate=0.1, n_estimators=100 .............................\n",
            "[CV]  learning_rate=0.1, n_estimators=100, AUC=(train=0.906, test=0.834), Accuracy=(train=0.939, test=0.921), F1=(train=0.939, test=0.921), total=  23.5s\n",
            "[CV] learning_rate=0.1, n_estimators=100 .............................\n",
            "[CV]  learning_rate=0.1, n_estimators=100, AUC=(train=0.904, test=0.907), Accuracy=(train=0.939, test=0.934), F1=(train=0.939, test=0.934), total=  23.7s\n",
            "[CV] learning_rate=0.1, n_estimators=100 .............................\n",
            "[CV]  learning_rate=0.1, n_estimators=100, AUC=(train=0.901, test=0.929), Accuracy=(train=0.940, test=0.939), F1=(train=0.940, test=0.939), total=  23.7s\n",
            "[CV] learning_rate=0.1, n_estimators=100 .............................\n",
            "[CV]  learning_rate=0.1, n_estimators=100, AUC=(train=0.904, test=0.890), Accuracy=(train=0.941, test=0.892), F1=(train=0.941, test=0.892), total=  23.1s\n",
            "[CV] learning_rate=0.1, n_estimators=100 .............................\n",
            "[CV]  learning_rate=0.1, n_estimators=100, AUC=(train=0.904, test=0.873), Accuracy=(train=0.939, test=0.923), F1=(train=0.939, test=0.923), total=  23.2s\n",
            "[CV] learning_rate=0.1, n_estimators=100 .............................\n",
            "[CV]  learning_rate=0.1, n_estimators=100, AUC=(train=0.913, test=0.419), Accuracy=(train=0.942, test=0.609), F1=(train=0.942, test=0.609), total=  23.8s\n",
            "[CV] learning_rate=0.1, n_estimators=200 .............................\n",
            "[CV]  learning_rate=0.1, n_estimators=200, AUC=(train=0.933, test=0.281), Accuracy=(train=0.951, test=0.065), F1=(train=0.951, test=0.065), total=  47.2s\n",
            "[CV] learning_rate=0.1, n_estimators=200 .............................\n",
            "[CV]  learning_rate=0.1, n_estimators=200, AUC=(train=0.937, test=0.628), Accuracy=(train=0.950, test=0.912), F1=(train=0.950, test=0.912), total=  47.0s\n",
            "[CV] learning_rate=0.1, n_estimators=200 .............................\n",
            "[CV]  learning_rate=0.1, n_estimators=200, AUC=(train=0.934, test=0.656), Accuracy=(train=0.948, test=0.895), F1=(train=0.948, test=0.895), total=  46.5s\n",
            "[CV] learning_rate=0.1, n_estimators=200 .............................\n",
            "[CV]  learning_rate=0.1, n_estimators=200, AUC=(train=0.921, test=0.905), Accuracy=(train=0.947, test=0.940), F1=(train=0.947, test=0.940), total=  46.2s\n",
            "[CV] learning_rate=0.1, n_estimators=200 .............................\n",
            "[CV]  learning_rate=0.1, n_estimators=200, AUC=(train=0.929, test=0.785), Accuracy=(train=0.949, test=0.824), F1=(train=0.949, test=0.824), total=  46.2s\n",
            "[CV] learning_rate=0.1, n_estimators=200 .............................\n",
            "[CV]  learning_rate=0.1, n_estimators=200, AUC=(train=0.922, test=0.872), Accuracy=(train=0.948, test=0.915), F1=(train=0.948, test=0.915), total=  46.3s\n",
            "[CV] learning_rate=0.1, n_estimators=200 .............................\n",
            "[CV]  learning_rate=0.1, n_estimators=200, AUC=(train=0.920, test=0.921), Accuracy=(train=0.948, test=0.941), F1=(train=0.948, test=0.941), total=  46.7s\n",
            "[CV] learning_rate=0.1, n_estimators=200 .............................\n",
            "[CV]  learning_rate=0.1, n_estimators=200, AUC=(train=0.924, test=0.861), Accuracy=(train=0.949, test=0.883), F1=(train=0.949, test=0.883), total=  46.4s\n",
            "[CV] learning_rate=0.1, n_estimators=200 .............................\n",
            "[CV]  learning_rate=0.1, n_estimators=200, AUC=(train=0.919, test=0.907), Accuracy=(train=0.946, test=0.942), F1=(train=0.946, test=0.942), total=  45.9s\n",
            "[CV] learning_rate=0.1, n_estimators=200 .............................\n",
            "[CV]  learning_rate=0.1, n_estimators=200, AUC=(train=0.928, test=0.322), Accuracy=(train=0.950, test=0.076), F1=(train=0.950, test=0.076), total=  45.8s\n",
            "[CV] learning_rate=0.1, n_estimators=500 .............................\n",
            "[CV]  learning_rate=0.1, n_estimators=500, AUC=(train=0.951, test=0.290), Accuracy=(train=0.962, test=0.083), F1=(train=0.962, test=0.083), total= 1.9min\n",
            "[CV] learning_rate=0.1, n_estimators=500 .............................\n",
            "[CV]  learning_rate=0.1, n_estimators=500, AUC=(train=0.957, test=0.462), Accuracy=(train=0.963, test=0.772), F1=(train=0.963, test=0.772), total= 1.9min\n",
            "[CV] learning_rate=0.1, n_estimators=500 .............................\n",
            "[CV]  learning_rate=0.1, n_estimators=500, AUC=(train=0.954, test=0.629), Accuracy=(train=0.961, test=0.859), F1=(train=0.961, test=0.859), total= 1.9min\n",
            "[CV] learning_rate=0.1, n_estimators=500 .............................\n",
            "[CV]  learning_rate=0.1, n_estimators=500, AUC=(train=0.945, test=0.860), Accuracy=(train=0.959, test=0.915), F1=(train=0.959, test=0.915), total= 1.9min\n",
            "[CV] learning_rate=0.1, n_estimators=500 .............................\n",
            "[CV]  learning_rate=0.1, n_estimators=500, AUC=(train=0.944, test=0.874), Accuracy=(train=0.958, test=0.890), F1=(train=0.958, test=0.890), total= 1.9min\n",
            "[CV] learning_rate=0.1, n_estimators=500 .............................\n",
            "[CV]  learning_rate=0.1, n_estimators=500, AUC=(train=0.944, test=0.865), Accuracy=(train=0.960, test=0.893), F1=(train=0.960, test=0.893), total= 1.9min\n",
            "[CV] learning_rate=0.1, n_estimators=500 .............................\n",
            "[CV]  learning_rate=0.1, n_estimators=500, AUC=(train=0.942, test=0.897), Accuracy=(train=0.958, test=0.892), F1=(train=0.958, test=0.892), total= 1.9min\n",
            "[CV] learning_rate=0.1, n_estimators=500 .............................\n",
            "[CV]  learning_rate=0.1, n_estimators=500, AUC=(train=0.946, test=0.843), Accuracy=(train=0.960, test=0.849), F1=(train=0.960, test=0.849), total= 1.9min\n",
            "[CV] learning_rate=0.1, n_estimators=500 .............................\n",
            "[CV]  learning_rate=0.1, n_estimators=500, AUC=(train=0.942, test=0.863), Accuracy=(train=0.958, test=0.888), F1=(train=0.958, test=0.888), total= 1.9min\n",
            "[CV] learning_rate=0.1, n_estimators=500 .............................\n",
            "[CV]  learning_rate=0.1, n_estimators=500, AUC=(train=0.947, test=0.347), Accuracy=(train=0.960, test=0.106), F1=(train=0.960, test=0.106), total= 1.9min\n",
            "[CV] learning_rate=0.1, n_estimators=700 .............................\n",
            "[CV]  learning_rate=0.1, n_estimators=700, AUC=(train=0.959, test=0.314), Accuracy=(train=0.967, test=0.095), F1=(train=0.967, test=0.095), total= 2.7min\n",
            "[CV] learning_rate=0.1, n_estimators=700 .............................\n",
            "[CV]  learning_rate=0.1, n_estimators=700, AUC=(train=0.962, test=0.437), Accuracy=(train=0.968, test=0.679), F1=(train=0.968, test=0.679), total= 2.7min\n",
            "[CV] learning_rate=0.1, n_estimators=700 .............................\n",
            "[CV]  learning_rate=0.1, n_estimators=700, AUC=(train=0.959, test=0.616), Accuracy=(train=0.965, test=0.859), F1=(train=0.965, test=0.859), total= 2.6min\n",
            "[CV] learning_rate=0.1, n_estimators=700 .............................\n",
            "[CV]  learning_rate=0.1, n_estimators=700, AUC=(train=0.953, test=0.821), Accuracy=(train=0.963, test=0.881), F1=(train=0.963, test=0.881), total= 2.6min\n",
            "[CV] learning_rate=0.1, n_estimators=700 .............................\n",
            "[CV]  learning_rate=0.1, n_estimators=700, AUC=(train=0.952, test=0.833), Accuracy=(train=0.962, test=0.852), F1=(train=0.962, test=0.852), total= 2.6min\n",
            "[CV] learning_rate=0.1, n_estimators=700 .............................\n",
            "[CV]  learning_rate=0.1, n_estimators=700, AUC=(train=0.952, test=0.853), Accuracy=(train=0.964, test=0.878), F1=(train=0.964, test=0.878), total= 2.6min\n",
            "[CV] learning_rate=0.1, n_estimators=700 .............................\n",
            "[CV]  learning_rate=0.1, n_estimators=700, AUC=(train=0.947, test=0.929), Accuracy=(train=0.962, test=0.934), F1=(train=0.962, test=0.934), total= 2.6min\n",
            "[CV] learning_rate=0.1, n_estimators=700 .............................\n",
            "[CV]  learning_rate=0.1, n_estimators=700, AUC=(train=0.954, test=0.808), Accuracy=(train=0.964, test=0.820), F1=(train=0.964, test=0.820), total= 2.7min\n",
            "[CV] learning_rate=0.1, n_estimators=700 .............................\n",
            "[CV]  learning_rate=0.1, n_estimators=700, AUC=(train=0.950, test=0.880), Accuracy=(train=0.961, test=0.910), F1=(train=0.961, test=0.910), total= 2.7min\n",
            "[CV] learning_rate=0.1, n_estimators=700 .............................\n",
            "[CV]  learning_rate=0.1, n_estimators=700, AUC=(train=0.954, test=0.312), Accuracy=(train=0.964, test=0.085), F1=(train=0.964, test=0.085), total= 2.7min\n",
            "[CV] learning_rate=1, n_estimators=100 ...............................\n",
            "[CV]  learning_rate=1, n_estimators=100, AUC=(train=0.946, test=0.194), Accuracy=(train=0.962, test=0.086), F1=(train=0.962, test=0.086), total=  23.6s\n",
            "[CV] learning_rate=1, n_estimators=100 ...............................\n",
            "[CV]  learning_rate=1, n_estimators=100, AUC=(train=0.955, test=0.471), Accuracy=(train=0.963, test=0.651), F1=(train=0.963, test=0.651), total=  23.2s\n",
            "[CV] learning_rate=1, n_estimators=100 ...............................\n",
            "[CV]  learning_rate=1, n_estimators=100, AUC=(train=0.950, test=0.432), Accuracy=(train=0.963, test=0.378), F1=(train=0.963, test=0.378), total=  23.4s\n",
            "[CV] learning_rate=1, n_estimators=100 ...............................\n",
            "[CV]  learning_rate=1, n_estimators=100, AUC=(train=0.942, test=0.664), Accuracy=(train=0.961, test=0.439), F1=(train=0.961, test=0.439), total=  22.8s\n",
            "[CV] learning_rate=1, n_estimators=100 ...............................\n",
            "[CV]  learning_rate=1, n_estimators=100, AUC=(train=0.941, test=0.523), Accuracy=(train=0.961, test=0.274), F1=(train=0.961, test=0.274), total=  23.4s\n",
            "[CV] learning_rate=1, n_estimators=100 ...............................\n",
            "[CV]  learning_rate=1, n_estimators=100, AUC=(train=0.942, test=0.673), Accuracy=(train=0.961, test=0.559), F1=(train=0.961, test=0.559), total=  22.9s\n",
            "[CV] learning_rate=1, n_estimators=100 ...............................\n",
            "[CV]  learning_rate=1, n_estimators=100, AUC=(train=0.927, test=0.754), Accuracy=(train=0.955, test=0.794), F1=(train=0.955, test=0.794), total=  22.9s\n",
            "[CV] learning_rate=1, n_estimators=100 ...............................\n",
            "[CV]  learning_rate=1, n_estimators=100, AUC=(train=0.940, test=0.770), Accuracy=(train=0.961, test=0.802), F1=(train=0.961, test=0.802), total=  23.0s\n",
            "[CV] learning_rate=1, n_estimators=100 ...............................\n",
            "[CV]  learning_rate=1, n_estimators=100, AUC=(train=0.934, test=0.793), Accuracy=(train=0.957, test=0.789), F1=(train=0.957, test=0.789), total=  23.3s\n",
            "[CV] learning_rate=1, n_estimators=100 ...............................\n",
            "[CV]  learning_rate=1, n_estimators=100, AUC=(train=0.948, test=0.242), Accuracy=(train=0.962, test=0.093), F1=(train=0.962, test=0.093), total=  22.9s\n",
            "[CV] learning_rate=1, n_estimators=200 ...............................\n",
            "[CV]  learning_rate=1, n_estimators=200, AUC=(train=0.968, test=0.327), Accuracy=(train=0.972, test=0.096), F1=(train=0.972, test=0.096), total=  46.7s\n",
            "[CV] learning_rate=1, n_estimators=200 ...............................\n",
            "[CV]  learning_rate=1, n_estimators=200, AUC=(train=0.972, test=0.372), Accuracy=(train=0.973, test=0.310), F1=(train=0.973, test=0.310), total=  46.4s\n",
            "[CV] learning_rate=1, n_estimators=200 ...............................\n",
            "[CV]  learning_rate=1, n_estimators=200, AUC=(train=0.964, test=0.514), Accuracy=(train=0.971, test=0.426), F1=(train=0.971, test=0.426), total=  46.5s\n",
            "[CV] learning_rate=1, n_estimators=200 ...............................\n",
            "[CV]  learning_rate=1, n_estimators=200, AUC=(train=0.958, test=0.757), Accuracy=(train=0.968, test=0.652), F1=(train=0.968, test=0.652), total=  46.2s\n",
            "[CV] learning_rate=1, n_estimators=200 ...............................\n",
            "[CV]  learning_rate=1, n_estimators=200, AUC=(train=0.961, test=0.631), Accuracy=(train=0.969, test=0.279), F1=(train=0.969, test=0.279), total=  46.5s\n",
            "[CV] learning_rate=1, n_estimators=200 ...............................\n",
            "[CV]  learning_rate=1, n_estimators=200, AUC=(train=0.947, test=0.830), Accuracy=(train=0.962, test=0.868), F1=(train=0.962, test=0.868), total=  46.6s\n",
            "[CV] learning_rate=1, n_estimators=200 ...............................\n",
            "[CV]  learning_rate=1, n_estimators=200, AUC=(train=0.960, test=0.821), Accuracy=(train=0.969, test=0.708), F1=(train=0.969, test=0.708), total=  47.6s\n",
            "[CV] learning_rate=1, n_estimators=200 ...............................\n",
            "[CV]  learning_rate=1, n_estimators=200, AUC=(train=0.959, test=0.710), Accuracy=(train=0.968, test=0.535), F1=(train=0.968, test=0.535), total=  46.5s\n",
            "[CV] learning_rate=1, n_estimators=200 ...............................\n",
            "[CV]  learning_rate=1, n_estimators=200, AUC=(train=0.960, test=0.768), Accuracy=(train=0.968, test=0.768), F1=(train=0.968, test=0.768), total=  46.1s\n",
            "[CV] learning_rate=1, n_estimators=200 ...............................\n",
            "[CV]  learning_rate=1, n_estimators=200, AUC=(train=0.951, test=0.328), Accuracy=(train=0.965, test=0.139), F1=(train=0.965, test=0.139), total=  46.9s\n",
            "[CV] learning_rate=1, n_estimators=500 ...............................\n",
            "[CV]  learning_rate=1, n_estimators=500, AUC=(train=0.962, test=0.361), Accuracy=(train=0.973, test=0.196), F1=(train=0.973, test=0.196), total= 1.9min\n",
            "[CV] learning_rate=1, n_estimators=500 ...............................\n",
            "[CV]  learning_rate=1, n_estimators=500, AUC=(train=0.968, test=0.379), Accuracy=(train=0.975, test=0.288), F1=(train=0.975, test=0.288), total= 1.9min\n",
            "[CV] learning_rate=1, n_estimators=500 ...............................\n",
            "[CV]  learning_rate=1, n_estimators=500, AUC=(train=0.966, test=0.511), Accuracy=(train=0.972, test=0.411), F1=(train=0.972, test=0.411), total= 1.9min\n",
            "[CV] learning_rate=1, n_estimators=500 ...............................\n",
            "[CV]  learning_rate=1, n_estimators=500, AUC=(train=0.604, test=0.590), Accuracy=(train=0.842, test=0.844), F1=(train=0.842, test=0.844), total= 1.9min\n",
            "[CV] learning_rate=1, n_estimators=500 ...............................\n",
            "[CV]  learning_rate=1, n_estimators=500, AUC=(train=0.944, test=0.561), Accuracy=(train=0.965, test=0.220), F1=(train=0.965, test=0.220), total= 1.9min\n",
            "[CV] learning_rate=1, n_estimators=500 ...............................\n",
            "[CV]  learning_rate=1, n_estimators=500, AUC=(train=0.946, test=0.796), Accuracy=(train=0.970, test=0.618), F1=(train=0.970, test=0.618), total= 1.9min\n",
            "[CV] learning_rate=1, n_estimators=500 ...............................\n",
            "[CV]  learning_rate=1, n_estimators=500, AUC=(train=0.979, test=0.826), Accuracy=(train=0.980, test=0.649), F1=(train=0.980, test=0.649), total= 1.9min\n",
            "[CV] learning_rate=1, n_estimators=500 ...............................\n",
            "[CV]  learning_rate=1, n_estimators=500, AUC=(train=0.922, test=0.667), Accuracy=(train=0.959, test=0.558), F1=(train=0.959, test=0.558), total= 1.9min\n",
            "[CV] learning_rate=1, n_estimators=500 ...............................\n",
            "[CV]  learning_rate=1, n_estimators=500, AUC=(train=0.950, test=0.723), Accuracy=(train=0.968, test=0.485), F1=(train=0.968, test=0.485), total= 1.9min\n",
            "[CV] learning_rate=1, n_estimators=500 ...............................\n",
            "[CV]  learning_rate=1, n_estimators=500, AUC=(train=0.937, test=0.209), Accuracy=(train=0.963, test=0.174), F1=(train=0.963, test=0.174), total= 1.9min\n",
            "[CV] learning_rate=1, n_estimators=700 ...............................\n",
            "[CV]  learning_rate=1, n_estimators=700, AUC=(train=0.953, test=0.363), Accuracy=(train=0.972, test=0.176), F1=(train=0.972, test=0.176), total= 2.7min\n",
            "[CV] learning_rate=1, n_estimators=700 ...............................\n",
            "[CV]  learning_rate=1, n_estimators=700, AUC=(train=0.927, test=0.359), Accuracy=(train=0.964, test=0.256), F1=(train=0.964, test=0.256), total= 2.7min\n",
            "[CV] learning_rate=1, n_estimators=700 ...............................\n",
            "[CV]  learning_rate=1, n_estimators=700, AUC=(train=0.960, test=0.514), Accuracy=(train=0.971, test=0.468), F1=(train=0.971, test=0.468), total= 2.7min\n",
            "[CV] learning_rate=1, n_estimators=700 ...............................\n",
            "[CV]  learning_rate=1, n_estimators=700, AUC=(train=0.876, test=0.706), Accuracy=(train=0.953, test=0.505), F1=(train=0.953, test=0.505), total= 2.6min\n",
            "[CV] learning_rate=1, n_estimators=700 ...............................\n",
            "[CV]  learning_rate=1, n_estimators=700, AUC=(train=0.965, test=0.680), Accuracy=(train=0.974, test=0.518), F1=(train=0.974, test=0.518), total= 2.7min\n",
            "[CV] learning_rate=1, n_estimators=700 ...............................\n",
            "[CV]  learning_rate=1, n_estimators=700, AUC=(train=0.964, test=0.764), Accuracy=(train=0.973, test=0.550), F1=(train=0.973, test=0.550), total= 2.7min\n",
            "[CV] learning_rate=1, n_estimators=700 ...............................\n",
            "[CV]  learning_rate=1, n_estimators=700, AUC=(train=0.964, test=0.827), Accuracy=(train=0.973, test=0.694), F1=(train=0.973, test=0.694), total= 2.7min\n",
            "[CV] learning_rate=1, n_estimators=700 ...............................\n",
            "[CV]  learning_rate=1, n_estimators=700, AUC=(train=0.951, test=0.666), Accuracy=(train=0.971, test=0.429), F1=(train=0.971, test=0.429), total= 2.7min\n",
            "[CV] learning_rate=1, n_estimators=700 ...............................\n",
            "[CV]  learning_rate=1, n_estimators=700, AUC=(train=0.939, test=0.790), Accuracy=(train=0.970, test=0.617), F1=(train=0.970, test=0.617), total= 2.7min\n",
            "[CV] learning_rate=1, n_estimators=700 ...............................\n",
            "[CV]  learning_rate=1, n_estimators=700, AUC=(train=0.958, test=0.338), Accuracy=(train=0.969, test=0.154), F1=(train=0.969, test=0.154), total= 2.7min\n",
            "[CV] learning_rate=1.5, n_estimators=100 .............................\n",
            "[CV]  learning_rate=1.5, n_estimators=100, AUC=(train=0.910, test=0.264), Accuracy=(train=0.952, test=0.148), F1=(train=0.952, test=0.148), total=  23.5s\n",
            "[CV] learning_rate=1.5, n_estimators=100 .............................\n",
            "[CV]  learning_rate=1.5, n_estimators=100, AUC=(train=0.890, test=0.380), Accuracy=(train=0.945, test=0.301), F1=(train=0.945, test=0.301), total=  23.5s\n",
            "[CV] learning_rate=1.5, n_estimators=100 .............................\n",
            "[CV]  learning_rate=1.5, n_estimators=100, AUC=(train=0.927, test=0.482), Accuracy=(train=0.958, test=0.483), F1=(train=0.958, test=0.483), total=  23.6s\n",
            "[CV] learning_rate=1.5, n_estimators=100 .............................\n",
            "[CV]  learning_rate=1.5, n_estimators=100, AUC=(train=0.913, test=0.718), Accuracy=(train=0.955, test=0.632), F1=(train=0.955, test=0.632), total=  23.6s\n",
            "[CV] learning_rate=1.5, n_estimators=100 .............................\n",
            "[CV]  learning_rate=1.5, n_estimators=100, AUC=(train=0.920, test=0.698), Accuracy=(train=0.955, test=0.476), F1=(train=0.955, test=0.476), total=  23.7s\n",
            "[CV] learning_rate=1.5, n_estimators=100 .............................\n",
            "[CV]  learning_rate=1.5, n_estimators=100, AUC=(train=0.832, test=0.547), Accuracy=(train=0.929, test=0.339), F1=(train=0.929, test=0.339), total=  23.5s\n",
            "[CV] learning_rate=1.5, n_estimators=100 .............................\n",
            "[CV]  learning_rate=1.5, n_estimators=100, AUC=(train=0.832, test=0.662), Accuracy=(train=0.931, test=0.620), F1=(train=0.931, test=0.620), total=  22.9s\n",
            "[CV] learning_rate=1.5, n_estimators=100 .............................\n",
            "[CV]  learning_rate=1.5, n_estimators=100, AUC=(train=0.760, test=0.668), Accuracy=(train=0.923, test=0.678), F1=(train=0.923, test=0.678), total=  23.4s\n",
            "[CV] learning_rate=1.5, n_estimators=100 .............................\n",
            "[CV]  learning_rate=1.5, n_estimators=100, AUC=(train=0.924, test=0.759), Accuracy=(train=0.954, test=0.657), F1=(train=0.954, test=0.657), total=  23.7s\n",
            "[CV] learning_rate=1.5, n_estimators=100 .............................\n",
            "[CV]  learning_rate=1.5, n_estimators=100, AUC=(train=0.889, test=0.153), Accuracy=(train=0.946, test=0.089), F1=(train=0.946, test=0.089), total=  23.5s\n",
            "[CV] learning_rate=1.5, n_estimators=200 .............................\n",
            "[CV]  learning_rate=1.5, n_estimators=200, AUC=(train=0.886, test=0.290), Accuracy=(train=0.943, test=0.100), F1=(train=0.943, test=0.100), total=  47.5s\n",
            "[CV] learning_rate=1.5, n_estimators=200 .............................\n",
            "[CV]  learning_rate=1.5, n_estimators=200, AUC=(train=0.929, test=0.407), Accuracy=(train=0.962, test=0.291), F1=(train=0.962, test=0.291), total=  47.2s\n",
            "[CV] learning_rate=1.5, n_estimators=200 .............................\n",
            "[CV]  learning_rate=1.5, n_estimators=200, AUC=(train=0.801, test=0.528), Accuracy=(train=0.930, test=0.652), F1=(train=0.930, test=0.652), total=  46.9s\n",
            "[CV] learning_rate=1.5, n_estimators=200 .............................\n",
            "[CV]  learning_rate=1.5, n_estimators=200, AUC=(train=0.873, test=0.629), Accuracy=(train=0.914, test=0.350), F1=(train=0.914, test=0.350), total=  46.9s\n",
            "[CV] learning_rate=1.5, n_estimators=200 .............................\n",
            "[CV]  learning_rate=1.5, n_estimators=200, AUC=(train=0.926, test=0.749), Accuracy=(train=0.957, test=0.639), F1=(train=0.957, test=0.639), total=  46.9s\n",
            "[CV] learning_rate=1.5, n_estimators=200 .............................\n",
            "[CV]  learning_rate=1.5, n_estimators=200, AUC=(train=0.920, test=0.565), Accuracy=(train=0.957, test=0.317), F1=(train=0.957, test=0.317), total=  47.1s\n",
            "[CV] learning_rate=1.5, n_estimators=200 .............................\n",
            "[CV]  learning_rate=1.5, n_estimators=200, AUC=(train=0.841, test=0.856), Accuracy=(train=0.935, test=0.928), F1=(train=0.935, test=0.928), total=  46.8s\n",
            "[CV] learning_rate=1.5, n_estimators=200 .............................\n",
            "[CV]  learning_rate=1.5, n_estimators=200, AUC=(train=0.855, test=0.484), Accuracy=(train=0.945, test=0.297), F1=(train=0.945, test=0.297), total=  46.6s\n",
            "[CV] learning_rate=1.5, n_estimators=200 .............................\n",
            "[CV]  learning_rate=1.5, n_estimators=200, AUC=(train=0.936, test=0.704), Accuracy=(train=0.961, test=0.635), F1=(train=0.961, test=0.635), total=  47.1s\n",
            "[CV] learning_rate=1.5, n_estimators=200 .............................\n",
            "[CV]  learning_rate=1.5, n_estimators=200, AUC=(train=0.939, test=0.347), Accuracy=(train=0.962, test=0.125), F1=(train=0.962, test=0.125), total=  47.1s\n",
            "[CV] learning_rate=1.5, n_estimators=500 .............................\n",
            "[CV]  learning_rate=1.5, n_estimators=500, AUC=(train=0.910, test=0.248), Accuracy=(train=0.956, test=0.098), F1=(train=0.956, test=0.098), total= 2.0min\n",
            "[CV] learning_rate=1.5, n_estimators=500 .............................\n",
            "[CV]  learning_rate=1.5, n_estimators=500, AUC=(train=0.864, test=0.435), Accuracy=(train=0.944, test=0.369), F1=(train=0.944, test=0.369), total= 2.0min\n",
            "[CV] learning_rate=1.5, n_estimators=500 .............................\n",
            "[CV]  learning_rate=1.5, n_estimators=500, AUC=(train=0.922, test=0.524), Accuracy=(train=0.956, test=0.460), F1=(train=0.956, test=0.460), total= 2.0min\n",
            "[CV] learning_rate=1.5, n_estimators=500 .............................\n",
            "[CV]  learning_rate=1.5, n_estimators=500, AUC=(train=0.806, test=0.674), Accuracy=(train=0.941, test=0.617), F1=(train=0.941, test=0.617), total= 1.9min\n",
            "[CV] learning_rate=1.5, n_estimators=500 .............................\n",
            "[CV]  learning_rate=1.5, n_estimators=500, AUC=(train=0.888, test=0.764), Accuracy=(train=0.950, test=0.654), F1=(train=0.950, test=0.654), total= 2.0min\n",
            "[CV] learning_rate=1.5, n_estimators=500 .............................\n",
            "[CV]  learning_rate=1.5, n_estimators=500, AUC=(train=0.875, test=0.715), Accuracy=(train=0.948, test=0.619), F1=(train=0.948, test=0.619), total= 1.9min\n",
            "[CV] learning_rate=1.5, n_estimators=500 .............................\n",
            "[CV]  learning_rate=1.5, n_estimators=500, AUC=(train=0.595, test=0.589), Accuracy=(train=0.161, test=0.158), F1=(train=0.161, test=0.158), total= 1.9min\n",
            "[CV] learning_rate=1.5, n_estimators=500 .............................\n",
            "[CV]  learning_rate=1.5, n_estimators=500, AUC=(train=0.587, test=0.605), Accuracy=(train=0.200, test=0.247), F1=(train=0.200, test=0.247), total= 1.9min\n",
            "[CV] learning_rate=1.5, n_estimators=500 .............................\n",
            "[CV]  learning_rate=1.5, n_estimators=500, AUC=(train=0.835, test=0.775), Accuracy=(train=0.924, test=0.738), F1=(train=0.924, test=0.738), total= 2.0min\n",
            "[CV] learning_rate=1.5, n_estimators=500 .............................\n",
            "[CV]  learning_rate=1.5, n_estimators=500, AUC=(train=0.725, test=0.466), Accuracy=(train=0.837, test=0.184), F1=(train=0.837, test=0.184), total= 1.9min\n",
            "[CV] learning_rate=1.5, n_estimators=700 .............................\n",
            "[CV]  learning_rate=1.5, n_estimators=700, AUC=(train=0.739, test=0.315), Accuracy=(train=0.907, test=0.145), F1=(train=0.907, test=0.145), total= 2.7min\n",
            "[CV] learning_rate=1.5, n_estimators=700 .............................\n",
            "[CV]  learning_rate=1.5, n_estimators=700, AUC=(train=0.571, test=0.506), Accuracy=(train=0.260, test=0.161), F1=(train=0.260, test=0.161), total= 2.7min\n",
            "[CV] learning_rate=1.5, n_estimators=700 .............................\n",
            "[CV]  learning_rate=1.5, n_estimators=700, AUC=(train=0.609, test=0.557), Accuracy=(train=0.873, test=0.871), F1=(train=0.873, test=0.871), total= 2.7min\n",
            "[CV] learning_rate=1.5, n_estimators=700 .............................\n",
            "[CV]  learning_rate=1.5, n_estimators=700, AUC=(train=0.933, test=0.613), Accuracy=(train=0.960, test=0.283), F1=(train=0.960, test=0.283), total= 2.7min\n",
            "[CV] learning_rate=1.5, n_estimators=700 .............................\n",
            "[CV]  learning_rate=1.5, n_estimators=700, AUC=(train=0.535, test=0.484), Accuracy=(train=0.221, test=0.206), F1=(train=0.221, test=0.206), total= 2.7min\n",
            "[CV] learning_rate=1.5, n_estimators=700 .............................\n",
            "[CV]  learning_rate=1.5, n_estimators=700, AUC=(train=0.896, test=0.678), Accuracy=(train=0.953, test=0.532), F1=(train=0.953, test=0.532), total= 2.7min\n",
            "[CV] learning_rate=1.5, n_estimators=700 .............................\n",
            "[CV]  learning_rate=1.5, n_estimators=700, AUC=(train=0.411, test=0.404), Accuracy=(train=0.170, test=0.167), F1=(train=0.170, test=0.167), total= 2.7min\n",
            "[CV] learning_rate=1.5, n_estimators=700 .............................\n",
            "[CV]  learning_rate=1.5, n_estimators=700, AUC=(train=0.558, test=0.567), Accuracy=(train=0.901, test=0.908), F1=(train=0.901, test=0.908), total= 2.7min\n",
            "[CV] learning_rate=1.5, n_estimators=700 .............................\n",
            "[CV]  learning_rate=1.5, n_estimators=700, AUC=(train=0.498, test=0.463), Accuracy=(train=0.198, test=0.187), F1=(train=0.198, test=0.187), total= 2.7min\n",
            "[CV] learning_rate=1.5, n_estimators=700 .............................\n",
            "[CV]  learning_rate=1.5, n_estimators=700, AUC=(train=0.913, test=0.282), Accuracy=(train=0.957, test=0.136), F1=(train=0.957, test=0.136), total= 2.7min\n"
          ]
        },
        {
          "name": "stderr",
          "output_type": "stream",
          "text": [
            "[Parallel(n_jobs=1)]: Done 160 out of 160 | elapsed: 236.8min finished\n"
          ]
        },
        {
          "name": "stdout",
          "output_type": "stream",
          "text": [
            "\n",
            " Time taken: 3 hours 57 minutes and 11.74 seconds.\n"
          ]
        }
      ]
    },
    {
      "cell_type": "markdown",
      "metadata": {
        "id": "qyAs40RuLwLx"
      },
      "source": [
        "With some code you can observe as well, the best parameter and the training score obtained for that dataset."
      ]
    },
    {
      "cell_type": "code",
      "metadata": {
        "colab": {
          "base_uri": "https://localhost:8080/"
        },
        "id": "x-RG0Z7zoeKX",
        "outputId": "8b49ebc1-67cc-44e6-c4db-453d1422734a"
      },
      "source": [
        "gsearch1.best_params_, gsearch1.best_score_\n"
      ],
      "execution_count": null,
      "outputs": [
        {
          "data": {
            "text/plain": [
              "({'learning_rate': 0.01, 'n_estimators': 100}, 0.7920290641165992)"
            ]
          },
          "execution_count": 32,
          "metadata": {},
          "output_type": "execute_result"
        }
      ]
    },
    {
      "cell_type": "markdown",
      "metadata": {
        "id": "GDokRca0f97h"
      },
      "source": [
        "## **B. max_depth**"
      ]
    },
    {
      "cell_type": "code",
      "metadata": {
        "id": "eWl4IPi8Frq_"
      },
      "source": [
        "gbc3 = GradientBoostingClassifier(random_state=10, max_features = 'sqrt', learning_rate=0.01, n_estimators=100)\n",
        "parameters3 = {\n",
        "    \"max_depth\":[15,20,25,35]\n",
        "}\n",
        "scoring3 = {'AUC': 'roc_auc', 'Accuracy': make_scorer(accuracy_score), 'F1':make_scorer(f1_score, average='micro')}"
      ],
      "execution_count": null,
      "outputs": []
    },
    {
      "cell_type": "code",
      "metadata": {
        "colab": {
          "base_uri": "https://localhost:8080/"
        },
        "id": "MvrUdcKA2WAf",
        "outputId": "d4b33426-2e16-4fba-c970-0a22d9519e2c"
      },
      "source": [
        "\n",
        "start_time = timer(None) # timing starts from this point for \"start_time\" variable\n",
        "gsearch3 = GridSearchCV(estimator=gbc3,param_grid=parameters3,scoring=scoring3, cv=8, verbose=3, refit='AUC', return_train_score=True)\n",
        "gsearch3.fit(X,Y)\n",
        "timer(start_time) # timing ends here for \"start_time\" variable"
      ],
      "execution_count": null,
      "outputs": [
        {
          "name": "stdout",
          "output_type": "stream",
          "text": [
            "Fitting 8 folds for each of 4 candidates, totalling 32 fits\n",
            "[CV] max_depth=15 ....................................................\n"
          ]
        },
        {
          "name": "stderr",
          "output_type": "stream",
          "text": [
            "[Parallel(n_jobs=1)]: Using backend SequentialBackend with 1 concurrent workers.\n"
          ]
        },
        {
          "name": "stdout",
          "output_type": "stream",
          "text": [
            "[CV]  max_depth=15, AUC=(train=0.974, test=0.466), Accuracy=(train=0.968, test=0.861), F1=(train=0.968, test=0.861), total= 1.8min\n",
            "[CV] max_depth=15 ....................................................\n"
          ]
        },
        {
          "name": "stderr",
          "output_type": "stream",
          "text": [
            "[Parallel(n_jobs=1)]: Done   1 out of   1 | elapsed:  1.8min remaining:    0.0s\n"
          ]
        },
        {
          "name": "stdout",
          "output_type": "stream",
          "text": [
            "[CV]  max_depth=15, AUC=(train=0.981, test=0.627), Accuracy=(train=0.971, test=0.932), F1=(train=0.971, test=0.932), total= 1.8min\n",
            "[CV] max_depth=15 ....................................................\n"
          ]
        },
        {
          "name": "stderr",
          "output_type": "stream",
          "text": [
            "[Parallel(n_jobs=1)]: Done   2 out of   2 | elapsed:  3.7min remaining:    0.0s\n"
          ]
        },
        {
          "name": "stdout",
          "output_type": "stream",
          "text": [
            "[CV]  max_depth=15, AUC=(train=0.973, test=0.867), Accuracy=(train=0.966, test=0.951), F1=(train=0.966, test=0.951), total= 1.8min\n",
            "[CV] max_depth=15 ....................................................\n",
            "[CV]  max_depth=15, AUC=(train=0.971, test=0.929), Accuracy=(train=0.966, test=0.944), F1=(train=0.966, test=0.944), total= 1.8min\n",
            "[CV] max_depth=15 ....................................................\n",
            "[CV]  max_depth=15, AUC=(train=0.967, test=0.935), Accuracy=(train=0.964, test=0.953), F1=(train=0.964, test=0.953), total= 1.8min\n",
            "[CV] max_depth=15 ....................................................\n",
            "[CV]  max_depth=15, AUC=(train=0.965, test=0.944), Accuracy=(train=0.965, test=0.932), F1=(train=0.965, test=0.932), total= 1.8min\n",
            "[CV] max_depth=15 ....................................................\n",
            "[CV]  max_depth=15, AUC=(train=0.968, test=0.938), Accuracy=(train=0.966, test=0.954), F1=(train=0.966, test=0.954), total= 1.8min\n",
            "[CV] max_depth=15 ....................................................\n",
            "[CV]  max_depth=15, AUC=(train=0.965, test=0.627), Accuracy=(train=0.964, test=0.726), F1=(train=0.964, test=0.726), total= 1.8min\n",
            "[CV] max_depth=20 ....................................................\n",
            "[CV]  max_depth=20, AUC=(train=0.992, test=0.459), Accuracy=(train=0.984, test=0.594), F1=(train=0.984, test=0.594), total= 2.5min\n",
            "[CV] max_depth=20 ....................................................\n",
            "[CV]  max_depth=20, AUC=(train=0.994, test=0.595), Accuracy=(train=0.984, test=0.934), F1=(train=0.984, test=0.934), total= 2.6min\n",
            "[CV] max_depth=20 ....................................................\n",
            "[CV]  max_depth=20, AUC=(train=0.990, test=0.869), Accuracy=(train=0.981, test=0.959), F1=(train=0.981, test=0.959), total= 2.6min\n",
            "[CV] max_depth=20 ....................................................\n",
            "[CV]  max_depth=20, AUC=(train=0.991, test=0.936), Accuracy=(train=0.980, test=0.953), F1=(train=0.980, test=0.953), total= 2.5min\n",
            "[CV] max_depth=20 ....................................................\n",
            "[CV]  max_depth=20, AUC=(train=0.988, test=0.944), Accuracy=(train=0.979, test=0.960), F1=(train=0.979, test=0.960), total= 2.6min\n",
            "[CV] max_depth=20 ....................................................\n",
            "[CV]  max_depth=20, AUC=(train=0.987, test=0.956), Accuracy=(train=0.979, test=0.941), F1=(train=0.979, test=0.941), total= 2.5min\n",
            "[CV] max_depth=20 ....................................................\n",
            "[CV]  max_depth=20, AUC=(train=0.989, test=0.950), Accuracy=(train=0.979, test=0.956), F1=(train=0.979, test=0.956), total= 2.6min\n",
            "[CV] max_depth=20 ....................................................\n",
            "[CV]  max_depth=20, AUC=(train=0.987, test=0.600), Accuracy=(train=0.980, test=0.505), F1=(train=0.980, test=0.505), total= 2.5min\n",
            "[CV] max_depth=25 ....................................................\n",
            "[CV]  max_depth=25, AUC=(train=0.998, test=0.436), Accuracy=(train=0.988, test=0.420), F1=(train=0.988, test=0.420), total= 3.1min\n",
            "[CV] max_depth=25 ....................................................\n",
            "[CV]  max_depth=25, AUC=(train=0.999, test=0.575), Accuracy=(train=0.990, test=0.935), F1=(train=0.990, test=0.935), total= 3.1min\n",
            "[CV] max_depth=25 ....................................................\n",
            "[CV]  max_depth=25, AUC=(train=0.999, test=0.864), Accuracy=(train=0.987, test=0.949), F1=(train=0.987, test=0.949), total= 3.1min\n",
            "[CV] max_depth=25 ....................................................\n",
            "[CV]  max_depth=25, AUC=(train=0.998, test=0.925), Accuracy=(train=0.986, test=0.955), F1=(train=0.986, test=0.955), total= 3.2min\n",
            "[CV] max_depth=25 ....................................................\n",
            "[CV]  max_depth=25, AUC=(train=0.998, test=0.947), Accuracy=(train=0.985, test=0.962), F1=(train=0.985, test=0.962), total= 3.2min\n",
            "[CV] max_depth=25 ....................................................\n",
            "[CV]  max_depth=25, AUC=(train=0.997, test=0.962), Accuracy=(train=0.985, test=0.942), F1=(train=0.985, test=0.942), total= 3.2min\n",
            "[CV] max_depth=25 ....................................................\n",
            "[CV]  max_depth=25, AUC=(train=0.997, test=0.957), Accuracy=(train=0.985, test=0.958), F1=(train=0.985, test=0.958), total= 3.2min\n",
            "[CV] max_depth=25 ....................................................\n",
            "[CV]  max_depth=25, AUC=(train=0.997, test=0.558), Accuracy=(train=0.986, test=0.363), F1=(train=0.986, test=0.363), total= 3.1min\n",
            "[CV] max_depth=35 ....................................................\n",
            "[CV]  max_depth=35, AUC=(train=1.000, test=0.434), Accuracy=(train=0.993, test=0.393), F1=(train=0.993, test=0.393), total= 3.6min\n",
            "[CV] max_depth=35 ....................................................\n",
            "[CV]  max_depth=35, AUC=(train=1.000, test=0.538), Accuracy=(train=0.996, test=0.835), F1=(train=0.996, test=0.835), total= 3.6min\n",
            "[CV] max_depth=35 ....................................................\n",
            "[CV]  max_depth=35, AUC=(train=1.000, test=0.861), Accuracy=(train=0.993, test=0.940), F1=(train=0.993, test=0.940), total= 3.7min\n",
            "[CV] max_depth=35 ....................................................\n",
            "[CV]  max_depth=35, AUC=(train=1.000, test=0.907), Accuracy=(train=0.992, test=0.942), F1=(train=0.992, test=0.942), total= 3.7min\n",
            "[CV] max_depth=35 ....................................................\n",
            "[CV]  max_depth=35, AUC=(train=1.000, test=0.941), Accuracy=(train=0.992, test=0.961), F1=(train=0.992, test=0.961), total= 3.8min\n",
            "[CV] max_depth=35 ....................................................\n",
            "[CV]  max_depth=35, AUC=(train=1.000, test=0.961), Accuracy=(train=0.991, test=0.944), F1=(train=0.991, test=0.944), total= 3.8min\n",
            "[CV] max_depth=35 ....................................................\n",
            "[CV]  max_depth=35, AUC=(train=1.000, test=0.961), Accuracy=(train=0.991, test=0.959), F1=(train=0.991, test=0.959), total= 4.6min\n",
            "[CV] max_depth=35 ....................................................\n",
            "[CV]  max_depth=35, AUC=(train=1.000, test=0.570), Accuracy=(train=0.992, test=0.485), F1=(train=0.992, test=0.485), total= 3.8min\n"
          ]
        },
        {
          "name": "stderr",
          "output_type": "stream",
          "text": [
            "[Parallel(n_jobs=1)]: Done  32 out of  32 | elapsed: 92.4min finished\n"
          ]
        },
        {
          "name": "stdout",
          "output_type": "stream",
          "text": [
            "\n",
            " Time taken: 1 hours 34 minutes and 28.69 seconds.\n"
          ]
        }
      ]
    },
    {
      "cell_type": "code",
      "metadata": {
        "colab": {
          "base_uri": "https://localhost:8080/"
        },
        "id": "nRXTcwFVVhoy",
        "outputId": "8b5aef8c-1951-460a-e66c-8a7643d00db2"
      },
      "source": [
        "gsearch3.best_params_, gsearch3.best_score_\n"
      ],
      "execution_count": null,
      "outputs": [
        {
          "data": {
            "text/plain": [
              "({'max_depth': 15}, 0.791754906828281)"
            ]
          },
          "execution_count": 24,
          "metadata": {},
          "output_type": "execute_result"
        }
      ]
    },
    {
      "cell_type": "markdown",
      "metadata": {
        "id": "1E-jErbOfyfY"
      },
      "source": [
        "## **C. min_samples_split y min_samples_leaf**\n",
        "\n"
      ]
    },
    {
      "cell_type": "markdown",
      "metadata": {
        "id": "YAfyJ_HhSVv6"
      },
      "source": [
        "According to Scikit-Learn's documentation, `min_samples_split` specifies the minimum number of samples required to split an internal node, while `min_samples_leaf` specifies the minimum number of samples required to be at a leaf node. For that reason, we choose a random range of numbers to evaluate with GBC."
      ]
    },
    {
      "cell_type": "code",
      "metadata": {
        "id": "H-57yj0TVCEx"
      },
      "source": [
        "gbc4 = GradientBoostingClassifier(random_state=10, max_features = 'sqrt', learning_rate=0.01, n_estimators=100, max_depth=15)\n",
        "parameters4 = {\n",
        "    'min_samples_split':[2,4,6,10,40,100], \n",
        "    'min_samples_leaf':[1,3,5,7]\n",
        "}\n",
        "scoring4 = {'AUC': 'roc_auc', 'Accuracy': make_scorer(accuracy_score), 'F1':make_scorer(f1_score, average='micro')}"
      ],
      "execution_count": null,
      "outputs": []
    },
    {
      "cell_type": "code",
      "metadata": {
        "colab": {
          "base_uri": "https://localhost:8080/"
        },
        "id": "qWckIViZGL_O",
        "outputId": "e6576938-2ce4-4029-c826-69c877732a9d"
      },
      "source": [
        "start_time = timer(None) # timing starts from this point for \"start_time\" variable\n",
        "gsearch4 = GridSearchCV(estimator=gbc4,param_grid=parameters4,scoring=scoring4, cv=8, verbose=3, refit='AUC', return_train_score=True)\n",
        "gsearch4.fit(X,Y)\n",
        "timer(start_time) # timing ends here for \"start_time\" variable"
      ],
      "execution_count": null,
      "outputs": [
        {
          "name": "stdout",
          "output_type": "stream",
          "text": [
            "Fitting 8 folds for each of 24 candidates, totalling 192 fits\n",
            "[CV] min_samples_leaf=1, min_samples_split=2 .........................\n"
          ]
        },
        {
          "name": "stderr",
          "output_type": "stream",
          "text": [
            "[Parallel(n_jobs=1)]: Using backend SequentialBackend with 1 concurrent workers.\n"
          ]
        },
        {
          "name": "stdout",
          "output_type": "stream",
          "text": [
            "[CV]  min_samples_leaf=1, min_samples_split=2, AUC=(train=0.974, test=0.466), Accuracy=(train=0.968, test=0.861), F1=(train=0.968, test=0.861), total= 2.0min\n",
            "[CV] min_samples_leaf=1, min_samples_split=2 .........................\n"
          ]
        },
        {
          "name": "stderr",
          "output_type": "stream",
          "text": [
            "[Parallel(n_jobs=1)]: Done   1 out of   1 | elapsed:  2.0min remaining:    0.0s\n"
          ]
        },
        {
          "name": "stdout",
          "output_type": "stream",
          "text": [
            "[CV]  min_samples_leaf=1, min_samples_split=2, AUC=(train=0.981, test=0.627), Accuracy=(train=0.971, test=0.932), F1=(train=0.971, test=0.932), total= 2.0min\n",
            "[CV] min_samples_leaf=1, min_samples_split=2 .........................\n"
          ]
        },
        {
          "name": "stderr",
          "output_type": "stream",
          "text": [
            "[Parallel(n_jobs=1)]: Done   2 out of   2 | elapsed:  4.0min remaining:    0.0s\n"
          ]
        },
        {
          "name": "stdout",
          "output_type": "stream",
          "text": [
            "[CV]  min_samples_leaf=1, min_samples_split=2, AUC=(train=0.973, test=0.867), Accuracy=(train=0.966, test=0.951), F1=(train=0.966, test=0.951), total= 1.9min\n",
            "[CV] min_samples_leaf=1, min_samples_split=2 .........................\n",
            "[CV]  min_samples_leaf=1, min_samples_split=2, AUC=(train=0.971, test=0.929), Accuracy=(train=0.966, test=0.944), F1=(train=0.966, test=0.944), total= 1.9min\n",
            "[CV] min_samples_leaf=1, min_samples_split=2 .........................\n",
            "[CV]  min_samples_leaf=1, min_samples_split=2, AUC=(train=0.967, test=0.935), Accuracy=(train=0.964, test=0.953), F1=(train=0.964, test=0.953), total= 1.9min\n",
            "[CV] min_samples_leaf=1, min_samples_split=2 .........................\n",
            "[CV]  min_samples_leaf=1, min_samples_split=2, AUC=(train=0.965, test=0.944), Accuracy=(train=0.965, test=0.932), F1=(train=0.965, test=0.932), total= 1.9min\n",
            "[CV] min_samples_leaf=1, min_samples_split=2 .........................\n",
            "[CV]  min_samples_leaf=1, min_samples_split=2, AUC=(train=0.968, test=0.938), Accuracy=(train=0.966, test=0.954), F1=(train=0.966, test=0.954), total= 1.9min\n",
            "[CV] min_samples_leaf=1, min_samples_split=2 .........................\n",
            "[CV]  min_samples_leaf=1, min_samples_split=2, AUC=(train=0.965, test=0.627), Accuracy=(train=0.964, test=0.726), F1=(train=0.964, test=0.726), total= 1.9min\n",
            "[CV] min_samples_leaf=1, min_samples_split=4 .........................\n",
            "[CV]  min_samples_leaf=1, min_samples_split=4, AUC=(train=0.972, test=0.488), Accuracy=(train=0.969, test=0.881), F1=(train=0.969, test=0.881), total= 1.9min\n",
            "[CV] min_samples_leaf=1, min_samples_split=4 .........................\n",
            "[CV]  min_samples_leaf=1, min_samples_split=4, AUC=(train=0.980, test=0.652), Accuracy=(train=0.971, test=0.932), F1=(train=0.971, test=0.932), total= 1.9min\n",
            "[CV] min_samples_leaf=1, min_samples_split=4 .........................\n",
            "[CV]  min_samples_leaf=1, min_samples_split=4, AUC=(train=0.974, test=0.876), Accuracy=(train=0.966, test=0.950), F1=(train=0.966, test=0.950), total= 1.9min\n",
            "[CV] min_samples_leaf=1, min_samples_split=4 .........................\n",
            "[CV]  min_samples_leaf=1, min_samples_split=4, AUC=(train=0.971, test=0.931), Accuracy=(train=0.966, test=0.945), F1=(train=0.966, test=0.945), total= 1.9min\n",
            "[CV] min_samples_leaf=1, min_samples_split=4 .........................\n",
            "[CV]  min_samples_leaf=1, min_samples_split=4, AUC=(train=0.966, test=0.943), Accuracy=(train=0.964, test=0.955), F1=(train=0.964, test=0.955), total= 1.9min\n",
            "[CV] min_samples_leaf=1, min_samples_split=4 .........................\n",
            "[CV]  min_samples_leaf=1, min_samples_split=4, AUC=(train=0.965, test=0.946), Accuracy=(train=0.964, test=0.933), F1=(train=0.964, test=0.933), total= 1.9min\n",
            "[CV] min_samples_leaf=1, min_samples_split=4 .........................\n",
            "[CV]  min_samples_leaf=1, min_samples_split=4, AUC=(train=0.967, test=0.936), Accuracy=(train=0.965, test=0.952), F1=(train=0.965, test=0.952), total= 1.9min\n",
            "[CV] min_samples_leaf=1, min_samples_split=4 .........................\n",
            "[CV]  min_samples_leaf=1, min_samples_split=4, AUC=(train=0.967, test=0.626), Accuracy=(train=0.965, test=0.731), F1=(train=0.965, test=0.731), total= 1.9min\n",
            "[CV] min_samples_leaf=1, min_samples_split=6 .........................\n",
            "[CV]  min_samples_leaf=1, min_samples_split=6, AUC=(train=0.972, test=0.469), Accuracy=(train=0.968, test=0.873), F1=(train=0.968, test=0.873), total= 1.8min\n",
            "[CV] min_samples_leaf=1, min_samples_split=6 .........................\n",
            "[CV]  min_samples_leaf=1, min_samples_split=6, AUC=(train=0.980, test=0.636), Accuracy=(train=0.970, test=0.932), F1=(train=0.970, test=0.932), total= 1.8min\n",
            "[CV] min_samples_leaf=1, min_samples_split=6 .........................\n",
            "[CV]  min_samples_leaf=1, min_samples_split=6, AUC=(train=0.972, test=0.872), Accuracy=(train=0.965, test=0.950), F1=(train=0.965, test=0.950), total= 1.8min\n",
            "[CV] min_samples_leaf=1, min_samples_split=6 .........................\n",
            "[CV]  min_samples_leaf=1, min_samples_split=6, AUC=(train=0.970, test=0.930), Accuracy=(train=0.965, test=0.944), F1=(train=0.965, test=0.944), total= 1.8min\n",
            "[CV] min_samples_leaf=1, min_samples_split=6 .........................\n",
            "[CV]  min_samples_leaf=1, min_samples_split=6, AUC=(train=0.965, test=0.941), Accuracy=(train=0.964, test=0.955), F1=(train=0.964, test=0.955), total= 1.8min\n",
            "[CV] min_samples_leaf=1, min_samples_split=6 .........................\n",
            "[CV]  min_samples_leaf=1, min_samples_split=6, AUC=(train=0.964, test=0.942), Accuracy=(train=0.963, test=0.931), F1=(train=0.963, test=0.931), total= 1.8min\n",
            "[CV] min_samples_leaf=1, min_samples_split=6 .........................\n",
            "[CV]  min_samples_leaf=1, min_samples_split=6, AUC=(train=0.968, test=0.935), Accuracy=(train=0.965, test=0.953), F1=(train=0.965, test=0.953), total= 1.8min\n",
            "[CV] min_samples_leaf=1, min_samples_split=6 .........................\n",
            "[CV]  min_samples_leaf=1, min_samples_split=6, AUC=(train=0.966, test=0.639), Accuracy=(train=0.964, test=0.745), F1=(train=0.964, test=0.745), total= 1.8min\n",
            "[CV] min_samples_leaf=1, min_samples_split=10 ........................\n",
            "[CV]  min_samples_leaf=1, min_samples_split=10, AUC=(train=0.971, test=0.463), Accuracy=(train=0.968, test=0.852), F1=(train=0.968, test=0.852), total= 1.8min\n",
            "[CV] min_samples_leaf=1, min_samples_split=10 ........................\n",
            "[CV]  min_samples_leaf=1, min_samples_split=10, AUC=(train=0.980, test=0.634), Accuracy=(train=0.969, test=0.931), F1=(train=0.969, test=0.931), total= 1.8min\n",
            "[CV] min_samples_leaf=1, min_samples_split=10 ........................\n",
            "[CV]  min_samples_leaf=1, min_samples_split=10, AUC=(train=0.970, test=0.855), Accuracy=(train=0.964, test=0.951), F1=(train=0.964, test=0.951), total= 1.8min\n",
            "[CV] min_samples_leaf=1, min_samples_split=10 ........................\n",
            "[CV]  min_samples_leaf=1, min_samples_split=10, AUC=(train=0.969, test=0.924), Accuracy=(train=0.964, test=0.944), F1=(train=0.964, test=0.944), total= 1.8min\n",
            "[CV] min_samples_leaf=1, min_samples_split=10 ........................\n",
            "[CV]  min_samples_leaf=1, min_samples_split=10, AUC=(train=0.963, test=0.934), Accuracy=(train=0.962, test=0.954), F1=(train=0.962, test=0.954), total= 1.8min\n",
            "[CV] min_samples_leaf=1, min_samples_split=10 ........................\n",
            "[CV]  min_samples_leaf=1, min_samples_split=10, AUC=(train=0.961, test=0.946), Accuracy=(train=0.963, test=0.933), F1=(train=0.963, test=0.933), total= 1.8min\n",
            "[CV] min_samples_leaf=1, min_samples_split=10 ........................\n",
            "[CV]  min_samples_leaf=1, min_samples_split=10, AUC=(train=0.965, test=0.932), Accuracy=(train=0.964, test=0.953), F1=(train=0.964, test=0.953), total= 1.8min\n",
            "[CV] min_samples_leaf=1, min_samples_split=10 ........................\n",
            "[CV]  min_samples_leaf=1, min_samples_split=10, AUC=(train=0.964, test=0.639), Accuracy=(train=0.963, test=0.733), F1=(train=0.963, test=0.733), total= 1.8min\n",
            "[CV] min_samples_leaf=1, min_samples_split=40 ........................\n",
            "[CV]  min_samples_leaf=1, min_samples_split=40, AUC=(train=0.967, test=0.463), Accuracy=(train=0.963, test=0.870), F1=(train=0.963, test=0.870), total= 1.7min\n",
            "[CV] min_samples_leaf=1, min_samples_split=40 ........................\n",
            "[CV]  min_samples_leaf=1, min_samples_split=40, AUC=(train=0.973, test=0.636), Accuracy=(train=0.964, test=0.929), F1=(train=0.964, test=0.929), total= 1.7min\n",
            "[CV] min_samples_leaf=1, min_samples_split=40 ........................\n",
            "[CV]  min_samples_leaf=1, min_samples_split=40, AUC=(train=0.964, test=0.857), Accuracy=(train=0.959, test=0.948), F1=(train=0.959, test=0.948), total= 1.7min\n",
            "[CV] min_samples_leaf=1, min_samples_split=40 ........................\n",
            "[CV]  min_samples_leaf=1, min_samples_split=40, AUC=(train=0.962, test=0.925), Accuracy=(train=0.958, test=0.941), F1=(train=0.958, test=0.941), total= 1.7min\n",
            "[CV] min_samples_leaf=1, min_samples_split=40 ........................\n",
            "[CV]  min_samples_leaf=1, min_samples_split=40, AUC=(train=0.957, test=0.928), Accuracy=(train=0.957, test=0.951), F1=(train=0.957, test=0.951), total= 1.7min\n",
            "[CV] min_samples_leaf=1, min_samples_split=40 ........................\n",
            "[CV]  min_samples_leaf=1, min_samples_split=40, AUC=(train=0.954, test=0.939), Accuracy=(train=0.958, test=0.927), F1=(train=0.958, test=0.927), total= 1.7min\n",
            "[CV] min_samples_leaf=1, min_samples_split=40 ........................\n",
            "[CV]  min_samples_leaf=1, min_samples_split=40, AUC=(train=0.957, test=0.927), Accuracy=(train=0.959, test=0.949), F1=(train=0.959, test=0.949), total= 1.7min\n",
            "[CV] min_samples_leaf=1, min_samples_split=40 ........................\n",
            "[CV]  min_samples_leaf=1, min_samples_split=40, AUC=(train=0.958, test=0.585), Accuracy=(train=0.959, test=0.704), F1=(train=0.959, test=0.704), total= 1.7min\n",
            "[CV] min_samples_leaf=1, min_samples_split=100 .......................\n",
            "[CV]  min_samples_leaf=1, min_samples_split=100, AUC=(train=0.961, test=0.439), Accuracy=(train=0.957, test=0.837), F1=(train=0.957, test=0.837), total= 1.7min\n",
            "[CV] min_samples_leaf=1, min_samples_split=100 .......................\n",
            "[CV]  min_samples_leaf=1, min_samples_split=100, AUC=(train=0.969, test=0.625), Accuracy=(train=0.956, test=0.927), F1=(train=0.956, test=0.927), total= 1.6min\n",
            "[CV] min_samples_leaf=1, min_samples_split=100 .......................\n",
            "[CV]  min_samples_leaf=1, min_samples_split=100, AUC=(train=0.960, test=0.843), Accuracy=(train=0.953, test=0.944), F1=(train=0.953, test=0.944), total= 1.6min\n",
            "[CV] min_samples_leaf=1, min_samples_split=100 .......................\n",
            "[CV]  min_samples_leaf=1, min_samples_split=100, AUC=(train=0.955, test=0.917), Accuracy=(train=0.952, test=0.935), F1=(train=0.952, test=0.935), total= 1.7min\n",
            "[CV] min_samples_leaf=1, min_samples_split=100 .......................\n",
            "[CV]  min_samples_leaf=1, min_samples_split=100, AUC=(train=0.953, test=0.923), Accuracy=(train=0.952, test=0.948), F1=(train=0.952, test=0.948), total= 1.6min\n",
            "[CV] min_samples_leaf=1, min_samples_split=100 .......................\n",
            "[CV]  min_samples_leaf=1, min_samples_split=100, AUC=(train=0.950, test=0.932), Accuracy=(train=0.952, test=0.926), F1=(train=0.952, test=0.926), total= 1.7min\n",
            "[CV] min_samples_leaf=1, min_samples_split=100 .......................\n",
            "[CV]  min_samples_leaf=1, min_samples_split=100, AUC=(train=0.952, test=0.920), Accuracy=(train=0.951, test=0.945), F1=(train=0.951, test=0.945), total= 1.6min\n",
            "[CV] min_samples_leaf=1, min_samples_split=100 .......................\n",
            "[CV]  min_samples_leaf=1, min_samples_split=100, AUC=(train=0.953, test=0.561), Accuracy=(train=0.954, test=0.713), F1=(train=0.954, test=0.713), total= 1.6min\n",
            "[CV] min_samples_leaf=3, min_samples_split=2 .........................\n",
            "[CV]  min_samples_leaf=3, min_samples_split=2, AUC=(train=0.972, test=0.440), Accuracy=(train=0.968, test=0.789), F1=(train=0.968, test=0.789), total= 1.8min\n",
            "[CV] min_samples_leaf=3, min_samples_split=2 .........................\n",
            "[CV]  min_samples_leaf=3, min_samples_split=2, AUC=(train=0.979, test=0.627), Accuracy=(train=0.970, test=0.931), F1=(train=0.970, test=0.931), total= 1.8min\n",
            "[CV] min_samples_leaf=3, min_samples_split=2 .........................\n",
            "[CV]  min_samples_leaf=3, min_samples_split=2, AUC=(train=0.971, test=0.859), Accuracy=(train=0.964, test=0.950), F1=(train=0.964, test=0.950), total= 1.8min\n",
            "[CV] min_samples_leaf=3, min_samples_split=2 .........................\n",
            "[CV]  min_samples_leaf=3, min_samples_split=2, AUC=(train=0.970, test=0.933), Accuracy=(train=0.964, test=0.942), F1=(train=0.964, test=0.942), total= 1.8min\n",
            "[CV] min_samples_leaf=3, min_samples_split=2 .........................\n",
            "[CV]  min_samples_leaf=3, min_samples_split=2, AUC=(train=0.965, test=0.934), Accuracy=(train=0.962, test=0.954), F1=(train=0.962, test=0.954), total= 1.8min\n",
            "[CV] min_samples_leaf=3, min_samples_split=2 .........................\n",
            "[CV]  min_samples_leaf=3, min_samples_split=2, AUC=(train=0.964, test=0.936), Accuracy=(train=0.963, test=0.928), F1=(train=0.963, test=0.928), total= 1.8min\n",
            "[CV] min_samples_leaf=3, min_samples_split=2 .........................\n",
            "[CV]  min_samples_leaf=3, min_samples_split=2, AUC=(train=0.965, test=0.934), Accuracy=(train=0.963, test=0.953), F1=(train=0.963, test=0.953), total= 1.8min\n",
            "[CV] min_samples_leaf=3, min_samples_split=2 .........................\n",
            "[CV]  min_samples_leaf=3, min_samples_split=2, AUC=(train=0.965, test=0.628), Accuracy=(train=0.964, test=0.768), F1=(train=0.964, test=0.768), total= 1.8min\n",
            "[CV] min_samples_leaf=3, min_samples_split=4 .........................\n",
            "[CV]  min_samples_leaf=3, min_samples_split=4, AUC=(train=0.972, test=0.440), Accuracy=(train=0.968, test=0.789), F1=(train=0.968, test=0.789), total= 1.8min\n",
            "[CV] min_samples_leaf=3, min_samples_split=4 .........................\n",
            "[CV]  min_samples_leaf=3, min_samples_split=4, AUC=(train=0.979, test=0.627), Accuracy=(train=0.970, test=0.931), F1=(train=0.970, test=0.931), total= 1.8min\n",
            "[CV] min_samples_leaf=3, min_samples_split=4 .........................\n",
            "[CV]  min_samples_leaf=3, min_samples_split=4, AUC=(train=0.971, test=0.859), Accuracy=(train=0.964, test=0.950), F1=(train=0.964, test=0.950), total= 1.8min\n",
            "[CV] min_samples_leaf=3, min_samples_split=4 .........................\n",
            "[CV]  min_samples_leaf=3, min_samples_split=4, AUC=(train=0.970, test=0.933), Accuracy=(train=0.964, test=0.942), F1=(train=0.964, test=0.942), total= 1.8min\n",
            "[CV] min_samples_leaf=3, min_samples_split=4 .........................\n",
            "[CV]  min_samples_leaf=3, min_samples_split=4, AUC=(train=0.965, test=0.934), Accuracy=(train=0.962, test=0.954), F1=(train=0.962, test=0.954), total= 1.8min\n",
            "[CV] min_samples_leaf=3, min_samples_split=4 .........................\n",
            "[CV]  min_samples_leaf=3, min_samples_split=4, AUC=(train=0.964, test=0.936), Accuracy=(train=0.963, test=0.928), F1=(train=0.963, test=0.928), total= 1.8min\n",
            "[CV] min_samples_leaf=3, min_samples_split=4 .........................\n",
            "[CV]  min_samples_leaf=3, min_samples_split=4, AUC=(train=0.965, test=0.934), Accuracy=(train=0.963, test=0.953), F1=(train=0.963, test=0.953), total= 1.8min\n",
            "[CV] min_samples_leaf=3, min_samples_split=4 .........................\n",
            "[CV]  min_samples_leaf=3, min_samples_split=4, AUC=(train=0.965, test=0.628), Accuracy=(train=0.964, test=0.768), F1=(train=0.964, test=0.768), total= 1.8min\n",
            "[CV] min_samples_leaf=3, min_samples_split=6 .........................\n",
            "[CV]  min_samples_leaf=3, min_samples_split=6, AUC=(train=0.972, test=0.440), Accuracy=(train=0.968, test=0.789), F1=(train=0.968, test=0.789), total= 1.8min\n",
            "[CV] min_samples_leaf=3, min_samples_split=6 .........................\n",
            "[CV]  min_samples_leaf=3, min_samples_split=6, AUC=(train=0.979, test=0.627), Accuracy=(train=0.970, test=0.931), F1=(train=0.970, test=0.931), total= 1.8min\n",
            "[CV] min_samples_leaf=3, min_samples_split=6 .........................\n",
            "[CV]  min_samples_leaf=3, min_samples_split=6, AUC=(train=0.971, test=0.859), Accuracy=(train=0.964, test=0.950), F1=(train=0.964, test=0.950), total= 1.8min\n",
            "[CV] min_samples_leaf=3, min_samples_split=6 .........................\n",
            "[CV]  min_samples_leaf=3, min_samples_split=6, AUC=(train=0.970, test=0.933), Accuracy=(train=0.964, test=0.942), F1=(train=0.964, test=0.942), total= 1.8min\n",
            "[CV] min_samples_leaf=3, min_samples_split=6 .........................\n",
            "[CV]  min_samples_leaf=3, min_samples_split=6, AUC=(train=0.965, test=0.934), Accuracy=(train=0.962, test=0.954), F1=(train=0.962, test=0.954), total= 1.8min\n",
            "[CV] min_samples_leaf=3, min_samples_split=6 .........................\n",
            "[CV]  min_samples_leaf=3, min_samples_split=6, AUC=(train=0.964, test=0.936), Accuracy=(train=0.963, test=0.928), F1=(train=0.963, test=0.928), total= 1.8min\n",
            "[CV] min_samples_leaf=3, min_samples_split=6 .........................\n",
            "[CV]  min_samples_leaf=3, min_samples_split=6, AUC=(train=0.965, test=0.934), Accuracy=(train=0.963, test=0.953), F1=(train=0.963, test=0.953), total= 1.8min\n",
            "[CV] min_samples_leaf=3, min_samples_split=6 .........................\n",
            "[CV]  min_samples_leaf=3, min_samples_split=6, AUC=(train=0.965, test=0.628), Accuracy=(train=0.964, test=0.768), F1=(train=0.964, test=0.768), total= 1.8min\n",
            "[CV] min_samples_leaf=3, min_samples_split=10 ........................\n",
            "[CV]  min_samples_leaf=3, min_samples_split=10, AUC=(train=0.972, test=0.456), Accuracy=(train=0.967, test=0.833), F1=(train=0.967, test=0.833), total= 1.8min\n",
            "[CV] min_samples_leaf=3, min_samples_split=10 ........................\n",
            "[CV]  min_samples_leaf=3, min_samples_split=10, AUC=(train=0.978, test=0.635), Accuracy=(train=0.969, test=0.930), F1=(train=0.969, test=0.930), total= 1.8min\n",
            "[CV] min_samples_leaf=3, min_samples_split=10 ........................\n",
            "[CV]  min_samples_leaf=3, min_samples_split=10, AUC=(train=0.970, test=0.863), Accuracy=(train=0.964, test=0.949), F1=(train=0.964, test=0.949), total= 1.8min\n",
            "[CV] min_samples_leaf=3, min_samples_split=10 ........................\n",
            "[CV]  min_samples_leaf=3, min_samples_split=10, AUC=(train=0.969, test=0.928), Accuracy=(train=0.963, test=0.943), F1=(train=0.963, test=0.943), total= 1.8min\n",
            "[CV] min_samples_leaf=3, min_samples_split=10 ........................\n",
            "[CV]  min_samples_leaf=3, min_samples_split=10, AUC=(train=0.964, test=0.940), Accuracy=(train=0.961, test=0.952), F1=(train=0.961, test=0.952), total= 1.8min\n",
            "[CV] min_samples_leaf=3, min_samples_split=10 ........................\n",
            "[CV]  min_samples_leaf=3, min_samples_split=10, AUC=(train=0.964, test=0.938), Accuracy=(train=0.963, test=0.934), F1=(train=0.963, test=0.934), total= 1.8min\n",
            "[CV] min_samples_leaf=3, min_samples_split=10 ........................\n",
            "[CV]  min_samples_leaf=3, min_samples_split=10, AUC=(train=0.965, test=0.933), Accuracy=(train=0.962, test=0.953), F1=(train=0.962, test=0.953), total= 1.8min\n",
            "[CV] min_samples_leaf=3, min_samples_split=10 ........................\n",
            "[CV]  min_samples_leaf=3, min_samples_split=10, AUC=(train=0.965, test=0.633), Accuracy=(train=0.963, test=0.744), F1=(train=0.963, test=0.744), total= 1.8min\n",
            "[CV] min_samples_leaf=3, min_samples_split=40 ........................\n",
            "[CV]  min_samples_leaf=3, min_samples_split=40, AUC=(train=0.967, test=0.453), Accuracy=(train=0.962, test=0.841), F1=(train=0.962, test=0.841), total= 1.7min\n",
            "[CV] min_samples_leaf=3, min_samples_split=40 ........................\n",
            "[CV]  min_samples_leaf=3, min_samples_split=40, AUC=(train=0.973, test=0.650), Accuracy=(train=0.962, test=0.929), F1=(train=0.962, test=0.929), total= 1.7min\n",
            "[CV] min_samples_leaf=3, min_samples_split=40 ........................\n",
            "[CV]  min_samples_leaf=3, min_samples_split=40, AUC=(train=0.965, test=0.851), Accuracy=(train=0.958, test=0.947), F1=(train=0.958, test=0.947), total= 1.7min\n",
            "[CV] min_samples_leaf=3, min_samples_split=40 ........................\n",
            "[CV]  min_samples_leaf=3, min_samples_split=40, AUC=(train=0.961, test=0.927), Accuracy=(train=0.957, test=0.939), F1=(train=0.957, test=0.939), total= 1.7min\n",
            "[CV] min_samples_leaf=3, min_samples_split=40 ........................\n",
            "[CV]  min_samples_leaf=3, min_samples_split=40, AUC=(train=0.958, test=0.930), Accuracy=(train=0.956, test=0.950), F1=(train=0.956, test=0.950), total= 1.7min\n",
            "[CV] min_samples_leaf=3, min_samples_split=40 ........................\n",
            "[CV]  min_samples_leaf=3, min_samples_split=40, AUC=(train=0.956, test=0.931), Accuracy=(train=0.957, test=0.926), F1=(train=0.957, test=0.926), total= 1.7min\n",
            "[CV] min_samples_leaf=3, min_samples_split=40 ........................\n",
            "[CV]  min_samples_leaf=3, min_samples_split=40, AUC=(train=0.959, test=0.930), Accuracy=(train=0.958, test=0.949), F1=(train=0.958, test=0.949), total= 1.7min\n",
            "[CV] min_samples_leaf=3, min_samples_split=40 ........................\n",
            "[CV]  min_samples_leaf=3, min_samples_split=40, AUC=(train=0.959, test=0.614), Accuracy=(train=0.958, test=0.758), F1=(train=0.958, test=0.758), total= 1.7min\n",
            "[CV] min_samples_leaf=3, min_samples_split=100 .......................\n",
            "[CV]  min_samples_leaf=3, min_samples_split=100, AUC=(train=0.962, test=0.438), Accuracy=(train=0.956, test=0.867), F1=(train=0.956, test=0.867), total= 1.6min\n",
            "[CV] min_samples_leaf=3, min_samples_split=100 .......................\n",
            "[CV]  min_samples_leaf=3, min_samples_split=100, AUC=(train=0.968, test=0.625), Accuracy=(train=0.956, test=0.928), F1=(train=0.956, test=0.928), total= 1.6min\n",
            "[CV] min_samples_leaf=3, min_samples_split=100 .......................\n",
            "[CV]  min_samples_leaf=3, min_samples_split=100, AUC=(train=0.959, test=0.849), Accuracy=(train=0.952, test=0.943), F1=(train=0.952, test=0.943), total= 1.6min\n",
            "[CV] min_samples_leaf=3, min_samples_split=100 .......................\n",
            "[CV]  min_samples_leaf=3, min_samples_split=100, AUC=(train=0.956, test=0.923), Accuracy=(train=0.951, test=0.938), F1=(train=0.951, test=0.938), total= 1.6min\n",
            "[CV] min_samples_leaf=3, min_samples_split=100 .......................\n",
            "[CV]  min_samples_leaf=3, min_samples_split=100, AUC=(train=0.951, test=0.922), Accuracy=(train=0.951, test=0.947), F1=(train=0.951, test=0.947), total= 1.6min\n",
            "[CV] min_samples_leaf=3, min_samples_split=100 .......................\n",
            "[CV]  min_samples_leaf=3, min_samples_split=100, AUC=(train=0.950, test=0.931), Accuracy=(train=0.951, test=0.924), F1=(train=0.951, test=0.924), total= 1.6min\n",
            "[CV] min_samples_leaf=3, min_samples_split=100 .......................\n",
            "[CV]  min_samples_leaf=3, min_samples_split=100, AUC=(train=0.952, test=0.923), Accuracy=(train=0.952, test=0.946), F1=(train=0.952, test=0.946), total= 1.6min\n",
            "[CV] min_samples_leaf=3, min_samples_split=100 .......................\n",
            "[CV]  min_samples_leaf=3, min_samples_split=100, AUC=(train=0.954, test=0.558), Accuracy=(train=0.953, test=0.728), F1=(train=0.953, test=0.728), total= 1.6min\n",
            "[CV] min_samples_leaf=5, min_samples_split=2 .........................\n",
            "[CV]  min_samples_leaf=5, min_samples_split=2, AUC=(train=0.971, test=0.470), Accuracy=(train=0.967, test=0.868), F1=(train=0.967, test=0.868), total= 1.8min\n",
            "[CV] min_samples_leaf=5, min_samples_split=2 .........................\n",
            "[CV]  min_samples_leaf=5, min_samples_split=2, AUC=(train=0.978, test=0.614), Accuracy=(train=0.967, test=0.931), F1=(train=0.967, test=0.931), total= 1.8min\n",
            "[CV] min_samples_leaf=5, min_samples_split=2 .........................\n",
            "[CV]  min_samples_leaf=5, min_samples_split=2, AUC=(train=0.970, test=0.858), Accuracy=(train=0.962, test=0.950), F1=(train=0.962, test=0.950), total= 1.7min\n",
            "[CV] min_samples_leaf=5, min_samples_split=2 .........................\n",
            "[CV]  min_samples_leaf=5, min_samples_split=2, AUC=(train=0.970, test=0.923), Accuracy=(train=0.962, test=0.943), F1=(train=0.962, test=0.943), total= 1.8min\n",
            "[CV] min_samples_leaf=5, min_samples_split=2 .........................\n",
            "[CV]  min_samples_leaf=5, min_samples_split=2, AUC=(train=0.965, test=0.930), Accuracy=(train=0.961, test=0.953), F1=(train=0.961, test=0.953), total= 1.8min\n",
            "[CV] min_samples_leaf=5, min_samples_split=2 .........................\n",
            "[CV]  min_samples_leaf=5, min_samples_split=2, AUC=(train=0.961, test=0.942), Accuracy=(train=0.961, test=0.929), F1=(train=0.961, test=0.929), total= 1.8min\n",
            "[CV] min_samples_leaf=5, min_samples_split=2 .........................\n",
            "[CV]  min_samples_leaf=5, min_samples_split=2, AUC=(train=0.965, test=0.932), Accuracy=(train=0.962, test=0.951), F1=(train=0.962, test=0.951), total= 1.8min\n",
            "[CV] min_samples_leaf=5, min_samples_split=2 .........................\n",
            "[CV]  min_samples_leaf=5, min_samples_split=2, AUC=(train=0.964, test=0.634), Accuracy=(train=0.962, test=0.750), F1=(train=0.962, test=0.750), total= 1.7min\n",
            "[CV] min_samples_leaf=5, min_samples_split=4 .........................\n",
            "[CV]  min_samples_leaf=5, min_samples_split=4, AUC=(train=0.971, test=0.470), Accuracy=(train=0.967, test=0.868), F1=(train=0.967, test=0.868), total= 1.8min\n",
            "[CV] min_samples_leaf=5, min_samples_split=4 .........................\n",
            "[CV]  min_samples_leaf=5, min_samples_split=4, AUC=(train=0.978, test=0.614), Accuracy=(train=0.967, test=0.931), F1=(train=0.967, test=0.931), total= 1.8min\n",
            "[CV] min_samples_leaf=5, min_samples_split=4 .........................\n",
            "[CV]  min_samples_leaf=5, min_samples_split=4, AUC=(train=0.970, test=0.858), Accuracy=(train=0.962, test=0.950), F1=(train=0.962, test=0.950), total= 1.7min\n",
            "[CV] min_samples_leaf=5, min_samples_split=4 .........................\n",
            "[CV]  min_samples_leaf=5, min_samples_split=4, AUC=(train=0.970, test=0.923), Accuracy=(train=0.962, test=0.943), F1=(train=0.962, test=0.943), total= 1.7min\n",
            "[CV] min_samples_leaf=5, min_samples_split=4 .........................\n",
            "[CV]  min_samples_leaf=5, min_samples_split=4, AUC=(train=0.965, test=0.930), Accuracy=(train=0.961, test=0.953), F1=(train=0.961, test=0.953), total= 1.8min\n",
            "[CV] min_samples_leaf=5, min_samples_split=4 .........................\n",
            "[CV]  min_samples_leaf=5, min_samples_split=4, AUC=(train=0.961, test=0.942), Accuracy=(train=0.961, test=0.929), F1=(train=0.961, test=0.929), total= 1.8min\n",
            "[CV] min_samples_leaf=5, min_samples_split=4 .........................\n",
            "[CV]  min_samples_leaf=5, min_samples_split=4, AUC=(train=0.965, test=0.932), Accuracy=(train=0.962, test=0.951), F1=(train=0.962, test=0.951), total= 1.8min\n",
            "[CV] min_samples_leaf=5, min_samples_split=4 .........................\n",
            "[CV]  min_samples_leaf=5, min_samples_split=4, AUC=(train=0.964, test=0.634), Accuracy=(train=0.962, test=0.750), F1=(train=0.962, test=0.750), total= 1.8min\n",
            "[CV] min_samples_leaf=5, min_samples_split=6 .........................\n",
            "[CV]  min_samples_leaf=5, min_samples_split=6, AUC=(train=0.971, test=0.470), Accuracy=(train=0.967, test=0.868), F1=(train=0.967, test=0.868), total= 1.8min\n",
            "[CV] min_samples_leaf=5, min_samples_split=6 .........................\n",
            "[CV]  min_samples_leaf=5, min_samples_split=6, AUC=(train=0.978, test=0.614), Accuracy=(train=0.967, test=0.931), F1=(train=0.967, test=0.931), total= 1.8min\n",
            "[CV] min_samples_leaf=5, min_samples_split=6 .........................\n",
            "[CV]  min_samples_leaf=5, min_samples_split=6, AUC=(train=0.970, test=0.858), Accuracy=(train=0.962, test=0.950), F1=(train=0.962, test=0.950), total= 1.7min\n",
            "[CV] min_samples_leaf=5, min_samples_split=6 .........................\n",
            "[CV]  min_samples_leaf=5, min_samples_split=6, AUC=(train=0.970, test=0.923), Accuracy=(train=0.962, test=0.943), F1=(train=0.962, test=0.943), total= 1.8min\n",
            "[CV] min_samples_leaf=5, min_samples_split=6 .........................\n",
            "[CV]  min_samples_leaf=5, min_samples_split=6, AUC=(train=0.965, test=0.930), Accuracy=(train=0.961, test=0.953), F1=(train=0.961, test=0.953), total= 1.8min\n",
            "[CV] min_samples_leaf=5, min_samples_split=6 .........................\n",
            "[CV]  min_samples_leaf=5, min_samples_split=6, AUC=(train=0.961, test=0.942), Accuracy=(train=0.961, test=0.929), F1=(train=0.961, test=0.929), total= 1.8min\n",
            "[CV] min_samples_leaf=5, min_samples_split=6 .........................\n",
            "[CV]  min_samples_leaf=5, min_samples_split=6, AUC=(train=0.965, test=0.932), Accuracy=(train=0.962, test=0.951), F1=(train=0.962, test=0.951), total= 1.8min\n",
            "[CV] min_samples_leaf=5, min_samples_split=6 .........................\n",
            "[CV]  min_samples_leaf=5, min_samples_split=6, AUC=(train=0.964, test=0.634), Accuracy=(train=0.962, test=0.750), F1=(train=0.962, test=0.750), total= 1.8min\n",
            "[CV] min_samples_leaf=5, min_samples_split=10 ........................\n",
            "[CV]  min_samples_leaf=5, min_samples_split=10, AUC=(train=0.971, test=0.470), Accuracy=(train=0.967, test=0.868), F1=(train=0.967, test=0.868), total= 1.8min\n",
            "[CV] min_samples_leaf=5, min_samples_split=10 ........................\n",
            "[CV]  min_samples_leaf=5, min_samples_split=10, AUC=(train=0.978, test=0.614), Accuracy=(train=0.967, test=0.931), F1=(train=0.967, test=0.931), total= 1.8min\n",
            "[CV] min_samples_leaf=5, min_samples_split=10 ........................\n",
            "[CV]  min_samples_leaf=5, min_samples_split=10, AUC=(train=0.970, test=0.858), Accuracy=(train=0.962, test=0.950), F1=(train=0.962, test=0.950), total= 1.7min\n",
            "[CV] min_samples_leaf=5, min_samples_split=10 ........................\n",
            "[CV]  min_samples_leaf=5, min_samples_split=10, AUC=(train=0.970, test=0.923), Accuracy=(train=0.962, test=0.943), F1=(train=0.962, test=0.943), total= 1.8min\n",
            "[CV] min_samples_leaf=5, min_samples_split=10 ........................\n",
            "[CV]  min_samples_leaf=5, min_samples_split=10, AUC=(train=0.965, test=0.930), Accuracy=(train=0.961, test=0.953), F1=(train=0.961, test=0.953), total= 1.8min\n",
            "[CV] min_samples_leaf=5, min_samples_split=10 ........................\n",
            "[CV]  min_samples_leaf=5, min_samples_split=10, AUC=(train=0.961, test=0.942), Accuracy=(train=0.961, test=0.929), F1=(train=0.961, test=0.929), total= 1.8min\n",
            "[CV] min_samples_leaf=5, min_samples_split=10 ........................\n",
            "[CV]  min_samples_leaf=5, min_samples_split=10, AUC=(train=0.965, test=0.932), Accuracy=(train=0.962, test=0.951), F1=(train=0.962, test=0.951), total= 1.8min\n",
            "[CV] min_samples_leaf=5, min_samples_split=10 ........................\n",
            "[CV]  min_samples_leaf=5, min_samples_split=10, AUC=(train=0.964, test=0.634), Accuracy=(train=0.962, test=0.750), F1=(train=0.962, test=0.750), total= 1.8min\n",
            "[CV] min_samples_leaf=5, min_samples_split=40 ........................\n",
            "[CV]  min_samples_leaf=5, min_samples_split=40, AUC=(train=0.966, test=0.452), Accuracy=(train=0.961, test=0.861), F1=(train=0.961, test=0.861), total= 1.7min\n",
            "[CV] min_samples_leaf=5, min_samples_split=40 ........................\n",
            "[CV]  min_samples_leaf=5, min_samples_split=40, AUC=(train=0.974, test=0.623), Accuracy=(train=0.962, test=0.929), F1=(train=0.962, test=0.929), total= 1.7min\n",
            "[CV] min_samples_leaf=5, min_samples_split=40 ........................\n",
            "[CV]  min_samples_leaf=5, min_samples_split=40, AUC=(train=0.965, test=0.850), Accuracy=(train=0.957, test=0.947), F1=(train=0.957, test=0.947), total= 1.7min\n",
            "[CV] min_samples_leaf=5, min_samples_split=40 ........................\n",
            "[CV]  min_samples_leaf=5, min_samples_split=40, AUC=(train=0.962, test=0.926), Accuracy=(train=0.956, test=0.938), F1=(train=0.956, test=0.938), total= 1.7min\n",
            "[CV] min_samples_leaf=5, min_samples_split=40 ........................\n",
            "[CV]  min_samples_leaf=5, min_samples_split=40, AUC=(train=0.958, test=0.926), Accuracy=(train=0.956, test=0.951), F1=(train=0.956, test=0.951), total= 1.7min\n",
            "[CV] min_samples_leaf=5, min_samples_split=40 ........................\n",
            "[CV]  min_samples_leaf=5, min_samples_split=40, AUC=(train=0.955, test=0.939), Accuracy=(train=0.956, test=0.924), F1=(train=0.956, test=0.924), total= 1.7min\n",
            "[CV] min_samples_leaf=5, min_samples_split=40 ........................\n",
            "[CV]  min_samples_leaf=5, min_samples_split=40, AUC=(train=0.958, test=0.928), Accuracy=(train=0.956, test=0.949), F1=(train=0.956, test=0.949), total= 1.7min\n",
            "[CV] min_samples_leaf=5, min_samples_split=40 ........................\n",
            "[CV]  min_samples_leaf=5, min_samples_split=40, AUC=(train=0.958, test=0.586), Accuracy=(train=0.957, test=0.717), F1=(train=0.957, test=0.717), total= 1.7min\n",
            "[CV] min_samples_leaf=5, min_samples_split=100 .......................\n",
            "[CV]  min_samples_leaf=5, min_samples_split=100, AUC=(train=0.963, test=0.446), Accuracy=(train=0.955, test=0.867), F1=(train=0.955, test=0.867), total= 1.6min\n",
            "[CV] min_samples_leaf=5, min_samples_split=100 .......................\n",
            "[CV]  min_samples_leaf=5, min_samples_split=100, AUC=(train=0.970, test=0.614), Accuracy=(train=0.955, test=0.926), F1=(train=0.955, test=0.926), total= 1.6min\n",
            "[CV] min_samples_leaf=5, min_samples_split=100 .......................\n",
            "[CV]  min_samples_leaf=5, min_samples_split=100, AUC=(train=0.960, test=0.845), Accuracy=(train=0.951, test=0.943), F1=(train=0.951, test=0.943), total= 1.6min\n",
            "[CV] min_samples_leaf=5, min_samples_split=100 .......................\n",
            "[CV]  min_samples_leaf=5, min_samples_split=100, AUC=(train=0.957, test=0.916), Accuracy=(train=0.951, test=0.934), F1=(train=0.951, test=0.934), total= 1.6min\n",
            "[CV] min_samples_leaf=5, min_samples_split=100 .......................\n",
            "[CV]  min_samples_leaf=5, min_samples_split=100, AUC=(train=0.952, test=0.929), Accuracy=(train=0.950, test=0.946), F1=(train=0.950, test=0.946), total= 1.6min\n",
            "[CV] min_samples_leaf=5, min_samples_split=100 .......................\n",
            "[CV]  min_samples_leaf=5, min_samples_split=100, AUC=(train=0.950, test=0.937), Accuracy=(train=0.950, test=0.930), F1=(train=0.950, test=0.930), total= 1.6min\n",
            "[CV] min_samples_leaf=5, min_samples_split=100 .......................\n",
            "[CV]  min_samples_leaf=5, min_samples_split=100, AUC=(train=0.953, test=0.926), Accuracy=(train=0.950, test=0.944), F1=(train=0.950, test=0.944), total= 1.6min\n",
            "[CV] min_samples_leaf=5, min_samples_split=100 .......................\n",
            "[CV]  min_samples_leaf=5, min_samples_split=100, AUC=(train=0.955, test=0.572), Accuracy=(train=0.953, test=0.767), F1=(train=0.953, test=0.767), total= 1.6min\n",
            "[CV] min_samples_leaf=7, min_samples_split=2 .........................\n",
            "[CV]  min_samples_leaf=7, min_samples_split=2, AUC=(train=0.971, test=0.472), Accuracy=(train=0.964, test=0.877), F1=(train=0.964, test=0.877), total= 1.7min\n",
            "[CV] min_samples_leaf=7, min_samples_split=2 .........................\n",
            "[CV]  min_samples_leaf=7, min_samples_split=2, AUC=(train=0.978, test=0.641), Accuracy=(train=0.966, test=0.930), F1=(train=0.966, test=0.930), total= 1.7min\n",
            "[CV] min_samples_leaf=7, min_samples_split=2 .........................\n",
            "[CV]  min_samples_leaf=7, min_samples_split=2, AUC=(train=0.969, test=0.860), Accuracy=(train=0.961, test=0.949), F1=(train=0.961, test=0.949), total= 1.7min\n",
            "[CV] min_samples_leaf=7, min_samples_split=2 .........................\n",
            "[CV]  min_samples_leaf=7, min_samples_split=2, AUC=(train=0.967, test=0.927), Accuracy=(train=0.960, test=0.941), F1=(train=0.960, test=0.941), total= 1.7min\n",
            "[CV] min_samples_leaf=7, min_samples_split=2 .........................\n",
            "[CV]  min_samples_leaf=7, min_samples_split=2, AUC=(train=0.963, test=0.939), Accuracy=(train=0.959, test=0.951), F1=(train=0.959, test=0.951), total= 1.7min\n",
            "[CV] min_samples_leaf=7, min_samples_split=2 .........................\n",
            "[CV]  min_samples_leaf=7, min_samples_split=2, AUC=(train=0.961, test=0.941), Accuracy=(train=0.960, test=0.932), F1=(train=0.960, test=0.932), total= 1.7min\n",
            "[CV] min_samples_leaf=7, min_samples_split=2 .........................\n",
            "[CV]  min_samples_leaf=7, min_samples_split=2, AUC=(train=0.963, test=0.932), Accuracy=(train=0.960, test=0.951), F1=(train=0.960, test=0.951), total= 1.7min\n",
            "[CV] min_samples_leaf=7, min_samples_split=2 .........................\n",
            "[CV]  min_samples_leaf=7, min_samples_split=2, AUC=(train=0.962, test=0.621), Accuracy=(train=0.961, test=0.734), F1=(train=0.961, test=0.734), total= 1.7min\n",
            "[CV] min_samples_leaf=7, min_samples_split=4 .........................\n",
            "[CV]  min_samples_leaf=7, min_samples_split=4, AUC=(train=0.971, test=0.472), Accuracy=(train=0.964, test=0.877), F1=(train=0.964, test=0.877), total= 1.7min\n",
            "[CV] min_samples_leaf=7, min_samples_split=4 .........................\n",
            "[CV]  min_samples_leaf=7, min_samples_split=4, AUC=(train=0.978, test=0.641), Accuracy=(train=0.966, test=0.930), F1=(train=0.966, test=0.930), total= 1.7min\n",
            "[CV] min_samples_leaf=7, min_samples_split=4 .........................\n",
            "[CV]  min_samples_leaf=7, min_samples_split=4, AUC=(train=0.969, test=0.860), Accuracy=(train=0.961, test=0.949), F1=(train=0.961, test=0.949), total= 1.7min\n",
            "[CV] min_samples_leaf=7, min_samples_split=4 .........................\n",
            "[CV]  min_samples_leaf=7, min_samples_split=4, AUC=(train=0.967, test=0.927), Accuracy=(train=0.960, test=0.941), F1=(train=0.960, test=0.941), total= 1.7min\n",
            "[CV] min_samples_leaf=7, min_samples_split=4 .........................\n",
            "[CV]  min_samples_leaf=7, min_samples_split=4, AUC=(train=0.963, test=0.939), Accuracy=(train=0.959, test=0.951), F1=(train=0.959, test=0.951), total= 1.7min\n",
            "[CV] min_samples_leaf=7, min_samples_split=4 .........................\n",
            "[CV]  min_samples_leaf=7, min_samples_split=4, AUC=(train=0.961, test=0.941), Accuracy=(train=0.960, test=0.932), F1=(train=0.960, test=0.932), total= 1.7min\n",
            "[CV] min_samples_leaf=7, min_samples_split=4 .........................\n",
            "[CV]  min_samples_leaf=7, min_samples_split=4, AUC=(train=0.963, test=0.932), Accuracy=(train=0.960, test=0.951), F1=(train=0.960, test=0.951), total= 1.7min\n",
            "[CV] min_samples_leaf=7, min_samples_split=4 .........................\n",
            "[CV]  min_samples_leaf=7, min_samples_split=4, AUC=(train=0.962, test=0.621), Accuracy=(train=0.961, test=0.734), F1=(train=0.961, test=0.734), total= 1.7min\n",
            "[CV] min_samples_leaf=7, min_samples_split=6 .........................\n",
            "[CV]  min_samples_leaf=7, min_samples_split=6, AUC=(train=0.971, test=0.472), Accuracy=(train=0.964, test=0.877), F1=(train=0.964, test=0.877), total= 1.7min\n",
            "[CV] min_samples_leaf=7, min_samples_split=6 .........................\n",
            "[CV]  min_samples_leaf=7, min_samples_split=6, AUC=(train=0.978, test=0.641), Accuracy=(train=0.966, test=0.930), F1=(train=0.966, test=0.930), total= 1.7min\n",
            "[CV] min_samples_leaf=7, min_samples_split=6 .........................\n",
            "[CV]  min_samples_leaf=7, min_samples_split=6, AUC=(train=0.969, test=0.860), Accuracy=(train=0.961, test=0.949), F1=(train=0.961, test=0.949), total= 1.7min\n",
            "[CV] min_samples_leaf=7, min_samples_split=6 .........................\n",
            "[CV]  min_samples_leaf=7, min_samples_split=6, AUC=(train=0.967, test=0.927), Accuracy=(train=0.960, test=0.941), F1=(train=0.960, test=0.941), total= 1.7min\n",
            "[CV] min_samples_leaf=7, min_samples_split=6 .........................\n",
            "[CV]  min_samples_leaf=7, min_samples_split=6, AUC=(train=0.963, test=0.939), Accuracy=(train=0.959, test=0.951), F1=(train=0.959, test=0.951), total= 1.7min\n",
            "[CV] min_samples_leaf=7, min_samples_split=6 .........................\n",
            "[CV]  min_samples_leaf=7, min_samples_split=6, AUC=(train=0.961, test=0.941), Accuracy=(train=0.960, test=0.932), F1=(train=0.960, test=0.932), total= 1.7min\n",
            "[CV] min_samples_leaf=7, min_samples_split=6 .........................\n",
            "[CV]  min_samples_leaf=7, min_samples_split=6, AUC=(train=0.963, test=0.932), Accuracy=(train=0.960, test=0.951), F1=(train=0.960, test=0.951), total= 1.7min\n",
            "[CV] min_samples_leaf=7, min_samples_split=6 .........................\n",
            "[CV]  min_samples_leaf=7, min_samples_split=6, AUC=(train=0.962, test=0.621), Accuracy=(train=0.961, test=0.734), F1=(train=0.961, test=0.734), total= 1.7min\n",
            "[CV] min_samples_leaf=7, min_samples_split=10 ........................\n",
            "[CV]  min_samples_leaf=7, min_samples_split=10, AUC=(train=0.971, test=0.472), Accuracy=(train=0.964, test=0.877), F1=(train=0.964, test=0.877), total= 1.7min\n",
            "[CV] min_samples_leaf=7, min_samples_split=10 ........................\n",
            "[CV]  min_samples_leaf=7, min_samples_split=10, AUC=(train=0.978, test=0.641), Accuracy=(train=0.966, test=0.930), F1=(train=0.966, test=0.930), total= 1.7min\n",
            "[CV] min_samples_leaf=7, min_samples_split=10 ........................\n",
            "[CV]  min_samples_leaf=7, min_samples_split=10, AUC=(train=0.969, test=0.860), Accuracy=(train=0.961, test=0.949), F1=(train=0.961, test=0.949), total= 1.7min\n",
            "[CV] min_samples_leaf=7, min_samples_split=10 ........................\n",
            "[CV]  min_samples_leaf=7, min_samples_split=10, AUC=(train=0.967, test=0.927), Accuracy=(train=0.960, test=0.941), F1=(train=0.960, test=0.941), total= 1.7min\n",
            "[CV] min_samples_leaf=7, min_samples_split=10 ........................\n",
            "[CV]  min_samples_leaf=7, min_samples_split=10, AUC=(train=0.963, test=0.939), Accuracy=(train=0.959, test=0.951), F1=(train=0.959, test=0.951), total= 1.7min\n",
            "[CV] min_samples_leaf=7, min_samples_split=10 ........................\n",
            "[CV]  min_samples_leaf=7, min_samples_split=10, AUC=(train=0.961, test=0.941), Accuracy=(train=0.960, test=0.932), F1=(train=0.960, test=0.932), total= 1.7min\n",
            "[CV] min_samples_leaf=7, min_samples_split=10 ........................\n",
            "[CV]  min_samples_leaf=7, min_samples_split=10, AUC=(train=0.963, test=0.932), Accuracy=(train=0.960, test=0.951), F1=(train=0.960, test=0.951), total= 1.7min\n",
            "[CV] min_samples_leaf=7, min_samples_split=10 ........................\n",
            "[CV]  min_samples_leaf=7, min_samples_split=10, AUC=(train=0.962, test=0.621), Accuracy=(train=0.961, test=0.734), F1=(train=0.961, test=0.734), total= 1.8min\n",
            "[CV] min_samples_leaf=7, min_samples_split=40 ........................\n",
            "[CV]  min_samples_leaf=7, min_samples_split=40, AUC=(train=0.966, test=0.454), Accuracy=(train=0.961, test=0.868), F1=(train=0.961, test=0.868), total= 1.7min\n",
            "[CV] min_samples_leaf=7, min_samples_split=40 ........................\n",
            "[CV]  min_samples_leaf=7, min_samples_split=40, AUC=(train=0.974, test=0.636), Accuracy=(train=0.961, test=0.927), F1=(train=0.961, test=0.927), total= 1.7min\n",
            "[CV] min_samples_leaf=7, min_samples_split=40 ........................\n",
            "[CV]  min_samples_leaf=7, min_samples_split=40, AUC=(train=0.965, test=0.852), Accuracy=(train=0.956, test=0.946), F1=(train=0.956, test=0.946), total= 1.7min\n",
            "[CV] min_samples_leaf=7, min_samples_split=40 ........................\n",
            "[CV]  min_samples_leaf=7, min_samples_split=40, AUC=(train=0.962, test=0.919), Accuracy=(train=0.956, test=0.937), F1=(train=0.956, test=0.937), total= 1.7min\n",
            "[CV] min_samples_leaf=7, min_samples_split=40 ........................\n",
            "[CV]  min_samples_leaf=7, min_samples_split=40, AUC=(train=0.959, test=0.936), Accuracy=(train=0.955, test=0.949), F1=(train=0.955, test=0.949), total= 1.7min\n",
            "[CV] min_samples_leaf=7, min_samples_split=40 ........................\n",
            "[CV]  min_samples_leaf=7, min_samples_split=40, AUC=(train=0.956, test=0.937), Accuracy=(train=0.955, test=0.923), F1=(train=0.955, test=0.923), total= 1.7min\n",
            "[CV] min_samples_leaf=7, min_samples_split=40 ........................\n",
            "[CV]  min_samples_leaf=7, min_samples_split=40, AUC=(train=0.959, test=0.929), Accuracy=(train=0.956, test=0.948), F1=(train=0.956, test=0.948), total= 1.7min\n",
            "[CV] min_samples_leaf=7, min_samples_split=40 ........................\n",
            "[CV]  min_samples_leaf=7, min_samples_split=40, AUC=(train=0.959, test=0.588), Accuracy=(train=0.957, test=0.751), F1=(train=0.957, test=0.751), total= 1.7min\n",
            "[CV] min_samples_leaf=7, min_samples_split=100 .......................\n",
            "[CV]  min_samples_leaf=7, min_samples_split=100, AUC=(train=0.963, test=0.457), Accuracy=(train=0.955, test=0.887), F1=(train=0.955, test=0.887), total= 1.6min\n",
            "[CV] min_samples_leaf=7, min_samples_split=100 .......................\n",
            "[CV]  min_samples_leaf=7, min_samples_split=100, AUC=(train=0.970, test=0.614), Accuracy=(train=0.954, test=0.926), F1=(train=0.954, test=0.926), total= 1.6min\n",
            "[CV] min_samples_leaf=7, min_samples_split=100 .......................\n",
            "[CV]  min_samples_leaf=7, min_samples_split=100, AUC=(train=0.960, test=0.847), Accuracy=(train=0.951, test=0.943), F1=(train=0.951, test=0.943), total= 1.6min\n",
            "[CV] min_samples_leaf=7, min_samples_split=100 .......................\n",
            "[CV]  min_samples_leaf=7, min_samples_split=100, AUC=(train=0.957, test=0.916), Accuracy=(train=0.950, test=0.934), F1=(train=0.950, test=0.934), total= 1.6min\n",
            "[CV] min_samples_leaf=7, min_samples_split=100 .......................\n",
            "[CV]  min_samples_leaf=7, min_samples_split=100, AUC=(train=0.952, test=0.932), Accuracy=(train=0.949, test=0.947), F1=(train=0.949, test=0.947), total= 1.6min\n",
            "[CV] min_samples_leaf=7, min_samples_split=100 .......................\n",
            "[CV]  min_samples_leaf=7, min_samples_split=100, AUC=(train=0.950, test=0.935), Accuracy=(train=0.950, test=0.924), F1=(train=0.950, test=0.924), total= 1.6min\n",
            "[CV] min_samples_leaf=7, min_samples_split=100 .......................\n",
            "[CV]  min_samples_leaf=7, min_samples_split=100, AUC=(train=0.953, test=0.927), Accuracy=(train=0.950, test=0.944), F1=(train=0.950, test=0.944), total= 1.6min\n",
            "[CV] min_samples_leaf=7, min_samples_split=100 .......................\n",
            "[CV]  min_samples_leaf=7, min_samples_split=100, AUC=(train=0.955, test=0.581), Accuracy=(train=0.952, test=0.791), F1=(train=0.952, test=0.791), total= 1.6min\n"
          ]
        },
        {
          "name": "stderr",
          "output_type": "stream",
          "text": [
            "[Parallel(n_jobs=1)]: Done 192 out of 192 | elapsed: 342.5min finished\n"
          ]
        },
        {
          "name": "stdout",
          "output_type": "stream",
          "text": [
            "\n",
            " Time taken: 5 hours 44 minutes and 36.05 seconds.\n"
          ]
        }
      ]
    },
    {
      "cell_type": "markdown",
      "metadata": {
        "id": "UyrIoDYgSsmL"
      },
      "source": [
        "Observe best parameter and training score"
      ]
    },
    {
      "cell_type": "code",
      "metadata": {
        "colab": {
          "base_uri": "https://localhost:8080/"
        },
        "id": "A0SLW0Hwi_uf",
        "outputId": "76aa2bcb-7633-45fc-a73f-a0a792e4680b"
      },
      "source": [
        "gsearch4.best_params_, gsearch4.best_score_\n"
      ],
      "execution_count": null,
      "outputs": [
        {
          "data": {
            "text/plain": [
              "({'min_samples_leaf': 1, 'min_samples_split': 4}, 0.7996849969690975)"
            ]
          },
          "execution_count": 23,
          "metadata": {},
          "output_type": "execute_result"
        }
      ]
    },
    {
      "cell_type": "markdown",
      "metadata": {
        "id": "Y6eGLKQbgLju"
      },
      "source": [
        "## **D. max_features**"
      ]
    },
    {
      "cell_type": "code",
      "metadata": {
        "id": "tmaio7dtowNp"
      },
      "source": [
        "gbc5 = GradientBoostingClassifier(random_state=10, learning_rate=0.01, n_estimators=100, max_depth=15,min_samples_leaf= 1, min_samples_split= 4)\n",
        "parameters5 = {\n",
        "    \"max_features\":[10,15,20,25,35]\n",
        "}\n",
        "scoring5 = {'AUC': 'roc_auc', 'Accuracy': make_scorer(accuracy_score), 'F1':make_scorer(f1_score, average='micro')}"
      ],
      "execution_count": null,
      "outputs": []
    },
    {
      "cell_type": "code",
      "metadata": {
        "colab": {
          "base_uri": "https://localhost:8080/"
        },
        "id": "o71fXLR_o-RY",
        "outputId": "d8139a4e-e557-4355-e958-dfd9e8309976"
      },
      "source": [
        "\n",
        "start_time = timer(None) # timing starts from this point for \"start_time\" variable\n",
        "gsearch3 = GridSearchCV(estimator=gbc5,param_grid=parameters5,scoring=scoring5, cv=8, verbose=3, refit='AUC', return_train_score=True)\n",
        "gsearch3.fit(X,Y)\n",
        "timer(start_time) # timing ends here for \"start_time\" variable"
      ],
      "execution_count": null,
      "outputs": [
        {
          "name": "stdout",
          "output_type": "stream",
          "text": [
            "Fitting 8 folds for each of 5 candidates, totalling 40 fits\n",
            "[CV] max_features=10 .................................................\n"
          ]
        },
        {
          "name": "stderr",
          "output_type": "stream",
          "text": [
            "[Parallel(n_jobs=1)]: Using backend SequentialBackend with 1 concurrent workers.\n"
          ]
        },
        {
          "name": "stdout",
          "output_type": "stream",
          "text": [
            "[CV]  max_features=10, AUC=(train=0.967, test=0.551), Accuracy=(train=0.957, test=0.921), F1=(train=0.957, test=0.921), total= 1.1min\n",
            "[CV] max_features=10 .................................................\n"
          ]
        },
        {
          "name": "stderr",
          "output_type": "stream",
          "text": [
            "[Parallel(n_jobs=1)]: Done   1 out of   1 | elapsed:  1.1min remaining:    0.0s\n"
          ]
        },
        {
          "name": "stdout",
          "output_type": "stream",
          "text": [
            "[CV]  max_features=10, AUC=(train=0.973, test=0.690), Accuracy=(train=0.956, test=0.929), F1=(train=0.956, test=0.929), total= 1.1min\n",
            "[CV] max_features=10 .................................................\n"
          ]
        },
        {
          "name": "stderr",
          "output_type": "stream",
          "text": [
            "[Parallel(n_jobs=1)]: Done   2 out of   2 | elapsed:  2.2min remaining:    0.0s\n"
          ]
        },
        {
          "name": "stdout",
          "output_type": "stream",
          "text": [
            "[CV]  max_features=10, AUC=(train=0.964, test=0.870), Accuracy=(train=0.954, test=0.943), F1=(train=0.954, test=0.943), total= 1.1min\n",
            "[CV] max_features=10 .................................................\n",
            "[CV]  max_features=10, AUC=(train=0.963, test=0.919), Accuracy=(train=0.953, test=0.940), F1=(train=0.953, test=0.940), total= 1.1min\n",
            "[CV] max_features=10 .................................................\n",
            "[CV]  max_features=10, AUC=(train=0.959, test=0.927), Accuracy=(train=0.953, test=0.945), F1=(train=0.953, test=0.945), total= 1.1min\n",
            "[CV] max_features=10 .................................................\n",
            "[CV]  max_features=10, AUC=(train=0.956, test=0.937), Accuracy=(train=0.953, test=0.933), F1=(train=0.953, test=0.933), total= 1.1min\n",
            "[CV] max_features=10 .................................................\n",
            "[CV]  max_features=10, AUC=(train=0.960, test=0.929), Accuracy=(train=0.954, test=0.945), F1=(train=0.954, test=0.945), total= 1.1min\n",
            "[CV] max_features=10 .................................................\n",
            "[CV]  max_features=10, AUC=(train=0.960, test=0.695), Accuracy=(train=0.954, test=0.913), F1=(train=0.954, test=0.913), total= 1.1min\n",
            "[CV] max_features=15 .................................................\n",
            "[CV]  max_features=15, AUC=(train=0.971, test=0.468), Accuracy=(train=0.964, test=0.874), F1=(train=0.964, test=0.874), total= 1.5min\n",
            "[CV] max_features=15 .................................................\n",
            "[CV]  max_features=15, AUC=(train=0.978, test=0.629), Accuracy=(train=0.966, test=0.930), F1=(train=0.966, test=0.930), total= 1.5min\n",
            "[CV] max_features=15 .................................................\n",
            "[CV]  max_features=15, AUC=(train=0.970, test=0.872), Accuracy=(train=0.961, test=0.949), F1=(train=0.961, test=0.949), total= 1.5min\n",
            "[CV] max_features=15 .................................................\n",
            "[CV]  max_features=15, AUC=(train=0.969, test=0.930), Accuracy=(train=0.960, test=0.940), F1=(train=0.960, test=0.940), total= 1.5min\n",
            "[CV] max_features=15 .................................................\n",
            "[CV]  max_features=15, AUC=(train=0.964, test=0.934), Accuracy=(train=0.960, test=0.951), F1=(train=0.960, test=0.951), total= 1.5min\n",
            "[CV] max_features=15 .................................................\n",
            "[CV]  max_features=15, AUC=(train=0.964, test=0.939), Accuracy=(train=0.960, test=0.930), F1=(train=0.960, test=0.930), total= 1.5min\n",
            "[CV] max_features=15 .................................................\n",
            "[CV]  max_features=15, AUC=(train=0.964, test=0.941), Accuracy=(train=0.961, test=0.951), F1=(train=0.961, test=0.951), total= 1.5min\n",
            "[CV] max_features=15 .................................................\n",
            "[CV]  max_features=15, AUC=(train=0.964, test=0.576), Accuracy=(train=0.960, test=0.704), F1=(train=0.960, test=0.704), total= 1.5min\n",
            "[CV] max_features=20 .................................................\n",
            "[CV]  max_features=20, AUC=(train=0.972, test=0.488), Accuracy=(train=0.969, test=0.881), F1=(train=0.969, test=0.881), total= 1.9min\n",
            "[CV] max_features=20 .................................................\n",
            "[CV]  max_features=20, AUC=(train=0.980, test=0.652), Accuracy=(train=0.971, test=0.932), F1=(train=0.971, test=0.932), total= 1.9min\n",
            "[CV] max_features=20 .................................................\n",
            "[CV]  max_features=20, AUC=(train=0.974, test=0.876), Accuracy=(train=0.966, test=0.950), F1=(train=0.966, test=0.950), total= 1.9min\n",
            "[CV] max_features=20 .................................................\n",
            "[CV]  max_features=20, AUC=(train=0.971, test=0.931), Accuracy=(train=0.966, test=0.945), F1=(train=0.966, test=0.945), total= 1.9min\n",
            "[CV] max_features=20 .................................................\n",
            "[CV]  max_features=20, AUC=(train=0.966, test=0.943), Accuracy=(train=0.964, test=0.955), F1=(train=0.964, test=0.955), total= 1.9min\n",
            "[CV] max_features=20 .................................................\n",
            "[CV]  max_features=20, AUC=(train=0.965, test=0.946), Accuracy=(train=0.964, test=0.933), F1=(train=0.964, test=0.933), total= 1.9min\n",
            "[CV] max_features=20 .................................................\n",
            "[CV]  max_features=20, AUC=(train=0.967, test=0.936), Accuracy=(train=0.965, test=0.952), F1=(train=0.965, test=0.952), total= 1.9min\n",
            "[CV] max_features=20 .................................................\n",
            "[CV]  max_features=20, AUC=(train=0.967, test=0.626), Accuracy=(train=0.965, test=0.731), F1=(train=0.965, test=0.731), total= 1.9min\n",
            "[CV] max_features=25 .................................................\n",
            "[CV]  max_features=25, AUC=(train=0.975, test=0.456), Accuracy=(train=0.972, test=0.800), F1=(train=0.972, test=0.800), total= 2.3min\n",
            "[CV] max_features=25 .................................................\n",
            "[CV]  max_features=25, AUC=(train=0.982, test=0.589), Accuracy=(train=0.974, test=0.932), F1=(train=0.974, test=0.932), total= 2.3min\n",
            "[CV] max_features=25 .................................................\n",
            "[CV]  max_features=25, AUC=(train=0.975, test=0.864), Accuracy=(train=0.968, test=0.952), F1=(train=0.968, test=0.952), total= 2.3min\n",
            "[CV] max_features=25 .................................................\n",
            "[CV]  max_features=25, AUC=(train=0.974, test=0.923), Accuracy=(train=0.968, test=0.946), F1=(train=0.968, test=0.946), total= 2.2min\n",
            "[CV] max_features=25 .................................................\n",
            "[CV]  max_features=25, AUC=(train=0.965, test=0.945), Accuracy=(train=0.966, test=0.956), F1=(train=0.966, test=0.956), total= 2.3min\n",
            "[CV] max_features=25 .................................................\n",
            "[CV]  max_features=25, AUC=(train=0.967, test=0.944), Accuracy=(train=0.966, test=0.928), F1=(train=0.966, test=0.928), total= 2.3min\n",
            "[CV] max_features=25 .................................................\n",
            "[CV]  max_features=25, AUC=(train=0.969, test=0.946), Accuracy=(train=0.968, test=0.953), F1=(train=0.968, test=0.953), total= 2.3min\n",
            "[CV] max_features=25 .................................................\n",
            "[CV]  max_features=25, AUC=(train=0.968, test=0.588), Accuracy=(train=0.967, test=0.592), F1=(train=0.967, test=0.592), total= 2.2min\n",
            "[CV] max_features=35 .................................................\n",
            "[CV]  max_features=35, AUC=(train=0.974, test=0.403), Accuracy=(train=0.975, test=0.310), F1=(train=0.975, test=0.310), total= 3.1min\n",
            "[CV] max_features=35 .................................................\n",
            "[CV]  max_features=35, AUC=(train=0.982, test=0.571), Accuracy=(train=0.976, test=0.930), F1=(train=0.976, test=0.930), total= 3.0min\n",
            "[CV] max_features=35 .................................................\n",
            "[CV]  max_features=35, AUC=(train=0.974, test=0.855), Accuracy=(train=0.972, test=0.954), F1=(train=0.972, test=0.954), total= 3.0min\n",
            "[CV] max_features=35 .................................................\n",
            "[CV]  max_features=35, AUC=(train=0.973, test=0.930), Accuracy=(train=0.971, test=0.949), F1=(train=0.971, test=0.949), total= 3.0min\n",
            "[CV] max_features=35 .................................................\n",
            "[CV]  max_features=35, AUC=(train=0.969, test=0.926), Accuracy=(train=0.970, test=0.961), F1=(train=0.970, test=0.961), total= 3.1min\n",
            "[CV] max_features=35 .................................................\n",
            "[CV]  max_features=35, AUC=(train=0.966, test=0.947), Accuracy=(train=0.970, test=0.930), F1=(train=0.970, test=0.930), total= 3.0min\n",
            "[CV] max_features=35 .................................................\n",
            "[CV]  max_features=35, AUC=(train=0.970, test=0.941), Accuracy=(train=0.971, test=0.956), F1=(train=0.971, test=0.956), total= 3.0min\n",
            "[CV] max_features=35 .................................................\n",
            "[CV]  max_features=35, AUC=(train=0.967, test=0.534), Accuracy=(train=0.971, test=0.239), F1=(train=0.971, test=0.239), total= 3.0min\n"
          ]
        },
        {
          "name": "stderr",
          "output_type": "stream",
          "text": [
            "[Parallel(n_jobs=1)]: Done  40 out of  40 | elapsed: 79.4min finished\n"
          ]
        },
        {
          "name": "stdout",
          "output_type": "stream",
          "text": [
            "\n",
            " Time taken: 1 hours 20 minutes and 34.64 seconds.\n"
          ]
        }
      ]
    },
    {
      "cell_type": "code",
      "metadata": {
        "colab": {
          "base_uri": "https://localhost:8080/"
        },
        "id": "A2WoriICT5l_",
        "outputId": "0cd85ca3-b05c-4f49-ffe2-b7f03d9aea76"
      },
      "source": [
        "gsearch3.best_params_, gsearch3.best_score_\n"
      ],
      "execution_count": null,
      "outputs": [
        {
          "data": {
            "text/plain": [
              "({'max_features': 10}, 0.8146636395686226)"
            ]
          },
          "execution_count": 26,
          "metadata": {},
          "output_type": "execute_result"
        }
      ]
    },
    {
      "cell_type": "markdown",
      "metadata": {
        "id": "mtRedMj2gR0_"
      },
      "source": [
        "## **E. subsample**"
      ]
    },
    {
      "cell_type": "code",
      "metadata": {
        "id": "i5Py9HGDhq8C"
      },
      "source": [
        "gbc6 = GradientBoostingClassifier(random_state=10, learning_rate=0.01, n_estimators=100, max_depth=15,min_samples_leaf= 1, min_samples_split= 4, max_features= 10)\n",
        "parameters6 = {\n",
        "    'subsample':[0.7,0.8,0.9,1]\n",
        "}\n",
        "scoring6 = {'AUC': 'roc_auc', 'Accuracy': make_scorer(accuracy_score), 'F1':make_scorer(f1_score, average='micro')}"
      ],
      "execution_count": null,
      "outputs": []
    },
    {
      "cell_type": "code",
      "metadata": {
        "colab": {
          "base_uri": "https://localhost:8080/"
        },
        "id": "CnnKU27Yhq8D",
        "outputId": "71fa6c37-0017-4dc3-9c86-7913b93d2454"
      },
      "source": [
        "\n",
        "start_time = timer(None) # timing starts from this point for \"start_time\" variable\n",
        "gsearch6 = GridSearchCV(estimator=gbc6,param_grid=parameters6,scoring=scoring6, cv=8, verbose=3, refit='AUC', return_train_score=True)\n",
        "gsearch6.fit(X,Y)\n",
        "timer(start_time) # timing ends here for \"start_time\" variable"
      ],
      "execution_count": null,
      "outputs": [
        {
          "name": "stdout",
          "output_type": "stream",
          "text": [
            "Fitting 8 folds for each of 4 candidates, totalling 32 fits\n",
            "[CV] subsample=0.7 ...................................................\n"
          ]
        },
        {
          "name": "stderr",
          "output_type": "stream",
          "text": [
            "[Parallel(n_jobs=1)]: Using backend SequentialBackend with 1 concurrent workers.\n"
          ]
        },
        {
          "name": "stdout",
          "output_type": "stream",
          "text": [
            "[CV]  subsample=0.7, AUC=(train=0.970, test=0.505), Accuracy=(train=0.958, test=0.916), F1=(train=0.958, test=0.916), total=  47.1s\n",
            "[CV] subsample=0.7 ...................................................\n"
          ]
        },
        {
          "name": "stderr",
          "output_type": "stream",
          "text": [
            "[Parallel(n_jobs=1)]: Done   1 out of   1 | elapsed:   49.6s remaining:    0.0s\n"
          ]
        },
        {
          "name": "stdout",
          "output_type": "stream",
          "text": [
            "[CV]  subsample=0.7, AUC=(train=0.975, test=0.672), Accuracy=(train=0.957, test=0.928), F1=(train=0.957, test=0.928), total=  47.1s\n",
            "[CV] subsample=0.7 ...................................................\n"
          ]
        },
        {
          "name": "stderr",
          "output_type": "stream",
          "text": [
            "[Parallel(n_jobs=1)]: Done   2 out of   2 | elapsed:  1.7min remaining:    0.0s\n"
          ]
        },
        {
          "name": "stdout",
          "output_type": "stream",
          "text": [
            "[CV]  subsample=0.7, AUC=(train=0.966, test=0.879), Accuracy=(train=0.954, test=0.945), F1=(train=0.954, test=0.945), total=  46.9s\n",
            "[CV] subsample=0.7 ...................................................\n",
            "[CV]  subsample=0.7, AUC=(train=0.966, test=0.928), Accuracy=(train=0.954, test=0.947), F1=(train=0.954, test=0.947), total=  46.7s\n",
            "[CV] subsample=0.7 ...................................................\n",
            "[CV]  subsample=0.7, AUC=(train=0.962, test=0.940), Accuracy=(train=0.953, test=0.947), F1=(train=0.953, test=0.947), total=  46.7s\n",
            "[CV] subsample=0.7 ...................................................\n",
            "[CV]  subsample=0.7, AUC=(train=0.958, test=0.941), Accuracy=(train=0.953, test=0.935), F1=(train=0.953, test=0.935), total=  46.2s\n",
            "[CV] subsample=0.7 ...................................................\n",
            "[CV]  subsample=0.7, AUC=(train=0.962, test=0.933), Accuracy=(train=0.954, test=0.947), F1=(train=0.954, test=0.947), total=  46.5s\n",
            "[CV] subsample=0.7 ...................................................\n",
            "[CV]  subsample=0.7, AUC=(train=0.961, test=0.666), Accuracy=(train=0.954, test=0.893), F1=(train=0.954, test=0.893), total=  46.6s\n",
            "[CV] subsample=0.8 ...................................................\n",
            "[CV]  subsample=0.8, AUC=(train=0.968, test=0.522), Accuracy=(train=0.958, test=0.926), F1=(train=0.958, test=0.926), total=  52.4s\n",
            "[CV] subsample=0.8 ...................................................\n",
            "[CV]  subsample=0.8, AUC=(train=0.974, test=0.681), Accuracy=(train=0.957, test=0.928), F1=(train=0.957, test=0.928), total=  53.2s\n",
            "[CV] subsample=0.8 ...................................................\n",
            "[CV]  subsample=0.8, AUC=(train=0.967, test=0.863), Accuracy=(train=0.954, test=0.942), F1=(train=0.954, test=0.942), total=  52.6s\n",
            "[CV] subsample=0.8 ...................................................\n",
            "[CV]  subsample=0.8, AUC=(train=0.963, test=0.922), Accuracy=(train=0.954, test=0.942), F1=(train=0.954, test=0.942), total=  52.4s\n",
            "[CV] subsample=0.8 ...................................................\n",
            "[CV]  subsample=0.8, AUC=(train=0.961, test=0.921), Accuracy=(train=0.954, test=0.946), F1=(train=0.954, test=0.946), total=  52.5s\n",
            "[CV] subsample=0.8 ...................................................\n",
            "[CV]  subsample=0.8, AUC=(train=0.960, test=0.936), Accuracy=(train=0.954, test=0.933), F1=(train=0.954, test=0.933), total=  52.4s\n",
            "[CV] subsample=0.8 ...................................................\n",
            "[CV]  subsample=0.8, AUC=(train=0.961, test=0.929), Accuracy=(train=0.954, test=0.947), F1=(train=0.954, test=0.947), total=  52.4s\n",
            "[CV] subsample=0.8 ...................................................\n",
            "[CV]  subsample=0.8, AUC=(train=0.961, test=0.657), Accuracy=(train=0.954, test=0.894), F1=(train=0.954, test=0.894), total=  52.1s\n",
            "[CV] subsample=0.9 ...................................................\n",
            "[CV]  subsample=0.9, AUC=(train=0.967, test=0.491), Accuracy=(train=0.958, test=0.917), F1=(train=0.958, test=0.917), total=  58.2s\n",
            "[CV] subsample=0.9 ...................................................\n",
            "[CV]  subsample=0.9, AUC=(train=0.974, test=0.676), Accuracy=(train=0.956, test=0.928), F1=(train=0.956, test=0.928), total=  58.3s\n",
            "[CV] subsample=0.9 ...................................................\n",
            "[CV]  subsample=0.9, AUC=(train=0.966, test=0.860), Accuracy=(train=0.955, test=0.944), F1=(train=0.955, test=0.944), total=  57.7s\n",
            "[CV] subsample=0.9 ...................................................\n",
            "[CV]  subsample=0.9, AUC=(train=0.963, test=0.927), Accuracy=(train=0.953, test=0.942), F1=(train=0.953, test=0.942), total=  57.5s\n",
            "[CV] subsample=0.9 ...................................................\n",
            "[CV]  subsample=0.9, AUC=(train=0.958, test=0.928), Accuracy=(train=0.953, test=0.946), F1=(train=0.953, test=0.946), total=  57.6s\n",
            "[CV] subsample=0.9 ...................................................\n",
            "[CV]  subsample=0.9, AUC=(train=0.958, test=0.937), Accuracy=(train=0.953, test=0.930), F1=(train=0.953, test=0.930), total=  57.6s\n",
            "[CV] subsample=0.9 ...................................................\n",
            "[CV]  subsample=0.9, AUC=(train=0.959, test=0.930), Accuracy=(train=0.954, test=0.947), F1=(train=0.954, test=0.947), total=  58.0s\n",
            "[CV] subsample=0.9 ...................................................\n",
            "[CV]  subsample=0.9, AUC=(train=0.961, test=0.671), Accuracy=(train=0.955, test=0.899), F1=(train=0.955, test=0.899), total=  57.8s\n",
            "[CV] subsample=1 .....................................................\n",
            "[CV]  subsample=1, AUC=(train=0.967, test=0.551), Accuracy=(train=0.957, test=0.921), F1=(train=0.957, test=0.921), total= 1.1min\n",
            "[CV] subsample=1 .....................................................\n",
            "[CV]  subsample=1, AUC=(train=0.973, test=0.690), Accuracy=(train=0.956, test=0.929), F1=(train=0.956, test=0.929), total= 1.1min\n",
            "[CV] subsample=1 .....................................................\n",
            "[CV]  subsample=1, AUC=(train=0.964, test=0.870), Accuracy=(train=0.954, test=0.943), F1=(train=0.954, test=0.943), total= 1.1min\n",
            "[CV] subsample=1 .....................................................\n",
            "[CV]  subsample=1, AUC=(train=0.963, test=0.919), Accuracy=(train=0.953, test=0.940), F1=(train=0.953, test=0.940), total= 1.1min\n",
            "[CV] subsample=1 .....................................................\n",
            "[CV]  subsample=1, AUC=(train=0.959, test=0.927), Accuracy=(train=0.953, test=0.945), F1=(train=0.953, test=0.945), total= 1.1min\n",
            "[CV] subsample=1 .....................................................\n",
            "[CV]  subsample=1, AUC=(train=0.956, test=0.937), Accuracy=(train=0.953, test=0.933), F1=(train=0.953, test=0.933), total= 1.1min\n",
            "[CV] subsample=1 .....................................................\n",
            "[CV]  subsample=1, AUC=(train=0.960, test=0.929), Accuracy=(train=0.954, test=0.945), F1=(train=0.954, test=0.945), total= 1.1min\n",
            "[CV] subsample=1 .....................................................\n",
            "[CV]  subsample=1, AUC=(train=0.960, test=0.695), Accuracy=(train=0.954, test=0.913), F1=(train=0.954, test=0.913), total= 1.1min\n"
          ]
        },
        {
          "name": "stderr",
          "output_type": "stream",
          "text": [
            "[Parallel(n_jobs=1)]: Done  32 out of  32 | elapsed: 30.8min finished\n"
          ]
        },
        {
          "name": "stdout",
          "output_type": "stream",
          "text": [
            "\n",
            " Time taken: 0 hours 31 minutes and 59.05 seconds.\n"
          ]
        }
      ]
    },
    {
      "cell_type": "code",
      "metadata": {
        "colab": {
          "base_uri": "https://localhost:8080/"
        },
        "id": "u06pmQmIhq8E",
        "outputId": "820b52de-f090-48fc-b996-fa88c9ec07c3"
      },
      "source": [
        "gsearch6.best_params_, gsearch6.best_score_\n"
      ],
      "execution_count": null,
      "outputs": [
        {
          "data": {
            "text/plain": [
              "({'subsample': 1}, 0.8146636395686226)"
            ]
          },
          "execution_count": 29,
          "metadata": {},
          "output_type": "execute_result"
        }
      ]
    },
    {
      "cell_type": "markdown",
      "metadata": {
        "id": "YSh_tV1ag3Qf"
      },
      "source": [
        "## **F. random_state**"
      ]
    },
    {
      "cell_type": "code",
      "metadata": {
        "id": "7QgWHeu6i-mC"
      },
      "source": [
        "gbc8 = GradientBoostingClassifier(learning_rate=0.01, n_estimators=100, max_depth=15,min_samples_leaf= 1, subsample=1, min_samples_split= 4, max_features= 10)\n",
        "parameters8 = {\n",
        "    'random_state':[10,40,70,100]\n",
        "}\n",
        "scoring8 = {'AUC': 'roc_auc', 'Accuracy': make_scorer(accuracy_score), 'F1':make_scorer(f1_score, average='micro')}"
      ],
      "execution_count": null,
      "outputs": []
    },
    {
      "cell_type": "code",
      "metadata": {
        "colab": {
          "base_uri": "https://localhost:8080/"
        },
        "id": "ESXE7GCZi-mD",
        "outputId": "e9d95730-72fa-419e-ec06-57ec3c84d635"
      },
      "source": [
        "\n",
        "start_time = timer(None) # timing starts from this point for \"start_time\" variable\n",
        "gsearch8 = GridSearchCV(estimator=gbc8,param_grid=parameters8,scoring=scoring8, cv=8, verbose=3, refit='AUC', return_train_score=True)\n",
        "gsearch8.fit(X,Y)\n",
        "timer(start_time) # timing ends here for \"start_time\" variable"
      ],
      "execution_count": null,
      "outputs": [
        {
          "name": "stdout",
          "output_type": "stream",
          "text": [
            "Fitting 8 folds for each of 4 candidates, totalling 32 fits\n",
            "[CV] random_state=10 .................................................\n"
          ]
        },
        {
          "name": "stderr",
          "output_type": "stream",
          "text": [
            "[Parallel(n_jobs=1)]: Using backend SequentialBackend with 1 concurrent workers.\n"
          ]
        },
        {
          "name": "stdout",
          "output_type": "stream",
          "text": [
            "[CV]  random_state=10, AUC=(train=0.967, test=0.551), Accuracy=(train=0.957, test=0.921), F1=(train=0.957, test=0.921), total= 1.1min\n",
            "[CV] random_state=10 .................................................\n"
          ]
        },
        {
          "name": "stderr",
          "output_type": "stream",
          "text": [
            "[Parallel(n_jobs=1)]: Done   1 out of   1 | elapsed:  1.1min remaining:    0.0s\n"
          ]
        },
        {
          "name": "stdout",
          "output_type": "stream",
          "text": [
            "[CV]  random_state=10, AUC=(train=0.973, test=0.690), Accuracy=(train=0.956, test=0.929), F1=(train=0.956, test=0.929), total= 1.1min\n",
            "[CV] random_state=10 .................................................\n"
          ]
        },
        {
          "name": "stderr",
          "output_type": "stream",
          "text": [
            "[Parallel(n_jobs=1)]: Done   2 out of   2 | elapsed:  2.2min remaining:    0.0s\n"
          ]
        },
        {
          "name": "stdout",
          "output_type": "stream",
          "text": [
            "[CV]  random_state=10, AUC=(train=0.964, test=0.870), Accuracy=(train=0.954, test=0.943), F1=(train=0.954, test=0.943), total= 1.1min\n",
            "[CV] random_state=10 .................................................\n",
            "[CV]  random_state=10, AUC=(train=0.963, test=0.919), Accuracy=(train=0.953, test=0.940), F1=(train=0.953, test=0.940), total= 1.1min\n",
            "[CV] random_state=10 .................................................\n",
            "[CV]  random_state=10, AUC=(train=0.959, test=0.927), Accuracy=(train=0.953, test=0.945), F1=(train=0.953, test=0.945), total= 1.1min\n",
            "[CV] random_state=10 .................................................\n",
            "[CV]  random_state=10, AUC=(train=0.956, test=0.937), Accuracy=(train=0.953, test=0.933), F1=(train=0.953, test=0.933), total= 1.1min\n",
            "[CV] random_state=10 .................................................\n",
            "[CV]  random_state=10, AUC=(train=0.960, test=0.929), Accuracy=(train=0.954, test=0.945), F1=(train=0.954, test=0.945), total= 1.1min\n",
            "[CV] random_state=10 .................................................\n",
            "[CV]  random_state=10, AUC=(train=0.960, test=0.695), Accuracy=(train=0.954, test=0.913), F1=(train=0.954, test=0.913), total= 1.1min\n",
            "[CV] random_state=40 .................................................\n",
            "[CV]  random_state=40, AUC=(train=0.967, test=0.525), Accuracy=(train=0.956, test=0.922), F1=(train=0.956, test=0.922), total= 1.1min\n",
            "[CV] random_state=40 .................................................\n",
            "[CV]  random_state=40, AUC=(train=0.972, test=0.698), Accuracy=(train=0.956, test=0.929), F1=(train=0.956, test=0.929), total= 1.1min\n",
            "[CV] random_state=40 .................................................\n",
            "[CV]  random_state=40, AUC=(train=0.964, test=0.870), Accuracy=(train=0.954, test=0.943), F1=(train=0.954, test=0.943), total= 1.1min\n",
            "[CV] random_state=40 .................................................\n",
            "[CV]  random_state=40, AUC=(train=0.962, test=0.924), Accuracy=(train=0.953, test=0.937), F1=(train=0.953, test=0.937), total= 1.1min\n",
            "[CV] random_state=40 .................................................\n",
            "[CV]  random_state=40, AUC=(train=0.958, test=0.936), Accuracy=(train=0.953, test=0.946), F1=(train=0.953, test=0.946), total= 1.1min\n",
            "[CV] random_state=40 .................................................\n",
            "[CV]  random_state=40, AUC=(train=0.957, test=0.937), Accuracy=(train=0.953, test=0.938), F1=(train=0.953, test=0.938), total= 1.0min\n",
            "[CV] random_state=40 .................................................\n",
            "[CV]  random_state=40, AUC=(train=0.958, test=0.927), Accuracy=(train=0.954, test=0.947), F1=(train=0.954, test=0.947), total= 1.1min\n",
            "[CV] random_state=40 .................................................\n",
            "[CV]  random_state=40, AUC=(train=0.959, test=0.714), Accuracy=(train=0.954, test=0.911), F1=(train=0.954, test=0.911), total= 1.0min\n",
            "[CV] random_state=70 .................................................\n",
            "[CV]  random_state=70, AUC=(train=0.968, test=0.494), Accuracy=(train=0.958, test=0.911), F1=(train=0.958, test=0.911), total= 1.1min\n",
            "[CV] random_state=70 .................................................\n",
            "[CV]  random_state=70, AUC=(train=0.974, test=0.681), Accuracy=(train=0.956, test=0.928), F1=(train=0.956, test=0.928), total= 1.1min\n",
            "[CV] random_state=70 .................................................\n",
            "[CV]  random_state=70, AUC=(train=0.964, test=0.873), Accuracy=(train=0.955, test=0.943), F1=(train=0.955, test=0.943), total= 1.1min\n",
            "[CV] random_state=70 .................................................\n",
            "[CV]  random_state=70, AUC=(train=0.963, test=0.920), Accuracy=(train=0.954, test=0.936), F1=(train=0.954, test=0.936), total= 1.1min\n",
            "[CV] random_state=70 .................................................\n",
            "[CV]  random_state=70, AUC=(train=0.960, test=0.926), Accuracy=(train=0.953, test=0.946), F1=(train=0.953, test=0.946), total= 1.1min\n",
            "[CV] random_state=70 .................................................\n",
            "[CV]  random_state=70, AUC=(train=0.959, test=0.938), Accuracy=(train=0.954, test=0.934), F1=(train=0.954, test=0.934), total= 1.1min\n",
            "[CV] random_state=70 .................................................\n",
            "[CV]  random_state=70, AUC=(train=0.962, test=0.925), Accuracy=(train=0.955, test=0.947), F1=(train=0.955, test=0.947), total= 1.1min\n",
            "[CV] random_state=70 .................................................\n",
            "[CV]  random_state=70, AUC=(train=0.960, test=0.684), Accuracy=(train=0.954, test=0.896), F1=(train=0.954, test=0.896), total= 1.0min\n",
            "[CV] random_state=100 ................................................\n",
            "[CV]  random_state=100, AUC=(train=0.967, test=0.497), Accuracy=(train=0.958, test=0.913), F1=(train=0.958, test=0.913), total= 1.1min\n",
            "[CV] random_state=100 ................................................\n",
            "[CV]  random_state=100, AUC=(train=0.974, test=0.691), Accuracy=(train=0.957, test=0.928), F1=(train=0.957, test=0.928), total= 1.1min\n",
            "[CV] random_state=100 ................................................\n",
            "[CV]  random_state=100, AUC=(train=0.964, test=0.882), Accuracy=(train=0.955, test=0.945), F1=(train=0.955, test=0.945), total= 1.1min\n",
            "[CV] random_state=100 ................................................\n",
            "[CV]  random_state=100, AUC=(train=0.964, test=0.926), Accuracy=(train=0.954, test=0.942), F1=(train=0.954, test=0.942), total= 1.1min\n",
            "[CV] random_state=100 ................................................\n",
            "[CV]  random_state=100, AUC=(train=0.960, test=0.928), Accuracy=(train=0.953, test=0.945), F1=(train=0.953, test=0.945), total= 1.1min\n",
            "[CV] random_state=100 ................................................\n",
            "[CV]  random_state=100, AUC=(train=0.959, test=0.940), Accuracy=(train=0.954, test=0.934), F1=(train=0.954, test=0.934), total= 1.1min\n",
            "[CV] random_state=100 ................................................\n",
            "[CV]  random_state=100, AUC=(train=0.961, test=0.929), Accuracy=(train=0.955, test=0.945), F1=(train=0.955, test=0.945), total= 1.1min\n",
            "[CV] random_state=100 ................................................\n",
            "[CV]  random_state=100, AUC=(train=0.960, test=0.683), Accuracy=(train=0.954, test=0.906), F1=(train=0.954, test=0.906), total= 1.1min\n"
          ]
        },
        {
          "name": "stderr",
          "output_type": "stream",
          "text": [
            "[Parallel(n_jobs=1)]: Done  32 out of  32 | elapsed: 35.2min finished\n"
          ]
        },
        {
          "name": "stdout",
          "output_type": "stream",
          "text": [
            "\n",
            " Time taken: 0 hours 36 minutes and 27.81 seconds.\n"
          ]
        }
      ]
    },
    {
      "cell_type": "code",
      "metadata": {
        "colab": {
          "base_uri": "https://localhost:8080/"
        },
        "id": "OVXu8iKei-mE",
        "outputId": "5ea91516-47a5-47da-f299-c685f238e6ae"
      },
      "source": [
        "gsearch8.best_params_, gsearch8.best_score_\n"
      ],
      "execution_count": null,
      "outputs": [
        {
          "data": {
            "text/plain": [
              "({'random_state': 40}, 0.8164937768215851)"
            ]
          },
          "execution_count": 33,
          "metadata": {},
          "output_type": "execute_result"
        }
      ]
    },
    {
      "cell_type": "markdown",
      "metadata": {
        "id": "6lsjrvZnYECl"
      },
      "source": [
        "Finally, a parameter setting has been made with the most commonly used GradientBoosting arguments. The training score has been increased from 87% to 96%. Finally, an analysis of the number of partitions in the GridSearch with respect to the training score will also be made. "
      ]
    },
    {
      "cell_type": "markdown",
      "metadata": {
        "id": "A4DEs-7FhCDt"
      },
      "source": [
        "## **G. Learning_rate y cv** "
      ]
    },
    {
      "cell_type": "markdown",
      "metadata": {
        "id": "5BEYIfH_hKgH"
      },
      "source": [
        "### **G.1. For 2, 3, 5, 8, 10 y 15 partitions** "
      ]
    },
    {
      "cell_type": "code",
      "metadata": {
        "colab": {
          "base_uri": "https://localhost:8080/"
        },
        "id": "u5uPCdR4me_e",
        "outputId": "8683845b-fc5b-495d-cae9-9b9d7b2c13fc"
      },
      "source": [
        "cv=[2,3,5,8,10,15] \n",
        "scores,tiempo,param=[],[],[]\n",
        "for crosval in cv:\n",
        "  \n",
        "  start_time = timer(None)\n",
        "  parameters = {\n",
        "      \"learning_rate\":[0.01,0.1,1, 1.5] \n",
        "  }\n",
        "  scoring = {'AUC': 'roc_auc', 'Accuracy': make_scorer(accuracy_score), 'F1':make_scorer(f1_score, average='micro')}\n",
        "  gb = GradientBoostingClassifier(random_state= 40,n_estimators=100, max_depth=15,min_samples_leaf= 1, subsample=1, min_samples_split= 4, max_features= 10)\n",
        "  gsearch = GridSearchCV(estimator=gb,param_grid=parameters,scoring=scoring, cv=crosval, refit='AUC', return_train_score=True)\n",
        "  gsearch.fit(X,Y)\n",
        "  scores.append(np.round((gsearch.best_score_*100),2))\n",
        "  h,m,s=timer(start_time)\n",
        "  tiempo.append((h+(m/60)+(s/3600)))\n",
        "  lrate=gsearch.best_params_\n",
        "  param.append(lrate['learning_rate'])\n",
        "  print('Con CV:',crosval)\n",
        "  print('Mejores parámetros',gsearch.best_params_)\n",
        "  print('Mejor score',gsearch.best_score_)\n",
        "  print('Mejores evaluaciones',gsearch.scorer_)\n",
        "  print('-'*40)\n",
        "    \n",
        "  \n",
        "   # timing starts from this point for \"start_time\" variable\n",
        "  "
      ],
      "execution_count": null,
      "outputs": [
        {
          "name": "stdout",
          "output_type": "stream",
          "text": [
            "\n",
            " Time taken: 0 hours 6 minutes and 9.62 seconds.\n",
            "Con CV: 2\n",
            "Mejores parámetros {'learning_rate': 1}\n",
            "Mejor score 0.5700949867730907\n",
            "Mejores evaluaciones {'AUC': make_scorer(roc_auc_score, needs_threshold=True), 'Accuracy': make_scorer(accuracy_score), 'F1': make_scorer(f1_score, average=micro)}\n",
            "----------------------------------------\n",
            "\n",
            " Time taken: 0 hours 11 minutes and 7.73 seconds.\n",
            "Con CV: 3\n",
            "Mejores parámetros {'learning_rate': 0.1}\n",
            "Mejor score 0.6496547166756073\n",
            "Mejores evaluaciones {'AUC': make_scorer(roc_auc_score, needs_threshold=True), 'Accuracy': make_scorer(accuracy_score), 'F1': make_scorer(f1_score, average=micro)}\n",
            "----------------------------------------\n",
            "\n",
            " Time taken: 0 hours 21 minutes and 2.86 seconds.\n",
            "Con CV: 5\n",
            "Mejores parámetros {'learning_rate': 0.1}\n",
            "Mejor score 0.7548399125140717\n",
            "Mejores evaluaciones {'AUC': make_scorer(roc_auc_score, needs_threshold=True), 'Accuracy': make_scorer(accuracy_score), 'F1': make_scorer(f1_score, average=micro)}\n",
            "----------------------------------------\n",
            "\n",
            " Time taken: 0 hours 35 minutes and 47.77 seconds.\n",
            "Con CV: 8\n",
            "Mejores parámetros {'learning_rate': 0.1}\n",
            "Mejor score 0.824908010840232\n",
            "Mejores evaluaciones {'AUC': make_scorer(roc_auc_score, needs_threshold=True), 'Accuracy': make_scorer(accuracy_score), 'F1': make_scorer(f1_score, average=micro)}\n",
            "----------------------------------------\n",
            "\n",
            " Time taken: 0 hours 45 minutes and 55.69 seconds.\n",
            "Con CV: 10\n",
            "Mejores parámetros {'learning_rate': 0.1}\n",
            "Mejor score 0.8471073448258831\n",
            "Mejores evaluaciones {'AUC': make_scorer(roc_auc_score, needs_threshold=True), 'Accuracy': make_scorer(accuracy_score), 'F1': make_scorer(f1_score, average=micro)}\n",
            "----------------------------------------\n",
            "\n",
            " Time taken: 1 hours 11 minutes and 6.71 seconds.\n",
            "Con CV: 15\n",
            "Mejores parámetros {'learning_rate': 0.1}\n",
            "Mejor score 0.8907272637213577\n",
            "Mejores evaluaciones {'AUC': make_scorer(roc_auc_score, needs_threshold=True), 'Accuracy': make_scorer(accuracy_score), 'F1': make_scorer(f1_score, average=micro)}\n",
            "----------------------------------------\n"
          ]
        }
      ]
    },
    {
      "cell_type": "code",
      "metadata": {
        "colab": {
          "base_uri": "https://localhost:8080/"
        },
        "id": "U17h98q8xMLK",
        "outputId": "532594ea-469b-420c-edef-3d1dd79ec596"
      },
      "source": [
        "cv"
      ],
      "execution_count": null,
      "outputs": [
        {
          "data": {
            "text/plain": [
              "[2, 3, 5, 8, 10, 15]"
            ]
          },
          "execution_count": 24,
          "metadata": {},
          "output_type": "execute_result"
        }
      ]
    },
    {
      "cell_type": "markdown",
      "metadata": {
        "id": "NYh1SYgRhyf7"
      },
      "source": [
        "### **Analysis obtained from the GridSearch with respect to the number of partitions**"
      ]
    },
    {
      "cell_type": "markdown",
      "metadata": {
        "id": "88VNIYz-52qm"
      },
      "source": [
        "With the following figure it is possible to determine that the best number of partitions (according to the configured parameters) is the evaluation of the model with 15 partitions under cross-validation. Using this function it has been possible to obtain the accuracy/loss for each specified combination, observing also how increasing the number of partitions increases its performance and score affecting proportionally as well the execution time."
      ]
    },
    {
      "cell_type": "code",
      "metadata": {
        "colab": {
          "base_uri": "https://localhost:8080/",
          "height": 570
        },
        "id": "nOGcADVwxRLr",
        "outputId": "3b68c54a-b918-4f12-d03b-17dc72f51b1a"
      },
      "source": [
        "plt.style.use('ggplot')\n",
        "fig, ax1 = plt.subplots(figsize=(10,8))\n",
        "my_colors = 'rgbkymc'\n",
        "#color = 'tab:blue'\n",
        "ax1.set_xlabel('# de Particiones CV')\n",
        "ax1.set_ylabel('Tiempo de ejecución [h]')\n",
        "ax1.bar(cv, tiempo, color=my_colors)\n",
        "ax1.tick_params(axis='y')\n",
        "ax1.grid(False)\n",
        "ax1.tick_params(axis='both',colors='black') \n",
        "ax2 = ax1.twinx()  # instantiate a second axes that shares the same x-axis\n",
        "\n",
        "color = 'tab:red'\n",
        "ax2.set_ylabel('Score - ROC_AUC')  # we already handled the x-label with ax1\n",
        "ax2.plot(cv, scores, marker='o', color='black', label='ROC_AUC para cada CV')\n",
        "ax2.tick_params(axis='y')\n",
        "ax2.legend(loc='upper left')\n",
        "ax2.tick_params(axis='both',colors='black') \n",
        "arects = ax1.patches\n",
        "\n",
        "# Make some labels.\n",
        "\n",
        "for rect, label in zip(rects, param):\n",
        "    height = rect.get_height()\n",
        "    ax1.text(\n",
        "        rect.get_x() + rect.get_width(), height , label, ha=\"center\", va=\"bottom\", fontweight='bold'\n",
        "    )\n",
        "\n",
        "#plt.show()\n",
        "\n",
        "\n",
        "fig.tight_layout()  # otherwise the right y-label is slightly clipped\n",
        "plt.savefig(\"gbm_n01.jpg\", dpi=600)\n",
        "#plt.show()"
      ],
      "execution_count": null,
      "outputs": [
        {
          "name": "stderr",
          "output_type": "stream",
          "text": [
            "/usr/local/lib/python3.7/dist-packages/ipykernel_launcher.py:7: MatplotlibDeprecationWarning: Using a string of single character colors as a color sequence is deprecated. Use an explicit list instead.\n",
            "  import sys\n"
          ]
        },
        {
          "data": {
            "image/png": "[encoded data removed]",
            "text/plain": [
              "<Figure size 1000x800 with 2 Axes>"
            ]
          },
          "metadata": {},
          "output_type": "display_data"
        }
      ]
    },
    {
      "cell_type": "code",
      "metadata": {
        "colab": {
          "base_uri": "https://localhost:8080/",
          "height": 33
        },
        "id": "K8ub9Ealk-y8",
        "outputId": "f6aadb0d-48a6-42c5-f290-4901e2f02dee"
      },
      "source": [
        "plt.savefig(\"gbm_n01.jpg\", dpi=600)\n"
      ],
      "execution_count": null,
      "outputs": [
        {
          "data": {
            "text/plain": [
              "<Figure size 640x480 with 0 Axes>"
            ]
          },
          "metadata": {},
          "output_type": "display_data"
        }
      ]
    },
    {
      "cell_type": "markdown",
      "metadata": {
        "id": "jwz3bshCo89T"
      },
      "source": [
        "## **H. Entrenamiento con grid search**"
      ]
    },
    {
      "cell_type": "code",
      "metadata": {
        "id": "6J7w5BlRt6pA"
      },
      "source": [
        "X_train, X_test, y_train, y_test = train_test_split(X, Y, train_size=0.75, random_state=42, stratify=Y)"
      ],
      "execution_count": null,
      "outputs": []
    },
    {
      "cell_type": "code",
      "metadata": {
        "colab": {
          "base_uri": "https://localhost:8080/"
        },
        "id": "wQvAxivVmeLX",
        "outputId": "9ec079d8-af86-4994-f599-b70e755ec461"
      },
      "source": [
        "start_time = timer(None)\n",
        "parameters = {\n",
        "    \"learning_rate\":[0.01,0.1,1, 1.5] \n",
        "}\n",
        "scoring = {'AUC': 'roc_auc', 'Accuracy': make_scorer(accuracy_score), 'F1':make_scorer(f1_score, average='micro')}\n",
        "gb =GradientBoostingClassifier(random_state= 40,n_estimators=100, max_depth=15,min_samples_leaf= 1, subsample=1, min_samples_split= 4, max_features= 10)\n",
        "gsearch = GridSearchCV(estimator=gb,param_grid=parameters,scoring=scoring, cv=15, refit='AUC', return_train_score=True)\n",
        "gsearch.fit(X_train,y_train)\n",
        "print('Mejores parámetros para 15 splits',gsearch.best_params_)\n",
        "print('Mejor score',gsearch.best_score_)\n",
        "print('Evaluadores',gsearch.scorer_)\n",
        "  \n",
        "\n",
        " # timing starts from this point for \"start_time\" variable\n",
        "timer(start_time)"
      ],
      "execution_count": null,
      "outputs": [
        {
          "name": "stdout",
          "output_type": "stream",
          "text": [
            "Mejores parámetros para 15 splits {'learning_rate': 0.1}\n",
            "Mejor score 0.9760556242862581\n",
            "Evaluadores {'AUC': make_scorer(roc_auc_score, needs_threshold=True), 'Accuracy': make_scorer(accuracy_score), 'F1': make_scorer(f1_score, average=micro)}\n",
            "\n",
            " Time taken: 0 hours 50 minutes and 27.81 seconds.\n"
          ]
        },
        {
          "data": {
            "text/plain": [
              "(0.0, 50.0, 27.805919999999787)"
            ]
          },
          "execution_count": 23,
          "metadata": {},
          "output_type": "execute_result"
        }
      ]
    },
    {
      "cell_type": "markdown",
      "metadata": {
        "id": "bau5E68u6DKk"
      },
      "source": [
        "The roc curve and the confusion matrix are observed to determine how many cases were indeed well predicted by the model."
      ]
    },
    {
      "cell_type": "code",
      "metadata": {
        "colab": {
          "base_uri": "https://localhost:8080/"
        },
        "id": "nYS-eOtBo7_8",
        "outputId": "39cd8a20-2c63-402a-84f2-b0358b22bbc4"
      },
      "source": [
        "# print best parameter after tuning \n",
        "print(gsearch.best_params_) \n",
        "grid_predictions = gsearch.predict(X_test) \n",
        "   \n",
        "# print classification report \n",
        "print(classification_report(y_test, grid_predictions)) "
      ],
      "execution_count": null,
      "outputs": [
        {
          "name": "stdout",
          "output_type": "stream",
          "text": [
            "{'learning_rate': 0.1}\n",
            "              precision    recall  f1-score   support\n",
            "\n",
            "           0       0.98      1.00      0.99     17760\n",
            "           1       0.98      0.76      0.86      1776\n",
            "\n",
            "    accuracy                           0.98     19536\n",
            "   macro avg       0.98      0.88      0.92     19536\n",
            "weighted avg       0.98      0.98      0.98     19536\n",
            "\n"
          ]
        }
      ]
    },
    {
      "cell_type": "code",
      "metadata": {
        "colab": {
          "base_uri": "https://localhost:8080/",
          "height": 467
        },
        "id": "F8vwbEx8_F8b",
        "outputId": "fd88035f-e12e-4a26-e3c4-ecb717c9c83f"
      },
      "source": [
        "plt.style.use('ggplot')\n",
        "y_pred_proba = gsearch.predict_proba(X_test)[::,1]\n",
        "fpr, tpr, _ = roc_curve(y_test,  y_pred_proba)\n",
        "auc = roc_auc_score(y_test, y_pred_proba)\n",
        "\n",
        "#create ROC curve\n",
        "plt.plot(fpr,tpr,label=\"AUC=\"+str(auc))\n",
        "plt.ylabel('Verdaderos positivos')\n",
        "plt.xlabel('Falsos positivos')\n",
        "plt.legend(loc=4)\n",
        "plt.show()"
      ],
      "execution_count": null,
      "outputs": [
        {
          "data": {
            "image/png": "[encoded data removed]",
            "text/plain": [
              "<Figure size 640x480 with 1 Axes>"
            ]
          },
          "metadata": {},
          "output_type": "display_data"
        }
      ]
    },
    {
      "cell_type": "code",
      "metadata": {
        "colab": {
          "base_uri": "https://localhost:8080/",
          "height": 467
        },
        "id": "E-JK37Kq_P3S",
        "outputId": "c8ff2af1-cc41-4a36-b1ae-12a8a0926840"
      },
      "source": [
        "plot_confusion_matrix(gsearch, X_test, y_test, display_labels=['No fraude',\n",
        "                                                          'Fraude'],\n",
        "                     normalize='true', cmap='Blues');"
      ],
      "execution_count": null,
      "outputs": [
        {
          "data": {
            "image/png": "[encoded data removed]",
            "text/plain": [
              "<Figure size 640x480 with 2 Axes>"
            ]
          },
          "metadata": {},
          "output_type": "display_data"
        }
      ]
    },
    {
      "cell_type": "code",
      "metadata": {
        "id": "-OR_KLaay2lv"
      },
      "source": [
        "# save model to file\n",
        "pickle.dump(gsearch, open(\"gridgbm_n01.pickle.dat\", \"wb\"))"
      ],
      "execution_count": null,
      "outputs": []
    },
    {
      "cell_type": "markdown",
      "metadata": {
        "id": "j6iYBugVDVhG"
      },
      "source": [
        "# **5. GridSearch for XGBoost**"
      ]
    },
    {
      "cell_type": "markdown",
      "metadata": {
        "id": "OqFZb13_DVhG"
      },
      "source": [
        "## **nfolds**"
      ]
    },
    {
      "cell_type": "code",
      "metadata": {
        "id": "KgXm_HWNDVhG"
      },
      "source": [
        "xbg1 = XGBClassifier(stopping_metric='log_loss',keep_cross_validation_predictions=True, objective='binary:logistic')\n",
        "parameters1 = {\n",
        "    \"nfolds\":[3,5,7,10],\n",
        "    #'seed':[-1, 1, 3, 5]\n",
        "}\n",
        "scoring1 = {'AUC': 'roc_auc', 'Accuracy': make_scorer(accuracy_score), 'F1':make_scorer(f1_score, average='micro')}"
      ],
      "execution_count": null,
      "outputs": []
    },
    {
      "cell_type": "code",
      "metadata": {
        "colab": {
          "base_uri": "https://localhost:8080/"
        },
        "id": "d1sKwJyxDVhI",
        "outputId": "d85cace4-0027-4f03-b4bb-0c8e5fdcebac"
      },
      "source": [
        "start_time = timer(None) # timing starts from this point for \"start_time\" variable\n",
        "gsearch2 = GridSearchCV(estimator=xbg1,param_grid=parameters1,scoring=scoring1, cv=8, verbose=3, refit='AUC', return_train_score=True)\n",
        "gsearch2.fit(X,Y)\n",
        "timer(start_time) # timing ends here for \"start_time\" variable"
      ],
      "execution_count": null,
      "outputs": [
        {
          "name": "stdout",
          "output_type": "stream",
          "text": [
            "Fitting 8 folds for each of 4 candidates, totalling 32 fits\n",
            "[CV] nfolds=3 ........................................................\n"
          ]
        },
        {
          "name": "stderr",
          "output_type": "stream",
          "text": [
            "[Parallel(n_jobs=1)]: Using backend SequentialBackend with 1 concurrent workers.\n"
          ]
        },
        {
          "name": "stdout",
          "output_type": "stream",
          "text": [
            "[CV]  nfolds=3, AUC=(train=0.983, test=0.245), Accuracy=(train=0.981, test=0.124), F1=(train=0.981, test=0.124), total= 1.9min\n",
            "[CV] nfolds=3 ........................................................\n"
          ]
        },
        {
          "name": "stderr",
          "output_type": "stream",
          "text": [
            "[Parallel(n_jobs=1)]: Done   1 out of   1 | elapsed:  1.9min remaining:    0.0s\n"
          ]
        },
        {
          "name": "stdout",
          "output_type": "stream",
          "text": [
            "[CV]  nfolds=3, AUC=(train=0.988, test=0.352), Accuracy=(train=0.982, test=0.820), F1=(train=0.982, test=0.820), total= 1.9min\n",
            "[CV] nfolds=3 ........................................................\n"
          ]
        },
        {
          "name": "stderr",
          "output_type": "stream",
          "text": [
            "[Parallel(n_jobs=1)]: Done   2 out of   2 | elapsed:  3.8min remaining:    0.0s\n"
          ]
        },
        {
          "name": "stdout",
          "output_type": "stream",
          "text": [
            "[CV]  nfolds=3, AUC=(train=0.974, test=0.875), Accuracy=(train=0.976, test=0.942), F1=(train=0.976, test=0.942), total= 1.9min\n",
            "[CV] nfolds=3 ........................................................\n",
            "[CV]  nfolds=3, AUC=(train=0.970, test=0.969), Accuracy=(train=0.974, test=0.921), F1=(train=0.974, test=0.921), total= 1.9min\n",
            "[CV] nfolds=3 ........................................................\n",
            "[CV]  nfolds=3, AUC=(train=0.970, test=0.956), Accuracy=(train=0.973, test=0.939), F1=(train=0.973, test=0.939), total= 1.8min\n",
            "[CV] nfolds=3 ........................................................\n",
            "[CV]  nfolds=3, AUC=(train=0.970, test=0.980), Accuracy=(train=0.974, test=0.955), F1=(train=0.974, test=0.955), total= 1.8min\n",
            "[CV] nfolds=3 ........................................................\n",
            "[CV]  nfolds=3, AUC=(train=0.969, test=0.975), Accuracy=(train=0.973, test=0.955), F1=(train=0.973, test=0.955), total= 1.9min\n",
            "[CV] nfolds=3 ........................................................\n",
            "[CV]  nfolds=3, AUC=(train=0.971, test=0.650), Accuracy=(train=0.974, test=0.169), F1=(train=0.974, test=0.169), total= 1.9min\n",
            "[CV] nfolds=5 ........................................................\n",
            "[CV]  nfolds=5, AUC=(train=0.983, test=0.245), Accuracy=(train=0.981, test=0.124), F1=(train=0.981, test=0.124), total= 1.9min\n",
            "[CV] nfolds=5 ........................................................\n",
            "[CV]  nfolds=5, AUC=(train=0.988, test=0.352), Accuracy=(train=0.982, test=0.820), F1=(train=0.982, test=0.820), total= 1.9min\n",
            "[CV] nfolds=5 ........................................................\n",
            "[CV]  nfolds=5, AUC=(train=0.974, test=0.875), Accuracy=(train=0.976, test=0.942), F1=(train=0.976, test=0.942), total= 1.9min\n",
            "[CV] nfolds=5 ........................................................\n",
            "[CV]  nfolds=5, AUC=(train=0.970, test=0.969), Accuracy=(train=0.974, test=0.921), F1=(train=0.974, test=0.921), total= 1.8min\n",
            "[CV] nfolds=5 ........................................................\n",
            "[CV]  nfolds=5, AUC=(train=0.970, test=0.956), Accuracy=(train=0.973, test=0.939), F1=(train=0.973, test=0.939), total= 1.8min\n",
            "[CV] nfolds=5 ........................................................\n",
            "[CV]  nfolds=5, AUC=(train=0.970, test=0.980), Accuracy=(train=0.974, test=0.955), F1=(train=0.974, test=0.955), total= 1.9min\n",
            "[CV] nfolds=5 ........................................................\n",
            "[CV]  nfolds=5, AUC=(train=0.969, test=0.975), Accuracy=(train=0.973, test=0.955), F1=(train=0.973, test=0.955), total= 1.9min\n",
            "[CV] nfolds=5 ........................................................\n",
            "[CV]  nfolds=5, AUC=(train=0.971, test=0.650), Accuracy=(train=0.974, test=0.169), F1=(train=0.974, test=0.169), total= 1.9min\n",
            "[CV] nfolds=7 ........................................................\n",
            "[CV]  nfolds=7, AUC=(train=0.983, test=0.245), Accuracy=(train=0.981, test=0.124), F1=(train=0.981, test=0.124), total= 1.9min\n",
            "[CV] nfolds=7 ........................................................\n",
            "[CV]  nfolds=7, AUC=(train=0.988, test=0.352), Accuracy=(train=0.982, test=0.820), F1=(train=0.982, test=0.820), total= 1.9min\n",
            "[CV] nfolds=7 ........................................................\n",
            "[CV]  nfolds=7, AUC=(train=0.974, test=0.875), Accuracy=(train=0.976, test=0.942), F1=(train=0.976, test=0.942), total= 1.9min\n",
            "[CV] nfolds=7 ........................................................\n",
            "[CV]  nfolds=7, AUC=(train=0.970, test=0.969), Accuracy=(train=0.974, test=0.921), F1=(train=0.974, test=0.921), total= 1.8min\n",
            "[CV] nfolds=7 ........................................................\n",
            "[CV]  nfolds=7, AUC=(train=0.970, test=0.956), Accuracy=(train=0.973, test=0.939), F1=(train=0.973, test=0.939), total= 1.8min\n",
            "[CV] nfolds=7 ........................................................\n",
            "[CV]  nfolds=7, AUC=(train=0.970, test=0.980), Accuracy=(train=0.974, test=0.955), F1=(train=0.974, test=0.955), total= 1.8min\n",
            "[CV] nfolds=7 ........................................................\n",
            "[CV]  nfolds=7, AUC=(train=0.969, test=0.975), Accuracy=(train=0.973, test=0.955), F1=(train=0.973, test=0.955), total= 1.9min\n",
            "[CV] nfolds=7 ........................................................\n",
            "[CV]  nfolds=7, AUC=(train=0.971, test=0.650), Accuracy=(train=0.974, test=0.169), F1=(train=0.974, test=0.169), total= 1.9min\n",
            "[CV] nfolds=10 .......................................................\n",
            "[CV]  nfolds=10, AUC=(train=0.983, test=0.245), Accuracy=(train=0.981, test=0.124), F1=(train=0.981, test=0.124), total= 1.9min\n",
            "[CV] nfolds=10 .......................................................\n",
            "[CV]  nfolds=10, AUC=(train=0.988, test=0.352), Accuracy=(train=0.982, test=0.820), F1=(train=0.982, test=0.820), total= 1.9min\n",
            "[CV] nfolds=10 .......................................................\n",
            "[CV]  nfolds=10, AUC=(train=0.974, test=0.875), Accuracy=(train=0.976, test=0.942), F1=(train=0.976, test=0.942), total= 1.9min\n",
            "[CV] nfolds=10 .......................................................\n",
            "[CV]  nfolds=10, AUC=(train=0.970, test=0.969), Accuracy=(train=0.974, test=0.921), F1=(train=0.974, test=0.921), total= 1.8min\n",
            "[CV] nfolds=10 .......................................................\n",
            "[CV]  nfolds=10, AUC=(train=0.970, test=0.956), Accuracy=(train=0.973, test=0.939), F1=(train=0.973, test=0.939), total= 1.8min\n",
            "[CV] nfolds=10 .......................................................\n",
            "[CV]  nfolds=10, AUC=(train=0.970, test=0.980), Accuracy=(train=0.974, test=0.955), F1=(train=0.974, test=0.955), total= 1.9min\n",
            "[CV] nfolds=10 .......................................................\n",
            "[CV]  nfolds=10, AUC=(train=0.969, test=0.975), Accuracy=(train=0.973, test=0.955), F1=(train=0.973, test=0.955), total= 1.9min\n",
            "[CV] nfolds=10 .......................................................\n",
            "[CV]  nfolds=10, AUC=(train=0.971, test=0.650), Accuracy=(train=0.974, test=0.169), F1=(train=0.974, test=0.169), total= 1.8min\n"
          ]
        },
        {
          "name": "stderr",
          "output_type": "stream",
          "text": [
            "[Parallel(n_jobs=1)]: Done  32 out of  32 | elapsed: 60.3min finished\n"
          ]
        },
        {
          "name": "stdout",
          "output_type": "stream",
          "text": [
            "\n",
            " Time taken: 1 hours 2 minutes and 24.97 seconds.\n"
          ]
        },
        {
          "data": {
            "text/plain": [
              "(1.0, 2.0, 24.965224000000035)"
            ]
          },
          "execution_count": 62,
          "metadata": {},
          "output_type": "execute_result"
        }
      ]
    },
    {
      "cell_type": "code",
      "metadata": {
        "colab": {
          "base_uri": "https://localhost:8080/"
        },
        "id": "FunbAy7yDVhI",
        "outputId": "4b15eb20-004f-4104-c48e-017a4685d4e8"
      },
      "source": [
        "gsearch2.best_params_, gsearch2.best_score_\n"
      ],
      "execution_count": null,
      "outputs": [
        {
          "data": {
            "text/plain": [
              "({'nfolds': 3}, 0.7501015558421598)"
            ]
          },
          "execution_count": 63,
          "metadata": {},
          "output_type": "execute_result"
        }
      ]
    },
    {
      "cell_type": "markdown",
      "metadata": {
        "id": "sYerOEXlDVhI"
      },
      "source": [
        "## **seed**"
      ]
    },
    {
      "cell_type": "code",
      "metadata": {
        "id": "qJoZgVWkDVhI"
      },
      "source": [
        "xbg2 = XGBClassifier(stopping_metric='log_loss',keep_cross_validation_predictions=True, objective='binary:logistic',nfolds=3)\n",
        "parameters2 = {\n",
        "    #\"nfolds\":[3,5,7,10],\n",
        "    'seed':[-1, 1, 3, 5]\n",
        "}\n",
        "scoring2 = {'AUC': 'roc_auc', 'Accuracy': make_scorer(accuracy_score), 'F1':make_scorer(f1_score, average='micro')}"
      ],
      "execution_count": null,
      "outputs": []
    },
    {
      "cell_type": "code",
      "metadata": {
        "colab": {
          "base_uri": "https://localhost:8080/"
        },
        "id": "x-aFdN_pDVhJ",
        "outputId": "eb020636-7a11-49e3-9d01-2fdd26d30194"
      },
      "source": [
        "\n",
        "start_time = timer(None) # timing starts from this point for \"start_time\" variable\n",
        "gsearch3 = GridSearchCV(estimator=xbg2,param_grid=parameters2,scoring=scoring2, cv=8, verbose=3, refit='AUC', return_train_score=True)\n",
        "gsearch3.fit(X,Y)\n",
        "timer(start_time) # timing ends here for \"start_time\" variable"
      ],
      "execution_count": null,
      "outputs": [
        {
          "name": "stdout",
          "output_type": "stream",
          "text": [
            "Fitting 8 folds for each of 4 candidates, totalling 32 fits\n",
            "[CV] seed=-1 .........................................................\n"
          ]
        },
        {
          "name": "stderr",
          "output_type": "stream",
          "text": [
            "[Parallel(n_jobs=1)]: Using backend SequentialBackend with 1 concurrent workers.\n"
          ]
        },
        {
          "name": "stdout",
          "output_type": "stream",
          "text": [
            "[CV]  seed=-1, AUC=(train=0.983, test=0.245), Accuracy=(train=0.981, test=0.124), F1=(train=0.981, test=0.124), total= 1.9min\n",
            "[CV] seed=-1 .........................................................\n"
          ]
        },
        {
          "name": "stderr",
          "output_type": "stream",
          "text": [
            "[Parallel(n_jobs=1)]: Done   1 out of   1 | elapsed:  1.9min remaining:    0.0s\n"
          ]
        },
        {
          "name": "stdout",
          "output_type": "stream",
          "text": [
            "[CV]  seed=-1, AUC=(train=0.988, test=0.352), Accuracy=(train=0.982, test=0.820), F1=(train=0.982, test=0.820), total= 1.9min\n",
            "[CV] seed=-1 .........................................................\n"
          ]
        },
        {
          "name": "stderr",
          "output_type": "stream",
          "text": [
            "[Parallel(n_jobs=1)]: Done   2 out of   2 | elapsed:  3.8min remaining:    0.0s\n"
          ]
        },
        {
          "name": "stdout",
          "output_type": "stream",
          "text": [
            "[CV]  seed=-1, AUC=(train=0.974, test=0.875), Accuracy=(train=0.976, test=0.942), F1=(train=0.976, test=0.942), total= 1.9min\n",
            "[CV] seed=-1 .........................................................\n",
            "[CV]  seed=-1, AUC=(train=0.970, test=0.969), Accuracy=(train=0.974, test=0.921), F1=(train=0.974, test=0.921), total= 1.8min\n",
            "[CV] seed=-1 .........................................................\n",
            "[CV]  seed=-1, AUC=(train=0.970, test=0.956), Accuracy=(train=0.973, test=0.939), F1=(train=0.973, test=0.939), total= 1.8min\n",
            "[CV] seed=-1 .........................................................\n",
            "[CV]  seed=-1, AUC=(train=0.970, test=0.980), Accuracy=(train=0.974, test=0.955), F1=(train=0.974, test=0.955), total= 1.8min\n",
            "[CV] seed=-1 .........................................................\n",
            "[CV]  seed=-1, AUC=(train=0.969, test=0.975), Accuracy=(train=0.973, test=0.955), F1=(train=0.973, test=0.955), total= 1.9min\n",
            "[CV] seed=-1 .........................................................\n",
            "[CV]  seed=-1, AUC=(train=0.971, test=0.650), Accuracy=(train=0.974, test=0.169), F1=(train=0.974, test=0.169), total= 1.8min\n",
            "[CV] seed=1 ..........................................................\n",
            "[CV]  seed=1, AUC=(train=0.983, test=0.245), Accuracy=(train=0.981, test=0.124), F1=(train=0.981, test=0.124), total= 1.9min\n",
            "[CV] seed=1 ..........................................................\n",
            "[CV]  seed=1, AUC=(train=0.988, test=0.352), Accuracy=(train=0.982, test=0.820), F1=(train=0.982, test=0.820), total= 1.9min\n",
            "[CV] seed=1 ..........................................................\n",
            "[CV]  seed=1, AUC=(train=0.974, test=0.875), Accuracy=(train=0.976, test=0.942), F1=(train=0.976, test=0.942), total= 1.8min\n",
            "[CV] seed=1 ..........................................................\n",
            "[CV]  seed=1, AUC=(train=0.970, test=0.969), Accuracy=(train=0.974, test=0.921), F1=(train=0.974, test=0.921), total= 1.9min\n",
            "[CV] seed=1 ..........................................................\n",
            "[CV]  seed=1, AUC=(train=0.970, test=0.956), Accuracy=(train=0.973, test=0.939), F1=(train=0.973, test=0.939), total= 1.9min\n",
            "[CV] seed=1 ..........................................................\n",
            "[CV]  seed=1, AUC=(train=0.970, test=0.980), Accuracy=(train=0.974, test=0.955), F1=(train=0.974, test=0.955), total= 1.8min\n",
            "[CV] seed=1 ..........................................................\n",
            "[CV]  seed=1, AUC=(train=0.969, test=0.975), Accuracy=(train=0.973, test=0.955), F1=(train=0.973, test=0.955), total= 1.9min\n",
            "[CV] seed=1 ..........................................................\n",
            "[CV]  seed=1, AUC=(train=0.971, test=0.650), Accuracy=(train=0.974, test=0.169), F1=(train=0.974, test=0.169), total= 1.8min\n",
            "[CV] seed=3 ..........................................................\n",
            "[CV]  seed=3, AUC=(train=0.983, test=0.245), Accuracy=(train=0.981, test=0.124), F1=(train=0.981, test=0.124), total= 2.0min\n",
            "[CV] seed=3 ..........................................................\n",
            "[CV]  seed=3, AUC=(train=0.988, test=0.352), Accuracy=(train=0.982, test=0.820), F1=(train=0.982, test=0.820), total= 1.9min\n",
            "[CV] seed=3 ..........................................................\n",
            "[CV]  seed=3, AUC=(train=0.974, test=0.875), Accuracy=(train=0.976, test=0.942), F1=(train=0.976, test=0.942), total= 1.9min\n",
            "[CV] seed=3 ..........................................................\n",
            "[CV]  seed=3, AUC=(train=0.970, test=0.969), Accuracy=(train=0.974, test=0.921), F1=(train=0.974, test=0.921), total= 1.8min\n",
            "[CV] seed=3 ..........................................................\n",
            "[CV]  seed=3, AUC=(train=0.970, test=0.956), Accuracy=(train=0.973, test=0.939), F1=(train=0.973, test=0.939), total= 1.8min\n",
            "[CV] seed=3 ..........................................................\n",
            "[CV]  seed=3, AUC=(train=0.970, test=0.980), Accuracy=(train=0.974, test=0.955), F1=(train=0.974, test=0.955), total= 1.9min\n",
            "[CV] seed=3 ..........................................................\n",
            "[CV]  seed=3, AUC=(train=0.969, test=0.975), Accuracy=(train=0.973, test=0.955), F1=(train=0.973, test=0.955), total= 1.9min\n",
            "[CV] seed=3 ..........................................................\n",
            "[CV]  seed=3, AUC=(train=0.971, test=0.650), Accuracy=(train=0.974, test=0.169), F1=(train=0.974, test=0.169), total= 1.9min\n",
            "[CV] seed=5 ..........................................................\n",
            "[CV]  seed=5, AUC=(train=0.983, test=0.245), Accuracy=(train=0.981, test=0.124), F1=(train=0.981, test=0.124), total= 1.9min\n",
            "[CV] seed=5 ..........................................................\n",
            "[CV]  seed=5, AUC=(train=0.988, test=0.352), Accuracy=(train=0.982, test=0.820), F1=(train=0.982, test=0.820), total= 1.9min\n",
            "[CV] seed=5 ..........................................................\n",
            "[CV]  seed=5, AUC=(train=0.974, test=0.875), Accuracy=(train=0.976, test=0.942), F1=(train=0.976, test=0.942), total= 1.9min\n",
            "[CV] seed=5 ..........................................................\n",
            "[CV]  seed=5, AUC=(train=0.970, test=0.969), Accuracy=(train=0.974, test=0.921), F1=(train=0.974, test=0.921), total= 1.9min\n",
            "[CV] seed=5 ..........................................................\n",
            "[CV]  seed=5, AUC=(train=0.970, test=0.956), Accuracy=(train=0.973, test=0.939), F1=(train=0.973, test=0.939), total= 1.8min\n",
            "[CV] seed=5 ..........................................................\n",
            "[CV]  seed=5, AUC=(train=0.970, test=0.980), Accuracy=(train=0.974, test=0.955), F1=(train=0.974, test=0.955), total= 1.9min\n",
            "[CV] seed=5 ..........................................................\n",
            "[CV]  seed=5, AUC=(train=0.969, test=0.975), Accuracy=(train=0.973, test=0.955), F1=(train=0.973, test=0.955), total= 1.9min\n",
            "[CV] seed=5 ..........................................................\n",
            "[CV]  seed=5, AUC=(train=0.971, test=0.650), Accuracy=(train=0.974, test=0.169), F1=(train=0.974, test=0.169), total= 1.9min\n"
          ]
        },
        {
          "name": "stderr",
          "output_type": "stream",
          "text": [
            "[Parallel(n_jobs=1)]: Done  32 out of  32 | elapsed: 60.7min finished\n"
          ]
        },
        {
          "name": "stdout",
          "output_type": "stream",
          "text": [
            "\n",
            " Time taken: 1 hours 2 minutes and 47.01 seconds.\n"
          ]
        },
        {
          "data": {
            "text/plain": [
              "(1.0, 2.0, 47.013172999999824)"
            ]
          },
          "execution_count": 66,
          "metadata": {},
          "output_type": "execute_result"
        }
      ]
    },
    {
      "cell_type": "code",
      "metadata": {
        "colab": {
          "base_uri": "https://localhost:8080/"
        },
        "id": "o9MRWMjwDVhJ",
        "outputId": "ccd6f30a-2496-4c56-a3df-a26cf5f8db35"
      },
      "source": [
        "gsearch3.best_params_, gsearch3.best_score_\n"
      ],
      "execution_count": null,
      "outputs": [
        {
          "data": {
            "text/plain": [
              "({'seed': -1}, 0.7501015558421598)"
            ]
          },
          "execution_count": 67,
          "metadata": {},
          "output_type": "execute_result"
        }
      ]
    },
    {
      "cell_type": "markdown",
      "metadata": {
        "id": "5OKF2t7ADVhJ"
      },
      "source": [
        "## **max_depth**"
      ]
    },
    {
      "cell_type": "code",
      "metadata": {
        "id": "bMqgYDxaDVhJ"
      },
      "source": [
        "xbg4 = XGBClassifier(stopping_metric='log_loss',keep_cross_validation_predictions=True, objective='binary:logistic',nfolds=3)\n",
        "parameters4 = {\n",
        "    \"max_depth\":[10,15,20,25,35]\n",
        "}\n",
        "scoring4 = {'AUC': 'roc_auc', 'Accuracy': make_scorer(accuracy_score), 'F1':make_scorer(f1_score, average='micro')}"
      ],
      "execution_count": null,
      "outputs": []
    },
    {
      "cell_type": "code",
      "metadata": {
        "colab": {
          "base_uri": "https://localhost:8080/"
        },
        "id": "VN6vbWj4DVhJ",
        "outputId": "10d85828-e8f8-4364-e2e9-327b66dd2f81"
      },
      "source": [
        "\n",
        "start_time = timer(None) # timing starts from this point for \"start_time\" variable\n",
        "gsearch3 = GridSearchCV(estimator=xbg4,param_grid=parameters4,scoring=scoring4, cv=8, verbose=3, refit='AUC', return_train_score=True)\n",
        "gsearch3.fit(X,Y)\n",
        "timer(start_time) # timing ends here for \"start_time\" variable"
      ],
      "execution_count": null,
      "outputs": [
        {
          "name": "stdout",
          "output_type": "stream",
          "text": [
            "Fitting 8 folds for each of 5 candidates, totalling 40 fits\n",
            "[CV] max_depth=10 ....................................................\n"
          ]
        },
        {
          "name": "stderr",
          "output_type": "stream",
          "text": [
            "[Parallel(n_jobs=1)]: Using backend SequentialBackend with 1 concurrent workers.\n"
          ]
        },
        {
          "name": "stdout",
          "output_type": "stream",
          "text": [
            "[CV]  max_depth=10, AUC=(train=1.000, test=0.263), Accuracy=(train=0.997, test=0.129), F1=(train=0.997, test=0.129), total= 6.0min\n",
            "[CV] max_depth=10 ....................................................\n"
          ]
        },
        {
          "name": "stderr",
          "output_type": "stream",
          "text": [
            "[Parallel(n_jobs=1)]: Done   1 out of   1 | elapsed:  6.0min remaining:    0.0s\n"
          ]
        },
        {
          "name": "stdout",
          "output_type": "stream",
          "text": [
            "[CV]  max_depth=10, AUC=(train=1.000, test=0.387), Accuracy=(train=0.999, test=0.517), F1=(train=0.999, test=0.517), total= 6.0min\n",
            "[CV] max_depth=10 ....................................................\n"
          ]
        },
        {
          "name": "stderr",
          "output_type": "stream",
          "text": [
            "[Parallel(n_jobs=1)]: Done   2 out of   2 | elapsed: 12.0min remaining:    0.0s\n"
          ]
        },
        {
          "name": "stdout",
          "output_type": "stream",
          "text": [
            "[CV]  max_depth=10, AUC=(train=1.000, test=0.899), Accuracy=(train=0.996, test=0.802), F1=(train=0.996, test=0.802), total= 6.0min\n",
            "[CV] max_depth=10 ....................................................\n",
            "[CV]  max_depth=10, AUC=(train=1.000, test=0.991), Accuracy=(train=0.995, test=0.836), F1=(train=0.995, test=0.836), total= 6.0min\n",
            "[CV] max_depth=10 ....................................................\n",
            "[CV]  max_depth=10, AUC=(train=1.000, test=0.988), Accuracy=(train=0.995, test=0.879), F1=(train=0.995, test=0.879), total= 6.0min\n",
            "[CV] max_depth=10 ....................................................\n",
            "[CV]  max_depth=10, AUC=(train=1.000, test=0.992), Accuracy=(train=0.995, test=0.829), F1=(train=0.995, test=0.829), total= 6.0min\n",
            "[CV] max_depth=10 ....................................................\n",
            "[CV]  max_depth=10, AUC=(train=1.000, test=0.990), Accuracy=(train=0.995, test=0.803), F1=(train=0.995, test=0.803), total= 6.0min\n",
            "[CV] max_depth=10 ....................................................\n",
            "[CV]  max_depth=10, AUC=(train=1.000, test=0.683), Accuracy=(train=0.995, test=0.122), F1=(train=0.995, test=0.122), total= 5.9min\n",
            "[CV] max_depth=15 ....................................................\n",
            "[CV]  max_depth=15, AUC=(train=1.000, test=0.265), Accuracy=(train=1.000, test=0.129), F1=(train=1.000, test=0.129), total= 8.6min\n",
            "[CV] max_depth=15 ....................................................\n",
            "[CV]  max_depth=15, AUC=(train=1.000, test=0.439), Accuracy=(train=1.000, test=0.594), F1=(train=1.000, test=0.594), total= 8.4min\n",
            "[CV] max_depth=15 ....................................................\n",
            "[CV]  max_depth=15, AUC=(train=1.000, test=0.903), Accuracy=(train=0.999, test=0.814), F1=(train=0.999, test=0.814), total= 8.8min\n",
            "[CV] max_depth=15 ....................................................\n",
            "[CV]  max_depth=15, AUC=(train=1.000, test=0.991), Accuracy=(train=0.999, test=0.812), F1=(train=0.999, test=0.812), total= 8.8min\n",
            "[CV] max_depth=15 ....................................................\n",
            "[CV]  max_depth=15, AUC=(train=1.000, test=0.993), Accuracy=(train=0.999, test=0.880), F1=(train=0.999, test=0.880), total= 8.9min\n",
            "[CV] max_depth=15 ....................................................\n",
            "[CV]  max_depth=15, AUC=(train=1.000, test=0.993), Accuracy=(train=0.999, test=0.837), F1=(train=0.999, test=0.837), total= 8.8min\n",
            "[CV] max_depth=15 ....................................................\n",
            "[CV]  max_depth=15, AUC=(train=1.000, test=0.994), Accuracy=(train=0.999, test=0.852), F1=(train=0.999, test=0.852), total= 9.0min\n",
            "[CV] max_depth=15 ....................................................\n",
            "[CV]  max_depth=15, AUC=(train=1.000, test=0.654), Accuracy=(train=0.999, test=0.120), F1=(train=0.999, test=0.120), total= 9.0min\n",
            "[CV] max_depth=20 ....................................................\n",
            "[CV]  max_depth=20, AUC=(train=1.000, test=0.288), Accuracy=(train=1.000, test=0.131), F1=(train=1.000, test=0.131), total=10.6min\n",
            "[CV] max_depth=20 ....................................................\n",
            "[CV]  max_depth=20, AUC=(train=1.000, test=0.465), Accuracy=(train=1.000, test=0.614), F1=(train=1.000, test=0.614), total= 9.7min\n",
            "[CV] max_depth=20 ....................................................\n",
            "[CV]  max_depth=20, AUC=(train=1.000, test=0.894), Accuracy=(train=1.000, test=0.772), F1=(train=1.000, test=0.772), total=10.9min\n",
            "[CV] max_depth=20 ....................................................\n",
            "[CV]  max_depth=20, AUC=(train=1.000, test=0.992), Accuracy=(train=1.000, test=0.825), F1=(train=1.000, test=0.825), total=11.0min\n",
            "[CV] max_depth=20 ....................................................\n",
            "[CV]  max_depth=20, AUC=(train=1.000, test=0.992), Accuracy=(train=1.000, test=0.899), F1=(train=1.000, test=0.899), total=11.1min\n",
            "[CV] max_depth=20 ....................................................\n",
            "[CV]  max_depth=20, AUC=(train=1.000, test=0.992), Accuracy=(train=1.000, test=0.804), F1=(train=1.000, test=0.804), total=11.0min\n",
            "[CV] max_depth=20 ....................................................\n",
            "[CV]  max_depth=20, AUC=(train=1.000, test=0.996), Accuracy=(train=1.000, test=0.910), F1=(train=1.000, test=0.910), total=11.0min\n",
            "[CV] max_depth=20 ....................................................\n",
            "[CV]  max_depth=20, AUC=(train=1.000, test=0.618), Accuracy=(train=1.000, test=0.119), F1=(train=1.000, test=0.119), total=11.0min\n",
            "[CV] max_depth=25 ....................................................\n",
            "[CV]  max_depth=25, AUC=(train=1.000, test=0.266), Accuracy=(train=1.000, test=0.131), F1=(train=1.000, test=0.131), total=11.6min\n",
            "[CV] max_depth=25 ....................................................\n",
            "[CV]  max_depth=25, AUC=(train=1.000, test=0.481), Accuracy=(train=1.000, test=0.662), F1=(train=1.000, test=0.662), total=10.2min\n",
            "[CV] max_depth=25 ....................................................\n",
            "[CV]  max_depth=25, AUC=(train=1.000, test=0.895), Accuracy=(train=1.000, test=0.780), F1=(train=1.000, test=0.780), total=12.0min\n",
            "[CV] max_depth=25 ....................................................\n",
            "[CV]  max_depth=25, AUC=(train=1.000, test=0.993), Accuracy=(train=1.000, test=0.854), F1=(train=1.000, test=0.854), total=12.3min\n",
            "[CV] max_depth=25 ....................................................\n",
            "[CV]  max_depth=25, AUC=(train=1.000, test=0.994), Accuracy=(train=1.000, test=0.917), F1=(train=1.000, test=0.917), total=12.2min\n",
            "[CV] max_depth=25 ....................................................\n",
            "[CV]  max_depth=25, AUC=(train=1.000, test=0.993), Accuracy=(train=1.000, test=0.852), F1=(train=1.000, test=0.852), total=12.4min\n",
            "[CV] max_depth=25 ....................................................\n",
            "[CV]  max_depth=25, AUC=(train=1.000, test=0.995), Accuracy=(train=1.000, test=0.910), F1=(train=1.000, test=0.910), total=12.5min\n",
            "[CV] max_depth=25 ....................................................\n",
            "[CV]  max_depth=25, AUC=(train=1.000, test=0.603), Accuracy=(train=1.000, test=0.119), F1=(train=1.000, test=0.119), total=12.5min\n",
            "[CV] max_depth=35 ....................................................\n",
            "[CV]  max_depth=35, AUC=(train=1.000, test=0.277), Accuracy=(train=1.000, test=0.130), F1=(train=1.000, test=0.130), total=12.0min\n",
            "[CV] max_depth=35 ....................................................\n",
            "[CV]  max_depth=35, AUC=(train=1.000, test=0.476), Accuracy=(train=1.000, test=0.653), F1=(train=1.000, test=0.653), total=10.5min\n",
            "[CV] max_depth=35 ....................................................\n",
            "[CV]  max_depth=35, AUC=(train=1.000, test=0.897), Accuracy=(train=1.000, test=0.787), F1=(train=1.000, test=0.787), total=12.5min\n",
            "[CV] max_depth=35 ....................................................\n",
            "[CV]  max_depth=35, AUC=(train=1.000, test=0.993), Accuracy=(train=1.000, test=0.867), F1=(train=1.000, test=0.867), total=13.2min\n",
            "[CV] max_depth=35 ....................................................\n",
            "[CV]  max_depth=35, AUC=(train=1.000, test=0.995), Accuracy=(train=1.000, test=0.930), F1=(train=1.000, test=0.930), total=13.0min\n",
            "[CV] max_depth=35 ....................................................\n",
            "[CV]  max_depth=35, AUC=(train=1.000, test=0.994), Accuracy=(train=1.000, test=0.867), F1=(train=1.000, test=0.867), total=13.1min\n",
            "[CV] max_depth=35 ....................................................\n",
            "[CV]  max_depth=35, AUC=(train=1.000, test=0.996), Accuracy=(train=1.000, test=0.934), F1=(train=1.000, test=0.934), total=13.3min\n",
            "[CV] max_depth=35 ....................................................\n",
            "[CV]  max_depth=35, AUC=(train=1.000, test=0.623), Accuracy=(train=1.000, test=0.120), F1=(train=1.000, test=0.120), total=13.2min\n"
          ]
        },
        {
          "name": "stderr",
          "output_type": "stream",
          "text": [
            "[Parallel(n_jobs=1)]: Done  40 out of  40 | elapsed: 403.1min finished\n"
          ]
        },
        {
          "name": "stdout",
          "output_type": "stream",
          "text": [
            "\n",
            " Time taken: 6 hours 58 minutes and 28.33 seconds.\n"
          ]
        },
        {
          "data": {
            "text/plain": [
              "(6.0, 58.0, 28.328827000001183)"
            ]
          },
          "execution_count": 22,
          "metadata": {},
          "output_type": "execute_result"
        }
      ]
    },
    {
      "cell_type": "code",
      "metadata": {
        "colab": {
          "base_uri": "https://localhost:8080/"
        },
        "id": "g8CvEejUDVhK",
        "outputId": "b660e6c1-6446-4fe2-a307-9b97f77ce360"
      },
      "source": [
        "gsearch3.best_params_, gsearch3.best_score_\n"
      ],
      "execution_count": null,
      "outputs": [
        {
          "data": {
            "text/plain": [
              "({'max_depth': 35}, 0.7814793625973946)"
            ]
          },
          "execution_count": 23,
          "metadata": {},
          "output_type": "execute_result"
        }
      ]
    },
    {
      "cell_type": "markdown",
      "metadata": {
        "id": "42tnDvXIDVhK"
      },
      "source": [
        "## **colsample_bytree**"
      ]
    },
    {
      "cell_type": "code",
      "metadata": {
        "id": "rqa3Ed1SDVhK"
      },
      "source": [
        "xbg5 = XGBClassifier(stopping_metric='log_loss',keep_cross_validation_predictions=True, objective='binary:logistic',nfolds=3, max_depth=35)\n",
        "parameters5 = {\n",
        "    'colsample_bytree':[i/10.0 for i in range(8,10)]\n",
        "}\n",
        "scoring5 = {'AUC': 'roc_auc', 'Accuracy': make_scorer(accuracy_score), 'F1':make_scorer(f1_score, average='micro')}"
      ],
      "execution_count": null,
      "outputs": []
    },
    {
      "cell_type": "code",
      "metadata": {
        "colab": {
          "base_uri": "https://localhost:8080/"
        },
        "id": "46ouMQSgDVhK",
        "outputId": "4c5a3492-5968-4912-ec1f-e7cf5331c2d2"
      },
      "source": [
        "\n",
        "start_time = timer(None) # timing starts from this point for \"start_time\" variable\n",
        "gsearch5 = GridSearchCV(estimator=xbg5,param_grid=parameters5,scoring=scoring5, cv=8, verbose=3, refit='AUC', return_train_score=True)\n",
        "gsearch5.fit(X,Y)\n",
        "timer(start_time) # timing ends here for \"start_time\" variable"
      ],
      "execution_count": null,
      "outputs": [
        {
          "name": "stdout",
          "output_type": "stream",
          "text": [
            "Fitting 8 folds for each of 2 candidates, totalling 16 fits\n",
            "[CV] colsample_bytree=0.8 ............................................\n"
          ]
        },
        {
          "name": "stderr",
          "output_type": "stream",
          "text": [
            "[Parallel(n_jobs=1)]: Using backend SequentialBackend with 1 concurrent workers.\n"
          ]
        },
        {
          "name": "stdout",
          "output_type": "stream",
          "text": [
            "[CV]  colsample_bytree=0.8, AUC=(train=1.000, test=0.283), Accuracy=(train=1.000, test=0.129), F1=(train=1.000, test=0.129), total= 9.6min\n",
            "[CV] colsample_bytree=0.8 ............................................\n"
          ]
        },
        {
          "name": "stderr",
          "output_type": "stream",
          "text": [
            "[Parallel(n_jobs=1)]: Done   1 out of   1 | elapsed:  9.6min remaining:    0.0s\n"
          ]
        },
        {
          "name": "stdout",
          "output_type": "stream",
          "text": [
            "[CV]  colsample_bytree=0.8, AUC=(train=1.000, test=0.471), Accuracy=(train=1.000, test=0.648), F1=(train=1.000, test=0.648), total= 8.4min\n",
            "[CV] colsample_bytree=0.8 ............................................\n"
          ]
        },
        {
          "name": "stderr",
          "output_type": "stream",
          "text": [
            "[Parallel(n_jobs=1)]: Done   2 out of   2 | elapsed: 18.1min remaining:    0.0s\n"
          ]
        },
        {
          "name": "stdout",
          "output_type": "stream",
          "text": [
            "[CV]  colsample_bytree=0.8, AUC=(train=1.000, test=0.900), Accuracy=(train=1.000, test=0.795), F1=(train=1.000, test=0.795), total=10.0min\n",
            "[CV] colsample_bytree=0.8 ............................................\n",
            "[CV]  colsample_bytree=0.8, AUC=(train=1.000, test=0.994), Accuracy=(train=1.000, test=0.878), F1=(train=1.000, test=0.878), total=10.5min\n",
            "[CV] colsample_bytree=0.8 ............................................\n",
            "[CV]  colsample_bytree=0.8, AUC=(train=1.000, test=0.994), Accuracy=(train=1.000, test=0.906), F1=(train=1.000, test=0.906), total=10.5min\n",
            "[CV] colsample_bytree=0.8 ............................................\n",
            "[CV]  colsample_bytree=0.8, AUC=(train=1.000, test=0.994), Accuracy=(train=1.000, test=0.861), F1=(train=1.000, test=0.861), total=10.6min\n",
            "[CV] colsample_bytree=0.8 ............................................\n",
            "[CV]  colsample_bytree=0.8, AUC=(train=1.000, test=0.996), Accuracy=(train=1.000, test=0.902), F1=(train=1.000, test=0.902), total=10.6min\n",
            "[CV] colsample_bytree=0.8 ............................................\n",
            "[CV]  colsample_bytree=0.8, AUC=(train=1.000, test=0.637), Accuracy=(train=1.000, test=0.120), F1=(train=1.000, test=0.120), total=10.6min\n",
            "[CV] colsample_bytree=0.9 ............................................\n",
            "[CV]  colsample_bytree=0.9, AUC=(train=1.000, test=0.280), Accuracy=(train=1.000, test=0.130), F1=(train=1.000, test=0.130), total=10.7min\n",
            "[CV] colsample_bytree=0.9 ............................................\n",
            "[CV]  colsample_bytree=0.9, AUC=(train=1.000, test=0.470), Accuracy=(train=1.000, test=0.645), F1=(train=1.000, test=0.645), total= 9.4min\n",
            "[CV] colsample_bytree=0.9 ............................................\n",
            "[CV]  colsample_bytree=0.9, AUC=(train=1.000, test=0.894), Accuracy=(train=1.000, test=0.778), F1=(train=1.000, test=0.778), total=11.1min\n",
            "[CV] colsample_bytree=0.9 ............................................\n",
            "[CV]  colsample_bytree=0.9, AUC=(train=1.000, test=0.993), Accuracy=(train=1.000, test=0.871), F1=(train=1.000, test=0.871), total=11.6min\n",
            "[CV] colsample_bytree=0.9 ............................................\n",
            "[CV]  colsample_bytree=0.9, AUC=(train=1.000, test=0.994), Accuracy=(train=1.000, test=0.909), F1=(train=1.000, test=0.909), total=11.7min\n",
            "[CV] colsample_bytree=0.9 ............................................\n",
            "[CV]  colsample_bytree=0.9, AUC=(train=1.000, test=0.994), Accuracy=(train=1.000, test=0.860), F1=(train=1.000, test=0.860), total=11.8min\n",
            "[CV] colsample_bytree=0.9 ............................................\n",
            "[CV]  colsample_bytree=0.9, AUC=(train=1.000, test=0.995), Accuracy=(train=1.000, test=0.912), F1=(train=1.000, test=0.912), total=12.1min\n",
            "[CV] colsample_bytree=0.9 ............................................\n",
            "[CV]  colsample_bytree=0.9, AUC=(train=1.000, test=0.610), Accuracy=(train=1.000, test=0.119), F1=(train=1.000, test=0.119), total=11.9min\n"
          ]
        },
        {
          "name": "stderr",
          "output_type": "stream",
          "text": [
            "[Parallel(n_jobs=1)]: Done  16 out of  16 | elapsed: 172.2min finished\n"
          ]
        },
        {
          "name": "stdout",
          "output_type": "stream",
          "text": [
            "\n",
            " Time taken: 3 hours 5 minutes and 0.45 seconds.\n"
          ]
        },
        {
          "data": {
            "text/plain": [
              "(3.0, 5.0, 0.45430300000043644)"
            ]
          },
          "execution_count": 22,
          "metadata": {},
          "output_type": "execute_result"
        }
      ]
    },
    {
      "cell_type": "code",
      "metadata": {
        "colab": {
          "base_uri": "https://localhost:8080/"
        },
        "id": "uDg5wAgnDVhL",
        "outputId": "a5219b31-30cc-4682-f81d-df886e55df65"
      },
      "source": [
        "gsearch5.best_params_, gsearch5.best_score_\n"
      ],
      "execution_count": null,
      "outputs": [
        {
          "data": {
            "text/plain": [
              "({'colsample_bytree': 0.8}, 0.7835415731398627)"
            ]
          },
          "execution_count": 23,
          "metadata": {},
          "output_type": "execute_result"
        }
      ]
    },
    {
      "cell_type": "markdown",
      "metadata": {
        "id": "4qOAsdlaDVhL"
      },
      "source": [
        "## **subsample**"
      ]
    },
    {
      "cell_type": "code",
      "metadata": {
        "id": "6Yf3stS9DVhL"
      },
      "source": [
        "xgb6 = XGBClassifier(stopping_metric='log_loss',keep_cross_validation_predictions=True, objective='binary:logistic',nfolds=3, max_depth=35,colsample_bytree= 0.8)\n",
        "parameters6 = {\n",
        "    'subsample':[i/10.0 for i in range(6,10)]\n",
        "}\n",
        "scoring6 = {'AUC': 'roc_auc', 'Accuracy': make_scorer(accuracy_score), 'F1':make_scorer(f1_score, average='micro')}"
      ],
      "execution_count": null,
      "outputs": []
    },
    {
      "cell_type": "code",
      "metadata": {
        "colab": {
          "base_uri": "https://localhost:8080/"
        },
        "id": "iIwcLTieDVhL",
        "outputId": "d2a15493-16d1-4e59-b5b6-d5355b879316"
      },
      "source": [
        "\n",
        "start_time = timer(None) # timing starts from this point for \"start_time\" variable\n",
        "gsearch6 = GridSearchCV(estimator=xgb6,param_grid=parameters6,scoring=scoring6, cv=8, verbose=3, refit='AUC', return_train_score=True)\n",
        "gsearch6.fit(X,Y)\n",
        "timer(start_time) # timing ends here for \"start_time\" variable"
      ],
      "execution_count": null,
      "outputs": [
        {
          "name": "stdout",
          "output_type": "stream",
          "text": [
            "Fitting 8 folds for each of 4 candidates, totalling 32 fits\n",
            "[CV] subsample=0.6 ...................................................\n"
          ]
        },
        {
          "name": "stderr",
          "output_type": "stream",
          "text": [
            "[Parallel(n_jobs=1)]: Using backend SequentialBackend with 1 concurrent workers.\n"
          ]
        },
        {
          "name": "stdout",
          "output_type": "stream",
          "text": [
            "[CV]  subsample=0.6, AUC=(train=1.000, test=0.314), Accuracy=(train=0.999, test=0.143), F1=(train=0.999, test=0.143), total= 9.0min\n",
            "[CV] subsample=0.6 ...................................................\n"
          ]
        },
        {
          "name": "stderr",
          "output_type": "stream",
          "text": [
            "[Parallel(n_jobs=1)]: Done   1 out of   1 | elapsed:  9.0min remaining:    0.0s\n"
          ]
        },
        {
          "name": "stdout",
          "output_type": "stream",
          "text": [
            "[CV]  subsample=0.6, AUC=(train=1.000, test=0.428), Accuracy=(train=1.000, test=0.571), F1=(train=1.000, test=0.571), total= 8.2min\n",
            "[CV] subsample=0.6 ...................................................\n"
          ]
        },
        {
          "name": "stderr",
          "output_type": "stream",
          "text": [
            "[Parallel(n_jobs=1)]: Done   2 out of   2 | elapsed: 17.3min remaining:    0.0s\n"
          ]
        },
        {
          "name": "stdout",
          "output_type": "stream",
          "text": [
            "[CV]  subsample=0.6, AUC=(train=1.000, test=0.904), Accuracy=(train=0.999, test=0.834), F1=(train=0.999, test=0.834), total= 9.4min\n",
            "[CV] subsample=0.6 ...................................................\n",
            "[CV]  subsample=0.6, AUC=(train=1.000, test=0.994), Accuracy=(train=0.999, test=0.857), F1=(train=0.999, test=0.857), total= 9.8min\n",
            "[CV] subsample=0.6 ...................................................\n",
            "[CV]  subsample=0.6, AUC=(train=1.000, test=0.996), Accuracy=(train=0.999, test=0.947), F1=(train=0.999, test=0.947), total=10.1min\n",
            "[CV] subsample=0.6 ...................................................\n",
            "[CV]  subsample=0.6, AUC=(train=1.000, test=0.996), Accuracy=(train=0.999, test=0.904), F1=(train=0.999, test=0.904), total=10.0min\n",
            "[CV] subsample=0.6 ...................................................\n",
            "[CV]  subsample=0.6, AUC=(train=1.000, test=0.996), Accuracy=(train=0.999, test=0.887), F1=(train=0.999, test=0.887), total=10.0min\n",
            "[CV] subsample=0.6 ...................................................\n",
            "[CV]  subsample=0.6, AUC=(train=1.000, test=0.790), Accuracy=(train=0.999, test=0.136), F1=(train=0.999, test=0.136), total= 9.9min\n",
            "[CV] subsample=0.7 ...................................................\n",
            "[CV]  subsample=0.7, AUC=(train=1.000, test=0.310), Accuracy=(train=1.000, test=0.136), F1=(train=1.000, test=0.136), total= 9.3min\n",
            "[CV] subsample=0.7 ...................................................\n",
            "[CV]  subsample=0.7, AUC=(train=1.000, test=0.422), Accuracy=(train=1.000, test=0.547), F1=(train=1.000, test=0.547), total= 8.6min\n",
            "[CV] subsample=0.7 ...................................................\n",
            "[CV]  subsample=0.7, AUC=(train=1.000, test=0.903), Accuracy=(train=1.000, test=0.823), F1=(train=1.000, test=0.823), total=10.1min\n",
            "[CV] subsample=0.7 ...................................................\n",
            "[CV]  subsample=0.7, AUC=(train=1.000, test=0.995), Accuracy=(train=1.000, test=0.881), F1=(train=1.000, test=0.881), total=10.4min\n",
            "[CV] subsample=0.7 ...................................................\n",
            "[CV]  subsample=0.7, AUC=(train=1.000, test=0.995), Accuracy=(train=1.000, test=0.927), F1=(train=1.000, test=0.927), total=10.5min\n",
            "[CV] subsample=0.7 ...................................................\n",
            "[CV]  subsample=0.7, AUC=(train=1.000, test=0.996), Accuracy=(train=1.000, test=0.895), F1=(train=1.000, test=0.895), total=10.4min\n",
            "[CV] subsample=0.7 ...................................................\n",
            "[CV]  subsample=0.7, AUC=(train=1.000, test=0.996), Accuracy=(train=1.000, test=0.902), F1=(train=1.000, test=0.902), total=10.4min\n",
            "[CV] subsample=0.7 ...................................................\n",
            "[CV]  subsample=0.7, AUC=(train=1.000, test=0.787), Accuracy=(train=1.000, test=0.124), F1=(train=1.000, test=0.124), total=10.3min\n",
            "[CV] subsample=0.8 ...................................................\n",
            "[CV]  subsample=0.8, AUC=(train=1.000, test=0.289), Accuracy=(train=1.000, test=0.132), F1=(train=1.000, test=0.132), total= 9.5min\n",
            "[CV] subsample=0.8 ...................................................\n",
            "[CV]  subsample=0.8, AUC=(train=1.000, test=0.438), Accuracy=(train=1.000, test=0.600), F1=(train=1.000, test=0.600), total= 8.7min\n",
            "[CV] subsample=0.8 ...................................................\n",
            "[CV]  subsample=0.8, AUC=(train=1.000, test=0.904), Accuracy=(train=1.000, test=0.834), F1=(train=1.000, test=0.834), total=10.0min\n",
            "[CV] subsample=0.8 ...................................................\n",
            "[CV]  subsample=0.8, AUC=(train=1.000, test=0.994), Accuracy=(train=1.000, test=0.867), F1=(train=1.000, test=0.867), total=10.6min\n",
            "[CV] subsample=0.8 ...................................................\n",
            "[CV]  subsample=0.8, AUC=(train=1.000, test=0.994), Accuracy=(train=1.000, test=0.911), F1=(train=1.000, test=0.911), total=10.6min\n",
            "[CV] subsample=0.8 ...................................................\n",
            "[CV]  subsample=0.8, AUC=(train=1.000, test=0.996), Accuracy=(train=1.000, test=0.889), F1=(train=1.000, test=0.889), total=10.8min\n",
            "[CV] subsample=0.8 ...................................................\n",
            "[CV]  subsample=0.8, AUC=(train=1.000, test=0.996), Accuracy=(train=1.000, test=0.894), F1=(train=1.000, test=0.894), total=10.7min\n",
            "[CV] subsample=0.8 ...................................................\n",
            "[CV]  subsample=0.8, AUC=(train=1.000, test=0.720), Accuracy=(train=1.000, test=0.122), F1=(train=1.000, test=0.122), total=10.7min\n",
            "[CV] subsample=0.9 ...................................................\n",
            "[CV]  subsample=0.9, AUC=(train=1.000, test=0.283), Accuracy=(train=1.000, test=0.132), F1=(train=1.000, test=0.132), total= 9.7min\n",
            "[CV] subsample=0.9 ...................................................\n",
            "[CV]  subsample=0.9, AUC=(train=1.000, test=0.437), Accuracy=(train=1.000, test=0.588), F1=(train=1.000, test=0.588), total= 8.8min\n",
            "[CV] subsample=0.9 ...................................................\n",
            "[CV]  subsample=0.9, AUC=(train=1.000, test=0.899), Accuracy=(train=1.000, test=0.806), F1=(train=1.000, test=0.806), total=10.3min\n",
            "[CV] subsample=0.9 ...................................................\n",
            "[CV]  subsample=0.9, AUC=(train=1.000, test=0.994), Accuracy=(train=1.000, test=0.881), F1=(train=1.000, test=0.881), total=10.7min\n",
            "[CV] subsample=0.9 ...................................................\n",
            "[CV]  subsample=0.9, AUC=(train=1.000, test=0.994), Accuracy=(train=1.000, test=0.906), F1=(train=1.000, test=0.906), total=10.8min\n",
            "[CV] subsample=0.9 ...................................................\n",
            "[CV]  subsample=0.9, AUC=(train=1.000, test=0.995), Accuracy=(train=1.000, test=0.877), F1=(train=1.000, test=0.877), total=10.9min\n",
            "[CV] subsample=0.9 ...................................................\n",
            "[CV]  subsample=0.9, AUC=(train=1.000, test=0.996), Accuracy=(train=1.000, test=0.900), F1=(train=1.000, test=0.900), total=10.9min\n",
            "[CV] subsample=0.9 ...................................................\n",
            "[CV]  subsample=0.9, AUC=(train=1.000, test=0.683), Accuracy=(train=1.000, test=0.120), F1=(train=1.000, test=0.120), total=10.9min\n"
          ]
        },
        {
          "name": "stderr",
          "output_type": "stream",
          "text": [
            "[Parallel(n_jobs=1)]: Done  32 out of  32 | elapsed: 322.8min finished\n"
          ]
        },
        {
          "name": "stdout",
          "output_type": "stream",
          "text": [
            "\n",
            " Time taken: 5 hours 34 minutes and 5.56 seconds.\n"
          ]
        },
        {
          "data": {
            "text/plain": [
              "(5.0, 34.0, 5.556189999999333)"
            ]
          },
          "execution_count": 22,
          "metadata": {},
          "output_type": "execute_result"
        }
      ]
    },
    {
      "cell_type": "code",
      "metadata": {
        "colab": {
          "base_uri": "https://localhost:8080/"
        },
        "id": "4nQrXz7eDVhL",
        "outputId": "0454dee6-ef86-4696-b821-0cc9784f2431"
      },
      "source": [
        "gsearch6.best_params_, gsearch6.best_score_\n"
      ],
      "execution_count": null,
      "outputs": [
        {
          "data": {
            "text/plain": [
              "({'subsample': 0.6}, 0.8022143342666991)"
            ]
          },
          "execution_count": 23,
          "metadata": {},
          "output_type": "execute_result"
        }
      ]
    },
    {
      "cell_type": "markdown",
      "metadata": {
        "id": "SfRO40MuDVhM"
      },
      "source": [
        "## **reg_alpha**"
      ]
    },
    {
      "cell_type": "code",
      "metadata": {
        "id": "gfZoMbfFDVhM"
      },
      "source": [
        "xgb7 = XGBClassifier(stopping_metric='log_loss',keep_cross_validation_predictions=True, objective='binary:logistic',subsample=0.6,nfolds=3, max_depth=35,colsample_bytree= 0.8)\n",
        "parameters7 = {\n",
        "    'reg_alpha':[0, 0.001, 0.005, 0.01, 0.05]\n",
        "    #'reg_lambda':[0, 0.001, 0.005, 0.01, 0.05]\n",
        "}\n",
        "scoring7 = {'AUC': 'roc_auc', 'Accuracy': make_scorer(accuracy_score), 'F1':make_scorer(f1_score, average='micro')}"
      ],
      "execution_count": null,
      "outputs": []
    },
    {
      "cell_type": "code",
      "metadata": {
        "colab": {
          "base_uri": "https://localhost:8080/"
        },
        "id": "UNUOfOD3DVhM",
        "outputId": "f2e966a3-4dfa-49cf-95ad-e2d5eb404ab3"
      },
      "source": [
        "\n",
        "start_time = timer(None) # timing starts from this point for \"start_time\" variable\n",
        "gsearch7 = GridSearchCV(estimator=xgb7,param_grid=parameters7,scoring=scoring7, cv=8, verbose=3, refit='AUC', return_train_score=True)\n",
        "gsearch7.fit(X,Y)\n",
        "timer(start_time) # timing ends here for \"start_time\" variable"
      ],
      "execution_count": null,
      "outputs": [
        {
          "name": "stdout",
          "output_type": "stream",
          "text": [
            "Fitting 8 folds for each of 5 candidates, totalling 40 fits\n",
            "[CV] reg_alpha=0 .....................................................\n"
          ]
        },
        {
          "name": "stderr",
          "output_type": "stream",
          "text": [
            "[Parallel(n_jobs=1)]: Using backend SequentialBackend with 1 concurrent workers.\n"
          ]
        },
        {
          "name": "stdout",
          "output_type": "stream",
          "text": [
            "[CV]  reg_alpha=0, AUC=(train=1.000, test=0.314), Accuracy=(train=0.999, test=0.143), F1=(train=0.999, test=0.143), total= 8.6min\n",
            "[CV] reg_alpha=0 .....................................................\n"
          ]
        },
        {
          "name": "stderr",
          "output_type": "stream",
          "text": [
            "[Parallel(n_jobs=1)]: Done   1 out of   1 | elapsed:  8.7min remaining:    0.0s\n"
          ]
        },
        {
          "name": "stdout",
          "output_type": "stream",
          "text": [
            "[CV]  reg_alpha=0, AUC=(train=1.000, test=0.428), Accuracy=(train=1.000, test=0.571), F1=(train=1.000, test=0.571), total= 7.9min\n",
            "[CV] reg_alpha=0 .....................................................\n"
          ]
        },
        {
          "name": "stderr",
          "output_type": "stream",
          "text": [
            "[Parallel(n_jobs=1)]: Done   2 out of   2 | elapsed: 16.7min remaining:    0.0s\n"
          ]
        },
        {
          "name": "stdout",
          "output_type": "stream",
          "text": [
            "[CV]  reg_alpha=0, AUC=(train=1.000, test=0.904), Accuracy=(train=0.999, test=0.834), F1=(train=0.999, test=0.834), total= 9.0min\n",
            "[CV] reg_alpha=0 .....................................................\n",
            "[CV]  reg_alpha=0, AUC=(train=1.000, test=0.994), Accuracy=(train=0.999, test=0.857), F1=(train=0.999, test=0.857), total= 9.5min\n",
            "[CV] reg_alpha=0 .....................................................\n",
            "[CV]  reg_alpha=0, AUC=(train=1.000, test=0.996), Accuracy=(train=0.999, test=0.947), F1=(train=0.999, test=0.947), total= 9.7min\n",
            "[CV] reg_alpha=0 .....................................................\n",
            "[CV]  reg_alpha=0, AUC=(train=1.000, test=0.996), Accuracy=(train=0.999, test=0.904), F1=(train=0.999, test=0.904), total= 9.6min\n",
            "[CV] reg_alpha=0 .....................................................\n",
            "[CV]  reg_alpha=0, AUC=(train=1.000, test=0.996), Accuracy=(train=0.999, test=0.887), F1=(train=0.999, test=0.887), total= 9.7min\n",
            "[CV] reg_alpha=0 .....................................................\n",
            "[CV]  reg_alpha=0, AUC=(train=1.000, test=0.790), Accuracy=(train=0.999, test=0.136), F1=(train=0.999, test=0.136), total= 9.5min\n",
            "[CV] reg_alpha=0.001 .................................................\n",
            "[CV]  reg_alpha=0.001, AUC=(train=1.000, test=0.312), Accuracy=(train=0.999, test=0.140), F1=(train=0.999, test=0.140), total= 8.5min\n",
            "[CV] reg_alpha=0.001 .................................................\n",
            "[CV]  reg_alpha=0.001, AUC=(train=1.000, test=0.432), Accuracy=(train=1.000, test=0.583), F1=(train=1.000, test=0.583), total= 8.0min\n",
            "[CV] reg_alpha=0.001 .................................................\n",
            "[CV]  reg_alpha=0.001, AUC=(train=1.000, test=0.906), Accuracy=(train=0.999, test=0.851), F1=(train=0.999, test=0.851), total= 9.1min\n",
            "[CV] reg_alpha=0.001 .................................................\n",
            "[CV]  reg_alpha=0.001, AUC=(train=1.000, test=0.994), Accuracy=(train=0.999, test=0.881), F1=(train=0.999, test=0.881), total= 9.5min\n",
            "[CV] reg_alpha=0.001 .................................................\n",
            "[CV]  reg_alpha=0.001, AUC=(train=1.000, test=0.995), Accuracy=(train=0.999, test=0.932), F1=(train=0.999, test=0.932), total= 9.6min\n",
            "[CV] reg_alpha=0.001 .................................................\n",
            "[CV]  reg_alpha=0.001, AUC=(train=1.000, test=0.996), Accuracy=(train=0.999, test=0.904), F1=(train=0.999, test=0.904), total= 9.6min\n",
            "[CV] reg_alpha=0.001 .................................................\n",
            "[CV]  reg_alpha=0.001, AUC=(train=1.000, test=0.996), Accuracy=(train=0.999, test=0.919), F1=(train=0.999, test=0.919), total= 9.5min\n",
            "[CV] reg_alpha=0.001 .................................................\n",
            "[CV]  reg_alpha=0.001, AUC=(train=1.000, test=0.780), Accuracy=(train=0.999, test=0.133), F1=(train=0.999, test=0.133), total= 9.4min\n",
            "[CV] reg_alpha=0.005 .................................................\n",
            "[CV]  reg_alpha=0.005, AUC=(train=1.000, test=0.288), Accuracy=(train=0.999, test=0.140), F1=(train=0.999, test=0.140), total= 8.5min\n",
            "[CV] reg_alpha=0.005 .................................................\n",
            "[CV]  reg_alpha=0.005, AUC=(train=1.000, test=0.433), Accuracy=(train=1.000, test=0.590), F1=(train=1.000, test=0.590), total= 7.9min\n",
            "[CV] reg_alpha=0.005 .................................................\n",
            "[CV]  reg_alpha=0.005, AUC=(train=1.000, test=0.902), Accuracy=(train=0.999, test=0.834), F1=(train=0.999, test=0.834), total= 9.0min\n",
            "[CV] reg_alpha=0.005 .................................................\n",
            "[CV]  reg_alpha=0.005, AUC=(train=1.000, test=0.995), Accuracy=(train=0.999, test=0.898), F1=(train=0.999, test=0.898), total= 9.5min\n",
            "[CV] reg_alpha=0.005 .................................................\n",
            "[CV]  reg_alpha=0.005, AUC=(train=1.000, test=0.995), Accuracy=(train=0.999, test=0.935), F1=(train=0.999, test=0.935), total= 9.6min\n",
            "[CV] reg_alpha=0.005 .................................................\n",
            "[CV]  reg_alpha=0.005, AUC=(train=1.000, test=0.996), Accuracy=(train=0.999, test=0.892), F1=(train=0.999, test=0.892), total= 9.5min\n",
            "[CV] reg_alpha=0.005 .................................................\n",
            "[CV]  reg_alpha=0.005, AUC=(train=1.000, test=0.996), Accuracy=(train=0.999, test=0.901), F1=(train=0.999, test=0.901), total= 9.5min\n",
            "[CV] reg_alpha=0.005 .................................................\n",
            "[CV]  reg_alpha=0.005, AUC=(train=1.000, test=0.756), Accuracy=(train=0.999, test=0.129), F1=(train=0.999, test=0.129), total= 9.4min\n",
            "[CV] reg_alpha=0.01 ..................................................\n",
            "[CV]  reg_alpha=0.01, AUC=(train=1.000, test=0.309), Accuracy=(train=0.999, test=0.144), F1=(train=0.999, test=0.144), total= 8.4min\n",
            "[CV] reg_alpha=0.01 ..................................................\n",
            "[CV]  reg_alpha=0.01, AUC=(train=1.000, test=0.409), Accuracy=(train=1.000, test=0.526), F1=(train=1.000, test=0.526), total= 7.9min\n",
            "[CV] reg_alpha=0.01 ..................................................\n",
            "[CV]  reg_alpha=0.01, AUC=(train=1.000, test=0.900), Accuracy=(train=0.999, test=0.817), F1=(train=0.999, test=0.817), total= 9.0min\n",
            "[CV] reg_alpha=0.01 ..................................................\n",
            "[CV]  reg_alpha=0.01, AUC=(train=1.000, test=0.995), Accuracy=(train=0.999, test=0.887), F1=(train=0.999, test=0.887), total= 9.4min\n",
            "[CV] reg_alpha=0.01 ..................................................\n",
            "[CV]  reg_alpha=0.01, AUC=(train=1.000, test=0.994), Accuracy=(train=0.999, test=0.931), F1=(train=0.999, test=0.931), total= 9.5min\n",
            "[CV] reg_alpha=0.01 ..................................................\n",
            "[CV]  reg_alpha=0.01, AUC=(train=1.000, test=0.997), Accuracy=(train=0.999, test=0.912), F1=(train=0.999, test=0.912), total= 9.5min\n",
            "[CV] reg_alpha=0.01 ..................................................\n",
            "[CV]  reg_alpha=0.01, AUC=(train=1.000, test=0.996), Accuracy=(train=0.999, test=0.902), F1=(train=0.999, test=0.902), total= 9.4min\n",
            "[CV] reg_alpha=0.01 ..................................................\n",
            "[CV]  reg_alpha=0.01, AUC=(train=1.000, test=0.785), Accuracy=(train=0.999, test=0.132), F1=(train=0.999, test=0.132), total= 9.3min\n",
            "[CV] reg_alpha=0.05 ..................................................\n",
            "[CV]  reg_alpha=0.05, AUC=(train=1.000, test=0.305), Accuracy=(train=0.999, test=0.141), F1=(train=0.999, test=0.141), total= 8.3min\n",
            "[CV] reg_alpha=0.05 ..................................................\n",
            "[CV]  reg_alpha=0.05, AUC=(train=1.000, test=0.430), Accuracy=(train=1.000, test=0.579), F1=(train=1.000, test=0.579), total= 7.9min\n",
            "[CV] reg_alpha=0.05 ..................................................\n",
            "[CV]  reg_alpha=0.05, AUC=(train=1.000, test=0.901), Accuracy=(train=0.999, test=0.823), F1=(train=0.999, test=0.823), total= 9.1min\n",
            "[CV] reg_alpha=0.05 ..................................................\n",
            "[CV]  reg_alpha=0.05, AUC=(train=1.000, test=0.994), Accuracy=(train=0.999, test=0.865), F1=(train=0.999, test=0.865), total= 9.4min\n",
            "[CV] reg_alpha=0.05 ..................................................\n",
            "[CV]  reg_alpha=0.05, AUC=(train=1.000, test=0.995), Accuracy=(train=0.999, test=0.937), F1=(train=0.999, test=0.937), total= 9.4min\n",
            "[CV] reg_alpha=0.05 ..................................................\n",
            "[CV]  reg_alpha=0.05, AUC=(train=1.000, test=0.996), Accuracy=(train=0.999, test=0.890), F1=(train=0.999, test=0.890), total= 9.4min\n",
            "[CV] reg_alpha=0.05 ..................................................\n",
            "[CV]  reg_alpha=0.05, AUC=(train=1.000, test=0.996), Accuracy=(train=0.999, test=0.899), F1=(train=0.999, test=0.899), total= 9.3min\n",
            "[CV] reg_alpha=0.05 ..................................................\n",
            "[CV]  reg_alpha=0.05, AUC=(train=1.000, test=0.781), Accuracy=(train=0.999, test=0.131), F1=(train=0.999, test=0.131), total= 9.3min\n"
          ]
        },
        {
          "name": "stderr",
          "output_type": "stream",
          "text": [
            "[Parallel(n_jobs=1)]: Done  40 out of  40 | elapsed: 366.4min finished\n"
          ]
        },
        {
          "name": "stdout",
          "output_type": "stream",
          "text": [
            "\n",
            " Time taken: 6 hours 17 minutes and 19.07 seconds.\n"
          ]
        },
        {
          "data": {
            "text/plain": [
              "(6.0, 17.0, 19.074329999999463)"
            ]
          },
          "execution_count": 24,
          "metadata": {},
          "output_type": "execute_result"
        }
      ]
    },
    {
      "cell_type": "code",
      "metadata": {
        "colab": {
          "base_uri": "https://localhost:8080/"
        },
        "id": "-AFIaMFUDVhM",
        "outputId": "78f7754c-3791-4d6e-ac4d-d2431a1c4b13"
      },
      "source": [
        "gsearch7.best_params_, gsearch7.best_score_\n"
      ],
      "execution_count": null,
      "outputs": [
        {
          "data": {
            "text/plain": [
              "({'reg_alpha': 0}, 0.8022143342666991)"
            ]
          },
          "execution_count": 25,
          "metadata": {},
          "output_type": "execute_result"
        }
      ]
    },
    {
      "cell_type": "markdown",
      "metadata": {
        "id": "710t8rcJDVhN"
      },
      "source": [
        "## **reg_lambda**"
      ]
    },
    {
      "cell_type": "markdown",
      "metadata": {
        "id": "FjaIyjDEGGak"
      },
      "source": [
        "It is possible to observe initially that when two parameters are used to adjust the training takes less than one minute, which facilitates the code execution time."
      ]
    },
    {
      "cell_type": "code",
      "metadata": {
        "id": "88y0InwgDVhN"
      },
      "source": [
        "xgb8 = XGBClassifier(stopping_metric='log_loss',keep_cross_validation_predictions=True,reg_alpha= 0, objective='binary:logistic',subsample=0.6,nfolds=3, max_depth=35,colsample_bytree= 0.8)\n",
        "parameters8 = {\n",
        "    'reg_lambda':[0, 0.001, 0.005, 0.01, 0.05]\n",
        "}\n",
        "scoring8 = {'AUC': 'roc_auc', 'Accuracy': make_scorer(accuracy_score), 'F1':make_scorer(f1_score, average='micro')}"
      ],
      "execution_count": null,
      "outputs": []
    },
    {
      "cell_type": "code",
      "metadata": {
        "colab": {
          "base_uri": "https://localhost:8080/"
        },
        "id": "ATl5b9aNDVhN",
        "outputId": "8b2b3dc1-0a86-4759-d41a-d286b412f3a3"
      },
      "source": [
        "\n",
        "start_time = timer(None) # timing starts from this point for \"start_time\" variable\n",
        "gsearch8 = GridSearchCV(estimator=xgb8,param_grid=parameters8,scoring=scoring8, cv=8, verbose=3, refit='AUC', return_train_score=True)\n",
        "gsearch8.fit(X,Y)\n",
        "timer(start_time) # timing ends here for \"start_time\" variable"
      ],
      "execution_count": null,
      "outputs": [
        {
          "output_type": "stream",
          "name": "stdout",
          "text": [
            "Fitting 8 folds for each of 5 candidates, totalling 40 fits\n",
            "[CV] reg_lambda=0 ....................................................\n"
          ]
        },
        {
          "output_type": "stream",
          "name": "stderr",
          "text": [
            "[Parallel(n_jobs=1)]: Using backend SequentialBackend with 1 concurrent workers.\n"
          ]
        },
        {
          "output_type": "stream",
          "name": "stdout",
          "text": [
            "[CV]  reg_lambda=0, AUC=(train=1.000, test=0.309), Accuracy=(train=1.000, test=0.141), F1=(train=1.000, test=0.141), total=11.2min\n",
            "[CV] reg_lambda=0 ....................................................\n"
          ]
        },
        {
          "output_type": "stream",
          "name": "stderr",
          "text": [
            "[Parallel(n_jobs=1)]: Done   1 out of   1 | elapsed: 11.3min remaining:    0.0s\n"
          ]
        },
        {
          "output_type": "stream",
          "name": "stdout",
          "text": [
            "[CV]  reg_lambda=0, AUC=(train=1.000, test=0.404), Accuracy=(train=1.000, test=0.498), F1=(train=1.000, test=0.498), total=10.6min\n",
            "[CV] reg_lambda=0 ....................................................\n"
          ]
        },
        {
          "output_type": "stream",
          "name": "stderr",
          "text": [
            "[Parallel(n_jobs=1)]: Done   2 out of   2 | elapsed: 22.0min remaining:    0.0s\n"
          ]
        },
        {
          "output_type": "stream",
          "name": "stdout",
          "text": [
            "[CV]  reg_lambda=0, AUC=(train=1.000, test=0.900), Accuracy=(train=1.000, test=0.822), F1=(train=1.000, test=0.822), total=11.6min\n",
            "[CV] reg_lambda=0 ....................................................\n",
            "[CV]  reg_lambda=0, AUC=(train=1.000, test=0.995), Accuracy=(train=1.000, test=0.882), F1=(train=1.000, test=0.882), total=11.9min\n",
            "[CV] reg_lambda=0 ....................................................\n",
            "[CV]  reg_lambda=0, AUC=(train=1.000, test=0.996), Accuracy=(train=1.000, test=0.928), F1=(train=1.000, test=0.928), total=11.9min\n",
            "[CV] reg_lambda=0 ....................................................\n",
            "[CV]  reg_lambda=0, AUC=(train=1.000, test=0.997), Accuracy=(train=1.000, test=0.925), F1=(train=1.000, test=0.925), total=12.0min\n",
            "[CV] reg_lambda=0 ....................................................\n",
            "[CV]  reg_lambda=0, AUC=(train=1.000, test=0.996), Accuracy=(train=1.000, test=0.918), F1=(train=1.000, test=0.918), total=12.0min\n",
            "[CV] reg_lambda=0 ....................................................\n",
            "[CV]  reg_lambda=0, AUC=(train=1.000, test=0.712), Accuracy=(train=1.000, test=0.123), F1=(train=1.000, test=0.123), total=11.8min\n",
            "[CV] reg_lambda=0.001 ................................................\n",
            "[CV]  reg_lambda=0.001, AUC=(train=1.000, test=0.305), Accuracy=(train=1.000, test=0.141), F1=(train=1.000, test=0.141), total=10.1min\n",
            "[CV] reg_lambda=0.001 ................................................\n",
            "[CV]  reg_lambda=0.001, AUC=(train=1.000, test=0.384), Accuracy=(train=1.000, test=0.447), F1=(train=1.000, test=0.447), total= 9.3min\n",
            "[CV] reg_lambda=0.001 ................................................\n",
            "[CV]  reg_lambda=0.001, AUC=(train=1.000, test=0.893), Accuracy=(train=1.000, test=0.755), F1=(train=1.000, test=0.755), total=10.5min\n",
            "[CV] reg_lambda=0.001 ................................................\n",
            "[CV]  reg_lambda=0.001, AUC=(train=1.000, test=0.996), Accuracy=(train=1.000, test=0.888), F1=(train=1.000, test=0.888), total=10.9min\n",
            "[CV] reg_lambda=0.001 ................................................\n",
            "[CV]  reg_lambda=0.001, AUC=(train=1.000, test=0.995), Accuracy=(train=1.000, test=0.929), F1=(train=1.000, test=0.929), total=10.9min\n",
            "[CV] reg_lambda=0.001 ................................................\n",
            "[CV]  reg_lambda=0.001, AUC=(train=1.000, test=0.997), Accuracy=(train=1.000, test=0.914), F1=(train=1.000, test=0.914), total=10.8min\n",
            "[CV] reg_lambda=0.001 ................................................\n",
            "[CV]  reg_lambda=0.001, AUC=(train=1.000, test=0.996), Accuracy=(train=1.000, test=0.909), F1=(train=1.000, test=0.909), total=10.8min\n",
            "[CV] reg_lambda=0.001 ................................................\n",
            "[CV]  reg_lambda=0.001, AUC=(train=1.000, test=0.713), Accuracy=(train=1.000, test=0.125), F1=(train=1.000, test=0.125), total=10.7min\n",
            "[CV] reg_lambda=0.005 ................................................\n",
            "[CV]  reg_lambda=0.005, AUC=(train=1.000, test=0.309), Accuracy=(train=1.000, test=0.140), F1=(train=1.000, test=0.140), total= 9.7min\n",
            "[CV] reg_lambda=0.005 ................................................\n",
            "[CV]  reg_lambda=0.005, AUC=(train=1.000, test=0.385), Accuracy=(train=1.000, test=0.453), F1=(train=1.000, test=0.453), total= 9.0min\n",
            "[CV] reg_lambda=0.005 ................................................\n",
            "[CV]  reg_lambda=0.005, AUC=(train=1.000, test=0.897), Accuracy=(train=1.000, test=0.788), F1=(train=1.000, test=0.788), total=10.2min\n",
            "[CV] reg_lambda=0.005 ................................................\n",
            "[CV]  reg_lambda=0.005, AUC=(train=1.000, test=0.995), Accuracy=(train=1.000, test=0.881), F1=(train=1.000, test=0.881), total=10.6min\n",
            "[CV] reg_lambda=0.005 ................................................\n",
            "[CV]  reg_lambda=0.005, AUC=(train=1.000, test=0.996), Accuracy=(train=1.000, test=0.936), F1=(train=1.000, test=0.936), total=10.7min\n",
            "[CV] reg_lambda=0.005 ................................................\n",
            "[CV]  reg_lambda=0.005, AUC=(train=1.000, test=0.997), Accuracy=(train=1.000, test=0.904), F1=(train=1.000, test=0.904), total=10.9min\n",
            "[CV] reg_lambda=0.005 ................................................\n",
            "[CV]  reg_lambda=0.005, AUC=(train=1.000, test=0.995), Accuracy=(train=1.000, test=0.896), F1=(train=1.000, test=0.896), total=10.6min\n",
            "[CV] reg_lambda=0.005 ................................................\n",
            "[CV]  reg_lambda=0.005, AUC=(train=1.000, test=0.754), Accuracy=(train=1.000, test=0.124), F1=(train=1.000, test=0.124), total=10.4min\n",
            "[CV] reg_lambda=0.01 .................................................\n",
            "[CV]  reg_lambda=0.01, AUC=(train=1.000, test=0.316), Accuracy=(train=1.000, test=0.140), F1=(train=1.000, test=0.140), total= 9.8min\n",
            "[CV] reg_lambda=0.01 .................................................\n",
            "[CV]  reg_lambda=0.01, AUC=(train=1.000, test=0.414), Accuracy=(train=1.000, test=0.489), F1=(train=1.000, test=0.489), total= 9.0min\n",
            "[CV] reg_lambda=0.01 .................................................\n",
            "[CV]  reg_lambda=0.01, AUC=(train=1.000, test=0.903), Accuracy=(train=1.000, test=0.822), F1=(train=1.000, test=0.822), total=10.2min\n",
            "[CV] reg_lambda=0.01 .................................................\n",
            "[CV]  reg_lambda=0.01, AUC=(train=1.000, test=0.995), Accuracy=(train=1.000, test=0.871), F1=(train=1.000, test=0.871), total=10.5min\n",
            "[CV] reg_lambda=0.01 .................................................\n",
            "[CV]  reg_lambda=0.01, AUC=(train=1.000, test=0.997), Accuracy=(train=1.000, test=0.947), F1=(train=1.000, test=0.947), total=10.5min\n",
            "[CV] reg_lambda=0.01 .................................................\n",
            "[CV]  reg_lambda=0.01, AUC=(train=1.000, test=0.996), Accuracy=(train=1.000, test=0.904), F1=(train=1.000, test=0.904), total=10.5min\n",
            "[CV] reg_lambda=0.01 .................................................\n",
            "[CV]  reg_lambda=0.01, AUC=(train=1.000, test=0.996), Accuracy=(train=1.000, test=0.903), F1=(train=1.000, test=0.903), total=10.5min\n",
            "[CV] reg_lambda=0.01 .................................................\n",
            "[CV]  reg_lambda=0.01, AUC=(train=1.000, test=0.744), Accuracy=(train=1.000, test=0.123), F1=(train=1.000, test=0.123), total=10.5min\n",
            "[CV] reg_lambda=0.05 .................................................\n",
            "[CV]  reg_lambda=0.05, AUC=(train=1.000, test=0.304), Accuracy=(train=1.000, test=0.142), F1=(train=1.000, test=0.142), total= 9.6min\n",
            "[CV] reg_lambda=0.05 .................................................\n",
            "[CV]  reg_lambda=0.05, AUC=(train=1.000, test=0.392), Accuracy=(train=1.000, test=0.480), F1=(train=1.000, test=0.480), total= 8.8min\n",
            "[CV] reg_lambda=0.05 .................................................\n",
            "[CV]  reg_lambda=0.05, AUC=(train=1.000, test=0.899), Accuracy=(train=1.000, test=0.805), F1=(train=1.000, test=0.805), total=10.0min\n",
            "[CV] reg_lambda=0.05 .................................................\n",
            "[CV]  reg_lambda=0.05, AUC=(train=1.000, test=0.995), Accuracy=(train=1.000, test=0.881), F1=(train=1.000, test=0.881), total=10.5min\n",
            "[CV] reg_lambda=0.05 .................................................\n",
            "[CV]  reg_lambda=0.05, AUC=(train=1.000, test=0.995), Accuracy=(train=1.000, test=0.924), F1=(train=1.000, test=0.924), total=10.4min\n",
            "[CV] reg_lambda=0.05 .................................................\n",
            "[CV]  reg_lambda=0.05, AUC=(train=1.000, test=0.997), Accuracy=(train=1.000, test=0.914), F1=(train=1.000, test=0.914), total=10.5min\n",
            "[CV] reg_lambda=0.05 .................................................\n",
            "[CV]  reg_lambda=0.05, AUC=(train=1.000, test=0.995), Accuracy=(train=1.000, test=0.898), F1=(train=1.000, test=0.898), total=10.4min\n",
            "[CV] reg_lambda=0.05 .................................................\n",
            "[CV]  reg_lambda=0.05, AUC=(train=1.000, test=0.703), Accuracy=(train=1.000, test=0.126), F1=(train=1.000, test=0.126), total=10.3min\n"
          ]
        },
        {
          "output_type": "stream",
          "name": "stderr",
          "text": [
            "[Parallel(n_jobs=1)]: Done  40 out of  40 | elapsed: 424.0min finished\n"
          ]
        },
        {
          "output_type": "stream",
          "name": "stdout",
          "text": [
            "\n",
            " Time taken: 7 hours 16 minutes and 11.83 seconds.\n"
          ]
        },
        {
          "output_type": "execute_result",
          "data": {
            "text/plain": [
              "(7.0, 16.0, 11.834664999998495)"
            ]
          },
          "metadata": {},
          "execution_count": 20
        }
      ]
    },
    {
      "cell_type": "markdown",
      "metadata": {
        "id": "gZ4ehEXAIReI"
      },
      "source": [
        "With these lines, it is possible to observe the best parameter found and the training score obtained."
      ]
    },
    {
      "cell_type": "code",
      "metadata": {
        "colab": {
          "base_uri": "https://localhost:8080/"
        },
        "id": "ZpDrb3NaDVhN",
        "outputId": "28fd3243-64b1-4411-e57b-88bbfb6c0448"
      },
      "source": [
        "gsearch8.best_params_, gsearch8.best_score_\n"
      ],
      "execution_count": null,
      "outputs": [
        {
          "output_type": "execute_result",
          "data": {
            "text/plain": [
              "({'reg_lambda': 0.01}, 0.795040915598876)"
            ]
          },
          "metadata": {},
          "execution_count": 21
        }
      ]
    },
    {
      "cell_type": "markdown",
      "metadata": {
        "id": "Ccub9nlxDVhO"
      },
      "source": [
        "## **GridSearch con ajuste de hiperparámetros: Learning_rate y cv** "
      ]
    },
    {
      "cell_type": "code",
      "metadata": {
        "id": "BJ3STbAR2CY0"
      },
      "source": [
        "cv=[5,8,10] \n",
        "scores,tiempo,param=[],[],[]\n",
        "for crosval in cv:\n",
        "  \n",
        "  start_time = timer(None)\n",
        "  parameters = {\n",
        "      \"learning_rate\":[0.01,0.1,1, 1.5] \n",
        "  }\n",
        "  scoring = {'AUC': 'roc_auc', 'Accuracy': make_scorer(accuracy_score), 'F1':make_scorer(f1_score, average='micro')}\n",
        "  xgb = XGBClassifier(stopping_metric='log_loss',keep_cross_validation_predictions=True,reg_alpha= 0, objective='binary:logistic',subsample=0.6,nfolds=3, max_depth=35,colsample_bytree= 0.8)\n",
        "  gsearch = GridSearchCV(estimator=xgb,param_grid=parameters,scoring=scoring, cv=crosval, refit='AUC', return_train_score=True)\n",
        "  gsearch.fit(X,Y)\n",
        "  scores.append(np.round((gsearch.best_score_*100),2))\n",
        "  h,m,s=timer(start_time)\n",
        "  tiempo.append((h+(m/60)+(s/3600)))\n",
        "  lrate=gsearch.best_params_\n",
        "  param.append(lrate['learning_rate'])\n",
        "  print('Con CV:',crosval)\n",
        "  print('Mejores parámetros',gsearch.best_params_)\n",
        "  print('Mejor score',gsearch.best_score_)\n",
        "  print('Mejores evaluaciones',gsearch.scorer_)\n",
        "  print('-'*40)\n",
        "    \n",
        "  \n",
        "   # timing starts from this point for \"start_time\" variable"
      ],
      "execution_count": null,
      "outputs": []
    },
    {
      "cell_type": "markdown",
      "metadata": {
        "id": "n5OW-5EXDVhO"
      },
      "source": [
        "### **Para dos particiones**"
      ]
    },
    {
      "cell_type": "code",
      "metadata": {
        "colab": {
          "base_uri": "https://localhost:8080/"
        },
        "id": "m4yJs_-fDVhO",
        "outputId": "8aeb965d-f82d-41ea-9387-36165e10b4ed"
      },
      "source": [
        "# cv 2 \n",
        "start_time = timer(None)\n",
        "parameters = {\n",
        "    \"learning_rate\":[0.01,0.1,1, 1.5] \n",
        "}\n",
        "scoring = {'AUC': 'roc_auc', 'Accuracy': make_scorer(accuracy_score), 'F1':make_scorer(f1_score, average='micro')}\n",
        "gb = GradientBoostingClassifier(random_state=40, n_estimators=700,  max_depth=20, max_features=15, subsample=0.7, min_samples_leaf= 3, min_samples_split= 2)\n",
        "gsearch = GridSearchCV(estimator=gb,param_grid=parameters,scoring=scoring, cv=2, refit='AUC', return_train_score=True)\n",
        "gsearch.fit(X,Y)\n",
        "print('Mejores parámetros',gsearch.best_params_)\n",
        "print('Mejor score',gsearch.best_score_)\n",
        "print('Mejores evaluaciones',gsearch.scorer_)\n",
        "  \n",
        "\n",
        " # timing starts from this point for \"start_time\" variable\n",
        "timer(start_time)"
      ],
      "execution_count": null,
      "outputs": [
        {
          "name": "stdout",
          "output_type": "stream",
          "text": [
            "Mejores parámetros {'learning_rate': 0.01}\n",
            "Mejor score 0.8166499252893884\n",
            "Mejores evaluaciones {'AUC': make_scorer(roc_auc_score, needs_threshold=True), 'Accuracy': make_scorer(accuracy_score), 'F1': make_scorer(f1_score, average=micro)}\n",
            "\n",
            " Time taken: 0 hours 24 minutes and 51.01 seconds.\n"
          ]
        }
      ]
    },
    {
      "cell_type": "markdown",
      "metadata": {
        "id": "_WMhObkEDVhP"
      },
      "source": [
        "### **Para cuatro particiones**"
      ]
    },
    {
      "cell_type": "code",
      "metadata": {
        "colab": {
          "base_uri": "https://localhost:8080/"
        },
        "id": "z4SyFoKpDVhP",
        "outputId": "f3351a06-b99a-4cf1-ea45-53a1debb8171"
      },
      "source": [
        "# cv 2 \n",
        "start_time = timer(None)\n",
        "parameters = {\n",
        "    \"learning_rate\":[0.01,0.1,1, 1.5] \n",
        "}\n",
        "scoring = {'AUC': 'roc_auc', 'Accuracy': make_scorer(accuracy_score), 'F1':make_scorer(f1_score, average='micro')}\n",
        "gb = GradientBoostingClassifier(random_state=40, n_estimators=700,  max_depth=20, max_features=15, subsample=0.7, min_samples_leaf= 3, min_samples_split= 2)\n",
        "gsearch = GridSearchCV(estimator=gb,param_grid=parameters,scoring=scoring, cv=4, refit='AUC', return_train_score=True)\n",
        "gsearch.fit(X,Y)\n",
        "print('Mejores parámetros para 4 splits',gsearch.best_params_)\n",
        "print('Mejor score',gsearch.best_score_)\n",
        "print('Evaluadores',gsearch.scorer_)\n",
        "  \n",
        "\n",
        " # timing starts from this point for \"start_time\" variable\n",
        "timer(start_time)"
      ],
      "execution_count": null,
      "outputs": [
        {
          "name": "stdout",
          "output_type": "stream",
          "text": [
            "Mejores parámetros para 4 splits {'learning_rate': 0.1}\n",
            "Mejor score 0.8946534037683964\n",
            "Evaluadores {'AUC': make_scorer(roc_auc_score, needs_threshold=True), 'Accuracy': make_scorer(accuracy_score), 'F1': make_scorer(f1_score, average=micro)}\n",
            "\n",
            " Time taken: 0 hours 59 minutes and 50.85 seconds.\n"
          ]
        }
      ]
    },
    {
      "cell_type": "markdown",
      "metadata": {
        "id": "TzDYe_cXDVhP"
      },
      "source": [
        "### **Para cinco particiones**"
      ]
    },
    {
      "cell_type": "code",
      "metadata": {
        "colab": {
          "base_uri": "https://localhost:8080/"
        },
        "id": "nDQdeXAnDVhP",
        "outputId": "af00ca52-1ee4-42e1-a544-2c07cb844275"
      },
      "source": [
        "# cv 2 \n",
        "start_time = timer(None)\n",
        "parameters = {\n",
        "    \"learning_rate\":[0.01,0.1,1, 1.5] \n",
        "}\n",
        "scoring = {'AUC': 'roc_auc', 'Accuracy': make_scorer(accuracy_score), 'F1':make_scorer(f1_score, average='micro')}\n",
        "gb = GradientBoostingClassifier(random_state=40, n_estimators=700,  max_depth=20, max_features=15, subsample=0.7, min_samples_leaf= 3, min_samples_split= 2)\n",
        "gsearch = GridSearchCV(estimator=gb,param_grid=parameters,scoring=scoring, cv=5, refit='AUC', return_train_score=True)\n",
        "gsearch.fit(X,Y)\n",
        "print('Mejores parámetros para 5 splits',gsearch.best_params_)\n",
        "print('Mejor score',gsearch.best_score_)\n",
        "print('Evaluadores',gsearch.scorer_)\n",
        "  \n",
        "\n",
        " # timing starts from this point for \"start_time\" variable\n",
        "timer(start_time)"
      ],
      "execution_count": null,
      "outputs": [
        {
          "name": "stdout",
          "output_type": "stream",
          "text": [
            "Mejores parámetros para 5 splits {'learning_rate': 0.1}\n",
            "Mejor score 0.918132682483672\n",
            "Evaluadores {'AUC': make_scorer(roc_auc_score, needs_threshold=True), 'Accuracy': make_scorer(accuracy_score), 'F1': make_scorer(f1_score, average=micro)}\n",
            "\n",
            " Time taken: 1 hours 20 minutes and 13.4 seconds.\n"
          ]
        }
      ]
    },
    {
      "cell_type": "markdown",
      "metadata": {
        "id": "O1B5ZLY4DVhP"
      },
      "source": [
        "### **Para ocho particiones**"
      ]
    },
    {
      "cell_type": "code",
      "metadata": {
        "colab": {
          "base_uri": "https://localhost:8080/"
        },
        "id": "dxEAlWpdDVhQ",
        "outputId": "bece5964-157e-471c-bc51-7024cbe73266"
      },
      "source": [
        "# cv 2 \n",
        "start_time = timer(None)\n",
        "parameters = {\n",
        "    \"learning_rate\":[0.01,0.1,1, 1.5] \n",
        "}\n",
        "scoring = {'AUC': 'roc_auc', 'Accuracy': make_scorer(accuracy_score), 'F1':make_scorer(f1_score, average='micro')}\n",
        "gb = GradientBoostingClassifier(random_state=40, n_estimators=700,  max_depth=20, max_features=15, subsample=0.7, min_samples_leaf= 3, min_samples_split= 2)\n",
        "gsearch = GridSearchCV(estimator=gb,param_grid=parameters,scoring=scoring, cv=8, refit='AUC', return_train_score=True)\n",
        "gsearch.fit(X,Y)\n",
        "print('Mejores parámetros para 8 splits',gsearch.best_params_)\n",
        "print('Mejor score',gsearch.best_score_)\n",
        "print('Evaluadores',gsearch.scorer_)\n",
        "  \n",
        "\n",
        " # timing starts from this point for \"start_time\" variable\n",
        "timer(start_time)"
      ],
      "execution_count": null,
      "outputs": [
        {
          "name": "stdout",
          "output_type": "stream",
          "text": [
            "Mejores parámetros para 8 splits {'learning_rate': 0.1}\n",
            "Mejor score 0.9642348620455258\n",
            "Evaluadores {'AUC': make_scorer(roc_auc_score, needs_threshold=True), 'Accuracy': make_scorer(accuracy_score), 'F1': make_scorer(f1_score, average=micro)}\n",
            "\n",
            " Time taken: 2 hours 25 minutes and 6.27 seconds.\n"
          ]
        }
      ]
    },
    {
      "cell_type": "markdown",
      "metadata": {
        "id": "wVxB3VoEDVhQ"
      },
      "source": [
        "### **Para diez particiones**"
      ]
    },
    {
      "cell_type": "code",
      "metadata": {
        "colab": {
          "base_uri": "https://localhost:8080/"
        },
        "id": "h-8tkiDPDVhQ",
        "outputId": "2bc141bc-259f-4ce4-b3a9-b4aaab56cbec"
      },
      "source": [
        "# cv 2 \n",
        "start_time = timer(None)\n",
        "parameters = {\n",
        "    \"learning_rate\":[0.01,0.1,1, 1.5] \n",
        "}\n",
        "scoring = {'AUC': 'roc_auc', 'Accuracy': make_scorer(accuracy_score), 'F1':make_scorer(f1_score, average='micro')}\n",
        "gb = GradientBoostingClassifier(random_state=40, n_estimators=700,  max_depth=20, max_features=15, subsample=0.7, min_samples_leaf= 3, min_samples_split= 2)\n",
        "gsearch = GridSearchCV(estimator=gb,param_grid=parameters,scoring=scoring, cv=10, refit='AUC', return_train_score=True)\n",
        "gsearch.fit(X,Y)\n",
        "print('Mejores parámetros para 10 splits',gsearch.best_params_)\n",
        "print('Mejor score',gsearch.best_score_)\n",
        "print('Evaluadores',gsearch.scorer_)\n",
        "  \n",
        "\n",
        " # timing starts from this point for \"start_time\" variable\n",
        "timer(start_time)"
      ],
      "execution_count": null,
      "outputs": [
        {
          "name": "stdout",
          "output_type": "stream",
          "text": [
            "Mejores parámetros para 10 splits {'learning_rate': 0.1}\n",
            "Mejor score 0.9673899262559132\n",
            "Evaluadores {'AUC': make_scorer(roc_auc_score, needs_threshold=True), 'Accuracy': make_scorer(accuracy_score), 'F1': make_scorer(f1_score, average=micro)}\n",
            "\n",
            " Time taken: 2 hours 56 minutes and 30.62 seconds.\n"
          ]
        }
      ]
    },
    {
      "cell_type": "markdown",
      "metadata": {
        "id": "NnB6zHqVDVhQ"
      },
      "source": [
        "### **Para quince particiones**"
      ]
    },
    {
      "cell_type": "code",
      "metadata": {
        "colab": {
          "base_uri": "https://localhost:8080/"
        },
        "id": "mQDQ-rirDVhR",
        "outputId": "6fb86ed7-17c7-4f1f-da90-7fcec37da127"
      },
      "source": [
        "cv_s=[2,4,5,8,10,15]\n",
        "# cv 2 \n",
        "start_time = timer(None)\n",
        "parameters = {\n",
        "    \"learning_rate\":[0.01,0.1,1, 1.5] \n",
        "}\n",
        "scoring = {'AUC': 'roc_auc', 'Accuracy': make_scorer(accuracy_score), 'F1':make_scorer(f1_score, average='micro')}\n",
        "gb = GradientBoostingClassifier(random_state=40, n_estimators=700,  max_depth=20, max_features=15, subsample=0.7, min_samples_leaf= 3, min_samples_split= 2)\n",
        "gsearch = GridSearchCV(estimator=gb,param_grid=parameters,scoring=scoring, cv=15, refit='AUC', return_train_score=True)\n",
        "gsearch.fit(X,Y)\n",
        "print('Mejores parámetros para 15 splits',gsearch.best_params_)\n",
        "print('Mejor score',gsearch.best_score_)\n",
        "print('Evaluadores',gsearch.scorer_)\n",
        "  \n",
        "\n",
        " # timing starts from this point for \"start_time\" variable\n",
        "timer(start_time)"
      ],
      "execution_count": null,
      "outputs": [
        {
          "name": "stdout",
          "output_type": "stream",
          "text": [
            "Mejores parámetros para 15 splits {'learning_rate': 0.1}\n",
            "Mejor score 0.9819363531250688\n",
            "Evaluadores {'AUC': make_scorer(roc_auc_score, needs_threshold=True), 'Accuracy': make_scorer(accuracy_score), 'F1': make_scorer(f1_score, average=micro)}\n",
            "\n",
            " Time taken: 4 hours 35 minutes and 30.06 seconds.\n"
          ]
        }
      ]
    },
    {
      "cell_type": "markdown",
      "metadata": {
        "id": "JKmt_Iw3DVhR"
      },
      "source": [
        "### **Gráficas obtenidas del GridSearch con respecto al número de particiones**"
      ]
    },
    {
      "cell_type": "code",
      "metadata": {
        "id": "7q9IxX3CDVhR"
      },
      "source": [
        "cv_s=[2,4,5,8,10,15]\n",
        "cphour=[0.4141667,0.997458,1.337052222, 2.41667174167,2.9418355556,4.59168]\n",
        "cp_time=[np.round(k,3) for k in cphour]\n",
        "scores=[ 0.8166499252893884, 0.8946534037683964,0.918132682483672,0.9642348620455258,0.9673899262559132,0.9819363531250688]\n",
        "scoresgb=[np.round(k,3) for k in scores]"
      ],
      "execution_count": null,
      "outputs": []
    },
    {
      "cell_type": "code",
      "metadata": {
        "colab": {
          "base_uri": "https://localhost:8080/",
          "height": 678
        },
        "id": "7HRofhunDVhR",
        "outputId": "0e0648ca-dc04-49cb-d8e3-67b025d17bbc"
      },
      "source": [
        "fig, ax1 = plt.subplots(figsize=(10,8))\n",
        "my_colors = 'rgbkymc'\n",
        "#color = 'tab:blue'\n",
        "ax1.set_xlabel('# de Particiones CV')\n",
        "ax1.set_ylabel('Tiempo de ejecución [h]')\n",
        "ax1.bar(cv_s, cp_time, color=my_colors)\n",
        "ax1.tick_params(axis='y')\n",
        "\n",
        "ax2 = ax1.twinx()  # instantiate a second axes that shares the same x-axis\n",
        "\n",
        "color = 'tab:red'\n",
        "ax2.set_ylabel('Score - ROC_AUC')  # we already handled the x-label with ax1\n",
        "ax2.plot(cv_s, scoresgb, marker='o', color='black', label='ROC_AUC para cada CV')\n",
        "ax2.tick_params(axis='y')\n",
        "ax2.legend(loc='upper left')\n",
        "rects = ax1.patches\n",
        "\n",
        "# Make some labels.\n",
        "\n",
        "labels = ['L.R=0.01','L.R=0.1','L.R=0.1','L.R=0.1','L.R=0.1','L.R=0.1']\n",
        "\n",
        "for rect, label in zip(rects, labels):\n",
        "    height = rect.get_height()\n",
        "    ax1.text(\n",
        "        rect.get_x() + rect.get_width(), height , label, ha=\"center\", va=\"bottom\", fontweight='bold'\n",
        "    )\n",
        "\n",
        "#plt.show()\n",
        "\n",
        "\n",
        "fig.tight_layout()  # otherwise the right y-label is slightly clipped\n",
        "plt.show()"
      ],
      "execution_count": null,
      "outputs": [
        {
          "name": "stderr",
          "output_type": "stream",
          "text": [
            "/usr/local/lib/python3.7/dist-packages/ipykernel_launcher.py:6: MatplotlibDeprecationWarning: Using a string of single character colors as a color sequence is deprecated. Use an explicit list instead.\n",
            "  \n"
          ]
        },
        {
          "data": {
            "image/png": "[encoded data removed]",
            "text/plain": [
              "<Figure size 800x640 with 2 Axes>"
            ]
          },
          "metadata": {},
          "output_type": "display_data"
        }
      ]
    },
    {
      "cell_type": "markdown",
      "metadata": {
        "id": "BvdZbc3-DVhS"
      },
      "source": [
        "cambiar por tiempo de ejecución\n",
        "hacer entrenamiento también con gridsearch y luego comparar con gradientB solo "
      ]
    },
    {
      "cell_type": "markdown",
      "metadata": {
        "id": "Ge6_E8cIDVhS"
      },
      "source": [
        "## entrenamiento con grid search"
      ]
    },
    {
      "cell_type": "code",
      "metadata": {
        "id": "SdmeyB0IDVhS"
      },
      "source": [
        "X_train, X_test, y_train, y_test = train_test_split(X, Y, train_size=0.75, random_state=42, stratify=Y)"
      ],
      "execution_count": null,
      "outputs": []
    },
    {
      "cell_type": "code",
      "metadata": {
        "colab": {
          "base_uri": "https://localhost:8080/"
        },
        "id": "Xd-jqjvRDVhS",
        "outputId": "4e321987-8b85-436b-8da9-aabfee983e0e"
      },
      "source": [
        "start_time = timer(None)\n",
        "parameters = {\n",
        "    \"learning_rate\":[0.01,0.1,1, 1.5] \n",
        "}\n",
        "scoring = {'AUC': 'roc_auc', 'Accuracy': make_scorer(accuracy_score), 'F1':make_scorer(f1_score, average='micro')}\n",
        "gb = GradientBoostingClassifier(random_state=40, n_estimators=700,  max_depth=20, max_features=15, subsample=0.7, min_samples_leaf= 3, min_samples_split= 2)\n",
        "gsearch = GridSearchCV(estimator=gb,param_grid=parameters,scoring=scoring, cv=15, refit='AUC', return_train_score=True)\n",
        "gsearch.fit(X_train,y_train)\n",
        "print('Mejores parámetros para 10 splits',gsearch.best_params_)\n",
        "print('Mejor score',gsearch.best_score_)\n",
        "print('Evaluadores',gsearch.scorer_)\n",
        "  \n",
        "\n",
        " # timing starts from this point for \"start_time\" variable\n",
        "timer(start_time)"
      ],
      "execution_count": null,
      "outputs": [
        {
          "name": "stdout",
          "output_type": "stream",
          "text": [
            "Mejores parámetros para 10 splits {'learning_rate': 0.1}\n",
            "Mejor score 0.9924564904138685\n",
            "Evaluadores {'AUC': make_scorer(roc_auc_score, needs_threshold=True), 'Accuracy': make_scorer(accuracy_score), 'F1': make_scorer(f1_score, average=micro)}\n",
            "\n",
            " Time taken: 3 hours 38 minutes and 16.15 seconds.\n"
          ]
        }
      ]
    },
    {
      "cell_type": "code",
      "metadata": {
        "colab": {
          "base_uri": "https://localhost:8080/"
        },
        "id": "kVTRBi9mDVhS",
        "outputId": "4886ec6c-9d35-4996-f9ec-8131eec910ae"
      },
      "source": [
        "# print best parameter after tuning \n",
        "print(gsearch.best_params_) \n",
        "grid_predictions = gsearch.predict(X_test) \n",
        "   \n",
        "# print classification report \n",
        "print(classification_report(y_test, grid_predictions)) "
      ],
      "execution_count": null,
      "outputs": [
        {
          "name": "stdout",
          "output_type": "stream",
          "text": [
            "{'learning_rate': 0.1}\n",
            "              precision    recall  f1-score   support\n",
            "\n",
            "           0       0.98      1.00      0.99     17760\n",
            "           1       0.99      0.83      0.91      1746\n",
            "\n",
            "    accuracy                           0.98     19506\n",
            "   macro avg       0.99      0.92      0.95     19506\n",
            "weighted avg       0.98      0.98      0.98     19506\n",
            "\n"
          ]
        }
      ]
    },
    {
      "cell_type": "code",
      "metadata": {
        "colab": {
          "base_uri": "https://localhost:8080/",
          "height": 562
        },
        "id": "yVwsI7DLDVhT",
        "outputId": "1faf6f58-a96e-4455-9e43-2ca93d4745b9"
      },
      "source": [
        "plt.style.use('seaborn-poster')\n",
        "y_pred_proba = gsearch.predict_proba(X_test)[::,1]\n",
        "fpr, tpr, _ = roc_curve(y_test,  y_pred_proba)\n",
        "auc = roc_auc_score(y_test, y_pred_proba)\n",
        "\n",
        "#create ROC curve\n",
        "plt.plot(fpr,tpr,label=\"AUC=\"+str(auc))\n",
        "plt.ylabel('Verdaderos positivos')\n",
        "plt.xlabel('Falsos positivos')\n",
        "plt.legend(loc=4)\n",
        "plt.show()"
      ],
      "execution_count": null,
      "outputs": [
        {
          "data": {
            "image/png": "[encoded data removed]",
            "text/plain": [
              "<Figure size 921.6x633.6 with 1 Axes>"
            ]
          },
          "metadata": {},
          "output_type": "display_data"
        }
      ]
    },
    {
      "cell_type": "code",
      "metadata": {
        "colab": {
          "base_uri": "https://localhost:8080/",
          "height": 562
        },
        "id": "E2bY9TnyDVhT",
        "outputId": "4b4154d8-e6d4-4e92-e730-230a3b37803b"
      },
      "source": [
        "plot_confusion_matrix(gsearch, X_test, y_test, display_labels=['No fraude',\n",
        "                                                          'Fraude'],\n",
        "                     normalize='true', cmap='Blues');"
      ],
      "execution_count": null,
      "outputs": [
        {
          "data": {
            "image/png": "[encoded data removed]",
            "text/plain": [
              "<Figure size 921.6x633.6 with 2 Axes>"
            ]
          },
          "metadata": {},
          "output_type": "display_data"
        }
      ]
    },
    {
      "cell_type": "code",
      "metadata": {
        "id": "91CP8jUGDVhT"
      },
      "source": [
        ""
      ],
      "execution_count": null,
      "outputs": []
    },
    {
      "cell_type": "code",
      "metadata": {
        "id": "dh-dURDdDVhT"
      },
      "source": [
        "# save model to file\n",
        "pickle.dump(gsearch, open(\"gridgbm_ss01.pickle.dat\", \"wb\"))"
      ],
      "execution_count": null,
      "outputs": []
    },
    {
      "cell_type": "code",
      "metadata": {
        "id": "KQhtSF7nDVhT"
      },
      "source": [
        ""
      ],
      "execution_count": null,
      "outputs": []
    }
  ]
}