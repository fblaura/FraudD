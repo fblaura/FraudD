{
  "nbformat": 4,
  "nbformat_minor": 0,
  "metadata": {
    "colab": {
      "name": "1. GridSearch for models with  StandardScaler and SMOTE rate of 0.1.ipynb",
      "provenance": [],
      "collapsed_sections": [
        "Q59K446EOm7O",
        "1E-jErbOfyfY",
        "GDokRca0f97h",
        "mtRedMj2gR0_",
        "ydVhADWngYdv",
        "nygrYau1gwB3",
        "YSh_tV1ag3Qf",
        "5BEYIfH_hKgH",
        "DPSgVucNhQ4J",
        "5ya_PKjVhWD3",
        "jlRIWXpahYDG",
        "VNWon7wshaz2",
        "_t0PnAb0heD1",
        "OqFZb13_DVhG",
        "y-cSc40TDVhH",
        "5OKF2t7ADVhJ",
        "42tnDvXIDVhK",
        "4qOAsdlaDVhL",
        "SfRO40MuDVhM",
        "710t8rcJDVhN"
      ],
      "toc_visible": true
    },
    "kernelspec": {
      "display_name": "Python 3",
      "name": "python3"
    },
    "language_info": {
      "name": "python"
    }
  },
  "cells": [
    {
      "cell_type": "markdown",
      "metadata": {
        "id": "nXYS8PiXxYGZ"
      },
      "source": [
        "\n",
        "[![Open In Colab](https://colab.research.google.com/assets/colab-badge.svg)](https://colab.research.google.com/github/fblaura/FraudD/blob/main/3_GridSearch/1_GridSearch_for_models_with_StandardScaler_and_SMOTE_rate_of_0_1.ipynb)"
      ]
    },
    {
      "cell_type": "markdown",
      "metadata": {
        "id": "lmrGA6F5yXP7"
      },
      "source": [
        "**Please execute all instructions as indicated.** \n",
        "\n",
        "The dataset is downloaded directly from a Drive link, this dataset already went through a previous preprocessing.We will work on hyperparameter tuning for the GradientBoosting and XGBoost models, as well as use some plots and metrics to evaluate training and prediction behavior.\n",
        "\n",
        "**Some functions and graphs are mentioned in Spanish, please translate them if required.**"
      ]
    },
    {
      "cell_type": "markdown",
      "metadata": {
        "id": "gPjV_WARNSCJ"
      },
      "source": [
        "# **1. General libraries**"
      ]
    },
    {
      "cell_type": "code",
      "metadata": {
        "colab": {
          "base_uri": "https://localhost:8080/"
        },
        "id": "gw8PyQEitzup",
        "outputId": "6cd19112-2056-4605-d2e1-931664fc4269"
      },
      "source": [
        "import pandas as pd\n",
        "import seaborn as sns\n",
        "import matplotlib.pyplot as plt\n",
        "import numpy as np\n",
        "import math\n",
        "\n",
        "from collections import Counter\n",
        "from imblearn.over_sampling import SMOTE\n",
        "from sklearn.preprocessing import Normalizer, StandardScaler"
      ],
      "execution_count": null,
      "outputs": [
        {
          "output_type": "stream",
          "name": "stderr",
          "text": [
            "/usr/local/lib/python3.7/dist-packages/sklearn/externals/six.py:31: FutureWarning: The module is deprecated in version 0.21 and will be removed in version 0.23 since we've dropped support for Python 2.7. Please rely on the official version of six (https://pypi.org/project/six/).\n",
            "  \"(https://pypi.org/project/six/).\", FutureWarning)\n",
            "/usr/local/lib/python3.7/dist-packages/sklearn/utils/deprecation.py:144: FutureWarning: The sklearn.neighbors.base module is  deprecated in version 0.22 and will be removed in version 0.24. The corresponding classes / functions should instead be imported from sklearn.neighbors. Anything that cannot be imported from sklearn.neighbors is now part of the private API.\n",
            "  warnings.warn(message, FutureWarning)\n"
          ]
        }
      ]
    },
    {
      "cell_type": "code",
      "metadata": {
        "id": "FsVawPq-syJh"
      },
      "source": [
        "from sklearn.feature_selection import SelectFromModel, RFECV, RFE\n",
        "from sklearn.ensemble import RandomForestClassifier\n",
        "from sklearn.linear_model import LogisticRegression, SGDClassifier\n",
        "from sklearn.naive_bayes import GaussianNB\n",
        "from sklearn.svm import SVC, LinearSVC\n",
        "from xgboost import XGBClassifier\n",
        "from sklearn.tree import DecisionTreeClassifier\n",
        "from sklearn.naive_bayes import GaussianNB"
      ],
      "execution_count": null,
      "outputs": []
    },
    {
      "cell_type": "code",
      "metadata": {
        "id": "0Yp_9nKzDDUi"
      },
      "source": [
        "from sklearn.model_selection import train_test_split \n",
        "from sklearn.linear_model import LogisticRegression\n",
        "from sklearn.metrics import classification_report, accuracy_score\n",
        "from sklearn.manifold import TSNE\n",
        "from sklearn import preprocessing \n",
        "import matplotlib.pyplot as plt\n",
        "import pandas as pd \n",
        "import numpy as np\n",
        "import seaborn as sns\n",
        "sns.set(style=\"whitegrid\")\n",
        "np.random.seed(203)"
      ],
      "execution_count": null,
      "outputs": []
    },
    {
      "cell_type": "code",
      "metadata": {
        "id": "dz1Rpu582QaQ"
      },
      "source": [
        "from sklearn.ensemble import GradientBoostingClassifier, GradientBoostingRegressor\n",
        "from sklearn.model_selection import GridSearchCV, cross_val_score, cross_validate, cross_val_predict, validation_curve\n",
        "from datetime import datetime\n",
        "from sklearn.metrics import roc_auc_score, make_scorer, accuracy_score, f1_score,plot_roc_curve, classification_report,log_loss,recall_score,adjusted_rand_score\n",
        "import pickle"
      ],
      "execution_count": null,
      "outputs": []
    },
    {
      "cell_type": "code",
      "metadata": {
        "id": "jm30hEPHuA7t"
      },
      "source": [
        "from sklearn.model_selection import train_test_split, ShuffleSplit, learning_curve, StratifiedKFold\n",
        "from sklearn.metrics import f1_score, confusion_matrix, plot_confusion_matrix, roc_curve,precision_score,roc_auc_score"
      ],
      "execution_count": null,
      "outputs": []
    },
    {
      "cell_type": "markdown",
      "metadata": {
        "id": "g035ivnqN1mD"
      },
      "source": [
        "# **2. Defining different functions**"
      ]
    },
    {
      "cell_type": "code",
      "metadata": {
        "id": "WrkON4_ZMOHs"
      },
      "source": [
        "def plot_learning_curve(estimator, title, X, y, ylim=None, cv=None,\n",
        "                        train_sizes=np.linspace(.1, 1.0, 5)):\n",
        "    \"\"\"\n",
        "    Generate a simple plot of the test and traning learning curve.\n",
        "\n",
        "    Parameters\n",
        "    ----------\n",
        "    estimator : object type that implements the \"fit\" and \"predict\" methods\n",
        "        An object of that type which is cloned for each validation.\n",
        "\n",
        "    title : string\n",
        "        Title for the chart.\n",
        "\n",
        "    X : array-like, shape (n_samples, n_features)\n",
        "        Training vector, where n_samples is the number of samples and\n",
        "        n_features is the number of features.\n",
        "\n",
        "    y : array-like, shape (n_samples) or (n_samples, n_features), optional\n",
        "        Target relative to X for classification or regression;\n",
        "        None for unsupervised learning.\n",
        "\n",
        "    ylim : tuple, shape (ymin, ymax), optional\n",
        "        Defines minimum and maximum yvalues plotted.\n",
        "\n",
        "    cv : integer, cross-validation generator, optional\n",
        "        If an integer is passed, it is the number of folds (defaults to 3).\n",
        "        Specific cross-validation objects can be passed, see\n",
        "        sklearn.cross_validation module for the list of possible objects\n",
        "\n",
        "    n_jobs : integer, optional\n",
        "        Number of jobs to run in parallel (default 1).\n",
        "        \n",
        "    x1 = np.linspace(0, 10, 8, endpoint=True) produces\n",
        "        8 evenly spaced points in the range 0 to 10\n",
        "    \"\"\"\n",
        "    \n",
        "    plt.style.use('seaborn')\n",
        "    plt.figure()\n",
        "    plt.title(title)\n",
        "    if ylim is not None:\n",
        "        plt.ylim(*ylim)\n",
        "        \n",
        "    plt.xlabel(\"Training examples\")\n",
        "    plt.ylabel(\"Score\")\n",
        "    train_sizes, train_scores, test_scores = learning_curve(\n",
        "        estimator, X, y, cv=cv, train_sizes=train_sizes)\n",
        "    train_scores_mean = np.mean(train_scores, axis=1)\n",
        "    train_scores_std = np.std(train_scores, axis=1)\n",
        "    test_scores_mean = np.mean(test_scores, axis=1)\n",
        "    test_scores_std = np.std(test_scores, axis=1)\n",
        "    plt.grid()\n",
        "\n",
        "    plt.fill_between(train_sizes, train_scores_mean - train_scores_std,\n",
        "                     train_scores_mean + train_scores_std, alpha=0.1,\n",
        "                     color=\"r\")\n",
        "    plt.fill_between(train_sizes, test_scores_mean - test_scores_std,\n",
        "                     test_scores_mean + test_scores_std, alpha=0.1, color=\"g\")\n",
        "    plt.plot(train_sizes, train_scores_mean, 'o-', color=\"r\",\n",
        "             label=\"Training score\")\n",
        "    plt.plot(train_sizes, test_scores_mean, 'o-', color=\"g\",\n",
        "             label=\"Cross-validation score\")\n",
        "\n",
        "    plt.legend(loc=\"best\")\n",
        "    return plt"
      ],
      "execution_count": null,
      "outputs": []
    },
    {
      "cell_type": "code",
      "metadata": {
        "id": "hifrNK2FRGy5"
      },
      "source": [
        "def impresión_reporte(nclusters,Y,labels):\n",
        "  \n",
        "  print(f'Reporte de métricas para KMeans con clusters = {nclusters}')\n",
        "  print('-'*80)\n",
        "  print(f'Log_loss = {log_loss(Y, labels)}')\n",
        "  print(f'Puntuación de exactitud = {accuracy_score(Y, labels)}')\n",
        "  print(f'Puntuación de sensibilidad = {recall_score(Y, labels)}')\n",
        "  print(f'Puntuación de precisión = {precision_score(Y, labels)}')\n",
        "  print(f'Puntuación de Rand ajustado = {adjusted_rand_score(Y, labels)}')\n",
        "  print(f'Puntuación de Jaccard = {jaccard_score(Y, labels)}')\n",
        "  cmtx = pd.DataFrame(\n",
        "      confusion_matrix(Y, labels, labels=[1, 0]), \n",
        "      index=['Fraude:1', 'NoFraude:0'], \n",
        "      columns=['Fraude:1', 'NoFraude:0']\n",
        "  )\n",
        "  print('Matriz de confusión = ')\n",
        "  print(cmtx)"
      ],
      "execution_count": null,
      "outputs": []
    },
    {
      "cell_type": "code",
      "metadata": {
        "id": "xoUxtmOYtbuU"
      },
      "source": [
        "def classifier_model(X_train, X_test, y_train, y_test, method, data):\n",
        "    accuracies, roc_auc,f1=[],[],[]\n",
        "    modelos=['Random Forest','Gradient Boosting','XGBoost','Regresión logística','Naive Bayes','SVM']\n",
        "    rf_clf=RandomForestClassifier(n_estimators=700, random_state=1)\n",
        "    rf_clf.fit(X_train, y_train)\n",
        "    y_pred_rf=rf_clf.predict(X_test)\n",
        "    score_rlf=accuracy_score(y_test, y_pred_rf)\n",
        "    roc_auc_rlf=roc_auc_score(y_test, y_pred_rf)\n",
        "    f1_sco=f1_score(y_test, y_pred_rf,average='macro')\n",
        "    accuracies.append(score_rlf)\n",
        "    roc_auc.append(roc_auc_rlf)\n",
        "    f1.append(f1_sco)\n",
        "    print(\"---Método de trabajo: {}---\". format(method))\n",
        "    print(\"---Observando comportamiendo de métricas para {}---\".format(data))\n",
        "    print(\"The accuracy score of Random Forest:\", score_rlf)\n",
        "    print(\"The ROC_AUC score of Random Forest:\", roc_auc_rlf)\n",
        "    print(\"The F1 score of Random Forest:\", f1_sco)\n",
        "    print('---------------------------------------------------')\n",
        "    \n",
        "    gb_clf= GradientBoostingClassifier(learning_rate=0.1, n_estimators=700,  max_depth=20, max_features=15, subsample=0.7, min_samples_leaf= 3, min_samples_split= 2)\n",
        "    gb_clf.fit(X_train, y_train)\n",
        "    y_pred_gb=gb_clf.predict(X_test)\n",
        "    score_gb=accuracy_score(y_test, y_pred_gb)\n",
        "    roc_auc_gb=roc_auc_score(y_test,  y_pred_gb)\n",
        "    f1_sco_gb=f1_score(y_test, y_pred_gb,average='micro')\n",
        "    accuracies.append(score_gb)\n",
        "    roc_auc.append(roc_auc_gb)\n",
        "    f1.append(f1_sco_gb)\n",
        "    print(\"The accuracy score of Gradient Boosting:\", score_gb)\n",
        "    print(\"The ROC_AUC score of Gradient Boosting:\", roc_auc_gb)\n",
        "    print(\"The F1 score of Gradient Boosting:\", f1_sco_gb)\n",
        "\n",
        "    print('---------------------------------------------------')\n",
        "    xg_clf=XGBClassifier()\n",
        "    xg_clf.fit(X_train, y_train)\n",
        "    y_pred_xg=xg_clf.predict(X_test)\n",
        "    score_xg=accuracy_score(y_test, y_pred_xg)\n",
        "    roc_auc_xg=roc_auc_score(y_test, y_pred_xg)\n",
        "    f1_sco_xg=f1_score(y_test, y_pred_xg,average='micro')\n",
        "    accuracies.append(score_xg)\n",
        "    roc_auc.append(roc_auc_xg)\n",
        "    f1.append(f1_sco_xg)\n",
        "    print(\"The accuracy score of XGBoost:\", score_xg)\n",
        "    print(\"The ROC_AUC score of XGBoost:\", roc_auc_xg)\n",
        "    print(\"The F1 score of XGBoost:\", f1_sco_xg)\n",
        "    print('---------------------------------------------------')\n",
        "    clf = LogisticRegression(random_state=0, max_iter=5000)\n",
        "    clf.fit(X_train, y_train)\n",
        "    y_pred_l=clf.predict(X_test)\n",
        "    score_l=accuracy_score(y_test, y_pred_l)\n",
        "    roc_auc_l=roc_auc_score(y_test, y_pred_l)\n",
        "    f1_sco_l=f1_score(y_test, y_pred_l,average='micro')\n",
        "    accuracies.append(score_l)\n",
        "    roc_auc.append(roc_auc_l)\n",
        "    f1.append(f1_sco_l)\n",
        "    print(\"The accuracy score of Regresión logística:\", score_l)\n",
        "    print(\"The ROC_AUC score of Regresión logística:\", roc_auc_l)  \n",
        "    print(\"The F1 score of Regresión logística:\", f1_sco_l)\n",
        "    print('---------------------------------------------------')\n",
        "    gnb = GaussianNB()\n",
        "    gnb.fit(X_train, y_train)\n",
        "    y_pred_gnb=gnb.predict(X_test)\n",
        "    score_gnb=accuracy_score(y_test, y_pred_gnb)\n",
        "    roc_auc_gnb=roc_auc_score(y_test, y_pred_gnb)\n",
        "    f1_sco_gnb=f1_score(y_test, y_pred_gnb,average='micro')\n",
        "    accuracies.append(score_gnb)\n",
        "    roc_auc.append(roc_auc_gnb)\n",
        "    f1.append(f1_sco_gnb)\n",
        "    print(\"The accuracy score of Naive Bayes:\", score_gnb)\n",
        "    print(\"The ROC_AUC score of Naive Bayes:\", roc_auc_gnb)   \n",
        "    print(\"The F1 score of Naive Bayes:\", f1_sco_gnb)\n",
        "    print('---------------------------------------------------')\n",
        "    svc=LinearSVC()\n",
        "    svc.fit(X_train, y_train)\n",
        "    y_pred_svc=svc.predict(X_test)\n",
        "    score_svc=accuracy_score(y_test, y_pred_svc)\n",
        "    roc_auc_svc=roc_auc_score(y_test, y_pred_svc)\n",
        "    f1_sco_svc=f1_score(y_test, y_pred_svc,average='micro')\n",
        "    accuracies.append(score_svc)\n",
        "    roc_auc.append(roc_auc_svc)\n",
        "    f1.append(f1_sco_svc)\n",
        "    print(\"The accuracy score of SVM:\", score_svc)\n",
        "    print(\"The ROC_AUC score of SVM:\", roc_auc_svc)  \n",
        "    print(\"The F1 score of Naive Bayes:\", f1_sco_svc)\n",
        "    return  accuracies, roc_auc,f1, modelos"
      ],
      "execution_count": null,
      "outputs": []
    },
    {
      "cell_type": "code",
      "metadata": {
        "id": "IvTJ0INyXnSC"
      },
      "source": [
        "def autolabel(rects):\n",
        "    for rect in rects:\n",
        "        \n",
        "        width = rect.get_width()\n",
        "        plt.text(1.05*rect.get_width(), rect.get_y()+0.5*rect.get_height(),\n",
        "                 '%.2f' % float(width),\n",
        "                 ha='center', va='center')"
      ],
      "execution_count": null,
      "outputs": []
    },
    {
      "cell_type": "code",
      "metadata": {
        "id": "kVH1E6jF0jln"
      },
      "source": [
        "def labels(rects):\n",
        "  for p in rects.patches:\n",
        "    ax.annotate(np.round(p.get_height(),decimals=2),((p.get_x()-0.15)+p.get_width(), p.get_height()+2),ha='center',va='center')"
      ],
      "execution_count": null,
      "outputs": []
    },
    {
      "cell_type": "code",
      "metadata": {
        "id": "MIk9Wcxh2pRV"
      },
      "source": [
        "def timer(start_time=None):\n",
        "    if not start_time:\n",
        "        start_time = datetime.now()\n",
        "        return start_time\n",
        "    elif start_time:\n",
        "        thour, temp_sec = divmod((datetime.now() - start_time).total_seconds(), 3600)\n",
        "        tmin, tsec = divmod(temp_sec, 60)\n",
        "        print('\\n Time taken: %i hours %i minutes and %s seconds.' % (thour, tmin, round(tsec, 2)))\n",
        "    return thour,tmin,tsec"
      ],
      "execution_count": null,
      "outputs": []
    },
    {
      "cell_type": "markdown",
      "metadata": {
        "id": "Q59K446EOm7O"
      },
      "source": [
        "# **3. Dataset definition**"
      ]
    },
    {
      "cell_type": "markdown",
      "metadata": {
        "id": "glaUcE9kE94h"
      },
      "source": [
        "The following code will be used to download the dataset from a Drive storage, this is because the volume of the dataset being handled is very large and it is not possible to upload it directly to GitHub"
      ]
    },
    {
      "cell_type": "code",
      "metadata": {
        "id": "EieqVgs2irYZ"
      },
      "source": [
        "from google.colab import files"
      ],
      "execution_count": null,
      "outputs": []
    },
    {
      "cell_type": "code",
      "metadata": {
        "colab": {
          "base_uri": "https://localhost:8080/"
        },
        "id": "PP1EdeaCUkQY",
        "outputId": "1491fcbc-55e1-4e7c-db25-333d621a4692"
      },
      "source": [
        "#train_fill\n",
        "!gdown --id 10lD33nbEwBF7XpgQiVRfWzO2Y0pUY3nA"
      ],
      "execution_count": null,
      "outputs": [
        {
          "output_type": "stream",
          "name": "stdout",
          "text": [
            "Downloading...\n",
            "From: https://drive.google.com/uc?id=10lD33nbEwBF7XpgQiVRfWzO2Y0pUY3nA\n",
            "To: /content/X_trainss_01.csv\n",
            "100% 686M/686M [00:03<00:00, 174MB/s]\n"
          ]
        }
      ]
    },
    {
      "cell_type": "code",
      "metadata": {
        "colab": {
          "base_uri": "https://localhost:8080/"
        },
        "id": "ib3rT7xqCl4G",
        "outputId": "e2a14bbf-ff94-412d-bef2-21a6241500b1"
      },
      "source": [
        "X_trainss_01 = pd.read_csv('/content/X_trainss_01.csv',error_bad_lines=False)"
      ],
      "execution_count": null,
      "outputs": [
        {
          "output_type": "stream",
          "name": "stderr",
          "text": [
            "b'Skipping line 74954: expected 432 fields, saw 489\\n'\n"
          ]
        }
      ]
    },
    {
      "cell_type": "code",
      "metadata": {
        "colab": {
          "base_uri": "https://localhost:8080/",
          "height": 434
        },
        "id": "zLQ6QqGpw8fA",
        "outputId": "18d845e1-f9e3-48e5-c701-956e8434460b"
      },
      "source": [
        "X_trainss_01"
      ],
      "execution_count": null,
      "outputs": [
        {
          "output_type": "execute_result",
          "data": {
            "text/html": [
              "<div>\n",
              "<style scoped>\n",
              "    .dataframe tbody tr th:only-of-type {\n",
              "        vertical-align: middle;\n",
              "    }\n",
              "\n",
              "    .dataframe tbody tr th {\n",
              "        vertical-align: top;\n",
              "    }\n",
              "\n",
              "    .dataframe thead th {\n",
              "        text-align: right;\n",
              "    }\n",
              "</style>\n",
              "<table border=\"1\" class=\"dataframe\">\n",
              "  <thead>\n",
              "    <tr style=\"text-align: right;\">\n",
              "      <th></th>\n",
              "      <th>ProductCD</th>\n",
              "      <th>card4</th>\n",
              "      <th>card6</th>\n",
              "      <th>P_emaildomain</th>\n",
              "      <th>R_emaildomain</th>\n",
              "      <th>M1</th>\n",
              "      <th>M2</th>\n",
              "      <th>M3</th>\n",
              "      <th>M4</th>\n",
              "      <th>M5</th>\n",
              "      <th>M6</th>\n",
              "      <th>M7</th>\n",
              "      <th>M8</th>\n",
              "      <th>M9</th>\n",
              "      <th>id_12</th>\n",
              "      <th>id_15</th>\n",
              "      <th>id_16</th>\n",
              "      <th>id_23</th>\n",
              "      <th>id_27</th>\n",
              "      <th>id_28</th>\n",
              "      <th>id_29</th>\n",
              "      <th>id_35</th>\n",
              "      <th>id_36</th>\n",
              "      <th>id_37</th>\n",
              "      <th>id_38</th>\n",
              "      <th>TransactionAmt</th>\n",
              "      <th>card2</th>\n",
              "      <th>card3</th>\n",
              "      <th>card5</th>\n",
              "      <th>addr1</th>\n",
              "      <th>addr2</th>\n",
              "      <th>dist1</th>\n",
              "      <th>dist2</th>\n",
              "      <th>C1</th>\n",
              "      <th>C2</th>\n",
              "      <th>C3</th>\n",
              "      <th>C4</th>\n",
              "      <th>C5</th>\n",
              "      <th>C6</th>\n",
              "      <th>C7</th>\n",
              "      <th>...</th>\n",
              "      <th>V331</th>\n",
              "      <th>V332</th>\n",
              "      <th>V333</th>\n",
              "      <th>V334</th>\n",
              "      <th>V335</th>\n",
              "      <th>V336</th>\n",
              "      <th>V337</th>\n",
              "      <th>V338</th>\n",
              "      <th>V339</th>\n",
              "      <th>CurrencyCents</th>\n",
              "      <th>CurrencyDollar</th>\n",
              "      <th>id_01</th>\n",
              "      <th>id_02</th>\n",
              "      <th>id_03</th>\n",
              "      <th>id_04</th>\n",
              "      <th>id_05</th>\n",
              "      <th>id_06</th>\n",
              "      <th>id_07</th>\n",
              "      <th>id_08</th>\n",
              "      <th>id_09</th>\n",
              "      <th>id_10</th>\n",
              "      <th>id_11</th>\n",
              "      <th>id_13</th>\n",
              "      <th>id_14</th>\n",
              "      <th>id_17</th>\n",
              "      <th>id_18</th>\n",
              "      <th>id_19</th>\n",
              "      <th>id_20</th>\n",
              "      <th>id_21</th>\n",
              "      <th>id_22</th>\n",
              "      <th>id_24</th>\n",
              "      <th>id_25</th>\n",
              "      <th>id_26</th>\n",
              "      <th>id_32</th>\n",
              "      <th>MobileCompareSerial</th>\n",
              "      <th>TransactionID</th>\n",
              "      <th>TransactionDT</th>\n",
              "      <th>card1</th>\n",
              "      <th>CentsDigits</th>\n",
              "      <th>isFraud</th>\n",
              "    </tr>\n",
              "  </thead>\n",
              "  <tbody>\n",
              "    <tr>\n",
              "      <th>0</th>\n",
              "      <td>0.73600</td>\n",
              "      <td>-2.438198</td>\n",
              "      <td>-1.421715</td>\n",
              "      <td>-0.341023</td>\n",
              "      <td>-0.083186</td>\n",
              "      <td>0.0</td>\n",
              "      <td>0.186352</td>\n",
              "      <td>0.281360</td>\n",
              "      <td>2.922440</td>\n",
              "      <td>-0.423689</td>\n",
              "      <td>1.640759</td>\n",
              "      <td>-0.158137</td>\n",
              "      <td>-0.265768</td>\n",
              "      <td>0.160981</td>\n",
              "      <td>0.217591</td>\n",
              "      <td>-0.457419</td>\n",
              "      <td>0.447464</td>\n",
              "      <td>0.072847</td>\n",
              "      <td>-0.003701</td>\n",
              "      <td>-0.435635</td>\n",
              "      <td>-0.446449</td>\n",
              "      <td>0.326466</td>\n",
              "      <td>-0.167966</td>\n",
              "      <td>0.292131</td>\n",
              "      <td>0.278315</td>\n",
              "      <td>-0.286590</td>\n",
              "      <td>0.041363</td>\n",
              "      <td>-0.274044</td>\n",
              "      <td>-1.448447</td>\n",
              "      <td>0.229787</td>\n",
              "      <td>0.168792</td>\n",
              "      <td>-0.124002</td>\n",
              "      <td>-0.097562</td>\n",
              "      <td>-0.137700</td>\n",
              "      <td>-0.139046</td>\n",
              "      <td>-0.103497</td>\n",
              "      <td>-0.129767</td>\n",
              "      <td>-0.201776</td>\n",
              "      <td>-0.148080</td>\n",
              "      <td>-0.120759</td>\n",
              "      <td>...</td>\n",
              "      <td>-0.097634</td>\n",
              "      <td>-0.081114</td>\n",
              "      <td>-0.102326</td>\n",
              "      <td>-0.045128</td>\n",
              "      <td>-0.070983</td>\n",
              "      <td>-0.061457</td>\n",
              "      <td>-0.085408</td>\n",
              "      <td>-0.085009</td>\n",
              "      <td>-0.086519</td>\n",
              "      <td>0.516788</td>\n",
              "      <td>-0.287635</td>\n",
              "      <td>0.137939</td>\n",
              "      <td>-0.164430</td>\n",
              "      <td>-0.063159</td>\n",
              "      <td>0.038139</td>\n",
              "      <td>-0.207028</td>\n",
              "      <td>0.207908</td>\n",
              "      <td>0.005474</td>\n",
              "      <td>0.027114</td>\n",
              "      <td>-0.060995</td>\n",
              "      <td>0.052452</td>\n",
              "      <td>0.150306</td>\n",
              "      <td>0.216116</td>\n",
              "      <td>0.250989</td>\n",
              "      <td>-0.269621</td>\n",
              "      <td>0.186871</td>\n",
              "      <td>-0.042122</td>\n",
              "      <td>0.019665</td>\n",
              "      <td>-0.068128</td>\n",
              "      <td>-0.030527</td>\n",
              "      <td>0.071963</td>\n",
              "      <td>-0.007271</td>\n",
              "      <td>-0.008259</td>\n",
              "      <td>-0.295907</td>\n",
              "      <td>-0.266837</td>\n",
              "      <td>-1.732027</td>\n",
              "      <td>-1.756537</td>\n",
              "      <td>0.818050</td>\n",
              "      <td>-0.670784</td>\n",
              "      <td>0</td>\n",
              "    </tr>\n",
              "    <tr>\n",
              "      <th>1</th>\n",
              "      <td>0.73600</td>\n",
              "      <td>-0.904898</td>\n",
              "      <td>-1.421715</td>\n",
              "      <td>-0.341023</td>\n",
              "      <td>-0.083186</td>\n",
              "      <td>0.0</td>\n",
              "      <td>0.186352</td>\n",
              "      <td>0.281360</td>\n",
              "      <td>-0.411229</td>\n",
              "      <td>2.360224</td>\n",
              "      <td>1.640759</td>\n",
              "      <td>-0.158137</td>\n",
              "      <td>-0.265768</td>\n",
              "      <td>0.160981</td>\n",
              "      <td>0.217591</td>\n",
              "      <td>-0.457419</td>\n",
              "      <td>0.447464</td>\n",
              "      <td>0.072847</td>\n",
              "      <td>-0.003701</td>\n",
              "      <td>-0.435635</td>\n",
              "      <td>-0.446449</td>\n",
              "      <td>0.326466</td>\n",
              "      <td>-0.167966</td>\n",
              "      <td>0.292131</td>\n",
              "      <td>0.278315</td>\n",
              "      <td>-0.478321</td>\n",
              "      <td>0.224814</td>\n",
              "      <td>-0.274044</td>\n",
              "      <td>-2.435659</td>\n",
              "      <td>0.329704</td>\n",
              "      <td>0.168792</td>\n",
              "      <td>-0.168789</td>\n",
              "      <td>-0.097562</td>\n",
              "      <td>-0.137700</td>\n",
              "      <td>-0.139046</td>\n",
              "      <td>-0.103497</td>\n",
              "      <td>-0.129767</td>\n",
              "      <td>-0.201776</td>\n",
              "      <td>-0.148080</td>\n",
              "      <td>-0.120759</td>\n",
              "      <td>...</td>\n",
              "      <td>-0.097634</td>\n",
              "      <td>-0.081114</td>\n",
              "      <td>-0.102326</td>\n",
              "      <td>-0.045128</td>\n",
              "      <td>-0.070983</td>\n",
              "      <td>-0.061457</td>\n",
              "      <td>-0.085408</td>\n",
              "      <td>-0.085009</td>\n",
              "      <td>-0.086519</td>\n",
              "      <td>-0.713841</td>\n",
              "      <td>-0.476956</td>\n",
              "      <td>0.137939</td>\n",
              "      <td>-0.164430</td>\n",
              "      <td>-0.063159</td>\n",
              "      <td>0.038139</td>\n",
              "      <td>-0.207028</td>\n",
              "      <td>0.207908</td>\n",
              "      <td>0.005474</td>\n",
              "      <td>0.027114</td>\n",
              "      <td>-0.060995</td>\n",
              "      <td>0.052452</td>\n",
              "      <td>0.150306</td>\n",
              "      <td>0.216116</td>\n",
              "      <td>0.250989</td>\n",
              "      <td>-0.269621</td>\n",
              "      <td>0.186871</td>\n",
              "      <td>-0.042122</td>\n",
              "      <td>0.019665</td>\n",
              "      <td>-0.068128</td>\n",
              "      <td>-0.030527</td>\n",
              "      <td>0.071963</td>\n",
              "      <td>-0.007271</td>\n",
              "      <td>-0.008259</td>\n",
              "      <td>-0.295907</td>\n",
              "      <td>-0.266837</td>\n",
              "      <td>-1.731980</td>\n",
              "      <td>-1.756535</td>\n",
              "      <td>-1.451410</td>\n",
              "      <td>-0.670784</td>\n",
              "      <td>0</td>\n",
              "    </tr>\n",
              "    <tr>\n",
              "      <th>2</th>\n",
              "      <td>0.73600</td>\n",
              "      <td>0.628401</td>\n",
              "      <td>0.702593</td>\n",
              "      <td>0.842275</td>\n",
              "      <td>-0.083186</td>\n",
              "      <td>0.0</td>\n",
              "      <td>0.186352</td>\n",
              "      <td>0.281360</td>\n",
              "      <td>-0.411229</td>\n",
              "      <td>-0.423689</td>\n",
              "      <td>-0.609474</td>\n",
              "      <td>-0.158137</td>\n",
              "      <td>-0.265768</td>\n",
              "      <td>-6.211912</td>\n",
              "      <td>0.217591</td>\n",
              "      <td>-0.457419</td>\n",
              "      <td>0.447464</td>\n",
              "      <td>0.072847</td>\n",
              "      <td>-0.003701</td>\n",
              "      <td>-0.435635</td>\n",
              "      <td>-0.446449</td>\n",
              "      <td>0.326466</td>\n",
              "      <td>-0.167966</td>\n",
              "      <td>0.292131</td>\n",
              "      <td>0.278315</td>\n",
              "      <td>-0.332703</td>\n",
              "      <td>0.768843</td>\n",
              "      <td>-0.274044</td>\n",
              "      <td>-0.856119</td>\n",
              "      <td>0.379663</td>\n",
              "      <td>0.168792</td>\n",
              "      <td>1.076299</td>\n",
              "      <td>-0.097562</td>\n",
              "      <td>-0.137700</td>\n",
              "      <td>-0.139046</td>\n",
              "      <td>-0.103497</td>\n",
              "      <td>-0.129767</td>\n",
              "      <td>-0.201776</td>\n",
              "      <td>-0.148080</td>\n",
              "      <td>-0.120759</td>\n",
              "      <td>...</td>\n",
              "      <td>-0.097634</td>\n",
              "      <td>-0.081114</td>\n",
              "      <td>-0.102326</td>\n",
              "      <td>-0.045128</td>\n",
              "      <td>-0.070983</td>\n",
              "      <td>-0.061457</td>\n",
              "      <td>-0.085408</td>\n",
              "      <td>-0.085009</td>\n",
              "      <td>-0.086519</td>\n",
              "      <td>-0.713841</td>\n",
              "      <td>-0.331325</td>\n",
              "      <td>0.137939</td>\n",
              "      <td>-0.164430</td>\n",
              "      <td>-0.063159</td>\n",
              "      <td>0.038139</td>\n",
              "      <td>-0.207028</td>\n",
              "      <td>0.207908</td>\n",
              "      <td>0.005474</td>\n",
              "      <td>0.027114</td>\n",
              "      <td>-0.060995</td>\n",
              "      <td>0.052452</td>\n",
              "      <td>0.150306</td>\n",
              "      <td>0.216116</td>\n",
              "      <td>0.250989</td>\n",
              "      <td>-0.269621</td>\n",
              "      <td>0.186871</td>\n",
              "      <td>-0.042122</td>\n",
              "      <td>0.019665</td>\n",
              "      <td>-0.068128</td>\n",
              "      <td>-0.030527</td>\n",
              "      <td>0.071963</td>\n",
              "      <td>-0.007271</td>\n",
              "      <td>-0.008259</td>\n",
              "      <td>-0.295907</td>\n",
              "      <td>-0.266837</td>\n",
              "      <td>-1.731932</td>\n",
              "      <td>-1.756384</td>\n",
              "      <td>-1.063787</td>\n",
              "      <td>-0.670784</td>\n",
              "      <td>0</td>\n",
              "    </tr>\n",
              "    <tr>\n",
              "      <th>3</th>\n",
              "      <td>0.73600</td>\n",
              "      <td>-0.904898</td>\n",
              "      <td>0.702593</td>\n",
              "      <td>1.963293</td>\n",
              "      <td>-0.083186</td>\n",
              "      <td>0.0</td>\n",
              "      <td>0.186352</td>\n",
              "      <td>0.281360</td>\n",
              "      <td>-0.411229</td>\n",
              "      <td>2.360224</td>\n",
              "      <td>-0.609474</td>\n",
              "      <td>-0.158137</td>\n",
              "      <td>-0.265768</td>\n",
              "      <td>0.160981</td>\n",
              "      <td>0.217591</td>\n",
              "      <td>-0.457419</td>\n",
              "      <td>0.447464</td>\n",
              "      <td>0.072847</td>\n",
              "      <td>-0.003701</td>\n",
              "      <td>-0.435635</td>\n",
              "      <td>-0.446449</td>\n",
              "      <td>0.326466</td>\n",
              "      <td>-0.167966</td>\n",
              "      <td>0.292131</td>\n",
              "      <td>0.278315</td>\n",
              "      <td>-0.376388</td>\n",
              "      <td>1.255938</td>\n",
              "      <td>-0.274044</td>\n",
              "      <td>-2.065454</td>\n",
              "      <td>1.838456</td>\n",
              "      <td>0.168792</td>\n",
              "      <td>-0.168789</td>\n",
              "      <td>-0.097562</td>\n",
              "      <td>-0.134878</td>\n",
              "      <td>-0.129379</td>\n",
              "      <td>-0.103497</td>\n",
              "      <td>-0.129767</td>\n",
              "      <td>-0.201776</td>\n",
              "      <td>-0.131187</td>\n",
              "      <td>-0.120759</td>\n",
              "      <td>...</td>\n",
              "      <td>-0.097634</td>\n",
              "      <td>-0.081114</td>\n",
              "      <td>-0.102326</td>\n",
              "      <td>-0.045128</td>\n",
              "      <td>-0.070983</td>\n",
              "      <td>-0.061457</td>\n",
              "      <td>-0.085408</td>\n",
              "      <td>-0.085009</td>\n",
              "      <td>-0.086519</td>\n",
              "      <td>-0.713841</td>\n",
              "      <td>-0.375014</td>\n",
              "      <td>0.137939</td>\n",
              "      <td>-0.164430</td>\n",
              "      <td>-0.063159</td>\n",
              "      <td>0.038139</td>\n",
              "      <td>-0.207028</td>\n",
              "      <td>0.207908</td>\n",
              "      <td>0.005474</td>\n",
              "      <td>0.027114</td>\n",
              "      <td>-0.060995</td>\n",
              "      <td>0.052452</td>\n",
              "      <td>0.150306</td>\n",
              "      <td>0.216116</td>\n",
              "      <td>0.250989</td>\n",
              "      <td>-0.269621</td>\n",
              "      <td>0.186871</td>\n",
              "      <td>-0.042122</td>\n",
              "      <td>0.019665</td>\n",
              "      <td>-0.068128</td>\n",
              "      <td>-0.030527</td>\n",
              "      <td>0.071963</td>\n",
              "      <td>-0.007271</td>\n",
              "      <td>-0.008259</td>\n",
              "      <td>-0.295907</td>\n",
              "      <td>-0.266837</td>\n",
              "      <td>-1.731885</td>\n",
              "      <td>-1.756318</td>\n",
              "      <td>1.672526</td>\n",
              "      <td>-0.670784</td>\n",
              "      <td>0</td>\n",
              "    </tr>\n",
              "    <tr>\n",
              "      <th>4</th>\n",
              "      <td>-1.25103</td>\n",
              "      <td>-0.904898</td>\n",
              "      <td>-1.421715</td>\n",
              "      <td>-0.341023</td>\n",
              "      <td>-0.083186</td>\n",
              "      <td>0.0</td>\n",
              "      <td>0.186352</td>\n",
              "      <td>0.281360</td>\n",
              "      <td>-0.411229</td>\n",
              "      <td>-0.423689</td>\n",
              "      <td>-0.609474</td>\n",
              "      <td>-0.158137</td>\n",
              "      <td>-0.265768</td>\n",
              "      <td>0.160981</td>\n",
              "      <td>0.217591</td>\n",
              "      <td>1.747812</td>\n",
              "      <td>0.447464</td>\n",
              "      <td>0.072847</td>\n",
              "      <td>-0.003701</td>\n",
              "      <td>2.295501</td>\n",
              "      <td>2.239898</td>\n",
              "      <td>0.326466</td>\n",
              "      <td>-0.167966</td>\n",
              "      <td>0.292131</td>\n",
              "      <td>0.278315</td>\n",
              "      <td>-0.376388</td>\n",
              "      <td>0.920665</td>\n",
              "      <td>-0.274044</td>\n",
              "      <td>-2.435659</td>\n",
              "      <td>1.278919</td>\n",
              "      <td>0.168792</td>\n",
              "      <td>-0.168789</td>\n",
              "      <td>-0.097562</td>\n",
              "      <td>-0.137700</td>\n",
              "      <td>-0.139046</td>\n",
              "      <td>-0.103497</td>\n",
              "      <td>-0.129767</td>\n",
              "      <td>-0.201776</td>\n",
              "      <td>-0.148080</td>\n",
              "      <td>-0.120759</td>\n",
              "      <td>...</td>\n",
              "      <td>-0.097634</td>\n",
              "      <td>-0.081114</td>\n",
              "      <td>-0.102326</td>\n",
              "      <td>-0.045128</td>\n",
              "      <td>-0.070983</td>\n",
              "      <td>-0.061457</td>\n",
              "      <td>-0.085408</td>\n",
              "      <td>-0.085009</td>\n",
              "      <td>-0.086519</td>\n",
              "      <td>-0.713841</td>\n",
              "      <td>-0.375014</td>\n",
              "      <td>0.735033</td>\n",
              "      <td>-0.547047</td>\n",
              "      <td>-0.063159</td>\n",
              "      <td>0.038139</td>\n",
              "      <td>-0.207028</td>\n",
              "      <td>0.207908</td>\n",
              "      <td>0.005474</td>\n",
              "      <td>0.027114</td>\n",
              "      <td>-0.060995</td>\n",
              "      <td>0.052452</td>\n",
              "      <td>0.150306</td>\n",
              "      <td>0.216116</td>\n",
              "      <td>-3.434204</td>\n",
              "      <td>-0.269621</td>\n",
              "      <td>0.186871</td>\n",
              "      <td>2.125267</td>\n",
              "      <td>-2.650975</td>\n",
              "      <td>-0.068128</td>\n",
              "      <td>-0.030527</td>\n",
              "      <td>0.071963</td>\n",
              "      <td>-0.007271</td>\n",
              "      <td>-0.008259</td>\n",
              "      <td>3.352330</td>\n",
              "      <td>2.758804</td>\n",
              "      <td>-1.731837</td>\n",
              "      <td>-1.756303</td>\n",
              "      <td>-1.097511</td>\n",
              "      <td>-0.670784</td>\n",
              "      <td>0</td>\n",
              "    </tr>\n",
              "    <tr>\n",
              "      <th>...</th>\n",
              "      <td>...</td>\n",
              "      <td>...</td>\n",
              "      <td>...</td>\n",
              "      <td>...</td>\n",
              "      <td>...</td>\n",
              "      <td>...</td>\n",
              "      <td>...</td>\n",
              "      <td>...</td>\n",
              "      <td>...</td>\n",
              "      <td>...</td>\n",
              "      <td>...</td>\n",
              "      <td>...</td>\n",
              "      <td>...</td>\n",
              "      <td>...</td>\n",
              "      <td>...</td>\n",
              "      <td>...</td>\n",
              "      <td>...</td>\n",
              "      <td>...</td>\n",
              "      <td>...</td>\n",
              "      <td>...</td>\n",
              "      <td>...</td>\n",
              "      <td>...</td>\n",
              "      <td>...</td>\n",
              "      <td>...</td>\n",
              "      <td>...</td>\n",
              "      <td>...</td>\n",
              "      <td>...</td>\n",
              "      <td>...</td>\n",
              "      <td>...</td>\n",
              "      <td>...</td>\n",
              "      <td>...</td>\n",
              "      <td>...</td>\n",
              "      <td>...</td>\n",
              "      <td>...</td>\n",
              "      <td>...</td>\n",
              "      <td>...</td>\n",
              "      <td>...</td>\n",
              "      <td>...</td>\n",
              "      <td>...</td>\n",
              "      <td>...</td>\n",
              "      <td>...</td>\n",
              "      <td>...</td>\n",
              "      <td>...</td>\n",
              "      <td>...</td>\n",
              "      <td>...</td>\n",
              "      <td>...</td>\n",
              "      <td>...</td>\n",
              "      <td>...</td>\n",
              "      <td>...</td>\n",
              "      <td>...</td>\n",
              "      <td>...</td>\n",
              "      <td>...</td>\n",
              "      <td>...</td>\n",
              "      <td>...</td>\n",
              "      <td>...</td>\n",
              "      <td>...</td>\n",
              "      <td>...</td>\n",
              "      <td>...</td>\n",
              "      <td>...</td>\n",
              "      <td>...</td>\n",
              "      <td>...</td>\n",
              "      <td>...</td>\n",
              "      <td>...</td>\n",
              "      <td>...</td>\n",
              "      <td>...</td>\n",
              "      <td>...</td>\n",
              "      <td>...</td>\n",
              "      <td>...</td>\n",
              "      <td>...</td>\n",
              "      <td>...</td>\n",
              "      <td>...</td>\n",
              "      <td>...</td>\n",
              "      <td>...</td>\n",
              "      <td>...</td>\n",
              "      <td>...</td>\n",
              "      <td>...</td>\n",
              "      <td>...</td>\n",
              "      <td>...</td>\n",
              "      <td>...</td>\n",
              "      <td>...</td>\n",
              "      <td>...</td>\n",
              "    </tr>\n",
              "    <tr>\n",
              "      <th>78018</th>\n",
              "      <td>0.73600</td>\n",
              "      <td>0.628401</td>\n",
              "      <td>0.702593</td>\n",
              "      <td>1.963293</td>\n",
              "      <td>-0.083186</td>\n",
              "      <td>0.0</td>\n",
              "      <td>0.186352</td>\n",
              "      <td>0.281360</td>\n",
              "      <td>1.511163</td>\n",
              "      <td>2.360224</td>\n",
              "      <td>-0.609474</td>\n",
              "      <td>-0.158137</td>\n",
              "      <td>-0.265768</td>\n",
              "      <td>0.160981</td>\n",
              "      <td>0.217591</td>\n",
              "      <td>-0.457419</td>\n",
              "      <td>0.447464</td>\n",
              "      <td>0.072847</td>\n",
              "      <td>-0.003701</td>\n",
              "      <td>-0.435635</td>\n",
              "      <td>-0.446449</td>\n",
              "      <td>0.326466</td>\n",
              "      <td>-0.167966</td>\n",
              "      <td>0.292131</td>\n",
              "      <td>0.278315</td>\n",
              "      <td>0.780950</td>\n",
              "      <td>-0.300237</td>\n",
              "      <td>-0.274044</td>\n",
              "      <td>0.624699</td>\n",
              "      <td>0.069919</td>\n",
              "      <td>0.168792</td>\n",
              "      <td>-0.168789</td>\n",
              "      <td>-0.097562</td>\n",
              "      <td>-0.112941</td>\n",
              "      <td>-0.124723</td>\n",
              "      <td>-0.103497</td>\n",
              "      <td>-0.129767</td>\n",
              "      <td>-0.125434</td>\n",
              "      <td>-0.124242</td>\n",
              "      <td>-0.120759</td>\n",
              "      <td>...</td>\n",
              "      <td>-0.097634</td>\n",
              "      <td>-0.081114</td>\n",
              "      <td>-0.102326</td>\n",
              "      <td>-0.045128</td>\n",
              "      <td>-0.070983</td>\n",
              "      <td>-0.061457</td>\n",
              "      <td>-0.085408</td>\n",
              "      <td>-0.085009</td>\n",
              "      <td>-0.086519</td>\n",
              "      <td>-0.713841</td>\n",
              "      <td>0.782428</td>\n",
              "      <td>0.137939</td>\n",
              "      <td>-0.164430</td>\n",
              "      <td>-0.063159</td>\n",
              "      <td>0.038139</td>\n",
              "      <td>-0.207028</td>\n",
              "      <td>0.207908</td>\n",
              "      <td>0.005474</td>\n",
              "      <td>0.027114</td>\n",
              "      <td>-0.060995</td>\n",
              "      <td>0.052452</td>\n",
              "      <td>0.150306</td>\n",
              "      <td>0.216116</td>\n",
              "      <td>0.250989</td>\n",
              "      <td>-0.269621</td>\n",
              "      <td>0.186871</td>\n",
              "      <td>-0.042122</td>\n",
              "      <td>0.019665</td>\n",
              "      <td>-0.068128</td>\n",
              "      <td>-0.030527</td>\n",
              "      <td>0.071963</td>\n",
              "      <td>-0.007271</td>\n",
              "      <td>-0.008259</td>\n",
              "      <td>-0.295907</td>\n",
              "      <td>-0.266837</td>\n",
              "      <td>-0.100946</td>\n",
              "      <td>-0.079469</td>\n",
              "      <td>1.480746</td>\n",
              "      <td>-0.670784</td>\n",
              "      <td>1</td>\n",
              "    </tr>\n",
              "    <tr>\n",
              "      <th>78019</th>\n",
              "      <td>0.73600</td>\n",
              "      <td>0.628401</td>\n",
              "      <td>0.702593</td>\n",
              "      <td>-0.341023</td>\n",
              "      <td>-0.083186</td>\n",
              "      <td>0.0</td>\n",
              "      <td>0.186352</td>\n",
              "      <td>0.281360</td>\n",
              "      <td>-0.411229</td>\n",
              "      <td>2.360224</td>\n",
              "      <td>-0.609474</td>\n",
              "      <td>-0.158137</td>\n",
              "      <td>-0.265768</td>\n",
              "      <td>0.160981</td>\n",
              "      <td>0.217591</td>\n",
              "      <td>-0.457419</td>\n",
              "      <td>0.447464</td>\n",
              "      <td>0.072847</td>\n",
              "      <td>-0.003701</td>\n",
              "      <td>-0.435635</td>\n",
              "      <td>-0.446449</td>\n",
              "      <td>0.326466</td>\n",
              "      <td>-0.167966</td>\n",
              "      <td>0.292131</td>\n",
              "      <td>0.278315</td>\n",
              "      <td>-0.457139</td>\n",
              "      <td>-0.300237</td>\n",
              "      <td>-0.274044</td>\n",
              "      <td>-0.140391</td>\n",
              "      <td>0.329704</td>\n",
              "      <td>0.168792</td>\n",
              "      <td>-0.168789</td>\n",
              "      <td>-0.097562</td>\n",
              "      <td>-0.137700</td>\n",
              "      <td>-0.139046</td>\n",
              "      <td>-0.103497</td>\n",
              "      <td>-0.129767</td>\n",
              "      <td>-0.201776</td>\n",
              "      <td>-0.131187</td>\n",
              "      <td>-0.120759</td>\n",
              "      <td>...</td>\n",
              "      <td>-0.097634</td>\n",
              "      <td>-0.081114</td>\n",
              "      <td>-0.102326</td>\n",
              "      <td>-0.045128</td>\n",
              "      <td>-0.070983</td>\n",
              "      <td>-0.061457</td>\n",
              "      <td>-0.085408</td>\n",
              "      <td>-0.085009</td>\n",
              "      <td>-0.086519</td>\n",
              "      <td>-0.713841</td>\n",
              "      <td>-0.455772</td>\n",
              "      <td>0.137939</td>\n",
              "      <td>-0.164430</td>\n",
              "      <td>-0.063159</td>\n",
              "      <td>0.038139</td>\n",
              "      <td>-0.207028</td>\n",
              "      <td>0.207908</td>\n",
              "      <td>0.005474</td>\n",
              "      <td>0.027114</td>\n",
              "      <td>-0.060995</td>\n",
              "      <td>0.052452</td>\n",
              "      <td>0.150306</td>\n",
              "      <td>0.216116</td>\n",
              "      <td>0.250989</td>\n",
              "      <td>-0.269621</td>\n",
              "      <td>0.186871</td>\n",
              "      <td>-0.042122</td>\n",
              "      <td>0.019665</td>\n",
              "      <td>-0.068128</td>\n",
              "      <td>-0.030527</td>\n",
              "      <td>0.071963</td>\n",
              "      <td>-0.007271</td>\n",
              "      <td>-0.008259</td>\n",
              "      <td>-0.295907</td>\n",
              "      <td>-0.266837</td>\n",
              "      <td>0.630534</td>\n",
              "      <td>0.647075</td>\n",
              "      <td>0.270950</td>\n",
              "      <td>-0.670784</td>\n",
              "      <td>1</td>\n",
              "    </tr>\n",
              "    <tr>\n",
              "      <th>78020</th>\n",
              "      <td>0.73600</td>\n",
              "      <td>0.628401</td>\n",
              "      <td>0.702593</td>\n",
              "      <td>-0.341023</td>\n",
              "      <td>-0.083186</td>\n",
              "      <td>0.0</td>\n",
              "      <td>-5.366183</td>\n",
              "      <td>-3.554169</td>\n",
              "      <td>-0.411229</td>\n",
              "      <td>-0.423689</td>\n",
              "      <td>-0.609474</td>\n",
              "      <td>-0.158137</td>\n",
              "      <td>-0.265768</td>\n",
              "      <td>-1.533961</td>\n",
              "      <td>0.217591</td>\n",
              "      <td>-0.457419</td>\n",
              "      <td>0.447464</td>\n",
              "      <td>0.072847</td>\n",
              "      <td>-0.003701</td>\n",
              "      <td>-0.435635</td>\n",
              "      <td>-0.446449</td>\n",
              "      <td>0.326466</td>\n",
              "      <td>-0.167966</td>\n",
              "      <td>0.292131</td>\n",
              "      <td>0.278315</td>\n",
              "      <td>0.335452</td>\n",
              "      <td>-0.300237</td>\n",
              "      <td>-0.274044</td>\n",
              "      <td>0.624699</td>\n",
              "      <td>0.069919</td>\n",
              "      <td>0.168792</td>\n",
              "      <td>2.375053</td>\n",
              "      <td>-0.097562</td>\n",
              "      <td>-0.137700</td>\n",
              "      <td>-0.139046</td>\n",
              "      <td>-0.103497</td>\n",
              "      <td>-0.129767</td>\n",
              "      <td>-0.156693</td>\n",
              "      <td>-0.148080</td>\n",
              "      <td>-0.120759</td>\n",
              "      <td>...</td>\n",
              "      <td>-0.097634</td>\n",
              "      <td>-0.081114</td>\n",
              "      <td>-0.102326</td>\n",
              "      <td>-0.045128</td>\n",
              "      <td>-0.070983</td>\n",
              "      <td>-0.061457</td>\n",
              "      <td>-0.085408</td>\n",
              "      <td>-0.085009</td>\n",
              "      <td>-0.086519</td>\n",
              "      <td>1.624353</td>\n",
              "      <td>0.332279</td>\n",
              "      <td>0.137939</td>\n",
              "      <td>-0.164430</td>\n",
              "      <td>-0.063159</td>\n",
              "      <td>0.038139</td>\n",
              "      <td>-0.207028</td>\n",
              "      <td>0.207908</td>\n",
              "      <td>0.005474</td>\n",
              "      <td>0.027114</td>\n",
              "      <td>-0.060995</td>\n",
              "      <td>0.052452</td>\n",
              "      <td>0.150306</td>\n",
              "      <td>0.216116</td>\n",
              "      <td>0.250989</td>\n",
              "      <td>-0.269621</td>\n",
              "      <td>0.186871</td>\n",
              "      <td>-0.042122</td>\n",
              "      <td>0.019665</td>\n",
              "      <td>-0.068128</td>\n",
              "      <td>-0.030527</td>\n",
              "      <td>0.071963</td>\n",
              "      <td>-0.007271</td>\n",
              "      <td>-0.008259</td>\n",
              "      <td>-0.295907</td>\n",
              "      <td>-0.266837</td>\n",
              "      <td>1.046352</td>\n",
              "      <td>1.010399</td>\n",
              "      <td>1.480746</td>\n",
              "      <td>0.845136</td>\n",
              "      <td>1</td>\n",
              "    </tr>\n",
              "    <tr>\n",
              "      <th>78021</th>\n",
              "      <td>0.73600</td>\n",
              "      <td>0.628401</td>\n",
              "      <td>0.370518</td>\n",
              "      <td>-0.341023</td>\n",
              "      <td>-0.083186</td>\n",
              "      <td>0.0</td>\n",
              "      <td>-5.366183</td>\n",
              "      <td>-3.554169</td>\n",
              "      <td>-0.411229</td>\n",
              "      <td>-0.423689</td>\n",
              "      <td>1.288999</td>\n",
              "      <td>-0.158137</td>\n",
              "      <td>-0.265768</td>\n",
              "      <td>0.160981</td>\n",
              "      <td>0.217591</td>\n",
              "      <td>-0.457419</td>\n",
              "      <td>0.447464</td>\n",
              "      <td>0.072847</td>\n",
              "      <td>-0.003701</td>\n",
              "      <td>-0.435635</td>\n",
              "      <td>-0.446449</td>\n",
              "      <td>0.326466</td>\n",
              "      <td>-0.167966</td>\n",
              "      <td>0.292131</td>\n",
              "      <td>0.278315</td>\n",
              "      <td>0.114239</td>\n",
              "      <td>1.207716</td>\n",
              "      <td>-0.274044</td>\n",
              "      <td>0.624699</td>\n",
              "      <td>-0.468784</td>\n",
              "      <td>0.168792</td>\n",
              "      <td>0.159548</td>\n",
              "      <td>-0.097562</td>\n",
              "      <td>-0.137700</td>\n",
              "      <td>-0.139046</td>\n",
              "      <td>-0.103497</td>\n",
              "      <td>-0.129767</td>\n",
              "      <td>-0.201776</td>\n",
              "      <td>-0.148080</td>\n",
              "      <td>-0.120759</td>\n",
              "      <td>...</td>\n",
              "      <td>-0.097634</td>\n",
              "      <td>-0.081114</td>\n",
              "      <td>-0.102326</td>\n",
              "      <td>-0.045128</td>\n",
              "      <td>-0.070983</td>\n",
              "      <td>-0.061457</td>\n",
              "      <td>-0.085408</td>\n",
              "      <td>-0.085009</td>\n",
              "      <td>-0.086519</td>\n",
              "      <td>-0.713841</td>\n",
              "      <td>0.115658</td>\n",
              "      <td>0.137939</td>\n",
              "      <td>-0.164430</td>\n",
              "      <td>-0.063159</td>\n",
              "      <td>0.038139</td>\n",
              "      <td>-0.207028</td>\n",
              "      <td>0.207908</td>\n",
              "      <td>0.005474</td>\n",
              "      <td>0.027114</td>\n",
              "      <td>-0.060995</td>\n",
              "      <td>0.052452</td>\n",
              "      <td>0.150306</td>\n",
              "      <td>0.216116</td>\n",
              "      <td>0.250989</td>\n",
              "      <td>-0.269621</td>\n",
              "      <td>0.186871</td>\n",
              "      <td>-0.042122</td>\n",
              "      <td>0.019665</td>\n",
              "      <td>-0.068128</td>\n",
              "      <td>-0.030527</td>\n",
              "      <td>0.071963</td>\n",
              "      <td>-0.007271</td>\n",
              "      <td>-0.008259</td>\n",
              "      <td>-0.295907</td>\n",
              "      <td>-0.266837</td>\n",
              "      <td>0.529548</td>\n",
              "      <td>0.546985</td>\n",
              "      <td>1.118052</td>\n",
              "      <td>-0.670784</td>\n",
              "      <td>1</td>\n",
              "    </tr>\n",
              "    <tr>\n",
              "      <th>78022</th>\n",
              "      <td>0.73600</td>\n",
              "      <td>-0.816287</td>\n",
              "      <td>0.702593</td>\n",
              "      <td>1.830123</td>\n",
              "      <td>-0.083186</td>\n",
              "      <td>0.0</td>\n",
              "      <td>0.186352</td>\n",
              "      <td>0.281360</td>\n",
              "      <td>-0.411229</td>\n",
              "      <td>2.199337</td>\n",
              "      <td>-0.479429</td>\n",
              "      <td>-0.158137</td>\n",
              "      <td>-0.265768</td>\n",
              "      <td>0.160981</td>\n",
              "      <td>0.217591</td>\n",
              "      <td>-0.457419</td>\n",
              "      <td>0.447464</td>\n",
              "      <td>0.072847</td>\n",
              "      <td>-0.003701</td>\n",
              "      <td>-0.435635</td>\n",
              "      <td>-0.446449</td>\n",
              "      <td>0.326466</td>\n",
              "      <td>-0.167966</td>\n",
              "      <td>0.292131</td>\n",
              "      <td>0.278315</td>\n",
              "      <td>0.204938</td>\n",
              "      <td>-0.065682</td>\n",
              "      <td>-0.274044</td>\n",
              "      <td>0.578191</td>\n",
              "      <td>0.049709</td>\n",
              "      <td>0.168792</td>\n",
              "      <td>0.034136</td>\n",
              "      <td>-0.097562</td>\n",
              "      <td>-0.137211</td>\n",
              "      <td>-0.138627</td>\n",
              "      <td>-0.103497</td>\n",
              "      <td>-0.129767</td>\n",
              "      <td>-0.201776</td>\n",
              "      <td>-0.147429</td>\n",
              "      <td>-0.120759</td>\n",
              "      <td>...</td>\n",
              "      <td>-0.097634</td>\n",
              "      <td>-0.081114</td>\n",
              "      <td>-0.102326</td>\n",
              "      <td>-0.045128</td>\n",
              "      <td>-0.070983</td>\n",
              "      <td>-0.061457</td>\n",
              "      <td>-0.085408</td>\n",
              "      <td>-0.085009</td>\n",
              "      <td>-0.086519</td>\n",
              "      <td>-0.713841</td>\n",
              "      <td>0.206364</td>\n",
              "      <td>0.137939</td>\n",
              "      <td>-0.164430</td>\n",
              "      <td>-0.063159</td>\n",
              "      <td>0.038139</td>\n",
              "      <td>-0.207028</td>\n",
              "      <td>0.207908</td>\n",
              "      <td>0.005474</td>\n",
              "      <td>0.027114</td>\n",
              "      <td>-0.060995</td>\n",
              "      <td>0.052452</td>\n",
              "      <td>0.150306</td>\n",
              "      <td>0.216116</td>\n",
              "      <td>0.250989</td>\n",
              "      <td>-0.269621</td>\n",
              "      <td>0.186871</td>\n",
              "      <td>-0.042122</td>\n",
              "      <td>0.019665</td>\n",
              "      <td>-0.068128</td>\n",
              "      <td>-0.030527</td>\n",
              "      <td>0.071963</td>\n",
              "      <td>-0.007271</td>\n",
              "      <td>-0.008259</td>\n",
              "      <td>-0.295907</td>\n",
              "      <td>-0.266837</td>\n",
              "      <td>1.582898</td>\n",
              "      <td>1.512313</td>\n",
              "      <td>0.313891</td>\n",
              "      <td>-0.670784</td>\n",
              "      <td>1</td>\n",
              "    </tr>\n",
              "  </tbody>\n",
              "</table>\n",
              "<p>78023 rows × 432 columns</p>\n",
              "</div>"
            ],
            "text/plain": [
              "       ProductCD     card4     card6  ...     card1  CentsDigits  isFraud\n",
              "0        0.73600 -2.438198 -1.421715  ...  0.818050    -0.670784        0\n",
              "1        0.73600 -0.904898 -1.421715  ... -1.451410    -0.670784        0\n",
              "2        0.73600  0.628401  0.702593  ... -1.063787    -0.670784        0\n",
              "3        0.73600 -0.904898  0.702593  ...  1.672526    -0.670784        0\n",
              "4       -1.25103 -0.904898 -1.421715  ... -1.097511    -0.670784        0\n",
              "...          ...       ...       ...  ...       ...          ...      ...\n",
              "78018    0.73600  0.628401  0.702593  ...  1.480746    -0.670784        1\n",
              "78019    0.73600  0.628401  0.702593  ...  0.270950    -0.670784        1\n",
              "78020    0.73600  0.628401  0.702593  ...  1.480746     0.845136        1\n",
              "78021    0.73600  0.628401  0.370518  ...  1.118052    -0.670784        1\n",
              "78022    0.73600 -0.816287  0.702593  ...  0.313891    -0.670784        1\n",
              "\n",
              "[78023 rows x 432 columns]"
            ]
          },
          "metadata": {},
          "execution_count": 18
        }
      ]
    },
    {
      "cell_type": "code",
      "metadata": {
        "id": "pVB_ciDl2yE-"
      },
      "source": [
        "Y = X_trainss_01['isFraud']\n",
        "X = X_trainss_01.drop(['isFraud', 'TransactionID'], axis=1)"
      ],
      "execution_count": null,
      "outputs": []
    },
    {
      "cell_type": "code",
      "metadata": {
        "colab": {
          "base_uri": "https://localhost:8080/"
        },
        "id": "0sf2ydtDAvWZ",
        "outputId": "1efb23e0-3f6b-4332-9626-44396b7273a9"
      },
      "source": [
        "target_n=pd.unique(Y)\n",
        "target_n"
      ],
      "execution_count": null,
      "outputs": [
        {
          "output_type": "execute_result",
          "data": {
            "text/plain": [
              "array([0, 1])"
            ]
          },
          "metadata": {},
          "execution_count": 21
        }
      ]
    },
    {
      "cell_type": "markdown",
      "metadata": {
        "id": "csGT9qyk2Ryv"
      },
      "source": [
        "# **4. GridSearch for GradientBoostingClassifier with StandardScaler and SMOTE 0.1**"
      ]
    },
    {
      "cell_type": "markdown",
      "metadata": {
        "id": "wR-tzbHsffby"
      },
      "source": [
        "## **A. Learning_rate and n_estimators**"
      ]
    },
    {
      "cell_type": "markdown",
      "metadata": {
        "id": "qwvXJfkQLNJj"
      },
      "source": [
        "In this situation it is possible to observe that by specifying two parameters the training takes less than 1 minute, which facilitates the training and the adjustment of these parameters. "
      ]
    },
    {
      "cell_type": "code",
      "metadata": {
        "id": "99uyy0QH6FVt"
      },
      "source": [
        "gbc1 = GradientBoostingClassifier(random_state=10, max_features = 'sqrt', learning_rate=0.01)\n",
        "parameters = {\n",
        "    \"n_estimators\":[200,300,500, 700, 1000, 1500],\n",
        "    \"learning_rate\":[0.01,0.1,1, 1.5] \n",
        "}\n",
        "scoring1 = {'AUC': 'roc_auc', 'Accuracy': make_scorer(accuracy_score), 'F1':make_scorer(f1_score, average='micro')}"
      ],
      "execution_count": null,
      "outputs": []
    },
    {
      "cell_type": "code",
      "metadata": {
        "colab": {
          "base_uri": "https://localhost:8080/"
        },
        "id": "7ddkNp8gVWYg",
        "outputId": "9b0aaccd-d16e-45b7-fc8f-f95abb8e75dd"
      },
      "source": [
        "start_time = timer(None) # timing starts from this point for \"start_time\" variable\n",
        "gsearch1 = GridSearchCV(estimator=gbc1,param_grid=parameters,scoring=scoring1, cv=10, verbose=3, refit='AUC', return_train_score=True)\n",
        "gsearch1.fit(X,Y)\n",
        "timer(start_time) # timing ends here for \"start_time\" variable"
      ],
      "execution_count": null,
      "outputs": [
        {
          "name": "stdout",
          "output_type": "stream",
          "text": [
            "Fitting 10 folds for each of 24 candidates, totalling 240 fits\n",
            "[CV] learning_rate=0.01, n_estimators=200 ............................\n"
          ]
        },
        {
          "name": "stderr",
          "output_type": "stream",
          "text": [
            "[Parallel(n_jobs=1)]: Using backend SequentialBackend with 1 concurrent workers.\n"
          ]
        },
        {
          "name": "stdout",
          "output_type": "stream",
          "text": [
            "[CV]  learning_rate=0.01, n_estimators=200, AUC=(train=0.897, test=0.567), Accuracy=(train=0.933, test=0.920), F1=(train=0.933, test=0.920), total=  15.5s\n",
            "[CV] learning_rate=0.01, n_estimators=200 ............................\n"
          ]
        },
        {
          "name": "stderr",
          "output_type": "stream",
          "text": [
            "[Parallel(n_jobs=1)]: Done   1 out of   1 | elapsed:   17.6s remaining:    0.0s\n"
          ]
        },
        {
          "name": "stdout",
          "output_type": "stream",
          "text": [
            "[CV]  learning_rate=0.01, n_estimators=200, AUC=(train=0.899, test=0.824), Accuracy=(train=0.932, test=0.930), F1=(train=0.932, test=0.930), total=  15.4s\n",
            "[CV] learning_rate=0.01, n_estimators=200 ............................\n"
          ]
        },
        {
          "name": "stderr",
          "output_type": "stream",
          "text": [
            "[Parallel(n_jobs=1)]: Done   2 out of   2 | elapsed:   34.9s remaining:    0.0s\n"
          ]
        },
        {
          "name": "stdout",
          "output_type": "stream",
          "text": [
            "[CV]  learning_rate=0.01, n_estimators=200, AUC=(train=0.898, test=0.870), Accuracy=(train=0.932, test=0.930), F1=(train=0.932, test=0.930), total=  14.8s\n",
            "[CV] learning_rate=0.01, n_estimators=200 ............................\n",
            "[CV]  learning_rate=0.01, n_estimators=200, AUC=(train=0.887, test=0.900), Accuracy=(train=0.931, test=0.932), F1=(train=0.931, test=0.932), total=  13.7s\n",
            "[CV] learning_rate=0.01, n_estimators=200 ............................\n",
            "[CV]  learning_rate=0.01, n_estimators=200, AUC=(train=0.888, test=0.884), Accuracy=(train=0.932, test=0.932), F1=(train=0.932, test=0.932), total=  13.8s\n",
            "[CV] learning_rate=0.01, n_estimators=200 ............................\n",
            "[CV]  learning_rate=0.01, n_estimators=200, AUC=(train=0.888, test=0.905), Accuracy=(train=0.932, test=0.935), F1=(train=0.932, test=0.935), total=  14.1s\n",
            "[CV] learning_rate=0.01, n_estimators=200 ............................\n",
            "[CV]  learning_rate=0.01, n_estimators=200, AUC=(train=0.889, test=0.883), Accuracy=(train=0.932, test=0.932), F1=(train=0.932, test=0.932), total=  14.6s\n",
            "[CV] learning_rate=0.01, n_estimators=200 ............................\n",
            "[CV]  learning_rate=0.01, n_estimators=200, AUC=(train=0.887, test=0.865), Accuracy=(train=0.932, test=0.928), F1=(train=0.932, test=0.928), total=  14.9s\n",
            "[CV] learning_rate=0.01, n_estimators=200 ............................\n",
            "[CV]  learning_rate=0.01, n_estimators=200, AUC=(train=0.887, test=0.903), Accuracy=(train=0.931, test=0.933), F1=(train=0.931, test=0.933), total=  14.4s\n",
            "[CV] learning_rate=0.01, n_estimators=200 ............................\n",
            "[CV]  learning_rate=0.01, n_estimators=200, AUC=(train=0.891, test=0.694), Accuracy=(train=0.932, test=0.935), F1=(train=0.932, test=0.935), total=  14.2s\n",
            "[CV] learning_rate=0.01, n_estimators=300 ............................\n",
            "[CV]  learning_rate=0.01, n_estimators=300, AUC=(train=0.915, test=0.552), Accuracy=(train=0.939, test=0.923), F1=(train=0.939, test=0.923), total=  21.3s\n",
            "[CV] learning_rate=0.01, n_estimators=300 ............................\n",
            "[CV]  learning_rate=0.01, n_estimators=300, AUC=(train=0.916, test=0.841), Accuracy=(train=0.938, test=0.934), F1=(train=0.938, test=0.934), total=  20.9s\n",
            "[CV] learning_rate=0.01, n_estimators=300 ............................\n",
            "[CV]  learning_rate=0.01, n_estimators=300, AUC=(train=0.914, test=0.875), Accuracy=(train=0.937, test=0.934), F1=(train=0.937, test=0.934), total=  20.1s\n",
            "[CV] learning_rate=0.01, n_estimators=300 ............................\n",
            "[CV]  learning_rate=0.01, n_estimators=300, AUC=(train=0.904, test=0.917), Accuracy=(train=0.937, test=0.938), F1=(train=0.937, test=0.938), total=  20.4s\n",
            "[CV] learning_rate=0.01, n_estimators=300 ............................\n",
            "[CV]  learning_rate=0.01, n_estimators=300, AUC=(train=0.905, test=0.901), Accuracy=(train=0.937, test=0.933), F1=(train=0.937, test=0.933), total=  20.8s\n",
            "[CV] learning_rate=0.01, n_estimators=300 ............................\n",
            "[CV]  learning_rate=0.01, n_estimators=300, AUC=(train=0.904, test=0.922), Accuracy=(train=0.936, test=0.941), F1=(train=0.936, test=0.941), total=  21.3s\n",
            "[CV] learning_rate=0.01, n_estimators=300 ............................\n",
            "[CV]  learning_rate=0.01, n_estimators=300, AUC=(train=0.903, test=0.901), Accuracy=(train=0.937, test=0.936), F1=(train=0.937, test=0.936), total=  22.6s\n",
            "[CV] learning_rate=0.01, n_estimators=300 ............................\n",
            "[CV]  learning_rate=0.01, n_estimators=300, AUC=(train=0.903, test=0.881), Accuracy=(train=0.937, test=0.920), F1=(train=0.937, test=0.920), total=  21.0s\n",
            "[CV] learning_rate=0.01, n_estimators=300 ............................\n",
            "[CV]  learning_rate=0.01, n_estimators=300, AUC=(train=0.904, test=0.924), Accuracy=(train=0.936, test=0.938), F1=(train=0.936, test=0.938), total=  20.3s\n",
            "[CV] learning_rate=0.01, n_estimators=300 ............................\n",
            "[CV]  learning_rate=0.01, n_estimators=300, AUC=(train=0.908, test=0.696), Accuracy=(train=0.938, test=0.934), F1=(train=0.938, test=0.934), total=  19.8s\n",
            "[CV] learning_rate=0.01, n_estimators=500 ............................\n",
            "[CV]  learning_rate=0.01, n_estimators=500, AUC=(train=0.933, test=0.519), Accuracy=(train=0.946, test=0.897), F1=(train=0.946, test=0.897), total=  33.9s\n",
            "[CV] learning_rate=0.01, n_estimators=500 ............................\n",
            "[CV]  learning_rate=0.01, n_estimators=500, AUC=(train=0.933, test=0.841), Accuracy=(train=0.945, test=0.938), F1=(train=0.945, test=0.938), total=  34.1s\n",
            "[CV] learning_rate=0.01, n_estimators=500 ............................\n",
            "[CV]  learning_rate=0.01, n_estimators=500, AUC=(train=0.932, test=0.874), Accuracy=(train=0.945, test=0.937), F1=(train=0.945, test=0.937), total=  33.9s\n",
            "[CV] learning_rate=0.01, n_estimators=500 ............................\n",
            "[CV]  learning_rate=0.01, n_estimators=500, AUC=(train=0.920, test=0.934), Accuracy=(train=0.943, test=0.946), F1=(train=0.943, test=0.946), total=  33.1s\n",
            "[CV] learning_rate=0.01, n_estimators=500 ............................\n",
            "[CV]  learning_rate=0.01, n_estimators=500, AUC=(train=0.923, test=0.917), Accuracy=(train=0.944, test=0.940), F1=(train=0.944, test=0.940), total=  34.0s\n",
            "[CV] learning_rate=0.01, n_estimators=500 ............................\n",
            "[CV]  learning_rate=0.01, n_estimators=500, AUC=(train=0.922, test=0.939), Accuracy=(train=0.943, test=0.949), F1=(train=0.943, test=0.949), total=  35.3s\n",
            "[CV] learning_rate=0.01, n_estimators=500 ............................\n",
            "[CV]  learning_rate=0.01, n_estimators=500, AUC=(train=0.921, test=0.923), Accuracy=(train=0.944, test=0.943), F1=(train=0.944, test=0.943), total=  35.1s\n",
            "[CV] learning_rate=0.01, n_estimators=500 ............................\n",
            "[CV]  learning_rate=0.01, n_estimators=500, AUC=(train=0.921, test=0.900), Accuracy=(train=0.944, test=0.900), F1=(train=0.944, test=0.900), total=  34.0s\n",
            "[CV] learning_rate=0.01, n_estimators=500 ............................\n",
            "[CV]  learning_rate=0.01, n_estimators=500, AUC=(train=0.921, test=0.940), Accuracy=(train=0.943, test=0.947), F1=(train=0.943, test=0.947), total=  36.1s\n",
            "[CV] learning_rate=0.01, n_estimators=500 ............................\n",
            "[CV]  learning_rate=0.01, n_estimators=500, AUC=(train=0.925, test=0.674), Accuracy=(train=0.945, test=0.889), F1=(train=0.945, test=0.889), total=  35.1s\n",
            "[CV] learning_rate=0.01, n_estimators=700 ............................\n",
            "[CV]  learning_rate=0.01, n_estimators=700, AUC=(train=0.944, test=0.503), Accuracy=(train=0.952, test=0.867), F1=(train=0.952, test=0.867), total=  48.9s\n",
            "[CV] learning_rate=0.01, n_estimators=700 ............................\n",
            "[CV]  learning_rate=0.01, n_estimators=700, AUC=(train=0.944, test=0.845), Accuracy=(train=0.950, test=0.938), F1=(train=0.950, test=0.938), total=  48.5s\n",
            "[CV] learning_rate=0.01, n_estimators=700 ............................\n",
            "[CV]  learning_rate=0.01, n_estimators=700, AUC=(train=0.943, test=0.875), Accuracy=(train=0.951, test=0.938), F1=(train=0.951, test=0.938), total=  52.2s\n",
            "[CV] learning_rate=0.01, n_estimators=700 ............................\n",
            "[CV]  learning_rate=0.01, n_estimators=700, AUC=(train=0.933, test=0.947), Accuracy=(train=0.948, test=0.953), F1=(train=0.948, test=0.953), total=  50.5s\n",
            "[CV] learning_rate=0.01, n_estimators=700 ............................\n",
            "[CV]  learning_rate=0.01, n_estimators=700, AUC=(train=0.934, test=0.929), Accuracy=(train=0.949, test=0.946), F1=(train=0.949, test=0.946), total=  50.1s\n",
            "[CV] learning_rate=0.01, n_estimators=700 ............................\n",
            "[CV]  learning_rate=0.01, n_estimators=700, AUC=(train=0.933, test=0.951), Accuracy=(train=0.949, test=0.956), F1=(train=0.949, test=0.956), total=  50.8s\n",
            "[CV] learning_rate=0.01, n_estimators=700 ............................\n",
            "[CV]  learning_rate=0.01, n_estimators=700, AUC=(train=0.933, test=0.939), Accuracy=(train=0.949, test=0.950), F1=(train=0.949, test=0.950), total=  50.3s\n",
            "[CV] learning_rate=0.01, n_estimators=700 ............................\n",
            "[CV]  learning_rate=0.01, n_estimators=700, AUC=(train=0.933, test=0.915), Accuracy=(train=0.949, test=0.905), F1=(train=0.949, test=0.905), total=  51.2s\n",
            "[CV] learning_rate=0.01, n_estimators=700 ............................\n",
            "[CV]  learning_rate=0.01, n_estimators=700, AUC=(train=0.933, test=0.953), Accuracy=(train=0.948, test=0.951), F1=(train=0.948, test=0.951), total=  49.6s\n",
            "[CV] learning_rate=0.01, n_estimators=700 ............................\n",
            "[CV]  learning_rate=0.01, n_estimators=700, AUC=(train=0.936, test=0.672), Accuracy=(train=0.949, test=0.844), F1=(train=0.949, test=0.844), total=  48.4s\n",
            "[CV] learning_rate=0.01, n_estimators=1000 ...........................\n",
            "[CV]  learning_rate=0.01, n_estimators=1000, AUC=(train=0.955, test=0.483), Accuracy=(train=0.958, test=0.826), F1=(train=0.958, test=0.826), total= 1.1min\n",
            "[CV] learning_rate=0.01, n_estimators=1000 ...........................\n",
            "[CV]  learning_rate=0.01, n_estimators=1000, AUC=(train=0.956, test=0.840), Accuracy=(train=0.958, test=0.937), F1=(train=0.958, test=0.937), total= 1.1min\n",
            "[CV] learning_rate=0.01, n_estimators=1000 ...........................\n",
            "[CV]  learning_rate=0.01, n_estimators=1000, AUC=(train=0.955, test=0.872), Accuracy=(train=0.957, test=0.940), F1=(train=0.957, test=0.940), total= 1.2min\n",
            "[CV] learning_rate=0.01, n_estimators=1000 ...........................\n",
            "[CV]  learning_rate=0.01, n_estimators=1000, AUC=(train=0.944, test=0.954), Accuracy=(train=0.955, test=0.960), F1=(train=0.955, test=0.960), total= 1.1min\n",
            "[CV] learning_rate=0.01, n_estimators=1000 ...........................\n",
            "[CV]  learning_rate=0.01, n_estimators=1000, AUC=(train=0.946, test=0.935), Accuracy=(train=0.956, test=0.951), F1=(train=0.956, test=0.951), total= 1.1min\n",
            "[CV] learning_rate=0.01, n_estimators=1000 ...........................\n",
            "[CV]  learning_rate=0.01, n_estimators=1000, AUC=(train=0.945, test=0.957), Accuracy=(train=0.955, test=0.962), F1=(train=0.955, test=0.962), total= 1.1min\n",
            "[CV] learning_rate=0.01, n_estimators=1000 ...........................\n",
            "[CV]  learning_rate=0.01, n_estimators=1000, AUC=(train=0.944, test=0.950), Accuracy=(train=0.955, test=0.957), F1=(train=0.955, test=0.957), total= 1.1min\n",
            "[CV] learning_rate=0.01, n_estimators=1000 ...........................\n",
            "[CV]  learning_rate=0.01, n_estimators=1000, AUC=(train=0.944, test=0.927), Accuracy=(train=0.955, test=0.913), F1=(train=0.955, test=0.913), total= 1.1min\n",
            "[CV] learning_rate=0.01, n_estimators=1000 ...........................\n",
            "[CV]  learning_rate=0.01, n_estimators=1000, AUC=(train=0.944, test=0.964), Accuracy=(train=0.954, test=0.960), F1=(train=0.954, test=0.960), total= 1.2min\n",
            "[CV] learning_rate=0.01, n_estimators=1000 ...........................\n",
            "[CV]  learning_rate=0.01, n_estimators=1000, AUC=(train=0.947, test=0.670), Accuracy=(train=0.956, test=0.773), F1=(train=0.956, test=0.773), total= 1.1min\n",
            "[CV] learning_rate=0.01, n_estimators=1500 ...........................\n",
            "[CV]  learning_rate=0.01, n_estimators=1500, AUC=(train=0.967, test=0.460), Accuracy=(train=0.965, test=0.727), F1=(train=0.965, test=0.727), total= 1.8min\n",
            "[CV] learning_rate=0.01, n_estimators=1500 ...........................\n",
            "[CV]  learning_rate=0.01, n_estimators=1500, AUC=(train=0.967, test=0.829), Accuracy=(train=0.965, test=0.935), F1=(train=0.965, test=0.935), total= 1.8min\n",
            "[CV] learning_rate=0.01, n_estimators=1500 ...........................\n",
            "[CV]  learning_rate=0.01, n_estimators=1500, AUC=(train=0.966, test=0.860), Accuracy=(train=0.964, test=0.942), F1=(train=0.964, test=0.942), total= 1.7min\n",
            "[CV] learning_rate=0.01, n_estimators=1500 ...........................\n",
            "[CV]  learning_rate=0.01, n_estimators=1500, AUC=(train=0.955, test=0.965), Accuracy=(train=0.961, test=0.967), F1=(train=0.961, test=0.967), total= 1.7min\n",
            "[CV] learning_rate=0.01, n_estimators=1500 ...........................\n",
            "[CV]  learning_rate=0.01, n_estimators=1500, AUC=(train=0.957, test=0.939), Accuracy=(train=0.962, test=0.955), F1=(train=0.962, test=0.955), total= 1.7min\n",
            "[CV] learning_rate=0.01, n_estimators=1500 ...........................\n",
            "[CV]  learning_rate=0.01, n_estimators=1500, AUC=(train=0.956, test=0.963), Accuracy=(train=0.961, test=0.969), F1=(train=0.961, test=0.969), total= 1.7min\n",
            "[CV] learning_rate=0.01, n_estimators=1500 ...........................\n",
            "[CV]  learning_rate=0.01, n_estimators=1500, AUC=(train=0.955, test=0.962), Accuracy=(train=0.961, test=0.965), F1=(train=0.961, test=0.965), total= 1.7min\n",
            "[CV] learning_rate=0.01, n_estimators=1500 ...........................\n",
            "[CV]  learning_rate=0.01, n_estimators=1500, AUC=(train=0.955, test=0.943), Accuracy=(train=0.962, test=0.919), F1=(train=0.962, test=0.919), total= 1.7min\n",
            "[CV] learning_rate=0.01, n_estimators=1500 ...........................\n",
            "[CV]  learning_rate=0.01, n_estimators=1500, AUC=(train=0.955, test=0.974), Accuracy=(train=0.961, test=0.967), F1=(train=0.961, test=0.967), total= 1.7min\n",
            "[CV] learning_rate=0.01, n_estimators=1500 ...........................\n",
            "[CV]  learning_rate=0.01, n_estimators=1500, AUC=(train=0.958, test=0.635), Accuracy=(train=0.962, test=0.401), F1=(train=0.962, test=0.401), total= 1.7min\n",
            "[CV] learning_rate=0.1, n_estimators=200 .............................\n",
            "[CV]  learning_rate=0.1, n_estimators=200, AUC=(train=0.973, test=0.465), Accuracy=(train=0.970, test=0.673), F1=(train=0.970, test=0.673), total=  14.3s\n",
            "[CV] learning_rate=0.1, n_estimators=200 .............................\n",
            "[CV]  learning_rate=0.1, n_estimators=200, AUC=(train=0.973, test=0.833), Accuracy=(train=0.970, test=0.933), F1=(train=0.970, test=0.933), total=  14.5s\n",
            "[CV] learning_rate=0.1, n_estimators=200 .............................\n",
            "[CV]  learning_rate=0.1, n_estimators=200, AUC=(train=0.973, test=0.866), Accuracy=(train=0.970, test=0.943), F1=(train=0.970, test=0.943), total=  14.7s\n",
            "[CV] learning_rate=0.1, n_estimators=200 .............................\n",
            "[CV]  learning_rate=0.1, n_estimators=200, AUC=(train=0.963, test=0.979), Accuracy=(train=0.966, test=0.973), F1=(train=0.966, test=0.973), total=  15.1s\n",
            "[CV] learning_rate=0.1, n_estimators=200 .............................\n",
            "[CV]  learning_rate=0.1, n_estimators=200, AUC=(train=0.964, test=0.964), Accuracy=(train=0.966, test=0.957), F1=(train=0.966, test=0.957), total=  14.0s\n",
            "[CV] learning_rate=0.1, n_estimators=200 .............................\n",
            "[CV]  learning_rate=0.1, n_estimators=200, AUC=(train=0.962, test=0.973), Accuracy=(train=0.965, test=0.972), F1=(train=0.965, test=0.972), total=  14.1s\n",
            "[CV] learning_rate=0.1, n_estimators=200 .............................\n",
            "[CV]  learning_rate=0.1, n_estimators=200, AUC=(train=0.963, test=0.976), Accuracy=(train=0.966, test=0.969), F1=(train=0.966, test=0.969), total=  13.6s\n",
            "[CV] learning_rate=0.1, n_estimators=200 .............................\n",
            "[CV]  learning_rate=0.1, n_estimators=200, AUC=(train=0.963, test=0.957), Accuracy=(train=0.967, test=0.925), F1=(train=0.967, test=0.925), total=  14.1s\n",
            "[CV] learning_rate=0.1, n_estimators=200 .............................\n",
            "[CV]  learning_rate=0.1, n_estimators=200, AUC=(train=0.962, test=0.982), Accuracy=(train=0.966, test=0.972), F1=(train=0.966, test=0.972), total=  14.1s\n",
            "[CV] learning_rate=0.1, n_estimators=200 .............................\n",
            "[CV]  learning_rate=0.1, n_estimators=200, AUC=(train=0.965, test=0.675), Accuracy=(train=0.967, test=0.327), F1=(train=0.967, test=0.327), total=  14.4s\n",
            "[CV] learning_rate=0.1, n_estimators=300 .............................\n",
            "[CV]  learning_rate=0.1, n_estimators=300, AUC=(train=0.980, test=0.494), Accuracy=(train=0.975, test=0.700), F1=(train=0.975, test=0.700), total=  21.6s\n",
            "[CV] learning_rate=0.1, n_estimators=300 .............................\n",
            "[CV]  learning_rate=0.1, n_estimators=300, AUC=(train=0.981, test=0.819), Accuracy=(train=0.976, test=0.933), F1=(train=0.976, test=0.933), total=  20.9s\n",
            "[CV] learning_rate=0.1, n_estimators=300 .............................\n",
            "[CV]  learning_rate=0.1, n_estimators=300, AUC=(train=0.980, test=0.864), Accuracy=(train=0.975, test=0.946), F1=(train=0.975, test=0.946), total=  20.6s\n",
            "[CV] learning_rate=0.1, n_estimators=300 .............................\n",
            "[CV]  learning_rate=0.1, n_estimators=300, AUC=(train=0.970, test=0.984), Accuracy=(train=0.971, test=0.976), F1=(train=0.971, test=0.976), total=  20.9s\n",
            "[CV] learning_rate=0.1, n_estimators=300 .............................\n",
            "[CV]  learning_rate=0.1, n_estimators=300, AUC=(train=0.972, test=0.975), Accuracy=(train=0.972, test=0.966), F1=(train=0.972, test=0.966), total=  20.9s\n",
            "[CV] learning_rate=0.1, n_estimators=300 .............................\n",
            "[CV]  learning_rate=0.1, n_estimators=300, AUC=(train=0.970, test=0.980), Accuracy=(train=0.971, test=0.972), F1=(train=0.971, test=0.972), total=  20.3s\n",
            "[CV] learning_rate=0.1, n_estimators=300 .............................\n",
            "[CV]  learning_rate=0.1, n_estimators=300, AUC=(train=0.970, test=0.984), Accuracy=(train=0.971, test=0.974), F1=(train=0.971, test=0.974), total=  21.0s\n",
            "[CV] learning_rate=0.1, n_estimators=300 .............................\n",
            "[CV]  learning_rate=0.1, n_estimators=300, AUC=(train=0.971, test=0.964), Accuracy=(train=0.972, test=0.930), F1=(train=0.972, test=0.930), total=  20.9s\n",
            "[CV] learning_rate=0.1, n_estimators=300 .............................\n",
            "[CV]  learning_rate=0.1, n_estimators=300, AUC=(train=0.970, test=0.988), Accuracy=(train=0.971, test=0.978), F1=(train=0.971, test=0.978), total=  22.1s\n",
            "[CV] learning_rate=0.1, n_estimators=300 .............................\n",
            "[CV]  learning_rate=0.1, n_estimators=300, AUC=(train=0.973, test=0.687), Accuracy=(train=0.973, test=0.169), F1=(train=0.973, test=0.169), total=  20.9s\n",
            "[CV] learning_rate=0.1, n_estimators=500 .............................\n",
            "[CV]  learning_rate=0.1, n_estimators=500, AUC=(train=0.987, test=0.538), Accuracy=(train=0.982, test=0.778), F1=(train=0.982, test=0.778), total=  36.1s\n",
            "[CV] learning_rate=0.1, n_estimators=500 .............................\n",
            "[CV]  learning_rate=0.1, n_estimators=500, AUC=(train=0.988, test=0.745), Accuracy=(train=0.983, test=0.920), F1=(train=0.983, test=0.920), total=  37.0s\n",
            "[CV] learning_rate=0.1, n_estimators=500 .............................\n",
            "[CV]  learning_rate=0.1, n_estimators=500, AUC=(train=0.987, test=0.821), Accuracy=(train=0.981, test=0.945), F1=(train=0.981, test=0.945), total=  35.7s\n",
            "[CV] learning_rate=0.1, n_estimators=500 .............................\n",
            "[CV]  learning_rate=0.1, n_estimators=500, AUC=(train=0.979, test=0.987), Accuracy=(train=0.977, test=0.982), F1=(train=0.977, test=0.982), total=  36.9s\n",
            "[CV] learning_rate=0.1, n_estimators=500 .............................\n",
            "[CV]  learning_rate=0.1, n_estimators=500, AUC=(train=0.981, test=0.979), Accuracy=(train=0.978, test=0.967), F1=(train=0.978, test=0.967), total=  34.2s\n",
            "[CV] learning_rate=0.1, n_estimators=500 .............................\n",
            "[CV]  learning_rate=0.1, n_estimators=500, AUC=(train=0.979, test=0.986), Accuracy=(train=0.977, test=0.963), F1=(train=0.977, test=0.963), total=  34.5s\n",
            "[CV] learning_rate=0.1, n_estimators=500 .............................\n",
            "[CV]  learning_rate=0.1, n_estimators=500, AUC=(train=0.978, test=0.989), Accuracy=(train=0.978, test=0.977), F1=(train=0.978, test=0.977), total=  36.6s\n",
            "[CV] learning_rate=0.1, n_estimators=500 .............................\n",
            "[CV]  learning_rate=0.1, n_estimators=500, AUC=(train=0.980, test=0.964), Accuracy=(train=0.978, test=0.931), F1=(train=0.978, test=0.931), total=  34.7s\n",
            "[CV] learning_rate=0.1, n_estimators=500 .............................\n",
            "[CV]  learning_rate=0.1, n_estimators=500, AUC=(train=0.979, test=0.987), Accuracy=(train=0.977, test=0.982), F1=(train=0.977, test=0.982), total=  34.3s\n",
            "[CV] learning_rate=0.1, n_estimators=500 .............................\n",
            "[CV]  learning_rate=0.1, n_estimators=500, AUC=(train=0.981, test=0.723), Accuracy=(train=0.979, test=0.137), F1=(train=0.979, test=0.137), total=  34.8s\n",
            "[CV] learning_rate=0.1, n_estimators=700 .............................\n",
            "[CV]  learning_rate=0.1, n_estimators=700, AUC=(train=0.991, test=0.560), Accuracy=(train=0.985, test=0.814), F1=(train=0.985, test=0.814), total=  50.6s\n",
            "[CV] learning_rate=0.1, n_estimators=700 .............................\n",
            "[CV]  learning_rate=0.1, n_estimators=700, AUC=(train=0.991, test=0.723), Accuracy=(train=0.986, test=0.916), F1=(train=0.986, test=0.916), total=  49.6s\n",
            "[CV] learning_rate=0.1, n_estimators=700 .............................\n",
            "[CV]  learning_rate=0.1, n_estimators=700, AUC=(train=0.991, test=0.816), Accuracy=(train=0.985, test=0.946), F1=(train=0.985, test=0.946), total=  48.6s\n",
            "[CV] learning_rate=0.1, n_estimators=700 .............................\n",
            "[CV]  learning_rate=0.1, n_estimators=700, AUC=(train=0.983, test=0.991), Accuracy=(train=0.981, test=0.985), F1=(train=0.981, test=0.985), total=  49.6s\n",
            "[CV] learning_rate=0.1, n_estimators=700 .............................\n",
            "[CV]  learning_rate=0.1, n_estimators=700, AUC=(train=0.985, test=0.982), Accuracy=(train=0.982, test=0.965), F1=(train=0.982, test=0.965), total=  48.8s\n",
            "[CV] learning_rate=0.1, n_estimators=700 .............................\n",
            "[CV]  learning_rate=0.1, n_estimators=700, AUC=(train=0.984, test=0.983), Accuracy=(train=0.981, test=0.947), F1=(train=0.981, test=0.947), total=  49.3s\n",
            "[CV] learning_rate=0.1, n_estimators=700 .............................\n",
            "[CV]  learning_rate=0.1, n_estimators=700, AUC=(train=0.983, test=0.991), Accuracy=(train=0.981, test=0.978), F1=(train=0.981, test=0.978), total=  50.3s\n",
            "[CV] learning_rate=0.1, n_estimators=700 .............................\n",
            "[CV]  learning_rate=0.1, n_estimators=700, AUC=(train=0.985, test=0.967), Accuracy=(train=0.981, test=0.928), F1=(train=0.981, test=0.928), total=  51.6s\n",
            "[CV] learning_rate=0.1, n_estimators=700 .............................\n",
            "[CV]  learning_rate=0.1, n_estimators=700, AUC=(train=0.983, test=0.990), Accuracy=(train=0.980, test=0.983), F1=(train=0.980, test=0.983), total=  53.7s\n",
            "[CV] learning_rate=0.1, n_estimators=700 .............................\n",
            "[CV]  learning_rate=0.1, n_estimators=700, AUC=(train=0.985, test=0.744), Accuracy=(train=0.982, test=0.129), F1=(train=0.982, test=0.129), total=  53.0s\n",
            "[CV] learning_rate=0.1, n_estimators=1000 ............................\n",
            "[CV]  learning_rate=0.1, n_estimators=1000, AUC=(train=0.994, test=0.576), Accuracy=(train=0.989, test=0.833), F1=(train=0.989, test=0.833), total= 1.3min\n",
            "[CV] learning_rate=0.1, n_estimators=1000 ............................\n",
            "[CV]  learning_rate=0.1, n_estimators=1000, AUC=(train=0.994, test=0.601), Accuracy=(train=0.990, test=0.846), F1=(train=0.990, test=0.846), total= 1.3min\n",
            "[CV] learning_rate=0.1, n_estimators=1000 ............................\n",
            "[CV]  learning_rate=0.1, n_estimators=1000, AUC=(train=0.994, test=0.756), Accuracy=(train=0.988, test=0.940), F1=(train=0.988, test=0.940), total= 1.3min\n",
            "[CV] learning_rate=0.1, n_estimators=1000 ............................\n",
            "[CV]  learning_rate=0.1, n_estimators=1000, AUC=(train=0.988, test=0.990), Accuracy=(train=0.985, test=0.978), F1=(train=0.985, test=0.978), total= 1.2min\n",
            "[CV] learning_rate=0.1, n_estimators=1000 ............................\n",
            "[CV]  learning_rate=0.1, n_estimators=1000, AUC=(train=0.989, test=0.976), Accuracy=(train=0.985, test=0.940), F1=(train=0.985, test=0.940), total= 1.2min\n",
            "[CV] learning_rate=0.1, n_estimators=1000 ............................\n",
            "[CV]  learning_rate=0.1, n_estimators=1000, AUC=(train=0.988, test=0.982), Accuracy=(train=0.985, test=0.934), F1=(train=0.985, test=0.934), total= 1.2min\n",
            "[CV] learning_rate=0.1, n_estimators=1000 ............................\n",
            "[CV]  learning_rate=0.1, n_estimators=1000, AUC=(train=0.988, test=0.991), Accuracy=(train=0.985, test=0.974), F1=(train=0.985, test=0.974), total= 1.2min\n",
            "[CV] learning_rate=0.1, n_estimators=1000 ............................\n",
            "[CV]  learning_rate=0.1, n_estimators=1000, AUC=(train=0.989, test=0.969), Accuracy=(train=0.985, test=0.924), F1=(train=0.985, test=0.924), total= 1.2min\n",
            "[CV] learning_rate=0.1, n_estimators=1000 ............................\n",
            "[CV]  learning_rate=0.1, n_estimators=1000, AUC=(train=0.988, test=0.988), Accuracy=(train=0.984, test=0.972), F1=(train=0.984, test=0.972), total= 1.2min\n",
            "[CV] learning_rate=0.1, n_estimators=1000 ............................\n",
            "[CV]  learning_rate=0.1, n_estimators=1000, AUC=(train=0.989, test=0.782), Accuracy=(train=0.986, test=0.133), F1=(train=0.986, test=0.133), total= 1.1min\n",
            "[CV] learning_rate=0.1, n_estimators=1500 ............................\n",
            "[CV]  learning_rate=0.1, n_estimators=1500, AUC=(train=0.997, test=0.585), Accuracy=(train=0.992, test=0.833), F1=(train=0.992, test=0.833), total= 1.8min\n",
            "[CV] learning_rate=0.1, n_estimators=1500 ............................\n",
            "[CV]  learning_rate=0.1, n_estimators=1500, AUC=(train=0.997, test=0.549), Accuracy=(train=0.993, test=0.774), F1=(train=0.993, test=0.774), total= 1.8min\n",
            "[CV] learning_rate=0.1, n_estimators=1500 ............................\n",
            "[CV]  learning_rate=0.1, n_estimators=1500, AUC=(train=0.996, test=0.722), Accuracy=(train=0.992, test=0.927), F1=(train=0.992, test=0.927), total= 1.7min\n",
            "[CV] learning_rate=0.1, n_estimators=1500 ............................\n",
            "[CV]  learning_rate=0.1, n_estimators=1500, AUC=(train=0.992, test=0.990), Accuracy=(train=0.989, test=0.956), F1=(train=0.989, test=0.956), total= 1.8min\n",
            "[CV] learning_rate=0.1, n_estimators=1500 ............................\n",
            "[CV]  learning_rate=0.1, n_estimators=1500, AUC=(train=0.993, test=0.971), Accuracy=(train=0.989, test=0.891), F1=(train=0.989, test=0.891), total= 1.7min\n",
            "[CV] learning_rate=0.1, n_estimators=1500 ............................\n",
            "[CV]  learning_rate=0.1, n_estimators=1500, AUC=(train=0.993, test=0.979), Accuracy=(train=0.988, test=0.912), F1=(train=0.988, test=0.912), total= 1.7min\n",
            "[CV] learning_rate=0.1, n_estimators=1500 ............................\n",
            "[CV]  learning_rate=0.1, n_estimators=1500, AUC=(train=0.993, test=0.989), Accuracy=(train=0.988, test=0.955), F1=(train=0.988, test=0.955), total= 1.8min\n",
            "[CV] learning_rate=0.1, n_estimators=1500 ............................\n",
            "[CV]  learning_rate=0.1, n_estimators=1500, AUC=(train=0.993, test=0.970), Accuracy=(train=0.989, test=0.900), F1=(train=0.989, test=0.900), total= 1.8min\n",
            "[CV] learning_rate=0.1, n_estimators=1500 ............................\n",
            "[CV]  learning_rate=0.1, n_estimators=1500, AUC=(train=0.992, test=0.988), Accuracy=(train=0.988, test=0.956), F1=(train=0.988, test=0.956), total= 1.7min\n",
            "[CV] learning_rate=0.1, n_estimators=1500 ............................\n",
            "[CV]  learning_rate=0.1, n_estimators=1500, AUC=(train=0.993, test=0.813), Accuracy=(train=0.989, test=0.134), F1=(train=0.989, test=0.134), total= 1.8min\n",
            "[CV] learning_rate=1, n_estimators=200 ...............................\n",
            "[CV]  learning_rate=1, n_estimators=200, AUC=(train=0.855, test=0.312), Accuracy=(train=0.946, test=0.097), F1=(train=0.946, test=0.097), total=  14.5s\n",
            "[CV] learning_rate=1, n_estimators=200 ...............................\n",
            "[CV]  learning_rate=1, n_estimators=200, AUC=(train=0.994, test=0.518), Accuracy=(train=0.992, test=0.728), F1=(train=0.992, test=0.728), total=  16.8s\n",
            "[CV] learning_rate=1, n_estimators=200 ...............................\n",
            "[CV]  learning_rate=1, n_estimators=200, AUC=(train=0.992, test=0.677), Accuracy=(train=0.990, test=0.901), F1=(train=0.990, test=0.901), total=  17.0s\n",
            "[CV] learning_rate=1, n_estimators=200 ...............................\n",
            "[CV]  learning_rate=1, n_estimators=200, AUC=(train=0.984, test=0.920), Accuracy=(train=0.986, test=0.872), F1=(train=0.986, test=0.872), total=  16.3s\n",
            "[CV] learning_rate=1, n_estimators=200 ...............................\n",
            "[CV]  learning_rate=1, n_estimators=200, AUC=(train=0.987, test=0.891), Accuracy=(train=0.987, test=0.836), F1=(train=0.987, test=0.836), total=  14.4s\n",
            "[CV] learning_rate=1, n_estimators=200 ...............................\n",
            "[CV]  learning_rate=1, n_estimators=200, AUC=(train=0.986, test=0.911), Accuracy=(train=0.987, test=0.715), F1=(train=0.987, test=0.715), total=  15.9s\n",
            "[CV] learning_rate=1, n_estimators=200 ...............................\n",
            "[CV]  learning_rate=1, n_estimators=200, AUC=(train=0.984, test=0.895), Accuracy=(train=0.986, test=0.873), F1=(train=0.986, test=0.873), total=  16.7s\n",
            "[CV] learning_rate=1, n_estimators=200 ...............................\n",
            "[CV]  learning_rate=1, n_estimators=200, AUC=(train=0.989, test=0.894), Accuracy=(train=0.988, test=0.739), F1=(train=0.988, test=0.739), total=  17.2s\n",
            "[CV] learning_rate=1, n_estimators=200 ...............................\n",
            "[CV]  learning_rate=1, n_estimators=200, AUC=(train=0.987, test=0.977), Accuracy=(train=0.987, test=0.891), F1=(train=0.987, test=0.891), total=  15.5s\n",
            "[CV] learning_rate=1, n_estimators=200 ...............................\n",
            "[CV]  learning_rate=1, n_estimators=200, AUC=(train=0.983, test=0.685), Accuracy=(train=0.985, test=0.144), F1=(train=0.985, test=0.144), total=  14.4s\n",
            "[CV] learning_rate=1, n_estimators=300 ...............................\n",
            "[CV]  learning_rate=1, n_estimators=300, AUC=(train=0.840, test=0.327), Accuracy=(train=0.944, test=0.105), F1=(train=0.944, test=0.105), total=  21.1s\n",
            "[CV] learning_rate=1, n_estimators=300 ...............................\n",
            "[CV]  learning_rate=1, n_estimators=300, AUC=(train=0.992, test=0.511), Accuracy=(train=0.991, test=0.709), F1=(train=0.991, test=0.709), total=  21.0s\n",
            "[CV] learning_rate=1, n_estimators=300 ...............................\n",
            "[CV]  learning_rate=1, n_estimators=300, AUC=(train=0.996, test=0.571), Accuracy=(train=0.993, test=0.714), F1=(train=0.993, test=0.714), total=  27.3s\n",
            "[CV] learning_rate=1, n_estimators=300 ...............................\n",
            "[CV]  learning_rate=1, n_estimators=300, AUC=(train=0.988, test=0.874), Accuracy=(train=0.989, test=0.820), F1=(train=0.989, test=0.820), total=  22.4s\n",
            "[CV] learning_rate=1, n_estimators=300 ...............................\n",
            "[CV]  learning_rate=1, n_estimators=300, AUC=(train=0.992, test=0.890), Accuracy=(train=0.990, test=0.801), F1=(train=0.990, test=0.801), total=  20.7s\n",
            "[CV] learning_rate=1, n_estimators=300 ...............................\n",
            "[CV]  learning_rate=1, n_estimators=300, AUC=(train=0.987, test=0.920), Accuracy=(train=0.988, test=0.748), F1=(train=0.988, test=0.748), total=  20.1s\n",
            "[CV] learning_rate=1, n_estimators=300 ...............................\n",
            "[CV]  learning_rate=1, n_estimators=300, AUC=(train=0.983, test=0.889), Accuracy=(train=0.985, test=0.859), F1=(train=0.985, test=0.859), total=  22.4s\n",
            "[CV] learning_rate=1, n_estimators=300 ...............................\n",
            "[CV]  learning_rate=1, n_estimators=300, AUC=(train=0.988, test=0.889), Accuracy=(train=0.988, test=0.737), F1=(train=0.988, test=0.737), total=  21.2s\n",
            "[CV] learning_rate=1, n_estimators=300 ...............................\n",
            "[CV]  learning_rate=1, n_estimators=300, AUC=(train=0.990, test=0.978), Accuracy=(train=0.989, test=0.887), F1=(train=0.989, test=0.887), total=  21.4s\n",
            "[CV] learning_rate=1, n_estimators=300 ...............................\n",
            "[CV]  learning_rate=1, n_estimators=300, AUC=(train=0.979, test=0.648), Accuracy=(train=0.984, test=0.160), F1=(train=0.984, test=0.160), total=  21.3s\n",
            "[CV] learning_rate=1, n_estimators=500 ...............................\n",
            "[CV]  learning_rate=1, n_estimators=500, AUC=(train=0.840, test=0.362), Accuracy=(train=0.941, test=0.123), F1=(train=0.941, test=0.123), total=  35.2s\n",
            "[CV] learning_rate=1, n_estimators=500 ...............................\n",
            "[CV]  learning_rate=1, n_estimators=500, AUC=(train=0.986, test=0.491), Accuracy=(train=0.989, test=0.719), F1=(train=0.989, test=0.719), total=  34.0s\n",
            "[CV] learning_rate=1, n_estimators=500 ...............................\n",
            "[CV]  learning_rate=1, n_estimators=500, AUC=(train=0.920, test=0.530), Accuracy=(train=0.978, test=0.723), F1=(train=0.978, test=0.723), total=  35.1s\n",
            "[CV] learning_rate=1, n_estimators=500 ...............................\n",
            "[CV]  learning_rate=1, n_estimators=500, AUC=(train=0.984, test=0.869), Accuracy=(train=0.988, test=0.796), F1=(train=0.988, test=0.796), total=  34.2s\n",
            "[CV] learning_rate=1, n_estimators=500 ...............................\n",
            "[CV]  learning_rate=1, n_estimators=500, AUC=(train=0.970, test=0.866), Accuracy=(train=0.984, test=0.784), F1=(train=0.984, test=0.784), total=  33.7s\n",
            "[CV] learning_rate=1, n_estimators=500 ...............................\n",
            "[CV]  learning_rate=1, n_estimators=500, AUC=(train=0.978, test=0.919), Accuracy=(train=0.985, test=0.759), F1=(train=0.985, test=0.759), total=  35.7s\n",
            "[CV] learning_rate=1, n_estimators=500 ...............................\n",
            "[CV]  learning_rate=1, n_estimators=500, AUC=(train=0.968, test=0.883), Accuracy=(train=0.980, test=0.853), F1=(train=0.980, test=0.853), total=  33.0s\n",
            "[CV] learning_rate=1, n_estimators=500 ...............................\n",
            "[CV]  learning_rate=1, n_estimators=500, AUC=(train=0.973, test=0.880), Accuracy=(train=0.983, test=0.745), F1=(train=0.983, test=0.745), total=  35.7s\n",
            "[CV] learning_rate=1, n_estimators=500 ...............................\n",
            "[CV]  learning_rate=1, n_estimators=500, AUC=(train=0.983, test=0.965), Accuracy=(train=0.987, test=0.844), F1=(train=0.987, test=0.844), total=  34.3s\n",
            "[CV] learning_rate=1, n_estimators=500 ...............................\n",
            "[CV]  learning_rate=1, n_estimators=500, AUC=(train=0.971, test=0.639), Accuracy=(train=0.983, test=0.162), F1=(train=0.983, test=0.162), total=  33.2s\n",
            "[CV] learning_rate=1, n_estimators=700 ...............................\n",
            "[CV]  learning_rate=1, n_estimators=700, AUC=(train=0.834, test=0.374), Accuracy=(train=0.940, test=0.152), F1=(train=0.940, test=0.152), total=  47.0s\n",
            "[CV] learning_rate=1, n_estimators=700 ...............................\n",
            "[CV]  learning_rate=1, n_estimators=700, AUC=(train=0.985, test=0.504), Accuracy=(train=0.989, test=0.721), F1=(train=0.989, test=0.721), total=  46.4s\n",
            "[CV] learning_rate=1, n_estimators=700 ...............................\n",
            "[CV]  learning_rate=1, n_estimators=700, AUC=(train=0.835, test=0.513), Accuracy=(train=0.966, test=0.738), F1=(train=0.966, test=0.738), total=  49.4s\n",
            "[CV] learning_rate=1, n_estimators=700 ...............................\n",
            "[CV]  learning_rate=1, n_estimators=700, AUC=(train=0.957, test=0.861), Accuracy=(train=0.981, test=0.807), F1=(train=0.981, test=0.807), total=  46.6s\n",
            "[CV] learning_rate=1, n_estimators=700 ...............................\n",
            "[CV]  learning_rate=1, n_estimators=700, AUC=(train=0.886, test=0.834), Accuracy=(train=0.967, test=0.823), F1=(train=0.967, test=0.823), total=  46.5s\n",
            "[CV] learning_rate=1, n_estimators=700 ...............................\n",
            "[CV]  learning_rate=1, n_estimators=700, AUC=(train=0.975, test=0.921), Accuracy=(train=0.985, test=0.764), F1=(train=0.985, test=0.764), total=  47.3s\n",
            "[CV] learning_rate=1, n_estimators=700 ...............................\n",
            "[CV]  learning_rate=1, n_estimators=700, AUC=(train=0.966, test=0.886), Accuracy=(train=0.981, test=0.857), F1=(train=0.981, test=0.857), total=  49.4s\n",
            "[CV] learning_rate=1, n_estimators=700 ...............................\n",
            "[CV]  learning_rate=1, n_estimators=700, AUC=(train=0.958, test=0.878), Accuracy=(train=0.980, test=0.743), F1=(train=0.980, test=0.743), total=  47.7s\n",
            "[CV] learning_rate=1, n_estimators=700 ...............................\n",
            "[CV]  learning_rate=1, n_estimators=700, AUC=(train=0.916, test=0.919), Accuracy=(train=0.969, test=0.856), F1=(train=0.969, test=0.856), total=  48.1s\n",
            "[CV] learning_rate=1, n_estimators=700 ...............................\n",
            "[CV]  learning_rate=1, n_estimators=700, AUC=(train=0.976, test=0.648), Accuracy=(train=0.983, test=0.169), F1=(train=0.983, test=0.169), total=  45.3s\n",
            "[CV] learning_rate=1, n_estimators=1000 ..............................\n",
            "[CV]  learning_rate=1, n_estimators=1000, AUC=(train=0.826, test=0.345), Accuracy=(train=0.941, test=0.145), F1=(train=0.941, test=0.145), total= 1.1min\n",
            "[CV] learning_rate=1, n_estimators=1000 ..............................\n",
            "[CV]  learning_rate=1, n_estimators=1000, AUC=(train=0.974, test=0.495), Accuracy=(train=0.985, test=0.724), F1=(train=0.985, test=0.724), total= 1.1min\n",
            "[CV] learning_rate=1, n_estimators=1000 ..............................\n",
            "[CV]  learning_rate=1, n_estimators=1000, AUC=(train=0.752, test=0.450), Accuracy=(train=0.943, test=0.775), F1=(train=0.943, test=0.775), total= 1.1min\n",
            "[CV] learning_rate=1, n_estimators=1000 ..............................\n",
            "[CV]  learning_rate=1, n_estimators=1000, AUC=(train=0.809, test=0.759), Accuracy=(train=0.955, test=0.790), F1=(train=0.955, test=0.790), total= 1.1min\n",
            "[CV] learning_rate=1, n_estimators=1000 ..............................\n",
            "[CV]  learning_rate=1, n_estimators=1000, AUC=(train=0.687, test=0.701), Accuracy=(train=0.913, test=0.860), F1=(train=0.913, test=0.860), total= 1.1min\n",
            "[CV] learning_rate=1, n_estimators=1000 ..............................\n",
            "[CV]  learning_rate=1, n_estimators=1000, AUC=(train=0.945, test=0.898), Accuracy=(train=0.974, test=0.789), F1=(train=0.974, test=0.789), total= 1.1min\n",
            "[CV] learning_rate=1, n_estimators=1000 ..............................\n",
            "[CV]  learning_rate=1, n_estimators=1000, AUC=(train=0.945, test=0.885), Accuracy=(train=0.976, test=0.856), F1=(train=0.976, test=0.856), total= 1.1min\n",
            "[CV] learning_rate=1, n_estimators=1000 ..............................\n",
            "[CV]  learning_rate=1, n_estimators=1000, AUC=(train=0.937, test=0.871), Accuracy=(train=0.977, test=0.750), F1=(train=0.977, test=0.750), total= 1.1min\n",
            "[CV] learning_rate=1, n_estimators=1000 ..............................\n",
            "[CV]  learning_rate=1, n_estimators=1000, AUC=(train=0.775, test=0.797), Accuracy=(train=0.931, test=0.880), F1=(train=0.931, test=0.880), total= 1.1min\n",
            "[CV] learning_rate=1, n_estimators=1000 ..............................\n",
            "[CV]  learning_rate=1, n_estimators=1000, AUC=(train=0.933, test=0.377), Accuracy=(train=0.975, test=0.150), F1=(train=0.975, test=0.150), total= 1.1min\n",
            "[CV] learning_rate=1, n_estimators=1500 ..............................\n",
            "[CV]  learning_rate=1, n_estimators=1500, AUC=(train=0.750, test=0.282), Accuracy=(train=0.911, test=0.104), F1=(train=0.911, test=0.104), total= 1.7min\n",
            "[CV] learning_rate=1, n_estimators=1500 ..............................\n",
            "[CV]  learning_rate=1, n_estimators=1500, AUC=(train=0.944, test=0.502), Accuracy=(train=0.980, test=0.737), F1=(train=0.980, test=0.737), total= 1.7min\n",
            "[CV] learning_rate=1, n_estimators=1500 ..............................\n",
            "[CV]  learning_rate=1, n_estimators=1500, AUC=(train=0.734, test=0.478), Accuracy=(train=0.940, test=0.870), F1=(train=0.940, test=0.870), total= 1.8min\n",
            "[CV] learning_rate=1, n_estimators=1500 ..............................\n",
            "[CV]  learning_rate=1, n_estimators=1500, AUC=(train=0.771, test=0.713), Accuracy=(train=0.948, test=0.790), F1=(train=0.948, test=0.790), total= 1.7min\n",
            "[CV] learning_rate=1, n_estimators=1500 ..............................\n",
            "[CV]  learning_rate=1, n_estimators=1500, AUC=(train=0.616, test=0.604), Accuracy=(train=0.452, test=0.459), F1=(train=0.452, test=0.459), total= 1.7min\n",
            "[CV] learning_rate=1, n_estimators=1500 ..............................\n",
            "[CV]  learning_rate=1, n_estimators=1500, AUC=(train=0.872, test=0.858), Accuracy=(train=0.962, test=0.817), F1=(train=0.962, test=0.817), total= 1.7min\n",
            "[CV] learning_rate=1, n_estimators=1500 ..............................\n",
            "[CV]  learning_rate=1, n_estimators=1500, AUC=(train=0.910, test=0.874), Accuracy=(train=0.968, test=0.860), F1=(train=0.968, test=0.860), total= 1.7min\n",
            "[CV] learning_rate=1, n_estimators=1500 ..............................\n",
            "[CV]  learning_rate=1, n_estimators=1500, AUC=(train=0.854, test=0.818), Accuracy=(train=0.956, test=0.777), F1=(train=0.956, test=0.777), total= 1.7min\n",
            "[CV] learning_rate=1, n_estimators=1500 ..............................\n",
            "[CV]  learning_rate=1, n_estimators=1500, AUC=(train=0.699, test=0.733), Accuracy=(train=0.918, test=0.913), F1=(train=0.918, test=0.913), total= 1.7min\n",
            "[CV] learning_rate=1, n_estimators=1500 ..............................\n",
            "[CV]  learning_rate=1, n_estimators=1500, AUC=(train=0.913, test=0.265), Accuracy=(train=0.973, test=0.125), F1=(train=0.973, test=0.125), total= 1.7min\n",
            "[CV] learning_rate=1.5, n_estimators=200 .............................\n",
            "[CV]  learning_rate=1.5, n_estimators=200, AUC=(train=0.736, test=0.302), Accuracy=(train=0.911, test=0.103), F1=(train=0.911, test=0.103), total=  14.0s\n",
            "[CV] learning_rate=1.5, n_estimators=200 .............................\n",
            "[CV]  learning_rate=1.5, n_estimators=200, AUC=(train=0.842, test=0.359), Accuracy=(train=0.956, test=0.342), F1=(train=0.956, test=0.342), total=  13.9s\n",
            "[CV] learning_rate=1.5, n_estimators=200 .............................\n",
            "[CV]  learning_rate=1.5, n_estimators=200, AUC=(train=0.749, test=0.675), Accuracy=(train=0.858, test=0.831), F1=(train=0.858, test=0.831), total=  14.5s\n",
            "[CV] learning_rate=1.5, n_estimators=200 .............................\n",
            "[CV]  learning_rate=1.5, n_estimators=200, AUC=(train=0.612, test=0.624), Accuracy=(train=0.883, test=0.892), F1=(train=0.883, test=0.892), total=  14.2s\n",
            "[CV] learning_rate=1.5, n_estimators=200 .............................\n",
            "[CV]  learning_rate=1.5, n_estimators=200, AUC=(train=0.730, test=0.709), Accuracy=(train=0.926, test=0.831), F1=(train=0.926, test=0.831), total=  13.5s\n",
            "[CV] learning_rate=1.5, n_estimators=200 .............................\n",
            "[CV]  learning_rate=1.5, n_estimators=200, AUC=(train=0.586, test=0.579), Accuracy=(train=0.891, test=0.876), F1=(train=0.891, test=0.876), total=  13.6s\n",
            "[CV] learning_rate=1.5, n_estimators=200 .............................\n",
            "[CV]  learning_rate=1.5, n_estimators=200, AUC=(train=0.655, test=0.634), Accuracy=(train=0.749, test=0.746), F1=(train=0.749, test=0.746), total=  13.6s\n",
            "[CV] learning_rate=1.5, n_estimators=200 .............................\n",
            "[CV]  learning_rate=1.5, n_estimators=200, AUC=(train=0.949, test=0.879), Accuracy=(train=0.973, test=0.709), F1=(train=0.973, test=0.709), total=  13.8s\n",
            "[CV] learning_rate=1.5, n_estimators=200 .............................\n",
            "[CV]  learning_rate=1.5, n_estimators=200, AUC=(train=0.964, test=0.963), Accuracy=(train=0.979, test=0.846), F1=(train=0.979, test=0.846), total=  13.7s\n",
            "[CV] learning_rate=1.5, n_estimators=200 .............................\n",
            "[CV]  learning_rate=1.5, n_estimators=200, AUC=(train=0.647, test=0.440), Accuracy=(train=0.909, test=0.333), F1=(train=0.909, test=0.333), total=  15.2s\n",
            "[CV] learning_rate=1.5, n_estimators=300 .............................\n",
            "[CV]  learning_rate=1.5, n_estimators=300, AUC=(train=0.598, test=0.341), Accuracy=(train=0.372, test=0.249), F1=(train=0.372, test=0.249), total=  21.1s\n",
            "[CV] learning_rate=1.5, n_estimators=300 .............................\n",
            "[CV]  learning_rate=1.5, n_estimators=300, AUC=(train=0.749, test=0.372), Accuracy=(train=0.941, test=0.417), F1=(train=0.941, test=0.417), total=  20.5s\n",
            "[CV] learning_rate=1.5, n_estimators=300 .............................\n",
            "[CV]  learning_rate=1.5, n_estimators=300, AUC=(train=0.417, test=0.423), Accuracy=(train=0.280, test=0.289), F1=(train=0.280, test=0.289), total=  20.6s\n",
            "[CV] learning_rate=1.5, n_estimators=300 .............................\n",
            "[CV]  learning_rate=1.5, n_estimators=300, AUC=(train=0.612, test=0.624), Accuracy=(train=0.883, test=0.892), F1=(train=0.883, test=0.892), total=  20.8s\n",
            "[CV] learning_rate=1.5, n_estimators=300 .............................\n",
            "[CV]  learning_rate=1.5, n_estimators=300, AUC=(train=0.546, test=0.557), Accuracy=(train=0.891, test=0.887), F1=(train=0.891, test=0.887), total=  20.8s\n",
            "[CV] learning_rate=1.5, n_estimators=300 .............................\n",
            "[CV]  learning_rate=1.5, n_estimators=300, AUC=(train=0.471, test=0.450), Accuracy=(train=0.807, test=0.766), F1=(train=0.807, test=0.766), total=  21.4s\n",
            "[CV] learning_rate=1.5, n_estimators=300 .............................\n",
            "[CV]  learning_rate=1.5, n_estimators=300, AUC=(train=0.655, test=0.634), Accuracy=(train=0.749, test=0.746), F1=(train=0.749, test=0.746), total=  21.4s\n",
            "[CV] learning_rate=1.5, n_estimators=300 .............................\n",
            "[CV]  learning_rate=1.5, n_estimators=300, AUC=(train=0.913, test=0.852), Accuracy=(train=0.969, test=0.670), F1=(train=0.969, test=0.670), total=  21.4s\n",
            "[CV] learning_rate=1.5, n_estimators=300 .............................\n",
            "[CV]  learning_rate=1.5, n_estimators=300, AUC=(train=0.958, test=0.956), Accuracy=(train=0.976, test=0.856), F1=(train=0.976, test=0.856), total=  20.6s\n",
            "[CV] learning_rate=1.5, n_estimators=300 .............................\n",
            "[CV]  learning_rate=1.5, n_estimators=300, AUC=(train=0.620, test=0.652), Accuracy=(train=0.527, test=0.552), F1=(train=0.527, test=0.552), total=  21.0s\n",
            "[CV] learning_rate=1.5, n_estimators=500 .............................\n",
            "[CV]  learning_rate=1.5, n_estimators=500, AUC=(train=0.598, test=0.341), Accuracy=(train=0.372, test=0.249), F1=(train=0.372, test=0.249), total=  35.8s\n",
            "[CV] learning_rate=1.5, n_estimators=500 .............................\n",
            "[CV]  learning_rate=1.5, n_estimators=500, AUC=(train=0.737, test=0.385), Accuracy=(train=0.940, test=0.496), F1=(train=0.940, test=0.496), total=  35.2s\n",
            "[CV] learning_rate=1.5, n_estimators=500 .............................\n",
            "[CV]  learning_rate=1.5, n_estimators=500, AUC=(train=0.417, test=0.423), Accuracy=(train=0.280, test=0.289), F1=(train=0.280, test=0.289), total=  34.3s\n",
            "[CV] learning_rate=1.5, n_estimators=500 .............................\n",
            "[CV]  learning_rate=1.5, n_estimators=500, AUC=(train=0.612, test=0.624), Accuracy=(train=0.883, test=0.892), F1=(train=0.883, test=0.892), total=  33.2s\n",
            "[CV] learning_rate=1.5, n_estimators=500 .............................\n",
            "[CV]  learning_rate=1.5, n_estimators=500, AUC=(train=0.546, test=0.557), Accuracy=(train=0.891, test=0.887), F1=(train=0.891, test=0.887), total=  34.5s\n",
            "[CV] learning_rate=1.5, n_estimators=500 .............................\n",
            "[CV]  learning_rate=1.5, n_estimators=500, AUC=(train=0.471, test=0.450), Accuracy=(train=0.807, test=0.766), F1=(train=0.807, test=0.766), total=  34.4s\n",
            "[CV] learning_rate=1.5, n_estimators=500 .............................\n",
            "[CV]  learning_rate=1.5, n_estimators=500, AUC=(train=0.655, test=0.634), Accuracy=(train=0.749, test=0.746), F1=(train=0.749, test=0.746), total=  35.6s\n",
            "[CV] learning_rate=1.5, n_estimators=500 .............................\n",
            "[CV]  learning_rate=1.5, n_estimators=500, AUC=(train=0.894, test=0.850), Accuracy=(train=0.966, test=0.684), F1=(train=0.966, test=0.684), total=  35.3s\n",
            "[CV] learning_rate=1.5, n_estimators=500 .............................\n",
            "[CV]  learning_rate=1.5, n_estimators=500, AUC=(train=0.954, test=0.957), Accuracy=(train=0.975, test=0.859), F1=(train=0.975, test=0.859), total=  35.7s\n",
            "[CV] learning_rate=1.5, n_estimators=500 .............................\n",
            "[CV]  learning_rate=1.5, n_estimators=500, AUC=(train=0.620, test=0.652), Accuracy=(train=0.527, test=0.552), F1=(train=0.527, test=0.552), total=  37.2s\n",
            "[CV] learning_rate=1.5, n_estimators=700 .............................\n",
            "[CV]  learning_rate=1.5, n_estimators=700, AUC=(train=0.598, test=0.341), Accuracy=(train=0.372, test=0.249), F1=(train=0.372, test=0.249), total=  53.2s\n",
            "[CV] learning_rate=1.5, n_estimators=700 .............................\n",
            "[CV]  learning_rate=1.5, n_estimators=700, AUC=(train=0.587, test=0.435), Accuracy=(train=0.907, test=0.879), F1=(train=0.907, test=0.879), total=  50.6s\n",
            "[CV] learning_rate=1.5, n_estimators=700 .............................\n",
            "[CV]  learning_rate=1.5, n_estimators=700, AUC=(train=0.417, test=0.423), Accuracy=(train=0.280, test=0.289), F1=(train=0.280, test=0.289), total=  48.9s\n",
            "[CV] learning_rate=1.5, n_estimators=700 .............................\n",
            "[CV]  learning_rate=1.5, n_estimators=700, AUC=(train=0.612, test=0.624), Accuracy=(train=0.883, test=0.892), F1=(train=0.883, test=0.892), total=  48.8s\n",
            "[CV] learning_rate=1.5, n_estimators=700 .............................\n",
            "[CV]  learning_rate=1.5, n_estimators=700, AUC=(train=0.546, test=0.557), Accuracy=(train=0.891, test=0.887), F1=(train=0.891, test=0.887), total=  50.7s\n",
            "[CV] learning_rate=1.5, n_estimators=700 .............................\n",
            "[CV]  learning_rate=1.5, n_estimators=700, AUC=(train=0.471, test=0.450), Accuracy=(train=0.807, test=0.766), F1=(train=0.807, test=0.766), total=  50.3s\n",
            "[CV] learning_rate=1.5, n_estimators=700 .............................\n",
            "[CV]  learning_rate=1.5, n_estimators=700, AUC=(train=0.655, test=0.634), Accuracy=(train=0.749, test=0.746), F1=(train=0.749, test=0.746), total=  53.8s\n",
            "[CV] learning_rate=1.5, n_estimators=700 .............................\n",
            "[CV]  learning_rate=1.5, n_estimators=700, AUC=(train=0.865, test=0.831), Accuracy=(train=0.961, test=0.691), F1=(train=0.961, test=0.691), total=  47.1s\n",
            "[CV] learning_rate=1.5, n_estimators=700 .............................\n",
            "[CV]  learning_rate=1.5, n_estimators=700, AUC=(train=0.725, test=0.730), Accuracy=(train=0.942, test=0.863), F1=(train=0.942, test=0.863), total=  47.1s\n",
            "[CV] learning_rate=1.5, n_estimators=700 .............................\n",
            "[CV]  learning_rate=1.5, n_estimators=700, AUC=(train=0.620, test=0.652), Accuracy=(train=0.527, test=0.552), F1=(train=0.527, test=0.552), total=  52.8s\n",
            "[CV] learning_rate=1.5, n_estimators=1000 ............................\n",
            "[CV]  learning_rate=1.5, n_estimators=1000, AUC=(train=0.598, test=0.341), Accuracy=(train=0.372, test=0.249), F1=(train=0.372, test=0.249), total= 1.2min\n",
            "[CV] learning_rate=1.5, n_estimators=1000 ............................\n",
            "[CV]  learning_rate=1.5, n_estimators=1000, AUC=(train=0.578, test=0.540), Accuracy=(train=0.882, test=0.872), F1=(train=0.882, test=0.872), total= 1.1min\n",
            "[CV] learning_rate=1.5, n_estimators=1000 ............................\n",
            "[CV]  learning_rate=1.5, n_estimators=1000, AUC=(train=0.417, test=0.423), Accuracy=(train=0.280, test=0.289), F1=(train=0.280, test=0.289), total= 1.2min\n",
            "[CV] learning_rate=1.5, n_estimators=1000 ............................\n",
            "[CV]  learning_rate=1.5, n_estimators=1000, AUC=(train=0.612, test=0.624), Accuracy=(train=0.883, test=0.892), F1=(train=0.883, test=0.892), total= 1.2min\n",
            "[CV] learning_rate=1.5, n_estimators=1000 ............................\n",
            "[CV]  learning_rate=1.5, n_estimators=1000, AUC=(train=0.546, test=0.557), Accuracy=(train=0.891, test=0.887), F1=(train=0.891, test=0.887), total= 1.1min\n",
            "[CV] learning_rate=1.5, n_estimators=1000 ............................\n",
            "[CV]  learning_rate=1.5, n_estimators=1000, AUC=(train=0.471, test=0.450), Accuracy=(train=0.807, test=0.766), F1=(train=0.807, test=0.766), total= 1.2min\n",
            "[CV] learning_rate=1.5, n_estimators=1000 ............................\n",
            "[CV]  learning_rate=1.5, n_estimators=1000, AUC=(train=0.655, test=0.634), Accuracy=(train=0.749, test=0.746), F1=(train=0.749, test=0.746), total= 1.2min\n",
            "[CV] learning_rate=1.5, n_estimators=1000 ............................\n",
            "[CV]  learning_rate=1.5, n_estimators=1000, AUC=(train=0.861, test=0.832), Accuracy=(train=0.960, test=0.731), F1=(train=0.960, test=0.731), total= 1.1min\n",
            "[CV] learning_rate=1.5, n_estimators=1000 ............................\n",
            "[CV]  learning_rate=1.5, n_estimators=1000, AUC=(train=0.705, test=0.704), Accuracy=(train=0.935, test=0.908), F1=(train=0.935, test=0.908), total= 1.2min\n",
            "[CV] learning_rate=1.5, n_estimators=1000 ............................\n",
            "[CV]  learning_rate=1.5, n_estimators=1000, AUC=(train=0.620, test=0.652), Accuracy=(train=0.527, test=0.552), F1=(train=0.527, test=0.552), total= 1.2min\n",
            "[CV] learning_rate=1.5, n_estimators=1500 ............................\n",
            "[CV]  learning_rate=1.5, n_estimators=1500, AUC=(train=0.598, test=0.341), Accuracy=(train=0.372, test=0.249), F1=(train=0.372, test=0.249), total= 1.8min\n",
            "[CV] learning_rate=1.5, n_estimators=1500 ............................\n",
            "[CV]  learning_rate=1.5, n_estimators=1500, AUC=(train=0.578, test=0.540), Accuracy=(train=0.882, test=0.872), F1=(train=0.882, test=0.872), total= 1.7min\n",
            "[CV] learning_rate=1.5, n_estimators=1500 ............................\n",
            "[CV]  learning_rate=1.5, n_estimators=1500, AUC=(train=0.417, test=0.423), Accuracy=(train=0.280, test=0.289), F1=(train=0.280, test=0.289), total= 1.7min\n",
            "[CV] learning_rate=1.5, n_estimators=1500 ............................\n",
            "[CV]  learning_rate=1.5, n_estimators=1500, AUC=(train=0.612, test=0.624), Accuracy=(train=0.883, test=0.892), F1=(train=0.883, test=0.892), total= 1.7min\n",
            "[CV] learning_rate=1.5, n_estimators=1500 ............................\n",
            "[CV]  learning_rate=1.5, n_estimators=1500, AUC=(train=0.546, test=0.557), Accuracy=(train=0.891, test=0.887), F1=(train=0.891, test=0.887), total= 1.7min\n",
            "[CV] learning_rate=1.5, n_estimators=1500 ............................\n",
            "[CV]  learning_rate=1.5, n_estimators=1500, AUC=(train=0.471, test=0.450), Accuracy=(train=0.807, test=0.766), F1=(train=0.807, test=0.766), total= 1.7min\n",
            "[CV] learning_rate=1.5, n_estimators=1500 ............................\n",
            "[CV]  learning_rate=1.5, n_estimators=1500, AUC=(train=0.655, test=0.634), Accuracy=(train=0.749, test=0.746), F1=(train=0.749, test=0.746), total= 1.7min\n",
            "[CV] learning_rate=1.5, n_estimators=1500 ............................\n",
            "[CV]  learning_rate=1.5, n_estimators=1500, AUC=(train=0.828, test=0.801), Accuracy=(train=0.957, test=0.689), F1=(train=0.957, test=0.689), total= 1.6min\n",
            "[CV] learning_rate=1.5, n_estimators=1500 ............................\n",
            "[CV]  learning_rate=1.5, n_estimators=1500, AUC=(train=0.573, test=0.597), Accuracy=(train=0.850, test=0.843), F1=(train=0.850, test=0.843), total= 1.7min\n",
            "[CV] learning_rate=1.5, n_estimators=1500 ............................\n",
            "[CV]  learning_rate=1.5, n_estimators=1500, AUC=(train=0.620, test=0.652), Accuracy=(train=0.527, test=0.552), F1=(train=0.527, test=0.552), total= 1.8min\n"
          ]
        },
        {
          "name": "stderr",
          "output_type": "stream",
          "text": [
            "[Parallel(n_jobs=1)]: Done 240 out of 240 | elapsed: 218.9min finished\n"
          ]
        },
        {
          "name": "stdout",
          "output_type": "stream",
          "text": [
            "\n",
            " Time taken: 3 hours 39 minutes and 48.82 seconds.\n"
          ]
        }
      ]
    },
    {
      "cell_type": "markdown",
      "metadata": {
        "id": "h7JTfyKEMC1m"
      },
      "source": [
        "With some code you can observe as well, the best parameter and the training score obtained for that dataset."
      ]
    },
    {
      "cell_type": "code",
      "metadata": {
        "colab": {
          "base_uri": "https://localhost:8080/"
        },
        "id": "j-jbZfK3VVr-",
        "outputId": "0cc6a388-4236-436e-800d-05f1c1cda6ab"
      },
      "source": [
        "#gsearch1.grid_scores_,\n",
        "gsearch1.best_params_, gsearch1.best_score_\n"
      ],
      "execution_count": null,
      "outputs": [
        {
          "data": {
            "text/plain": [
              "({'learning_rate': 0.1, 'n_estimators': 700}, 0.8747180761493383)"
            ]
          },
          "execution_count": 26,
          "metadata": {},
          "output_type": "execute_result"
        }
      ]
    },
    {
      "cell_type": "markdown",
      "metadata": {
        "id": "1E-jErbOfyfY"
      },
      "source": [
        "## **B. min_samples_split y min_samples_leaf**"
      ]
    },
    {
      "cell_type": "markdown",
      "metadata": {
        "id": "KYV5rNTTRRiI"
      },
      "source": [
        "According to Scikit-Learn's documentation, `min_samples_split` specifies the minimum number of samples required to split an internal node, while `min_samples_leaf` specifies the minimum number of samples required to be at a leaf node. For that reason, we choose a random range of numbers to evaluate with GBC."
      ]
    },
    {
      "cell_type": "code",
      "metadata": {
        "id": "H-57yj0TVCEx"
      },
      "source": [
        "gbc2 = GradientBoostingClassifier(random_state=10, max_features = 'sqrt', learning_rate=lr, n_estimators=nest)\n",
        "parameters2 = {\n",
        "    'min_samples_split':range(7000,10000,500),\n",
        "    'min_samples_leaf':range(5000,6000,200)\n",
        "}\n",
        "scoring2 = {'AUC': 'roc_auc', 'Accuracy': make_scorer(accuracy_score), 'F1':make_scorer(f1_score, average='micro')}"
      ],
      "execution_count": null,
      "outputs": []
    },
    {
      "cell_type": "code",
      "metadata": {
        "colab": {
          "base_uri": "https://localhost:8080/"
        },
        "id": "qWckIViZGL_O",
        "outputId": "b74ce81b-4739-41f6-d457-fa3f1fd3f601"
      },
      "source": [
        "start_time = timer(None) # timing starts from this point for \"start_time\" variable\n",
        "gsearch2 = GridSearchCV(estimator=gbc2,param_grid=parameters2,scoring=scoring2, cv=10, verbose=3, refit='AUC', return_train_score=True)\n",
        "gsearch2.fit(X,Y)\n",
        "timer(start_time) # timing ends here for \"start_time\" variable"
      ],
      "execution_count": null,
      "outputs": [
        {
          "name": "stdout",
          "output_type": "stream",
          "text": [
            "Fitting 10 folds for each of 30 candidates, totalling 300 fits\n",
            "[CV] min_samples_leaf=5000, min_samples_split=7000 ...................\n"
          ]
        },
        {
          "name": "stderr",
          "output_type": "stream",
          "text": [
            "[Parallel(n_jobs=1)]: Using backend SequentialBackend with 1 concurrent workers.\n"
          ]
        },
        {
          "name": "stdout",
          "output_type": "stream",
          "text": [
            "[CV]  min_samples_leaf=5000, min_samples_split=7000, AUC=(train=0.978, test=0.879), Accuracy=(train=0.972, test=0.933), F1=(train=0.972, test=0.933), total=  46.5s\n",
            "[CV] min_samples_leaf=5000, min_samples_split=7000 ...................\n"
          ]
        },
        {
          "name": "stderr",
          "output_type": "stream",
          "text": [
            "[Parallel(n_jobs=1)]: Done   1 out of   1 | elapsed:   53.3s remaining:    0.0s\n"
          ]
        },
        {
          "name": "stdout",
          "output_type": "stream",
          "text": [
            "[CV]  min_samples_leaf=5000, min_samples_split=7000, AUC=(train=0.978, test=0.715), Accuracy=(train=0.973, test=0.906), F1=(train=0.973, test=0.906), total=  43.4s\n",
            "[CV] min_samples_leaf=5000, min_samples_split=7000 ...................\n"
          ]
        },
        {
          "name": "stderr",
          "output_type": "stream",
          "text": [
            "[Parallel(n_jobs=1)]: Done   2 out of   2 | elapsed:  1.7min remaining:    0.0s\n"
          ]
        },
        {
          "name": "stdout",
          "output_type": "stream",
          "text": [
            "[CV]  min_samples_leaf=5000, min_samples_split=7000, AUC=(train=0.977, test=0.797), Accuracy=(train=0.972, test=0.930), F1=(train=0.972, test=0.930), total=  44.3s\n",
            "[CV] min_samples_leaf=5000, min_samples_split=7000 ...................\n",
            "[CV]  min_samples_leaf=5000, min_samples_split=7000, AUC=(train=0.966, test=0.980), Accuracy=(train=0.968, test=0.971), F1=(train=0.968, test=0.971), total=  43.8s\n",
            "[CV] min_samples_leaf=5000, min_samples_split=7000 ...................\n",
            "[CV]  min_samples_leaf=5000, min_samples_split=7000, AUC=(train=0.968, test=0.964), Accuracy=(train=0.969, test=0.957), F1=(train=0.969, test=0.957), total=  45.0s\n",
            "[CV] min_samples_leaf=5000, min_samples_split=7000 ...................\n",
            "[CV]  min_samples_leaf=5000, min_samples_split=7000, AUC=(train=0.966, test=0.983), Accuracy=(train=0.967, test=0.972), F1=(train=0.967, test=0.972), total=  44.4s\n",
            "[CV] min_samples_leaf=5000, min_samples_split=7000 ...................\n",
            "[CV]  min_samples_leaf=5000, min_samples_split=7000, AUC=(train=0.966, test=0.978), Accuracy=(train=0.968, test=0.972), F1=(train=0.968, test=0.972), total=  43.6s\n",
            "[CV] min_samples_leaf=5000, min_samples_split=7000 ...................\n",
            "[CV]  min_samples_leaf=5000, min_samples_split=7000, AUC=(train=0.967, test=0.970), Accuracy=(train=0.968, test=0.957), F1=(train=0.968, test=0.957), total=  43.3s\n",
            "[CV] min_samples_leaf=5000, min_samples_split=7000 ...................\n",
            "[CV]  min_samples_leaf=5000, min_samples_split=7000, AUC=(train=0.966, test=0.982), Accuracy=(train=0.967, test=0.973), F1=(train=0.967, test=0.973), total=  44.1s\n",
            "[CV] min_samples_leaf=5000, min_samples_split=7000 ...................\n",
            "[CV]  min_samples_leaf=5000, min_samples_split=7000, AUC=(train=0.966, test=0.985), Accuracy=(train=0.967, test=0.975), F1=(train=0.967, test=0.975), total=  44.4s\n",
            "[CV] min_samples_leaf=5000, min_samples_split=7500 ...................\n",
            "[CV]  min_samples_leaf=5000, min_samples_split=7500, AUC=(train=0.978, test=0.879), Accuracy=(train=0.972, test=0.933), F1=(train=0.972, test=0.933), total=  44.9s\n",
            "[CV] min_samples_leaf=5000, min_samples_split=7500 ...................\n",
            "[CV]  min_samples_leaf=5000, min_samples_split=7500, AUC=(train=0.978, test=0.715), Accuracy=(train=0.973, test=0.906), F1=(train=0.973, test=0.906), total=  43.6s\n",
            "[CV] min_samples_leaf=5000, min_samples_split=7500 ...................\n",
            "[CV]  min_samples_leaf=5000, min_samples_split=7500, AUC=(train=0.977, test=0.797), Accuracy=(train=0.972, test=0.930), F1=(train=0.972, test=0.930), total=  43.3s\n",
            "[CV] min_samples_leaf=5000, min_samples_split=7500 ...................\n",
            "[CV]  min_samples_leaf=5000, min_samples_split=7500, AUC=(train=0.966, test=0.980), Accuracy=(train=0.968, test=0.971), F1=(train=0.968, test=0.971), total=  45.6s\n",
            "[CV] min_samples_leaf=5000, min_samples_split=7500 ...................\n",
            "[CV]  min_samples_leaf=5000, min_samples_split=7500, AUC=(train=0.968, test=0.964), Accuracy=(train=0.969, test=0.957), F1=(train=0.969, test=0.957), total=  44.3s\n",
            "[CV] min_samples_leaf=5000, min_samples_split=7500 ...................\n",
            "[CV]  min_samples_leaf=5000, min_samples_split=7500, AUC=(train=0.966, test=0.983), Accuracy=(train=0.967, test=0.972), F1=(train=0.967, test=0.972), total=  44.3s\n",
            "[CV] min_samples_leaf=5000, min_samples_split=7500 ...................\n",
            "[CV]  min_samples_leaf=5000, min_samples_split=7500, AUC=(train=0.966, test=0.978), Accuracy=(train=0.968, test=0.972), F1=(train=0.968, test=0.972), total=  45.4s\n",
            "[CV] min_samples_leaf=5000, min_samples_split=7500 ...................\n",
            "[CV]  min_samples_leaf=5000, min_samples_split=7500, AUC=(train=0.967, test=0.970), Accuracy=(train=0.968, test=0.957), F1=(train=0.968, test=0.957), total=  44.6s\n",
            "[CV] min_samples_leaf=5000, min_samples_split=7500 ...................\n",
            "[CV]  min_samples_leaf=5000, min_samples_split=7500, AUC=(train=0.966, test=0.982), Accuracy=(train=0.967, test=0.973), F1=(train=0.967, test=0.973), total=  43.7s\n",
            "[CV] min_samples_leaf=5000, min_samples_split=7500 ...................\n",
            "[CV]  min_samples_leaf=5000, min_samples_split=7500, AUC=(train=0.966, test=0.985), Accuracy=(train=0.967, test=0.975), F1=(train=0.967, test=0.975), total=  46.7s\n",
            "[CV] min_samples_leaf=5000, min_samples_split=8000 ...................\n",
            "[CV]  min_samples_leaf=5000, min_samples_split=8000, AUC=(train=0.978, test=0.879), Accuracy=(train=0.972, test=0.933), F1=(train=0.972, test=0.933), total=  44.4s\n",
            "[CV] min_samples_leaf=5000, min_samples_split=8000 ...................\n",
            "[CV]  min_samples_leaf=5000, min_samples_split=8000, AUC=(train=0.978, test=0.715), Accuracy=(train=0.973, test=0.906), F1=(train=0.973, test=0.906), total=  45.0s\n",
            "[CV] min_samples_leaf=5000, min_samples_split=8000 ...................\n",
            "[CV]  min_samples_leaf=5000, min_samples_split=8000, AUC=(train=0.977, test=0.797), Accuracy=(train=0.972, test=0.930), F1=(train=0.972, test=0.930), total=  42.9s\n",
            "[CV] min_samples_leaf=5000, min_samples_split=8000 ...................\n",
            "[CV]  min_samples_leaf=5000, min_samples_split=8000, AUC=(train=0.966, test=0.980), Accuracy=(train=0.968, test=0.971), F1=(train=0.968, test=0.971), total=  43.9s\n",
            "[CV] min_samples_leaf=5000, min_samples_split=8000 ...................\n",
            "[CV]  min_samples_leaf=5000, min_samples_split=8000, AUC=(train=0.968, test=0.964), Accuracy=(train=0.969, test=0.957), F1=(train=0.969, test=0.957), total=  46.0s\n",
            "[CV] min_samples_leaf=5000, min_samples_split=8000 ...................\n",
            "[CV]  min_samples_leaf=5000, min_samples_split=8000, AUC=(train=0.966, test=0.983), Accuracy=(train=0.967, test=0.972), F1=(train=0.967, test=0.972), total=  49.2s\n",
            "[CV] min_samples_leaf=5000, min_samples_split=8000 ...................\n",
            "[CV]  min_samples_leaf=5000, min_samples_split=8000, AUC=(train=0.966, test=0.978), Accuracy=(train=0.968, test=0.972), F1=(train=0.968, test=0.972), total=  48.1s\n",
            "[CV] min_samples_leaf=5000, min_samples_split=8000 ...................\n",
            "[CV]  min_samples_leaf=5000, min_samples_split=8000, AUC=(train=0.967, test=0.970), Accuracy=(train=0.968, test=0.957), F1=(train=0.968, test=0.957), total=  45.2s\n",
            "[CV] min_samples_leaf=5000, min_samples_split=8000 ...................\n",
            "[CV]  min_samples_leaf=5000, min_samples_split=8000, AUC=(train=0.966, test=0.982), Accuracy=(train=0.967, test=0.973), F1=(train=0.967, test=0.973), total=  45.5s\n",
            "[CV] min_samples_leaf=5000, min_samples_split=8000 ...................\n",
            "[CV]  min_samples_leaf=5000, min_samples_split=8000, AUC=(train=0.966, test=0.985), Accuracy=(train=0.967, test=0.975), F1=(train=0.967, test=0.975), total=  44.3s\n",
            "[CV] min_samples_leaf=5000, min_samples_split=8500 ...................\n",
            "[CV]  min_samples_leaf=5000, min_samples_split=8500, AUC=(train=0.978, test=0.879), Accuracy=(train=0.972, test=0.933), F1=(train=0.972, test=0.933), total=  45.9s\n",
            "[CV] min_samples_leaf=5000, min_samples_split=8500 ...................\n",
            "[CV]  min_samples_leaf=5000, min_samples_split=8500, AUC=(train=0.978, test=0.715), Accuracy=(train=0.973, test=0.906), F1=(train=0.973, test=0.906), total=  45.6s\n",
            "[CV] min_samples_leaf=5000, min_samples_split=8500 ...................\n",
            "[CV]  min_samples_leaf=5000, min_samples_split=8500, AUC=(train=0.977, test=0.797), Accuracy=(train=0.972, test=0.930), F1=(train=0.972, test=0.930), total=  42.9s\n",
            "[CV] min_samples_leaf=5000, min_samples_split=8500 ...................\n",
            "[CV]  min_samples_leaf=5000, min_samples_split=8500, AUC=(train=0.966, test=0.980), Accuracy=(train=0.968, test=0.971), F1=(train=0.968, test=0.971), total=  43.2s\n",
            "[CV] min_samples_leaf=5000, min_samples_split=8500 ...................\n",
            "[CV]  min_samples_leaf=5000, min_samples_split=8500, AUC=(train=0.968, test=0.964), Accuracy=(train=0.969, test=0.957), F1=(train=0.969, test=0.957), total=  44.8s\n",
            "[CV] min_samples_leaf=5000, min_samples_split=8500 ...................\n",
            "[CV]  min_samples_leaf=5000, min_samples_split=8500, AUC=(train=0.966, test=0.983), Accuracy=(train=0.967, test=0.972), F1=(train=0.967, test=0.972), total=  43.9s\n",
            "[CV] min_samples_leaf=5000, min_samples_split=8500 ...................\n",
            "[CV]  min_samples_leaf=5000, min_samples_split=8500, AUC=(train=0.966, test=0.978), Accuracy=(train=0.968, test=0.972), F1=(train=0.968, test=0.972), total=  47.5s\n",
            "[CV] min_samples_leaf=5000, min_samples_split=8500 ...................\n",
            "[CV]  min_samples_leaf=5000, min_samples_split=8500, AUC=(train=0.967, test=0.970), Accuracy=(train=0.968, test=0.957), F1=(train=0.968, test=0.957), total=  46.2s\n",
            "[CV] min_samples_leaf=5000, min_samples_split=8500 ...................\n",
            "[CV]  min_samples_leaf=5000, min_samples_split=8500, AUC=(train=0.966, test=0.982), Accuracy=(train=0.967, test=0.973), F1=(train=0.967, test=0.973), total=  42.5s\n",
            "[CV] min_samples_leaf=5000, min_samples_split=8500 ...................\n",
            "[CV]  min_samples_leaf=5000, min_samples_split=8500, AUC=(train=0.966, test=0.985), Accuracy=(train=0.967, test=0.975), F1=(train=0.967, test=0.975), total=  43.2s\n",
            "[CV] min_samples_leaf=5000, min_samples_split=9000 ...................\n",
            "[CV]  min_samples_leaf=5000, min_samples_split=9000, AUC=(train=0.978, test=0.879), Accuracy=(train=0.972, test=0.933), F1=(train=0.972, test=0.933), total=  43.7s\n",
            "[CV] min_samples_leaf=5000, min_samples_split=9000 ...................\n",
            "[CV]  min_samples_leaf=5000, min_samples_split=9000, AUC=(train=0.978, test=0.715), Accuracy=(train=0.973, test=0.906), F1=(train=0.973, test=0.906), total=  43.2s\n",
            "[CV] min_samples_leaf=5000, min_samples_split=9000 ...................\n",
            "[CV]  min_samples_leaf=5000, min_samples_split=9000, AUC=(train=0.977, test=0.797), Accuracy=(train=0.972, test=0.930), F1=(train=0.972, test=0.930), total=  42.9s\n",
            "[CV] min_samples_leaf=5000, min_samples_split=9000 ...................\n",
            "[CV]  min_samples_leaf=5000, min_samples_split=9000, AUC=(train=0.966, test=0.980), Accuracy=(train=0.968, test=0.971), F1=(train=0.968, test=0.971), total=  45.2s\n",
            "[CV] min_samples_leaf=5000, min_samples_split=9000 ...................\n",
            "[CV]  min_samples_leaf=5000, min_samples_split=9000, AUC=(train=0.968, test=0.964), Accuracy=(train=0.969, test=0.957), F1=(train=0.969, test=0.957), total=  45.3s\n",
            "[CV] min_samples_leaf=5000, min_samples_split=9000 ...................\n",
            "[CV]  min_samples_leaf=5000, min_samples_split=9000, AUC=(train=0.966, test=0.983), Accuracy=(train=0.967, test=0.972), F1=(train=0.967, test=0.972), total=  45.1s\n",
            "[CV] min_samples_leaf=5000, min_samples_split=9000 ...................\n",
            "[CV]  min_samples_leaf=5000, min_samples_split=9000, AUC=(train=0.966, test=0.978), Accuracy=(train=0.968, test=0.972), F1=(train=0.968, test=0.972), total=  45.5s\n",
            "[CV] min_samples_leaf=5000, min_samples_split=9000 ...................\n",
            "[CV]  min_samples_leaf=5000, min_samples_split=9000, AUC=(train=0.967, test=0.970), Accuracy=(train=0.968, test=0.957), F1=(train=0.968, test=0.957), total=  43.9s\n",
            "[CV] min_samples_leaf=5000, min_samples_split=9000 ...................\n",
            "[CV]  min_samples_leaf=5000, min_samples_split=9000, AUC=(train=0.966, test=0.982), Accuracy=(train=0.967, test=0.973), F1=(train=0.967, test=0.973), total=  44.7s\n",
            "[CV] min_samples_leaf=5000, min_samples_split=9000 ...................\n",
            "[CV]  min_samples_leaf=5000, min_samples_split=9000, AUC=(train=0.966, test=0.985), Accuracy=(train=0.967, test=0.975), F1=(train=0.967, test=0.975), total=  46.0s\n",
            "[CV] min_samples_leaf=5000, min_samples_split=9500 ...................\n",
            "[CV]  min_samples_leaf=5000, min_samples_split=9500, AUC=(train=0.978, test=0.879), Accuracy=(train=0.972, test=0.933), F1=(train=0.972, test=0.933), total=  44.6s\n",
            "[CV] min_samples_leaf=5000, min_samples_split=9500 ...................\n",
            "[CV]  min_samples_leaf=5000, min_samples_split=9500, AUC=(train=0.978, test=0.715), Accuracy=(train=0.973, test=0.906), F1=(train=0.973, test=0.906), total=  44.6s\n",
            "[CV] min_samples_leaf=5000, min_samples_split=9500 ...................\n",
            "[CV]  min_samples_leaf=5000, min_samples_split=9500, AUC=(train=0.977, test=0.797), Accuracy=(train=0.972, test=0.930), F1=(train=0.972, test=0.930), total=  45.6s\n",
            "[CV] min_samples_leaf=5000, min_samples_split=9500 ...................\n",
            "[CV]  min_samples_leaf=5000, min_samples_split=9500, AUC=(train=0.966, test=0.980), Accuracy=(train=0.968, test=0.971), F1=(train=0.968, test=0.971), total=  43.4s\n",
            "[CV] min_samples_leaf=5000, min_samples_split=9500 ...................\n",
            "[CV]  min_samples_leaf=5000, min_samples_split=9500, AUC=(train=0.968, test=0.964), Accuracy=(train=0.969, test=0.957), F1=(train=0.969, test=0.957), total=  45.4s\n",
            "[CV] min_samples_leaf=5000, min_samples_split=9500 ...................\n",
            "[CV]  min_samples_leaf=5000, min_samples_split=9500, AUC=(train=0.966, test=0.983), Accuracy=(train=0.967, test=0.972), F1=(train=0.967, test=0.972), total=  44.8s\n",
            "[CV] min_samples_leaf=5000, min_samples_split=9500 ...................\n",
            "[CV]  min_samples_leaf=5000, min_samples_split=9500, AUC=(train=0.966, test=0.978), Accuracy=(train=0.968, test=0.972), F1=(train=0.968, test=0.972), total=  45.9s\n",
            "[CV] min_samples_leaf=5000, min_samples_split=9500 ...................\n",
            "[CV]  min_samples_leaf=5000, min_samples_split=9500, AUC=(train=0.967, test=0.970), Accuracy=(train=0.968, test=0.957), F1=(train=0.968, test=0.957), total=  44.3s\n",
            "[CV] min_samples_leaf=5000, min_samples_split=9500 ...................\n",
            "[CV]  min_samples_leaf=5000, min_samples_split=9500, AUC=(train=0.966, test=0.982), Accuracy=(train=0.967, test=0.973), F1=(train=0.967, test=0.973), total=  44.4s\n",
            "[CV] min_samples_leaf=5000, min_samples_split=9500 ...................\n",
            "[CV]  min_samples_leaf=5000, min_samples_split=9500, AUC=(train=0.966, test=0.985), Accuracy=(train=0.967, test=0.975), F1=(train=0.967, test=0.975), total=  43.0s\n",
            "[CV] min_samples_leaf=5200, min_samples_split=7000 ...................\n",
            "[CV]  min_samples_leaf=5200, min_samples_split=7000, AUC=(train=0.977, test=0.874), Accuracy=(train=0.972, test=0.933), F1=(train=0.972, test=0.933), total=  45.2s\n",
            "[CV] min_samples_leaf=5200, min_samples_split=7000 ...................\n",
            "[CV]  min_samples_leaf=5200, min_samples_split=7000, AUC=(train=0.977, test=0.722), Accuracy=(train=0.973, test=0.907), F1=(train=0.973, test=0.907), total=  45.4s\n",
            "[CV] min_samples_leaf=5200, min_samples_split=7000 ...................\n",
            "[CV]  min_samples_leaf=5200, min_samples_split=7000, AUC=(train=0.977, test=0.800), Accuracy=(train=0.972, test=0.928), F1=(train=0.972, test=0.928), total=  44.2s\n",
            "[CV] min_samples_leaf=5200, min_samples_split=7000 ...................\n",
            "[CV]  min_samples_leaf=5200, min_samples_split=7000, AUC=(train=0.964, test=0.977), Accuracy=(train=0.966, test=0.968), F1=(train=0.966, test=0.968), total=  43.1s\n",
            "[CV] min_samples_leaf=5200, min_samples_split=7000 ...................\n",
            "[CV]  min_samples_leaf=5200, min_samples_split=7000, AUC=(train=0.965, test=0.966), Accuracy=(train=0.967, test=0.959), F1=(train=0.967, test=0.959), total=  42.8s\n",
            "[CV] min_samples_leaf=5200, min_samples_split=7000 ...................\n",
            "[CV]  min_samples_leaf=5200, min_samples_split=7000, AUC=(train=0.964, test=0.980), Accuracy=(train=0.966, test=0.972), F1=(train=0.966, test=0.972), total=  43.4s\n",
            "[CV] min_samples_leaf=5200, min_samples_split=7000 ...................\n",
            "[CV]  min_samples_leaf=5200, min_samples_split=7000, AUC=(train=0.964, test=0.979), Accuracy=(train=0.966, test=0.970), F1=(train=0.966, test=0.970), total=  46.5s\n",
            "[CV] min_samples_leaf=5200, min_samples_split=7000 ...................\n",
            "[CV]  min_samples_leaf=5200, min_samples_split=7000, AUC=(train=0.965, test=0.969), Accuracy=(train=0.966, test=0.962), F1=(train=0.966, test=0.962), total=  44.5s\n",
            "[CV] min_samples_leaf=5200, min_samples_split=7000 ...................\n",
            "[CV]  min_samples_leaf=5200, min_samples_split=7000, AUC=(train=0.963, test=0.977), Accuracy=(train=0.966, test=0.972), F1=(train=0.966, test=0.972), total=  43.0s\n",
            "[CV] min_samples_leaf=5200, min_samples_split=7000 ...................\n",
            "[CV]  min_samples_leaf=5200, min_samples_split=7000, AUC=(train=0.963, test=0.982), Accuracy=(train=0.966, test=0.976), F1=(train=0.966, test=0.976), total=  43.6s\n",
            "[CV] min_samples_leaf=5200, min_samples_split=7500 ...................\n",
            "[CV]  min_samples_leaf=5200, min_samples_split=7500, AUC=(train=0.977, test=0.874), Accuracy=(train=0.972, test=0.933), F1=(train=0.972, test=0.933), total=  44.5s\n",
            "[CV] min_samples_leaf=5200, min_samples_split=7500 ...................\n",
            "[CV]  min_samples_leaf=5200, min_samples_split=7500, AUC=(train=0.977, test=0.722), Accuracy=(train=0.973, test=0.907), F1=(train=0.973, test=0.907), total=  43.8s\n",
            "[CV] min_samples_leaf=5200, min_samples_split=7500 ...................\n",
            "[CV]  min_samples_leaf=5200, min_samples_split=7500, AUC=(train=0.977, test=0.800), Accuracy=(train=0.972, test=0.928), F1=(train=0.972, test=0.928), total=  45.8s\n",
            "[CV] min_samples_leaf=5200, min_samples_split=7500 ...................\n",
            "[CV]  min_samples_leaf=5200, min_samples_split=7500, AUC=(train=0.964, test=0.977), Accuracy=(train=0.966, test=0.968), F1=(train=0.966, test=0.968), total=  44.8s\n",
            "[CV] min_samples_leaf=5200, min_samples_split=7500 ...................\n",
            "[CV]  min_samples_leaf=5200, min_samples_split=7500, AUC=(train=0.965, test=0.966), Accuracy=(train=0.967, test=0.959), F1=(train=0.967, test=0.959), total=  44.7s\n",
            "[CV] min_samples_leaf=5200, min_samples_split=7500 ...................\n",
            "[CV]  min_samples_leaf=5200, min_samples_split=7500, AUC=(train=0.964, test=0.980), Accuracy=(train=0.966, test=0.972), F1=(train=0.966, test=0.972), total=  45.0s\n",
            "[CV] min_samples_leaf=5200, min_samples_split=7500 ...................\n",
            "[CV]  min_samples_leaf=5200, min_samples_split=7500, AUC=(train=0.964, test=0.979), Accuracy=(train=0.966, test=0.970), F1=(train=0.966, test=0.970), total=  44.6s\n",
            "[CV] min_samples_leaf=5200, min_samples_split=7500 ...................\n",
            "[CV]  min_samples_leaf=5200, min_samples_split=7500, AUC=(train=0.965, test=0.969), Accuracy=(train=0.966, test=0.962), F1=(train=0.966, test=0.962), total=  43.2s\n",
            "[CV] min_samples_leaf=5200, min_samples_split=7500 ...................\n",
            "[CV]  min_samples_leaf=5200, min_samples_split=7500, AUC=(train=0.963, test=0.977), Accuracy=(train=0.966, test=0.972), F1=(train=0.966, test=0.972), total=  44.8s\n",
            "[CV] min_samples_leaf=5200, min_samples_split=7500 ...................\n",
            "[CV]  min_samples_leaf=5200, min_samples_split=7500, AUC=(train=0.963, test=0.982), Accuracy=(train=0.966, test=0.976), F1=(train=0.966, test=0.976), total=  45.7s\n",
            "[CV] min_samples_leaf=5200, min_samples_split=8000 ...................\n",
            "[CV]  min_samples_leaf=5200, min_samples_split=8000, AUC=(train=0.977, test=0.874), Accuracy=(train=0.972, test=0.933), F1=(train=0.972, test=0.933), total=  44.6s\n",
            "[CV] min_samples_leaf=5200, min_samples_split=8000 ...................\n",
            "[CV]  min_samples_leaf=5200, min_samples_split=8000, AUC=(train=0.977, test=0.722), Accuracy=(train=0.973, test=0.907), F1=(train=0.973, test=0.907), total=  44.0s\n",
            "[CV] min_samples_leaf=5200, min_samples_split=8000 ...................\n",
            "[CV]  min_samples_leaf=5200, min_samples_split=8000, AUC=(train=0.977, test=0.800), Accuracy=(train=0.972, test=0.928), F1=(train=0.972, test=0.928), total=  43.2s\n",
            "[CV] min_samples_leaf=5200, min_samples_split=8000 ...................\n",
            "[CV]  min_samples_leaf=5200, min_samples_split=8000, AUC=(train=0.964, test=0.977), Accuracy=(train=0.966, test=0.968), F1=(train=0.966, test=0.968), total=  45.0s\n",
            "[CV] min_samples_leaf=5200, min_samples_split=8000 ...................\n",
            "[CV]  min_samples_leaf=5200, min_samples_split=8000, AUC=(train=0.965, test=0.966), Accuracy=(train=0.967, test=0.959), F1=(train=0.967, test=0.959), total=  46.0s\n",
            "[CV] min_samples_leaf=5200, min_samples_split=8000 ...................\n",
            "[CV]  min_samples_leaf=5200, min_samples_split=8000, AUC=(train=0.964, test=0.980), Accuracy=(train=0.966, test=0.972), F1=(train=0.966, test=0.972), total=  45.5s\n",
            "[CV] min_samples_leaf=5200, min_samples_split=8000 ...................\n",
            "[CV]  min_samples_leaf=5200, min_samples_split=8000, AUC=(train=0.964, test=0.979), Accuracy=(train=0.966, test=0.970), F1=(train=0.966, test=0.970), total=  42.2s\n",
            "[CV] min_samples_leaf=5200, min_samples_split=8000 ...................\n",
            "[CV]  min_samples_leaf=5200, min_samples_split=8000, AUC=(train=0.965, test=0.969), Accuracy=(train=0.966, test=0.962), F1=(train=0.966, test=0.962), total=  43.4s\n",
            "[CV] min_samples_leaf=5200, min_samples_split=8000 ...................\n",
            "[CV]  min_samples_leaf=5200, min_samples_split=8000, AUC=(train=0.963, test=0.977), Accuracy=(train=0.966, test=0.972), F1=(train=0.966, test=0.972), total=  46.4s\n",
            "[CV] min_samples_leaf=5200, min_samples_split=8000 ...................\n",
            "[CV]  min_samples_leaf=5200, min_samples_split=8000, AUC=(train=0.963, test=0.982), Accuracy=(train=0.966, test=0.976), F1=(train=0.966, test=0.976), total=  43.3s\n",
            "[CV] min_samples_leaf=5200, min_samples_split=8500 ...................\n",
            "[CV]  min_samples_leaf=5200, min_samples_split=8500, AUC=(train=0.977, test=0.874), Accuracy=(train=0.972, test=0.933), F1=(train=0.972, test=0.933), total=  45.0s\n",
            "[CV] min_samples_leaf=5200, min_samples_split=8500 ...................\n",
            "[CV]  min_samples_leaf=5200, min_samples_split=8500, AUC=(train=0.977, test=0.722), Accuracy=(train=0.973, test=0.907), F1=(train=0.973, test=0.907), total=  43.7s\n",
            "[CV] min_samples_leaf=5200, min_samples_split=8500 ...................\n",
            "[CV]  min_samples_leaf=5200, min_samples_split=8500, AUC=(train=0.977, test=0.800), Accuracy=(train=0.972, test=0.928), F1=(train=0.972, test=0.928), total=  43.9s\n",
            "[CV] min_samples_leaf=5200, min_samples_split=8500 ...................\n",
            "[CV]  min_samples_leaf=5200, min_samples_split=8500, AUC=(train=0.964, test=0.977), Accuracy=(train=0.966, test=0.968), F1=(train=0.966, test=0.968), total=  45.3s\n",
            "[CV] min_samples_leaf=5200, min_samples_split=8500 ...................\n",
            "[CV]  min_samples_leaf=5200, min_samples_split=8500, AUC=(train=0.965, test=0.966), Accuracy=(train=0.967, test=0.959), F1=(train=0.967, test=0.959), total=  44.9s\n",
            "[CV] min_samples_leaf=5200, min_samples_split=8500 ...................\n",
            "[CV]  min_samples_leaf=5200, min_samples_split=8500, AUC=(train=0.964, test=0.980), Accuracy=(train=0.966, test=0.972), F1=(train=0.966, test=0.972), total=  44.3s\n",
            "[CV] min_samples_leaf=5200, min_samples_split=8500 ...................\n",
            "[CV]  min_samples_leaf=5200, min_samples_split=8500, AUC=(train=0.964, test=0.979), Accuracy=(train=0.966, test=0.970), F1=(train=0.966, test=0.970), total=  45.7s\n",
            "[CV] min_samples_leaf=5200, min_samples_split=8500 ...................\n",
            "[CV]  min_samples_leaf=5200, min_samples_split=8500, AUC=(train=0.965, test=0.969), Accuracy=(train=0.966, test=0.962), F1=(train=0.966, test=0.962), total=  45.2s\n",
            "[CV] min_samples_leaf=5200, min_samples_split=8500 ...................\n",
            "[CV]  min_samples_leaf=5200, min_samples_split=8500, AUC=(train=0.963, test=0.977), Accuracy=(train=0.966, test=0.972), F1=(train=0.966, test=0.972), total=  51.6s\n",
            "[CV] min_samples_leaf=5200, min_samples_split=8500 ...................\n",
            "[CV]  min_samples_leaf=5200, min_samples_split=8500, AUC=(train=0.963, test=0.982), Accuracy=(train=0.966, test=0.976), F1=(train=0.966, test=0.976), total=  49.8s\n",
            "[CV] min_samples_leaf=5200, min_samples_split=9000 ...................\n",
            "[CV]  min_samples_leaf=5200, min_samples_split=9000, AUC=(train=0.977, test=0.874), Accuracy=(train=0.972, test=0.933), F1=(train=0.972, test=0.933), total=  50.0s\n",
            "[CV] min_samples_leaf=5200, min_samples_split=9000 ...................\n",
            "[CV]  min_samples_leaf=5200, min_samples_split=9000, AUC=(train=0.977, test=0.722), Accuracy=(train=0.973, test=0.907), F1=(train=0.973, test=0.907), total=  51.6s\n",
            "[CV] min_samples_leaf=5200, min_samples_split=9000 ...................\n",
            "[CV]  min_samples_leaf=5200, min_samples_split=9000, AUC=(train=0.977, test=0.800), Accuracy=(train=0.972, test=0.928), F1=(train=0.972, test=0.928), total=  50.3s\n",
            "[CV] min_samples_leaf=5200, min_samples_split=9000 ...................\n",
            "[CV]  min_samples_leaf=5200, min_samples_split=9000, AUC=(train=0.964, test=0.977), Accuracy=(train=0.966, test=0.968), F1=(train=0.966, test=0.968), total=  50.0s\n",
            "[CV] min_samples_leaf=5200, min_samples_split=9000 ...................\n",
            "[CV]  min_samples_leaf=5200, min_samples_split=9000, AUC=(train=0.965, test=0.966), Accuracy=(train=0.967, test=0.959), F1=(train=0.967, test=0.959), total=  50.6s\n",
            "[CV] min_samples_leaf=5200, min_samples_split=9000 ...................\n",
            "[CV]  min_samples_leaf=5200, min_samples_split=9000, AUC=(train=0.964, test=0.980), Accuracy=(train=0.966, test=0.972), F1=(train=0.966, test=0.972), total=  52.0s\n",
            "[CV] min_samples_leaf=5200, min_samples_split=9000 ...................\n",
            "[CV]  min_samples_leaf=5200, min_samples_split=9000, AUC=(train=0.964, test=0.979), Accuracy=(train=0.966, test=0.970), F1=(train=0.966, test=0.970), total=  52.5s\n",
            "[CV] min_samples_leaf=5200, min_samples_split=9000 ...................\n",
            "[CV]  min_samples_leaf=5200, min_samples_split=9000, AUC=(train=0.965, test=0.969), Accuracy=(train=0.966, test=0.962), F1=(train=0.966, test=0.962), total=  49.6s\n",
            "[CV] min_samples_leaf=5200, min_samples_split=9000 ...................\n",
            "[CV]  min_samples_leaf=5200, min_samples_split=9000, AUC=(train=0.963, test=0.977), Accuracy=(train=0.966, test=0.972), F1=(train=0.966, test=0.972), total=  50.0s\n",
            "[CV] min_samples_leaf=5200, min_samples_split=9000 ...................\n",
            "[CV]  min_samples_leaf=5200, min_samples_split=9000, AUC=(train=0.963, test=0.982), Accuracy=(train=0.966, test=0.976), F1=(train=0.966, test=0.976), total=  46.5s\n",
            "[CV] min_samples_leaf=5200, min_samples_split=9500 ...................\n",
            "[CV]  min_samples_leaf=5200, min_samples_split=9500, AUC=(train=0.977, test=0.874), Accuracy=(train=0.972, test=0.933), F1=(train=0.972, test=0.933), total=  49.5s\n",
            "[CV] min_samples_leaf=5200, min_samples_split=9500 ...................\n",
            "[CV]  min_samples_leaf=5200, min_samples_split=9500, AUC=(train=0.977, test=0.722), Accuracy=(train=0.973, test=0.907), F1=(train=0.973, test=0.907), total=  46.5s\n",
            "[CV] min_samples_leaf=5200, min_samples_split=9500 ...................\n",
            "[CV]  min_samples_leaf=5200, min_samples_split=9500, AUC=(train=0.977, test=0.800), Accuracy=(train=0.972, test=0.928), F1=(train=0.972, test=0.928), total=  47.5s\n",
            "[CV] min_samples_leaf=5200, min_samples_split=9500 ...................\n",
            "[CV]  min_samples_leaf=5200, min_samples_split=9500, AUC=(train=0.964, test=0.977), Accuracy=(train=0.966, test=0.968), F1=(train=0.966, test=0.968), total=  46.8s\n",
            "[CV] min_samples_leaf=5200, min_samples_split=9500 ...................\n",
            "[CV]  min_samples_leaf=5200, min_samples_split=9500, AUC=(train=0.965, test=0.966), Accuracy=(train=0.967, test=0.959), F1=(train=0.967, test=0.959), total=  45.3s\n",
            "[CV] min_samples_leaf=5200, min_samples_split=9500 ...................\n",
            "[CV]  min_samples_leaf=5200, min_samples_split=9500, AUC=(train=0.964, test=0.980), Accuracy=(train=0.966, test=0.972), F1=(train=0.966, test=0.972), total=  45.1s\n",
            "[CV] min_samples_leaf=5200, min_samples_split=9500 ...................\n",
            "[CV]  min_samples_leaf=5200, min_samples_split=9500, AUC=(train=0.964, test=0.979), Accuracy=(train=0.966, test=0.970), F1=(train=0.966, test=0.970), total=  45.4s\n",
            "[CV] min_samples_leaf=5200, min_samples_split=9500 ...................\n",
            "[CV]  min_samples_leaf=5200, min_samples_split=9500, AUC=(train=0.965, test=0.969), Accuracy=(train=0.966, test=0.962), F1=(train=0.966, test=0.962), total=  46.3s\n",
            "[CV] min_samples_leaf=5200, min_samples_split=9500 ...................\n",
            "[CV]  min_samples_leaf=5200, min_samples_split=9500, AUC=(train=0.963, test=0.977), Accuracy=(train=0.966, test=0.972), F1=(train=0.966, test=0.972), total=  45.7s\n",
            "[CV] min_samples_leaf=5200, min_samples_split=9500 ...................\n",
            "[CV]  min_samples_leaf=5200, min_samples_split=9500, AUC=(train=0.963, test=0.982), Accuracy=(train=0.966, test=0.976), F1=(train=0.966, test=0.976), total=  44.6s\n",
            "[CV] min_samples_leaf=5400, min_samples_split=7000 ...................\n",
            "[CV]  min_samples_leaf=5400, min_samples_split=7000, AUC=(train=0.975, test=0.868), Accuracy=(train=0.971, test=0.932), F1=(train=0.971, test=0.932), total=  46.4s\n",
            "[CV] min_samples_leaf=5400, min_samples_split=7000 ...................\n",
            "[CV]  min_samples_leaf=5400, min_samples_split=7000, AUC=(train=0.976, test=0.700), Accuracy=(train=0.972, test=0.904), F1=(train=0.972, test=0.904), total=  47.3s\n",
            "[CV] min_samples_leaf=5400, min_samples_split=7000 ...................\n",
            "[CV]  min_samples_leaf=5400, min_samples_split=7000, AUC=(train=0.976, test=0.782), Accuracy=(train=0.970, test=0.927), F1=(train=0.970, test=0.927), total=  45.9s\n",
            "[CV] min_samples_leaf=5400, min_samples_split=7000 ...................\n",
            "[CV]  min_samples_leaf=5400, min_samples_split=7000, AUC=(train=0.964, test=0.977), Accuracy=(train=0.966, test=0.969), F1=(train=0.966, test=0.969), total=  48.0s\n",
            "[CV] min_samples_leaf=5400, min_samples_split=7000 ...................\n",
            "[CV]  min_samples_leaf=5400, min_samples_split=7000, AUC=(train=0.965, test=0.964), Accuracy=(train=0.967, test=0.958), F1=(train=0.967, test=0.958), total=  45.7s\n",
            "[CV] min_samples_leaf=5400, min_samples_split=7000 ...................\n",
            "[CV]  min_samples_leaf=5400, min_samples_split=7000, AUC=(train=0.964, test=0.981), Accuracy=(train=0.966, test=0.972), F1=(train=0.966, test=0.972), total=  45.9s\n",
            "[CV] min_samples_leaf=5400, min_samples_split=7000 ...................\n",
            "[CV]  min_samples_leaf=5400, min_samples_split=7000, AUC=(train=0.963, test=0.977), Accuracy=(train=0.966, test=0.968), F1=(train=0.966, test=0.968), total=  46.5s\n",
            "[CV] min_samples_leaf=5400, min_samples_split=7000 ...................\n",
            "[CV]  min_samples_leaf=5400, min_samples_split=7000, AUC=(train=0.964, test=0.967), Accuracy=(train=0.966, test=0.961), F1=(train=0.966, test=0.961), total=  47.0s\n",
            "[CV] min_samples_leaf=5400, min_samples_split=7000 ...................\n",
            "[CV]  min_samples_leaf=5400, min_samples_split=7000, AUC=(train=0.963, test=0.976), Accuracy=(train=0.966, test=0.971), F1=(train=0.966, test=0.971), total=  45.8s\n",
            "[CV] min_samples_leaf=5400, min_samples_split=7000 ...................\n",
            "[CV]  min_samples_leaf=5400, min_samples_split=7000, AUC=(train=0.962, test=0.982), Accuracy=(train=0.966, test=0.976), F1=(train=0.966, test=0.976), total=  48.0s\n",
            "[CV] min_samples_leaf=5400, min_samples_split=7500 ...................\n",
            "[CV]  min_samples_leaf=5400, min_samples_split=7500, AUC=(train=0.975, test=0.868), Accuracy=(train=0.971, test=0.932), F1=(train=0.971, test=0.932), total=  46.0s\n",
            "[CV] min_samples_leaf=5400, min_samples_split=7500 ...................\n",
            "[CV]  min_samples_leaf=5400, min_samples_split=7500, AUC=(train=0.976, test=0.700), Accuracy=(train=0.972, test=0.904), F1=(train=0.972, test=0.904), total=  44.7s\n",
            "[CV] min_samples_leaf=5400, min_samples_split=7500 ...................\n",
            "[CV]  min_samples_leaf=5400, min_samples_split=7500, AUC=(train=0.976, test=0.782), Accuracy=(train=0.970, test=0.927), F1=(train=0.970, test=0.927), total=  44.5s\n",
            "[CV] min_samples_leaf=5400, min_samples_split=7500 ...................\n",
            "[CV]  min_samples_leaf=5400, min_samples_split=7500, AUC=(train=0.964, test=0.977), Accuracy=(train=0.966, test=0.969), F1=(train=0.966, test=0.969), total=  44.2s\n",
            "[CV] min_samples_leaf=5400, min_samples_split=7500 ...................\n",
            "[CV]  min_samples_leaf=5400, min_samples_split=7500, AUC=(train=0.965, test=0.964), Accuracy=(train=0.967, test=0.958), F1=(train=0.967, test=0.958), total=  42.8s\n",
            "[CV] min_samples_leaf=5400, min_samples_split=7500 ...................\n",
            "[CV]  min_samples_leaf=5400, min_samples_split=7500, AUC=(train=0.964, test=0.981), Accuracy=(train=0.966, test=0.972), F1=(train=0.966, test=0.972), total=  46.2s\n",
            "[CV] min_samples_leaf=5400, min_samples_split=7500 ...................\n",
            "[CV]  min_samples_leaf=5400, min_samples_split=7500, AUC=(train=0.963, test=0.977), Accuracy=(train=0.966, test=0.968), F1=(train=0.966, test=0.968), total=  45.5s\n",
            "[CV] min_samples_leaf=5400, min_samples_split=7500 ...................\n",
            "[CV]  min_samples_leaf=5400, min_samples_split=7500, AUC=(train=0.964, test=0.967), Accuracy=(train=0.966, test=0.961), F1=(train=0.966, test=0.961), total=  46.6s\n",
            "[CV] min_samples_leaf=5400, min_samples_split=7500 ...................\n",
            "[CV]  min_samples_leaf=5400, min_samples_split=7500, AUC=(train=0.963, test=0.976), Accuracy=(train=0.966, test=0.971), F1=(train=0.966, test=0.971), total=  45.3s\n",
            "[CV] min_samples_leaf=5400, min_samples_split=7500 ...................\n",
            "[CV]  min_samples_leaf=5400, min_samples_split=7500, AUC=(train=0.962, test=0.982), Accuracy=(train=0.966, test=0.976), F1=(train=0.966, test=0.976), total=  45.3s\n",
            "[CV] min_samples_leaf=5400, min_samples_split=8000 ...................\n",
            "[CV]  min_samples_leaf=5400, min_samples_split=8000, AUC=(train=0.975, test=0.868), Accuracy=(train=0.971, test=0.932), F1=(train=0.971, test=0.932), total=  49.4s\n",
            "[CV] min_samples_leaf=5400, min_samples_split=8000 ...................\n",
            "[CV]  min_samples_leaf=5400, min_samples_split=8000, AUC=(train=0.976, test=0.700), Accuracy=(train=0.972, test=0.904), F1=(train=0.972, test=0.904), total=  44.0s\n",
            "[CV] min_samples_leaf=5400, min_samples_split=8000 ...................\n",
            "[CV]  min_samples_leaf=5400, min_samples_split=8000, AUC=(train=0.976, test=0.782), Accuracy=(train=0.970, test=0.927), F1=(train=0.970, test=0.927), total=  45.7s\n",
            "[CV] min_samples_leaf=5400, min_samples_split=8000 ...................\n",
            "[CV]  min_samples_leaf=5400, min_samples_split=8000, AUC=(train=0.964, test=0.977), Accuracy=(train=0.966, test=0.969), F1=(train=0.966, test=0.969), total=  44.4s\n",
            "[CV] min_samples_leaf=5400, min_samples_split=8000 ...................\n",
            "[CV]  min_samples_leaf=5400, min_samples_split=8000, AUC=(train=0.965, test=0.964), Accuracy=(train=0.967, test=0.958), F1=(train=0.967, test=0.958), total=  44.7s\n",
            "[CV] min_samples_leaf=5400, min_samples_split=8000 ...................\n",
            "[CV]  min_samples_leaf=5400, min_samples_split=8000, AUC=(train=0.964, test=0.981), Accuracy=(train=0.966, test=0.972), F1=(train=0.966, test=0.972), total=  43.7s\n",
            "[CV] min_samples_leaf=5400, min_samples_split=8000 ...................\n",
            "[CV]  min_samples_leaf=5400, min_samples_split=8000, AUC=(train=0.963, test=0.977), Accuracy=(train=0.966, test=0.968), F1=(train=0.966, test=0.968), total=  44.0s\n",
            "[CV] min_samples_leaf=5400, min_samples_split=8000 ...................\n",
            "[CV]  min_samples_leaf=5400, min_samples_split=8000, AUC=(train=0.964, test=0.967), Accuracy=(train=0.966, test=0.961), F1=(train=0.966, test=0.961), total=  44.0s\n",
            "[CV] min_samples_leaf=5400, min_samples_split=8000 ...................\n",
            "[CV]  min_samples_leaf=5400, min_samples_split=8000, AUC=(train=0.963, test=0.976), Accuracy=(train=0.966, test=0.971), F1=(train=0.966, test=0.971), total=  44.9s\n",
            "[CV] min_samples_leaf=5400, min_samples_split=8000 ...................\n",
            "[CV]  min_samples_leaf=5400, min_samples_split=8000, AUC=(train=0.962, test=0.982), Accuracy=(train=0.966, test=0.976), F1=(train=0.966, test=0.976), total=  45.2s\n",
            "[CV] min_samples_leaf=5400, min_samples_split=8500 ...................\n",
            "[CV]  min_samples_leaf=5400, min_samples_split=8500, AUC=(train=0.975, test=0.868), Accuracy=(train=0.971, test=0.932), F1=(train=0.971, test=0.932), total=  46.0s\n",
            "[CV] min_samples_leaf=5400, min_samples_split=8500 ...................\n",
            "[CV]  min_samples_leaf=5400, min_samples_split=8500, AUC=(train=0.976, test=0.700), Accuracy=(train=0.972, test=0.904), F1=(train=0.972, test=0.904), total=  44.9s\n",
            "[CV] min_samples_leaf=5400, min_samples_split=8500 ...................\n",
            "[CV]  min_samples_leaf=5400, min_samples_split=8500, AUC=(train=0.976, test=0.782), Accuracy=(train=0.970, test=0.927), F1=(train=0.970, test=0.927), total=  47.5s\n",
            "[CV] min_samples_leaf=5400, min_samples_split=8500 ...................\n",
            "[CV]  min_samples_leaf=5400, min_samples_split=8500, AUC=(train=0.964, test=0.977), Accuracy=(train=0.966, test=0.969), F1=(train=0.966, test=0.969), total=  46.8s\n",
            "[CV] min_samples_leaf=5400, min_samples_split=8500 ...................\n",
            "[CV]  min_samples_leaf=5400, min_samples_split=8500, AUC=(train=0.965, test=0.964), Accuracy=(train=0.967, test=0.958), F1=(train=0.967, test=0.958), total=  43.9s\n",
            "[CV] min_samples_leaf=5400, min_samples_split=8500 ...................\n",
            "[CV]  min_samples_leaf=5400, min_samples_split=8500, AUC=(train=0.964, test=0.981), Accuracy=(train=0.966, test=0.972), F1=(train=0.966, test=0.972), total=  45.7s\n",
            "[CV] min_samples_leaf=5400, min_samples_split=8500 ...................\n",
            "[CV]  min_samples_leaf=5400, min_samples_split=8500, AUC=(train=0.963, test=0.977), Accuracy=(train=0.966, test=0.968), F1=(train=0.966, test=0.968), total=  43.2s\n",
            "[CV] min_samples_leaf=5400, min_samples_split=8500 ...................\n",
            "[CV]  min_samples_leaf=5400, min_samples_split=8500, AUC=(train=0.964, test=0.967), Accuracy=(train=0.966, test=0.961), F1=(train=0.966, test=0.961), total=  42.7s\n",
            "[CV] min_samples_leaf=5400, min_samples_split=8500 ...................\n",
            "[CV]  min_samples_leaf=5400, min_samples_split=8500, AUC=(train=0.963, test=0.976), Accuracy=(train=0.966, test=0.971), F1=(train=0.966, test=0.971), total=  45.0s\n",
            "[CV] min_samples_leaf=5400, min_samples_split=8500 ...................\n",
            "[CV]  min_samples_leaf=5400, min_samples_split=8500, AUC=(train=0.962, test=0.982), Accuracy=(train=0.966, test=0.976), F1=(train=0.966, test=0.976), total=  44.0s\n",
            "[CV] min_samples_leaf=5400, min_samples_split=9000 ...................\n",
            "[CV]  min_samples_leaf=5400, min_samples_split=9000, AUC=(train=0.975, test=0.868), Accuracy=(train=0.971, test=0.932), F1=(train=0.971, test=0.932), total=  47.4s\n",
            "[CV] min_samples_leaf=5400, min_samples_split=9000 ...................\n",
            "[CV]  min_samples_leaf=5400, min_samples_split=9000, AUC=(train=0.976, test=0.700), Accuracy=(train=0.972, test=0.904), F1=(train=0.972, test=0.904), total=  44.0s\n",
            "[CV] min_samples_leaf=5400, min_samples_split=9000 ...................\n",
            "[CV]  min_samples_leaf=5400, min_samples_split=9000, AUC=(train=0.976, test=0.782), Accuracy=(train=0.970, test=0.927), F1=(train=0.970, test=0.927), total=  42.7s\n",
            "[CV] min_samples_leaf=5400, min_samples_split=9000 ...................\n",
            "[CV]  min_samples_leaf=5400, min_samples_split=9000, AUC=(train=0.964, test=0.977), Accuracy=(train=0.966, test=0.969), F1=(train=0.966, test=0.969), total=  43.3s\n",
            "[CV] min_samples_leaf=5400, min_samples_split=9000 ...................\n",
            "[CV]  min_samples_leaf=5400, min_samples_split=9000, AUC=(train=0.965, test=0.964), Accuracy=(train=0.967, test=0.958), F1=(train=0.967, test=0.958), total=  45.2s\n",
            "[CV] min_samples_leaf=5400, min_samples_split=9000 ...................\n",
            "[CV]  min_samples_leaf=5400, min_samples_split=9000, AUC=(train=0.964, test=0.981), Accuracy=(train=0.966, test=0.972), F1=(train=0.966, test=0.972), total=  43.1s\n",
            "[CV] min_samples_leaf=5400, min_samples_split=9000 ...................\n",
            "[CV]  min_samples_leaf=5400, min_samples_split=9000, AUC=(train=0.963, test=0.977), Accuracy=(train=0.966, test=0.968), F1=(train=0.966, test=0.968), total=  45.3s\n",
            "[CV] min_samples_leaf=5400, min_samples_split=9000 ...................\n",
            "[CV]  min_samples_leaf=5400, min_samples_split=9000, AUC=(train=0.964, test=0.967), Accuracy=(train=0.966, test=0.961), F1=(train=0.966, test=0.961), total=  49.0s\n",
            "[CV] min_samples_leaf=5400, min_samples_split=9000 ...................\n",
            "[CV]  min_samples_leaf=5400, min_samples_split=9000, AUC=(train=0.963, test=0.976), Accuracy=(train=0.966, test=0.971), F1=(train=0.966, test=0.971), total=  50.5s\n",
            "[CV] min_samples_leaf=5400, min_samples_split=9000 ...................\n",
            "[CV]  min_samples_leaf=5400, min_samples_split=9000, AUC=(train=0.962, test=0.982), Accuracy=(train=0.966, test=0.976), F1=(train=0.966, test=0.976), total=  48.4s\n",
            "[CV] min_samples_leaf=5400, min_samples_split=9500 ...................\n",
            "[CV]  min_samples_leaf=5400, min_samples_split=9500, AUC=(train=0.975, test=0.868), Accuracy=(train=0.971, test=0.932), F1=(train=0.971, test=0.932), total=  49.6s\n",
            "[CV] min_samples_leaf=5400, min_samples_split=9500 ...................\n",
            "[CV]  min_samples_leaf=5400, min_samples_split=9500, AUC=(train=0.976, test=0.700), Accuracy=(train=0.972, test=0.904), F1=(train=0.972, test=0.904), total=  47.3s\n",
            "[CV] min_samples_leaf=5400, min_samples_split=9500 ...................\n",
            "[CV]  min_samples_leaf=5400, min_samples_split=9500, AUC=(train=0.976, test=0.782), Accuracy=(train=0.970, test=0.927), F1=(train=0.970, test=0.927), total=  50.1s\n",
            "[CV] min_samples_leaf=5400, min_samples_split=9500 ...................\n",
            "[CV]  min_samples_leaf=5400, min_samples_split=9500, AUC=(train=0.964, test=0.977), Accuracy=(train=0.966, test=0.969), F1=(train=0.966, test=0.969), total=  47.6s\n",
            "[CV] min_samples_leaf=5400, min_samples_split=9500 ...................\n",
            "[CV]  min_samples_leaf=5400, min_samples_split=9500, AUC=(train=0.965, test=0.964), Accuracy=(train=0.967, test=0.958), F1=(train=0.967, test=0.958), total=  49.2s\n",
            "[CV] min_samples_leaf=5400, min_samples_split=9500 ...................\n",
            "[CV]  min_samples_leaf=5400, min_samples_split=9500, AUC=(train=0.964, test=0.981), Accuracy=(train=0.966, test=0.972), F1=(train=0.966, test=0.972), total=  47.4s\n",
            "[CV] min_samples_leaf=5400, min_samples_split=9500 ...................\n",
            "[CV]  min_samples_leaf=5400, min_samples_split=9500, AUC=(train=0.963, test=0.977), Accuracy=(train=0.966, test=0.968), F1=(train=0.966, test=0.968), total=  44.2s\n",
            "[CV] min_samples_leaf=5400, min_samples_split=9500 ...................\n",
            "[CV]  min_samples_leaf=5400, min_samples_split=9500, AUC=(train=0.964, test=0.967), Accuracy=(train=0.966, test=0.961), F1=(train=0.966, test=0.961), total=  42.2s\n",
            "[CV] min_samples_leaf=5400, min_samples_split=9500 ...................\n",
            "[CV]  min_samples_leaf=5400, min_samples_split=9500, AUC=(train=0.963, test=0.976), Accuracy=(train=0.966, test=0.971), F1=(train=0.966, test=0.971), total=  43.8s\n",
            "[CV] min_samples_leaf=5400, min_samples_split=9500 ...................\n",
            "[CV]  min_samples_leaf=5400, min_samples_split=9500, AUC=(train=0.962, test=0.982), Accuracy=(train=0.966, test=0.976), F1=(train=0.966, test=0.976), total=  44.3s\n",
            "[CV] min_samples_leaf=5600, min_samples_split=7000 ...................\n",
            "[CV]  min_samples_leaf=5600, min_samples_split=7000, AUC=(train=0.976, test=0.867), Accuracy=(train=0.970, test=0.930), F1=(train=0.970, test=0.930), total=  43.8s\n",
            "[CV] min_samples_leaf=5600, min_samples_split=7000 ...................\n",
            "[CV]  min_samples_leaf=5600, min_samples_split=7000, AUC=(train=0.975, test=0.714), Accuracy=(train=0.971, test=0.909), F1=(train=0.971, test=0.909), total=  46.4s\n",
            "[CV] min_samples_leaf=5600, min_samples_split=7000 ...................\n",
            "[CV]  min_samples_leaf=5600, min_samples_split=7000, AUC=(train=0.975, test=0.786), Accuracy=(train=0.970, test=0.929), F1=(train=0.970, test=0.929), total=  43.1s\n",
            "[CV] min_samples_leaf=5600, min_samples_split=7000 ...................\n",
            "[CV]  min_samples_leaf=5600, min_samples_split=7000, AUC=(train=0.963, test=0.979), Accuracy=(train=0.966, test=0.969), F1=(train=0.966, test=0.969), total=  42.2s\n",
            "[CV] min_samples_leaf=5600, min_samples_split=7000 ...................\n",
            "[CV]  min_samples_leaf=5600, min_samples_split=7000, AUC=(train=0.965, test=0.964), Accuracy=(train=0.966, test=0.957), F1=(train=0.966, test=0.957), total=  44.8s\n",
            "[CV] min_samples_leaf=5600, min_samples_split=7000 ...................\n",
            "[CV]  min_samples_leaf=5600, min_samples_split=7000, AUC=(train=0.963, test=0.979), Accuracy=(train=0.965, test=0.970), F1=(train=0.965, test=0.970), total=  43.3s\n",
            "[CV] min_samples_leaf=5600, min_samples_split=7000 ...................\n",
            "[CV]  min_samples_leaf=5600, min_samples_split=7000, AUC=(train=0.963, test=0.975), Accuracy=(train=0.965, test=0.969), F1=(train=0.965, test=0.969), total=  42.2s\n",
            "[CV] min_samples_leaf=5600, min_samples_split=7000 ...................\n",
            "[CV]  min_samples_leaf=5600, min_samples_split=7000, AUC=(train=0.964, test=0.967), Accuracy=(train=0.967, test=0.961), F1=(train=0.967, test=0.961), total=  43.9s\n",
            "[CV] min_samples_leaf=5600, min_samples_split=7000 ...................\n",
            "[CV]  min_samples_leaf=5600, min_samples_split=7000, AUC=(train=0.963, test=0.974), Accuracy=(train=0.965, test=0.971), F1=(train=0.965, test=0.971), total=  43.5s\n",
            "[CV] min_samples_leaf=5600, min_samples_split=7000 ...................\n",
            "[CV]  min_samples_leaf=5600, min_samples_split=7000, AUC=(train=0.962, test=0.982), Accuracy=(train=0.965, test=0.975), F1=(train=0.965, test=0.975), total=  43.0s\n",
            "[CV] min_samples_leaf=5600, min_samples_split=7500 ...................\n",
            "[CV]  min_samples_leaf=5600, min_samples_split=7500, AUC=(train=0.976, test=0.867), Accuracy=(train=0.970, test=0.930), F1=(train=0.970, test=0.930), total=  43.5s\n",
            "[CV] min_samples_leaf=5600, min_samples_split=7500 ...................\n",
            "[CV]  min_samples_leaf=5600, min_samples_split=7500, AUC=(train=0.975, test=0.714), Accuracy=(train=0.971, test=0.909), F1=(train=0.971, test=0.909), total=  43.5s\n",
            "[CV] min_samples_leaf=5600, min_samples_split=7500 ...................\n",
            "[CV]  min_samples_leaf=5600, min_samples_split=7500, AUC=(train=0.975, test=0.786), Accuracy=(train=0.970, test=0.929), F1=(train=0.970, test=0.929), total=  41.8s\n",
            "[CV] min_samples_leaf=5600, min_samples_split=7500 ...................\n",
            "[CV]  min_samples_leaf=5600, min_samples_split=7500, AUC=(train=0.963, test=0.979), Accuracy=(train=0.966, test=0.969), F1=(train=0.966, test=0.969), total=  44.1s\n",
            "[CV] min_samples_leaf=5600, min_samples_split=7500 ...................\n",
            "[CV]  min_samples_leaf=5600, min_samples_split=7500, AUC=(train=0.965, test=0.964), Accuracy=(train=0.966, test=0.957), F1=(train=0.966, test=0.957), total=  43.2s\n",
            "[CV] min_samples_leaf=5600, min_samples_split=7500 ...................\n",
            "[CV]  min_samples_leaf=5600, min_samples_split=7500, AUC=(train=0.963, test=0.979), Accuracy=(train=0.965, test=0.970), F1=(train=0.965, test=0.970), total=  42.9s\n",
            "[CV] min_samples_leaf=5600, min_samples_split=7500 ...................\n",
            "[CV]  min_samples_leaf=5600, min_samples_split=7500, AUC=(train=0.963, test=0.975), Accuracy=(train=0.965, test=0.969), F1=(train=0.965, test=0.969), total=  41.7s\n",
            "[CV] min_samples_leaf=5600, min_samples_split=7500 ...................\n",
            "[CV]  min_samples_leaf=5600, min_samples_split=7500, AUC=(train=0.964, test=0.967), Accuracy=(train=0.967, test=0.961), F1=(train=0.967, test=0.961), total=  41.8s\n",
            "[CV] min_samples_leaf=5600, min_samples_split=7500 ...................\n",
            "[CV]  min_samples_leaf=5600, min_samples_split=7500, AUC=(train=0.963, test=0.974), Accuracy=(train=0.965, test=0.971), F1=(train=0.965, test=0.971), total=  43.9s\n",
            "[CV] min_samples_leaf=5600, min_samples_split=7500 ...................\n",
            "[CV]  min_samples_leaf=5600, min_samples_split=7500, AUC=(train=0.962, test=0.982), Accuracy=(train=0.965, test=0.975), F1=(train=0.965, test=0.975), total=  44.3s\n",
            "[CV] min_samples_leaf=5600, min_samples_split=8000 ...................\n",
            "[CV]  min_samples_leaf=5600, min_samples_split=8000, AUC=(train=0.976, test=0.867), Accuracy=(train=0.970, test=0.930), F1=(train=0.970, test=0.930), total=  43.3s\n",
            "[CV] min_samples_leaf=5600, min_samples_split=8000 ...................\n",
            "[CV]  min_samples_leaf=5600, min_samples_split=8000, AUC=(train=0.975, test=0.714), Accuracy=(train=0.971, test=0.909), F1=(train=0.971, test=0.909), total=  45.3s\n",
            "[CV] min_samples_leaf=5600, min_samples_split=8000 ...................\n",
            "[CV]  min_samples_leaf=5600, min_samples_split=8000, AUC=(train=0.975, test=0.786), Accuracy=(train=0.970, test=0.929), F1=(train=0.970, test=0.929), total=  42.3s\n",
            "[CV] min_samples_leaf=5600, min_samples_split=8000 ...................\n",
            "[CV]  min_samples_leaf=5600, min_samples_split=8000, AUC=(train=0.963, test=0.979), Accuracy=(train=0.966, test=0.969), F1=(train=0.966, test=0.969), total=  43.3s\n",
            "[CV] min_samples_leaf=5600, min_samples_split=8000 ...................\n",
            "[CV]  min_samples_leaf=5600, min_samples_split=8000, AUC=(train=0.965, test=0.964), Accuracy=(train=0.966, test=0.957), F1=(train=0.966, test=0.957), total=  44.2s\n",
            "[CV] min_samples_leaf=5600, min_samples_split=8000 ...................\n",
            "[CV]  min_samples_leaf=5600, min_samples_split=8000, AUC=(train=0.963, test=0.979), Accuracy=(train=0.965, test=0.970), F1=(train=0.965, test=0.970), total=  43.8s\n",
            "[CV] min_samples_leaf=5600, min_samples_split=8000 ...................\n",
            "[CV]  min_samples_leaf=5600, min_samples_split=8000, AUC=(train=0.963, test=0.975), Accuracy=(train=0.965, test=0.969), F1=(train=0.965, test=0.969), total=  43.3s\n",
            "[CV] min_samples_leaf=5600, min_samples_split=8000 ...................\n",
            "[CV]  min_samples_leaf=5600, min_samples_split=8000, AUC=(train=0.964, test=0.967), Accuracy=(train=0.967, test=0.961), F1=(train=0.967, test=0.961), total=  42.3s\n",
            "[CV] min_samples_leaf=5600, min_samples_split=8000 ...................\n",
            "[CV]  min_samples_leaf=5600, min_samples_split=8000, AUC=(train=0.963, test=0.974), Accuracy=(train=0.965, test=0.971), F1=(train=0.965, test=0.971), total=  42.9s\n",
            "[CV] min_samples_leaf=5600, min_samples_split=8000 ...................\n",
            "[CV]  min_samples_leaf=5600, min_samples_split=8000, AUC=(train=0.962, test=0.982), Accuracy=(train=0.965, test=0.975), F1=(train=0.965, test=0.975), total=  43.6s\n",
            "[CV] min_samples_leaf=5600, min_samples_split=8500 ...................\n",
            "[CV]  min_samples_leaf=5600, min_samples_split=8500, AUC=(train=0.976, test=0.867), Accuracy=(train=0.970, test=0.930), F1=(train=0.970, test=0.930), total=  43.5s\n",
            "[CV] min_samples_leaf=5600, min_samples_split=8500 ...................\n",
            "[CV]  min_samples_leaf=5600, min_samples_split=8500, AUC=(train=0.975, test=0.714), Accuracy=(train=0.971, test=0.909), F1=(train=0.971, test=0.909), total=  44.2s\n",
            "[CV] min_samples_leaf=5600, min_samples_split=8500 ...................\n",
            "[CV]  min_samples_leaf=5600, min_samples_split=8500, AUC=(train=0.975, test=0.786), Accuracy=(train=0.970, test=0.929), F1=(train=0.970, test=0.929), total=  41.7s\n",
            "[CV] min_samples_leaf=5600, min_samples_split=8500 ...................\n",
            "[CV]  min_samples_leaf=5600, min_samples_split=8500, AUC=(train=0.963, test=0.979), Accuracy=(train=0.966, test=0.969), F1=(train=0.966, test=0.969), total=  43.1s\n",
            "[CV] min_samples_leaf=5600, min_samples_split=8500 ...................\n",
            "[CV]  min_samples_leaf=5600, min_samples_split=8500, AUC=(train=0.965, test=0.964), Accuracy=(train=0.966, test=0.957), F1=(train=0.966, test=0.957), total=  42.8s\n",
            "[CV] min_samples_leaf=5600, min_samples_split=8500 ...................\n",
            "[CV]  min_samples_leaf=5600, min_samples_split=8500, AUC=(train=0.963, test=0.979), Accuracy=(train=0.965, test=0.970), F1=(train=0.965, test=0.970), total=  42.6s\n",
            "[CV] min_samples_leaf=5600, min_samples_split=8500 ...................\n",
            "[CV]  min_samples_leaf=5600, min_samples_split=8500, AUC=(train=0.963, test=0.975), Accuracy=(train=0.965, test=0.969), F1=(train=0.965, test=0.969), total=  43.1s\n",
            "[CV] min_samples_leaf=5600, min_samples_split=8500 ...................\n",
            "[CV]  min_samples_leaf=5600, min_samples_split=8500, AUC=(train=0.964, test=0.967), Accuracy=(train=0.967, test=0.961), F1=(train=0.967, test=0.961), total=  43.1s\n",
            "[CV] min_samples_leaf=5600, min_samples_split=8500 ...................\n",
            "[CV]  min_samples_leaf=5600, min_samples_split=8500, AUC=(train=0.963, test=0.974), Accuracy=(train=0.965, test=0.971), F1=(train=0.965, test=0.971), total=  43.4s\n",
            "[CV] min_samples_leaf=5600, min_samples_split=8500 ...................\n",
            "[CV]  min_samples_leaf=5600, min_samples_split=8500, AUC=(train=0.962, test=0.982), Accuracy=(train=0.965, test=0.975), F1=(train=0.965, test=0.975), total=  42.2s\n",
            "[CV] min_samples_leaf=5600, min_samples_split=9000 ...................\n",
            "[CV]  min_samples_leaf=5600, min_samples_split=9000, AUC=(train=0.976, test=0.867), Accuracy=(train=0.970, test=0.930), F1=(train=0.970, test=0.930), total=  43.9s\n",
            "[CV] min_samples_leaf=5600, min_samples_split=9000 ...................\n",
            "[CV]  min_samples_leaf=5600, min_samples_split=9000, AUC=(train=0.975, test=0.714), Accuracy=(train=0.971, test=0.909), F1=(train=0.971, test=0.909), total=  43.4s\n",
            "[CV] min_samples_leaf=5600, min_samples_split=9000 ...................\n",
            "[CV]  min_samples_leaf=5600, min_samples_split=9000, AUC=(train=0.975, test=0.786), Accuracy=(train=0.970, test=0.929), F1=(train=0.970, test=0.929), total=  43.7s\n",
            "[CV] min_samples_leaf=5600, min_samples_split=9000 ...................\n",
            "[CV]  min_samples_leaf=5600, min_samples_split=9000, AUC=(train=0.963, test=0.979), Accuracy=(train=0.966, test=0.969), F1=(train=0.966, test=0.969), total=  42.2s\n",
            "[CV] min_samples_leaf=5600, min_samples_split=9000 ...................\n",
            "[CV]  min_samples_leaf=5600, min_samples_split=9000, AUC=(train=0.965, test=0.964), Accuracy=(train=0.966, test=0.957), F1=(train=0.966, test=0.957), total=  43.0s\n",
            "[CV] min_samples_leaf=5600, min_samples_split=9000 ...................\n",
            "[CV]  min_samples_leaf=5600, min_samples_split=9000, AUC=(train=0.963, test=0.979), Accuracy=(train=0.965, test=0.970), F1=(train=0.965, test=0.970), total=  42.2s\n",
            "[CV] min_samples_leaf=5600, min_samples_split=9000 ...................\n",
            "[CV]  min_samples_leaf=5600, min_samples_split=9000, AUC=(train=0.963, test=0.975), Accuracy=(train=0.965, test=0.969), F1=(train=0.965, test=0.969), total=  43.5s\n",
            "[CV] min_samples_leaf=5600, min_samples_split=9000 ...................\n",
            "[CV]  min_samples_leaf=5600, min_samples_split=9000, AUC=(train=0.964, test=0.967), Accuracy=(train=0.967, test=0.961), F1=(train=0.967, test=0.961), total=  44.2s\n",
            "[CV] min_samples_leaf=5600, min_samples_split=9000 ...................\n",
            "[CV]  min_samples_leaf=5600, min_samples_split=9000, AUC=(train=0.963, test=0.974), Accuracy=(train=0.965, test=0.971), F1=(train=0.965, test=0.971), total=  42.2s\n",
            "[CV] min_samples_leaf=5600, min_samples_split=9000 ...................\n",
            "[CV]  min_samples_leaf=5600, min_samples_split=9000, AUC=(train=0.962, test=0.982), Accuracy=(train=0.965, test=0.975), F1=(train=0.965, test=0.975), total=  42.7s\n",
            "[CV] min_samples_leaf=5600, min_samples_split=9500 ...................\n",
            "[CV]  min_samples_leaf=5600, min_samples_split=9500, AUC=(train=0.976, test=0.867), Accuracy=(train=0.970, test=0.930), F1=(train=0.970, test=0.930), total=  45.0s\n",
            "[CV] min_samples_leaf=5600, min_samples_split=9500 ...................\n",
            "[CV]  min_samples_leaf=5600, min_samples_split=9500, AUC=(train=0.975, test=0.714), Accuracy=(train=0.971, test=0.909), F1=(train=0.971, test=0.909), total=  42.2s\n",
            "[CV] min_samples_leaf=5600, min_samples_split=9500 ...................\n",
            "[CV]  min_samples_leaf=5600, min_samples_split=9500, AUC=(train=0.975, test=0.786), Accuracy=(train=0.970, test=0.929), F1=(train=0.970, test=0.929), total=  42.6s\n",
            "[CV] min_samples_leaf=5600, min_samples_split=9500 ...................\n",
            "[CV]  min_samples_leaf=5600, min_samples_split=9500, AUC=(train=0.963, test=0.979), Accuracy=(train=0.966, test=0.969), F1=(train=0.966, test=0.969), total=  43.2s\n",
            "[CV] min_samples_leaf=5600, min_samples_split=9500 ...................\n",
            "[CV]  min_samples_leaf=5600, min_samples_split=9500, AUC=(train=0.965, test=0.964), Accuracy=(train=0.966, test=0.957), F1=(train=0.966, test=0.957), total=  44.4s\n",
            "[CV] min_samples_leaf=5600, min_samples_split=9500 ...................\n",
            "[CV]  min_samples_leaf=5600, min_samples_split=9500, AUC=(train=0.963, test=0.979), Accuracy=(train=0.965, test=0.970), F1=(train=0.965, test=0.970), total=  46.5s\n",
            "[CV] min_samples_leaf=5600, min_samples_split=9500 ...................\n",
            "[CV]  min_samples_leaf=5600, min_samples_split=9500, AUC=(train=0.963, test=0.975), Accuracy=(train=0.965, test=0.969), F1=(train=0.965, test=0.969), total=  51.7s\n",
            "[CV] min_samples_leaf=5600, min_samples_split=9500 ...................\n",
            "[CV]  min_samples_leaf=5600, min_samples_split=9500, AUC=(train=0.964, test=0.967), Accuracy=(train=0.967, test=0.961), F1=(train=0.967, test=0.961), total=  51.9s\n",
            "[CV] min_samples_leaf=5600, min_samples_split=9500 ...................\n",
            "[CV]  min_samples_leaf=5600, min_samples_split=9500, AUC=(train=0.963, test=0.974), Accuracy=(train=0.965, test=0.971), F1=(train=0.965, test=0.971), total=  48.9s\n",
            "[CV] min_samples_leaf=5600, min_samples_split=9500 ...................\n",
            "[CV]  min_samples_leaf=5600, min_samples_split=9500, AUC=(train=0.962, test=0.982), Accuracy=(train=0.965, test=0.975), F1=(train=0.965, test=0.975), total=  50.0s\n",
            "[CV] min_samples_leaf=5800, min_samples_split=7000 ...................\n",
            "[CV]  min_samples_leaf=5800, min_samples_split=7000, AUC=(train=0.975, test=0.870), Accuracy=(train=0.970, test=0.932), F1=(train=0.970, test=0.932), total=  51.7s\n",
            "[CV] min_samples_leaf=5800, min_samples_split=7000 ...................\n",
            "[CV]  min_samples_leaf=5800, min_samples_split=7000, AUC=(train=0.975, test=0.700), Accuracy=(train=0.971, test=0.906), F1=(train=0.971, test=0.906), total=  50.2s\n",
            "[CV] min_samples_leaf=5800, min_samples_split=7000 ...................\n",
            "[CV]  min_samples_leaf=5800, min_samples_split=7000, AUC=(train=0.975, test=0.795), Accuracy=(train=0.969, test=0.928), F1=(train=0.969, test=0.928), total=  50.1s\n",
            "[CV] min_samples_leaf=5800, min_samples_split=7000 ...................\n",
            "[CV]  min_samples_leaf=5800, min_samples_split=7000, AUC=(train=0.964, test=0.978), Accuracy=(train=0.965, test=0.969), F1=(train=0.965, test=0.969), total=  49.8s\n",
            "[CV] min_samples_leaf=5800, min_samples_split=7000 ...................\n",
            "[CV]  min_samples_leaf=5800, min_samples_split=7000, AUC=(train=0.964, test=0.967), Accuracy=(train=0.966, test=0.960), F1=(train=0.966, test=0.960), total=  48.5s\n",
            "[CV] min_samples_leaf=5800, min_samples_split=7000 ...................\n",
            "[CV]  min_samples_leaf=5800, min_samples_split=7000, AUC=(train=0.963, test=0.979), Accuracy=(train=0.965, test=0.971), F1=(train=0.965, test=0.971), total=  48.9s\n",
            "[CV] min_samples_leaf=5800, min_samples_split=7000 ...................\n",
            "[CV]  min_samples_leaf=5800, min_samples_split=7000, AUC=(train=0.963, test=0.977), Accuracy=(train=0.965, test=0.969), F1=(train=0.965, test=0.969), total=  48.9s\n",
            "[CV] min_samples_leaf=5800, min_samples_split=7000 ...................\n",
            "[CV]  min_samples_leaf=5800, min_samples_split=7000, AUC=(train=0.964, test=0.965), Accuracy=(train=0.966, test=0.958), F1=(train=0.966, test=0.958), total=  50.4s\n",
            "[CV] min_samples_leaf=5800, min_samples_split=7000 ...................\n",
            "[CV]  min_samples_leaf=5800, min_samples_split=7000, AUC=(train=0.962, test=0.975), Accuracy=(train=0.965, test=0.972), F1=(train=0.965, test=0.972), total=  49.1s\n",
            "[CV] min_samples_leaf=5800, min_samples_split=7000 ...................\n",
            "[CV]  min_samples_leaf=5800, min_samples_split=7000, AUC=(train=0.962, test=0.982), Accuracy=(train=0.965, test=0.974), F1=(train=0.965, test=0.974), total=  49.3s\n",
            "[CV] min_samples_leaf=5800, min_samples_split=7500 ...................\n",
            "[CV]  min_samples_leaf=5800, min_samples_split=7500, AUC=(train=0.975, test=0.870), Accuracy=(train=0.970, test=0.932), F1=(train=0.970, test=0.932), total=  49.4s\n",
            "[CV] min_samples_leaf=5800, min_samples_split=7500 ...................\n",
            "[CV]  min_samples_leaf=5800, min_samples_split=7500, AUC=(train=0.975, test=0.700), Accuracy=(train=0.971, test=0.906), F1=(train=0.971, test=0.906), total=  51.5s\n",
            "[CV] min_samples_leaf=5800, min_samples_split=7500 ...................\n",
            "[CV]  min_samples_leaf=5800, min_samples_split=7500, AUC=(train=0.975, test=0.795), Accuracy=(train=0.969, test=0.928), F1=(train=0.969, test=0.928), total=  51.7s\n",
            "[CV] min_samples_leaf=5800, min_samples_split=7500 ...................\n",
            "[CV]  min_samples_leaf=5800, min_samples_split=7500, AUC=(train=0.964, test=0.978), Accuracy=(train=0.965, test=0.969), F1=(train=0.965, test=0.969), total=  51.1s\n",
            "[CV] min_samples_leaf=5800, min_samples_split=7500 ...................\n",
            "[CV]  min_samples_leaf=5800, min_samples_split=7500, AUC=(train=0.964, test=0.967), Accuracy=(train=0.966, test=0.960), F1=(train=0.966, test=0.960), total=  49.9s\n",
            "[CV] min_samples_leaf=5800, min_samples_split=7500 ...................\n",
            "[CV]  min_samples_leaf=5800, min_samples_split=7500, AUC=(train=0.963, test=0.979), Accuracy=(train=0.965, test=0.971), F1=(train=0.965, test=0.971), total=  48.1s\n",
            "[CV] min_samples_leaf=5800, min_samples_split=7500 ...................\n",
            "[CV]  min_samples_leaf=5800, min_samples_split=7500, AUC=(train=0.963, test=0.977), Accuracy=(train=0.965, test=0.969), F1=(train=0.965, test=0.969), total=  50.8s\n",
            "[CV] min_samples_leaf=5800, min_samples_split=7500 ...................\n",
            "[CV]  min_samples_leaf=5800, min_samples_split=7500, AUC=(train=0.964, test=0.965), Accuracy=(train=0.966, test=0.958), F1=(train=0.966, test=0.958), total=  51.7s\n",
            "[CV] min_samples_leaf=5800, min_samples_split=7500 ...................\n",
            "[CV]  min_samples_leaf=5800, min_samples_split=7500, AUC=(train=0.962, test=0.975), Accuracy=(train=0.965, test=0.972), F1=(train=0.965, test=0.972), total=  43.5s\n",
            "[CV] min_samples_leaf=5800, min_samples_split=7500 ...................\n",
            "[CV]  min_samples_leaf=5800, min_samples_split=7500, AUC=(train=0.962, test=0.982), Accuracy=(train=0.965, test=0.974), F1=(train=0.965, test=0.974), total=  42.5s\n",
            "[CV] min_samples_leaf=5800, min_samples_split=8000 ...................\n",
            "[CV]  min_samples_leaf=5800, min_samples_split=8000, AUC=(train=0.975, test=0.870), Accuracy=(train=0.970, test=0.932), F1=(train=0.970, test=0.932), total=  43.2s\n",
            "[CV] min_samples_leaf=5800, min_samples_split=8000 ...................\n",
            "[CV]  min_samples_leaf=5800, min_samples_split=8000, AUC=(train=0.975, test=0.700), Accuracy=(train=0.971, test=0.906), F1=(train=0.971, test=0.906), total=  43.0s\n",
            "[CV] min_samples_leaf=5800, min_samples_split=8000 ...................\n",
            "[CV]  min_samples_leaf=5800, min_samples_split=8000, AUC=(train=0.975, test=0.795), Accuracy=(train=0.969, test=0.928), F1=(train=0.969, test=0.928), total=  44.2s\n",
            "[CV] min_samples_leaf=5800, min_samples_split=8000 ...................\n",
            "[CV]  min_samples_leaf=5800, min_samples_split=8000, AUC=(train=0.964, test=0.978), Accuracy=(train=0.965, test=0.969), F1=(train=0.965, test=0.969), total=  42.8s\n",
            "[CV] min_samples_leaf=5800, min_samples_split=8000 ...................\n",
            "[CV]  min_samples_leaf=5800, min_samples_split=8000, AUC=(train=0.964, test=0.967), Accuracy=(train=0.966, test=0.960), F1=(train=0.966, test=0.960), total=  42.4s\n",
            "[CV] min_samples_leaf=5800, min_samples_split=8000 ...................\n",
            "[CV]  min_samples_leaf=5800, min_samples_split=8000, AUC=(train=0.963, test=0.979), Accuracy=(train=0.965, test=0.971), F1=(train=0.965, test=0.971), total=  42.8s\n",
            "[CV] min_samples_leaf=5800, min_samples_split=8000 ...................\n",
            "[CV]  min_samples_leaf=5800, min_samples_split=8000, AUC=(train=0.963, test=0.977), Accuracy=(train=0.965, test=0.969), F1=(train=0.965, test=0.969), total=  44.8s\n",
            "[CV] min_samples_leaf=5800, min_samples_split=8000 ...................\n",
            "[CV]  min_samples_leaf=5800, min_samples_split=8000, AUC=(train=0.964, test=0.965), Accuracy=(train=0.966, test=0.958), F1=(train=0.966, test=0.958), total=  47.2s\n",
            "[CV] min_samples_leaf=5800, min_samples_split=8000 ...................\n",
            "[CV]  min_samples_leaf=5800, min_samples_split=8000, AUC=(train=0.962, test=0.975), Accuracy=(train=0.965, test=0.972), F1=(train=0.965, test=0.972), total=  45.2s\n",
            "[CV] min_samples_leaf=5800, min_samples_split=8000 ...................\n",
            "[CV]  min_samples_leaf=5800, min_samples_split=8000, AUC=(train=0.962, test=0.982), Accuracy=(train=0.965, test=0.974), F1=(train=0.965, test=0.974), total=  42.6s\n",
            "[CV] min_samples_leaf=5800, min_samples_split=8500 ...................\n",
            "[CV]  min_samples_leaf=5800, min_samples_split=8500, AUC=(train=0.975, test=0.870), Accuracy=(train=0.970, test=0.932), F1=(train=0.970, test=0.932), total=  42.6s\n",
            "[CV] min_samples_leaf=5800, min_samples_split=8500 ...................\n",
            "[CV]  min_samples_leaf=5800, min_samples_split=8500, AUC=(train=0.975, test=0.700), Accuracy=(train=0.971, test=0.906), F1=(train=0.971, test=0.906), total=  43.3s\n",
            "[CV] min_samples_leaf=5800, min_samples_split=8500 ...................\n",
            "[CV]  min_samples_leaf=5800, min_samples_split=8500, AUC=(train=0.975, test=0.795), Accuracy=(train=0.969, test=0.928), F1=(train=0.969, test=0.928), total=  43.8s\n",
            "[CV] min_samples_leaf=5800, min_samples_split=8500 ...................\n",
            "[CV]  min_samples_leaf=5800, min_samples_split=8500, AUC=(train=0.964, test=0.978), Accuracy=(train=0.965, test=0.969), F1=(train=0.965, test=0.969), total=  42.2s\n",
            "[CV] min_samples_leaf=5800, min_samples_split=8500 ...................\n",
            "[CV]  min_samples_leaf=5800, min_samples_split=8500, AUC=(train=0.964, test=0.967), Accuracy=(train=0.966, test=0.960), F1=(train=0.966, test=0.960), total=  43.5s\n",
            "[CV] min_samples_leaf=5800, min_samples_split=8500 ...................\n",
            "[CV]  min_samples_leaf=5800, min_samples_split=8500, AUC=(train=0.963, test=0.979), Accuracy=(train=0.965, test=0.971), F1=(train=0.965, test=0.971), total=  41.4s\n",
            "[CV] min_samples_leaf=5800, min_samples_split=8500 ...................\n",
            "[CV]  min_samples_leaf=5800, min_samples_split=8500, AUC=(train=0.963, test=0.977), Accuracy=(train=0.965, test=0.969), F1=(train=0.965, test=0.969), total=  41.9s\n",
            "[CV] min_samples_leaf=5800, min_samples_split=8500 ...................\n",
            "[CV]  min_samples_leaf=5800, min_samples_split=8500, AUC=(train=0.964, test=0.965), Accuracy=(train=0.966, test=0.958), F1=(train=0.966, test=0.958), total=  43.4s\n",
            "[CV] min_samples_leaf=5800, min_samples_split=8500 ...................\n",
            "[CV]  min_samples_leaf=5800, min_samples_split=8500, AUC=(train=0.962, test=0.975), Accuracy=(train=0.965, test=0.972), F1=(train=0.965, test=0.972), total=  41.8s\n",
            "[CV] min_samples_leaf=5800, min_samples_split=8500 ...................\n",
            "[CV]  min_samples_leaf=5800, min_samples_split=8500, AUC=(train=0.962, test=0.982), Accuracy=(train=0.965, test=0.974), F1=(train=0.965, test=0.974), total=  43.4s\n",
            "[CV] min_samples_leaf=5800, min_samples_split=9000 ...................\n",
            "[CV]  min_samples_leaf=5800, min_samples_split=9000, AUC=(train=0.975, test=0.870), Accuracy=(train=0.970, test=0.932), F1=(train=0.970, test=0.932), total=  45.8s\n",
            "[CV] min_samples_leaf=5800, min_samples_split=9000 ...................\n",
            "[CV]  min_samples_leaf=5800, min_samples_split=9000, AUC=(train=0.975, test=0.700), Accuracy=(train=0.971, test=0.906), F1=(train=0.971, test=0.906), total=  43.1s\n",
            "[CV] min_samples_leaf=5800, min_samples_split=9000 ...................\n",
            "[CV]  min_samples_leaf=5800, min_samples_split=9000, AUC=(train=0.975, test=0.795), Accuracy=(train=0.969, test=0.928), F1=(train=0.969, test=0.928), total=  45.8s\n",
            "[CV] min_samples_leaf=5800, min_samples_split=9000 ...................\n",
            "[CV]  min_samples_leaf=5800, min_samples_split=9000, AUC=(train=0.964, test=0.978), Accuracy=(train=0.965, test=0.969), F1=(train=0.965, test=0.969), total=  43.7s\n",
            "[CV] min_samples_leaf=5800, min_samples_split=9000 ...................\n",
            "[CV]  min_samples_leaf=5800, min_samples_split=9000, AUC=(train=0.964, test=0.967), Accuracy=(train=0.966, test=0.960), F1=(train=0.966, test=0.960), total=  45.5s\n",
            "[CV] min_samples_leaf=5800, min_samples_split=9000 ...................\n",
            "[CV]  min_samples_leaf=5800, min_samples_split=9000, AUC=(train=0.963, test=0.979), Accuracy=(train=0.965, test=0.971), F1=(train=0.965, test=0.971), total=  45.7s\n",
            "[CV] min_samples_leaf=5800, min_samples_split=9000 ...................\n",
            "[CV]  min_samples_leaf=5800, min_samples_split=9000, AUC=(train=0.963, test=0.977), Accuracy=(train=0.965, test=0.969), F1=(train=0.965, test=0.969), total=  43.9s\n",
            "[CV] min_samples_leaf=5800, min_samples_split=9000 ...................\n",
            "[CV]  min_samples_leaf=5800, min_samples_split=9000, AUC=(train=0.964, test=0.965), Accuracy=(train=0.966, test=0.958), F1=(train=0.966, test=0.958), total=  45.9s\n",
            "[CV] min_samples_leaf=5800, min_samples_split=9000 ...................\n",
            "[CV]  min_samples_leaf=5800, min_samples_split=9000, AUC=(train=0.962, test=0.975), Accuracy=(train=0.965, test=0.972), F1=(train=0.965, test=0.972), total=  46.3s\n",
            "[CV] min_samples_leaf=5800, min_samples_split=9000 ...................\n",
            "[CV]  min_samples_leaf=5800, min_samples_split=9000, AUC=(train=0.962, test=0.982), Accuracy=(train=0.965, test=0.974), F1=(train=0.965, test=0.974), total=  43.2s\n",
            "[CV] min_samples_leaf=5800, min_samples_split=9500 ...................\n",
            "[CV]  min_samples_leaf=5800, min_samples_split=9500, AUC=(train=0.975, test=0.870), Accuracy=(train=0.970, test=0.932), F1=(train=0.970, test=0.932), total=  42.0s\n",
            "[CV] min_samples_leaf=5800, min_samples_split=9500 ...................\n",
            "[CV]  min_samples_leaf=5800, min_samples_split=9500, AUC=(train=0.975, test=0.700), Accuracy=(train=0.971, test=0.906), F1=(train=0.971, test=0.906), total=  42.4s\n",
            "[CV] min_samples_leaf=5800, min_samples_split=9500 ...................\n",
            "[CV]  min_samples_leaf=5800, min_samples_split=9500, AUC=(train=0.975, test=0.795), Accuracy=(train=0.969, test=0.928), F1=(train=0.969, test=0.928), total=  43.6s\n",
            "[CV] min_samples_leaf=5800, min_samples_split=9500 ...................\n",
            "[CV]  min_samples_leaf=5800, min_samples_split=9500, AUC=(train=0.964, test=0.978), Accuracy=(train=0.965, test=0.969), F1=(train=0.965, test=0.969), total=  44.1s\n",
            "[CV] min_samples_leaf=5800, min_samples_split=9500 ...................\n",
            "[CV]  min_samples_leaf=5800, min_samples_split=9500, AUC=(train=0.964, test=0.967), Accuracy=(train=0.966, test=0.960), F1=(train=0.966, test=0.960), total=  57.1s\n",
            "[CV] min_samples_leaf=5800, min_samples_split=9500 ...................\n",
            "[CV]  min_samples_leaf=5800, min_samples_split=9500, AUC=(train=0.963, test=0.979), Accuracy=(train=0.965, test=0.971), F1=(train=0.965, test=0.971), total=  56.7s\n",
            "[CV] min_samples_leaf=5800, min_samples_split=9500 ...................\n",
            "[CV]  min_samples_leaf=5800, min_samples_split=9500, AUC=(train=0.963, test=0.977), Accuracy=(train=0.965, test=0.969), F1=(train=0.965, test=0.969), total=  51.1s\n",
            "[CV] min_samples_leaf=5800, min_samples_split=9500 ...................\n",
            "[CV]  min_samples_leaf=5800, min_samples_split=9500, AUC=(train=0.964, test=0.965), Accuracy=(train=0.966, test=0.958), F1=(train=0.966, test=0.958), total=  48.0s\n",
            "[CV] min_samples_leaf=5800, min_samples_split=9500 ...................\n",
            "[CV]  min_samples_leaf=5800, min_samples_split=9500, AUC=(train=0.962, test=0.975), Accuracy=(train=0.965, test=0.972), F1=(train=0.965, test=0.972), total=  38.2s\n",
            "[CV] min_samples_leaf=5800, min_samples_split=9500 ...................\n",
            "[CV]  min_samples_leaf=5800, min_samples_split=9500, AUC=(train=0.962, test=0.982), Accuracy=(train=0.965, test=0.974), F1=(train=0.965, test=0.974), total=  37.8s\n"
          ]
        },
        {
          "name": "stderr",
          "output_type": "stream",
          "text": [
            "[Parallel(n_jobs=1)]: Done 300 out of 300 | elapsed: 260.9min finished\n"
          ]
        },
        {
          "name": "stdout",
          "output_type": "stream",
          "text": [
            "\n",
            " Time taken: 4 hours 21 minutes and 36.99 seconds.\n"
          ]
        }
      ]
    },
    {
      "cell_type": "markdown",
      "metadata": {
        "id": "C2SsKeEgShGm"
      },
      "source": [
        "Observe best parameter and training score"
      ]
    },
    {
      "cell_type": "code",
      "metadata": {
        "colab": {
          "base_uri": "https://localhost:8080/"
        },
        "id": "A0SLW0Hwi_uf",
        "outputId": "5c277fc3-c79e-46c3-ae49-dd735e83a3bc"
      },
      "source": [
        "gsearch2.best_params_, gsearch2.best_score_\n"
      ],
      "execution_count": null,
      "outputs": [
        {
          "data": {
            "text/plain": [
              "({'min_samples_leaf': 5000, 'min_samples_split': 7000}, 0.9233695400440594)"
            ]
          },
          "execution_count": 32,
          "metadata": {},
          "output_type": "execute_result"
        }
      ]
    },
    {
      "cell_type": "markdown",
      "metadata": {
        "id": "GDokRca0f97h"
      },
      "source": [
        "## **C. max_depth**"
      ]
    },
    {
      "cell_type": "code",
      "metadata": {
        "id": "eWl4IPi8Frq_"
      },
      "source": [
        "gbc3 = GradientBoostingClassifier(random_state=10, max_features = 'sqrt',learning_rate=0.1, n_estimators=700,min_samples_split=7000, min_samples_leaf=5000)\n",
        "parameters3 = {\n",
        "    \"max_depth\":[15,20,25,35]\n",
        "}\n",
        "scoring3 = {'AUC': 'roc_auc', 'Accuracy': make_scorer(accuracy_score), 'F1':make_scorer(f1_score, average='micro')}"
      ],
      "execution_count": null,
      "outputs": []
    },
    {
      "cell_type": "code",
      "metadata": {
        "colab": {
          "base_uri": "https://localhost:8080/"
        },
        "id": "MvrUdcKA2WAf",
        "outputId": "370c5dd0-353a-4146-a51a-7eef80cc2421"
      },
      "source": [
        "\n",
        "start_time = timer(None) # timing starts from this point for \"start_time\" variable\n",
        "gsearch3 = GridSearchCV(estimator=gbc3,param_grid=parameters3,scoring=scoring3, cv=8, verbose=3, refit='AUC', return_train_score=True)\n",
        "gsearch3.fit(X,Y)\n",
        "timer(start_time) # timing ends here for \"start_time\" variable"
      ],
      "execution_count": null,
      "outputs": [
        {
          "name": "stdout",
          "output_type": "stream",
          "text": [
            "Fitting 8 folds for each of 4 candidates, totalling 32 fits\n",
            "[CV] max_depth=15 ....................................................\n"
          ]
        },
        {
          "name": "stderr",
          "output_type": "stream",
          "text": [
            "[Parallel(n_jobs=1)]: Using backend SequentialBackend with 1 concurrent workers.\n"
          ]
        },
        {
          "name": "stdout",
          "output_type": "stream",
          "text": [
            "[CV]  max_depth=15, AUC=(train=0.987, test=0.890), Accuracy=(train=0.980, test=0.935), F1=(train=0.980, test=0.935), total=  51.1s\n",
            "[CV] max_depth=15 ....................................................\n"
          ]
        },
        {
          "name": "stderr",
          "output_type": "stream",
          "text": [
            "[Parallel(n_jobs=1)]: Done   1 out of   1 | elapsed:   59.1s remaining:    0.0s\n"
          ]
        },
        {
          "name": "stdout",
          "output_type": "stream",
          "text": [
            "[CV]  max_depth=15, AUC=(train=0.989, test=0.662), Accuracy=(train=0.982, test=0.898), F1=(train=0.982, test=0.898), total=  50.6s\n",
            "[CV] max_depth=15 ....................................................\n"
          ]
        },
        {
          "name": "stderr",
          "output_type": "stream",
          "text": [
            "[Parallel(n_jobs=1)]: Done   2 out of   2 | elapsed:  2.0min remaining:    0.0s\n"
          ]
        },
        {
          "name": "stdout",
          "output_type": "stream",
          "text": [
            "[CV]  max_depth=15, AUC=(train=0.979, test=0.909), Accuracy=(train=0.976, test=0.945), F1=(train=0.976, test=0.945), total=  49.6s\n",
            "[CV] max_depth=15 ....................................................\n",
            "[CV]  max_depth=15, AUC=(train=0.976, test=0.973), Accuracy=(train=0.974, test=0.956), F1=(train=0.974, test=0.956), total=  48.7s\n",
            "[CV] max_depth=15 ....................................................\n",
            "[CV]  max_depth=15, AUC=(train=0.976, test=0.986), Accuracy=(train=0.974, test=0.970), F1=(train=0.974, test=0.970), total=  49.4s\n",
            "[CV] max_depth=15 ....................................................\n",
            "[CV]  max_depth=15, AUC=(train=0.976, test=0.979), Accuracy=(train=0.974, test=0.962), F1=(train=0.974, test=0.962), total=  50.7s\n",
            "[CV] max_depth=15 ....................................................\n",
            "[CV]  max_depth=15, AUC=(train=0.976, test=0.981), Accuracy=(train=0.974, test=0.973), F1=(train=0.974, test=0.973), total=  50.6s\n",
            "[CV] max_depth=15 ....................................................\n",
            "[CV]  max_depth=15, AUC=(train=0.974, test=0.987), Accuracy=(train=0.973, test=0.982), F1=(train=0.973, test=0.982), total=  51.2s\n",
            "[CV] max_depth=20 ....................................................\n",
            "[CV]  max_depth=20, AUC=(train=0.987, test=0.890), Accuracy=(train=0.980, test=0.935), F1=(train=0.980, test=0.935), total=  52.3s\n",
            "[CV] max_depth=20 ....................................................\n",
            "[CV]  max_depth=20, AUC=(train=0.989, test=0.662), Accuracy=(train=0.982, test=0.898), F1=(train=0.982, test=0.898), total=  52.1s\n",
            "[CV] max_depth=20 ....................................................\n",
            "[CV]  max_depth=20, AUC=(train=0.979, test=0.909), Accuracy=(train=0.976, test=0.945), F1=(train=0.976, test=0.945), total=  51.3s\n",
            "[CV] max_depth=20 ....................................................\n",
            "[CV]  max_depth=20, AUC=(train=0.976, test=0.973), Accuracy=(train=0.974, test=0.956), F1=(train=0.974, test=0.956), total=  49.8s\n",
            "[CV] max_depth=20 ....................................................\n",
            "[CV]  max_depth=20, AUC=(train=0.976, test=0.986), Accuracy=(train=0.974, test=0.970), F1=(train=0.974, test=0.970), total=  49.9s\n",
            "[CV] max_depth=20 ....................................................\n",
            "[CV]  max_depth=20, AUC=(train=0.976, test=0.979), Accuracy=(train=0.974, test=0.962), F1=(train=0.974, test=0.962), total=  50.6s\n",
            "[CV] max_depth=20 ....................................................\n",
            "[CV]  max_depth=20, AUC=(train=0.976, test=0.981), Accuracy=(train=0.974, test=0.973), F1=(train=0.974, test=0.973), total=  51.3s\n",
            "[CV] max_depth=20 ....................................................\n",
            "[CV]  max_depth=20, AUC=(train=0.974, test=0.987), Accuracy=(train=0.973, test=0.982), F1=(train=0.973, test=0.982), total=  50.9s\n",
            "[CV] max_depth=25 ....................................................\n",
            "[CV]  max_depth=25, AUC=(train=0.987, test=0.890), Accuracy=(train=0.980, test=0.935), F1=(train=0.980, test=0.935), total=  51.0s\n",
            "[CV] max_depth=25 ....................................................\n",
            "[CV]  max_depth=25, AUC=(train=0.989, test=0.662), Accuracy=(train=0.982, test=0.898), F1=(train=0.982, test=0.898), total=  51.6s\n",
            "[CV] max_depth=25 ....................................................\n",
            "[CV]  max_depth=25, AUC=(train=0.979, test=0.909), Accuracy=(train=0.976, test=0.945), F1=(train=0.976, test=0.945), total=  50.1s\n",
            "[CV] max_depth=25 ....................................................\n",
            "[CV]  max_depth=25, AUC=(train=0.976, test=0.973), Accuracy=(train=0.974, test=0.956), F1=(train=0.974, test=0.956), total=  49.4s\n",
            "[CV] max_depth=25 ....................................................\n",
            "[CV]  max_depth=25, AUC=(train=0.976, test=0.986), Accuracy=(train=0.974, test=0.970), F1=(train=0.974, test=0.970), total=  49.9s\n",
            "[CV] max_depth=25 ....................................................\n",
            "[CV]  max_depth=25, AUC=(train=0.976, test=0.979), Accuracy=(train=0.974, test=0.962), F1=(train=0.974, test=0.962), total=  50.7s\n",
            "[CV] max_depth=25 ....................................................\n",
            "[CV]  max_depth=25, AUC=(train=0.976, test=0.981), Accuracy=(train=0.974, test=0.973), F1=(train=0.974, test=0.973), total=  50.4s\n",
            "[CV] max_depth=25 ....................................................\n",
            "[CV]  max_depth=25, AUC=(train=0.974, test=0.987), Accuracy=(train=0.973, test=0.982), F1=(train=0.973, test=0.982), total=  50.0s\n",
            "[CV] max_depth=35 ....................................................\n",
            "[CV]  max_depth=35, AUC=(train=0.987, test=0.890), Accuracy=(train=0.980, test=0.935), F1=(train=0.980, test=0.935), total=  50.9s\n",
            "[CV] max_depth=35 ....................................................\n",
            "[CV]  max_depth=35, AUC=(train=0.989, test=0.662), Accuracy=(train=0.982, test=0.898), F1=(train=0.982, test=0.898), total=  51.3s\n",
            "[CV] max_depth=35 ....................................................\n",
            "[CV]  max_depth=35, AUC=(train=0.979, test=0.909), Accuracy=(train=0.976, test=0.945), F1=(train=0.976, test=0.945), total=  51.1s\n",
            "[CV] max_depth=35 ....................................................\n",
            "[CV]  max_depth=35, AUC=(train=0.976, test=0.973), Accuracy=(train=0.974, test=0.956), F1=(train=0.974, test=0.956), total=  49.8s\n",
            "[CV] max_depth=35 ....................................................\n",
            "[CV]  max_depth=35, AUC=(train=0.976, test=0.986), Accuracy=(train=0.974, test=0.970), F1=(train=0.974, test=0.970), total=  49.9s\n",
            "[CV] max_depth=35 ....................................................\n",
            "[CV]  max_depth=35, AUC=(train=0.976, test=0.979), Accuracy=(train=0.974, test=0.962), F1=(train=0.974, test=0.962), total=  49.9s\n",
            "[CV] max_depth=35 ....................................................\n",
            "[CV]  max_depth=35, AUC=(train=0.976, test=0.981), Accuracy=(train=0.974, test=0.973), F1=(train=0.974, test=0.973), total=  50.7s\n",
            "[CV] max_depth=35 ....................................................\n",
            "[CV]  max_depth=35, AUC=(train=0.974, test=0.987), Accuracy=(train=0.973, test=0.982), F1=(train=0.973, test=0.982), total=  51.1s\n"
          ]
        },
        {
          "name": "stderr",
          "output_type": "stream",
          "text": [
            "[Parallel(n_jobs=1)]: Done  32 out of  32 | elapsed: 31.2min finished\n"
          ]
        },
        {
          "name": "stdout",
          "output_type": "stream",
          "text": [
            "\n",
            " Time taken: 0 hours 32 minutes and 16.78 seconds.\n"
          ]
        }
      ]
    },
    {
      "cell_type": "code",
      "metadata": {
        "colab": {
          "base_uri": "https://localhost:8080/"
        },
        "id": "nRXTcwFVVhoy",
        "outputId": "4b191be6-d42c-464b-b380-27bedd8144bf"
      },
      "source": [
        "gsearch3.best_params_, gsearch3.best_score_\n"
      ],
      "execution_count": null,
      "outputs": [
        {
          "data": {
            "text/plain": [
              "({'max_depth': 15}, 0.9209325293591377)"
            ]
          },
          "execution_count": 21,
          "metadata": {},
          "output_type": "execute_result"
        }
      ]
    },
    {
      "cell_type": "markdown",
      "metadata": {
        "id": "Y6eGLKQbgLju"
      },
      "source": [
        "### **C.1. max_depth sin min_samples**"
      ]
    },
    {
      "cell_type": "code",
      "metadata": {
        "id": "tmaio7dtowNp"
      },
      "source": [
        "gbc4 = GradientBoostingClassifier(random_state=10, max_features = 'sqrt',learning_rate=0.1, n_estimators=700)\n",
        "parameters4 = {\n",
        "    \"max_depth\":[10,15,20,25,35,40]\n",
        "}\n",
        "scoring4 = {'AUC': 'roc_auc', 'Accuracy': make_scorer(accuracy_score), 'F1':make_scorer(f1_score, average='micro')}"
      ],
      "execution_count": null,
      "outputs": []
    },
    {
      "cell_type": "code",
      "metadata": {
        "colab": {
          "base_uri": "https://localhost:8080/"
        },
        "id": "o71fXLR_o-RY",
        "outputId": "35719b02-c22a-4355-8659-c69e62c18140"
      },
      "source": [
        "\n",
        "start_time = timer(None) # timing starts from this point for \"start_time\" variable\n",
        "gsearch3 = GridSearchCV(estimator=gbc4,param_grid=parameters4,scoring=scoring4, cv=8, verbose=3, refit='AUC', return_train_score=True)\n",
        "gsearch3.fit(X,Y)\n",
        "timer(start_time) # timing ends here for \"start_time\" variable"
      ],
      "execution_count": null,
      "outputs": [
        {
          "name": "stdout",
          "output_type": "stream",
          "text": [
            "Fitting 8 folds for each of 6 candidates, totalling 48 fits\n",
            "[CV] max_depth=10 ....................................................\n"
          ]
        },
        {
          "name": "stderr",
          "output_type": "stream",
          "text": [
            "[Parallel(n_jobs=1)]: Using backend SequentialBackend with 1 concurrent workers.\n"
          ]
        },
        {
          "name": "stdout",
          "output_type": "stream",
          "text": [
            "[CV]  max_depth=10, AUC=(train=1.000, test=0.709), Accuracy=(train=1.000, test=0.887), F1=(train=1.000, test=0.887), total= 1.9min\n",
            "[CV] max_depth=10 ....................................................\n"
          ]
        },
        {
          "name": "stderr",
          "output_type": "stream",
          "text": [
            "[Parallel(n_jobs=1)]: Done   1 out of   1 | elapsed:  2.1min remaining:    0.0s\n"
          ]
        },
        {
          "name": "stdout",
          "output_type": "stream",
          "text": [
            "[CV]  max_depth=10, AUC=(train=1.000, test=0.814), Accuracy=(train=1.000, test=0.936), F1=(train=1.000, test=0.936), total= 1.8min\n",
            "[CV] max_depth=10 ....................................................\n"
          ]
        },
        {
          "name": "stderr",
          "output_type": "stream",
          "text": [
            "[Parallel(n_jobs=1)]: Done   2 out of   2 | elapsed:  4.1min remaining:    0.0s\n"
          ]
        },
        {
          "name": "stdout",
          "output_type": "stream",
          "text": [
            "[CV]  max_depth=10, AUC=(train=1.000, test=0.951), Accuracy=(train=1.000, test=0.979), F1=(train=1.000, test=0.979), total= 2.2min\n",
            "[CV] max_depth=10 ....................................................\n",
            "[CV]  max_depth=10, AUC=(train=1.000, test=0.998), Accuracy=(train=1.000, test=0.969), F1=(train=1.000, test=0.969), total= 2.2min\n",
            "[CV] max_depth=10 ....................................................\n",
            "[CV]  max_depth=10, AUC=(train=1.000, test=0.998), Accuracy=(train=1.000, test=0.960), F1=(train=1.000, test=0.960), total= 2.2min\n",
            "[CV] max_depth=10 ....................................................\n",
            "[CV]  max_depth=10, AUC=(train=1.000, test=0.996), Accuracy=(train=1.000, test=0.945), F1=(train=1.000, test=0.945), total= 2.2min\n",
            "[CV] max_depth=10 ....................................................\n",
            "[CV]  max_depth=10, AUC=(train=1.000, test=0.999), Accuracy=(train=1.000, test=0.986), F1=(train=1.000, test=0.986), total= 2.2min\n",
            "[CV] max_depth=10 ....................................................\n",
            "[CV]  max_depth=10, AUC=(train=1.000, test=0.923), Accuracy=(train=1.000, test=0.154), F1=(train=1.000, test=0.154), total= 2.2min\n",
            "[CV] max_depth=15 ....................................................\n",
            "[CV]  max_depth=15, AUC=(train=1.000, test=0.713), Accuracy=(train=1.000, test=0.889), F1=(train=1.000, test=0.889), total= 1.3min\n",
            "[CV] max_depth=15 ....................................................\n",
            "[CV]  max_depth=15, AUC=(train=1.000, test=0.908), Accuracy=(train=1.000, test=0.951), F1=(train=1.000, test=0.951), total= 1.3min\n",
            "[CV] max_depth=15 ....................................................\n",
            "[CV]  max_depth=15, AUC=(train=1.000, test=0.968), Accuracy=(train=1.000, test=0.985), F1=(train=1.000, test=0.985), total= 1.4min\n",
            "[CV] max_depth=15 ....................................................\n",
            "[CV]  max_depth=15, AUC=(train=1.000, test=0.999), Accuracy=(train=1.000, test=0.986), F1=(train=1.000, test=0.986), total= 1.5min\n",
            "[CV] max_depth=15 ....................................................\n",
            "[CV]  max_depth=15, AUC=(train=1.000, test=0.998), Accuracy=(train=1.000, test=0.973), F1=(train=1.000, test=0.973), total= 1.5min\n",
            "[CV] max_depth=15 ....................................................\n",
            "[CV]  max_depth=15, AUC=(train=1.000, test=0.997), Accuracy=(train=1.000, test=0.962), F1=(train=1.000, test=0.962), total= 1.5min\n",
            "[CV] max_depth=15 ....................................................\n",
            "[CV]  max_depth=15, AUC=(train=1.000, test=0.999), Accuracy=(train=1.000, test=0.989), F1=(train=1.000, test=0.989), total= 1.6min\n",
            "[CV] max_depth=15 ....................................................\n",
            "[CV]  max_depth=15, AUC=(train=1.000, test=0.946), Accuracy=(train=1.000, test=0.356), F1=(train=1.000, test=0.356), total= 1.6min\n",
            "[CV] max_depth=20 ....................................................\n",
            "[CV]  max_depth=20, AUC=(train=1.000, test=0.751), Accuracy=(train=1.000, test=0.948), F1=(train=1.000, test=0.948), total= 1.3min\n",
            "[CV] max_depth=20 ....................................................\n",
            "[CV]  max_depth=20, AUC=(train=1.000, test=0.919), Accuracy=(train=1.000, test=0.951), F1=(train=1.000, test=0.951), total= 1.3min\n",
            "[CV] max_depth=20 ....................................................\n",
            "[CV]  max_depth=20, AUC=(train=1.000, test=0.977), Accuracy=(train=1.000, test=0.986), F1=(train=1.000, test=0.986), total= 1.4min\n",
            "[CV] max_depth=20 ....................................................\n",
            "[CV]  max_depth=20, AUC=(train=1.000, test=0.998), Accuracy=(train=1.000, test=0.986), F1=(train=1.000, test=0.986), total= 1.4min\n",
            "[CV] max_depth=20 ....................................................\n",
            "[CV]  max_depth=20, AUC=(train=1.000, test=0.998), Accuracy=(train=1.000, test=0.985), F1=(train=1.000, test=0.985), total= 1.4min\n",
            "[CV] max_depth=20 ....................................................\n",
            "[CV]  max_depth=20, AUC=(train=1.000, test=0.994), Accuracy=(train=1.000, test=0.958), F1=(train=1.000, test=0.958), total= 1.5min\n",
            "[CV] max_depth=20 ....................................................\n",
            "[CV]  max_depth=20, AUC=(train=1.000, test=0.999), Accuracy=(train=1.000, test=0.988), F1=(train=1.000, test=0.988), total= 1.5min\n",
            "[CV] max_depth=20 ....................................................\n",
            "[CV]  max_depth=20, AUC=(train=1.000, test=0.953), Accuracy=(train=1.000, test=0.549), F1=(train=1.000, test=0.549), total= 1.5min\n",
            "[CV] max_depth=25 ....................................................\n",
            "[CV]  max_depth=25, AUC=(train=1.000, test=0.654), Accuracy=(train=1.000, test=0.863), F1=(train=1.000, test=0.863), total= 1.3min\n",
            "[CV] max_depth=25 ....................................................\n",
            "[CV]  max_depth=25, AUC=(train=1.000, test=0.914), Accuracy=(train=1.000, test=0.951), F1=(train=1.000, test=0.951), total= 1.2min\n",
            "[CV] max_depth=25 ....................................................\n",
            "[CV]  max_depth=25, AUC=(train=1.000, test=0.980), Accuracy=(train=1.000, test=0.985), F1=(train=1.000, test=0.985), total= 1.4min\n",
            "[CV] max_depth=25 ....................................................\n",
            "[CV]  max_depth=25, AUC=(train=1.000, test=0.997), Accuracy=(train=1.000, test=0.978), F1=(train=1.000, test=0.978), total= 1.4min\n",
            "[CV] max_depth=25 ....................................................\n",
            "[CV]  max_depth=25, AUC=(train=1.000, test=0.999), Accuracy=(train=1.000, test=0.993), F1=(train=1.000, test=0.993), total= 1.4min\n",
            "[CV] max_depth=25 ....................................................\n",
            "[CV]  max_depth=25, AUC=(train=1.000, test=0.989), Accuracy=(train=1.000, test=0.951), F1=(train=1.000, test=0.951), total= 1.5min\n",
            "[CV] max_depth=25 ....................................................\n",
            "[CV]  max_depth=25, AUC=(train=1.000, test=0.997), Accuracy=(train=1.000, test=0.985), F1=(train=1.000, test=0.985), total= 1.5min\n",
            "[CV] max_depth=25 ....................................................\n",
            "[CV]  max_depth=25, AUC=(train=1.000, test=0.935), Accuracy=(train=1.000, test=0.393), F1=(train=1.000, test=0.393), total= 1.5min\n",
            "[CV] max_depth=35 ....................................................\n",
            "[CV]  max_depth=35, AUC=(train=1.000, test=0.642), Accuracy=(train=1.000, test=0.863), F1=(train=1.000, test=0.863), total=  59.7s\n",
            "[CV] max_depth=35 ....................................................\n",
            "[CV]  max_depth=35, AUC=(train=1.000, test=0.916), Accuracy=(train=1.000, test=0.951), F1=(train=1.000, test=0.951), total=  58.5s\n",
            "[CV] max_depth=35 ....................................................\n",
            "[CV]  max_depth=35, AUC=(train=1.000, test=0.981), Accuracy=(train=1.000, test=0.984), F1=(train=1.000, test=0.984), total= 1.0min\n",
            "[CV] max_depth=35 ....................................................\n",
            "[CV]  max_depth=35, AUC=(train=1.000, test=0.997), Accuracy=(train=1.000, test=0.978), F1=(train=1.000, test=0.978), total= 1.1min\n",
            "[CV] max_depth=35 ....................................................\n",
            "[CV]  max_depth=35, AUC=(train=1.000, test=0.995), Accuracy=(train=1.000, test=0.972), F1=(train=1.000, test=0.972), total= 1.2min\n",
            "[CV] max_depth=35 ....................................................\n",
            "[CV]  max_depth=35, AUC=(train=1.000, test=0.987), Accuracy=(train=1.000, test=0.948), F1=(train=1.000, test=0.948), total= 1.1min\n",
            "[CV] max_depth=35 ....................................................\n",
            "[CV]  max_depth=35, AUC=(train=1.000, test=0.996), Accuracy=(train=1.000, test=0.984), F1=(train=1.000, test=0.984), total= 1.1min\n",
            "[CV] max_depth=35 ....................................................\n",
            "[CV]  max_depth=35, AUC=(train=1.000, test=0.917), Accuracy=(train=1.000, test=0.439), F1=(train=1.000, test=0.439), total= 1.1min\n",
            "[CV] max_depth=40 ....................................................\n",
            "[CV]  max_depth=40, AUC=(train=1.000, test=0.605), Accuracy=(train=1.000, test=0.759), F1=(train=1.000, test=0.759), total=  52.1s\n",
            "[CV] max_depth=40 ....................................................\n",
            "[CV]  max_depth=40, AUC=(train=1.000, test=0.920), Accuracy=(train=1.000, test=0.950), F1=(train=1.000, test=0.950), total=  50.1s\n",
            "[CV] max_depth=40 ....................................................\n",
            "[CV]  max_depth=40, AUC=(train=1.000, test=0.984), Accuracy=(train=1.000, test=0.984), F1=(train=1.000, test=0.984), total=  58.8s\n",
            "[CV] max_depth=40 ....................................................\n",
            "[CV]  max_depth=40, AUC=(train=1.000, test=0.997), Accuracy=(train=1.000, test=0.977), F1=(train=1.000, test=0.977), total=  57.6s\n",
            "[CV] max_depth=40 ....................................................\n",
            "[CV]  max_depth=40, AUC=(train=1.000, test=0.997), Accuracy=(train=1.000, test=0.987), F1=(train=1.000, test=0.987), total= 1.0min\n",
            "[CV] max_depth=40 ....................................................\n",
            "[CV]  max_depth=40, AUC=(train=1.000, test=0.988), Accuracy=(train=1.000, test=0.951), F1=(train=1.000, test=0.951), total=  59.3s\n",
            "[CV] max_depth=40 ....................................................\n",
            "[CV]  max_depth=40, AUC=(train=1.000, test=0.996), Accuracy=(train=1.000, test=0.985), F1=(train=1.000, test=0.985), total=  56.9s\n",
            "[CV] max_depth=40 ....................................................\n",
            "[CV]  max_depth=40, AUC=(train=1.000, test=0.914), Accuracy=(train=1.000, test=0.393), F1=(train=1.000, test=0.393), total= 1.0min\n"
          ]
        },
        {
          "name": "stderr",
          "output_type": "stream",
          "text": [
            "[Parallel(n_jobs=1)]: Done  48 out of  48 | elapsed: 72.2min finished\n"
          ]
        },
        {
          "name": "stdout",
          "output_type": "stream",
          "text": [
            "\n",
            " Time taken: 1 hours 13 minutes and 50.34 seconds.\n"
          ]
        }
      ]
    },
    {
      "cell_type": "code",
      "metadata": {
        "colab": {
          "base_uri": "https://localhost:8080/"
        },
        "id": "A2WoriICT5l_",
        "outputId": "773c4fcd-33e2-4628-e7d2-683d869b829b"
      },
      "source": [
        "gsearch3.best_params_, gsearch3.best_score_\n"
      ],
      "execution_count": null,
      "outputs": [
        {
          "data": {
            "text/plain": [
              "({'max_depth': 20}, 0.9487242208055615)"
            ]
          },
          "execution_count": 24,
          "metadata": {},
          "output_type": "execute_result"
        }
      ]
    },
    {
      "cell_type": "markdown",
      "metadata": {
        "id": "ZR_5xp84UQXJ"
      },
      "source": [
        "Although the choice of the min_samples range increased the training score, the model did better without these parameters. Therefore, this parameter setting is discarded. "
      ]
    },
    {
      "cell_type": "markdown",
      "metadata": {
        "id": "mtRedMj2gR0_"
      },
      "source": [
        "## **D. max_features**"
      ]
    },
    {
      "cell_type": "code",
      "metadata": {
        "id": "i5Py9HGDhq8C"
      },
      "source": [
        "gbc5 = GradientBoostingClassifier(random_state=10, learning_rate=0.1, n_estimators=700,  max_depth=20)\n",
        "parameters5 = {\n",
        "    \"max_features\":[15,20,30,100,200]\n",
        "}\n",
        "scoring5 = {'AUC': 'roc_auc', 'Accuracy': make_scorer(accuracy_score), 'F1':make_scorer(f1_score, average='micro')}"
      ],
      "execution_count": null,
      "outputs": []
    },
    {
      "cell_type": "code",
      "metadata": {
        "colab": {
          "base_uri": "https://localhost:8080/"
        },
        "id": "CnnKU27Yhq8D",
        "outputId": "71cfdf1a-6e8b-4fd0-a65a-328cbf9046d2"
      },
      "source": [
        "\n",
        "start_time = timer(None) # timing starts from this point for \"start_time\" variable\n",
        "gsearch5 = GridSearchCV(estimator=gbc5,param_grid=parameters5,scoring=scoring5, cv=8, verbose=3, refit='AUC', return_train_score=True)\n",
        "gsearch5.fit(X,Y)\n",
        "timer(start_time) # timing ends here for \"start_time\" variable"
      ],
      "execution_count": null,
      "outputs": [
        {
          "name": "stdout",
          "output_type": "stream",
          "text": [
            "Fitting 8 folds for each of 5 candidates, totalling 40 fits\n",
            "[CV] max_features=15 .................................................\n"
          ]
        },
        {
          "name": "stderr",
          "output_type": "stream",
          "text": [
            "[Parallel(n_jobs=1)]: Using backend SequentialBackend with 1 concurrent workers.\n"
          ]
        },
        {
          "name": "stdout",
          "output_type": "stream",
          "text": [
            "[CV]  max_features=15, AUC=(train=1.000, test=0.775), Accuracy=(train=1.000, test=0.954), F1=(train=1.000, test=0.954), total= 1.7min\n",
            "[CV] max_features=15 .................................................\n"
          ]
        },
        {
          "name": "stderr",
          "output_type": "stream",
          "text": [
            "[Parallel(n_jobs=1)]: Done   1 out of   1 | elapsed:  1.8min remaining:    0.0s\n"
          ]
        },
        {
          "name": "stdout",
          "output_type": "stream",
          "text": [
            "[CV]  max_features=15, AUC=(train=1.000, test=0.927), Accuracy=(train=1.000, test=0.952), F1=(train=1.000, test=0.952), total= 1.6min\n",
            "[CV] max_features=15 .................................................\n"
          ]
        },
        {
          "name": "stderr",
          "output_type": "stream",
          "text": [
            "[Parallel(n_jobs=1)]: Done   2 out of   2 | elapsed:  3.5min remaining:    0.0s\n"
          ]
        },
        {
          "name": "stdout",
          "output_type": "stream",
          "text": [
            "[CV]  max_features=15, AUC=(train=1.000, test=0.980), Accuracy=(train=1.000, test=0.985), F1=(train=1.000, test=0.985), total= 1.8min\n",
            "[CV] max_features=15 .................................................\n",
            "[CV]  max_features=15, AUC=(train=1.000, test=0.998), Accuracy=(train=1.000, test=0.986), F1=(train=1.000, test=0.986), total= 1.8min\n",
            "[CV] max_features=15 .................................................\n",
            "[CV]  max_features=15, AUC=(train=1.000, test=0.999), Accuracy=(train=1.000, test=0.992), F1=(train=1.000, test=0.992), total= 1.8min\n",
            "[CV] max_features=15 .................................................\n",
            "[CV]  max_features=15, AUC=(train=1.000, test=0.995), Accuracy=(train=1.000, test=0.962), F1=(train=1.000, test=0.962), total= 1.8min\n",
            "[CV] max_features=15 .................................................\n",
            "[CV]  max_features=15, AUC=(train=1.000, test=0.999), Accuracy=(train=1.000, test=0.988), F1=(train=1.000, test=0.988), total= 1.9min\n",
            "[CV] max_features=15 .................................................\n",
            "[CV]  max_features=15, AUC=(train=1.000, test=0.970), Accuracy=(train=1.000, test=0.711), F1=(train=1.000, test=0.711), total= 1.8min\n",
            "[CV] max_features=20 .................................................\n",
            "[CV]  max_features=20, AUC=(train=1.000, test=0.751), Accuracy=(train=1.000, test=0.948), F1=(train=1.000, test=0.948), total= 1.7min\n",
            "[CV] max_features=20 .................................................\n",
            "[CV]  max_features=20, AUC=(train=1.000, test=0.919), Accuracy=(train=1.000, test=0.951), F1=(train=1.000, test=0.951), total= 1.6min\n",
            "[CV] max_features=20 .................................................\n",
            "[CV]  max_features=20, AUC=(train=1.000, test=0.977), Accuracy=(train=1.000, test=0.986), F1=(train=1.000, test=0.986), total= 1.7min\n",
            "[CV] max_features=20 .................................................\n",
            "[CV]  max_features=20, AUC=(train=1.000, test=0.998), Accuracy=(train=1.000, test=0.986), F1=(train=1.000, test=0.986), total= 1.8min\n",
            "[CV] max_features=20 .................................................\n",
            "[CV]  max_features=20, AUC=(train=1.000, test=0.998), Accuracy=(train=1.000, test=0.985), F1=(train=1.000, test=0.985), total= 1.8min\n",
            "[CV] max_features=20 .................................................\n",
            "[CV]  max_features=20, AUC=(train=1.000, test=0.994), Accuracy=(train=1.000, test=0.958), F1=(train=1.000, test=0.958), total= 1.8min\n",
            "[CV] max_features=20 .................................................\n",
            "[CV]  max_features=20, AUC=(train=1.000, test=0.999), Accuracy=(train=1.000, test=0.988), F1=(train=1.000, test=0.988), total= 1.9min\n",
            "[CV] max_features=20 .................................................\n",
            "[CV]  max_features=20, AUC=(train=1.000, test=0.953), Accuracy=(train=1.000, test=0.549), F1=(train=1.000, test=0.549), total= 1.8min\n",
            "[CV] max_features=30 .................................................\n",
            "[CV]  max_features=30, AUC=(train=1.000, test=0.636), Accuracy=(train=1.000, test=0.695), F1=(train=1.000, test=0.695), total= 1.8min\n",
            "[CV] max_features=30 .................................................\n",
            "[CV]  max_features=30, AUC=(train=1.000, test=0.886), Accuracy=(train=1.000, test=0.950), F1=(train=1.000, test=0.950), total= 1.8min\n",
            "[CV] max_features=30 .................................................\n",
            "[CV]  max_features=30, AUC=(train=1.000, test=0.968), Accuracy=(train=1.000, test=0.986), F1=(train=1.000, test=0.986), total= 1.9min\n",
            "[CV] max_features=30 .................................................\n",
            "[CV]  max_features=30, AUC=(train=1.000, test=0.998), Accuracy=(train=1.000, test=0.982), F1=(train=1.000, test=0.982), total= 1.9min\n",
            "[CV] max_features=30 .................................................\n",
            "[CV]  max_features=30, AUC=(train=1.000, test=0.997), Accuracy=(train=1.000, test=0.972), F1=(train=1.000, test=0.972), total= 1.9min\n",
            "[CV] max_features=30 .................................................\n",
            "[CV]  max_features=30, AUC=(train=1.000, test=0.992), Accuracy=(train=1.000, test=0.954), F1=(train=1.000, test=0.954), total= 2.0min\n",
            "[CV] max_features=30 .................................................\n",
            "[CV]  max_features=30, AUC=(train=1.000, test=0.999), Accuracy=(train=1.000, test=0.987), F1=(train=1.000, test=0.987), total= 2.0min\n",
            "[CV] max_features=30 .................................................\n",
            "[CV]  max_features=30, AUC=(train=1.000, test=0.906), Accuracy=(train=1.000, test=0.157), F1=(train=1.000, test=0.157), total= 2.0min\n",
            "[CV] max_features=100 ................................................\n",
            "[CV]  max_features=100, AUC=(train=1.000, test=0.408), Accuracy=(train=1.000, test=0.076), F1=(train=1.000, test=0.076), total= 3.6min\n",
            "[CV] max_features=100 ................................................\n",
            "[CV]  max_features=100, AUC=(train=1.000, test=0.582), Accuracy=(train=1.000, test=0.797), F1=(train=1.000, test=0.797), total= 3.3min\n",
            "[CV] max_features=100 ................................................\n",
            "[CV]  max_features=100, AUC=(train=1.000, test=0.932), Accuracy=(train=1.000, test=0.983), F1=(train=1.000, test=0.983), total= 3.6min\n",
            "[CV] max_features=100 ................................................\n",
            "[CV]  max_features=100, AUC=(train=1.000, test=0.997), Accuracy=(train=1.000, test=0.985), F1=(train=1.000, test=0.985), total= 3.7min\n",
            "[CV] max_features=100 ................................................\n",
            "[CV]  max_features=100, AUC=(train=1.000, test=0.996), Accuracy=(train=1.000, test=0.961), F1=(train=1.000, test=0.961), total= 4.0min\n",
            "[CV] max_features=100 ................................................\n",
            "[CV]  max_features=100, AUC=(train=1.000, test=0.991), Accuracy=(train=1.000, test=0.946), F1=(train=1.000, test=0.946), total= 3.9min\n",
            "[CV] max_features=100 ................................................\n",
            "[CV]  max_features=100, AUC=(train=1.000, test=0.997), Accuracy=(train=1.000, test=0.985), F1=(train=1.000, test=0.985), total= 3.9min\n",
            "[CV] max_features=100 ................................................\n",
            "[CV]  max_features=100, AUC=(train=1.000, test=0.706), Accuracy=(train=1.000, test=0.094), F1=(train=1.000, test=0.094), total= 4.1min\n",
            "[CV] max_features=200 ................................................\n",
            "[CV]  max_features=200, AUC=(train=1.000, test=0.423), Accuracy=(train=1.000, test=0.060), F1=(train=1.000, test=0.060), total= 6.6min\n",
            "[CV] max_features=200 ................................................\n",
            "[CV]  max_features=200, AUC=(train=1.000, test=0.545), Accuracy=(train=1.000, test=0.562), F1=(train=1.000, test=0.562), total= 5.7min\n",
            "[CV] max_features=200 ................................................\n",
            "[CV]  max_features=200, AUC=(train=1.000, test=0.923), Accuracy=(train=1.000, test=0.973), F1=(train=1.000, test=0.973), total= 6.4min\n",
            "[CV] max_features=200 ................................................\n",
            "[CV]  max_features=200, AUC=(train=1.000, test=0.994), Accuracy=(train=1.000, test=0.973), F1=(train=1.000, test=0.973), total= 6.7min\n",
            "[CV] max_features=200 ................................................\n",
            "[CV]  max_features=200, AUC=(train=1.000, test=0.994), Accuracy=(train=1.000, test=0.948), F1=(train=1.000, test=0.948), total= 6.8min\n",
            "[CV] max_features=200 ................................................\n",
            "[CV]  max_features=200, AUC=(train=1.000, test=0.989), Accuracy=(train=1.000, test=0.945), F1=(train=1.000, test=0.945), total= 7.1min\n",
            "[CV] max_features=200 ................................................\n",
            "[CV]  max_features=200, AUC=(train=1.000, test=0.997), Accuracy=(train=1.000, test=0.985), F1=(train=1.000, test=0.985), total= 7.1min\n",
            "[CV] max_features=200 ................................................\n",
            "[CV]  max_features=200, AUC=(train=1.000, test=0.707), Accuracy=(train=1.000, test=0.089), F1=(train=1.000, test=0.089), total= 7.5min\n"
          ]
        },
        {
          "name": "stderr",
          "output_type": "stream",
          "text": [
            "[Parallel(n_jobs=1)]: Done  40 out of  40 | elapsed: 131.1min finished\n"
          ]
        },
        {
          "name": "stdout",
          "output_type": "stream",
          "text": [
            "\n",
            " Time taken: 2 hours 13 minutes and 20.01 seconds.\n"
          ]
        }
      ]
    },
    {
      "cell_type": "code",
      "metadata": {
        "colab": {
          "base_uri": "https://localhost:8080/"
        },
        "id": "u06pmQmIhq8E",
        "outputId": "121c5f62-aa8f-45b6-9ad7-1ba8b91dff2a"
      },
      "source": [
        "gsearch5.best_params_, gsearch5.best_score_\n"
      ],
      "execution_count": null,
      "outputs": [
        {
          "data": {
            "text/plain": [
              "({'max_features': 15}, 0.9554628904735567)"
            ]
          },
          "execution_count": 20,
          "metadata": {},
          "output_type": "execute_result"
        }
      ]
    },
    {
      "cell_type": "markdown",
      "metadata": {
        "id": "ydVhADWngYdv"
      },
      "source": [
        "## **E. subsample**"
      ]
    },
    {
      "cell_type": "code",
      "metadata": {
        "id": "eNpmOTiTDU7E"
      },
      "source": [
        "gbc6 = GradientBoostingClassifier(random_state=10, learning_rate=0.1, n_estimators=700,  max_depth=20, max_features=15)\n",
        "parameters6 = {\n",
        "    'subsample':[0.7,0.8,0.9,1]\n",
        "}\n",
        "scoring6 = {'AUC': 'roc_auc', 'Accuracy': make_scorer(accuracy_score), 'F1':make_scorer(f1_score, average='micro')}"
      ],
      "execution_count": null,
      "outputs": []
    },
    {
      "cell_type": "code",
      "metadata": {
        "colab": {
          "base_uri": "https://localhost:8080/"
        },
        "id": "0Fne3GgXDU7F",
        "outputId": "d72d5855-ffce-44f8-ecbf-2adabf9f9b31"
      },
      "source": [
        "\n",
        "start_time = timer(None) # timing starts from this point for \"start_time\" variable\n",
        "gsearch6 = GridSearchCV(estimator=gbc6,param_grid=parameters6,scoring=scoring6, cv=8, verbose=3, refit='AUC', return_train_score=True)\n",
        "gsearch6.fit(X,Y)\n",
        "timer(start_time) # timing ends here for \"start_time\" variable"
      ],
      "execution_count": null,
      "outputs": [
        {
          "name": "stdout",
          "output_type": "stream",
          "text": [
            "Fitting 8 folds for each of 4 candidates, totalling 32 fits\n",
            "[CV] subsample=0.7 ...................................................\n"
          ]
        },
        {
          "name": "stderr",
          "output_type": "stream",
          "text": [
            "[Parallel(n_jobs=1)]: Using backend SequentialBackend with 1 concurrent workers.\n"
          ]
        },
        {
          "name": "stdout",
          "output_type": "stream",
          "text": [
            "[CV]  subsample=0.7, AUC=(train=1.000, test=0.769), Accuracy=(train=1.000, test=0.949), F1=(train=1.000, test=0.949), total= 1.7min\n",
            "[CV] subsample=0.7 ...................................................\n"
          ]
        },
        {
          "name": "stderr",
          "output_type": "stream",
          "text": [
            "[Parallel(n_jobs=1)]: Done   1 out of   1 | elapsed:  1.8min remaining:    0.0s\n"
          ]
        },
        {
          "name": "stdout",
          "output_type": "stream",
          "text": [
            "[CV]  subsample=0.7, AUC=(train=1.000, test=0.929), Accuracy=(train=1.000, test=0.952), F1=(train=1.000, test=0.952), total= 1.6min\n",
            "[CV] subsample=0.7 ...................................................\n"
          ]
        },
        {
          "name": "stderr",
          "output_type": "stream",
          "text": [
            "[Parallel(n_jobs=1)]: Done   2 out of   2 | elapsed:  3.5min remaining:    0.0s\n"
          ]
        },
        {
          "name": "stdout",
          "output_type": "stream",
          "text": [
            "[CV]  subsample=0.7, AUC=(train=1.000, test=0.979), Accuracy=(train=1.000, test=0.986), F1=(train=1.000, test=0.986), total= 1.8min\n",
            "[CV] subsample=0.7 ...................................................\n",
            "[CV]  subsample=0.7, AUC=(train=1.000, test=0.999), Accuracy=(train=1.000, test=0.989), F1=(train=1.000, test=0.989), total= 1.8min\n",
            "[CV] subsample=0.7 ...................................................\n",
            "[CV]  subsample=0.7, AUC=(train=1.000, test=0.999), Accuracy=(train=1.000, test=0.992), F1=(train=1.000, test=0.992), total= 1.8min\n",
            "[CV] subsample=0.7 ...................................................\n",
            "[CV]  subsample=0.7, AUC=(train=1.000, test=0.998), Accuracy=(train=1.000, test=0.979), F1=(train=1.000, test=0.979), total= 1.8min\n",
            "[CV] subsample=0.7 ...................................................\n",
            "[CV]  subsample=0.7, AUC=(train=1.000, test=0.999), Accuracy=(train=1.000, test=0.989), F1=(train=1.000, test=0.989), total= 1.8min\n",
            "[CV] subsample=0.7 ...................................................\n",
            "[CV]  subsample=0.7, AUC=(train=1.000, test=0.974), Accuracy=(train=1.000, test=0.771), F1=(train=1.000, test=0.771), total= 1.8min\n",
            "[CV] subsample=0.8 ...................................................\n",
            "[CV]  subsample=0.8, AUC=(train=1.000, test=0.764), Accuracy=(train=1.000, test=0.952), F1=(train=1.000, test=0.952), total= 1.7min\n",
            "[CV] subsample=0.8 ...................................................\n",
            "[CV]  subsample=0.8, AUC=(train=1.000, test=0.931), Accuracy=(train=1.000, test=0.951), F1=(train=1.000, test=0.951), total= 1.6min\n",
            "[CV] subsample=0.8 ...................................................\n",
            "[CV]  subsample=0.8, AUC=(train=1.000, test=0.979), Accuracy=(train=1.000, test=0.986), F1=(train=1.000, test=0.986), total= 1.8min\n",
            "[CV] subsample=0.8 ...................................................\n",
            "[CV]  subsample=0.8, AUC=(train=1.000, test=0.999), Accuracy=(train=1.000, test=0.988), F1=(train=1.000, test=0.988), total= 1.8min\n",
            "[CV] subsample=0.8 ...................................................\n",
            "[CV]  subsample=0.8, AUC=(train=1.000, test=0.999), Accuracy=(train=1.000, test=0.990), F1=(train=1.000, test=0.990), total= 1.8min\n",
            "[CV] subsample=0.8 ...................................................\n",
            "[CV]  subsample=0.8, AUC=(train=1.000, test=0.997), Accuracy=(train=1.000, test=0.974), F1=(train=1.000, test=0.974), total= 1.8min\n",
            "[CV] subsample=0.8 ...................................................\n",
            "[CV]  subsample=0.8, AUC=(train=1.000, test=0.999), Accuracy=(train=1.000, test=0.989), F1=(train=1.000, test=0.989), total= 1.8min\n",
            "[CV] subsample=0.8 ...................................................\n",
            "[CV]  subsample=0.8, AUC=(train=1.000, test=0.971), Accuracy=(train=1.000, test=0.763), F1=(train=1.000, test=0.763), total= 1.8min\n",
            "[CV] subsample=0.9 ...................................................\n",
            "[CV]  subsample=0.9, AUC=(train=1.000, test=0.774), Accuracy=(train=1.000, test=0.953), F1=(train=1.000, test=0.953), total= 1.7min\n",
            "[CV] subsample=0.9 ...................................................\n",
            "[CV]  subsample=0.9, AUC=(train=1.000, test=0.928), Accuracy=(train=1.000, test=0.953), F1=(train=1.000, test=0.953), total= 1.6min\n",
            "[CV] subsample=0.9 ...................................................\n",
            "[CV]  subsample=0.9, AUC=(train=1.000, test=0.979), Accuracy=(train=1.000, test=0.986), F1=(train=1.000, test=0.986), total= 1.8min\n",
            "[CV] subsample=0.9 ...................................................\n",
            "[CV]  subsample=0.9, AUC=(train=1.000, test=0.999), Accuracy=(train=1.000, test=0.989), F1=(train=1.000, test=0.989), total= 1.8min\n",
            "[CV] subsample=0.9 ...................................................\n",
            "[CV]  subsample=0.9, AUC=(train=1.000, test=0.999), Accuracy=(train=1.000, test=0.991), F1=(train=1.000, test=0.991), total= 1.8min\n",
            "[CV] subsample=0.9 ...................................................\n",
            "[CV]  subsample=0.9, AUC=(train=1.000, test=0.997), Accuracy=(train=1.000, test=0.969), F1=(train=1.000, test=0.969), total= 1.8min\n",
            "[CV] subsample=0.9 ...................................................\n",
            "[CV]  subsample=0.9, AUC=(train=1.000, test=0.999), Accuracy=(train=1.000, test=0.989), F1=(train=1.000, test=0.989), total= 1.8min\n",
            "[CV] subsample=0.9 ...................................................\n",
            "[CV]  subsample=0.9, AUC=(train=1.000, test=0.970), Accuracy=(train=1.000, test=0.760), F1=(train=1.000, test=0.760), total= 1.9min\n",
            "[CV] subsample=1 .....................................................\n",
            "[CV]  subsample=1, AUC=(train=1.000, test=0.775), Accuracy=(train=1.000, test=0.954), F1=(train=1.000, test=0.954), total= 1.6min\n",
            "[CV] subsample=1 .....................................................\n",
            "[CV]  subsample=1, AUC=(train=1.000, test=0.927), Accuracy=(train=1.000, test=0.952), F1=(train=1.000, test=0.952), total= 1.6min\n",
            "[CV] subsample=1 .....................................................\n",
            "[CV]  subsample=1, AUC=(train=1.000, test=0.980), Accuracy=(train=1.000, test=0.985), F1=(train=1.000, test=0.985), total= 1.8min\n",
            "[CV] subsample=1 .....................................................\n",
            "[CV]  subsample=1, AUC=(train=1.000, test=0.998), Accuracy=(train=1.000, test=0.986), F1=(train=1.000, test=0.986), total= 1.8min\n",
            "[CV] subsample=1 .....................................................\n",
            "[CV]  subsample=1, AUC=(train=1.000, test=0.999), Accuracy=(train=1.000, test=0.992), F1=(train=1.000, test=0.992), total= 1.8min\n",
            "[CV] subsample=1 .....................................................\n",
            "[CV]  subsample=1, AUC=(train=1.000, test=0.995), Accuracy=(train=1.000, test=0.962), F1=(train=1.000, test=0.962), total= 1.9min\n",
            "[CV] subsample=1 .....................................................\n",
            "[CV]  subsample=1, AUC=(train=1.000, test=0.999), Accuracy=(train=1.000, test=0.988), F1=(train=1.000, test=0.988), total= 1.9min\n",
            "[CV] subsample=1 .....................................................\n",
            "[CV]  subsample=1, AUC=(train=1.000, test=0.970), Accuracy=(train=1.000, test=0.711), F1=(train=1.000, test=0.711), total= 1.9min\n"
          ]
        },
        {
          "name": "stderr",
          "output_type": "stream",
          "text": [
            "[Parallel(n_jobs=1)]: Done  32 out of  32 | elapsed: 60.6min finished\n"
          ]
        },
        {
          "name": "stdout",
          "output_type": "stream",
          "text": [
            "\n",
            " Time taken: 1 hours 2 minutes and 39.38 seconds.\n"
          ]
        }
      ]
    },
    {
      "cell_type": "code",
      "metadata": {
        "colab": {
          "base_uri": "https://localhost:8080/"
        },
        "id": "D8kVqdO7DU7I",
        "outputId": "55b57a60-adb9-4b1c-de50-8c5a19a7b6c0"
      },
      "source": [
        "gsearch6.best_params_, gsearch6.best_score_\n"
      ],
      "execution_count": null,
      "outputs": [
        {
          "data": {
            "text/plain": [
              "({'subsample': 0.7}, 0.9556653442581189)"
            ]
          },
          "execution_count": 25,
          "metadata": {},
          "output_type": "execute_result"
        }
      ]
    },
    {
      "cell_type": "markdown",
      "metadata": {
        "id": "nygrYau1gwB3"
      },
      "source": [
        "## **F. min_samples_leaf y min_samples_split**"
      ]
    },
    {
      "cell_type": "markdown",
      "metadata": {
        "id": "JkM8wpiuVH0g"
      },
      "source": [
        "On this occasion, a range of values close to the default value of Scikit-Learn was chosen. The intention is to observe if it is indeed a parameter that is worthwhile."
      ]
    },
    {
      "cell_type": "code",
      "metadata": {
        "id": "jbB3VaF6S4-W"
      },
      "source": [
        "gbc7 = GradientBoostingClassifier(random_state=10, learning_rate=0.1, n_estimators=700,  max_depth=20, max_features=15, subsample=0.7)\n",
        "parameters7 = {\n",
        "    'min_samples_split':[2,4,6,10,40,100], \n",
        "    'min_samples_leaf':[1,3,5,7]\n",
        "}\n",
        "scoring7 = {'AUC': 'roc_auc', 'Accuracy': make_scorer(accuracy_score), 'F1':make_scorer(f1_score, average='micro')}"
      ],
      "execution_count": null,
      "outputs": []
    },
    {
      "cell_type": "code",
      "metadata": {
        "colab": {
          "base_uri": "https://localhost:8080/"
        },
        "id": "__p4HSx7S4-X",
        "outputId": "cfc0dc59-03cb-4c43-803d-ce6cab096ae8"
      },
      "source": [
        "\n",
        "start_time = timer(None) # timing starts from this point for \"start_time\" variable\n",
        "gsearch7 = GridSearchCV(estimator=gbc7,param_grid=parameters7,scoring=scoring7, cv=8, verbose=3, refit='AUC', return_train_score=True)\n",
        "gsearch7.fit(X,Y)\n",
        "timer(start_time) # timing ends here for \"start_time\" variable"
      ],
      "execution_count": null,
      "outputs": [
        {
          "name": "stdout",
          "output_type": "stream",
          "text": [
            "Fitting 8 folds for each of 24 candidates, totalling 192 fits\n",
            "[CV] min_samples_leaf=1, min_samples_split=2 .........................\n"
          ]
        },
        {
          "name": "stderr",
          "output_type": "stream",
          "text": [
            "[Parallel(n_jobs=1)]: Using backend SequentialBackend with 1 concurrent workers.\n"
          ]
        },
        {
          "name": "stdout",
          "output_type": "stream",
          "text": [
            "[CV]  min_samples_leaf=1, min_samples_split=2, AUC=(train=1.000, test=0.769), Accuracy=(train=1.000, test=0.949), F1=(train=1.000, test=0.949), total= 1.6min\n",
            "[CV] min_samples_leaf=1, min_samples_split=2 .........................\n"
          ]
        },
        {
          "name": "stderr",
          "output_type": "stream",
          "text": [
            "[Parallel(n_jobs=1)]: Done   1 out of   1 | elapsed:  1.7min remaining:    0.0s\n"
          ]
        },
        {
          "name": "stdout",
          "output_type": "stream",
          "text": [
            "[CV]  min_samples_leaf=1, min_samples_split=2, AUC=(train=1.000, test=0.929), Accuracy=(train=1.000, test=0.952), F1=(train=1.000, test=0.952), total= 1.6min\n",
            "[CV] min_samples_leaf=1, min_samples_split=2 .........................\n"
          ]
        },
        {
          "name": "stderr",
          "output_type": "stream",
          "text": [
            "[Parallel(n_jobs=1)]: Done   2 out of   2 | elapsed:  3.5min remaining:    0.0s\n"
          ]
        },
        {
          "name": "stdout",
          "output_type": "stream",
          "text": [
            "[CV]  min_samples_leaf=1, min_samples_split=2, AUC=(train=1.000, test=0.979), Accuracy=(train=1.000, test=0.986), F1=(train=1.000, test=0.986), total= 1.8min\n",
            "[CV] min_samples_leaf=1, min_samples_split=2 .........................\n",
            "[CV]  min_samples_leaf=1, min_samples_split=2, AUC=(train=1.000, test=0.999), Accuracy=(train=1.000, test=0.989), F1=(train=1.000, test=0.989), total= 1.8min\n",
            "[CV] min_samples_leaf=1, min_samples_split=2 .........................\n",
            "[CV]  min_samples_leaf=1, min_samples_split=2, AUC=(train=1.000, test=0.999), Accuracy=(train=1.000, test=0.992), F1=(train=1.000, test=0.992), total= 1.8min\n",
            "[CV] min_samples_leaf=1, min_samples_split=2 .........................\n",
            "[CV]  min_samples_leaf=1, min_samples_split=2, AUC=(train=1.000, test=0.998), Accuracy=(train=1.000, test=0.979), F1=(train=1.000, test=0.979), total= 1.8min\n",
            "[CV] min_samples_leaf=1, min_samples_split=2 .........................\n",
            "[CV]  min_samples_leaf=1, min_samples_split=2, AUC=(train=1.000, test=0.999), Accuracy=(train=1.000, test=0.989), F1=(train=1.000, test=0.989), total= 1.8min\n",
            "[CV] min_samples_leaf=1, min_samples_split=2 .........................\n",
            "[CV]  min_samples_leaf=1, min_samples_split=2, AUC=(train=1.000, test=0.974), Accuracy=(train=1.000, test=0.771), F1=(train=1.000, test=0.771), total= 1.8min\n",
            "[CV] min_samples_leaf=1, min_samples_split=4 .........................\n",
            "[CV]  min_samples_leaf=1, min_samples_split=4, AUC=(train=1.000, test=0.810), Accuracy=(train=1.000, test=0.954), F1=(train=1.000, test=0.954), total= 1.5min\n",
            "[CV] min_samples_leaf=1, min_samples_split=4 .........................\n",
            "[CV]  min_samples_leaf=1, min_samples_split=4, AUC=(train=1.000, test=0.919), Accuracy=(train=1.000, test=0.951), F1=(train=1.000, test=0.951), total= 1.5min\n",
            "[CV] min_samples_leaf=1, min_samples_split=4 .........................\n",
            "[CV]  min_samples_leaf=1, min_samples_split=4, AUC=(train=1.000, test=0.980), Accuracy=(train=1.000, test=0.985), F1=(train=1.000, test=0.985), total= 1.6min\n",
            "[CV] min_samples_leaf=1, min_samples_split=4 .........................\n",
            "[CV]  min_samples_leaf=1, min_samples_split=4, AUC=(train=1.000, test=0.999), Accuracy=(train=1.000, test=0.988), F1=(train=1.000, test=0.988), total= 1.6min\n",
            "[CV] min_samples_leaf=1, min_samples_split=4 .........................\n",
            "[CV]  min_samples_leaf=1, min_samples_split=4, AUC=(train=1.000, test=0.999), Accuracy=(train=1.000, test=0.993), F1=(train=1.000, test=0.993), total= 1.7min\n",
            "[CV] min_samples_leaf=1, min_samples_split=4 .........................\n",
            "[CV]  min_samples_leaf=1, min_samples_split=4, AUC=(train=1.000, test=0.997), Accuracy=(train=1.000, test=0.975), F1=(train=1.000, test=0.975), total= 1.6min\n",
            "[CV] min_samples_leaf=1, min_samples_split=4 .........................\n",
            "[CV]  min_samples_leaf=1, min_samples_split=4, AUC=(train=1.000, test=0.999), Accuracy=(train=1.000, test=0.990), F1=(train=1.000, test=0.990), total= 1.6min\n",
            "[CV] min_samples_leaf=1, min_samples_split=4 .........................\n",
            "[CV]  min_samples_leaf=1, min_samples_split=4, AUC=(train=1.000, test=0.977), Accuracy=(train=1.000, test=0.777), F1=(train=1.000, test=0.777), total= 1.6min\n",
            "[CV] min_samples_leaf=1, min_samples_split=6 .........................\n",
            "[CV]  min_samples_leaf=1, min_samples_split=6, AUC=(train=1.000, test=0.808), Accuracy=(train=1.000, test=0.954), F1=(train=1.000, test=0.954), total= 1.4min\n",
            "[CV] min_samples_leaf=1, min_samples_split=6 .........................\n",
            "[CV]  min_samples_leaf=1, min_samples_split=6, AUC=(train=1.000, test=0.934), Accuracy=(train=1.000, test=0.953), F1=(train=1.000, test=0.953), total= 1.4min\n",
            "[CV] min_samples_leaf=1, min_samples_split=6 .........................\n",
            "[CV]  min_samples_leaf=1, min_samples_split=6, AUC=(train=1.000, test=0.981), Accuracy=(train=1.000, test=0.985), F1=(train=1.000, test=0.985), total= 1.5min\n",
            "[CV] min_samples_leaf=1, min_samples_split=6 .........................\n",
            "[CV]  min_samples_leaf=1, min_samples_split=6, AUC=(train=1.000, test=0.999), Accuracy=(train=1.000, test=0.991), F1=(train=1.000, test=0.991), total= 1.6min\n",
            "[CV] min_samples_leaf=1, min_samples_split=6 .........................\n",
            "[CV]  min_samples_leaf=1, min_samples_split=6, AUC=(train=1.000, test=0.999), Accuracy=(train=1.000, test=0.993), F1=(train=1.000, test=0.993), total= 1.5min\n",
            "[CV] min_samples_leaf=1, min_samples_split=6 .........................\n",
            "[CV]  min_samples_leaf=1, min_samples_split=6, AUC=(train=1.000, test=0.997), Accuracy=(train=1.000, test=0.971), F1=(train=1.000, test=0.971), total= 1.6min\n",
            "[CV] min_samples_leaf=1, min_samples_split=6 .........................\n",
            "[CV]  min_samples_leaf=1, min_samples_split=6, AUC=(train=1.000, test=0.999), Accuracy=(train=1.000, test=0.989), F1=(train=1.000, test=0.989), total= 1.6min\n",
            "[CV] min_samples_leaf=1, min_samples_split=6 .........................\n",
            "[CV]  min_samples_leaf=1, min_samples_split=6, AUC=(train=1.000, test=0.979), Accuracy=(train=1.000, test=0.792), F1=(train=1.000, test=0.792), total= 1.6min\n",
            "[CV] min_samples_leaf=1, min_samples_split=10 ........................\n",
            "[CV]  min_samples_leaf=1, min_samples_split=10, AUC=(train=1.000, test=0.811), Accuracy=(train=1.000, test=0.954), F1=(train=1.000, test=0.954), total= 1.4min\n",
            "[CV] min_samples_leaf=1, min_samples_split=10 ........................\n",
            "[CV]  min_samples_leaf=1, min_samples_split=10, AUC=(train=1.000, test=0.930), Accuracy=(train=1.000, test=0.952), F1=(train=1.000, test=0.952), total= 1.3min\n",
            "[CV] min_samples_leaf=1, min_samples_split=10 ........................\n",
            "[CV]  min_samples_leaf=1, min_samples_split=10, AUC=(train=1.000, test=0.982), Accuracy=(train=1.000, test=0.986), F1=(train=1.000, test=0.986), total= 1.4min\n",
            "[CV] min_samples_leaf=1, min_samples_split=10 ........................\n",
            "[CV]  min_samples_leaf=1, min_samples_split=10, AUC=(train=1.000, test=0.999), Accuracy=(train=1.000, test=0.987), F1=(train=1.000, test=0.987), total= 1.5min\n",
            "[CV] min_samples_leaf=1, min_samples_split=10 ........................\n",
            "[CV]  min_samples_leaf=1, min_samples_split=10, AUC=(train=1.000, test=0.999), Accuracy=(train=1.000, test=0.990), F1=(train=1.000, test=0.990), total= 1.4min\n",
            "[CV] min_samples_leaf=1, min_samples_split=10 ........................\n",
            "[CV]  min_samples_leaf=1, min_samples_split=10, AUC=(train=1.000, test=0.997), Accuracy=(train=1.000, test=0.969), F1=(train=1.000, test=0.969), total= 1.5min\n",
            "[CV] min_samples_leaf=1, min_samples_split=10 ........................\n",
            "[CV]  min_samples_leaf=1, min_samples_split=10, AUC=(train=1.000, test=0.999), Accuracy=(train=1.000, test=0.989), F1=(train=1.000, test=0.989), total= 1.5min\n",
            "[CV] min_samples_leaf=1, min_samples_split=10 ........................\n",
            "[CV]  min_samples_leaf=1, min_samples_split=10, AUC=(train=1.000, test=0.975), Accuracy=(train=1.000, test=0.715), F1=(train=1.000, test=0.715), total= 1.5min\n",
            "[CV] min_samples_leaf=1, min_samples_split=40 ........................\n",
            "[CV]  min_samples_leaf=1, min_samples_split=40, AUC=(train=1.000, test=0.808), Accuracy=(train=1.000, test=0.947), F1=(train=1.000, test=0.947), total= 1.4min\n",
            "[CV] min_samples_leaf=1, min_samples_split=40 ........................\n",
            "[CV]  min_samples_leaf=1, min_samples_split=40, AUC=(train=1.000, test=0.926), Accuracy=(train=1.000, test=0.953), F1=(train=1.000, test=0.953), total= 1.3min\n",
            "[CV] min_samples_leaf=1, min_samples_split=40 ........................\n",
            "[CV]  min_samples_leaf=1, min_samples_split=40, AUC=(train=1.000, test=0.976), Accuracy=(train=1.000, test=0.985), F1=(train=1.000, test=0.985), total= 1.5min\n",
            "[CV] min_samples_leaf=1, min_samples_split=40 ........................\n",
            "[CV]  min_samples_leaf=1, min_samples_split=40, AUC=(train=1.000, test=0.999), Accuracy=(train=1.000, test=0.990), F1=(train=1.000, test=0.990), total= 1.5min\n",
            "[CV] min_samples_leaf=1, min_samples_split=40 ........................\n",
            "[CV]  min_samples_leaf=1, min_samples_split=40, AUC=(train=1.000, test=0.999), Accuracy=(train=1.000, test=0.980), F1=(train=1.000, test=0.980), total= 1.5min\n",
            "[CV] min_samples_leaf=1, min_samples_split=40 ........................\n",
            "[CV]  min_samples_leaf=1, min_samples_split=40, AUC=(train=1.000, test=0.998), Accuracy=(train=1.000, test=0.968), F1=(train=1.000, test=0.968), total= 1.6min\n",
            "[CV] min_samples_leaf=1, min_samples_split=40 ........................\n",
            "[CV]  min_samples_leaf=1, min_samples_split=40, AUC=(train=1.000, test=0.999), Accuracy=(train=1.000, test=0.990), F1=(train=1.000, test=0.990), total= 1.6min\n",
            "[CV] min_samples_leaf=1, min_samples_split=40 ........................\n",
            "[CV]  min_samples_leaf=1, min_samples_split=40, AUC=(train=1.000, test=0.971), Accuracy=(train=1.000, test=0.514), F1=(train=1.000, test=0.514), total= 1.5min\n",
            "[CV] min_samples_leaf=1, min_samples_split=100 .......................\n",
            "[CV]  min_samples_leaf=1, min_samples_split=100, AUC=(train=1.000, test=0.773), Accuracy=(train=1.000, test=0.932), F1=(train=1.000, test=0.932), total= 1.6min\n",
            "[CV] min_samples_leaf=1, min_samples_split=100 .......................\n",
            "[CV]  min_samples_leaf=1, min_samples_split=100, AUC=(train=1.000, test=0.895), Accuracy=(train=1.000, test=0.948), F1=(train=1.000, test=0.948), total= 1.5min\n",
            "[CV] min_samples_leaf=1, min_samples_split=100 .......................\n",
            "[CV]  min_samples_leaf=1, min_samples_split=100, AUC=(train=1.000, test=0.973), Accuracy=(train=1.000, test=0.982), F1=(train=1.000, test=0.982), total= 1.7min\n",
            "[CV] min_samples_leaf=1, min_samples_split=100 .......................\n",
            "[CV]  min_samples_leaf=1, min_samples_split=100, AUC=(train=1.000, test=0.999), Accuracy=(train=1.000, test=0.989), F1=(train=1.000, test=0.989), total= 1.8min\n",
            "[CV] min_samples_leaf=1, min_samples_split=100 .......................\n",
            "[CV]  min_samples_leaf=1, min_samples_split=100, AUC=(train=1.000, test=0.999), Accuracy=(train=1.000, test=0.980), F1=(train=1.000, test=0.980), total= 1.8min\n",
            "[CV] min_samples_leaf=1, min_samples_split=100 .......................\n",
            "[CV]  min_samples_leaf=1, min_samples_split=100, AUC=(train=1.000, test=0.997), Accuracy=(train=1.000, test=0.961), F1=(train=1.000, test=0.961), total= 1.8min\n",
            "[CV] min_samples_leaf=1, min_samples_split=100 .......................\n",
            "[CV]  min_samples_leaf=1, min_samples_split=100, AUC=(train=1.000, test=0.999), Accuracy=(train=1.000, test=0.989), F1=(train=1.000, test=0.989), total= 1.7min\n",
            "[CV] min_samples_leaf=1, min_samples_split=100 .......................\n",
            "[CV]  min_samples_leaf=1, min_samples_split=100, AUC=(train=1.000, test=0.962), Accuracy=(train=1.000, test=0.409), F1=(train=1.000, test=0.409), total= 1.7min\n",
            "[CV] min_samples_leaf=3, min_samples_split=2 .........................\n",
            "[CV]  min_samples_leaf=3, min_samples_split=2, AUC=(train=1.000, test=0.826), Accuracy=(train=1.000, test=0.953), F1=(train=1.000, test=0.953), total= 1.5min\n",
            "[CV] min_samples_leaf=3, min_samples_split=2 .........................\n",
            "[CV]  min_samples_leaf=3, min_samples_split=2, AUC=(train=1.000, test=0.928), Accuracy=(train=1.000, test=0.953), F1=(train=1.000, test=0.953), total= 1.4min\n",
            "[CV] min_samples_leaf=3, min_samples_split=2 .........................\n",
            "[CV]  min_samples_leaf=3, min_samples_split=2, AUC=(train=1.000, test=0.981), Accuracy=(train=1.000, test=0.986), F1=(train=1.000, test=0.986), total= 1.5min\n",
            "[CV] min_samples_leaf=3, min_samples_split=2 .........................\n",
            "[CV]  min_samples_leaf=3, min_samples_split=2, AUC=(train=1.000, test=0.999), Accuracy=(train=1.000, test=0.989), F1=(train=1.000, test=0.989), total= 1.6min\n",
            "[CV] min_samples_leaf=3, min_samples_split=2 .........................\n",
            "[CV]  min_samples_leaf=3, min_samples_split=2, AUC=(train=1.000, test=0.999), Accuracy=(train=1.000, test=0.993), F1=(train=1.000, test=0.993), total= 1.6min\n",
            "[CV] min_samples_leaf=3, min_samples_split=2 .........................\n",
            "[CV]  min_samples_leaf=3, min_samples_split=2, AUC=(train=1.000, test=0.997), Accuracy=(train=1.000, test=0.966), F1=(train=1.000, test=0.966), total= 1.6min\n",
            "[CV] min_samples_leaf=3, min_samples_split=2 .........................\n",
            "[CV]  min_samples_leaf=3, min_samples_split=2, AUC=(train=1.000, test=0.999), Accuracy=(train=1.000, test=0.991), F1=(train=1.000, test=0.991), total= 1.6min\n",
            "[CV] min_samples_leaf=3, min_samples_split=2 .........................\n",
            "[CV]  min_samples_leaf=3, min_samples_split=2, AUC=(train=1.000, test=0.981), Accuracy=(train=1.000, test=0.765), F1=(train=1.000, test=0.765), total= 1.5min\n",
            "[CV] min_samples_leaf=3, min_samples_split=4 .........................\n",
            "[CV]  min_samples_leaf=3, min_samples_split=4, AUC=(train=1.000, test=0.826), Accuracy=(train=1.000, test=0.953), F1=(train=1.000, test=0.953), total= 1.4min\n",
            "[CV] min_samples_leaf=3, min_samples_split=4 .........................\n",
            "[CV]  min_samples_leaf=3, min_samples_split=4, AUC=(train=1.000, test=0.928), Accuracy=(train=1.000, test=0.953), F1=(train=1.000, test=0.953), total= 1.4min\n",
            "[CV] min_samples_leaf=3, min_samples_split=4 .........................\n",
            "[CV]  min_samples_leaf=3, min_samples_split=4, AUC=(train=1.000, test=0.981), Accuracy=(train=1.000, test=0.986), F1=(train=1.000, test=0.986), total= 1.5min\n",
            "[CV] min_samples_leaf=3, min_samples_split=4 .........................\n",
            "[CV]  min_samples_leaf=3, min_samples_split=4, AUC=(train=1.000, test=0.999), Accuracy=(train=1.000, test=0.989), F1=(train=1.000, test=0.989), total= 1.6min\n",
            "[CV] min_samples_leaf=3, min_samples_split=4 .........................\n",
            "[CV]  min_samples_leaf=3, min_samples_split=4, AUC=(train=1.000, test=0.999), Accuracy=(train=1.000, test=0.993), F1=(train=1.000, test=0.993), total= 1.6min\n",
            "[CV] min_samples_leaf=3, min_samples_split=4 .........................\n",
            "[CV]  min_samples_leaf=3, min_samples_split=4, AUC=(train=1.000, test=0.997), Accuracy=(train=1.000, test=0.966), F1=(train=1.000, test=0.966), total= 1.5min\n",
            "[CV] min_samples_leaf=3, min_samples_split=4 .........................\n",
            "[CV]  min_samples_leaf=3, min_samples_split=4, AUC=(train=1.000, test=0.999), Accuracy=(train=1.000, test=0.991), F1=(train=1.000, test=0.991), total= 1.6min\n",
            "[CV] min_samples_leaf=3, min_samples_split=4 .........................\n",
            "[CV]  min_samples_leaf=3, min_samples_split=4, AUC=(train=1.000, test=0.981), Accuracy=(train=1.000, test=0.765), F1=(train=1.000, test=0.765), total= 1.6min\n",
            "[CV] min_samples_leaf=3, min_samples_split=6 .........................\n",
            "[CV]  min_samples_leaf=3, min_samples_split=6, AUC=(train=1.000, test=0.826), Accuracy=(train=1.000, test=0.953), F1=(train=1.000, test=0.953), total= 1.5min\n",
            "[CV] min_samples_leaf=3, min_samples_split=6 .........................\n",
            "[CV]  min_samples_leaf=3, min_samples_split=6, AUC=(train=1.000, test=0.928), Accuracy=(train=1.000, test=0.953), F1=(train=1.000, test=0.953), total= 1.4min\n",
            "[CV] min_samples_leaf=3, min_samples_split=6 .........................\n",
            "[CV]  min_samples_leaf=3, min_samples_split=6, AUC=(train=1.000, test=0.981), Accuracy=(train=1.000, test=0.986), F1=(train=1.000, test=0.986), total= 1.5min\n",
            "[CV] min_samples_leaf=3, min_samples_split=6 .........................\n",
            "[CV]  min_samples_leaf=3, min_samples_split=6, AUC=(train=1.000, test=0.999), Accuracy=(train=1.000, test=0.989), F1=(train=1.000, test=0.989), total= 1.6min\n",
            "[CV] min_samples_leaf=3, min_samples_split=6 .........................\n",
            "[CV]  min_samples_leaf=3, min_samples_split=6, AUC=(train=1.000, test=0.999), Accuracy=(train=1.000, test=0.993), F1=(train=1.000, test=0.993), total= 1.5min\n",
            "[CV] min_samples_leaf=3, min_samples_split=6 .........................\n",
            "[CV]  min_samples_leaf=3, min_samples_split=6, AUC=(train=1.000, test=0.997), Accuracy=(train=1.000, test=0.966), F1=(train=1.000, test=0.966), total= 1.6min\n",
            "[CV] min_samples_leaf=3, min_samples_split=6 .........................\n",
            "[CV]  min_samples_leaf=3, min_samples_split=6, AUC=(train=1.000, test=0.999), Accuracy=(train=1.000, test=0.991), F1=(train=1.000, test=0.991), total= 1.6min\n",
            "[CV] min_samples_leaf=3, min_samples_split=6 .........................\n",
            "[CV]  min_samples_leaf=3, min_samples_split=6, AUC=(train=1.000, test=0.981), Accuracy=(train=1.000, test=0.765), F1=(train=1.000, test=0.765), total= 1.6min\n",
            "[CV] min_samples_leaf=3, min_samples_split=10 ........................\n",
            "[CV]  min_samples_leaf=3, min_samples_split=10, AUC=(train=1.000, test=0.790), Accuracy=(train=1.000, test=0.949), F1=(train=1.000, test=0.949), total= 1.4min\n",
            "[CV] min_samples_leaf=3, min_samples_split=10 ........................\n",
            "[CV]  min_samples_leaf=3, min_samples_split=10, AUC=(train=1.000, test=0.929), Accuracy=(train=1.000, test=0.953), F1=(train=1.000, test=0.953), total= 1.3min\n",
            "[CV] min_samples_leaf=3, min_samples_split=10 ........................\n",
            "[CV]  min_samples_leaf=3, min_samples_split=10, AUC=(train=1.000, test=0.978), Accuracy=(train=1.000, test=0.985), F1=(train=1.000, test=0.985), total= 1.5min\n",
            "[CV] min_samples_leaf=3, min_samples_split=10 ........................\n",
            "[CV]  min_samples_leaf=3, min_samples_split=10, AUC=(train=1.000, test=0.999), Accuracy=(train=1.000, test=0.990), F1=(train=1.000, test=0.990), total= 1.5min\n",
            "[CV] min_samples_leaf=3, min_samples_split=10 ........................\n",
            "[CV]  min_samples_leaf=3, min_samples_split=10, AUC=(train=1.000, test=0.999), Accuracy=(train=1.000, test=0.994), F1=(train=1.000, test=0.994), total= 1.5min\n",
            "[CV] min_samples_leaf=3, min_samples_split=10 ........................\n",
            "[CV]  min_samples_leaf=3, min_samples_split=10, AUC=(train=1.000, test=0.998), Accuracy=(train=1.000, test=0.972), F1=(train=1.000, test=0.972), total= 1.5min\n",
            "[CV] min_samples_leaf=3, min_samples_split=10 ........................\n",
            "[CV]  min_samples_leaf=3, min_samples_split=10, AUC=(train=1.000, test=0.999), Accuracy=(train=1.000, test=0.990), F1=(train=1.000, test=0.990), total= 1.5min\n",
            "[CV] min_samples_leaf=3, min_samples_split=10 ........................\n",
            "[CV]  min_samples_leaf=3, min_samples_split=10, AUC=(train=1.000, test=0.977), Accuracy=(train=1.000, test=0.692), F1=(train=1.000, test=0.692), total= 1.5min\n",
            "[CV] min_samples_leaf=3, min_samples_split=40 ........................\n",
            "[CV]  min_samples_leaf=3, min_samples_split=40, AUC=(train=1.000, test=0.808), Accuracy=(train=1.000, test=0.947), F1=(train=1.000, test=0.947), total= 1.4min\n",
            "[CV] min_samples_leaf=3, min_samples_split=40 ........................\n",
            "[CV]  min_samples_leaf=3, min_samples_split=40, AUC=(train=1.000, test=0.917), Accuracy=(train=1.000, test=0.952), F1=(train=1.000, test=0.952), total= 1.4min\n",
            "[CV] min_samples_leaf=3, min_samples_split=40 ........................\n",
            "[CV]  min_samples_leaf=3, min_samples_split=40, AUC=(train=1.000, test=0.980), Accuracy=(train=1.000, test=0.986), F1=(train=1.000, test=0.986), total= 1.6min\n",
            "[CV] min_samples_leaf=3, min_samples_split=40 ........................\n",
            "[CV]  min_samples_leaf=3, min_samples_split=40, AUC=(train=1.000, test=0.999), Accuracy=(train=1.000, test=0.990), F1=(train=1.000, test=0.990), total= 1.6min\n",
            "[CV] min_samples_leaf=3, min_samples_split=40 ........................\n",
            "[CV]  min_samples_leaf=3, min_samples_split=40, AUC=(train=1.000, test=0.999), Accuracy=(train=1.000, test=0.992), F1=(train=1.000, test=0.992), total= 1.7min\n",
            "[CV] min_samples_leaf=3, min_samples_split=40 ........................\n",
            "[CV]  min_samples_leaf=3, min_samples_split=40, AUC=(train=1.000, test=0.998), Accuracy=(train=1.000, test=0.965), F1=(train=1.000, test=0.965), total= 1.6min\n",
            "[CV] min_samples_leaf=3, min_samples_split=40 ........................\n",
            "[CV]  min_samples_leaf=3, min_samples_split=40, AUC=(train=1.000, test=0.999), Accuracy=(train=1.000, test=0.989), F1=(train=1.000, test=0.989), total= 1.6min\n",
            "[CV] min_samples_leaf=3, min_samples_split=40 ........................\n",
            "[CV]  min_samples_leaf=3, min_samples_split=40, AUC=(train=1.000, test=0.971), Accuracy=(train=1.000, test=0.493), F1=(train=1.000, test=0.493), total= 1.7min\n",
            "[CV] min_samples_leaf=3, min_samples_split=100 .......................\n",
            "[CV]  min_samples_leaf=3, min_samples_split=100, AUC=(train=1.000, test=0.784), Accuracy=(train=1.000, test=0.933), F1=(train=1.000, test=0.933), total= 1.6min\n",
            "[CV] min_samples_leaf=3, min_samples_split=100 .......................\n",
            "[CV]  min_samples_leaf=3, min_samples_split=100, AUC=(train=1.000, test=0.878), Accuracy=(train=1.000, test=0.945), F1=(train=1.000, test=0.945), total= 1.5min\n",
            "[CV] min_samples_leaf=3, min_samples_split=100 .......................\n",
            "[CV]  min_samples_leaf=3, min_samples_split=100, AUC=(train=1.000, test=0.973), Accuracy=(train=1.000, test=0.982), F1=(train=1.000, test=0.982), total= 1.8min\n",
            "[CV] min_samples_leaf=3, min_samples_split=100 .......................\n",
            "[CV]  min_samples_leaf=3, min_samples_split=100, AUC=(train=1.000, test=0.999), Accuracy=(train=1.000, test=0.987), F1=(train=1.000, test=0.987), total= 1.8min\n",
            "[CV] min_samples_leaf=3, min_samples_split=100 .......................\n",
            "[CV]  min_samples_leaf=3, min_samples_split=100, AUC=(train=1.000, test=0.999), Accuracy=(train=1.000, test=0.982), F1=(train=1.000, test=0.982), total= 1.9min\n",
            "[CV] min_samples_leaf=3, min_samples_split=100 .......................\n",
            "[CV]  min_samples_leaf=3, min_samples_split=100, AUC=(train=1.000, test=0.997), Accuracy=(train=1.000, test=0.960), F1=(train=1.000, test=0.960), total= 1.8min\n",
            "[CV] min_samples_leaf=3, min_samples_split=100 .......................\n",
            "[CV]  min_samples_leaf=3, min_samples_split=100, AUC=(train=1.000, test=0.999), Accuracy=(train=1.000, test=0.988), F1=(train=1.000, test=0.988), total= 1.8min\n",
            "[CV] min_samples_leaf=3, min_samples_split=100 .......................\n",
            "[CV]  min_samples_leaf=3, min_samples_split=100, AUC=(train=1.000, test=0.956), Accuracy=(train=1.000, test=0.360), F1=(train=1.000, test=0.360), total= 1.8min\n",
            "[CV] min_samples_leaf=5, min_samples_split=2 .........................\n",
            "[CV]  min_samples_leaf=5, min_samples_split=2, AUC=(train=1.000, test=0.793), Accuracy=(train=1.000, test=0.944), F1=(train=1.000, test=0.944), total= 1.4min\n",
            "[CV] min_samples_leaf=5, min_samples_split=2 .........................\n",
            "[CV]  min_samples_leaf=5, min_samples_split=2, AUC=(train=1.000, test=0.923), Accuracy=(train=1.000, test=0.953), F1=(train=1.000, test=0.953), total= 1.4min\n",
            "[CV] min_samples_leaf=5, min_samples_split=2 .........................\n",
            "[CV]  min_samples_leaf=5, min_samples_split=2, AUC=(train=1.000, test=0.981), Accuracy=(train=1.000, test=0.987), F1=(train=1.000, test=0.987), total= 1.5min\n",
            "[CV] min_samples_leaf=5, min_samples_split=2 .........................\n",
            "[CV]  min_samples_leaf=5, min_samples_split=2, AUC=(train=1.000, test=0.999), Accuracy=(train=1.000, test=0.989), F1=(train=1.000, test=0.989), total= 1.6min\n",
            "[CV] min_samples_leaf=5, min_samples_split=2 .........................\n",
            "[CV]  min_samples_leaf=5, min_samples_split=2, AUC=(train=1.000, test=0.999), Accuracy=(train=1.000, test=0.994), F1=(train=1.000, test=0.994), total= 1.5min\n",
            "[CV] min_samples_leaf=5, min_samples_split=2 .........................\n",
            "[CV]  min_samples_leaf=5, min_samples_split=2, AUC=(train=1.000, test=0.998), Accuracy=(train=1.000, test=0.971), F1=(train=1.000, test=0.971), total= 1.6min\n",
            "[CV] min_samples_leaf=5, min_samples_split=2 .........................\n",
            "[CV]  min_samples_leaf=5, min_samples_split=2, AUC=(train=1.000, test=0.999), Accuracy=(train=1.000, test=0.990), F1=(train=1.000, test=0.990), total= 1.6min\n",
            "[CV] min_samples_leaf=5, min_samples_split=2 .........................\n",
            "[CV]  min_samples_leaf=5, min_samples_split=2, AUC=(train=1.000, test=0.971), Accuracy=(train=1.000, test=0.596), F1=(train=1.000, test=0.596), total= 1.6min\n",
            "[CV] min_samples_leaf=5, min_samples_split=4 .........................\n",
            "[CV]  min_samples_leaf=5, min_samples_split=4, AUC=(train=1.000, test=0.793), Accuracy=(train=1.000, test=0.944), F1=(train=1.000, test=0.944), total= 1.4min\n",
            "[CV] min_samples_leaf=5, min_samples_split=4 .........................\n",
            "[CV]  min_samples_leaf=5, min_samples_split=4, AUC=(train=1.000, test=0.923), Accuracy=(train=1.000, test=0.953), F1=(train=1.000, test=0.953), total= 1.4min\n",
            "[CV] min_samples_leaf=5, min_samples_split=4 .........................\n",
            "[CV]  min_samples_leaf=5, min_samples_split=4, AUC=(train=1.000, test=0.981), Accuracy=(train=1.000, test=0.987), F1=(train=1.000, test=0.987), total= 1.5min\n",
            "[CV] min_samples_leaf=5, min_samples_split=4 .........................\n",
            "[CV]  min_samples_leaf=5, min_samples_split=4, AUC=(train=1.000, test=0.999), Accuracy=(train=1.000, test=0.989), F1=(train=1.000, test=0.989), total= 1.6min\n",
            "[CV] min_samples_leaf=5, min_samples_split=4 .........................\n",
            "[CV]  min_samples_leaf=5, min_samples_split=4, AUC=(train=1.000, test=0.999), Accuracy=(train=1.000, test=0.994), F1=(train=1.000, test=0.994), total= 1.6min\n",
            "[CV] min_samples_leaf=5, min_samples_split=4 .........................\n",
            "[CV]  min_samples_leaf=5, min_samples_split=4, AUC=(train=1.000, test=0.998), Accuracy=(train=1.000, test=0.971), F1=(train=1.000, test=0.971), total= 1.6min\n",
            "[CV] min_samples_leaf=5, min_samples_split=4 .........................\n",
            "[CV]  min_samples_leaf=5, min_samples_split=4, AUC=(train=1.000, test=0.999), Accuracy=(train=1.000, test=0.990), F1=(train=1.000, test=0.990), total= 1.6min\n",
            "[CV] min_samples_leaf=5, min_samples_split=4 .........................\n",
            "[CV]  min_samples_leaf=5, min_samples_split=4, AUC=(train=1.000, test=0.971), Accuracy=(train=1.000, test=0.596), F1=(train=1.000, test=0.596), total= 1.6min\n",
            "[CV] min_samples_leaf=5, min_samples_split=6 .........................\n",
            "[CV]  min_samples_leaf=5, min_samples_split=6, AUC=(train=1.000, test=0.793), Accuracy=(train=1.000, test=0.944), F1=(train=1.000, test=0.944), total= 1.4min\n",
            "[CV] min_samples_leaf=5, min_samples_split=6 .........................\n",
            "[CV]  min_samples_leaf=5, min_samples_split=6, AUC=(train=1.000, test=0.923), Accuracy=(train=1.000, test=0.953), F1=(train=1.000, test=0.953), total= 1.4min\n",
            "[CV] min_samples_leaf=5, min_samples_split=6 .........................\n",
            "[CV]  min_samples_leaf=5, min_samples_split=6, AUC=(train=1.000, test=0.981), Accuracy=(train=1.000, test=0.987), F1=(train=1.000, test=0.987), total= 1.5min\n",
            "[CV] min_samples_leaf=5, min_samples_split=6 .........................\n",
            "[CV]  min_samples_leaf=5, min_samples_split=6, AUC=(train=1.000, test=0.999), Accuracy=(train=1.000, test=0.989), F1=(train=1.000, test=0.989), total= 1.6min\n",
            "[CV] min_samples_leaf=5, min_samples_split=6 .........................\n",
            "[CV]  min_samples_leaf=5, min_samples_split=6, AUC=(train=1.000, test=0.999), Accuracy=(train=1.000, test=0.994), F1=(train=1.000, test=0.994), total= 1.6min\n",
            "[CV] min_samples_leaf=5, min_samples_split=6 .........................\n",
            "[CV]  min_samples_leaf=5, min_samples_split=6, AUC=(train=1.000, test=0.998), Accuracy=(train=1.000, test=0.971), F1=(train=1.000, test=0.971), total= 1.6min\n",
            "[CV] min_samples_leaf=5, min_samples_split=6 .........................\n",
            "[CV]  min_samples_leaf=5, min_samples_split=6, AUC=(train=1.000, test=0.999), Accuracy=(train=1.000, test=0.990), F1=(train=1.000, test=0.990), total= 1.6min\n",
            "[CV] min_samples_leaf=5, min_samples_split=6 .........................\n",
            "[CV]  min_samples_leaf=5, min_samples_split=6, AUC=(train=1.000, test=0.971), Accuracy=(train=1.000, test=0.596), F1=(train=1.000, test=0.596), total= 1.6min\n",
            "[CV] min_samples_leaf=5, min_samples_split=10 ........................\n",
            "[CV]  min_samples_leaf=5, min_samples_split=10, AUC=(train=1.000, test=0.793), Accuracy=(train=1.000, test=0.944), F1=(train=1.000, test=0.944), total= 1.4min\n",
            "[CV] min_samples_leaf=5, min_samples_split=10 ........................\n",
            "[CV]  min_samples_leaf=5, min_samples_split=10, AUC=(train=1.000, test=0.923), Accuracy=(train=1.000, test=0.953), F1=(train=1.000, test=0.953), total= 1.4min\n",
            "[CV] min_samples_leaf=5, min_samples_split=10 ........................\n",
            "[CV]  min_samples_leaf=5, min_samples_split=10, AUC=(train=1.000, test=0.981), Accuracy=(train=1.000, test=0.987), F1=(train=1.000, test=0.987), total= 1.5min\n",
            "[CV] min_samples_leaf=5, min_samples_split=10 ........................\n",
            "[CV]  min_samples_leaf=5, min_samples_split=10, AUC=(train=1.000, test=0.999), Accuracy=(train=1.000, test=0.989), F1=(train=1.000, test=0.989), total= 1.6min\n",
            "[CV] min_samples_leaf=5, min_samples_split=10 ........................\n",
            "[CV]  min_samples_leaf=5, min_samples_split=10, AUC=(train=1.000, test=0.999), Accuracy=(train=1.000, test=0.994), F1=(train=1.000, test=0.994), total= 1.6min\n",
            "[CV] min_samples_leaf=5, min_samples_split=10 ........................\n",
            "[CV]  min_samples_leaf=5, min_samples_split=10, AUC=(train=1.000, test=0.998), Accuracy=(train=1.000, test=0.971), F1=(train=1.000, test=0.971), total= 1.6min\n",
            "[CV] min_samples_leaf=5, min_samples_split=10 ........................\n",
            "[CV]  min_samples_leaf=5, min_samples_split=10, AUC=(train=1.000, test=0.999), Accuracy=(train=1.000, test=0.990), F1=(train=1.000, test=0.990), total= 1.6min\n",
            "[CV] min_samples_leaf=5, min_samples_split=10 ........................\n",
            "[CV]  min_samples_leaf=5, min_samples_split=10, AUC=(train=1.000, test=0.971), Accuracy=(train=1.000, test=0.596), F1=(train=1.000, test=0.596), total= 1.6min\n",
            "[CV] min_samples_leaf=5, min_samples_split=40 ........................\n",
            "[CV]  min_samples_leaf=5, min_samples_split=40, AUC=(train=1.000, test=0.797), Accuracy=(train=1.000, test=0.934), F1=(train=1.000, test=0.934), total= 1.4min\n",
            "[CV] min_samples_leaf=5, min_samples_split=40 ........................\n",
            "[CV]  min_samples_leaf=5, min_samples_split=40, AUC=(train=1.000, test=0.916), Accuracy=(train=1.000, test=0.952), F1=(train=1.000, test=0.952), total= 1.4min\n",
            "[CV] min_samples_leaf=5, min_samples_split=40 ........................\n",
            "[CV]  min_samples_leaf=5, min_samples_split=40, AUC=(train=1.000, test=0.977), Accuracy=(train=1.000, test=0.985), F1=(train=1.000, test=0.985), total= 1.6min\n",
            "[CV] min_samples_leaf=5, min_samples_split=40 ........................\n",
            "[CV]  min_samples_leaf=5, min_samples_split=40, AUC=(train=1.000, test=0.999), Accuracy=(train=1.000, test=0.990), F1=(train=1.000, test=0.990), total= 1.6min\n",
            "[CV] min_samples_leaf=5, min_samples_split=40 ........................\n",
            "[CV]  min_samples_leaf=5, min_samples_split=40, AUC=(train=1.000, test=1.000), Accuracy=(train=1.000, test=0.993), F1=(train=1.000, test=0.993), total= 1.6min\n",
            "[CV] min_samples_leaf=5, min_samples_split=40 ........................\n",
            "[CV]  min_samples_leaf=5, min_samples_split=40, AUC=(train=1.000, test=0.997), Accuracy=(train=1.000, test=0.963), F1=(train=1.000, test=0.963), total= 1.6min\n",
            "[CV] min_samples_leaf=5, min_samples_split=40 ........................\n",
            "[CV]  min_samples_leaf=5, min_samples_split=40, AUC=(train=1.000, test=0.999), Accuracy=(train=1.000, test=0.989), F1=(train=1.000, test=0.989), total= 1.6min\n",
            "[CV] min_samples_leaf=5, min_samples_split=40 ........................\n",
            "[CV]  min_samples_leaf=5, min_samples_split=40, AUC=(train=1.000, test=0.970), Accuracy=(train=1.000, test=0.486), F1=(train=1.000, test=0.486), total= 1.6min\n",
            "[CV] min_samples_leaf=5, min_samples_split=100 .......................\n",
            "[CV]  min_samples_leaf=5, min_samples_split=100, AUC=(train=1.000, test=0.799), Accuracy=(train=1.000, test=0.941), F1=(train=1.000, test=0.941), total= 1.6min\n",
            "[CV] min_samples_leaf=5, min_samples_split=100 .......................\n",
            "[CV]  min_samples_leaf=5, min_samples_split=100, AUC=(train=1.000, test=0.894), Accuracy=(train=1.000, test=0.946), F1=(train=1.000, test=0.946), total= 1.5min\n",
            "[CV] min_samples_leaf=5, min_samples_split=100 .......................\n",
            "[CV]  min_samples_leaf=5, min_samples_split=100, AUC=(train=1.000, test=0.975), Accuracy=(train=1.000, test=0.983), F1=(train=1.000, test=0.983), total= 1.7min\n",
            "[CV] min_samples_leaf=5, min_samples_split=100 .......................\n",
            "[CV]  min_samples_leaf=5, min_samples_split=100, AUC=(train=1.000, test=0.999), Accuracy=(train=1.000, test=0.985), F1=(train=1.000, test=0.985), total= 1.9min\n",
            "[CV] min_samples_leaf=5, min_samples_split=100 .......................\n",
            "[CV]  min_samples_leaf=5, min_samples_split=100, AUC=(train=1.000, test=0.999), Accuracy=(train=1.000, test=0.988), F1=(train=1.000, test=0.988), total= 1.8min\n",
            "[CV] min_samples_leaf=5, min_samples_split=100 .......................\n",
            "[CV]  min_samples_leaf=5, min_samples_split=100, AUC=(train=1.000, test=0.998), Accuracy=(train=1.000, test=0.963), F1=(train=1.000, test=0.963), total= 1.8min\n",
            "[CV] min_samples_leaf=5, min_samples_split=100 .......................\n",
            "[CV]  min_samples_leaf=5, min_samples_split=100, AUC=(train=1.000, test=0.999), Accuracy=(train=1.000, test=0.990), F1=(train=1.000, test=0.990), total= 1.8min\n",
            "[CV] min_samples_leaf=5, min_samples_split=100 .......................\n",
            "[CV]  min_samples_leaf=5, min_samples_split=100, AUC=(train=1.000, test=0.956), Accuracy=(train=1.000, test=0.325), F1=(train=1.000, test=0.325), total= 1.8min\n",
            "[CV] min_samples_leaf=7, min_samples_split=2 .........................\n",
            "[CV]  min_samples_leaf=7, min_samples_split=2, AUC=(train=1.000, test=0.833), Accuracy=(train=1.000, test=0.953), F1=(train=1.000, test=0.953), total= 1.4min\n",
            "[CV] min_samples_leaf=7, min_samples_split=2 .........................\n",
            "[CV]  min_samples_leaf=7, min_samples_split=2, AUC=(train=1.000, test=0.925), Accuracy=(train=1.000, test=0.951), F1=(train=1.000, test=0.951), total= 1.4min\n",
            "[CV] min_samples_leaf=7, min_samples_split=2 .........................\n",
            "[CV]  min_samples_leaf=7, min_samples_split=2, AUC=(train=1.000, test=0.977), Accuracy=(train=1.000, test=0.985), F1=(train=1.000, test=0.985), total= 1.5min\n",
            "[CV] min_samples_leaf=7, min_samples_split=2 .........................\n",
            "[CV]  min_samples_leaf=7, min_samples_split=2, AUC=(train=1.000, test=0.999), Accuracy=(train=1.000, test=0.991), F1=(train=1.000, test=0.991), total= 1.6min\n",
            "[CV] min_samples_leaf=7, min_samples_split=2 .........................\n",
            "[CV]  min_samples_leaf=7, min_samples_split=2, AUC=(train=1.000, test=0.999), Accuracy=(train=1.000, test=0.994), F1=(train=1.000, test=0.994), total= 1.6min\n",
            "[CV] min_samples_leaf=7, min_samples_split=2 .........................\n",
            "[CV]  min_samples_leaf=7, min_samples_split=2, AUC=(train=1.000, test=0.998), Accuracy=(train=1.000, test=0.967), F1=(train=1.000, test=0.967), total= 1.6min\n",
            "[CV] min_samples_leaf=7, min_samples_split=2 .........................\n",
            "[CV]  min_samples_leaf=7, min_samples_split=2, AUC=(train=1.000, test=0.999), Accuracy=(train=1.000, test=0.989), F1=(train=1.000, test=0.989), total= 1.6min\n",
            "[CV] min_samples_leaf=7, min_samples_split=2 .........................\n",
            "[CV]  min_samples_leaf=7, min_samples_split=2, AUC=(train=1.000, test=0.979), Accuracy=(train=1.000, test=0.660), F1=(train=1.000, test=0.660), total= 1.6min\n",
            "[CV] min_samples_leaf=7, min_samples_split=4 .........................\n",
            "[CV]  min_samples_leaf=7, min_samples_split=4, AUC=(train=1.000, test=0.833), Accuracy=(train=1.000, test=0.953), F1=(train=1.000, test=0.953), total= 1.5min\n",
            "[CV] min_samples_leaf=7, min_samples_split=4 .........................\n",
            "[CV]  min_samples_leaf=7, min_samples_split=4, AUC=(train=1.000, test=0.925), Accuracy=(train=1.000, test=0.951), F1=(train=1.000, test=0.951), total= 1.4min\n",
            "[CV] min_samples_leaf=7, min_samples_split=4 .........................\n",
            "[CV]  min_samples_leaf=7, min_samples_split=4, AUC=(train=1.000, test=0.977), Accuracy=(train=1.000, test=0.985), F1=(train=1.000, test=0.985), total= 1.6min\n",
            "[CV] min_samples_leaf=7, min_samples_split=4 .........................\n",
            "[CV]  min_samples_leaf=7, min_samples_split=4, AUC=(train=1.000, test=0.999), Accuracy=(train=1.000, test=0.991), F1=(train=1.000, test=0.991), total= 1.6min\n",
            "[CV] min_samples_leaf=7, min_samples_split=4 .........................\n",
            "[CV]  min_samples_leaf=7, min_samples_split=4, AUC=(train=1.000, test=0.999), Accuracy=(train=1.000, test=0.994), F1=(train=1.000, test=0.994), total= 1.6min\n",
            "[CV] min_samples_leaf=7, min_samples_split=4 .........................\n",
            "[CV]  min_samples_leaf=7, min_samples_split=4, AUC=(train=1.000, test=0.998), Accuracy=(train=1.000, test=0.967), F1=(train=1.000, test=0.967), total= 1.6min\n",
            "[CV] min_samples_leaf=7, min_samples_split=4 .........................\n",
            "[CV]  min_samples_leaf=7, min_samples_split=4, AUC=(train=1.000, test=0.999), Accuracy=(train=1.000, test=0.989), F1=(train=1.000, test=0.989), total= 1.6min\n",
            "[CV] min_samples_leaf=7, min_samples_split=4 .........................\n",
            "[CV]  min_samples_leaf=7, min_samples_split=4, AUC=(train=1.000, test=0.979), Accuracy=(train=1.000, test=0.660), F1=(train=1.000, test=0.660), total= 1.6min\n",
            "[CV] min_samples_leaf=7, min_samples_split=6 .........................\n",
            "[CV]  min_samples_leaf=7, min_samples_split=6, AUC=(train=1.000, test=0.833), Accuracy=(train=1.000, test=0.953), F1=(train=1.000, test=0.953), total= 1.4min\n",
            "[CV] min_samples_leaf=7, min_samples_split=6 .........................\n",
            "[CV]  min_samples_leaf=7, min_samples_split=6, AUC=(train=1.000, test=0.925), Accuracy=(train=1.000, test=0.951), F1=(train=1.000, test=0.951), total= 1.4min\n",
            "[CV] min_samples_leaf=7, min_samples_split=6 .........................\n",
            "[CV]  min_samples_leaf=7, min_samples_split=6, AUC=(train=1.000, test=0.977), Accuracy=(train=1.000, test=0.985), F1=(train=1.000, test=0.985), total= 1.6min\n",
            "[CV] min_samples_leaf=7, min_samples_split=6 .........................\n",
            "[CV]  min_samples_leaf=7, min_samples_split=6, AUC=(train=1.000, test=0.999), Accuracy=(train=1.000, test=0.991), F1=(train=1.000, test=0.991), total= 1.6min\n",
            "[CV] min_samples_leaf=7, min_samples_split=6 .........................\n",
            "[CV]  min_samples_leaf=7, min_samples_split=6, AUC=(train=1.000, test=0.999), Accuracy=(train=1.000, test=0.994), F1=(train=1.000, test=0.994), total= 1.6min\n",
            "[CV] min_samples_leaf=7, min_samples_split=6 .........................\n",
            "[CV]  min_samples_leaf=7, min_samples_split=6, AUC=(train=1.000, test=0.998), Accuracy=(train=1.000, test=0.967), F1=(train=1.000, test=0.967), total= 1.6min\n",
            "[CV] min_samples_leaf=7, min_samples_split=6 .........................\n",
            "[CV]  min_samples_leaf=7, min_samples_split=6, AUC=(train=1.000, test=0.999), Accuracy=(train=1.000, test=0.989), F1=(train=1.000, test=0.989), total= 1.6min\n",
            "[CV] min_samples_leaf=7, min_samples_split=6 .........................\n",
            "[CV]  min_samples_leaf=7, min_samples_split=6, AUC=(train=1.000, test=0.979), Accuracy=(train=1.000, test=0.660), F1=(train=1.000, test=0.660), total= 1.6min\n",
            "[CV] min_samples_leaf=7, min_samples_split=10 ........................\n",
            "[CV]  min_samples_leaf=7, min_samples_split=10, AUC=(train=1.000, test=0.833), Accuracy=(train=1.000, test=0.953), F1=(train=1.000, test=0.953), total= 1.5min\n",
            "[CV] min_samples_leaf=7, min_samples_split=10 ........................\n",
            "[CV]  min_samples_leaf=7, min_samples_split=10, AUC=(train=1.000, test=0.925), Accuracy=(train=1.000, test=0.951), F1=(train=1.000, test=0.951), total= 1.4min\n",
            "[CV] min_samples_leaf=7, min_samples_split=10 ........................\n",
            "[CV]  min_samples_leaf=7, min_samples_split=10, AUC=(train=1.000, test=0.977), Accuracy=(train=1.000, test=0.985), F1=(train=1.000, test=0.985), total= 1.5min\n",
            "[CV] min_samples_leaf=7, min_samples_split=10 ........................\n",
            "[CV]  min_samples_leaf=7, min_samples_split=10, AUC=(train=1.000, test=0.999), Accuracy=(train=1.000, test=0.991), F1=(train=1.000, test=0.991), total= 1.6min\n",
            "[CV] min_samples_leaf=7, min_samples_split=10 ........................\n",
            "[CV]  min_samples_leaf=7, min_samples_split=10, AUC=(train=1.000, test=0.999), Accuracy=(train=1.000, test=0.994), F1=(train=1.000, test=0.994), total= 1.6min\n",
            "[CV] min_samples_leaf=7, min_samples_split=10 ........................\n",
            "[CV]  min_samples_leaf=7, min_samples_split=10, AUC=(train=1.000, test=0.998), Accuracy=(train=1.000, test=0.967), F1=(train=1.000, test=0.967), total= 1.6min\n",
            "[CV] min_samples_leaf=7, min_samples_split=10 ........................\n",
            "[CV]  min_samples_leaf=7, min_samples_split=10, AUC=(train=1.000, test=0.999), Accuracy=(train=1.000, test=0.989), F1=(train=1.000, test=0.989), total= 1.6min\n",
            "[CV] min_samples_leaf=7, min_samples_split=10 ........................\n",
            "[CV]  min_samples_leaf=7, min_samples_split=10, AUC=(train=1.000, test=0.979), Accuracy=(train=1.000, test=0.660), F1=(train=1.000, test=0.660), total= 1.6min\n",
            "[CV] min_samples_leaf=7, min_samples_split=40 ........................\n",
            "[CV]  min_samples_leaf=7, min_samples_split=40, AUC=(train=1.000, test=0.793), Accuracy=(train=1.000, test=0.928), F1=(train=1.000, test=0.928), total= 1.5min\n",
            "[CV] min_samples_leaf=7, min_samples_split=40 ........................\n",
            "[CV]  min_samples_leaf=7, min_samples_split=40, AUC=(train=1.000, test=0.914), Accuracy=(train=1.000, test=0.951), F1=(train=1.000, test=0.951), total= 1.4min\n",
            "[CV] min_samples_leaf=7, min_samples_split=40 ........................\n",
            "[CV]  min_samples_leaf=7, min_samples_split=40, AUC=(train=1.000, test=0.976), Accuracy=(train=1.000, test=0.984), F1=(train=1.000, test=0.984), total= 1.6min\n",
            "[CV] min_samples_leaf=7, min_samples_split=40 ........................\n",
            "[CV]  min_samples_leaf=7, min_samples_split=40, AUC=(train=1.000, test=0.999), Accuracy=(train=1.000, test=0.989), F1=(train=1.000, test=0.989), total= 1.6min\n",
            "[CV] min_samples_leaf=7, min_samples_split=40 ........................\n",
            "[CV]  min_samples_leaf=7, min_samples_split=40, AUC=(train=1.000, test=1.000), Accuracy=(train=1.000, test=0.994), F1=(train=1.000, test=0.994), total= 1.7min\n",
            "[CV] min_samples_leaf=7, min_samples_split=40 ........................\n",
            "[CV]  min_samples_leaf=7, min_samples_split=40, AUC=(train=1.000, test=0.997), Accuracy=(train=1.000, test=0.962), F1=(train=1.000, test=0.962), total= 1.7min\n",
            "[CV] min_samples_leaf=7, min_samples_split=40 ........................\n",
            "[CV]  min_samples_leaf=7, min_samples_split=40, AUC=(train=1.000, test=0.999), Accuracy=(train=1.000, test=0.989), F1=(train=1.000, test=0.989), total= 1.7min\n",
            "[CV] min_samples_leaf=7, min_samples_split=40 ........................\n",
            "[CV]  min_samples_leaf=7, min_samples_split=40, AUC=(train=1.000, test=0.973), Accuracy=(train=1.000, test=0.490), F1=(train=1.000, test=0.490), total= 1.7min\n",
            "[CV] min_samples_leaf=7, min_samples_split=100 .......................\n",
            "[CV]  min_samples_leaf=7, min_samples_split=100, AUC=(train=1.000, test=0.793), Accuracy=(train=1.000, test=0.929), F1=(train=1.000, test=0.929), total= 1.6min\n",
            "[CV] min_samples_leaf=7, min_samples_split=100 .......................\n",
            "[CV]  min_samples_leaf=7, min_samples_split=100, AUC=(train=1.000, test=0.885), Accuracy=(train=1.000, test=0.947), F1=(train=1.000, test=0.947), total= 1.5min\n",
            "[CV] min_samples_leaf=7, min_samples_split=100 .......................\n",
            "[CV]  min_samples_leaf=7, min_samples_split=100, AUC=(train=1.000, test=0.972), Accuracy=(train=1.000, test=0.982), F1=(train=1.000, test=0.982), total= 1.8min\n",
            "[CV] min_samples_leaf=7, min_samples_split=100 .......................\n",
            "[CV]  min_samples_leaf=7, min_samples_split=100, AUC=(train=1.000, test=0.999), Accuracy=(train=1.000, test=0.987), F1=(train=1.000, test=0.987), total= 1.9min\n",
            "[CV] min_samples_leaf=7, min_samples_split=100 .......................\n",
            "[CV]  min_samples_leaf=7, min_samples_split=100, AUC=(train=1.000, test=0.999), Accuracy=(train=1.000, test=0.988), F1=(train=1.000, test=0.988), total= 1.9min\n",
            "[CV] min_samples_leaf=7, min_samples_split=100 .......................\n",
            "[CV]  min_samples_leaf=7, min_samples_split=100, AUC=(train=1.000, test=0.997), Accuracy=(train=1.000, test=0.962), F1=(train=1.000, test=0.962), total= 1.9min\n",
            "[CV] min_samples_leaf=7, min_samples_split=100 .......................\n",
            "[CV]  min_samples_leaf=7, min_samples_split=100, AUC=(train=1.000, test=0.999), Accuracy=(train=1.000, test=0.988), F1=(train=1.000, test=0.988), total= 1.9min\n",
            "[CV] min_samples_leaf=7, min_samples_split=100 .......................\n",
            "[CV]  min_samples_leaf=7, min_samples_split=100, AUC=(train=1.000, test=0.959), Accuracy=(train=1.000, test=0.323), F1=(train=1.000, test=0.323), total= 1.8min\n"
          ]
        },
        {
          "name": "stderr",
          "output_type": "stream",
          "text": [
            "[Parallel(n_jobs=1)]: Done 192 out of 192 | elapsed: 333.2min finished\n"
          ]
        },
        {
          "name": "stdout",
          "output_type": "stream",
          "text": [
            "\n",
            " Time taken: 5 hours 35 minutes and 3.8 seconds.\n"
          ]
        }
      ]
    },
    {
      "cell_type": "code",
      "metadata": {
        "colab": {
          "base_uri": "https://localhost:8080/"
        },
        "id": "TmzeKzojS4-Y",
        "outputId": "f5a100df-f6f8-4e2b-deec-523ff9e4f445"
      },
      "source": [
        "gsearch7.best_params_, gsearch7.best_score_\n"
      ],
      "execution_count": null,
      "outputs": [
        {
          "data": {
            "text/plain": [
              "({'min_samples_leaf': 3, 'min_samples_split': 2}, 0.9639806862134113)"
            ]
          },
          "execution_count": 30,
          "metadata": {},
          "output_type": "execute_result"
        }
      ]
    },
    {
      "cell_type": "markdown",
      "metadata": {
        "id": "YSh_tV1ag3Qf"
      },
      "source": [
        "## **G. random_state**"
      ]
    },
    {
      "cell_type": "code",
      "metadata": {
        "id": "7QgWHeu6i-mC"
      },
      "source": [
        "gbc8 = GradientBoostingClassifier( learning_rate=0.1, n_estimators=700,  max_depth=20, max_features=15, subsample=0.7, min_samples_leaf= 3, min_samples_split= 2)\n",
        "parameters8 = {\n",
        "    'random_state':[10,40,70,100]\n",
        "}\n",
        "scoring8 = {'AUC': 'roc_auc', 'Accuracy': make_scorer(accuracy_score), 'F1':make_scorer(f1_score, average='micro')}"
      ],
      "execution_count": null,
      "outputs": []
    },
    {
      "cell_type": "code",
      "metadata": {
        "colab": {
          "base_uri": "https://localhost:8080/"
        },
        "id": "ESXE7GCZi-mD",
        "outputId": "60c2ad62-0b34-4c24-fd2c-a52ef70a6939"
      },
      "source": [
        "\n",
        "start_time = timer(None) # timing starts from this point for \"start_time\" variable\n",
        "gsearch8 = GridSearchCV(estimator=gbc8,param_grid=parameters8,scoring=scoring8, cv=8, verbose=3, refit='AUC', return_train_score=True)\n",
        "gsearch8.fit(X,Y)\n",
        "timer(start_time) # timing ends here for \"start_time\" variable"
      ],
      "execution_count": null,
      "outputs": [
        {
          "name": "stdout",
          "output_type": "stream",
          "text": [
            "Fitting 8 folds for each of 4 candidates, totalling 32 fits\n",
            "[CV] random_state=10 .................................................\n"
          ]
        },
        {
          "name": "stderr",
          "output_type": "stream",
          "text": [
            "[Parallel(n_jobs=1)]: Using backend SequentialBackend with 1 concurrent workers.\n"
          ]
        },
        {
          "name": "stdout",
          "output_type": "stream",
          "text": [
            "[CV]  random_state=10, AUC=(train=1.000, test=0.826), Accuracy=(train=1.000, test=0.953), F1=(train=1.000, test=0.953), total= 1.4min\n",
            "[CV] random_state=10 .................................................\n"
          ]
        },
        {
          "name": "stderr",
          "output_type": "stream",
          "text": [
            "[Parallel(n_jobs=1)]: Done   1 out of   1 | elapsed:  1.6min remaining:    0.0s\n"
          ]
        },
        {
          "name": "stdout",
          "output_type": "stream",
          "text": [
            "[CV]  random_state=10, AUC=(train=1.000, test=0.928), Accuracy=(train=1.000, test=0.953), F1=(train=1.000, test=0.953), total= 1.4min\n",
            "[CV] random_state=10 .................................................\n"
          ]
        },
        {
          "name": "stderr",
          "output_type": "stream",
          "text": [
            "[Parallel(n_jobs=1)]: Done   2 out of   2 | elapsed:  3.1min remaining:    0.0s\n"
          ]
        },
        {
          "name": "stdout",
          "output_type": "stream",
          "text": [
            "[CV]  random_state=10, AUC=(train=1.000, test=0.981), Accuracy=(train=1.000, test=0.986), F1=(train=1.000, test=0.986), total= 1.6min\n",
            "[CV] random_state=10 .................................................\n",
            "[CV]  random_state=10, AUC=(train=1.000, test=0.999), Accuracy=(train=1.000, test=0.989), F1=(train=1.000, test=0.989), total= 1.6min\n",
            "[CV] random_state=10 .................................................\n",
            "[CV]  random_state=10, AUC=(train=1.000, test=0.999), Accuracy=(train=1.000, test=0.993), F1=(train=1.000, test=0.993), total= 1.6min\n",
            "[CV] random_state=10 .................................................\n",
            "[CV]  random_state=10, AUC=(train=1.000, test=0.997), Accuracy=(train=1.000, test=0.966), F1=(train=1.000, test=0.966), total= 1.6min\n",
            "[CV] random_state=10 .................................................\n",
            "[CV]  random_state=10, AUC=(train=1.000, test=0.999), Accuracy=(train=1.000, test=0.991), F1=(train=1.000, test=0.991), total= 1.6min\n",
            "[CV] random_state=10 .................................................\n",
            "[CV]  random_state=10, AUC=(train=1.000, test=0.981), Accuracy=(train=1.000, test=0.765), F1=(train=1.000, test=0.765), total= 1.6min\n",
            "[CV] random_state=40 .................................................\n",
            "[CV]  random_state=40, AUC=(train=1.000, test=0.817), Accuracy=(train=1.000, test=0.954), F1=(train=1.000, test=0.954), total= 1.4min\n",
            "[CV] random_state=40 .................................................\n",
            "[CV]  random_state=40, AUC=(train=1.000, test=0.937), Accuracy=(train=1.000, test=0.955), F1=(train=1.000, test=0.955), total= 1.4min\n",
            "[CV] random_state=40 .................................................\n",
            "[CV]  random_state=40, AUC=(train=1.000, test=0.980), Accuracy=(train=1.000, test=0.985), F1=(train=1.000, test=0.985), total= 1.6min\n",
            "[CV] random_state=40 .................................................\n",
            "[CV]  random_state=40, AUC=(train=1.000, test=0.999), Accuracy=(train=1.000, test=0.989), F1=(train=1.000, test=0.989), total= 1.6min\n",
            "[CV] random_state=40 .................................................\n",
            "[CV]  random_state=40, AUC=(train=1.000, test=0.999), Accuracy=(train=1.000, test=0.995), F1=(train=1.000, test=0.995), total= 1.6min\n",
            "[CV] random_state=40 .................................................\n",
            "[CV]  random_state=40, AUC=(train=1.000, test=0.998), Accuracy=(train=1.000, test=0.972), F1=(train=1.000, test=0.972), total= 1.6min\n",
            "[CV] random_state=40 .................................................\n",
            "[CV]  random_state=40, AUC=(train=1.000, test=0.999), Accuracy=(train=1.000, test=0.990), F1=(train=1.000, test=0.990), total= 1.6min\n",
            "[CV] random_state=40 .................................................\n",
            "[CV]  random_state=40, AUC=(train=1.000, test=0.984), Accuracy=(train=1.000, test=0.813), F1=(train=1.000, test=0.813), total= 1.6min\n",
            "[CV] random_state=70 .................................................\n",
            "[CV]  random_state=70, AUC=(train=1.000, test=0.820), Accuracy=(train=1.000, test=0.956), F1=(train=1.000, test=0.956), total= 1.4min\n",
            "[CV] random_state=70 .................................................\n",
            "[CV]  random_state=70, AUC=(train=1.000, test=0.926), Accuracy=(train=1.000, test=0.952), F1=(train=1.000, test=0.952), total= 1.4min\n",
            "[CV] random_state=70 .................................................\n",
            "[CV]  random_state=70, AUC=(train=1.000, test=0.978), Accuracy=(train=1.000, test=0.986), F1=(train=1.000, test=0.986), total= 1.5min\n",
            "[CV] random_state=70 .................................................\n",
            "[CV]  random_state=70, AUC=(train=1.000, test=0.999), Accuracy=(train=1.000, test=0.990), F1=(train=1.000, test=0.990), total= 1.6min\n",
            "[CV] random_state=70 .................................................\n",
            "[CV]  random_state=70, AUC=(train=1.000, test=0.999), Accuracy=(train=1.000, test=0.992), F1=(train=1.000, test=0.992), total= 1.6min\n",
            "[CV] random_state=70 .................................................\n",
            "[CV]  random_state=70, AUC=(train=1.000, test=0.997), Accuracy=(train=1.000, test=0.969), F1=(train=1.000, test=0.969), total= 1.6min\n",
            "[CV] random_state=70 .................................................\n",
            "[CV]  random_state=70, AUC=(train=1.000, test=0.999), Accuracy=(train=1.000, test=0.989), F1=(train=1.000, test=0.989), total= 1.6min\n",
            "[CV] random_state=70 .................................................\n",
            "[CV]  random_state=70, AUC=(train=1.000, test=0.979), Accuracy=(train=1.000, test=0.723), F1=(train=1.000, test=0.723), total= 1.6min\n",
            "[CV] random_state=100 ................................................\n",
            "[CV]  random_state=100, AUC=(train=1.000, test=0.829), Accuracy=(train=1.000, test=0.954), F1=(train=1.000, test=0.954), total= 1.4min\n",
            "[CV] random_state=100 ................................................\n",
            "[CV]  random_state=100, AUC=(train=1.000, test=0.924), Accuracy=(train=1.000, test=0.951), F1=(train=1.000, test=0.951), total= 1.4min\n",
            "[CV] random_state=100 ................................................\n",
            "[CV]  random_state=100, AUC=(train=1.000, test=0.980), Accuracy=(train=1.000, test=0.986), F1=(train=1.000, test=0.986), total= 1.5min\n",
            "[CV] random_state=100 ................................................\n",
            "[CV]  random_state=100, AUC=(train=1.000, test=0.999), Accuracy=(train=1.000, test=0.989), F1=(train=1.000, test=0.989), total= 1.5min\n",
            "[CV] random_state=100 ................................................\n",
            "[CV]  random_state=100, AUC=(train=1.000, test=0.999), Accuracy=(train=1.000, test=0.991), F1=(train=1.000, test=0.991), total= 1.6min\n",
            "[CV] random_state=100 ................................................\n",
            "[CV]  random_state=100, AUC=(train=1.000, test=0.997), Accuracy=(train=1.000, test=0.967), F1=(train=1.000, test=0.967), total= 1.5min\n",
            "[CV] random_state=100 ................................................\n",
            "[CV]  random_state=100, AUC=(train=1.000, test=0.999), Accuracy=(train=1.000, test=0.990), F1=(train=1.000, test=0.990), total= 1.6min\n",
            "[CV] random_state=100 ................................................\n",
            "[CV]  random_state=100, AUC=(train=1.000, test=0.975), Accuracy=(train=1.000, test=0.679), F1=(train=1.000, test=0.679), total= 1.6min\n"
          ]
        },
        {
          "name": "stderr",
          "output_type": "stream",
          "text": [
            "[Parallel(n_jobs=1)]: Done  32 out of  32 | elapsed: 53.5min finished\n"
          ]
        },
        {
          "name": "stdout",
          "output_type": "stream",
          "text": [
            "\n",
            " Time taken: 0 hours 55 minutes and 16.76 seconds.\n"
          ]
        }
      ]
    },
    {
      "cell_type": "code",
      "metadata": {
        "colab": {
          "base_uri": "https://localhost:8080/"
        },
        "id": "OVXu8iKei-mE",
        "outputId": "4bfe47bc-7cee-4310-cb4f-e3a2eefa15db"
      },
      "source": [
        "gsearch8.best_params_, gsearch8.best_score_\n"
      ],
      "execution_count": null,
      "outputs": [
        {
          "data": {
            "text/plain": [
              "({'random_state': 40}, 0.9642348620455258)"
            ]
          },
          "execution_count": 34,
          "metadata": {},
          "output_type": "execute_result"
        }
      ]
    },
    {
      "cell_type": "markdown",
      "metadata": {
        "id": "HQP2HPmBWdj6"
      },
      "source": [
        "With the following code it is possible to view all training scores for the different partitions specified during GridSearch"
      ]
    },
    {
      "cell_type": "code",
      "metadata": {
        "colab": {
          "base_uri": "https://localhost:8080/"
        },
        "id": "g84MHkjr9jOz",
        "outputId": "197f12a0-abaf-41aa-ccfc-174b6ab5a561"
      },
      "source": [
        "gsearch8.cv_results_\n"
      ],
      "execution_count": null,
      "outputs": [
        {
          "data": {
            "text/plain": [
              "{'mean_fit_time': array([92.29432592, 91.39128387, 90.57659206, 89.9220047 ]),\n",
              " 'mean_score_time': array([1.15199158, 1.12505707, 1.0545615 , 1.12370601]),\n",
              " 'mean_test_AUC': array([0.96398069, 0.96423486, 0.96226218, 0.96284543]),\n",
              " 'mean_test_Accuracy': array([0.94943562, 0.95672886, 0.94468014, 0.93854044]),\n",
              " 'mean_test_F1': array([0.94943562, 0.95672886, 0.94468014, 0.93854044]),\n",
              " 'mean_train_AUC': array([1., 1., 1., 1.]),\n",
              " 'mean_train_Accuracy': array([1., 1., 1., 1.]),\n",
              " 'mean_train_F1': array([1., 1., 1., 1.]),\n",
              " 'param_random_state': masked_array(data=[10, 40, 70, 100],\n",
              "              mask=[False, False, False, False],\n",
              "        fill_value='?',\n",
              "             dtype=object),\n",
              " 'params': [{'random_state': 10},\n",
              "  {'random_state': 40},\n",
              "  {'random_state': 70},\n",
              "  {'random_state': 100}],\n",
              " 'rank_test_AUC': array([2, 1, 4, 3], dtype=int32),\n",
              " 'rank_test_Accuracy': array([2, 1, 3, 4], dtype=int32),\n",
              " 'rank_test_F1': array([2, 1, 3, 4], dtype=int32),\n",
              " 'split0_test_AUC': array([0.82648718, 0.81731254, 0.82040739, 0.82886701]),\n",
              " 'split0_test_Accuracy': array([0.95252743, 0.95447555, 0.95570594, 0.95355275]),\n",
              " 'split0_test_F1': array([0.95252743, 0.95447555, 0.95570594, 0.95355275]),\n",
              " 'split0_train_AUC': array([1., 1., 1., 1.]),\n",
              " 'split0_train_Accuracy': array([1., 1., 1., 1.]),\n",
              " 'split0_train_F1': array([1., 1., 1., 1.]),\n",
              " 'split1_test_AUC': array([0.92841321, 0.93736894, 0.92613425, 0.92395746]),\n",
              " 'split1_test_Accuracy': array([0.95283503, 0.95529581, 0.95191223, 0.95129704]),\n",
              " 'split1_test_F1': array([0.95283503, 0.95529581, 0.95191223, 0.95129704]),\n",
              " 'split1_train_AUC': array([1., 1., 1., 1.]),\n",
              " 'split1_train_Accuracy': array([1., 1., 1., 1.]),\n",
              " 'split1_train_F1': array([1., 1., 1., 1.]),\n",
              " 'split2_test_AUC': array([0.98139312, 0.98029215, 0.97796134, 0.98048796]),\n",
              " 'split2_test_Accuracy': array([0.98585051, 0.98533784, 0.98585051, 0.98585051]),\n",
              " 'split2_test_F1': array([0.98585051, 0.98533784, 0.98585051, 0.98585051]),\n",
              " 'split2_train_AUC': array([1., 1., 1., 1.]),\n",
              " 'split2_train_Accuracy': array([1., 1., 1., 1.]),\n",
              " 'split2_train_F1': array([1., 1., 1., 1.]),\n",
              " 'split3_test_AUC': array([0.99893837, 0.9990346 , 0.99905988, 0.99879299]),\n",
              " 'split3_test_Accuracy': array([0.98902902, 0.98902902, 0.98974674, 0.98913155]),\n",
              " 'split3_test_F1': array([0.98902902, 0.98902902, 0.98974674, 0.98913155]),\n",
              " 'split3_train_AUC': array([1., 1., 1., 1.]),\n",
              " 'split3_train_Accuracy': array([1., 1., 1., 1.]),\n",
              " 'split3_train_F1': array([1., 1., 1., 1.]),\n",
              " 'split4_test_AUC': array([0.99923532, 0.99916308, 0.99899474, 0.99907124]),\n",
              " 'split4_test_Accuracy': array([0.99272019, 0.99466831, 0.99241259, 0.99138727]),\n",
              " 'split4_test_F1': array([0.99272019, 0.99466831, 0.99241259, 0.99138727]),\n",
              " 'split4_train_AUC': array([1., 1., 1., 1.]),\n",
              " 'split4_train_Accuracy': array([1., 1., 1., 1.]),\n",
              " 'split4_train_F1': array([1., 1., 1., 1.]),\n",
              " 'split5_test_AUC': array([0.9969703 , 0.99756883, 0.99702731, 0.99701725]),\n",
              " 'split5_test_Accuracy': array([0.96626679, 0.97190608, 0.9694453 , 0.96739465]),\n",
              " 'split5_test_F1': array([0.96626679, 0.97190608, 0.9694453 , 0.96739465]),\n",
              " 'split5_train_AUC': array([1., 1., 1., 1.]),\n",
              " 'split5_train_Accuracy': array([1., 1., 1., 1.]),\n",
              " 'split5_train_F1': array([1., 1., 1., 1.]),\n",
              " 'split6_test_AUC': array([0.999318  , 0.99918204, 0.99923377, 0.99925273]),\n",
              " 'split6_test_Accuracy': array([0.99128473, 0.99025941, 0.98933661, 0.99025941]),\n",
              " 'split6_test_F1': array([0.99128473, 0.99025941, 0.98933661, 0.99025941]),\n",
              " 'split6_train_AUC': array([1., 1., 1., 1.]),\n",
              " 'split6_train_Accuracy': array([1., 1., 1., 1.]),\n",
              " 'split6_train_F1': array([1., 1., 1., 1.]),\n",
              " 'split7_test_AUC': array([0.98108999, 0.98395671, 0.97927876, 0.97531679]),\n",
              " 'split7_test_Accuracy': array([0.76497129, 0.8128589 , 0.72303117, 0.67945037]),\n",
              " 'split7_test_F1': array([0.76497129, 0.8128589 , 0.72303117, 0.67945037]),\n",
              " 'split7_train_AUC': array([1., 1., 1., 1.]),\n",
              " 'split7_train_Accuracy': array([1., 1., 1., 1.]),\n",
              " 'split7_train_F1': array([1., 1., 1., 1.]),\n",
              " 'std_fit_time': array([4.79516453, 4.00495332, 4.45008013, 4.65151403]),\n",
              " 'std_score_time': array([0.22501895, 0.20379881, 0.17727604, 0.15105516]),\n",
              " 'std_test_AUC': array([0.05653251, 0.05886233, 0.05835548, 0.05593191]),\n",
              " 'std_test_Accuracy': array([0.0714581 , 0.05630444, 0.08508381, 0.09912976]),\n",
              " 'std_test_F1': array([0.0714581 , 0.05630444, 0.08508381, 0.09912976]),\n",
              " 'std_train_AUC': array([0.00000000e+00, 0.00000000e+00, 0.00000000e+00, 3.92523115e-17]),\n",
              " 'std_train_Accuracy': array([0., 0., 0., 0.]),\n",
              " 'std_train_F1': array([0., 0., 0., 0.])}"
            ]
          },
          "execution_count": 82,
          "metadata": {},
          "output_type": "execute_result"
        }
      ]
    },
    {
      "cell_type": "markdown",
      "metadata": {
        "id": "oLS8oAIfX-XG"
      },
      "source": [
        "Finally, a parameter setting has been made with the most commonly used GradientBoosting arguments. The training score has been increased from 87% to 96%. Finally, an analysis of the number of partitions in the GridSearch with respect to the training score will also be made. "
      ]
    },
    {
      "cell_type": "markdown",
      "metadata": {
        "id": "A4DEs-7FhCDt"
      },
      "source": [
        "## **H. Learning_rate y CV** "
      ]
    },
    {
      "cell_type": "markdown",
      "metadata": {
        "id": "5BEYIfH_hKgH"
      },
      "source": [
        "### **H.1. For two partitions, CV=2**"
      ]
    },
    {
      "cell_type": "code",
      "metadata": {
        "colab": {
          "base_uri": "https://localhost:8080/"
        },
        "id": "u5uPCdR4me_e",
        "outputId": "8aeb965d-f82d-41ea-9387-36165e10b4ed"
      },
      "source": [
        "# cv 2 \n",
        "start_time = timer(None)\n",
        "parameters = {\n",
        "    \"learning_rate\":[0.01,0.1,1, 1.5] \n",
        "}\n",
        "scoring = {'AUC': 'roc_auc', 'Accuracy': make_scorer(accuracy_score), 'F1':make_scorer(f1_score, average='micro')}\n",
        "gb = GradientBoostingClassifier(random_state=40, n_estimators=700,  max_depth=20, max_features=15, subsample=0.7, min_samples_leaf= 3, min_samples_split= 2)\n",
        "gsearch = GridSearchCV(estimator=gb,param_grid=parameters,scoring=scoring, cv=2, refit='AUC', return_train_score=True)\n",
        "gsearch.fit(X,Y)\n",
        "print('Mejores parámetros',gsearch.best_params_)\n",
        "print('Mejor score',gsearch.best_score_)\n",
        "print('Mejores evaluaciones',gsearch.scorer_)\n",
        "  \n",
        "\n",
        " # timing starts from this point for \"start_time\" variable\n",
        "timer(start_time)"
      ],
      "execution_count": null,
      "outputs": [
        {
          "name": "stdout",
          "output_type": "stream",
          "text": [
            "Mejores parámetros {'learning_rate': 0.01}\n",
            "Mejor score 0.8166499252893884\n",
            "Mejores evaluaciones {'AUC': make_scorer(roc_auc_score, needs_threshold=True), 'Accuracy': make_scorer(accuracy_score), 'F1': make_scorer(f1_score, average=micro)}\n",
            "\n",
            " Time taken: 0 hours 24 minutes and 51.01 seconds.\n"
          ]
        }
      ]
    },
    {
      "cell_type": "markdown",
      "metadata": {
        "id": "DPSgVucNhQ4J"
      },
      "source": [
        "### **H.2. For four partitions, CV=4** "
      ]
    },
    {
      "cell_type": "code",
      "metadata": {
        "colab": {
          "base_uri": "https://localhost:8080/"
        },
        "id": "pMa0uz1UyrDe",
        "outputId": "f3351a06-b99a-4cf1-ea45-53a1debb8171"
      },
      "source": [
        "# cv 2 \n",
        "start_time = timer(None)\n",
        "parameters = {\n",
        "    \"learning_rate\":[0.01,0.1,1, 1.5] \n",
        "}\n",
        "scoring = {'AUC': 'roc_auc', 'Accuracy': make_scorer(accuracy_score), 'F1':make_scorer(f1_score, average='micro')}\n",
        "gb = GradientBoostingClassifier(random_state=40, n_estimators=700,  max_depth=20, max_features=15, subsample=0.7, min_samples_leaf= 3, min_samples_split= 2)\n",
        "gsearch = GridSearchCV(estimator=gb,param_grid=parameters,scoring=scoring, cv=4, refit='AUC', return_train_score=True)\n",
        "gsearch.fit(X,Y)\n",
        "print('Mejores parámetros para 4 splits',gsearch.best_params_)\n",
        "print('Mejor score',gsearch.best_score_)\n",
        "print('Evaluadores',gsearch.scorer_)\n",
        "  \n",
        "\n",
        " # timing starts from this point for \"start_time\" variable\n",
        "timer(start_time)"
      ],
      "execution_count": null,
      "outputs": [
        {
          "name": "stdout",
          "output_type": "stream",
          "text": [
            "Mejores parámetros para 4 splits {'learning_rate': 0.1}\n",
            "Mejor score 0.8946534037683964\n",
            "Evaluadores {'AUC': make_scorer(roc_auc_score, needs_threshold=True), 'Accuracy': make_scorer(accuracy_score), 'F1': make_scorer(f1_score, average=micro)}\n",
            "\n",
            " Time taken: 0 hours 59 minutes and 50.85 seconds.\n"
          ]
        }
      ]
    },
    {
      "cell_type": "markdown",
      "metadata": {
        "id": "5ya_PKjVhWD3"
      },
      "source": [
        "### **H.3. For five partitions, CV=5**"
      ]
    },
    {
      "cell_type": "code",
      "metadata": {
        "colab": {
          "base_uri": "https://localhost:8080/"
        },
        "id": "lWIKjLMyA6TY",
        "outputId": "af00ca52-1ee4-42e1-a544-2c07cb844275"
      },
      "source": [
        "# cv 2 \n",
        "start_time = timer(None)\n",
        "parameters = {\n",
        "    \"learning_rate\":[0.01,0.1,1, 1.5] \n",
        "}\n",
        "scoring = {'AUC': 'roc_auc', 'Accuracy': make_scorer(accuracy_score), 'F1':make_scorer(f1_score, average='micro')}\n",
        "gb = GradientBoostingClassifier(random_state=40, n_estimators=700,  max_depth=20, max_features=15, subsample=0.7, min_samples_leaf= 3, min_samples_split= 2)\n",
        "gsearch = GridSearchCV(estimator=gb,param_grid=parameters,scoring=scoring, cv=5, refit='AUC', return_train_score=True)\n",
        "gsearch.fit(X,Y)\n",
        "print('Mejores parámetros para 5 splits',gsearch.best_params_)\n",
        "print('Mejor score',gsearch.best_score_)\n",
        "print('Evaluadores',gsearch.scorer_)\n",
        "  \n",
        "\n",
        " # timing starts from this point for \"start_time\" variable\n",
        "timer(start_time)"
      ],
      "execution_count": null,
      "outputs": [
        {
          "name": "stdout",
          "output_type": "stream",
          "text": [
            "Mejores parámetros para 5 splits {'learning_rate': 0.1}\n",
            "Mejor score 0.918132682483672\n",
            "Evaluadores {'AUC': make_scorer(roc_auc_score, needs_threshold=True), 'Accuracy': make_scorer(accuracy_score), 'F1': make_scorer(f1_score, average=micro)}\n",
            "\n",
            " Time taken: 1 hours 20 minutes and 13.4 seconds.\n"
          ]
        }
      ]
    },
    {
      "cell_type": "markdown",
      "metadata": {
        "id": "jlRIWXpahYDG"
      },
      "source": [
        "### **H.4. For eight partitions, CV=8**"
      ]
    },
    {
      "cell_type": "code",
      "metadata": {
        "colab": {
          "base_uri": "https://localhost:8080/"
        },
        "id": "62gtzDFU-xJM",
        "outputId": "bece5964-157e-471c-bc51-7024cbe73266"
      },
      "source": [
        "# cv 2 \n",
        "start_time = timer(None)\n",
        "parameters = {\n",
        "    \"learning_rate\":[0.01,0.1,1, 1.5] \n",
        "}\n",
        "scoring = {'AUC': 'roc_auc', 'Accuracy': make_scorer(accuracy_score), 'F1':make_scorer(f1_score, average='micro')}\n",
        "gb = GradientBoostingClassifier(random_state=40, n_estimators=700,  max_depth=20, max_features=15, subsample=0.7, min_samples_leaf= 3, min_samples_split= 2)\n",
        "gsearch = GridSearchCV(estimator=gb,param_grid=parameters,scoring=scoring, cv=8, refit='AUC', return_train_score=True)\n",
        "gsearch.fit(X,Y)\n",
        "print('Mejores parámetros para 8 splits',gsearch.best_params_)\n",
        "print('Mejor score',gsearch.best_score_)\n",
        "print('Evaluadores',gsearch.scorer_)\n",
        "  \n",
        "\n",
        " # timing starts from this point for \"start_time\" variable\n",
        "timer(start_time)"
      ],
      "execution_count": null,
      "outputs": [
        {
          "name": "stdout",
          "output_type": "stream",
          "text": [
            "Mejores parámetros para 8 splits {'learning_rate': 0.1}\n",
            "Mejor score 0.9642348620455258\n",
            "Evaluadores {'AUC': make_scorer(roc_auc_score, needs_threshold=True), 'Accuracy': make_scorer(accuracy_score), 'F1': make_scorer(f1_score, average=micro)}\n",
            "\n",
            " Time taken: 2 hours 25 minutes and 6.27 seconds.\n"
          ]
        }
      ]
    },
    {
      "cell_type": "markdown",
      "metadata": {
        "id": "VNWon7wshaz2"
      },
      "source": [
        "### **H.5. For ten partitions, CV=10**"
      ]
    },
    {
      "cell_type": "code",
      "metadata": {
        "colab": {
          "base_uri": "https://localhost:8080/"
        },
        "id": "8DfXzB7Vspfw",
        "outputId": "2bc141bc-259f-4ce4-b3a9-b4aaab56cbec"
      },
      "source": [
        "# cv 2 \n",
        "start_time = timer(None)\n",
        "parameters = {\n",
        "    \"learning_rate\":[0.01,0.1,1, 1.5] \n",
        "}\n",
        "scoring = {'AUC': 'roc_auc', 'Accuracy': make_scorer(accuracy_score), 'F1':make_scorer(f1_score, average='micro')}\n",
        "gb = GradientBoostingClassifier(random_state=40, n_estimators=700,  max_depth=20, max_features=15, subsample=0.7, min_samples_leaf= 3, min_samples_split= 2)\n",
        "gsearch = GridSearchCV(estimator=gb,param_grid=parameters,scoring=scoring, cv=10, refit='AUC', return_train_score=True)\n",
        "gsearch.fit(X,Y)\n",
        "print('Mejores parámetros para 10 splits',gsearch.best_params_)\n",
        "print('Mejor score',gsearch.best_score_)\n",
        "print('Evaluadores',gsearch.scorer_)\n",
        "  \n",
        "\n",
        " # timing starts from this point for \"start_time\" variable\n",
        "timer(start_time)"
      ],
      "execution_count": null,
      "outputs": [
        {
          "name": "stdout",
          "output_type": "stream",
          "text": [
            "Mejores parámetros para 10 splits {'learning_rate': 0.1}\n",
            "Mejor score 0.9673899262559132\n",
            "Evaluadores {'AUC': make_scorer(roc_auc_score, needs_threshold=True), 'Accuracy': make_scorer(accuracy_score), 'F1': make_scorer(f1_score, average=micro)}\n",
            "\n",
            " Time taken: 2 hours 56 minutes and 30.62 seconds.\n"
          ]
        }
      ]
    },
    {
      "cell_type": "markdown",
      "metadata": {
        "id": "_t0PnAb0heD1"
      },
      "source": [
        "### **H.6. For *fifteen* partitions, CV=15**"
      ]
    },
    {
      "cell_type": "code",
      "metadata": {
        "colab": {
          "base_uri": "https://localhost:8080/"
        },
        "id": "IBI-eSg2heIF",
        "outputId": "6fb86ed7-17c7-4f1f-da90-7fcec37da127"
      },
      "source": [
        "cv_s=[2,4,5,8,10,15]\n",
        "# cv 2 \n",
        "start_time = timer(None)\n",
        "parameters = {\n",
        "    \"learning_rate\":[0.01,0.1,1, 1.5] \n",
        "}\n",
        "scoring = {'AUC': 'roc_auc', 'Accuracy': make_scorer(accuracy_score), 'F1':make_scorer(f1_score, average='micro')}\n",
        "gb = GradientBoostingClassifier(random_state=40, n_estimators=700,  max_depth=20, max_features=15, subsample=0.7, min_samples_leaf= 3, min_samples_split= 2)\n",
        "gsearch = GridSearchCV(estimator=gb,param_grid=parameters,scoring=scoring, cv=15, refit='AUC', return_train_score=True)\n",
        "gsearch.fit(X,Y)\n",
        "print('Mejores parámetros para 15 splits',gsearch.best_params_)\n",
        "print('Mejor score',gsearch.best_score_)\n",
        "print('Evaluadores',gsearch.scorer_)\n",
        "  \n",
        "\n",
        " # timing starts from this point for \"start_time\" variable\n",
        "timer(start_time)"
      ],
      "execution_count": null,
      "outputs": [
        {
          "name": "stdout",
          "output_type": "stream",
          "text": [
            "Mejores parámetros para 15 splits {'learning_rate': 0.1}\n",
            "Mejor score 0.9819363531250688\n",
            "Evaluadores {'AUC': make_scorer(roc_auc_score, needs_threshold=True), 'Accuracy': make_scorer(accuracy_score), 'F1': make_scorer(f1_score, average=micro)}\n",
            "\n",
            " Time taken: 4 hours 35 minutes and 30.06 seconds.\n"
          ]
        }
      ]
    },
    {
      "cell_type": "markdown",
      "metadata": {
        "id": "NYh1SYgRhyf7"
      },
      "source": [
        "### **Analysis obtained from the GridSearch with respect to the number of partitions**"
      ]
    },
    {
      "cell_type": "markdown",
      "metadata": {
        "id": "MxnhjqQMwWaD"
      },
      "source": [
        "With the following figure it is possible to determine that the best number of partitions (according to the configured parameters) is the evaluation of the model with 15 partitions under cross-validation. Using this function it has been possible to obtain the accuracy/loss for each specified combination, observing also how increasing the number of partitions increases its performance and score affecting proportionally as well the execution time. \n"
      ]
    },
    {
      "cell_type": "code",
      "metadata": {
        "id": "vbgIcFGk__0L"
      },
      "source": [
        "cv_s=[2,4,5,8,10,15]\n",
        "cphour=[0.4141667,0.997458,1.337052222, 2.41667174167,2.9418355556,4.59168]\n",
        "cp_time=[np.round(k,3) for k in cphour]\n",
        "scores=[ 0.8166499252893884, 0.8946534037683964,0.918132682483672,0.9642348620455258,0.9673899262559132,0.9819363531250688]\n",
        "scoresgb=[np.round(k,3) for k in scores]"
      ],
      "execution_count": null,
      "outputs": []
    },
    {
      "cell_type": "code",
      "metadata": {
        "colab": {
          "base_uri": "https://localhost:8080/",
          "height": 640
        },
        "id": "9S890jAZOLn9",
        "outputId": "a77c99db-59de-41aa-ce05-6e1a4d525c12"
      },
      "source": [
        "plt.style.use('ggplot')\n",
        "\n",
        "fig, ax1 = plt.subplots(figsize=(10,8))\n",
        "my_colors = 'rgbkymc'\n",
        "#color = 'tab:blue'\n",
        "ax1.set_xlabel('# de Particiones CV')\n",
        "ax1.set_ylabel('Tiempo de ejecución [h]')\n",
        "ax1.bar(cv_s, cp_time, color=my_colors)\n",
        "ax1.tick_params(axis='y')\n",
        "\n",
        "ax2 = ax1.twinx()  # instantiate a second axes that shares the same x-axis\n",
        "\n",
        "color = 'tab:red'\n",
        "ax2.set_ylabel('Score - ROC_AUC')  # we already handled the x-label with ax1\n",
        "ax2.plot(cv_s, scoresgb, marker='o', color='black', label='ROC_AUC para cada CV')\n",
        "ax2.tick_params(axis='y')\n",
        "ax2.legend(loc='upper left')\n",
        "rects = ax1.patches\n",
        "\n",
        "# Make some labels.\n",
        "\n",
        "labels = ['0.01','0.1','0.1','0.1','0.1','0.1']\n",
        "\n",
        "for rect, label in zip(rects, labels):\n",
        "    height = rect.get_height()\n",
        "    ax1.text(\n",
        "        rect.get_x() + rect.get_width(), height , label, ha=\"center\", va=\"bottom\", fontweight='bold'\n",
        "    )\n",
        "\n",
        "#plt.show()\n",
        "\n",
        "\n",
        "fig.tight_layout()  # otherwise the right y-label is slightly clipped\n",
        "plt.grid(False)\n",
        "plt.savefig(\"gridgbm_ss01.jpg\", dpi=600)\n",
        "plt.show()"
      ],
      "execution_count": null,
      "outputs": [
        {
          "output_type": "stream",
          "name": "stderr",
          "text": [
            "/usr/local/lib/python3.7/dist-packages/ipykernel_launcher.py:8: MatplotlibDeprecationWarning: Using a string of single character colors as a color sequence is deprecated. Use an explicit list instead.\n",
            "  \n"
          ]
        },
        {
          "output_type": "display_data",
          "data": {
            "image/png": "[encoded data removed]",
            "text/plain": [
              "<Figure size 720x576 with 2 Axes>"
            ]
          },
          "metadata": {}
        }
      ]
    },
    {
      "cell_type": "markdown",
      "metadata": {
        "id": "VLikuHlytzss"
      },
      "source": [
        "It is thus clear that the best accuracy score is for a GradientBoosting model with 15 partitions in GridSearch.\n",
        "\n"
      ]
    },
    {
      "cell_type": "markdown",
      "metadata": {
        "id": "jwz3bshCo89T"
      },
      "source": [
        "## **I. GridSearch training**"
      ]
    },
    {
      "cell_type": "code",
      "metadata": {
        "id": "6J7w5BlRt6pA"
      },
      "source": [
        "X_train, X_test, y_train, y_test = train_test_split(X, Y, train_size=0.75, random_state=42, stratify=Y)"
      ],
      "execution_count": null,
      "outputs": []
    },
    {
      "cell_type": "code",
      "metadata": {
        "colab": {
          "base_uri": "https://localhost:8080/"
        },
        "id": "wQvAxivVmeLX",
        "outputId": "cc804993-cbd3-4e7a-ba41-f897d48f3113"
      },
      "source": [
        "start_time = timer(None)\n",
        "parameters = {\n",
        "    \"learning_rate\":[0.01,0.1,1, 1.5] \n",
        "}\n",
        "scoring = {'AUC': 'roc_auc', 'Accuracy': make_scorer(accuracy_score), 'F1':make_scorer(f1_score, average='micro')}\n",
        "gb = GradientBoostingClassifier(random_state=40, n_estimators=700,  max_depth=20, max_features=15, subsample=0.7, min_samples_leaf= 3, min_samples_split= 2)\n",
        "gsearch = GridSearchCV(estimator=gb,param_grid=parameters,scoring=scoring, cv=15, refit='AUC', return_train_score=True)\n",
        "gsearch.fit(X_train,y_train)\n",
        "print('Mejores parámetros para 10 splits',gsearch.best_params_)\n",
        "print('Mejor score',gsearch.best_score_)\n",
        "print('Evaluadores',gsearch.scorer_)\n",
        "  \n",
        "\n",
        " # timing starts from this point for \"start_time\" variable\n",
        "timer(start_time)"
      ],
      "execution_count": null,
      "outputs": [
        {
          "output_type": "stream",
          "name": "stdout",
          "text": [
            "Mejores parámetros para 10 splits {'learning_rate': 0.1}\n",
            "Mejor score 0.9924564904138685\n",
            "Evaluadores {'AUC': make_scorer(roc_auc_score, needs_threshold=True), 'Accuracy': make_scorer(accuracy_score), 'F1': make_scorer(f1_score, average=micro)}\n",
            "\n",
            " Time taken: 3 hours 23 minutes and 50.16 seconds.\n"
          ]
        },
        {
          "output_type": "execute_result",
          "data": {
            "text/plain": [
              "(3.0, 23.0, 50.159811999999874)"
            ]
          },
          "metadata": {},
          "execution_count": 23
        }
      ]
    },
    {
      "cell_type": "markdown",
      "metadata": {
        "id": "0TlVRzoX4Yky"
      },
      "source": [
        "The roc curve and the confusion matrix are observed to determine how many cases were indeed well predicted by the model. "
      ]
    },
    {
      "cell_type": "code",
      "metadata": {
        "colab": {
          "base_uri": "https://localhost:8080/"
        },
        "id": "nYS-eOtBo7_8",
        "outputId": "4886ec6c-9d35-4996-f9ec-8131eec910ae"
      },
      "source": [
        "# print best parameter after tuning \n",
        "print(gsearch.best_params_) \n",
        "grid_predictions = gsearch.predict(X_test) \n",
        "   \n",
        "# print classification report \n",
        "print(classification_report(y_test, grid_predictions)) "
      ],
      "execution_count": null,
      "outputs": [
        {
          "name": "stdout",
          "output_type": "stream",
          "text": [
            "{'learning_rate': 0.1}\n",
            "              precision    recall  f1-score   support\n",
            "\n",
            "           0       0.98      1.00      0.99     17760\n",
            "           1       0.99      0.83      0.91      1746\n",
            "\n",
            "    accuracy                           0.98     19506\n",
            "   macro avg       0.99      0.92      0.95     19506\n",
            "weighted avg       0.98      0.98      0.98     19506\n",
            "\n"
          ]
        }
      ]
    },
    {
      "cell_type": "code",
      "metadata": {
        "colab": {
          "base_uri": "https://localhost:8080/",
          "height": 562
        },
        "id": "F8vwbEx8_F8b",
        "outputId": "1faf6f58-a96e-4455-9e43-2ca93d4745b9"
      },
      "source": [
        "plt.style.use('seaborn-poster')\n",
        "y_pred_proba = gsearch.predict_proba(X_test)[::,1]\n",
        "fpr, tpr, _ = roc_curve(y_test,  y_pred_proba)\n",
        "auc = roc_auc_score(y_test, y_pred_proba)\n",
        "\n",
        "#create ROC curve\n",
        "plt.plot(fpr,tpr,label=\"AUC=\"+str(auc))\n",
        "plt.ylabel('Verdaderos positivos')\n",
        "plt.xlabel('Falsos positivos')\n",
        "plt.legend(loc=4)\n",
        "plt.show()"
      ],
      "execution_count": null,
      "outputs": [
        {
          "data": {
            "image/png": "[encoded data removed]",
            "text/plain": [
              "<Figure size 921.6x633.6 with 1 Axes>"
            ]
          },
          "metadata": {},
          "output_type": "display_data"
        }
      ]
    },
    {
      "cell_type": "code",
      "metadata": {
        "colab": {
          "base_uri": "https://localhost:8080/",
          "height": 562
        },
        "id": "E-JK37Kq_P3S",
        "outputId": "4b4154d8-e6d4-4e92-e730-230a3b37803b"
      },
      "source": [
        "plot_confusion_matrix(gsearch, X_test, y_test, display_labels=['No fraude',\n",
        "                                                          'Fraude'],\n",
        "                     normalize='true', cmap='Blues');"
      ],
      "execution_count": null,
      "outputs": [
        {
          "data": {
            "image/png": "[encoded data removed]",
            "text/plain": [
              "<Figure size 921.6x633.6 with 2 Axes>"
            ]
          },
          "metadata": {},
          "output_type": "display_data"
        }
      ]
    },
    {
      "cell_type": "markdown",
      "metadata": {
        "id": "PePf3_tXBBY6"
      },
      "source": [
        "The model is downloaded with the pickle module for later use."
      ]
    },
    {
      "cell_type": "code",
      "metadata": {
        "id": "-OR_KLaay2lv"
      },
      "source": [
        "# save model to file\n",
        "pickle.dump(gsearch, open(\"gridgbm_ss01.pickle.dat\", \"wb\"))"
      ],
      "execution_count": null,
      "outputs": []
    },
    {
      "cell_type": "markdown",
      "metadata": {
        "id": "j6iYBugVDVhG"
      },
      "source": [
        "# **5. GridSearch for XGBoost**"
      ]
    },
    {
      "cell_type": "markdown",
      "metadata": {
        "id": "OqFZb13_DVhG"
      },
      "source": [
        "## **A. nfolds y seed**"
      ]
    },
    {
      "cell_type": "code",
      "metadata": {
        "id": "KgXm_HWNDVhG"
      },
      "source": [
        "xgb1 = XGBClassifier(stopping_metric='log_loss',keep_cross_validation_predictions=True, objective='binary:logistic')\n",
        "parameters1 = {\n",
        "    \"nfolds\":[3,5,7,10],\n",
        "    'seed':[-1, 1, 3, 5]\n",
        "    #\"learning_rate\":[0.01,0.1,1, 1.5] \n",
        "}\n",
        "scoring1 = {'AUC': 'roc_auc', 'Accuracy': make_scorer(accuracy_score), 'F1':make_scorer(f1_score, average='micro')}"
      ],
      "execution_count": null,
      "outputs": []
    },
    {
      "cell_type": "code",
      "metadata": {
        "colab": {
          "base_uri": "https://localhost:8080/"
        },
        "id": "e1W8mtrpneSb",
        "outputId": "9432b2c5-be9c-400e-b4ee-ce80d41a67a8"
      },
      "source": [
        "start_time = timer(None) # timing starts from this point for \"start_time\" variable\n",
        "gsearch1 = GridSearchCV(estimator=xgb1,param_grid=parameters1,scoring=scoring1, cv=8, verbose=3, refit='AUC', return_train_score=True)\n",
        "gsearch1.fit(X,Y)\n",
        "timer(start_time) # timing ends here for \"start_time\" variable"
      ],
      "execution_count": null,
      "outputs": [
        {
          "name": "stdout",
          "output_type": "stream",
          "text": [
            "Fitting 8 folds for each of 16 candidates, totalling 128 fits\n",
            "[CV] nfolds=3, seed=-1 ...............................................\n"
          ]
        },
        {
          "name": "stderr",
          "output_type": "stream",
          "text": [
            "[Parallel(n_jobs=1)]: Using backend SequentialBackend with 1 concurrent workers.\n"
          ]
        },
        {
          "name": "stdout",
          "output_type": "stream",
          "text": [
            "[CV]  nfolds=3, seed=-1, AUC=(train=0.976, test=0.483), Accuracy=(train=0.972, test=0.811), F1=(train=0.972, test=0.811), total= 1.1min\n",
            "[CV] nfolds=3, seed=-1 ...............................................\n"
          ]
        },
        {
          "name": "stderr",
          "output_type": "stream",
          "text": [
            "[Parallel(n_jobs=1)]: Done   1 out of   1 | elapsed:  1.1min remaining:    0.0s\n"
          ]
        },
        {
          "name": "stdout",
          "output_type": "stream",
          "text": [
            "[CV]  nfolds=3, seed=-1, AUC=(train=0.981, test=0.457), Accuracy=(train=0.974, test=0.866), F1=(train=0.974, test=0.866), total= 1.0min\n",
            "[CV] nfolds=3, seed=-1 ...............................................\n"
          ]
        },
        {
          "name": "stderr",
          "output_type": "stream",
          "text": [
            "[Parallel(n_jobs=1)]: Done   2 out of   2 | elapsed:  2.2min remaining:    0.0s\n"
          ]
        },
        {
          "name": "stdout",
          "output_type": "stream",
          "text": [
            "[CV]  nfolds=3, seed=-1, AUC=(train=0.967, test=0.855), Accuracy=(train=0.968, test=0.950), F1=(train=0.968, test=0.950), total= 1.0min\n",
            "[CV] nfolds=3, seed=-1 ...............................................\n",
            "[CV]  nfolds=3, seed=-1, AUC=(train=0.966, test=0.885), Accuracy=(train=0.968, test=0.893), F1=(train=0.968, test=0.893), total= 1.0min\n",
            "[CV] nfolds=3, seed=-1 ...............................................\n",
            "[CV]  nfolds=3, seed=-1, AUC=(train=0.964, test=0.932), Accuracy=(train=0.967, test=0.941), F1=(train=0.967, test=0.941), total= 1.0min\n",
            "[CV] nfolds=3, seed=-1 ...............................................\n",
            "[CV]  nfolds=3, seed=-1, AUC=(train=0.962, test=0.968), Accuracy=(train=0.967, test=0.965), F1=(train=0.967, test=0.965), total= 1.0min\n",
            "[CV] nfolds=3, seed=-1 ...............................................\n",
            "[CV]  nfolds=3, seed=-1, AUC=(train=0.963, test=0.937), Accuracy=(train=0.966, test=0.966), F1=(train=0.966, test=0.966), total= 1.1min\n",
            "[CV] nfolds=3, seed=-1 ...............................................\n",
            "[CV]  nfolds=3, seed=-1, AUC=(train=0.963, test=0.579), Accuracy=(train=0.966, test=0.092), F1=(train=0.966, test=0.092), total= 1.1min\n",
            "[CV] nfolds=3, seed=1 ................................................\n",
            "[CV]  nfolds=3, seed=1, AUC=(train=0.976, test=0.483), Accuracy=(train=0.972, test=0.811), F1=(train=0.972, test=0.811), total= 1.0min\n",
            "[CV] nfolds=3, seed=1 ................................................\n",
            "[CV]  nfolds=3, seed=1, AUC=(train=0.981, test=0.457), Accuracy=(train=0.974, test=0.866), F1=(train=0.974, test=0.866), total= 1.1min\n",
            "[CV] nfolds=3, seed=1 ................................................\n",
            "[CV]  nfolds=3, seed=1, AUC=(train=0.967, test=0.855), Accuracy=(train=0.968, test=0.950), F1=(train=0.968, test=0.950), total= 1.0min\n",
            "[CV] nfolds=3, seed=1 ................................................\n",
            "[CV]  nfolds=3, seed=1, AUC=(train=0.966, test=0.885), Accuracy=(train=0.968, test=0.893), F1=(train=0.968, test=0.893), total= 1.0min\n",
            "[CV] nfolds=3, seed=1 ................................................\n",
            "[CV]  nfolds=3, seed=1, AUC=(train=0.964, test=0.932), Accuracy=(train=0.967, test=0.941), F1=(train=0.967, test=0.941), total= 1.0min\n",
            "[CV] nfolds=3, seed=1 ................................................\n",
            "[CV]  nfolds=3, seed=1, AUC=(train=0.962, test=0.968), Accuracy=(train=0.967, test=0.965), F1=(train=0.967, test=0.965), total= 1.0min\n",
            "[CV] nfolds=3, seed=1 ................................................\n",
            "[CV]  nfolds=3, seed=1, AUC=(train=0.963, test=0.937), Accuracy=(train=0.966, test=0.966), F1=(train=0.966, test=0.966), total= 1.1min\n",
            "[CV] nfolds=3, seed=1 ................................................\n",
            "[CV]  nfolds=3, seed=1, AUC=(train=0.963, test=0.579), Accuracy=(train=0.966, test=0.092), F1=(train=0.966, test=0.092), total= 1.0min\n",
            "[CV] nfolds=3, seed=3 ................................................\n",
            "[CV]  nfolds=3, seed=3, AUC=(train=0.976, test=0.483), Accuracy=(train=0.972, test=0.811), F1=(train=0.972, test=0.811), total= 1.0min\n",
            "[CV] nfolds=3, seed=3 ................................................\n",
            "[CV]  nfolds=3, seed=3, AUC=(train=0.981, test=0.457), Accuracy=(train=0.974, test=0.866), F1=(train=0.974, test=0.866), total= 1.0min\n",
            "[CV] nfolds=3, seed=3 ................................................\n",
            "[CV]  nfolds=3, seed=3, AUC=(train=0.967, test=0.855), Accuracy=(train=0.968, test=0.950), F1=(train=0.968, test=0.950), total= 1.1min\n",
            "[CV] nfolds=3, seed=3 ................................................\n",
            "[CV]  nfolds=3, seed=3, AUC=(train=0.966, test=0.885), Accuracy=(train=0.968, test=0.893), F1=(train=0.968, test=0.893), total= 1.0min\n",
            "[CV] nfolds=3, seed=3 ................................................\n",
            "[CV]  nfolds=3, seed=3, AUC=(train=0.964, test=0.932), Accuracy=(train=0.967, test=0.941), F1=(train=0.967, test=0.941), total= 1.0min\n",
            "[CV] nfolds=3, seed=3 ................................................\n",
            "[CV]  nfolds=3, seed=3, AUC=(train=0.962, test=0.968), Accuracy=(train=0.967, test=0.965), F1=(train=0.967, test=0.965), total= 1.0min\n",
            "[CV] nfolds=3, seed=3 ................................................\n",
            "[CV]  nfolds=3, seed=3, AUC=(train=0.963, test=0.937), Accuracy=(train=0.966, test=0.966), F1=(train=0.966, test=0.966), total= 1.0min\n",
            "[CV] nfolds=3, seed=3 ................................................\n",
            "[CV]  nfolds=3, seed=3, AUC=(train=0.963, test=0.579), Accuracy=(train=0.966, test=0.092), F1=(train=0.966, test=0.092), total= 1.0min\n",
            "[CV] nfolds=3, seed=5 ................................................\n",
            "[CV]  nfolds=3, seed=5, AUC=(train=0.976, test=0.483), Accuracy=(train=0.972, test=0.811), F1=(train=0.972, test=0.811), total= 1.0min\n",
            "[CV] nfolds=3, seed=5 ................................................\n",
            "[CV]  nfolds=3, seed=5, AUC=(train=0.981, test=0.457), Accuracy=(train=0.974, test=0.866), F1=(train=0.974, test=0.866), total= 1.1min\n",
            "[CV] nfolds=3, seed=5 ................................................\n",
            "[CV]  nfolds=3, seed=5, AUC=(train=0.967, test=0.855), Accuracy=(train=0.968, test=0.950), F1=(train=0.968, test=0.950), total= 1.0min\n",
            "[CV] nfolds=3, seed=5 ................................................\n",
            "[CV]  nfolds=3, seed=5, AUC=(train=0.966, test=0.885), Accuracy=(train=0.968, test=0.893), F1=(train=0.968, test=0.893), total= 1.0min\n",
            "[CV] nfolds=3, seed=5 ................................................\n",
            "[CV]  nfolds=3, seed=5, AUC=(train=0.964, test=0.932), Accuracy=(train=0.967, test=0.941), F1=(train=0.967, test=0.941), total= 1.0min\n",
            "[CV] nfolds=3, seed=5 ................................................\n",
            "[CV]  nfolds=3, seed=5, AUC=(train=0.962, test=0.968), Accuracy=(train=0.967, test=0.965), F1=(train=0.967, test=0.965), total= 1.0min\n",
            "[CV] nfolds=3, seed=5 ................................................\n",
            "[CV]  nfolds=3, seed=5, AUC=(train=0.963, test=0.937), Accuracy=(train=0.966, test=0.966), F1=(train=0.966, test=0.966), total= 1.0min\n",
            "[CV] nfolds=3, seed=5 ................................................\n",
            "[CV]  nfolds=3, seed=5, AUC=(train=0.963, test=0.579), Accuracy=(train=0.966, test=0.092), F1=(train=0.966, test=0.092), total= 1.0min\n",
            "[CV] nfolds=5, seed=-1 ...............................................\n",
            "[CV]  nfolds=5, seed=-1, AUC=(train=0.976, test=0.483), Accuracy=(train=0.972, test=0.811), F1=(train=0.972, test=0.811), total= 1.0min\n",
            "[CV] nfolds=5, seed=-1 ...............................................\n",
            "[CV]  nfolds=5, seed=-1, AUC=(train=0.981, test=0.457), Accuracy=(train=0.974, test=0.866), F1=(train=0.974, test=0.866), total= 1.0min\n",
            "[CV] nfolds=5, seed=-1 ...............................................\n",
            "[CV]  nfolds=5, seed=-1, AUC=(train=0.967, test=0.855), Accuracy=(train=0.968, test=0.950), F1=(train=0.968, test=0.950), total= 1.0min\n",
            "[CV] nfolds=5, seed=-1 ...............................................\n",
            "[CV]  nfolds=5, seed=-1, AUC=(train=0.966, test=0.885), Accuracy=(train=0.968, test=0.893), F1=(train=0.968, test=0.893), total= 1.0min\n",
            "[CV] nfolds=5, seed=-1 ...............................................\n",
            "[CV]  nfolds=5, seed=-1, AUC=(train=0.964, test=0.932), Accuracy=(train=0.967, test=0.941), F1=(train=0.967, test=0.941), total= 1.0min\n",
            "[CV] nfolds=5, seed=-1 ...............................................\n",
            "[CV]  nfolds=5, seed=-1, AUC=(train=0.962, test=0.968), Accuracy=(train=0.967, test=0.965), F1=(train=0.967, test=0.965), total= 1.0min\n",
            "[CV] nfolds=5, seed=-1 ...............................................\n",
            "[CV]  nfolds=5, seed=-1, AUC=(train=0.963, test=0.937), Accuracy=(train=0.966, test=0.966), F1=(train=0.966, test=0.966), total= 1.0min\n",
            "[CV] nfolds=5, seed=-1 ...............................................\n",
            "[CV]  nfolds=5, seed=-1, AUC=(train=0.963, test=0.579), Accuracy=(train=0.966, test=0.092), F1=(train=0.966, test=0.092), total= 1.0min\n",
            "[CV] nfolds=5, seed=1 ................................................\n",
            "[CV]  nfolds=5, seed=1, AUC=(train=0.976, test=0.483), Accuracy=(train=0.972, test=0.811), F1=(train=0.972, test=0.811), total= 1.0min\n",
            "[CV] nfolds=5, seed=1 ................................................\n",
            "[CV]  nfolds=5, seed=1, AUC=(train=0.981, test=0.457), Accuracy=(train=0.974, test=0.866), F1=(train=0.974, test=0.866), total= 1.0min\n",
            "[CV] nfolds=5, seed=1 ................................................\n",
            "[CV]  nfolds=5, seed=1, AUC=(train=0.967, test=0.855), Accuracy=(train=0.968, test=0.950), F1=(train=0.968, test=0.950), total= 1.0min\n",
            "[CV] nfolds=5, seed=1 ................................................\n",
            "[CV]  nfolds=5, seed=1, AUC=(train=0.966, test=0.885), Accuracy=(train=0.968, test=0.893), F1=(train=0.968, test=0.893), total= 1.0min\n",
            "[CV] nfolds=5, seed=1 ................................................\n",
            "[CV]  nfolds=5, seed=1, AUC=(train=0.964, test=0.932), Accuracy=(train=0.967, test=0.941), F1=(train=0.967, test=0.941), total= 1.0min\n",
            "[CV] nfolds=5, seed=1 ................................................\n",
            "[CV]  nfolds=5, seed=1, AUC=(train=0.962, test=0.968), Accuracy=(train=0.967, test=0.965), F1=(train=0.967, test=0.965), total= 1.0min\n",
            "[CV] nfolds=5, seed=1 ................................................\n",
            "[CV]  nfolds=5, seed=1, AUC=(train=0.963, test=0.937), Accuracy=(train=0.966, test=0.966), F1=(train=0.966, test=0.966), total= 1.0min\n",
            "[CV] nfolds=5, seed=1 ................................................\n",
            "[CV]  nfolds=5, seed=1, AUC=(train=0.963, test=0.579), Accuracy=(train=0.966, test=0.092), F1=(train=0.966, test=0.092), total= 1.0min\n",
            "[CV] nfolds=5, seed=3 ................................................\n",
            "[CV]  nfolds=5, seed=3, AUC=(train=0.976, test=0.483), Accuracy=(train=0.972, test=0.811), F1=(train=0.972, test=0.811), total= 1.0min\n",
            "[CV] nfolds=5, seed=3 ................................................\n",
            "[CV]  nfolds=5, seed=3, AUC=(train=0.981, test=0.457), Accuracy=(train=0.974, test=0.866), F1=(train=0.974, test=0.866), total= 1.0min\n",
            "[CV] nfolds=5, seed=3 ................................................\n",
            "[CV]  nfolds=5, seed=3, AUC=(train=0.967, test=0.855), Accuracy=(train=0.968, test=0.950), F1=(train=0.968, test=0.950), total= 1.0min\n",
            "[CV] nfolds=5, seed=3 ................................................\n",
            "[CV]  nfolds=5, seed=3, AUC=(train=0.966, test=0.885), Accuracy=(train=0.968, test=0.893), F1=(train=0.968, test=0.893), total= 1.1min\n",
            "[CV] nfolds=5, seed=3 ................................................\n",
            "[CV]  nfolds=5, seed=3, AUC=(train=0.964, test=0.932), Accuracy=(train=0.967, test=0.941), F1=(train=0.967, test=0.941), total= 1.0min\n",
            "[CV] nfolds=5, seed=3 ................................................\n",
            "[CV]  nfolds=5, seed=3, AUC=(train=0.962, test=0.968), Accuracy=(train=0.967, test=0.965), F1=(train=0.967, test=0.965), total= 1.0min\n",
            "[CV] nfolds=5, seed=3 ................................................\n",
            "[CV]  nfolds=5, seed=3, AUC=(train=0.963, test=0.937), Accuracy=(train=0.966, test=0.966), F1=(train=0.966, test=0.966), total= 1.1min\n",
            "[CV] nfolds=5, seed=3 ................................................\n",
            "[CV]  nfolds=5, seed=3, AUC=(train=0.963, test=0.579), Accuracy=(train=0.966, test=0.092), F1=(train=0.966, test=0.092), total= 1.1min\n",
            "[CV] nfolds=5, seed=5 ................................................\n",
            "[CV]  nfolds=5, seed=5, AUC=(train=0.976, test=0.483), Accuracy=(train=0.972, test=0.811), F1=(train=0.972, test=0.811), total= 1.1min\n",
            "[CV] nfolds=5, seed=5 ................................................\n",
            "[CV]  nfolds=5, seed=5, AUC=(train=0.981, test=0.457), Accuracy=(train=0.974, test=0.866), F1=(train=0.974, test=0.866), total= 1.1min\n",
            "[CV] nfolds=5, seed=5 ................................................\n",
            "[CV]  nfolds=5, seed=5, AUC=(train=0.967, test=0.855), Accuracy=(train=0.968, test=0.950), F1=(train=0.968, test=0.950), total= 1.1min\n",
            "[CV] nfolds=5, seed=5 ................................................\n",
            "[CV]  nfolds=5, seed=5, AUC=(train=0.966, test=0.885), Accuracy=(train=0.968, test=0.893), F1=(train=0.968, test=0.893), total= 1.1min\n",
            "[CV] nfolds=5, seed=5 ................................................\n",
            "[CV]  nfolds=5, seed=5, AUC=(train=0.964, test=0.932), Accuracy=(train=0.967, test=0.941), F1=(train=0.967, test=0.941), total= 1.1min\n",
            "[CV] nfolds=5, seed=5 ................................................\n",
            "[CV]  nfolds=5, seed=5, AUC=(train=0.962, test=0.968), Accuracy=(train=0.967, test=0.965), F1=(train=0.967, test=0.965), total= 1.2min\n",
            "[CV] nfolds=5, seed=5 ................................................\n",
            "[CV]  nfolds=5, seed=5, AUC=(train=0.963, test=0.937), Accuracy=(train=0.966, test=0.966), F1=(train=0.966, test=0.966), total= 1.2min\n",
            "[CV] nfolds=5, seed=5 ................................................\n",
            "[CV]  nfolds=5, seed=5, AUC=(train=0.963, test=0.579), Accuracy=(train=0.966, test=0.092), F1=(train=0.966, test=0.092), total= 1.2min\n",
            "[CV] nfolds=7, seed=-1 ...............................................\n",
            "[CV]  nfolds=7, seed=-1, AUC=(train=0.976, test=0.483), Accuracy=(train=0.972, test=0.811), F1=(train=0.972, test=0.811), total= 1.4min\n",
            "[CV] nfolds=7, seed=-1 ...............................................\n",
            "[CV]  nfolds=7, seed=-1, AUC=(train=0.981, test=0.457), Accuracy=(train=0.974, test=0.866), F1=(train=0.974, test=0.866), total= 1.2min\n",
            "[CV] nfolds=7, seed=-1 ...............................................\n",
            "[CV]  nfolds=7, seed=-1, AUC=(train=0.967, test=0.855), Accuracy=(train=0.968, test=0.950), F1=(train=0.968, test=0.950), total= 1.1min\n",
            "[CV] nfolds=7, seed=-1 ...............................................\n",
            "[CV]  nfolds=7, seed=-1, AUC=(train=0.966, test=0.885), Accuracy=(train=0.968, test=0.893), F1=(train=0.968, test=0.893), total= 1.1min\n",
            "[CV] nfolds=7, seed=-1 ...............................................\n",
            "[CV]  nfolds=7, seed=-1, AUC=(train=0.964, test=0.932), Accuracy=(train=0.967, test=0.941), F1=(train=0.967, test=0.941), total= 1.1min\n",
            "[CV] nfolds=7, seed=-1 ...............................................\n",
            "[CV]  nfolds=7, seed=-1, AUC=(train=0.962, test=0.968), Accuracy=(train=0.967, test=0.965), F1=(train=0.967, test=0.965), total= 1.1min\n",
            "[CV] nfolds=7, seed=-1 ...............................................\n",
            "[CV]  nfolds=7, seed=-1, AUC=(train=0.963, test=0.937), Accuracy=(train=0.966, test=0.966), F1=(train=0.966, test=0.966), total= 1.1min\n",
            "[CV] nfolds=7, seed=-1 ...............................................\n",
            "[CV]  nfolds=7, seed=-1, AUC=(train=0.963, test=0.579), Accuracy=(train=0.966, test=0.092), F1=(train=0.966, test=0.092), total= 1.1min\n",
            "[CV] nfolds=7, seed=1 ................................................\n",
            "[CV]  nfolds=7, seed=1, AUC=(train=0.976, test=0.483), Accuracy=(train=0.972, test=0.811), F1=(train=0.972, test=0.811), total= 1.1min\n",
            "[CV] nfolds=7, seed=1 ................................................\n",
            "[CV]  nfolds=7, seed=1, AUC=(train=0.981, test=0.457), Accuracy=(train=0.974, test=0.866), F1=(train=0.974, test=0.866), total= 1.2min\n",
            "[CV] nfolds=7, seed=1 ................................................\n",
            "[CV]  nfolds=7, seed=1, AUC=(train=0.967, test=0.855), Accuracy=(train=0.968, test=0.950), F1=(train=0.968, test=0.950), total= 1.1min\n",
            "[CV] nfolds=7, seed=1 ................................................\n",
            "[CV]  nfolds=7, seed=1, AUC=(train=0.966, test=0.885), Accuracy=(train=0.968, test=0.893), F1=(train=0.968, test=0.893), total= 1.1min\n",
            "[CV] nfolds=7, seed=1 ................................................\n",
            "[CV]  nfolds=7, seed=1, AUC=(train=0.964, test=0.932), Accuracy=(train=0.967, test=0.941), F1=(train=0.967, test=0.941), total= 1.1min\n",
            "[CV] nfolds=7, seed=1 ................................................\n",
            "[CV]  nfolds=7, seed=1, AUC=(train=0.962, test=0.968), Accuracy=(train=0.967, test=0.965), F1=(train=0.967, test=0.965), total= 1.1min\n",
            "[CV] nfolds=7, seed=1 ................................................\n",
            "[CV]  nfolds=7, seed=1, AUC=(train=0.963, test=0.937), Accuracy=(train=0.966, test=0.966), F1=(train=0.966, test=0.966), total= 1.1min\n",
            "[CV] nfolds=7, seed=1 ................................................\n",
            "[CV]  nfolds=7, seed=1, AUC=(train=0.963, test=0.579), Accuracy=(train=0.966, test=0.092), F1=(train=0.966, test=0.092), total= 1.0min\n",
            "[CV] nfolds=7, seed=3 ................................................\n",
            "[CV]  nfolds=7, seed=3, AUC=(train=0.976, test=0.483), Accuracy=(train=0.972, test=0.811), F1=(train=0.972, test=0.811), total= 1.1min\n",
            "[CV] nfolds=7, seed=3 ................................................\n",
            "[CV]  nfolds=7, seed=3, AUC=(train=0.981, test=0.457), Accuracy=(train=0.974, test=0.866), F1=(train=0.974, test=0.866), total= 1.1min\n",
            "[CV] nfolds=7, seed=3 ................................................\n",
            "[CV]  nfolds=7, seed=3, AUC=(train=0.967, test=0.855), Accuracy=(train=0.968, test=0.950), F1=(train=0.968, test=0.950), total= 1.1min\n",
            "[CV] nfolds=7, seed=3 ................................................\n",
            "[CV]  nfolds=7, seed=3, AUC=(train=0.966, test=0.885), Accuracy=(train=0.968, test=0.893), F1=(train=0.968, test=0.893), total= 1.0min\n",
            "[CV] nfolds=7, seed=3 ................................................\n",
            "[CV]  nfolds=7, seed=3, AUC=(train=0.964, test=0.932), Accuracy=(train=0.967, test=0.941), F1=(train=0.967, test=0.941), total= 1.1min\n",
            "[CV] nfolds=7, seed=3 ................................................\n",
            "[CV]  nfolds=7, seed=3, AUC=(train=0.962, test=0.968), Accuracy=(train=0.967, test=0.965), F1=(train=0.967, test=0.965), total= 1.1min\n",
            "[CV] nfolds=7, seed=3 ................................................\n",
            "[CV]  nfolds=7, seed=3, AUC=(train=0.963, test=0.937), Accuracy=(train=0.966, test=0.966), F1=(train=0.966, test=0.966), total= 1.2min\n",
            "[CV] nfolds=7, seed=3 ................................................\n",
            "[CV]  nfolds=7, seed=3, AUC=(train=0.963, test=0.579), Accuracy=(train=0.966, test=0.092), F1=(train=0.966, test=0.092), total= 1.1min\n",
            "[CV] nfolds=7, seed=5 ................................................\n",
            "[CV]  nfolds=7, seed=5, AUC=(train=0.976, test=0.483), Accuracy=(train=0.972, test=0.811), F1=(train=0.972, test=0.811), total= 1.1min\n",
            "[CV] nfolds=7, seed=5 ................................................\n",
            "[CV]  nfolds=7, seed=5, AUC=(train=0.981, test=0.457), Accuracy=(train=0.974, test=0.866), F1=(train=0.974, test=0.866), total= 1.0min\n",
            "[CV] nfolds=7, seed=5 ................................................\n",
            "[CV]  nfolds=7, seed=5, AUC=(train=0.967, test=0.855), Accuracy=(train=0.968, test=0.950), F1=(train=0.968, test=0.950), total= 1.1min\n",
            "[CV] nfolds=7, seed=5 ................................................\n",
            "[CV]  nfolds=7, seed=5, AUC=(train=0.966, test=0.885), Accuracy=(train=0.968, test=0.893), F1=(train=0.968, test=0.893), total= 1.0min\n",
            "[CV] nfolds=7, seed=5 ................................................\n",
            "[CV]  nfolds=7, seed=5, AUC=(train=0.964, test=0.932), Accuracy=(train=0.967, test=0.941), F1=(train=0.967, test=0.941), total= 1.0min\n",
            "[CV] nfolds=7, seed=5 ................................................\n",
            "[CV]  nfolds=7, seed=5, AUC=(train=0.962, test=0.968), Accuracy=(train=0.967, test=0.965), F1=(train=0.967, test=0.965), total= 1.0min\n",
            "[CV] nfolds=7, seed=5 ................................................\n",
            "[CV]  nfolds=7, seed=5, AUC=(train=0.963, test=0.937), Accuracy=(train=0.966, test=0.966), F1=(train=0.966, test=0.966), total= 1.0min\n",
            "[CV] nfolds=7, seed=5 ................................................\n",
            "[CV]  nfolds=7, seed=5, AUC=(train=0.963, test=0.579), Accuracy=(train=0.966, test=0.092), F1=(train=0.966, test=0.092), total= 1.0min\n",
            "[CV] nfolds=10, seed=-1 ..............................................\n",
            "[CV]  nfolds=10, seed=-1, AUC=(train=0.976, test=0.483), Accuracy=(train=0.972, test=0.811), F1=(train=0.972, test=0.811), total= 1.1min\n",
            "[CV] nfolds=10, seed=-1 ..............................................\n",
            "[CV]  nfolds=10, seed=-1, AUC=(train=0.981, test=0.457), Accuracy=(train=0.974, test=0.866), F1=(train=0.974, test=0.866), total= 1.1min\n",
            "[CV] nfolds=10, seed=-1 ..............................................\n",
            "[CV]  nfolds=10, seed=-1, AUC=(train=0.967, test=0.855), Accuracy=(train=0.968, test=0.950), F1=(train=0.968, test=0.950), total= 1.1min\n",
            "[CV] nfolds=10, seed=-1 ..............................................\n",
            "[CV]  nfolds=10, seed=-1, AUC=(train=0.966, test=0.885), Accuracy=(train=0.968, test=0.893), F1=(train=0.968, test=0.893), total= 1.0min\n",
            "[CV] nfolds=10, seed=-1 ..............................................\n",
            "[CV]  nfolds=10, seed=-1, AUC=(train=0.964, test=0.932), Accuracy=(train=0.967, test=0.941), F1=(train=0.967, test=0.941), total= 1.1min\n",
            "[CV] nfolds=10, seed=-1 ..............................................\n",
            "[CV]  nfolds=10, seed=-1, AUC=(train=0.962, test=0.968), Accuracy=(train=0.967, test=0.965), F1=(train=0.967, test=0.965), total= 1.1min\n",
            "[CV] nfolds=10, seed=-1 ..............................................\n",
            "[CV]  nfolds=10, seed=-1, AUC=(train=0.963, test=0.937), Accuracy=(train=0.966, test=0.966), F1=(train=0.966, test=0.966), total= 1.0min\n",
            "[CV] nfolds=10, seed=-1 ..............................................\n",
            "[CV]  nfolds=10, seed=-1, AUC=(train=0.963, test=0.579), Accuracy=(train=0.966, test=0.092), F1=(train=0.966, test=0.092), total= 1.1min\n",
            "[CV] nfolds=10, seed=1 ...............................................\n",
            "[CV]  nfolds=10, seed=1, AUC=(train=0.976, test=0.483), Accuracy=(train=0.972, test=0.811), F1=(train=0.972, test=0.811), total= 1.1min\n",
            "[CV] nfolds=10, seed=1 ...............................................\n",
            "[CV]  nfolds=10, seed=1, AUC=(train=0.981, test=0.457), Accuracy=(train=0.974, test=0.866), F1=(train=0.974, test=0.866), total= 1.1min\n",
            "[CV] nfolds=10, seed=1 ...............................................\n",
            "[CV]  nfolds=10, seed=1, AUC=(train=0.967, test=0.855), Accuracy=(train=0.968, test=0.950), F1=(train=0.968, test=0.950), total= 1.1min\n",
            "[CV] nfolds=10, seed=1 ...............................................\n",
            "[CV]  nfolds=10, seed=1, AUC=(train=0.966, test=0.885), Accuracy=(train=0.968, test=0.893), F1=(train=0.968, test=0.893), total= 1.1min\n",
            "[CV] nfolds=10, seed=1 ...............................................\n",
            "[CV]  nfolds=10, seed=1, AUC=(train=0.964, test=0.932), Accuracy=(train=0.967, test=0.941), F1=(train=0.967, test=0.941), total= 1.0min\n",
            "[CV] nfolds=10, seed=1 ...............................................\n",
            "[CV]  nfolds=10, seed=1, AUC=(train=0.962, test=0.968), Accuracy=(train=0.967, test=0.965), F1=(train=0.967, test=0.965), total= 1.0min\n",
            "[CV] nfolds=10, seed=1 ...............................................\n",
            "[CV]  nfolds=10, seed=1, AUC=(train=0.963, test=0.937), Accuracy=(train=0.966, test=0.966), F1=(train=0.966, test=0.966), total= 1.0min\n",
            "[CV] nfolds=10, seed=1 ...............................................\n",
            "[CV]  nfolds=10, seed=1, AUC=(train=0.963, test=0.579), Accuracy=(train=0.966, test=0.092), F1=(train=0.966, test=0.092), total= 1.0min\n",
            "[CV] nfolds=10, seed=3 ...............................................\n",
            "[CV]  nfolds=10, seed=3, AUC=(train=0.976, test=0.483), Accuracy=(train=0.972, test=0.811), F1=(train=0.972, test=0.811), total= 1.1min\n",
            "[CV] nfolds=10, seed=3 ...............................................\n",
            "[CV]  nfolds=10, seed=3, AUC=(train=0.981, test=0.457), Accuracy=(train=0.974, test=0.866), F1=(train=0.974, test=0.866), total= 1.1min\n",
            "[CV] nfolds=10, seed=3 ...............................................\n",
            "[CV]  nfolds=10, seed=3, AUC=(train=0.967, test=0.855), Accuracy=(train=0.968, test=0.950), F1=(train=0.968, test=0.950), total= 1.0min\n",
            "[CV] nfolds=10, seed=3 ...............................................\n",
            "[CV]  nfolds=10, seed=3, AUC=(train=0.966, test=0.885), Accuracy=(train=0.968, test=0.893), F1=(train=0.968, test=0.893), total= 1.0min\n",
            "[CV] nfolds=10, seed=3 ...............................................\n",
            "[CV]  nfolds=10, seed=3, AUC=(train=0.964, test=0.932), Accuracy=(train=0.967, test=0.941), F1=(train=0.967, test=0.941), total= 1.0min\n",
            "[CV] nfolds=10, seed=3 ...............................................\n",
            "[CV]  nfolds=10, seed=3, AUC=(train=0.962, test=0.968), Accuracy=(train=0.967, test=0.965), F1=(train=0.967, test=0.965), total= 1.0min\n",
            "[CV] nfolds=10, seed=3 ...............................................\n",
            "[CV]  nfolds=10, seed=3, AUC=(train=0.963, test=0.937), Accuracy=(train=0.966, test=0.966), F1=(train=0.966, test=0.966), total= 1.0min\n",
            "[CV] nfolds=10, seed=3 ...............................................\n",
            "[CV]  nfolds=10, seed=3, AUC=(train=0.963, test=0.579), Accuracy=(train=0.966, test=0.092), F1=(train=0.966, test=0.092), total= 1.0min\n",
            "[CV] nfolds=10, seed=5 ...............................................\n",
            "[CV]  nfolds=10, seed=5, AUC=(train=0.976, test=0.483), Accuracy=(train=0.972, test=0.811), F1=(train=0.972, test=0.811), total= 1.1min\n",
            "[CV] nfolds=10, seed=5 ...............................................\n",
            "[CV]  nfolds=10, seed=5, AUC=(train=0.981, test=0.457), Accuracy=(train=0.974, test=0.866), F1=(train=0.974, test=0.866), total= 1.1min\n",
            "[CV] nfolds=10, seed=5 ...............................................\n",
            "[CV]  nfolds=10, seed=5, AUC=(train=0.967, test=0.855), Accuracy=(train=0.968, test=0.950), F1=(train=0.968, test=0.950), total= 1.0min\n",
            "[CV] nfolds=10, seed=5 ...............................................\n",
            "[CV]  nfolds=10, seed=5, AUC=(train=0.966, test=0.885), Accuracy=(train=0.968, test=0.893), F1=(train=0.968, test=0.893), total= 1.0min\n",
            "[CV] nfolds=10, seed=5 ...............................................\n",
            "[CV]  nfolds=10, seed=5, AUC=(train=0.964, test=0.932), Accuracy=(train=0.967, test=0.941), F1=(train=0.967, test=0.941), total= 1.1min\n",
            "[CV] nfolds=10, seed=5 ...............................................\n",
            "[CV]  nfolds=10, seed=5, AUC=(train=0.962, test=0.968), Accuracy=(train=0.967, test=0.965), F1=(train=0.967, test=0.965), total= 1.0min\n",
            "[CV] nfolds=10, seed=5 ...............................................\n",
            "[CV]  nfolds=10, seed=5, AUC=(train=0.963, test=0.937), Accuracy=(train=0.966, test=0.966), F1=(train=0.966, test=0.966), total= 1.0min\n",
            "[CV] nfolds=10, seed=5 ...............................................\n",
            "[CV]  nfolds=10, seed=5, AUC=(train=0.963, test=0.579), Accuracy=(train=0.966, test=0.092), F1=(train=0.966, test=0.092), total= 1.1min\n"
          ]
        },
        {
          "name": "stderr",
          "output_type": "stream",
          "text": [
            "[Parallel(n_jobs=1)]: Done 128 out of 128 | elapsed: 139.6min finished\n"
          ]
        },
        {
          "name": "stdout",
          "output_type": "stream",
          "text": [
            "\n",
            " Time taken: 2 hours 20 minutes and 48.36 seconds.\n"
          ]
        }
      ]
    },
    {
      "cell_type": "code",
      "metadata": {
        "colab": {
          "base_uri": "https://localhost:8080/"
        },
        "id": "QdV9jwLpIY_-",
        "outputId": "aecdafdd-da73-48b3-c396-7f275178ae65"
      },
      "source": [
        "gsearch1.best_params_, gsearch1.best_score_\n"
      ],
      "execution_count": null,
      "outputs": [
        {
          "data": {
            "text/plain": [
              "({'nfolds': 3, 'seed': -1}, 0.7620303136825082)"
            ]
          },
          "execution_count": 48,
          "metadata": {},
          "output_type": "execute_result"
        }
      ]
    },
    {
      "cell_type": "markdown",
      "metadata": {
        "id": "y-cSc40TDVhH"
      },
      "source": [
        "## **B. max_depth**"
      ]
    },
    {
      "cell_type": "code",
      "metadata": {
        "id": "AHNDbnx9DVhH"
      },
      "source": [
        "xgb2 = XGBClassifier(nfolds=3, seed= -1)\n",
        "parameters2 = {\n",
        "    #\"ntrees\":[100,130,150,200],\n",
        "    'max_depth':[10,12,15]\n",
        "\n",
        "}\n",
        "scoring2 = {'AUC': 'roc_auc', 'Accuracy': make_scorer(accuracy_score), 'F1':make_scorer(f1_score, average='micro')}"
      ],
      "execution_count": null,
      "outputs": []
    },
    {
      "cell_type": "code",
      "metadata": {
        "colab": {
          "base_uri": "https://localhost:8080/"
        },
        "id": "d1sKwJyxDVhI",
        "outputId": "558f667c-b05b-40f0-c948-ea1d463edb60"
      },
      "source": [
        "start_time = timer(None) # timing starts from this point for \"start_time\" variable\n",
        "gsearch2 = GridSearchCV(estimator=xgb2,param_grid=parameters2,scoring=scoring2, cv=8, verbose=3, refit='AUC', return_train_score=True)\n",
        "gsearch2.fit(X,Y)\n",
        "timer(start_time) # timing ends here for \"start_time\" variable"
      ],
      "execution_count": null,
      "outputs": [
        {
          "name": "stdout",
          "output_type": "stream",
          "text": [
            "Fitting 8 folds for each of 3 candidates, totalling 24 fits\n",
            "[CV] max_depth=10 ....................................................\n"
          ]
        },
        {
          "name": "stderr",
          "output_type": "stream",
          "text": [
            "[Parallel(n_jobs=1)]: Using backend SequentialBackend with 1 concurrent workers.\n"
          ]
        },
        {
          "name": "stdout",
          "output_type": "stream",
          "text": [
            "[CV]  max_depth=10, AUC=(train=1.000, test=0.497), Accuracy=(train=0.996, test=0.295), F1=(train=0.996, test=0.295), total= 3.2min\n",
            "[CV] max_depth=10 ....................................................\n"
          ]
        },
        {
          "name": "stderr",
          "output_type": "stream",
          "text": [
            "[Parallel(n_jobs=1)]: Done   1 out of   1 | elapsed:  3.2min remaining:    0.0s\n"
          ]
        },
        {
          "name": "stdout",
          "output_type": "stream",
          "text": [
            "[CV]  max_depth=10, AUC=(train=1.000, test=0.493), Accuracy=(train=0.997, test=0.704), F1=(train=0.997, test=0.704), total= 3.2min\n",
            "[CV] max_depth=10 ....................................................\n"
          ]
        },
        {
          "name": "stderr",
          "output_type": "stream",
          "text": [
            "[Parallel(n_jobs=1)]: Done   2 out of   2 | elapsed:  6.5min remaining:    0.0s\n"
          ]
        },
        {
          "name": "stdout",
          "output_type": "stream",
          "text": [
            "[CV]  max_depth=10, AUC=(train=0.999, test=0.899), Accuracy=(train=0.994, test=0.875), F1=(train=0.994, test=0.875), total= 3.2min\n",
            "[CV] max_depth=10 ....................................................\n",
            "[CV]  max_depth=10, AUC=(train=0.999, test=0.982), Accuracy=(train=0.994, test=0.846), F1=(train=0.994, test=0.846), total= 3.2min\n",
            "[CV] max_depth=10 ....................................................\n",
            "[CV]  max_depth=10, AUC=(train=0.999, test=0.993), Accuracy=(train=0.993, test=0.950), F1=(train=0.993, test=0.950), total= 3.2min\n",
            "[CV] max_depth=10 ....................................................\n",
            "[CV]  max_depth=10, AUC=(train=0.999, test=0.987), Accuracy=(train=0.993, test=0.920), F1=(train=0.993, test=0.920), total= 3.2min\n",
            "[CV] max_depth=10 ....................................................\n",
            "[CV]  max_depth=10, AUC=(train=0.999, test=0.993), Accuracy=(train=0.993, test=0.966), F1=(train=0.993, test=0.966), total= 3.2min\n",
            "[CV] max_depth=10 ....................................................\n",
            "[CV]  max_depth=10, AUC=(train=0.999, test=0.698), Accuracy=(train=0.993, test=0.088), F1=(train=0.993, test=0.088), total= 3.1min\n",
            "[CV] max_depth=12 ....................................................\n",
            "[CV]  max_depth=12, AUC=(train=1.000, test=0.516), Accuracy=(train=0.998, test=0.281), F1=(train=0.998, test=0.281), total= 3.9min\n",
            "[CV] max_depth=12 ....................................................\n",
            "[CV]  max_depth=12, AUC=(train=1.000, test=0.503), Accuracy=(train=0.999, test=0.685), F1=(train=0.999, test=0.685), total= 4.0min\n",
            "[CV] max_depth=12 ....................................................\n",
            "[CV]  max_depth=12, AUC=(train=1.000, test=0.908), Accuracy=(train=0.997, test=0.896), F1=(train=0.997, test=0.896), total= 3.9min\n",
            "[CV] max_depth=12 ....................................................\n",
            "[CV]  max_depth=12, AUC=(train=1.000, test=0.988), Accuracy=(train=0.996, test=0.873), F1=(train=0.996, test=0.873), total= 3.9min\n",
            "[CV] max_depth=12 ....................................................\n",
            "[CV]  max_depth=12, AUC=(train=1.000, test=0.994), Accuracy=(train=0.996, test=0.944), F1=(train=0.996, test=0.944), total= 3.9min\n",
            "[CV] max_depth=12 ....................................................\n",
            "[CV]  max_depth=12, AUC=(train=1.000, test=0.988), Accuracy=(train=0.996, test=0.917), F1=(train=0.996, test=0.917), total= 3.9min\n",
            "[CV] max_depth=12 ....................................................\n",
            "[CV]  max_depth=12, AUC=(train=1.000, test=0.994), Accuracy=(train=0.996, test=0.956), F1=(train=0.996, test=0.956), total= 3.9min\n",
            "[CV] max_depth=12 ....................................................\n",
            "[CV]  max_depth=12, AUC=(train=1.000, test=0.695), Accuracy=(train=0.996, test=0.088), F1=(train=0.996, test=0.088), total= 3.9min\n",
            "[CV] max_depth=15 ....................................................\n",
            "[CV]  max_depth=15, AUC=(train=1.000, test=0.500), Accuracy=(train=0.999, test=0.123), F1=(train=0.999, test=0.123), total= 5.1min\n",
            "[CV] max_depth=15 ....................................................\n",
            "[CV]  max_depth=15, AUC=(train=1.000, test=0.527), Accuracy=(train=1.000, test=0.703), F1=(train=1.000, test=0.703), total= 5.2min\n",
            "[CV] max_depth=15 ....................................................\n",
            "[CV]  max_depth=15, AUC=(train=1.000, test=0.912), Accuracy=(train=0.999, test=0.904), F1=(train=0.999, test=0.904), total= 5.1min\n",
            "[CV] max_depth=15 ....................................................\n",
            "[CV]  max_depth=15, AUC=(train=1.000, test=0.991), Accuracy=(train=0.999, test=0.903), F1=(train=0.999, test=0.903), total= 5.1min\n",
            "[CV] max_depth=15 ....................................................\n",
            "[CV]  max_depth=15, AUC=(train=1.000, test=0.995), Accuracy=(train=0.998, test=0.936), F1=(train=0.998, test=0.936), total= 5.1min\n",
            "[CV] max_depth=15 ....................................................\n",
            "[CV]  max_depth=15, AUC=(train=1.000, test=0.989), Accuracy=(train=0.999, test=0.913), F1=(train=0.999, test=0.913), total= 5.1min\n",
            "[CV] max_depth=15 ....................................................\n",
            "[CV]  max_depth=15, AUC=(train=1.000, test=0.997), Accuracy=(train=0.998, test=0.977), F1=(train=0.998, test=0.977), total= 5.1min\n",
            "[CV] max_depth=15 ....................................................\n",
            "[CV]  max_depth=15, AUC=(train=1.000, test=0.715), Accuracy=(train=0.998, test=0.088), F1=(train=0.998, test=0.088), total= 5.1min\n"
          ]
        },
        {
          "name": "stderr",
          "output_type": "stream",
          "text": [
            "[Parallel(n_jobs=1)]: Done  24 out of  24 | elapsed: 98.6min finished\n"
          ]
        },
        {
          "name": "stdout",
          "output_type": "stream",
          "text": [
            "\n",
            " Time taken: 1 hours 44 minutes and 33.83 seconds.\n"
          ]
        }
      ]
    },
    {
      "cell_type": "code",
      "metadata": {
        "colab": {
          "base_uri": "https://localhost:8080/"
        },
        "id": "FunbAy7yDVhI",
        "outputId": "99af81a0-74cf-4132-8759-2994c0e7f63a"
      },
      "source": [
        "gsearch2.best_params_, gsearch2.best_score_\n"
      ],
      "execution_count": null,
      "outputs": [
        {
          "data": {
            "text/plain": [
              "({'max_depth': 15}, 0.8283158678224622)"
            ]
          },
          "execution_count": 26,
          "metadata": {},
          "output_type": "execute_result"
        }
      ]
    },
    {
      "cell_type": "markdown",
      "metadata": {
        "id": "5OKF2t7ADVhJ"
      },
      "source": [
        "## **C. gamma**"
      ]
    },
    {
      "cell_type": "code",
      "metadata": {
        "id": "bMqgYDxaDVhJ"
      },
      "source": [
        "xgb4 = XGBClassifier(stopping_metric='log_loss',keep_cross_validation_predictions=True, objective='binary:logistic', nfolds=3, seed= -1,max_depth= 15)\n",
        "parameters4 = {\n",
        "    #\"max_depth\":[10,15,20,25,35,40],\n",
        "    'gamma':[i/10.0 for i in range(0,5)]\n",
        "}\n",
        "scoring4 = {'AUC': 'roc_auc', 'Accuracy': make_scorer(accuracy_score), 'F1':make_scorer(f1_score, average='micro')}"
      ],
      "execution_count": null,
      "outputs": []
    },
    {
      "cell_type": "code",
      "metadata": {
        "colab": {
          "base_uri": "https://localhost:8080/"
        },
        "id": "VN6vbWj4DVhJ",
        "outputId": "f5c7d777-db4d-4c0d-d6f1-40a64b54d1a9"
      },
      "source": [
        "\n",
        "start_time = timer(None) # timing starts from this point for \"start_time\" variable\n",
        "gsearch4 = GridSearchCV(estimator=xgb4,param_grid=parameters4,scoring=scoring4, cv=8, verbose=3, refit='AUC', return_train_score=True)\n",
        "gsearch4.fit(X,Y)\n",
        "timer(start_time) # timing ends here for \"start_time\" variable"
      ],
      "execution_count": null,
      "outputs": [
        {
          "name": "stdout",
          "output_type": "stream",
          "text": [
            "Fitting 8 folds for each of 5 candidates, totalling 40 fits\n",
            "[CV] gamma=0.0 .......................................................\n"
          ]
        },
        {
          "name": "stderr",
          "output_type": "stream",
          "text": [
            "[Parallel(n_jobs=1)]: Using backend SequentialBackend with 1 concurrent workers.\n"
          ]
        },
        {
          "name": "stdout",
          "output_type": "stream",
          "text": [
            "[CV]  gamma=0.0, AUC=(train=1.000, test=0.500), Accuracy=(train=0.999, test=0.123), F1=(train=0.999, test=0.123), total= 5.1min\n",
            "[CV] gamma=0.0 .......................................................\n"
          ]
        },
        {
          "name": "stderr",
          "output_type": "stream",
          "text": [
            "[Parallel(n_jobs=1)]: Done   1 out of   1 | elapsed:  5.2min remaining:    0.0s\n"
          ]
        },
        {
          "name": "stdout",
          "output_type": "stream",
          "text": [
            "[CV]  gamma=0.0, AUC=(train=1.000, test=0.527), Accuracy=(train=1.000, test=0.703), F1=(train=1.000, test=0.703), total= 5.2min\n",
            "[CV] gamma=0.0 .......................................................\n"
          ]
        },
        {
          "name": "stderr",
          "output_type": "stream",
          "text": [
            "[Parallel(n_jobs=1)]: Done   2 out of   2 | elapsed: 10.5min remaining:    0.0s\n"
          ]
        },
        {
          "name": "stdout",
          "output_type": "stream",
          "text": [
            "[CV]  gamma=0.0, AUC=(train=1.000, test=0.912), Accuracy=(train=0.999, test=0.904), F1=(train=0.999, test=0.904), total= 5.1min\n",
            "[CV] gamma=0.0 .......................................................\n",
            "[CV]  gamma=0.0, AUC=(train=1.000, test=0.991), Accuracy=(train=0.999, test=0.903), F1=(train=0.999, test=0.903), total= 5.1min\n",
            "[CV] gamma=0.0 .......................................................\n",
            "[CV]  gamma=0.0, AUC=(train=1.000, test=0.995), Accuracy=(train=0.998, test=0.936), F1=(train=0.998, test=0.936), total= 5.1min\n",
            "[CV] gamma=0.0 .......................................................\n",
            "[CV]  gamma=0.0, AUC=(train=1.000, test=0.989), Accuracy=(train=0.999, test=0.913), F1=(train=0.999, test=0.913), total= 5.1min\n",
            "[CV] gamma=0.0 .......................................................\n",
            "[CV]  gamma=0.0, AUC=(train=1.000, test=0.997), Accuracy=(train=0.998, test=0.977), F1=(train=0.998, test=0.977), total= 5.1min\n",
            "[CV] gamma=0.0 .......................................................\n",
            "[CV]  gamma=0.0, AUC=(train=1.000, test=0.715), Accuracy=(train=0.998, test=0.088), F1=(train=0.998, test=0.088), total= 5.1min\n",
            "[CV] gamma=0.1 .......................................................\n",
            "[CV]  gamma=0.1, AUC=(train=1.000, test=0.490), Accuracy=(train=0.999, test=0.123), F1=(train=0.999, test=0.123), total= 5.1min\n",
            "[CV] gamma=0.1 .......................................................\n",
            "[CV]  gamma=0.1, AUC=(train=1.000, test=0.514), Accuracy=(train=1.000, test=0.669), F1=(train=1.000, test=0.669), total= 5.2min\n",
            "[CV] gamma=0.1 .......................................................\n",
            "[CV]  gamma=0.1, AUC=(train=1.000, test=0.909), Accuracy=(train=0.999, test=0.897), F1=(train=0.999, test=0.897), total= 5.1min\n",
            "[CV] gamma=0.1 .......................................................\n",
            "[CV]  gamma=0.1, AUC=(train=1.000, test=0.992), Accuracy=(train=0.999, test=0.919), F1=(train=0.999, test=0.919), total= 5.1min\n",
            "[CV] gamma=0.1 .......................................................\n",
            "[CV]  gamma=0.1, AUC=(train=1.000, test=0.995), Accuracy=(train=0.999, test=0.935), F1=(train=0.999, test=0.935), total= 5.1min\n",
            "[CV] gamma=0.1 .......................................................\n",
            "[CV]  gamma=0.1, AUC=(train=1.000, test=0.992), Accuracy=(train=0.998, test=0.927), F1=(train=0.998, test=0.927), total= 5.1min\n",
            "[CV] gamma=0.1 .......................................................\n",
            "[CV]  gamma=0.1, AUC=(train=1.000, test=0.996), Accuracy=(train=0.998, test=0.977), F1=(train=0.998, test=0.977), total= 5.1min\n",
            "[CV] gamma=0.1 .......................................................\n",
            "[CV]  gamma=0.1, AUC=(train=1.000, test=0.705), Accuracy=(train=0.998, test=0.089), F1=(train=0.998, test=0.089), total= 5.1min\n",
            "[CV] gamma=0.2 .......................................................\n",
            "[CV]  gamma=0.2, AUC=(train=1.000, test=0.495), Accuracy=(train=0.999, test=0.133), F1=(train=0.999, test=0.133), total= 5.1min\n",
            "[CV] gamma=0.2 .......................................................\n",
            "[CV]  gamma=0.2, AUC=(train=1.000, test=0.502), Accuracy=(train=1.000, test=0.631), F1=(train=1.000, test=0.631), total= 5.2min\n",
            "[CV] gamma=0.2 .......................................................\n",
            "[CV]  gamma=0.2, AUC=(train=1.000, test=0.913), Accuracy=(train=0.999, test=0.924), F1=(train=0.999, test=0.924), total= 5.1min\n",
            "[CV] gamma=0.2 .......................................................\n",
            "[CV]  gamma=0.2, AUC=(train=1.000, test=0.991), Accuracy=(train=0.999, test=0.910), F1=(train=0.999, test=0.910), total= 5.1min\n",
            "[CV] gamma=0.2 .......................................................\n",
            "[CV]  gamma=0.2, AUC=(train=1.000, test=0.995), Accuracy=(train=0.998, test=0.945), F1=(train=0.998, test=0.945), total= 5.1min\n",
            "[CV] gamma=0.2 .......................................................\n",
            "[CV]  gamma=0.2, AUC=(train=1.000, test=0.990), Accuracy=(train=0.999, test=0.920), F1=(train=0.999, test=0.920), total= 5.1min\n",
            "[CV] gamma=0.2 .......................................................\n",
            "[CV]  gamma=0.2, AUC=(train=1.000, test=0.996), Accuracy=(train=0.998, test=0.969), F1=(train=0.998, test=0.969), total= 5.2min\n",
            "[CV] gamma=0.2 .......................................................\n",
            "[CV]  gamma=0.2, AUC=(train=1.000, test=0.705), Accuracy=(train=0.998, test=0.088), F1=(train=0.998, test=0.088), total= 5.1min\n",
            "[CV] gamma=0.3 .......................................................\n",
            "[CV]  gamma=0.3, AUC=(train=1.000, test=0.512), Accuracy=(train=0.999, test=0.158), F1=(train=0.999, test=0.158), total= 5.2min\n",
            "[CV] gamma=0.3 .......................................................\n",
            "[CV]  gamma=0.3, AUC=(train=1.000, test=0.511), Accuracy=(train=1.000, test=0.662), F1=(train=1.000, test=0.662), total= 5.2min\n",
            "[CV] gamma=0.3 .......................................................\n",
            "[CV]  gamma=0.3, AUC=(train=1.000, test=0.906), Accuracy=(train=0.999, test=0.897), F1=(train=0.999, test=0.897), total= 5.1min\n",
            "[CV] gamma=0.3 .......................................................\n",
            "[CV]  gamma=0.3, AUC=(train=1.000, test=0.990), Accuracy=(train=0.999, test=0.897), F1=(train=0.999, test=0.897), total= 5.1min\n",
            "[CV] gamma=0.3 .......................................................\n",
            "[CV]  gamma=0.3, AUC=(train=1.000, test=0.996), Accuracy=(train=0.998, test=0.946), F1=(train=0.998, test=0.946), total= 5.1min\n",
            "[CV] gamma=0.3 .......................................................\n",
            "[CV]  gamma=0.3, AUC=(train=1.000, test=0.990), Accuracy=(train=0.998, test=0.918), F1=(train=0.998, test=0.918), total= 5.1min\n",
            "[CV] gamma=0.3 .......................................................\n",
            "[CV]  gamma=0.3, AUC=(train=1.000, test=0.996), Accuracy=(train=0.998, test=0.970), F1=(train=0.998, test=0.970), total= 5.1min\n",
            "[CV] gamma=0.3 .......................................................\n",
            "[CV]  gamma=0.3, AUC=(train=1.000, test=0.704), Accuracy=(train=0.998, test=0.088), F1=(train=0.998, test=0.088), total= 5.1min\n",
            "[CV] gamma=0.4 .......................................................\n",
            "[CV]  gamma=0.4, AUC=(train=1.000, test=0.501), Accuracy=(train=0.999, test=0.141), F1=(train=0.999, test=0.141), total= 5.1min\n",
            "[CV] gamma=0.4 .......................................................\n",
            "[CV]  gamma=0.4, AUC=(train=1.000, test=0.511), Accuracy=(train=1.000, test=0.650), F1=(train=1.000, test=0.650), total= 5.2min\n",
            "[CV] gamma=0.4 .......................................................\n",
            "[CV]  gamma=0.4, AUC=(train=1.000, test=0.907), Accuracy=(train=0.999, test=0.904), F1=(train=0.999, test=0.904), total= 5.1min\n",
            "[CV] gamma=0.4 .......................................................\n",
            "[CV]  gamma=0.4, AUC=(train=1.000, test=0.991), Accuracy=(train=0.999, test=0.915), F1=(train=0.999, test=0.915), total= 5.1min\n",
            "[CV] gamma=0.4 .......................................................\n",
            "[CV]  gamma=0.4, AUC=(train=1.000, test=0.996), Accuracy=(train=0.999, test=0.946), F1=(train=0.999, test=0.946), total= 5.2min\n",
            "[CV] gamma=0.4 .......................................................\n",
            "[CV]  gamma=0.4, AUC=(train=1.000, test=0.991), Accuracy=(train=0.998, test=0.919), F1=(train=0.998, test=0.919), total= 5.1min\n",
            "[CV] gamma=0.4 .......................................................\n",
            "[CV]  gamma=0.4, AUC=(train=1.000, test=0.995), Accuracy=(train=0.998, test=0.967), F1=(train=0.998, test=0.967), total= 5.1min\n",
            "[CV] gamma=0.4 .......................................................\n",
            "[CV]  gamma=0.4, AUC=(train=1.000, test=0.705), Accuracy=(train=0.998, test=0.089), F1=(train=0.998, test=0.089), total= 5.1min\n"
          ]
        },
        {
          "name": "stderr",
          "output_type": "stream",
          "text": [
            "[Parallel(n_jobs=1)]: Done  40 out of  40 | elapsed: 207.4min finished\n"
          ]
        },
        {
          "name": "stdout",
          "output_type": "stream",
          "text": [
            "\n",
            " Time taken: 3 hours 33 minutes and 22.09 seconds.\n"
          ]
        }
      ]
    },
    {
      "cell_type": "code",
      "metadata": {
        "colab": {
          "base_uri": "https://localhost:8080/"
        },
        "id": "g8CvEejUDVhK",
        "outputId": "b278de61-7a8b-4c9a-d007-52397e692f18"
      },
      "source": [
        "gsearch4.best_params_, gsearch4.best_score_\n"
      ],
      "execution_count": null,
      "outputs": [
        {
          "data": {
            "text/plain": [
              "({'gamma': 0.0}, 0.8283158678224622)"
            ]
          },
          "execution_count": 39,
          "metadata": {},
          "output_type": "execute_result"
        }
      ]
    },
    {
      "cell_type": "markdown",
      "metadata": {
        "id": "42tnDvXIDVhK"
      },
      "source": [
        "## **D. colsample_bytree**"
      ]
    },
    {
      "cell_type": "code",
      "metadata": {
        "id": "rqa3Ed1SDVhK"
      },
      "source": [
        "xgb5 = XGBClassifier(stopping_metric='log_loss',keep_cross_validation_predictions=True, objective='binary:logistic', nfolds=3, seed= -1,max_depth= 15,gamma=0.0)\n",
        "parameters5 = {\n",
        "    #'subsample':[i/10.0 for i in range(6,10)],\n",
        "    'colsample_bytree':[i/10.0 for i in range(6,10)]\n",
        "}\n",
        "scoring5 = {'AUC': 'roc_auc', 'Accuracy': make_scorer(accuracy_score), 'F1':make_scorer(f1_score, average='micro')}"
      ],
      "execution_count": null,
      "outputs": []
    },
    {
      "cell_type": "code",
      "metadata": {
        "colab": {
          "base_uri": "https://localhost:8080/"
        },
        "id": "46ouMQSgDVhK",
        "outputId": "e29b2d96-b887-4bb3-fa76-b657e0eac331"
      },
      "source": [
        "\n",
        "start_time = timer(None) # timing starts from this point for \"start_time\" variable\n",
        "gsearch5 = GridSearchCV(estimator=xgb5,param_grid=parameters5,scoring=scoring5, cv=8, verbose=3, refit='AUC', return_train_score=True)\n",
        "gsearch5.fit(X,Y)\n",
        "timer(start_time) # timing ends here for \"start_time\" variable"
      ],
      "execution_count": null,
      "outputs": [
        {
          "name": "stdout",
          "output_type": "stream",
          "text": [
            "Fitting 8 folds for each of 4 candidates, totalling 32 fits\n",
            "[CV] colsample_bytree=0.6 ............................................\n"
          ]
        },
        {
          "name": "stderr",
          "output_type": "stream",
          "text": [
            "[Parallel(n_jobs=1)]: Using backend SequentialBackend with 1 concurrent workers.\n"
          ]
        },
        {
          "name": "stdout",
          "output_type": "stream",
          "text": [
            "[CV]  colsample_bytree=0.6, AUC=(train=1.000, test=0.542), Accuracy=(train=0.999, test=0.315), F1=(train=0.999, test=0.315), total= 3.3min\n",
            "[CV] colsample_bytree=0.6 ............................................\n"
          ]
        },
        {
          "name": "stderr",
          "output_type": "stream",
          "text": [
            "[Parallel(n_jobs=1)]: Done   1 out of   1 | elapsed:  3.4min remaining:    0.0s\n"
          ]
        },
        {
          "name": "stdout",
          "output_type": "stream",
          "text": [
            "[CV]  colsample_bytree=0.6, AUC=(train=1.000, test=0.468), Accuracy=(train=1.000, test=0.602), F1=(train=1.000, test=0.602), total= 3.3min\n",
            "[CV] colsample_bytree=0.6 ............................................\n"
          ]
        },
        {
          "name": "stderr",
          "output_type": "stream",
          "text": [
            "[Parallel(n_jobs=1)]: Done   2 out of   2 | elapsed:  6.8min remaining:    0.0s\n"
          ]
        },
        {
          "name": "stdout",
          "output_type": "stream",
          "text": [
            "[CV]  colsample_bytree=0.6, AUC=(train=1.000, test=0.913), Accuracy=(train=0.999, test=0.914), F1=(train=0.999, test=0.914), total= 3.3min\n",
            "[CV] colsample_bytree=0.6 ............................................\n",
            "[CV]  colsample_bytree=0.6, AUC=(train=1.000, test=0.995), Accuracy=(train=0.998, test=0.927), F1=(train=0.998, test=0.927), total= 3.3min\n",
            "[CV] colsample_bytree=0.6 ............................................\n",
            "[CV]  colsample_bytree=0.6, AUC=(train=1.000, test=0.996), Accuracy=(train=0.998, test=0.948), F1=(train=0.998, test=0.948), total= 3.3min\n",
            "[CV] colsample_bytree=0.6 ............................................\n",
            "[CV]  colsample_bytree=0.6, AUC=(train=1.000, test=0.991), Accuracy=(train=0.998, test=0.926), F1=(train=0.998, test=0.926), total= 3.3min\n",
            "[CV] colsample_bytree=0.6 ............................................\n",
            "[CV]  colsample_bytree=0.6, AUC=(train=1.000, test=0.996), Accuracy=(train=0.998, test=0.966), F1=(train=0.998, test=0.966), total= 3.3min\n",
            "[CV] colsample_bytree=0.6 ............................................\n",
            "[CV]  colsample_bytree=0.6, AUC=(train=1.000, test=0.797), Accuracy=(train=0.998, test=0.089), F1=(train=0.998, test=0.089), total= 3.2min\n",
            "[CV] colsample_bytree=0.7 ............................................\n",
            "[CV]  colsample_bytree=0.7, AUC=(train=1.000, test=0.546), Accuracy=(train=0.999, test=0.315), F1=(train=0.999, test=0.315), total= 3.8min\n",
            "[CV] colsample_bytree=0.7 ............................................\n",
            "[CV]  colsample_bytree=0.7, AUC=(train=1.000, test=0.459), Accuracy=(train=1.000, test=0.589), F1=(train=1.000, test=0.589), total= 3.8min\n",
            "[CV] colsample_bytree=0.7 ............................................\n",
            "[CV]  colsample_bytree=0.7, AUC=(train=1.000, test=0.913), Accuracy=(train=0.999, test=0.912), F1=(train=0.999, test=0.912), total= 3.7min\n",
            "[CV] colsample_bytree=0.7 ............................................\n",
            "[CV]  colsample_bytree=0.7, AUC=(train=1.000, test=0.992), Accuracy=(train=0.998, test=0.908), F1=(train=0.998, test=0.908), total= 3.8min\n",
            "[CV] colsample_bytree=0.7 ............................................\n",
            "[CV]  colsample_bytree=0.7, AUC=(train=1.000, test=0.996), Accuracy=(train=0.998, test=0.947), F1=(train=0.998, test=0.947), total= 3.7min\n",
            "[CV] colsample_bytree=0.7 ............................................\n",
            "[CV]  colsample_bytree=0.7, AUC=(train=1.000, test=0.989), Accuracy=(train=0.998, test=0.918), F1=(train=0.998, test=0.918), total= 3.8min\n",
            "[CV] colsample_bytree=0.7 ............................................\n",
            "[CV]  colsample_bytree=0.7, AUC=(train=1.000, test=0.996), Accuracy=(train=0.998, test=0.968), F1=(train=0.998, test=0.968), total= 3.8min\n",
            "[CV] colsample_bytree=0.7 ............................................\n",
            "[CV]  colsample_bytree=0.7, AUC=(train=1.000, test=0.796), Accuracy=(train=0.998, test=0.089), F1=(train=0.998, test=0.089), total= 3.7min\n",
            "[CV] colsample_bytree=0.8 ............................................\n",
            "[CV]  colsample_bytree=0.8, AUC=(train=1.000, test=0.523), Accuracy=(train=0.999, test=0.199), F1=(train=0.999, test=0.199), total= 4.2min\n",
            "[CV] colsample_bytree=0.8 ............................................\n",
            "[CV]  colsample_bytree=0.8, AUC=(train=1.000, test=0.498), Accuracy=(train=1.000, test=0.661), F1=(train=1.000, test=0.661), total= 4.3min\n",
            "[CV] colsample_bytree=0.8 ............................................\n",
            "[CV]  colsample_bytree=0.8, AUC=(train=1.000, test=0.910), Accuracy=(train=0.999, test=0.901), F1=(train=0.999, test=0.901), total= 4.2min\n",
            "[CV] colsample_bytree=0.8 ............................................\n",
            "[CV]  colsample_bytree=0.8, AUC=(train=1.000, test=0.992), Accuracy=(train=0.998, test=0.909), F1=(train=0.998, test=0.909), total= 4.2min\n",
            "[CV] colsample_bytree=0.8 ............................................\n",
            "[CV]  colsample_bytree=0.8, AUC=(train=1.000, test=0.995), Accuracy=(train=0.998, test=0.937), F1=(train=0.998, test=0.937), total= 4.2min\n",
            "[CV] colsample_bytree=0.8 ............................................\n",
            "[CV]  colsample_bytree=0.8, AUC=(train=1.000, test=0.991), Accuracy=(train=0.999, test=0.917), F1=(train=0.999, test=0.917), total= 4.2min\n",
            "[CV] colsample_bytree=0.8 ............................................\n",
            "[CV]  colsample_bytree=0.8, AUC=(train=1.000, test=0.996), Accuracy=(train=0.998, test=0.967), F1=(train=0.998, test=0.967), total= 4.2min\n",
            "[CV] colsample_bytree=0.8 ............................................\n",
            "[CV]  colsample_bytree=0.8, AUC=(train=1.000, test=0.773), Accuracy=(train=0.998, test=0.088), F1=(train=0.998, test=0.088), total= 4.2min\n",
            "[CV] colsample_bytree=0.9 ............................................\n",
            "[CV]  colsample_bytree=0.9, AUC=(train=1.000, test=0.512), Accuracy=(train=0.999, test=0.165), F1=(train=0.999, test=0.165), total= 4.7min\n",
            "[CV] colsample_bytree=0.9 ............................................\n",
            "[CV]  colsample_bytree=0.9, AUC=(train=1.000, test=0.526), Accuracy=(train=1.000, test=0.705), F1=(train=1.000, test=0.705), total= 4.7min\n",
            "[CV] colsample_bytree=0.9 ............................................\n",
            "[CV]  colsample_bytree=0.9, AUC=(train=1.000, test=0.909), Accuracy=(train=0.999, test=0.899), F1=(train=0.999, test=0.899), total= 4.6min\n",
            "[CV] colsample_bytree=0.9 ............................................\n",
            "[CV]  colsample_bytree=0.9, AUC=(train=1.000, test=0.992), Accuracy=(train=0.999, test=0.918), F1=(train=0.999, test=0.918), total= 4.7min\n",
            "[CV] colsample_bytree=0.9 ............................................\n",
            "[CV]  colsample_bytree=0.9, AUC=(train=1.000, test=0.996), Accuracy=(train=0.998, test=0.954), F1=(train=0.998, test=0.954), total= 4.7min\n",
            "[CV] colsample_bytree=0.9 ............................................\n",
            "[CV]  colsample_bytree=0.9, AUC=(train=1.000, test=0.992), Accuracy=(train=0.998, test=0.929), F1=(train=0.998, test=0.929), total= 4.7min\n",
            "[CV] colsample_bytree=0.9 ............................................\n",
            "[CV]  colsample_bytree=0.9, AUC=(train=1.000, test=0.997), Accuracy=(train=0.998, test=0.973), F1=(train=0.998, test=0.973), total= 4.7min\n",
            "[CV] colsample_bytree=0.9 ............................................\n",
            "[CV]  colsample_bytree=0.9, AUC=(train=1.000, test=0.697), Accuracy=(train=0.998, test=0.088), F1=(train=0.998, test=0.088), total= 4.6min\n"
          ]
        },
        {
          "name": "stderr",
          "output_type": "stream",
          "text": [
            "[Parallel(n_jobs=1)]: Done  32 out of  32 | elapsed: 129.5min finished\n"
          ]
        },
        {
          "name": "stdout",
          "output_type": "stream",
          "text": [
            "\n",
            " Time taken: 2 hours 13 minutes and 17.33 seconds.\n"
          ]
        }
      ]
    },
    {
      "cell_type": "code",
      "metadata": {
        "colab": {
          "base_uri": "https://localhost:8080/"
        },
        "id": "uDg5wAgnDVhL",
        "outputId": "e5bbdee0-cae0-443e-e6b2-8c87972499a0"
      },
      "source": [
        "gsearch5.best_params_, gsearch5.best_score_\n"
      ],
      "execution_count": null,
      "outputs": [
        {
          "data": {
            "text/plain": [
              "({'colsample_bytree': 0.6}, 0.8373564288431739)"
            ]
          },
          "execution_count": 46,
          "metadata": {},
          "output_type": "execute_result"
        }
      ]
    },
    {
      "cell_type": "markdown",
      "metadata": {
        "id": "4qOAsdlaDVhL"
      },
      "source": [
        "## **E. subsample**"
      ]
    },
    {
      "cell_type": "code",
      "metadata": {
        "id": "6Yf3stS9DVhL"
      },
      "source": [
        "xgb6 = XGBClassifier(stopping_metric='log_loss',keep_cross_validation_predictions=True, objective='binary:logistic', nfolds=3, seed= -1,max_depth= 15,gamma=0.0,colsample_bytree =0.6)\n",
        "parameters6 = {\n",
        "    'subsample':[i/10.0 for i in range(6,10)],\n",
        "    #'colsample_bytree':[i/10.0 for i in range(6,10)]\n",
        "}\n",
        "scoring6 = {'AUC': 'roc_auc', 'Accuracy': make_scorer(accuracy_score), 'F1':make_scorer(f1_score, average='micro')}"
      ],
      "execution_count": null,
      "outputs": []
    },
    {
      "cell_type": "code",
      "metadata": {
        "colab": {
          "base_uri": "https://localhost:8080/"
        },
        "id": "iIwcLTieDVhL",
        "outputId": "3bce7bb9-8d2e-4fc6-d109-925b5c83b38b"
      },
      "source": [
        "\n",
        "start_time = timer(None) # timing starts from this point for \"start_time\" variable\n",
        "gsearch6 = GridSearchCV(estimator=xgb6,param_grid=parameters6,scoring=scoring6, cv=8, verbose=3, refit='AUC', return_train_score=True)\n",
        "gsearch6.fit(X,Y)\n",
        "timer(start_time) # timing ends here for \"start_time\" variable"
      ],
      "execution_count": null,
      "outputs": [
        {
          "name": "stdout",
          "output_type": "stream",
          "text": [
            "Fitting 8 folds for each of 4 candidates, totalling 32 fits\n",
            "[CV] subsample=0.6 ...................................................\n"
          ]
        },
        {
          "name": "stderr",
          "output_type": "stream",
          "text": [
            "[Parallel(n_jobs=1)]: Using backend SequentialBackend with 1 concurrent workers.\n"
          ]
        },
        {
          "name": "stdout",
          "output_type": "stream",
          "text": [
            "[CV]  subsample=0.6, AUC=(train=1.000, test=0.647), Accuracy=(train=0.998, test=0.878), F1=(train=0.998, test=0.878), total= 4.0min\n",
            "[CV] subsample=0.6 ...................................................\n"
          ]
        },
        {
          "name": "stderr",
          "output_type": "stream",
          "text": [
            "[Parallel(n_jobs=1)]: Done   1 out of   1 | elapsed:  4.0min remaining:    0.0s\n"
          ]
        },
        {
          "name": "stdout",
          "output_type": "stream",
          "text": [
            "[CV]  subsample=0.6, AUC=(train=1.000, test=0.477), Accuracy=(train=0.999, test=0.666), F1=(train=0.999, test=0.666), total= 3.9min\n",
            "[CV] subsample=0.6 ...................................................\n"
          ]
        },
        {
          "name": "stderr",
          "output_type": "stream",
          "text": [
            "[Parallel(n_jobs=1)]: Done   2 out of   2 | elapsed:  7.9min remaining:    0.0s\n"
          ]
        },
        {
          "name": "stdout",
          "output_type": "stream",
          "text": [
            "[CV]  subsample=0.6, AUC=(train=1.000, test=0.908), Accuracy=(train=0.997, test=0.898), F1=(train=0.997, test=0.898), total= 4.0min\n",
            "[CV] subsample=0.6 ...................................................\n",
            "[CV]  subsample=0.6, AUC=(train=1.000, test=0.992), Accuracy=(train=0.997, test=0.911), F1=(train=0.997, test=0.911), total= 4.0min\n",
            "[CV] subsample=0.6 ...................................................\n",
            "[CV]  subsample=0.6, AUC=(train=1.000, test=0.996), Accuracy=(train=0.997, test=0.957), F1=(train=0.997, test=0.957), total= 4.0min\n",
            "[CV] subsample=0.6 ...................................................\n",
            "[CV]  subsample=0.6, AUC=(train=1.000, test=0.990), Accuracy=(train=0.997, test=0.933), F1=(train=0.997, test=0.933), total= 4.0min\n",
            "[CV] subsample=0.6 ...................................................\n",
            "[CV]  subsample=0.6, AUC=(train=1.000, test=0.997), Accuracy=(train=0.997, test=0.973), F1=(train=0.997, test=0.973), total= 4.0min\n",
            "[CV] subsample=0.6 ...................................................\n",
            "[CV]  subsample=0.6, AUC=(train=1.000, test=0.897), Accuracy=(train=0.997, test=0.089), F1=(train=0.997, test=0.089), total= 4.1min\n",
            "[CV] subsample=0.7 ...................................................\n",
            "[CV]  subsample=0.7, AUC=(train=1.000, test=0.629), Accuracy=(train=0.998, test=0.829), F1=(train=0.998, test=0.829), total= 4.0min\n",
            "[CV] subsample=0.7 ...................................................\n",
            "[CV]  subsample=0.7, AUC=(train=1.000, test=0.470), Accuracy=(train=0.999, test=0.640), F1=(train=0.999, test=0.640), total= 3.8min\n",
            "[CV] subsample=0.7 ...................................................\n",
            "[CV]  subsample=0.7, AUC=(train=1.000, test=0.907), Accuracy=(train=0.998, test=0.894), F1=(train=0.998, test=0.894), total= 3.9min\n",
            "[CV] subsample=0.7 ...................................................\n",
            "[CV]  subsample=0.7, AUC=(train=1.000, test=0.994), Accuracy=(train=0.998, test=0.924), F1=(train=0.998, test=0.924), total= 3.9min\n",
            "[CV] subsample=0.7 ...................................................\n",
            "[CV]  subsample=0.7, AUC=(train=1.000, test=0.996), Accuracy=(train=0.997, test=0.946), F1=(train=0.997, test=0.946), total= 3.9min\n",
            "[CV] subsample=0.7 ...................................................\n",
            "[CV]  subsample=0.7, AUC=(train=1.000, test=0.993), Accuracy=(train=0.997, test=0.932), F1=(train=0.997, test=0.932), total= 3.9min\n",
            "[CV] subsample=0.7 ...................................................\n",
            "[CV]  subsample=0.7, AUC=(train=1.000, test=0.997), Accuracy=(train=0.997, test=0.974), F1=(train=0.997, test=0.974), total= 3.9min\n",
            "[CV] subsample=0.7 ...................................................\n",
            "[CV]  subsample=0.7, AUC=(train=1.000, test=0.879), Accuracy=(train=0.997, test=0.088), F1=(train=0.997, test=0.088), total= 3.9min\n",
            "[CV] subsample=0.8 ...................................................\n",
            "[CV]  subsample=0.8, AUC=(train=1.000, test=0.607), Accuracy=(train=0.999, test=0.729), F1=(train=0.999, test=0.729), total= 3.7min\n",
            "[CV] subsample=0.8 ...................................................\n",
            "[CV]  subsample=0.8, AUC=(train=1.000, test=0.452), Accuracy=(train=0.999, test=0.590), F1=(train=0.999, test=0.590), total= 3.7min\n",
            "[CV] subsample=0.8 ...................................................\n",
            "[CV]  subsample=0.8, AUC=(train=1.000, test=0.898), Accuracy=(train=0.998, test=0.882), F1=(train=0.998, test=0.882), total= 3.7min\n",
            "[CV] subsample=0.8 ...................................................\n",
            "[CV]  subsample=0.8, AUC=(train=1.000, test=0.992), Accuracy=(train=0.998, test=0.921), F1=(train=0.998, test=0.921), total= 3.7min\n",
            "[CV] subsample=0.8 ...................................................\n",
            "[CV]  subsample=0.8, AUC=(train=1.000, test=0.997), Accuracy=(train=0.998, test=0.961), F1=(train=0.998, test=0.961), total= 3.7min\n",
            "[CV] subsample=0.8 ...................................................\n",
            "[CV]  subsample=0.8, AUC=(train=1.000, test=0.991), Accuracy=(train=0.998, test=0.931), F1=(train=0.998, test=0.931), total= 3.8min\n",
            "[CV] subsample=0.8 ...................................................\n",
            "[CV]  subsample=0.8, AUC=(train=1.000, test=0.998), Accuracy=(train=0.998, test=0.975), F1=(train=0.998, test=0.975), total= 3.8min\n",
            "[CV] subsample=0.8 ...................................................\n",
            "[CV]  subsample=0.8, AUC=(train=1.000, test=0.883), Accuracy=(train=0.998, test=0.088), F1=(train=0.998, test=0.088), total= 3.8min\n",
            "[CV] subsample=0.9 ...................................................\n",
            "[CV]  subsample=0.9, AUC=(train=1.000, test=0.580), Accuracy=(train=0.999, test=0.568), F1=(train=0.999, test=0.568), total= 3.5min\n",
            "[CV] subsample=0.9 ...................................................\n",
            "[CV]  subsample=0.9, AUC=(train=1.000, test=0.470), Accuracy=(train=0.999, test=0.617), F1=(train=0.999, test=0.617), total= 3.5min\n",
            "[CV] subsample=0.9 ...................................................\n",
            "[CV]  subsample=0.9, AUC=(train=1.000, test=0.902), Accuracy=(train=0.999, test=0.877), F1=(train=0.999, test=0.877), total= 3.5min\n",
            "[CV] subsample=0.9 ...................................................\n",
            "[CV]  subsample=0.9, AUC=(train=1.000, test=0.992), Accuracy=(train=0.998, test=0.916), F1=(train=0.998, test=0.916), total= 3.5min\n",
            "[CV] subsample=0.9 ...................................................\n",
            "[CV]  subsample=0.9, AUC=(train=1.000, test=0.997), Accuracy=(train=0.998, test=0.957), F1=(train=0.998, test=0.957), total= 3.5min\n",
            "[CV] subsample=0.9 ...................................................\n",
            "[CV]  subsample=0.9, AUC=(train=1.000, test=0.993), Accuracy=(train=0.998, test=0.938), F1=(train=0.998, test=0.938), total= 3.5min\n",
            "[CV] subsample=0.9 ...................................................\n",
            "[CV]  subsample=0.9, AUC=(train=1.000, test=0.996), Accuracy=(train=0.998, test=0.971), F1=(train=0.998, test=0.971), total= 3.5min\n",
            "[CV] subsample=0.9 ...................................................\n",
            "[CV]  subsample=0.9, AUC=(train=1.000, test=0.852), Accuracy=(train=0.998, test=0.088), F1=(train=0.998, test=0.088), total= 3.5min\n"
          ]
        },
        {
          "name": "stderr",
          "output_type": "stream",
          "text": [
            "[Parallel(n_jobs=1)]: Done  32 out of  32 | elapsed: 122.9min finished\n"
          ]
        },
        {
          "name": "stdout",
          "output_type": "stream",
          "text": [
            "\n",
            " Time taken: 2 hours 7 minutes and 32.0 seconds.\n"
          ]
        }
      ]
    },
    {
      "cell_type": "code",
      "metadata": {
        "colab": {
          "base_uri": "https://localhost:8080/"
        },
        "id": "4nQrXz7eDVhL",
        "outputId": "56ff1f01-74b5-480d-c6a5-84c9b6b5e0eb"
      },
      "source": [
        "gsearch6.best_params_, gsearch6.best_score_\n"
      ],
      "execution_count": null,
      "outputs": [
        {
          "data": {
            "text/plain": [
              "({'subsample': 0.6}, 0.8629536284772222)"
            ]
          },
          "execution_count": 24,
          "metadata": {},
          "output_type": "execute_result"
        }
      ]
    },
    {
      "cell_type": "markdown",
      "metadata": {
        "id": "SfRO40MuDVhM"
      },
      "source": [
        "## **F. reg_alpha**"
      ]
    },
    {
      "cell_type": "code",
      "metadata": {
        "id": "gfZoMbfFDVhM"
      },
      "source": [
        "xgb7 = XGBClassifier(stopping_metric='log_loss',keep_cross_validation_predictions=True, objective='binary:logistic', nfolds=3, seed= -1,max_depth= 15,gamma=0.0,colsample_bytree =0.6,subsample=0.6)\n",
        "parameters7 = {\n",
        "    'reg_alpha':[0, 0.001, 0.005, 0.01, 0.05]\n",
        "}\n",
        "scoring7 = {'AUC': 'roc_auc', 'Accuracy': make_scorer(accuracy_score), 'F1':make_scorer(f1_score, average='micro')}"
      ],
      "execution_count": null,
      "outputs": []
    },
    {
      "cell_type": "code",
      "metadata": {
        "colab": {
          "base_uri": "https://localhost:8080/"
        },
        "id": "UNUOfOD3DVhM",
        "outputId": "a23acbf4-b37e-44ff-e1e4-862b23dddc0f"
      },
      "source": [
        "\n",
        "start_time = timer(None) # timing starts from this point for \"start_time\" variable\n",
        "gsearch7 = GridSearchCV(estimator=xgb7,param_grid=parameters7,scoring=scoring7, cv=8, verbose=3, refit='AUC', return_train_score=True)\n",
        "gsearch7.fit(X,Y)\n",
        "timer(start_time) # timing ends here for \"start_time\" variable"
      ],
      "execution_count": null,
      "outputs": [
        {
          "name": "stdout",
          "output_type": "stream",
          "text": [
            "Fitting 8 folds for each of 5 candidates, totalling 40 fits\n",
            "[CV] reg_alpha=0 .....................................................\n"
          ]
        },
        {
          "name": "stderr",
          "output_type": "stream",
          "text": [
            "[Parallel(n_jobs=1)]: Using backend SequentialBackend with 1 concurrent workers.\n"
          ]
        },
        {
          "name": "stdout",
          "output_type": "stream",
          "text": [
            "[CV]  reg_alpha=0, AUC=(train=1.000, test=0.647), Accuracy=(train=0.998, test=0.878), F1=(train=0.998, test=0.878), total= 4.0min\n",
            "[CV] reg_alpha=0 .....................................................\n"
          ]
        },
        {
          "name": "stderr",
          "output_type": "stream",
          "text": [
            "[Parallel(n_jobs=1)]: Done   1 out of   1 | elapsed:  4.0min remaining:    0.0s\n"
          ]
        },
        {
          "name": "stdout",
          "output_type": "stream",
          "text": [
            "[CV]  reg_alpha=0, AUC=(train=1.000, test=0.477), Accuracy=(train=0.999, test=0.666), F1=(train=0.999, test=0.666), total= 3.9min\n",
            "[CV] reg_alpha=0 .....................................................\n"
          ]
        },
        {
          "name": "stderr",
          "output_type": "stream",
          "text": [
            "[Parallel(n_jobs=1)]: Done   2 out of   2 | elapsed:  8.0min remaining:    0.0s\n"
          ]
        },
        {
          "name": "stdout",
          "output_type": "stream",
          "text": [
            "[CV]  reg_alpha=0, AUC=(train=1.000, test=0.908), Accuracy=(train=0.997, test=0.898), F1=(train=0.997, test=0.898), total= 4.0min\n",
            "[CV] reg_alpha=0 .....................................................\n",
            "[CV]  reg_alpha=0, AUC=(train=1.000, test=0.992), Accuracy=(train=0.997, test=0.911), F1=(train=0.997, test=0.911), total= 4.1min\n",
            "[CV] reg_alpha=0 .....................................................\n",
            "[CV]  reg_alpha=0, AUC=(train=1.000, test=0.996), Accuracy=(train=0.997, test=0.957), F1=(train=0.997, test=0.957), total= 4.1min\n",
            "[CV] reg_alpha=0 .....................................................\n",
            "[CV]  reg_alpha=0, AUC=(train=1.000, test=0.990), Accuracy=(train=0.997, test=0.933), F1=(train=0.997, test=0.933), total= 4.0min\n",
            "[CV] reg_alpha=0 .....................................................\n",
            "[CV]  reg_alpha=0, AUC=(train=1.000, test=0.997), Accuracy=(train=0.997, test=0.973), F1=(train=0.997, test=0.973), total= 4.0min\n",
            "[CV] reg_alpha=0 .....................................................\n",
            "[CV]  reg_alpha=0, AUC=(train=1.000, test=0.897), Accuracy=(train=0.997, test=0.089), F1=(train=0.997, test=0.089), total= 4.0min\n",
            "[CV] reg_alpha=0.001 .................................................\n",
            "[CV]  reg_alpha=0.001, AUC=(train=1.000, test=0.648), Accuracy=(train=0.998, test=0.873), F1=(train=0.998, test=0.873), total= 4.0min\n",
            "[CV] reg_alpha=0.001 .................................................\n",
            "[CV]  reg_alpha=0.001, AUC=(train=1.000, test=0.470), Accuracy=(train=0.999, test=0.642), F1=(train=0.999, test=0.642), total= 3.9min\n",
            "[CV] reg_alpha=0.001 .................................................\n",
            "[CV]  reg_alpha=0.001, AUC=(train=1.000, test=0.900), Accuracy=(train=0.997, test=0.869), F1=(train=0.997, test=0.869), total= 4.0min\n",
            "[CV] reg_alpha=0.001 .................................................\n",
            "[CV]  reg_alpha=0.001, AUC=(train=1.000, test=0.992), Accuracy=(train=0.997, test=0.918), F1=(train=0.997, test=0.918), total= 4.0min\n",
            "[CV] reg_alpha=0.001 .................................................\n",
            "[CV]  reg_alpha=0.001, AUC=(train=1.000, test=0.996), Accuracy=(train=0.997, test=0.957), F1=(train=0.997, test=0.957), total= 4.0min\n",
            "[CV] reg_alpha=0.001 .................................................\n",
            "[CV]  reg_alpha=0.001, AUC=(train=1.000, test=0.991), Accuracy=(train=0.997, test=0.934), F1=(train=0.997, test=0.934), total= 4.0min\n",
            "[CV] reg_alpha=0.001 .................................................\n",
            "[CV]  reg_alpha=0.001, AUC=(train=1.000, test=0.997), Accuracy=(train=0.997, test=0.973), F1=(train=0.997, test=0.973), total= 4.0min\n",
            "[CV] reg_alpha=0.001 .................................................\n",
            "[CV]  reg_alpha=0.001, AUC=(train=1.000, test=0.890), Accuracy=(train=0.997, test=0.090), F1=(train=0.997, test=0.090), total= 4.0min\n",
            "[CV] reg_alpha=0.005 .................................................\n",
            "[CV]  reg_alpha=0.005, AUC=(train=1.000, test=0.648), Accuracy=(train=0.998, test=0.865), F1=(train=0.998, test=0.865), total= 3.9min\n",
            "[CV] reg_alpha=0.005 .................................................\n",
            "[CV]  reg_alpha=0.005, AUC=(train=1.000, test=0.471), Accuracy=(train=0.999, test=0.647), F1=(train=0.999, test=0.647), total= 3.9min\n",
            "[CV] reg_alpha=0.005 .................................................\n",
            "[CV]  reg_alpha=0.005, AUC=(train=1.000, test=0.901), Accuracy=(train=0.997, test=0.881), F1=(train=0.997, test=0.881), total= 4.0min\n",
            "[CV] reg_alpha=0.005 .................................................\n",
            "[CV]  reg_alpha=0.005, AUC=(train=1.000, test=0.992), Accuracy=(train=0.997, test=0.921), F1=(train=0.997, test=0.921), total= 4.0min\n",
            "[CV] reg_alpha=0.005 .................................................\n",
            "[CV]  reg_alpha=0.005, AUC=(train=1.000, test=0.996), Accuracy=(train=0.997, test=0.960), F1=(train=0.997, test=0.960), total= 4.0min\n",
            "[CV] reg_alpha=0.005 .................................................\n",
            "[CV]  reg_alpha=0.005, AUC=(train=1.000, test=0.992), Accuracy=(train=0.997, test=0.936), F1=(train=0.997, test=0.936), total= 4.0min\n",
            "[CV] reg_alpha=0.005 .................................................\n",
            "[CV]  reg_alpha=0.005, AUC=(train=1.000, test=0.997), Accuracy=(train=0.997, test=0.974), F1=(train=0.997, test=0.974), total= 4.0min\n",
            "[CV] reg_alpha=0.005 .................................................\n",
            "[CV]  reg_alpha=0.005, AUC=(train=1.000, test=0.896), Accuracy=(train=0.997, test=0.089), F1=(train=0.997, test=0.089), total= 4.0min\n",
            "[CV] reg_alpha=0.01 ..................................................\n",
            "[CV]  reg_alpha=0.01, AUC=(train=1.000, test=0.660), Accuracy=(train=0.998, test=0.899), F1=(train=0.998, test=0.899), total= 4.0min\n",
            "[CV] reg_alpha=0.01 ..................................................\n",
            "[CV]  reg_alpha=0.01, AUC=(train=1.000, test=0.476), Accuracy=(train=0.999, test=0.667), F1=(train=0.999, test=0.667), total= 3.9min\n",
            "[CV] reg_alpha=0.01 ..................................................\n",
            "[CV]  reg_alpha=0.01, AUC=(train=1.000, test=0.902), Accuracy=(train=0.997, test=0.885), F1=(train=0.997, test=0.885), total= 4.0min\n",
            "[CV] reg_alpha=0.01 ..................................................\n",
            "[CV]  reg_alpha=0.01, AUC=(train=1.000, test=0.991), Accuracy=(train=0.997, test=0.912), F1=(train=0.997, test=0.912), total= 4.0min\n",
            "[CV] reg_alpha=0.01 ..................................................\n",
            "[CV]  reg_alpha=0.01, AUC=(train=1.000, test=0.996), Accuracy=(train=0.997, test=0.948), F1=(train=0.997, test=0.948), total= 4.0min\n",
            "[CV] reg_alpha=0.01 ..................................................\n",
            "[CV]  reg_alpha=0.01, AUC=(train=1.000, test=0.992), Accuracy=(train=0.997, test=0.937), F1=(train=0.997, test=0.937), total= 4.0min\n",
            "[CV] reg_alpha=0.01 ..................................................\n",
            "[CV]  reg_alpha=0.01, AUC=(train=1.000, test=0.996), Accuracy=(train=0.997, test=0.971), F1=(train=0.997, test=0.971), total= 4.0min\n",
            "[CV] reg_alpha=0.01 ..................................................\n",
            "[CV]  reg_alpha=0.01, AUC=(train=1.000, test=0.888), Accuracy=(train=0.997, test=0.090), F1=(train=0.997, test=0.090), total= 4.0min\n",
            "[CV] reg_alpha=0.05 ..................................................\n",
            "[CV]  reg_alpha=0.05, AUC=(train=1.000, test=0.655), Accuracy=(train=0.998, test=0.889), F1=(train=0.998, test=0.889), total= 4.0min\n",
            "[CV] reg_alpha=0.05 ..................................................\n",
            "[CV]  reg_alpha=0.05, AUC=(train=1.000, test=0.478), Accuracy=(train=0.999, test=0.661), F1=(train=0.999, test=0.661), total= 3.9min\n",
            "[CV] reg_alpha=0.05 ..................................................\n",
            "[CV]  reg_alpha=0.05, AUC=(train=1.000, test=0.905), Accuracy=(train=0.998, test=0.894), F1=(train=0.998, test=0.894), total= 4.0min\n",
            "[CV] reg_alpha=0.05 ..................................................\n",
            "[CV]  reg_alpha=0.05, AUC=(train=1.000, test=0.991), Accuracy=(train=0.997, test=0.904), F1=(train=0.997, test=0.904), total= 4.0min\n",
            "[CV] reg_alpha=0.05 ..................................................\n",
            "[CV]  reg_alpha=0.05, AUC=(train=1.000, test=0.996), Accuracy=(train=0.997, test=0.949), F1=(train=0.997, test=0.949), total= 4.0min\n",
            "[CV] reg_alpha=0.05 ..................................................\n",
            "[CV]  reg_alpha=0.05, AUC=(train=1.000, test=0.992), Accuracy=(train=0.997, test=0.932), F1=(train=0.997, test=0.932), total= 4.0min\n",
            "[CV] reg_alpha=0.05 ..................................................\n",
            "[CV]  reg_alpha=0.05, AUC=(train=1.000, test=0.997), Accuracy=(train=0.997, test=0.970), F1=(train=0.997, test=0.970), total= 4.0min\n",
            "[CV] reg_alpha=0.05 ..................................................\n",
            "[CV]  reg_alpha=0.05, AUC=(train=1.000, test=0.892), Accuracy=(train=0.997, test=0.089), F1=(train=0.997, test=0.089), total= 4.0min\n"
          ]
        },
        {
          "name": "stderr",
          "output_type": "stream",
          "text": [
            "[Parallel(n_jobs=1)]: Done  40 out of  40 | elapsed: 161.7min finished\n"
          ]
        },
        {
          "name": "stdout",
          "output_type": "stream",
          "text": [
            "\n",
            " Time taken: 2 hours 46 minutes and 21.7 seconds.\n"
          ]
        }
      ]
    },
    {
      "cell_type": "code",
      "metadata": {
        "colab": {
          "base_uri": "https://localhost:8080/"
        },
        "id": "-AFIaMFUDVhM",
        "outputId": "a5a458ba-cbbc-451a-871d-12303ec7df47"
      },
      "source": [
        "gsearch7.best_params_, gsearch7.best_score_\n"
      ],
      "execution_count": null,
      "outputs": [
        {
          "data": {
            "text/plain": [
              "({'reg_alpha': 0.05}, 0.8630979987057692)"
            ]
          },
          "execution_count": 27,
          "metadata": {},
          "output_type": "execute_result"
        }
      ]
    },
    {
      "cell_type": "markdown",
      "metadata": {
        "id": "710t8rcJDVhN"
      },
      "source": [
        "## **G. reg_lambda**"
      ]
    },
    {
      "cell_type": "code",
      "metadata": {
        "id": "88y0InwgDVhN"
      },
      "source": [
        "xgb8 = XGBClassifier(scale_pos_weight = 1,reg_alpha= 0.05, stopping_metric='log_loss',keep_cross_validation_predictions=True, objective='binary:logistic', nfolds=3, seed= -1,max_depth= 15,gamma=0.0,colsample_bytree =0.6,subsample=0.6)\n",
        "parameters8 = {\n",
        "    'reg_lambda':[0, 0.001, 0.005, 0.01, 0.05]\n",
        "}\n",
        "scoring8 = {'AUC': 'roc_auc', 'Accuracy': make_scorer(accuracy_score), 'F1':make_scorer(f1_score, average='micro')}"
      ],
      "execution_count": null,
      "outputs": []
    },
    {
      "cell_type": "code",
      "metadata": {
        "colab": {
          "base_uri": "https://localhost:8080/"
        },
        "id": "ATl5b9aNDVhN",
        "outputId": "084e1b5f-9060-414c-9eb0-d0ca27ac2dcf"
      },
      "source": [
        "\n",
        "start_time = timer(None) # timing starts from this point for \"start_time\" variable\n",
        "gsearch8 = GridSearchCV(estimator=xgb8,param_grid=parameters8,scoring=scoring8, cv=8, verbose=3, refit='AUC', return_train_score=True)\n",
        "gsearch8.fit(X,Y)\n",
        "timer(start_time) # timing ends here for \"start_time\" variable"
      ],
      "execution_count": null,
      "outputs": [
        {
          "output_type": "stream",
          "name": "stdout",
          "text": [
            "Fitting 8 folds for each of 5 candidates, totalling 40 fits\n",
            "[CV] reg_lambda=0 ....................................................\n"
          ]
        },
        {
          "output_type": "stream",
          "name": "stderr",
          "text": [
            "[Parallel(n_jobs=1)]: Using backend SequentialBackend with 1 concurrent workers.\n"
          ]
        },
        {
          "output_type": "stream",
          "name": "stdout",
          "text": [
            "[CV]  reg_lambda=0, AUC=(train=1.000, test=0.639), Accuracy=(train=0.999, test=0.821), F1=(train=0.999, test=0.821), total= 3.6min\n",
            "[CV] reg_lambda=0 ....................................................\n"
          ]
        },
        {
          "output_type": "stream",
          "name": "stderr",
          "text": [
            "[Parallel(n_jobs=1)]: Done   1 out of   1 | elapsed:  3.7min remaining:    0.0s\n"
          ]
        },
        {
          "output_type": "stream",
          "name": "stdout",
          "text": [
            "[CV]  reg_lambda=0, AUC=(train=1.000, test=0.443), Accuracy=(train=1.000, test=0.498), F1=(train=1.000, test=0.498), total= 3.6min\n",
            "[CV] reg_lambda=0 ....................................................\n"
          ]
        },
        {
          "output_type": "stream",
          "name": "stderr",
          "text": [
            "[Parallel(n_jobs=1)]: Done   2 out of   2 | elapsed:  7.3min remaining:    0.0s\n"
          ]
        },
        {
          "output_type": "stream",
          "name": "stdout",
          "text": [
            "[CV]  reg_lambda=0, AUC=(train=1.000, test=0.910), Accuracy=(train=0.999, test=0.899), F1=(train=0.999, test=0.899), total= 3.6min\n",
            "[CV] reg_lambda=0 ....................................................\n",
            "[CV]  reg_lambda=0, AUC=(train=1.000, test=0.993), Accuracy=(train=0.998, test=0.926), F1=(train=0.998, test=0.926), total= 3.7min\n",
            "[CV] reg_lambda=0 ....................................................\n",
            "[CV]  reg_lambda=0, AUC=(train=1.000, test=0.996), Accuracy=(train=0.998, test=0.959), F1=(train=0.998, test=0.959), total= 3.7min\n",
            "[CV] reg_lambda=0 ....................................................\n",
            "[CV]  reg_lambda=0, AUC=(train=1.000, test=0.992), Accuracy=(train=0.998, test=0.937), F1=(train=0.998, test=0.937), total= 3.7min\n",
            "[CV] reg_lambda=0 ....................................................\n",
            "[CV]  reg_lambda=0, AUC=(train=1.000, test=0.998), Accuracy=(train=0.998, test=0.978), F1=(train=0.998, test=0.978), total= 3.7min\n",
            "[CV] reg_lambda=0 ....................................................\n",
            "[CV]  reg_lambda=0, AUC=(train=1.000, test=0.868), Accuracy=(train=0.998, test=0.089), F1=(train=0.998, test=0.089), total= 3.7min\n",
            "[CV] reg_lambda=0.001 ................................................\n",
            "[CV]  reg_lambda=0.001, AUC=(train=1.000, test=0.631), Accuracy=(train=0.999, test=0.818), F1=(train=0.999, test=0.818), total= 3.6min\n",
            "[CV] reg_lambda=0.001 ................................................\n",
            "[CV]  reg_lambda=0.001, AUC=(train=1.000, test=0.454), Accuracy=(train=1.000, test=0.591), F1=(train=1.000, test=0.591), total= 3.6min\n",
            "[CV] reg_lambda=0.001 ................................................\n",
            "[CV]  reg_lambda=0.001, AUC=(train=1.000, test=0.909), Accuracy=(train=0.999, test=0.914), F1=(train=0.999, test=0.914), total= 3.6min\n",
            "[CV] reg_lambda=0.001 ................................................\n",
            "[CV]  reg_lambda=0.001, AUC=(train=1.000, test=0.994), Accuracy=(train=0.998, test=0.932), F1=(train=0.998, test=0.932), total= 3.7min\n",
            "[CV] reg_lambda=0.001 ................................................\n",
            "[CV]  reg_lambda=0.001, AUC=(train=1.000, test=0.997), Accuracy=(train=0.998, test=0.962), F1=(train=0.998, test=0.962), total= 3.7min\n",
            "[CV] reg_lambda=0.001 ................................................\n",
            "[CV]  reg_lambda=0.001, AUC=(train=1.000, test=0.993), Accuracy=(train=0.998, test=0.934), F1=(train=0.998, test=0.934), total= 3.7min\n",
            "[CV] reg_lambda=0.001 ................................................\n",
            "[CV]  reg_lambda=0.001, AUC=(train=1.000, test=0.997), Accuracy=(train=0.998, test=0.974), F1=(train=0.998, test=0.974), total= 3.7min\n",
            "[CV] reg_lambda=0.001 ................................................\n",
            "[CV]  reg_lambda=0.001, AUC=(train=1.000, test=0.883), Accuracy=(train=0.998, test=0.090), F1=(train=0.998, test=0.090), total= 3.7min\n",
            "[CV] reg_lambda=0.005 ................................................\n",
            "[CV]  reg_lambda=0.005, AUC=(train=1.000, test=0.635), Accuracy=(train=0.999, test=0.806), F1=(train=0.999, test=0.806), total= 3.6min\n",
            "[CV] reg_lambda=0.005 ................................................\n",
            "[CV]  reg_lambda=0.005, AUC=(train=1.000, test=0.469), Accuracy=(train=1.000, test=0.611), F1=(train=1.000, test=0.611), total= 3.6min\n",
            "[CV] reg_lambda=0.005 ................................................\n",
            "[CV]  reg_lambda=0.005, AUC=(train=1.000, test=0.901), Accuracy=(train=0.999, test=0.884), F1=(train=0.999, test=0.884), total= 3.6min\n",
            "[CV] reg_lambda=0.005 ................................................\n",
            "[CV]  reg_lambda=0.005, AUC=(train=1.000, test=0.993), Accuracy=(train=0.998, test=0.927), F1=(train=0.998, test=0.927), total= 3.7min\n",
            "[CV] reg_lambda=0.005 ................................................\n",
            "[CV]  reg_lambda=0.005, AUC=(train=1.000, test=0.996), Accuracy=(train=0.998, test=0.959), F1=(train=0.998, test=0.959), total= 3.7min\n",
            "[CV] reg_lambda=0.005 ................................................\n",
            "[CV]  reg_lambda=0.005, AUC=(train=1.000, test=0.993), Accuracy=(train=0.998, test=0.939), F1=(train=0.998, test=0.939), total= 3.7min\n",
            "[CV] reg_lambda=0.005 ................................................\n",
            "[CV]  reg_lambda=0.005, AUC=(train=1.000, test=0.997), Accuracy=(train=0.998, test=0.977), F1=(train=0.998, test=0.977), total= 3.7min\n",
            "[CV] reg_lambda=0.005 ................................................\n",
            "[CV]  reg_lambda=0.005, AUC=(train=1.000, test=0.883), Accuracy=(train=0.998, test=0.089), F1=(train=0.998, test=0.089), total= 3.7min\n",
            "[CV] reg_lambda=0.01 .................................................\n",
            "[CV]  reg_lambda=0.01, AUC=(train=1.000, test=0.615), Accuracy=(train=0.999, test=0.762), F1=(train=0.999, test=0.762), total= 3.6min\n",
            "[CV] reg_lambda=0.01 .................................................\n",
            "[CV]  reg_lambda=0.01, AUC=(train=1.000, test=0.451), Accuracy=(train=1.000, test=0.560), F1=(train=1.000, test=0.560), total= 3.6min\n",
            "[CV] reg_lambda=0.01 .................................................\n",
            "[CV]  reg_lambda=0.01, AUC=(train=1.000, test=0.901), Accuracy=(train=0.999, test=0.873), F1=(train=0.999, test=0.873), total= 3.6min\n",
            "[CV] reg_lambda=0.01 .................................................\n",
            "[CV]  reg_lambda=0.01, AUC=(train=1.000, test=0.993), Accuracy=(train=0.998, test=0.921), F1=(train=0.998, test=0.921), total= 3.7min\n",
            "[CV] reg_lambda=0.01 .................................................\n",
            "[CV]  reg_lambda=0.01, AUC=(train=1.000, test=0.996), Accuracy=(train=0.998, test=0.957), F1=(train=0.998, test=0.957), total= 3.7min\n",
            "[CV] reg_lambda=0.01 .................................................\n",
            "[CV]  reg_lambda=0.01, AUC=(train=1.000, test=0.993), Accuracy=(train=0.998, test=0.940), F1=(train=0.998, test=0.940), total= 3.6min\n",
            "[CV] reg_lambda=0.01 .................................................\n",
            "[CV]  reg_lambda=0.01, AUC=(train=1.000, test=0.997), Accuracy=(train=0.998, test=0.973), F1=(train=0.998, test=0.973), total= 3.7min\n",
            "[CV] reg_lambda=0.01 .................................................\n",
            "[CV]  reg_lambda=0.01, AUC=(train=1.000, test=0.869), Accuracy=(train=0.998, test=0.089), F1=(train=0.998, test=0.089), total= 3.7min\n",
            "[CV] reg_lambda=0.05 .................................................\n",
            "[CV]  reg_lambda=0.05, AUC=(train=1.000, test=0.623), Accuracy=(train=0.999, test=0.791), F1=(train=0.999, test=0.791), total= 3.6min\n",
            "[CV] reg_lambda=0.05 .................................................\n",
            "[CV]  reg_lambda=0.05, AUC=(train=1.000, test=0.465), Accuracy=(train=1.000, test=0.600), F1=(train=1.000, test=0.600), total= 3.6min\n",
            "[CV] reg_lambda=0.05 .................................................\n",
            "[CV]  reg_lambda=0.05, AUC=(train=1.000, test=0.911), Accuracy=(train=0.999, test=0.900), F1=(train=0.999, test=0.900), total= 3.6min\n",
            "[CV] reg_lambda=0.05 .................................................\n",
            "[CV]  reg_lambda=0.05, AUC=(train=1.000, test=0.994), Accuracy=(train=0.998, test=0.917), F1=(train=0.998, test=0.917), total= 3.7min\n",
            "[CV] reg_lambda=0.05 .................................................\n",
            "[CV]  reg_lambda=0.05, AUC=(train=1.000, test=0.997), Accuracy=(train=0.998, test=0.954), F1=(train=0.998, test=0.954), total= 3.7min\n",
            "[CV] reg_lambda=0.05 .................................................\n",
            "[CV]  reg_lambda=0.05, AUC=(train=1.000, test=0.993), Accuracy=(train=0.998, test=0.936), F1=(train=0.998, test=0.936), total= 3.7min\n",
            "[CV] reg_lambda=0.05 .................................................\n",
            "[CV]  reg_lambda=0.05, AUC=(train=1.000, test=0.997), Accuracy=(train=0.998, test=0.973), F1=(train=0.998, test=0.973), total= 3.7min\n",
            "[CV] reg_lambda=0.05 .................................................\n",
            "[CV]  reg_lambda=0.05, AUC=(train=1.000, test=0.872), Accuracy=(train=0.998, test=0.089), F1=(train=0.998, test=0.089), total= 3.7min\n"
          ]
        },
        {
          "output_type": "stream",
          "name": "stderr",
          "text": [
            "[Parallel(n_jobs=1)]: Done  40 out of  40 | elapsed: 148.1min finished\n"
          ]
        },
        {
          "output_type": "stream",
          "name": "stdout",
          "text": [
            "\n",
            " Time taken: 2 hours 32 minutes and 19.69 seconds.\n"
          ]
        }
      ]
    },
    {
      "cell_type": "code",
      "metadata": {
        "colab": {
          "base_uri": "https://localhost:8080/"
        },
        "id": "ZpDrb3NaDVhN",
        "outputId": "4c498555-de00-4d1f-ef34-f0e10e109b23"
      },
      "source": [
        "gsearch8.best_params_, gsearch8.best_score_\n"
      ],
      "execution_count": null,
      "outputs": [
        {
          "output_type": "execute_result",
          "data": {
            "text/plain": [
              "({'reg_lambda': 0.005}, 0.8585399838647257)"
            ]
          },
          "metadata": {},
          "execution_count": 27
        }
      ]
    },
    {
      "cell_type": "code",
      "metadata": {
        "id": "MMJahAhrDVhO"
      },
      "source": [
        ""
      ],
      "execution_count": null,
      "outputs": []
    },
    {
      "cell_type": "markdown",
      "metadata": {
        "id": "Ccub9nlxDVhO"
      },
      "source": [
        "## **H. Learning_rate y cv** \n"
      ]
    },
    {
      "cell_type": "markdown",
      "metadata": {
        "id": "n5OW-5EXDVhO"
      },
      "source": [
        "### **H.1. For 2,3,5,8 and 10 cv partitions**\n",
        "\n",
        "\n"
      ]
    },
    {
      "cell_type": "code",
      "metadata": {
        "colab": {
          "base_uri": "https://localhost:8080/"
        },
        "id": "m4yJs_-fDVhO",
        "outputId": "7034d2f0-cda6-4766-fb9f-e1e0fccbb44e"
      },
      "source": [
        "cv=[2,3,5,8,10] \n",
        "scores,tiempo,param=[],[],[]\n",
        "for crosval in cv:\n",
        "  \n",
        "  start_time = timer(None)\n",
        "  parameters = {\n",
        "      \"eta\":[0.01,0.1,1, 1.5] \n",
        "  }\n",
        "  scoring = {'AUC': 'roc_auc', 'Accuracy': make_scorer(accuracy_score), 'F1':make_scorer(f1_score, average='micro')}\n",
        "  xgb = XGBClassifier(scale_pos_weight = 1,reg_alpha= 0.05, stopping_metric='log_loss',keep_cross_validation_predictions=True, objective='binary:logistic', nfolds=3, seed= -1,max_depth= 15,gamma=0.0,colsample_bytree =0.6,subsample=0.6)\n",
        "  gsearch = GridSearchCV(estimator=xgb,param_grid=parameters,scoring=scoring, cv=crosval, refit='AUC', return_train_score=True)\n",
        "  gsearch.fit(X,Y)\n",
        "  scores.append(np.round((gsearch.best_score_*100),2))\n",
        "  h,m,s=timer(start_time)\n",
        "  tiempo.append((h+(m/60)+(s/3600)))\n",
        "  lrate=gsearch.best_params_\n",
        "  param.append(lrate['eta'])\n",
        "  print('Con CV:',crosval)\n",
        "  print('Mejores parámetros',gsearch.best_params_)\n",
        "  print('Mejor score',gsearch.best_score_)\n",
        "  print('Mejores evaluaciones',gsearch.scorer_)\n",
        "  print('-'*40)\n",
        "    \n",
        "  \n",
        "   # timing starts from this point for \"start_time\" variable"
      ],
      "execution_count": null,
      "outputs": [
        {
          "output_type": "stream",
          "name": "stdout",
          "text": [
            "\n",
            " Time taken: 0 hours 21 minutes and 43.93 seconds.\n",
            "Con CV: 2\n",
            "Mejores parámetros {'eta': 0.01}\n",
            "Mejor score 0.6931025855375578\n",
            "Mejores evaluaciones {'AUC': make_scorer(roc_auc_score, needs_threshold=True), 'Accuracy': make_scorer(accuracy_score), 'F1': make_scorer(f1_score, average=micro)}\n",
            "----------------------------------------\n",
            "\n",
            " Time taken: 0 hours 40 minutes and 54.93 seconds.\n",
            "Con CV: 3\n",
            "Mejores parámetros {'eta': 0.01}\n",
            "Mejor score 0.7293348809182305\n",
            "Mejores evaluaciones {'AUC': make_scorer(roc_auc_score, needs_threshold=True), 'Accuracy': make_scorer(accuracy_score), 'F1': make_scorer(f1_score, average=micro)}\n",
            "----------------------------------------\n",
            "\n",
            " Time taken: 1 hours 19 minutes and 21.82 seconds.\n",
            "Con CV: 5\n",
            "Mejores parámetros {'eta': 0.01}\n",
            "Mejor score 0.8101216746305558\n",
            "Mejores evaluaciones {'AUC': make_scorer(roc_auc_score, needs_threshold=True), 'Accuracy': make_scorer(accuracy_score), 'F1': make_scorer(f1_score, average=micro)}\n",
            "----------------------------------------\n",
            "\n",
            " Time taken: 2 hours 17 minutes and 19.78 seconds.\n",
            "Con CV: 8\n",
            "Mejores parámetros {'eta': 0.01}\n",
            "Mejor score 0.8630979987057692\n",
            "Mejores evaluaciones {'AUC': make_scorer(roc_auc_score, needs_threshold=True), 'Accuracy': make_scorer(accuracy_score), 'F1': make_scorer(f1_score, average=micro)}\n",
            "----------------------------------------\n",
            "\n",
            " Time taken: 2 hours 55 minutes and 57.61 seconds.\n",
            "Con CV: 10\n",
            "Mejores parámetros {'eta': 0.01}\n",
            "Mejor score 0.8895969154573982\n",
            "Mejores evaluaciones {'AUC': make_scorer(roc_auc_score, needs_threshold=True), 'Accuracy': make_scorer(accuracy_score), 'F1': make_scorer(f1_score, average=micro)}\n",
            "----------------------------------------\n"
          ]
        }
      ]
    },
    {
      "cell_type": "markdown",
      "metadata": {
        "id": "JKmt_Iw3DVhR"
      },
      "source": [
        "### **Analysis obtained from the GridSearch with respect to the number of partitions**"
      ]
    },
    {
      "cell_type": "code",
      "metadata": {
        "colab": {
          "base_uri": "https://localhost:8080/",
          "height": 637
        },
        "id": "nOGcADVwxRLr",
        "outputId": "e60c1ac2-172f-4c58-adc9-83b94b2c93b1"
      },
      "source": [
        "plt.style.use('ggplot')\n",
        "fig, ax1 = plt.subplots(figsize=(10,8))\n",
        "my_colors = 'rgbkymc'\n",
        "#color = 'tab:blue'\n",
        "ax1.set_xlabel('# de Particiones CV')\n",
        "ax1.set_ylabel('Tiempo de ejecución [h]')\n",
        "ax1.bar(cv, tiempo, color=my_colors)\n",
        "ax1.tick_params(axis='y')\n",
        "ax1.grid(False)\n",
        "ax1.tick_params(axis='both',colors='black') \n",
        "ax2 = ax1.twinx()  # instantiate a second axes that shares the same x-axis\n",
        "\n",
        "color = 'tab:red'\n",
        "ax2.set_ylabel('Score - ROC_AUC')  # we already handled the x-label with ax1\n",
        "ax2.plot(cv, scores, marker='o', color='black', label='ROC_AUC para cada CV')\n",
        "ax2.tick_params(axis='y')\n",
        "ax2.legend(loc='upper left')\n",
        "ax2.tick_params(axis='both',colors='black') \n",
        "rects = ax1.patches\n",
        "\n",
        "# Make some labels.\n",
        "\n",
        "for rect, label in zip(rects, param):\n",
        "    height = rect.get_height()\n",
        "    ax1.text(\n",
        "        rect.get_x() + rect.get_width(), height , label, ha=\"center\", va=\"bottom\", fontweight='bold'\n",
        "    )\n",
        "\n",
        "#plt.show()\n",
        "\n",
        "\n",
        "fig.tight_layout()  # otherwise the right y-label is slightly clipped\n",
        "plt.savefig(\"gridxgb_ss01.svg\", dpi=600)\n",
        "#plt.show()"
      ],
      "execution_count": null,
      "outputs": [
        {
          "output_type": "stream",
          "name": "stderr",
          "text": [
            "/usr/local/lib/python3.7/dist-packages/ipykernel_launcher.py:7: MatplotlibDeprecationWarning: Using a string of single character colors as a color sequence is deprecated. Use an explicit list instead.\n",
            "  import sys\n"
          ]
        },
        {
          "output_type": "display_data",
          "data": {
            "image/png": "[encoded data removed]",
            "text/plain": [
              "<Figure size 720x576 with 2 Axes>"
            ]
          },
          "metadata": {}
        }
      ]
    },
    {
      "cell_type": "code",
      "metadata": {
        "colab": {
          "base_uri": "https://localhost:8080/",
          "height": 33
        },
        "id": "K8ub9Ealk-y8",
        "outputId": "f6aadb0d-48a6-42c5-f290-4901e2f02dee"
      },
      "source": [
        "plt.savefig(\"gbm_n01.jpg\", dpi=600)\n"
      ],
      "execution_count": null,
      "outputs": [
        {
          "output_type": "display_data",
          "data": {
            "text/plain": [
              "<Figure size 640x480 with 0 Axes>"
            ]
          },
          "metadata": {}
        }
      ]
    },
    {
      "cell_type": "markdown",
      "metadata": {
        "id": "BvdZbc3-DVhS"
      },
      "source": [
        "cambiar por tiempo de ejecución\n",
        "hacer entrenamiento también con gridsearch y luego comparar con gradientB solo "
      ]
    },
    {
      "cell_type": "markdown",
      "metadata": {
        "id": "Ge6_E8cIDVhS"
      },
      "source": [
        "## **I. GridSearch training**"
      ]
    },
    {
      "cell_type": "code",
      "metadata": {
        "id": "SdmeyB0IDVhS"
      },
      "source": [
        "X_train, X_test, y_train, y_test = train_test_split(X, Y, train_size=0.75, random_state=42, stratify=Y)"
      ],
      "execution_count": null,
      "outputs": []
    },
    {
      "cell_type": "code",
      "metadata": {
        "colab": {
          "base_uri": "https://localhost:8080/"
        },
        "id": "Xd-jqjvRDVhS",
        "outputId": "ffcfdf83-fb8d-49d3-a309-9822b40c3091"
      },
      "source": [
        "start_time = timer(None)\n",
        "parameters = {\n",
        "    \"eta\":[0.01,0.1,1]  \n",
        "}\n",
        "scoring = {'AUC': 'roc_auc', 'Accuracy': make_scorer(accuracy_score), 'F1':make_scorer(f1_score, average='micro')}\n",
        "xgb = XGBClassifier(scale_pos_weight = 1,reg_alpha= 0.05, stopping_metric='log_loss',keep_cross_validation_predictions=True, objective='binary:logistic', nfolds=3, seed= -1,max_depth= 15,gamma=0.0,colsample_bytree =0.6,subsample=0.6)\n",
        "gsearch = GridSearchCV(estimator=xgb,param_grid=parameters,scoring=scoring, cv=10, refit='AUC', return_train_score=True, verbose=3)\n",
        "gsearch.fit(X_train,y_train)\n",
        "print('Mejores parámetros para 10 splits',gsearch.best_params_)\n",
        "print('Mejor score',gsearch.best_score_)\n",
        "print('Evaluadores',gsearch.scorer_)\n",
        "  \n",
        "\n",
        " # timing starts from this point for \"start_time\" variable\n",
        "timer(start_time)"
      ],
      "execution_count": null,
      "outputs": [
        {
          "output_type": "stream",
          "name": "stdout",
          "text": [
            "Fitting 10 folds for each of 3 candidates, totalling 30 fits\n",
            "[CV] eta=0.01 ........................................................\n"
          ]
        },
        {
          "output_type": "stream",
          "name": "stderr",
          "text": [
            "[Parallel(n_jobs=1)]: Using backend SequentialBackend with 1 concurrent workers.\n"
          ]
        },
        {
          "output_type": "stream",
          "name": "stdout",
          "text": [
            "[CV]  eta=0.01, AUC=(train=1.000, test=0.992), Accuracy=(train=0.997, test=0.987), F1=(train=0.997, test=0.987), total= 3.2min\n",
            "[CV] eta=0.01 ........................................................\n"
          ]
        },
        {
          "output_type": "stream",
          "name": "stderr",
          "text": [
            "[Parallel(n_jobs=1)]: Done   1 out of   1 | elapsed:  3.2min remaining:    0.0s\n"
          ]
        },
        {
          "output_type": "stream",
          "name": "stdout",
          "text": [
            "[CV]  eta=0.01, AUC=(train=1.000, test=0.989), Accuracy=(train=0.997, test=0.985), F1=(train=0.997, test=0.985), total= 3.1min\n",
            "[CV] eta=0.01 ........................................................\n"
          ]
        },
        {
          "output_type": "stream",
          "name": "stderr",
          "text": [
            "[Parallel(n_jobs=1)]: Done   2 out of   2 | elapsed:  6.4min remaining:    0.0s\n"
          ]
        },
        {
          "output_type": "stream",
          "name": "stdout",
          "text": [
            "[CV]  eta=0.01, AUC=(train=1.000, test=0.990), Accuracy=(train=0.997, test=0.987), F1=(train=0.997, test=0.987), total= 3.2min\n",
            "[CV] eta=0.01 ........................................................\n",
            "[CV]  eta=0.01, AUC=(train=1.000, test=0.980), Accuracy=(train=0.997, test=0.984), F1=(train=0.997, test=0.984), total= 3.2min\n",
            "[CV] eta=0.01 ........................................................\n",
            "[CV]  eta=0.01, AUC=(train=1.000, test=0.991), Accuracy=(train=0.997, test=0.988), F1=(train=0.997, test=0.988), total= 3.2min\n",
            "[CV] eta=0.01 ........................................................\n",
            "[CV]  eta=0.01, AUC=(train=1.000, test=0.990), Accuracy=(train=0.997, test=0.987), F1=(train=0.997, test=0.987), total= 3.3min\n",
            "[CV] eta=0.01 ........................................................\n",
            "[CV]  eta=0.01, AUC=(train=1.000, test=0.993), Accuracy=(train=0.997, test=0.986), F1=(train=0.997, test=0.986), total= 3.3min\n",
            "[CV] eta=0.01 ........................................................\n",
            "[CV]  eta=0.01, AUC=(train=1.000, test=0.988), Accuracy=(train=0.997, test=0.986), F1=(train=0.997, test=0.986), total= 3.3min\n",
            "[CV] eta=0.01 ........................................................\n",
            "[CV]  eta=0.01, AUC=(train=1.000, test=0.991), Accuracy=(train=0.997, test=0.986), F1=(train=0.997, test=0.986), total= 3.2min\n",
            "[CV] eta=0.01 ........................................................\n",
            "[CV]  eta=0.01, AUC=(train=1.000, test=0.995), Accuracy=(train=0.997, test=0.986), F1=(train=0.997, test=0.986), total= 3.3min\n",
            "[CV] eta=0.1 .........................................................\n",
            "[CV]  eta=0.1, AUC=(train=1.000, test=0.992), Accuracy=(train=0.997, test=0.987), F1=(train=0.997, test=0.987), total= 3.3min\n",
            "[CV] eta=0.1 .........................................................\n",
            "[CV]  eta=0.1, AUC=(train=1.000, test=0.989), Accuracy=(train=0.997, test=0.985), F1=(train=0.997, test=0.985), total= 3.5min\n",
            "[CV] eta=0.1 .........................................................\n",
            "[CV]  eta=0.1, AUC=(train=1.000, test=0.990), Accuracy=(train=0.997, test=0.987), F1=(train=0.997, test=0.987), total= 3.7min\n",
            "[CV] eta=0.1 .........................................................\n",
            "[CV]  eta=0.1, AUC=(train=1.000, test=0.980), Accuracy=(train=0.997, test=0.984), F1=(train=0.997, test=0.984), total= 3.4min\n",
            "[CV] eta=0.1 .........................................................\n",
            "[CV]  eta=0.1, AUC=(train=1.000, test=0.991), Accuracy=(train=0.997, test=0.988), F1=(train=0.997, test=0.988), total= 3.4min\n",
            "[CV] eta=0.1 .........................................................\n",
            "[CV]  eta=0.1, AUC=(train=1.000, test=0.990), Accuracy=(train=0.997, test=0.987), F1=(train=0.997, test=0.987), total= 3.3min\n",
            "[CV] eta=0.1 .........................................................\n",
            "[CV]  eta=0.1, AUC=(train=1.000, test=0.993), Accuracy=(train=0.997, test=0.986), F1=(train=0.997, test=0.986), total= 3.3min\n",
            "[CV] eta=0.1 .........................................................\n",
            "[CV]  eta=0.1, AUC=(train=1.000, test=0.988), Accuracy=(train=0.997, test=0.986), F1=(train=0.997, test=0.986), total= 3.2min\n",
            "[CV] eta=0.1 .........................................................\n",
            "[CV]  eta=0.1, AUC=(train=1.000, test=0.991), Accuracy=(train=0.997, test=0.986), F1=(train=0.997, test=0.986), total= 3.4min\n",
            "[CV] eta=0.1 .........................................................\n",
            "[CV]  eta=0.1, AUC=(train=1.000, test=0.995), Accuracy=(train=0.997, test=0.986), F1=(train=0.997, test=0.986), total= 3.3min\n",
            "[CV] eta=1 ...........................................................\n",
            "[CV]  eta=1, AUC=(train=1.000, test=0.992), Accuracy=(train=0.997, test=0.987), F1=(train=0.997, test=0.987), total= 3.3min\n",
            "[CV] eta=1 ...........................................................\n",
            "[CV]  eta=1, AUC=(train=1.000, test=0.989), Accuracy=(train=0.997, test=0.985), F1=(train=0.997, test=0.985), total= 3.2min\n",
            "[CV] eta=1 ...........................................................\n",
            "[CV]  eta=1, AUC=(train=1.000, test=0.990), Accuracy=(train=0.997, test=0.987), F1=(train=0.997, test=0.987), total= 3.2min\n",
            "[CV] eta=1 ...........................................................\n",
            "[CV]  eta=1, AUC=(train=1.000, test=0.980), Accuracy=(train=0.997, test=0.984), F1=(train=0.997, test=0.984), total= 3.2min\n",
            "[CV] eta=1 ...........................................................\n",
            "[CV]  eta=1, AUC=(train=1.000, test=0.991), Accuracy=(train=0.997, test=0.988), F1=(train=0.997, test=0.988), total= 3.2min\n",
            "[CV] eta=1 ...........................................................\n",
            "[CV]  eta=1, AUC=(train=1.000, test=0.990), Accuracy=(train=0.997, test=0.987), F1=(train=0.997, test=0.987), total= 3.2min\n",
            "[CV] eta=1 ...........................................................\n",
            "[CV]  eta=1, AUC=(train=1.000, test=0.993), Accuracy=(train=0.997, test=0.986), F1=(train=0.997, test=0.986), total= 3.2min\n",
            "[CV] eta=1 ...........................................................\n",
            "[CV]  eta=1, AUC=(train=1.000, test=0.988), Accuracy=(train=0.997, test=0.986), F1=(train=0.997, test=0.986), total= 3.2min\n",
            "[CV] eta=1 ...........................................................\n",
            "[CV]  eta=1, AUC=(train=1.000, test=0.991), Accuracy=(train=0.997, test=0.986), F1=(train=0.997, test=0.986), total= 3.2min\n",
            "[CV] eta=1 ...........................................................\n",
            "[CV]  eta=1, AUC=(train=1.000, test=0.995), Accuracy=(train=0.997, test=0.986), F1=(train=0.997, test=0.986), total= 3.2min\n"
          ]
        },
        {
          "output_type": "stream",
          "name": "stderr",
          "text": [
            "[Parallel(n_jobs=1)]: Done  30 out of  30 | elapsed: 99.2min finished\n"
          ]
        },
        {
          "output_type": "stream",
          "name": "stdout",
          "text": [
            "Mejores parámetros para 10 splits {'eta': 0.01}\n",
            "Mejor score 0.9898916968515301\n",
            "Evaluadores {'AUC': make_scorer(roc_auc_score, needs_threshold=True), 'Accuracy': make_scorer(accuracy_score), 'F1': make_scorer(f1_score, average=micro)}\n",
            "\n",
            " Time taken: 1 hours 42 minutes and 50.02 seconds.\n"
          ]
        },
        {
          "output_type": "execute_result",
          "data": {
            "text/plain": [
              "(1.0, 42.0, 50.02266400000008)"
            ]
          },
          "metadata": {},
          "execution_count": 23
        }
      ]
    },
    {
      "cell_type": "code",
      "metadata": {
        "colab": {
          "base_uri": "https://localhost:8080/"
        },
        "id": "kVTRBi9mDVhS",
        "outputId": "44a34197-8d92-4a78-c40c-613108be6a1e"
      },
      "source": [
        "# print best parameter after tuning \n",
        "print(gsearch.best_params_) \n",
        "grid_predictions = gsearch.predict(X_test) \n",
        "   \n",
        "# print classification report \n",
        "print(classification_report(y_test, grid_predictions)) "
      ],
      "execution_count": null,
      "outputs": [
        {
          "output_type": "stream",
          "name": "stdout",
          "text": [
            "{'eta': 0.01}\n",
            "              precision    recall  f1-score   support\n",
            "\n",
            "           0       0.98      1.00      0.99     17760\n",
            "           1       0.99      0.84      0.91      1746\n",
            "\n",
            "    accuracy                           0.99     19506\n",
            "   macro avg       0.99      0.92      0.95     19506\n",
            "weighted avg       0.99      0.99      0.98     19506\n",
            "\n"
          ]
        }
      ]
    },
    {
      "cell_type": "code",
      "metadata": {
        "colab": {
          "base_uri": "https://localhost:8080/",
          "height": 562
        },
        "id": "yVwsI7DLDVhT",
        "outputId": "fbe73b1e-2324-4123-dc70-3f8a78e64bb4"
      },
      "source": [
        "plt.style.use('seaborn-poster')\n",
        "y_pred_proba = gsearch.predict_proba(X_test)[::,1]\n",
        "fpr, tpr, _ = roc_curve(y_test,  y_pred_proba)\n",
        "auc = roc_auc_score(y_test, y_pred_proba)\n",
        "\n",
        "#create ROC curve\n",
        "plt.plot(fpr,tpr,label=\"AUC=\"+str(auc))\n",
        "plt.ylabel('Verdaderos positivos')\n",
        "plt.xlabel('Falsos positivos')\n",
        "plt.legend(loc=4)\n",
        "plt.show()"
      ],
      "execution_count": null,
      "outputs": [
        {
          "output_type": "display_data",
          "data": {
            "image/png": "[encoded data removed]",
            "text/plain": [
              "<Figure size 921.6x633.6 with 1 Axes>"
            ]
          },
          "metadata": {}
        }
      ]
    },
    {
      "cell_type": "code",
      "metadata": {
        "colab": {
          "base_uri": "https://localhost:8080/",
          "height": 562
        },
        "id": "E2bY9TnyDVhT",
        "outputId": "1a96d30d-1fbc-406f-9d82-14b1e7a70f58"
      },
      "source": [
        "plot_confusion_matrix(gsearch, X_test, y_test, display_labels=['No fraude',\n",
        "                                                          'Fraude'],\n",
        "                     normalize='true', cmap='inferno')\n",
        "plt.grid(False)"
      ],
      "execution_count": null,
      "outputs": [
        {
          "output_type": "display_data",
          "data": {
            "image/png": "[encoded data removed]",
            "text/plain": [
              "<Figure size 921.6x633.6 with 2 Axes>"
            ]
          },
          "metadata": {}
        }
      ]
    },
    {
      "cell_type": "code",
      "metadata": {
        "id": "dh-dURDdDVhT"
      },
      "source": [
        "# save model to file\n",
        "pickle.dump(gsearch, open(\"gridxgb_ss01.pickle.dat\", \"wb\"))"
      ],
      "execution_count": null,
      "outputs": []
    },
    {
      "cell_type": "markdown",
      "metadata": {
        "id": "nZLFHYZvO4c9"
      },
      "source": [
        "As a final conclusion, the following can be said: First, that despite the difference of both models with respect to the calculated accuracy and partitions during the GridSearch, the truth is that both present a quite similar ROC_AUC curve (with decimal differences). Regarding the correlation matrix found to compare the prediction of both models, we obtain that XGBoost predicts better the fraud label (only 16% wrong) while with GradientBoosting this percentage increases a little to 17% of misclassification. \n"
      ]
    }
  ]
}