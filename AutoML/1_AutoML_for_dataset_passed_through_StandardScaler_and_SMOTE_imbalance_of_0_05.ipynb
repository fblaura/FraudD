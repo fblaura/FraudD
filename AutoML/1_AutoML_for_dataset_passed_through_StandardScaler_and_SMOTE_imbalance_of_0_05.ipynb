{
  "nbformat": 4,
  "nbformat_minor": 0,
  "metadata": {
    "colab": {
      "name": "1. AutoML for dataset passed through StandardScaler and SMOTE imbalance of 0.05.ipynb",
      "provenance": [],
      "collapsed_sections": []
    },
    "kernelspec": {
      "name": "python3",
      "display_name": "Python 3"
    },
    "language_info": {
      "name": "python"
    }
  },
  "cells": [
    {
      "cell_type": "markdown",
      "metadata": {
        "id": "nXYS8PiXxYGZ"
      },
      "source": [
        "\n",
        "[![Open In Colab](https://colab.research.google.com/assets/colab-badge.svg)](https://colab.research.google.com/github/googlecolab/colabtools/blob/master/notebooks/colab-github-demo.ipynb)"
      ]
    },
    {
      "cell_type": "markdown",
      "metadata": {
        "id": "H-kf111kmpkL"
      },
      "source": [
        " **Please make sure to install the following libraries in order for the entire notebook to work.**\n",
        "\n",
        "AutoML H20 is a process that assists in the selection of training models, which compares the performance of models by comparing metrics, which are then reflected in a leaderboard. In order to get an initial idea of which supervised or unsupervised models are ideal for our case (fraud detection) this type of training is used. The data used for this exercise is coded, preprocessed and passed through a technique to adjust the unequal distribution of the classes of the dataset, this technique is called SMOTE (Synthetic Minority Over-sampling Technique), as a rate to adjust the imbalance is chosen: **0.05**. Inside the folder you will find AutoML executions for different scaling methods and SMOTE rates. \n"
      ]
    },
    {
      "cell_type": "markdown",
      "metadata": {
        "id": "Svvpz-R9j48p"
      },
      "source": [
        "# **1. Libraries Installation**"
      ]
    },
    {
      "cell_type": "code",
      "metadata": {
        "colab": {
          "base_uri": "https://localhost:8080/"
        },
        "id": "-tIF10Y2EemF",
        "outputId": "326c09c7-2493-44b5-a0df-bf7110c9048d"
      },
      "source": [
        "! pip install requests\n",
        "! pip install tabulate\n",
        "! pip install \"colorama>=0.3.8\"\n",
        "! pip install future"
      ],
      "execution_count": null,
      "outputs": [
        {
          "output_type": "stream",
          "name": "stdout",
          "text": [
            "Requirement already satisfied: requests in /usr/local/lib/python3.7/dist-packages (2.23.0)\n",
            "Requirement already satisfied: chardet<4,>=3.0.2 in /usr/local/lib/python3.7/dist-packages (from requests) (3.0.4)\n",
            "Requirement already satisfied: urllib3!=1.25.0,!=1.25.1,<1.26,>=1.21.1 in /usr/local/lib/python3.7/dist-packages (from requests) (1.24.3)\n",
            "Requirement already satisfied: idna<3,>=2.5 in /usr/local/lib/python3.7/dist-packages (from requests) (2.10)\n",
            "Requirement already satisfied: certifi>=2017.4.17 in /usr/local/lib/python3.7/dist-packages (from requests) (2021.5.30)\n",
            "Requirement already satisfied: tabulate in /usr/local/lib/python3.7/dist-packages (0.8.9)\n",
            "Collecting colorama>=0.3.8\n",
            "  Downloading colorama-0.4.4-py2.py3-none-any.whl (16 kB)\n",
            "Installing collected packages: colorama\n",
            "Successfully installed colorama-0.4.4\n",
            "Requirement already satisfied: future in /usr/local/lib/python3.7/dist-packages (0.16.0)\n"
          ]
        }
      ]
    },
    {
      "cell_type": "code",
      "metadata": {
        "id": "-J4DD_fCD1NX",
        "colab": {
          "base_uri": "https://localhost:8080/"
        },
        "outputId": "7028051d-5128-4602-c418-af44ef2e0787"
      },
      "source": [
        "!pip install gdown"
      ],
      "execution_count": null,
      "outputs": [
        {
          "output_type": "stream",
          "name": "stdout",
          "text": [
            "Requirement already satisfied: gdown in /usr/local/lib/python3.7/dist-packages (3.6.4)\n",
            "Requirement already satisfied: six in /usr/local/lib/python3.7/dist-packages (from gdown) (1.15.0)\n",
            "Requirement already satisfied: tqdm in /usr/local/lib/python3.7/dist-packages (from gdown) (4.62.0)\n",
            "Requirement already satisfied: requests in /usr/local/lib/python3.7/dist-packages (from gdown) (2.23.0)\n",
            "Requirement already satisfied: chardet<4,>=3.0.2 in /usr/local/lib/python3.7/dist-packages (from requests->gdown) (3.0.4)\n",
            "Requirement already satisfied: idna<3,>=2.5 in /usr/local/lib/python3.7/dist-packages (from requests->gdown) (2.10)\n",
            "Requirement already satisfied: urllib3!=1.25.0,!=1.25.1,<1.26,>=1.21.1 in /usr/local/lib/python3.7/dist-packages (from requests->gdown) (1.24.3)\n",
            "Requirement already satisfied: certifi>=2017.4.17 in /usr/local/lib/python3.7/dist-packages (from requests->gdown) (2021.5.30)\n"
          ]
        }
      ]
    },
    {
      "cell_type": "code",
      "metadata": {
        "colab": {
          "base_uri": "https://localhost:8080/"
        },
        "id": "YbGvKPthEpA_",
        "outputId": "13d8235c-8fd8-4315-daab-bebb1e288133"
      },
      "source": [
        "! pip install -f http://h2o-release.s3.amazonaws.com/h2o/latest_stable_Py.html h2o\n"
      ],
      "execution_count": null,
      "outputs": [
        {
          "output_type": "stream",
          "name": "stdout",
          "text": [
            "Looking in links: http://h2o-release.s3.amazonaws.com/h2o/latest_stable_Py.html\n",
            "\u001b[33mWARNING: The repository located at h2o-release.s3.amazonaws.com is not a trusted or secure host and is being ignored. If this repository is available via HTTPS we recommend you use HTTPS instead, otherwise you may silence this warning and allow it anyway with '--trusted-host h2o-release.s3.amazonaws.com'.\u001b[0m\n",
            "Collecting h2o\n",
            "  Downloading h2o-3.32.1.7.tar.gz (170.0 MB)\n",
            "\u001b[K     |████████████████████████████████| 170.0 MB 11 kB/s \n",
            "\u001b[?25hRequirement already satisfied: requests in /usr/local/lib/python3.7/dist-packages (from h2o) (2.23.0)\n",
            "Requirement already satisfied: tabulate in /usr/local/lib/python3.7/dist-packages (from h2o) (0.8.9)\n",
            "Requirement already satisfied: future in /usr/local/lib/python3.7/dist-packages (from h2o) (0.16.0)\n",
            "Requirement already satisfied: colorama>=0.3.8 in /usr/local/lib/python3.7/dist-packages (from h2o) (0.4.4)\n",
            "Requirement already satisfied: certifi>=2017.4.17 in /usr/local/lib/python3.7/dist-packages (from requests->h2o) (2021.5.30)\n",
            "Requirement already satisfied: chardet<4,>=3.0.2 in /usr/local/lib/python3.7/dist-packages (from requests->h2o) (3.0.4)\n",
            "Requirement already satisfied: urllib3!=1.25.0,!=1.25.1,<1.26,>=1.21.1 in /usr/local/lib/python3.7/dist-packages (from requests->h2o) (1.24.3)\n",
            "Requirement already satisfied: idna<3,>=2.5 in /usr/local/lib/python3.7/dist-packages (from requests->h2o) (2.10)\n",
            "Building wheels for collected packages: h2o\n",
            "  Building wheel for h2o (setup.py) ... \u001b[?25l\u001b[?25hdone\n",
            "  Created wheel for h2o: filename=h2o-3.32.1.7-py2.py3-none-any.whl size=170040343 sha256=cf63cab7ecfbf34a3e261a573ee90682b6431f0f2e900af21de974ab06b464e8\n",
            "  Stored in directory: /root/.cache/pip/wheels/6e/60/8f/172971bebc94f839b69460f46c9a5fc9e7e88457453bb149d7\n",
            "Successfully built h2o\n",
            "Installing collected packages: h2o\n",
            "Successfully installed h2o-3.32.1.7\n"
          ]
        }
      ]
    },
    {
      "cell_type": "code",
      "metadata": {
        "id": "gw8PyQEitzup",
        "colab": {
          "base_uri": "https://localhost:8080/"
        },
        "outputId": "cf33e167-85b6-47dd-a606-7867ebe0ed24"
      },
      "source": [
        "import pandas as pd\n",
        "import seaborn as sns\n",
        "import matplotlib.pyplot as plt\n",
        "import numpy as np\n",
        "import math\n",
        "from pandas_profiling import ProfileReport\n",
        "from collections import Counter\n",
        "from imblearn.over_sampling import SMOTE\n",
        "from sklearn.preprocessing import Normalizer, StandardScaler"
      ],
      "execution_count": null,
      "outputs": [
        {
          "output_type": "stream",
          "name": "stderr",
          "text": [
            "/usr/local/lib/python3.7/dist-packages/sklearn/externals/six.py:31: FutureWarning: The module is deprecated in version 0.21 and will be removed in version 0.23 since we've dropped support for Python 2.7. Please rely on the official version of six (https://pypi.org/project/six/).\n",
            "  \"(https://pypi.org/project/six/).\", FutureWarning)\n",
            "/usr/local/lib/python3.7/dist-packages/sklearn/utils/deprecation.py:144: FutureWarning: The sklearn.neighbors.base module is  deprecated in version 0.22 and will be removed in version 0.24. The corresponding classes / functions should instead be imported from sklearn.neighbors. Anything that cannot be imported from sklearn.neighbors is now part of the private API.\n",
            "  warnings.warn(message, FutureWarning)\n"
          ]
        }
      ]
    },
    {
      "cell_type": "code",
      "metadata": {
        "id": "EieqVgs2irYZ"
      },
      "source": [
        "from google.colab import files"
      ],
      "execution_count": null,
      "outputs": []
    },
    {
      "cell_type": "code",
      "metadata": {
        "id": "SkC_cg6225-_"
      },
      "source": [
        "from sklearn.model_selection import StratifiedKFold, RandomizedSearchCV\n",
        "from datetime import datetime\n",
        "import xgboost as xgb\n",
        "from xgboost.sklearn import XGBClassifier\n",
        "from sklearn.model_selection import cross_validate, GridSearchCV   #Additional scklearn functions\n",
        "#from sklearn.grid_search import GridSearchCV   #Perforing grid search\n",
        "from sklearn.metrics import accuracy_score, roc_auc_score\n",
        "from matplotlib.pylab import rcParams"
      ],
      "execution_count": null,
      "outputs": []
    },
    {
      "cell_type": "markdown",
      "metadata": {
        "id": "_9rl6xx7kSQ3"
      },
      "source": [
        "# **2. h2o initialization**"
      ]
    },
    {
      "cell_type": "code",
      "metadata": {
        "id": "ZHN58wakCftU"
      },
      "source": [
        "import h2o\n",
        "from h2o.automl import H2OAutoML\n"
      ],
      "execution_count": null,
      "outputs": []
    },
    {
      "cell_type": "code",
      "metadata": {
        "colab": {
          "base_uri": "https://localhost:8080/",
          "height": 514
        },
        "id": "TpcA9HlrES2l",
        "outputId": "f20ecb8c-dbd7-48ff-87f9-1dab17c1ed89"
      },
      "source": [
        "h2o.init()"
      ],
      "execution_count": null,
      "outputs": [
        {
          "output_type": "stream",
          "name": "stdout",
          "text": [
            "Checking whether there is an H2O instance running at http://localhost:54321 ..... not found.\n",
            "Attempting to start a local H2O server...\n",
            "  Java Version: openjdk version \"11.0.11\" 2021-04-20; OpenJDK Runtime Environment (build 11.0.11+9-Ubuntu-0ubuntu2.18.04); OpenJDK 64-Bit Server VM (build 11.0.11+9-Ubuntu-0ubuntu2.18.04, mixed mode, sharing)\n",
            "  Starting server from /usr/local/lib/python3.7/dist-packages/h2o/backend/bin/h2o.jar\n",
            "  Ice root: /tmp/tmpy6zvgoyx\n",
            "  JVM stdout: /tmp/tmpy6zvgoyx/h2o_unknownUser_started_from_python.out\n",
            "  JVM stderr: /tmp/tmpy6zvgoyx/h2o_unknownUser_started_from_python.err\n",
            "  Server is running at http://127.0.0.1:54321\n",
            "Connecting to H2O server at http://127.0.0.1:54321 ... successful.\n"
          ]
        },
        {
          "output_type": "display_data",
          "data": {
            "text/html": [
              "<div style=\"overflow:auto\"><table style=\"width:50%\"><tr><td>H2O_cluster_uptime:</td>\n",
              "<td>02 secs</td></tr>\n",
              "<tr><td>H2O_cluster_timezone:</td>\n",
              "<td>Etc/UTC</td></tr>\n",
              "<tr><td>H2O_data_parsing_timezone:</td>\n",
              "<td>UTC</td></tr>\n",
              "<tr><td>H2O_cluster_version:</td>\n",
              "<td>3.32.1.7</td></tr>\n",
              "<tr><td>H2O_cluster_version_age:</td>\n",
              "<td>5 days </td></tr>\n",
              "<tr><td>H2O_cluster_name:</td>\n",
              "<td>H2O_from_python_unknownUser_pi4wqk</td></tr>\n",
              "<tr><td>H2O_cluster_total_nodes:</td>\n",
              "<td>1</td></tr>\n",
              "<tr><td>H2O_cluster_free_memory:</td>\n",
              "<td>3.172 Gb</td></tr>\n",
              "<tr><td>H2O_cluster_total_cores:</td>\n",
              "<td>2</td></tr>\n",
              "<tr><td>H2O_cluster_allowed_cores:</td>\n",
              "<td>2</td></tr>\n",
              "<tr><td>H2O_cluster_status:</td>\n",
              "<td>accepting new members, healthy</td></tr>\n",
              "<tr><td>H2O_connection_url:</td>\n",
              "<td>http://127.0.0.1:54321</td></tr>\n",
              "<tr><td>H2O_connection_proxy:</td>\n",
              "<td>{\"http\": null, \"https\": null}</td></tr>\n",
              "<tr><td>H2O_internal_security:</td>\n",
              "<td>False</td></tr>\n",
              "<tr><td>H2O_API_Extensions:</td>\n",
              "<td>Amazon S3, XGBoost, Algos, AutoML, Core V3, TargetEncoder, Core V4</td></tr>\n",
              "<tr><td>Python_version:</td>\n",
              "<td>3.7.11 final</td></tr></table></div>"
            ],
            "text/plain": [
              "--------------------------  ------------------------------------------------------------------\n",
              "H2O_cluster_uptime:         02 secs\n",
              "H2O_cluster_timezone:       Etc/UTC\n",
              "H2O_data_parsing_timezone:  UTC\n",
              "H2O_cluster_version:        3.32.1.7\n",
              "H2O_cluster_version_age:    5 days\n",
              "H2O_cluster_name:           H2O_from_python_unknownUser_pi4wqk\n",
              "H2O_cluster_total_nodes:    1\n",
              "H2O_cluster_free_memory:    3.172 Gb\n",
              "H2O_cluster_total_cores:    2\n",
              "H2O_cluster_allowed_cores:  2\n",
              "H2O_cluster_status:         accepting new members, healthy\n",
              "H2O_connection_url:         http://127.0.0.1:54321\n",
              "H2O_connection_proxy:       {\"http\": null, \"https\": null}\n",
              "H2O_internal_security:      False\n",
              "H2O_API_Extensions:         Amazon S3, XGBoost, Algos, AutoML, Core V3, TargetEncoder, Core V4\n",
              "Python_version:             3.7.11 final\n",
              "--------------------------  ------------------------------------------------------------------"
            ]
          },
          "metadata": {}
        }
      ]
    },
    {
      "cell_type": "markdown",
      "metadata": {
        "id": "CrbdBj8kx5bu"
      },
      "source": [
        "# **3. Dataset initialization**"
      ]
    },
    {
      "cell_type": "markdown",
      "metadata": {
        "id": "JNZJBbk1ykbd"
      },
      "source": [
        "Due to the size of the dataset it is not possible to download the file from Github, as an alternative a link is used to download the dataset from Drive. ***Remember that this dataset is no longer a representation of the raw data due to its previous preprocessing.*** "
      ]
    },
    {
      "cell_type": "code",
      "metadata": {
        "id": "PP1EdeaCUkQY",
        "colab": {
          "base_uri": "https://localhost:8080/"
        },
        "outputId": "83896dad-0982-4859-f171-4c3f60d2ffbb"
      },
      "source": [
        "#train_fill\n",
        "!gdown --id 1HS9g0Fk2Vx-t_gO_OB72AOh3gxnYsBYl"
      ],
      "execution_count": null,
      "outputs": [
        {
          "output_type": "stream",
          "name": "stdout",
          "text": [
            "Downloading...\n",
            "From: https://drive.google.com/uc?id=1HS9g0Fk2Vx-t_gO_OB72AOh3gxnYsBYl\n",
            "To: /content/X_trainss_005.csv\n",
            "656MB [00:03, 175MB/s]\n"
          ]
        }
      ]
    },
    {
      "cell_type": "code",
      "metadata": {
        "id": "ib3rT7xqCl4G"
      },
      "source": [
        "X_trainss_005 = pd.read_csv('/content/X_trainss_005.csv')"
      ],
      "execution_count": null,
      "outputs": []
    },
    {
      "cell_type": "code",
      "metadata": {
        "id": "ewtyzbg5n_Ld"
      },
      "source": [
        "def timer(start_time=None):\n",
        "    if not start_time:\n",
        "        start_time = datetime.now()\n",
        "        return start_time\n",
        "    elif start_time:\n",
        "        thour, temp_sec = divmod((datetime.now() - start_time).total_seconds(), 3600)\n",
        "        tmin, tsec = divmod(temp_sec, 60)\n",
        "        print('\\n Time taken: %i hours %i minutes and %s seconds.' % (thour, tmin, round(tsec, 2)))"
      ],
      "execution_count": null,
      "outputs": []
    },
    {
      "cell_type": "markdown",
      "metadata": {
        "id": "J9UiQpCvFxQV"
      },
      "source": [
        "## **AutoML para dataset con escalamiento StandardScaler e imbalanceo con SMOTE 0.05 y métrica de clasif.**"
      ]
    },
    {
      "cell_type": "code",
      "metadata": {
        "colab": {
          "base_uri": "https://localhost:8080/"
        },
        "id": "If0be2cRFsyp",
        "outputId": "1fa34838-f517-4498-fdf6-fe2cdf942e7a"
      },
      "source": [
        "hftrainss_005 = h2o.H2OFrame(X_trainss_005)\n",
        "#hftest =h2o.H2OFrame(test)"
      ],
      "execution_count": null,
      "outputs": [
        {
          "output_type": "stream",
          "name": "stdout",
          "text": [
            "Parse progress: |█████████████████████████████████████████████████████████| 100%\n"
          ]
        }
      ]
    },
    {
      "cell_type": "code",
      "metadata": {
        "id": "GSif_O0TFsyq"
      },
      "source": [
        "trainss_005, testss_005 = hftrainss_005.split_frame(ratios=[.7]) #mirar en diferentes proporciones 70/30 ... "
      ],
      "execution_count": null,
      "outputs": []
    },
    {
      "cell_type": "code",
      "metadata": {
        "id": "UmOhqelKFsyq"
      },
      "source": [
        "xss_005 = trainss_005.columns\n",
        "yss_005 = \"isFraud\"\n",
        "xss_005.remove(yss_005)"
      ],
      "execution_count": null,
      "outputs": []
    },
    {
      "cell_type": "code",
      "metadata": {
        "id": "WvmMloCKGB1j"
      },
      "source": [
        "trainss_005[yss_005] = trainss_005[yss_005].asfactor()\n"
      ],
      "execution_count": null,
      "outputs": []
    },
    {
      "cell_type": "code",
      "metadata": {
        "colab": {
          "base_uri": "https://localhost:8080/",
          "height": 391
        },
        "id": "c8tAo8wRFsyr",
        "outputId": "6f84e4c1-83cf-4072-f101-4c031d38c3de"
      },
      "source": [
        "# Run AutoML for 20 base models (limited to 1 hour max runtime by default)\n",
        "aml = H2OAutoML(max_runtime_secs = 3600*5, max_models=15, seed=1) # tres horas, ir modificando el tiempo, trabajar con 10 modelos \n",
        "# ir mirando si se necesita aumentar más modelos\n",
        "aml.train(x=xss_005, y=yss_005, training_frame=trainss_005)\n",
        "\n",
        "# View the AutoML Leaderboard\n",
        "lb = aml.leaderboard\n",
        "lb.head(rows=lb.nrows)  # Print all rows instead of default (10 rows)"
      ],
      "execution_count": null,
      "outputs": [
        {
          "output_type": "stream",
          "name": "stdout",
          "text": [
            "AutoML progress: |████████████████████████████████████████████████████████| 100%\n"
          ]
        },
        {
          "output_type": "display_data",
          "data": {
            "text/html": [
              "<table>\n",
              "<thead>\n",
              "<tr><th>model_id                                           </th><th style=\"text-align: right;\">     auc</th><th style=\"text-align: right;\">  logloss</th><th style=\"text-align: right;\">   aucpr</th><th style=\"text-align: right;\">  mean_per_class_error</th><th style=\"text-align: right;\">    rmse</th><th style=\"text-align: right;\">      mse</th></tr>\n",
              "</thead>\n",
              "<tbody>\n",
              "<tr><td>StackedEnsemble_AllModels_AutoML_20210908_151402   </td><td style=\"text-align: right;\">0.971251</td><td style=\"text-align: right;\">0.0511948</td><td style=\"text-align: right;\">0.881846</td><td style=\"text-align: right;\">              0.116172</td><td style=\"text-align: right;\">0.108641</td><td style=\"text-align: right;\">0.0118029</td></tr>\n",
              "<tr><td>StackedEnsemble_BestOfFamily_AutoML_20210908_151402</td><td style=\"text-align: right;\">0.970456</td><td style=\"text-align: right;\">0.0522655</td><td style=\"text-align: right;\">0.87748 </td><td style=\"text-align: right;\">              0.118303</td><td style=\"text-align: right;\">0.109783</td><td style=\"text-align: right;\">0.0120523</td></tr>\n",
              "<tr><td>XGBoost_grid__1_AutoML_20210908_151402_model_1     </td><td style=\"text-align: right;\">0.968008</td><td style=\"text-align: right;\">0.0577282</td><td style=\"text-align: right;\">0.872667</td><td style=\"text-align: right;\">              0.124493</td><td style=\"text-align: right;\">0.114057</td><td style=\"text-align: right;\">0.013009 </td></tr>\n",
              "<tr><td>XGBoost_grid__1_AutoML_20210908_151402_model_2     </td><td style=\"text-align: right;\">0.966334</td><td style=\"text-align: right;\">0.0579871</td><td style=\"text-align: right;\">0.865522</td><td style=\"text-align: right;\">              0.119741</td><td style=\"text-align: right;\">0.11559 </td><td style=\"text-align: right;\">0.0133612</td></tr>\n",
              "<tr><td>XGBoost_3_AutoML_20210908_151402                   </td><td style=\"text-align: right;\">0.962602</td><td style=\"text-align: right;\">0.060232 </td><td style=\"text-align: right;\">0.852959</td><td style=\"text-align: right;\">              0.123918</td><td style=\"text-align: right;\">0.118617</td><td style=\"text-align: right;\">0.01407  </td></tr>\n",
              "<tr><td>XGBoost_1_AutoML_20210908_151402                   </td><td style=\"text-align: right;\">0.961   </td><td style=\"text-align: right;\">0.0621524</td><td style=\"text-align: right;\">0.846352</td><td style=\"text-align: right;\">              0.139668</td><td style=\"text-align: right;\">0.120607</td><td style=\"text-align: right;\">0.014546 </td></tr>\n",
              "<tr><td>XGBoost_2_AutoML_20210908_151402                   </td><td style=\"text-align: right;\">0.956453</td><td style=\"text-align: right;\">0.0659372</td><td style=\"text-align: right;\">0.831369</td><td style=\"text-align: right;\">              0.152327</td><td style=\"text-align: right;\">0.12465 </td><td style=\"text-align: right;\">0.0155377</td></tr>\n",
              "<tr><td>GBM_grid__1_AutoML_20210908_151402_model_1         </td><td style=\"text-align: right;\">0.95625 </td><td style=\"text-align: right;\">0.0653361</td><td style=\"text-align: right;\">0.834416</td><td style=\"text-align: right;\">              0.140332</td><td style=\"text-align: right;\">0.123425</td><td style=\"text-align: right;\">0.0152336</td></tr>\n",
              "<tr><td>XRT_1_AutoML_20210908_151402                       </td><td style=\"text-align: right;\">0.941054</td><td style=\"text-align: right;\">0.091377 </td><td style=\"text-align: right;\">0.748418</td><td style=\"text-align: right;\">              0.191987</td><td style=\"text-align: right;\">0.149226</td><td style=\"text-align: right;\">0.0222683</td></tr>\n",
              "<tr><td>DRF_1_AutoML_20210908_151402                       </td><td style=\"text-align: right;\">0.938314</td><td style=\"text-align: right;\">0.0926814</td><td style=\"text-align: right;\">0.74253 </td><td style=\"text-align: right;\">              0.184182</td><td style=\"text-align: right;\">0.150086</td><td style=\"text-align: right;\">0.0225257</td></tr>\n",
              "<tr><td>GBM_4_AutoML_20210908_151402                       </td><td style=\"text-align: right;\">0.936984</td><td style=\"text-align: right;\">0.0858747</td><td style=\"text-align: right;\">0.773253</td><td style=\"text-align: right;\">              0.177436</td><td style=\"text-align: right;\">0.141316</td><td style=\"text-align: right;\">0.0199702</td></tr>\n",
              "<tr><td>GBM_3_AutoML_20210908_151402                       </td><td style=\"text-align: right;\">0.932329</td><td style=\"text-align: right;\">0.0869674</td><td style=\"text-align: right;\">0.75855 </td><td style=\"text-align: right;\">              0.191649</td><td style=\"text-align: right;\">0.142604</td><td style=\"text-align: right;\">0.0203358</td></tr>\n",
              "<tr><td>GBM_2_AutoML_20210908_151402                       </td><td style=\"text-align: right;\">0.931629</td><td style=\"text-align: right;\">0.0860968</td><td style=\"text-align: right;\">0.761078</td><td style=\"text-align: right;\">              0.178127</td><td style=\"text-align: right;\">0.141582</td><td style=\"text-align: right;\">0.0200454</td></tr>\n",
              "<tr><td>GBM_1_AutoML_20210908_151402                       </td><td style=\"text-align: right;\">0.926813</td><td style=\"text-align: right;\">0.0899366</td><td style=\"text-align: right;\">0.73305 </td><td style=\"text-align: right;\">              0.188394</td><td style=\"text-align: right;\">0.144794</td><td style=\"text-align: right;\">0.0209653</td></tr>\n",
              "<tr><td>GBM_5_AutoML_20210908_151402                       </td><td style=\"text-align: right;\">0.926393</td><td style=\"text-align: right;\">0.101252 </td><td style=\"text-align: right;\">0.687247</td><td style=\"text-align: right;\">              0.217063</td><td style=\"text-align: right;\">0.157495</td><td style=\"text-align: right;\">0.0248048</td></tr>\n",
              "<tr><td>DeepLearning_1_AutoML_20210908_151402              </td><td style=\"text-align: right;\">0.833205</td><td style=\"text-align: right;\">0.154333 </td><td style=\"text-align: right;\">0.433576</td><td style=\"text-align: right;\">              0.326034</td><td style=\"text-align: right;\">0.184817</td><td style=\"text-align: right;\">0.0341573</td></tr>\n",
              "<tr><td>GLM_1_AutoML_20210908_151402                       </td><td style=\"text-align: right;\">0.812486</td><td style=\"text-align: right;\">0.158977 </td><td style=\"text-align: right;\">0.313799</td><td style=\"text-align: right;\">              0.359036</td><td style=\"text-align: right;\">0.197457</td><td style=\"text-align: right;\">0.0389892</td></tr>\n",
              "</tbody>\n",
              "</table>"
            ]
          },
          "metadata": {}
        },
        {
          "output_type": "execute_result",
          "data": {
            "text/plain": [
              ""
            ]
          },
          "metadata": {},
          "execution_count": 14
        }
      ]
    },
    {
      "cell_type": "code",
      "metadata": {
        "colab": {
          "base_uri": "https://localhost:8080/",
          "height": 235
        },
        "id": "_GAj0LLSluzN",
        "outputId": "3b4f9f69-aec3-44f0-e668-8efeb979ed74"
      },
      "source": [
        "lb = h2o.automl.get_leaderboard(aml, extra_columns = 'ALL')\n",
        "lb"
      ],
      "execution_count": null,
      "outputs": [
        {
          "output_type": "display_data",
          "data": {
            "text/html": [
              "<table>\n",
              "<thead>\n",
              "<tr><th>model_id                                           </th><th style=\"text-align: right;\">     auc</th><th style=\"text-align: right;\">  logloss</th><th style=\"text-align: right;\">   aucpr</th><th style=\"text-align: right;\">  mean_per_class_error</th><th style=\"text-align: right;\">    rmse</th><th style=\"text-align: right;\">      mse</th><th style=\"text-align: right;\">  training_time_ms</th><th style=\"text-align: right;\">  predict_time_per_row_ms</th><th>algo           </th></tr>\n",
              "</thead>\n",
              "<tbody>\n",
              "<tr><td>StackedEnsemble_AllModels_AutoML_20210908_151402   </td><td style=\"text-align: right;\">0.971251</td><td style=\"text-align: right;\">0.0511948</td><td style=\"text-align: right;\">0.881846</td><td style=\"text-align: right;\">              0.116172</td><td style=\"text-align: right;\">0.108641</td><td style=\"text-align: right;\">0.0118029</td><td style=\"text-align: right;\">             16258</td><td style=\"text-align: right;\">                 0.183697</td><td>StackedEnsemble</td></tr>\n",
              "<tr><td>StackedEnsemble_BestOfFamily_AutoML_20210908_151402</td><td style=\"text-align: right;\">0.970456</td><td style=\"text-align: right;\">0.0522655</td><td style=\"text-align: right;\">0.87748 </td><td style=\"text-align: right;\">              0.118303</td><td style=\"text-align: right;\">0.109783</td><td style=\"text-align: right;\">0.0120523</td><td style=\"text-align: right;\">             13244</td><td style=\"text-align: right;\">                 0.156336</td><td>StackedEnsemble</td></tr>\n",
              "<tr><td>XGBoost_grid__1_AutoML_20210908_151402_model_1     </td><td style=\"text-align: right;\">0.968008</td><td style=\"text-align: right;\">0.0577282</td><td style=\"text-align: right;\">0.872667</td><td style=\"text-align: right;\">              0.124493</td><td style=\"text-align: right;\">0.114057</td><td style=\"text-align: right;\">0.013009 </td><td style=\"text-align: right;\">            170093</td><td style=\"text-align: right;\">                 0.017665</td><td>XGBoost        </td></tr>\n",
              "<tr><td>XGBoost_grid__1_AutoML_20210908_151402_model_2     </td><td style=\"text-align: right;\">0.966334</td><td style=\"text-align: right;\">0.0579871</td><td style=\"text-align: right;\">0.865522</td><td style=\"text-align: right;\">              0.119741</td><td style=\"text-align: right;\">0.11559 </td><td style=\"text-align: right;\">0.0133612</td><td style=\"text-align: right;\">            177478</td><td style=\"text-align: right;\">                 0.019305</td><td>XGBoost        </td></tr>\n",
              "<tr><td>XGBoost_3_AutoML_20210908_151402                   </td><td style=\"text-align: right;\">0.962602</td><td style=\"text-align: right;\">0.060232 </td><td style=\"text-align: right;\">0.852959</td><td style=\"text-align: right;\">              0.123918</td><td style=\"text-align: right;\">0.118617</td><td style=\"text-align: right;\">0.01407  </td><td style=\"text-align: right;\">             74157</td><td style=\"text-align: right;\">                 0.01497 </td><td>XGBoost        </td></tr>\n",
              "<tr><td>XGBoost_1_AutoML_20210908_151402                   </td><td style=\"text-align: right;\">0.961   </td><td style=\"text-align: right;\">0.0621524</td><td style=\"text-align: right;\">0.846352</td><td style=\"text-align: right;\">              0.139668</td><td style=\"text-align: right;\">0.120607</td><td style=\"text-align: right;\">0.014546 </td><td style=\"text-align: right;\">             77037</td><td style=\"text-align: right;\">                 0.019998</td><td>XGBoost        </td></tr>\n",
              "<tr><td>XGBoost_2_AutoML_20210908_151402                   </td><td style=\"text-align: right;\">0.956453</td><td style=\"text-align: right;\">0.0659372</td><td style=\"text-align: right;\">0.831369</td><td style=\"text-align: right;\">              0.152327</td><td style=\"text-align: right;\">0.12465 </td><td style=\"text-align: right;\">0.0155377</td><td style=\"text-align: right;\">             88883</td><td style=\"text-align: right;\">                 0.014755</td><td>XGBoost        </td></tr>\n",
              "<tr><td>GBM_grid__1_AutoML_20210908_151402_model_1         </td><td style=\"text-align: right;\">0.95625 </td><td style=\"text-align: right;\">0.0653361</td><td style=\"text-align: right;\">0.834416</td><td style=\"text-align: right;\">              0.140332</td><td style=\"text-align: right;\">0.123425</td><td style=\"text-align: right;\">0.0152336</td><td style=\"text-align: right;\">            569496</td><td style=\"text-align: right;\">                 0.104741</td><td>GBM            </td></tr>\n",
              "<tr><td>XRT_1_AutoML_20210908_151402                       </td><td style=\"text-align: right;\">0.941054</td><td style=\"text-align: right;\">0.091377 </td><td style=\"text-align: right;\">0.748418</td><td style=\"text-align: right;\">              0.191987</td><td style=\"text-align: right;\">0.149226</td><td style=\"text-align: right;\">0.0222683</td><td style=\"text-align: right;\">             88140</td><td style=\"text-align: right;\">                 0.02686 </td><td>DRF            </td></tr>\n",
              "<tr><td>DRF_1_AutoML_20210908_151402                       </td><td style=\"text-align: right;\">0.938314</td><td style=\"text-align: right;\">0.0926814</td><td style=\"text-align: right;\">0.74253 </td><td style=\"text-align: right;\">              0.184182</td><td style=\"text-align: right;\">0.150086</td><td style=\"text-align: right;\">0.0225257</td><td style=\"text-align: right;\">             87876</td><td style=\"text-align: right;\">                 0.026177</td><td>DRF            </td></tr>\n",
              "</tbody>\n",
              "</table>"
            ]
          },
          "metadata": {}
        },
        {
          "output_type": "execute_result",
          "data": {
            "text/plain": [
              ""
            ]
          },
          "metadata": {},
          "execution_count": 15
        }
      ]
    },
    {
      "cell_type": "code",
      "metadata": {
        "id": "2v47sOKsnquO"
      },
      "source": [
        ""
      ],
      "execution_count": null,
      "outputs": []
    },
    {
      "cell_type": "markdown",
      "metadata": {
        "id": "PalNSclYUK_j"
      },
      "source": [
        "# **XGB**"
      ]
    },
    {
      "cell_type": "code",
      "metadata": {
        "id": "4G4I0tgJ2wSA"
      },
      "source": [
        "Y = X_trainss_005['isFraud'].values\n",
        "X = X_trainss_005.drop(['isFraud', 'TransactionID'], axis=1)"
      ],
      "execution_count": null,
      "outputs": []
    },
    {
      "cell_type": "code",
      "metadata": {
        "id": "weuHonqYRkga"
      },
      "source": [
        "params = {\n",
        "        'min_child_weight': [1, 5, 10],\n",
        "        'gamma': [0.5, 1, 1.5, 2, 5],\n",
        "        'subsample': [0.6, 0.8, 1.0],\n",
        "        'colsample_bytree': [0.6, 0.8, 1.0],\n",
        "        'max_depth': [3, 4, 5]\n",
        "        }"
      ],
      "execution_count": null,
      "outputs": []
    },
    {
      "cell_type": "code",
      "metadata": {
        "id": "vHgj0JB0Rlit"
      },
      "source": [
        "xgb = XGBClassifier(learning_rate=0.02, n_estimators=600, objective='binary:logistic',\n",
        "                    silent=True, nthread=1)"
      ],
      "execution_count": null,
      "outputs": []
    },
    {
      "cell_type": "code",
      "metadata": {
        "colab": {
          "base_uri": "https://localhost:8080/"
        },
        "id": "TJwUWKVXR0Ht",
        "outputId": "293be361-2407-447a-a17a-7d74a848484e"
      },
      "source": [
        "folds = 3\n",
        "param_comb = 5\n",
        "\n",
        "skf = StratifiedKFold(n_splits=folds, shuffle = True, random_state = 1001)\n",
        "\n",
        "random_search = RandomizedSearchCV(xgb, param_distributions=params, n_iter=param_comb, scoring='roc_auc', n_jobs=4, cv=skf.split(X,Y), verbose=3, random_state=1001 )\n",
        "\n",
        "# Here we go\n",
        "start_time = timer(None) # timing starts from this point for \"start_time\" variable\n",
        "random_search.fit(X, Y)\n",
        "timer(start_time) # timing ends here for \"start_time\" variable"
      ],
      "execution_count": null,
      "outputs": [
        {
          "output_type": "stream",
          "name": "stdout",
          "text": [
            "Fitting 3 folds for each of 5 candidates, totalling 15 fits\n"
          ]
        },
        {
          "output_type": "stream",
          "name": "stderr",
          "text": [
            "[Parallel(n_jobs=4)]: Using backend LokyBackend with 4 concurrent workers.\n",
            "[Parallel(n_jobs=4)]: Done  15 out of  15 | elapsed: 73.0min finished\n"
          ]
        },
        {
          "output_type": "stream",
          "name": "stdout",
          "text": [
            "\n",
            " Time taken: 1 hours 25 minutes and 34.18 seconds.\n"
          ]
        }
      ]
    },
    {
      "cell_type": "code",
      "metadata": {
        "colab": {
          "base_uri": "https://localhost:8080/"
        },
        "id": "gR4qAjcuDqJN",
        "outputId": "2408e90f-fdc3-407b-9907-8ee125cb428f"
      },
      "source": [
        "print('\\n All results:')\n",
        "print(random_search.cv_results_)\n",
        "print('\\n Best estimator:')\n",
        "print(random_search.best_estimator_)\n",
        "print('\\n Best normalized gini score for %d-fold search with %d parameter combinations:' % (folds, param_comb))\n",
        "print(random_search.best_score_ * 2 - 1)\n",
        "print('\\n Best hyperparameters:')\n",
        "print(random_search.best_params_)\n",
        "results = pd.DataFrame(random_search.cv_results_)\n",
        "results.to_csv('xgb-random-grid-search-results-01.csv', index=False)"
      ],
      "execution_count": null,
      "outputs": [
        {
          "output_type": "stream",
          "name": "stdout",
          "text": [
            "\n",
            " All results:\n",
            "{'mean_fit_time': array([ 844.33210603, 1454.31477515, 1309.1265204 ,  876.15348371,\n",
            "       1030.99452996]), 'std_fit_time': array([  2.55608505,   7.32876431,  16.54380758,  15.82917313,\n",
            "       103.53052162]), 'mean_score_time': array([1.51649737, 3.16825008, 3.09268316, 3.21075368, 1.52770281]), 'std_score_time': array([0.01548288, 0.12367843, 0.02473287, 0.37132552, 0.46977241]), 'param_subsample': masked_array(data=[1.0, 0.6, 0.8, 1.0, 0.8],\n",
            "             mask=[False, False, False, False, False],\n",
            "       fill_value='?',\n",
            "            dtype=object), 'param_min_child_weight': masked_array(data=[5, 1, 5, 5, 1],\n",
            "             mask=[False, False, False, False, False],\n",
            "       fill_value='?',\n",
            "            dtype=object), 'param_max_depth': masked_array(data=[3, 5, 5, 5, 4],\n",
            "             mask=[False, False, False, False, False],\n",
            "       fill_value='?',\n",
            "            dtype=object), 'param_gamma': masked_array(data=[5, 1.5, 1, 5, 1],\n",
            "             mask=[False, False, False, False, False],\n",
            "       fill_value='?',\n",
            "            dtype=object), 'param_colsample_bytree': masked_array(data=[1.0, 0.8, 0.8, 0.6, 1.0],\n",
            "             mask=[False, False, False, False, False],\n",
            "       fill_value='?',\n",
            "            dtype=object), 'params': [{'subsample': 1.0, 'min_child_weight': 5, 'max_depth': 3, 'gamma': 5, 'colsample_bytree': 1.0}, {'subsample': 0.6, 'min_child_weight': 1, 'max_depth': 5, 'gamma': 1.5, 'colsample_bytree': 0.8}, {'subsample': 0.8, 'min_child_weight': 5, 'max_depth': 5, 'gamma': 1, 'colsample_bytree': 0.8}, {'subsample': 1.0, 'min_child_weight': 5, 'max_depth': 5, 'gamma': 5, 'colsample_bytree': 0.6}, {'subsample': 0.8, 'min_child_weight': 1, 'max_depth': 4, 'gamma': 1, 'colsample_bytree': 1.0}], 'split0_test_score': array([0.93597937, 0.96042325, 0.95647039, 0.95356419, 0.95133043]), 'split1_test_score': array([0.92872504, 0.95250195, 0.94986942, 0.94682032, 0.94439705]), 'split2_test_score': array([0.93289289, 0.95571054, 0.95333804, 0.95171198, 0.94807029]), 'mean_test_score': array([0.93253244, 0.95621191, 0.95322595, 0.95069883, 0.94793259]), 'std_test_score': array([0.00297252, 0.00325323, 0.002696  , 0.00284485, 0.00283221]), 'rank_test_score': array([5, 1, 2, 3, 4], dtype=int32)}\n",
            "\n",
            " Best estimator:\n",
            "XGBClassifier(base_score=0.5, booster='gbtree', colsample_bylevel=1,\n",
            "              colsample_bynode=1, colsample_bytree=0.8, gamma=1.5,\n",
            "              learning_rate=0.02, max_delta_step=0, max_depth=5,\n",
            "              min_child_weight=1, missing=None, n_estimators=600, n_jobs=1,\n",
            "              nthread=1, objective='binary:logistic', random_state=0,\n",
            "              reg_alpha=0, reg_lambda=1, scale_pos_weight=1, seed=None,\n",
            "              silent=True, subsample=0.6, verbosity=1)\n",
            "\n",
            " Best normalized gini score for 3-fold search with 5 parameter combinations:\n",
            "0.9124238271738798\n",
            "\n",
            " Best hyperparameters:\n",
            "{'subsample': 0.6, 'min_child_weight': 1, 'max_depth': 5, 'gamma': 1.5, 'colsample_bytree': 0.8}\n"
          ]
        }
      ]
    }
  ]
}